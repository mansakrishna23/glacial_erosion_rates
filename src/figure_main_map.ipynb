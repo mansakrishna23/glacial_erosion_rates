{
 "cells": [
  {
   "cell_type": "code",
   "execution_count": 1,
   "id": "1b5b5699",
   "metadata": {},
   "outputs": [],
   "source": [
    "import numpy as np\n",
    "import matplotlib.pyplot as plt\n",
    "import plotly.express as px\n",
    "import pandas as pd"
   ]
  },
  {
   "cell_type": "markdown",
   "id": "58a446ac",
   "metadata": {},
   "source": [
    "### Reading in the Data"
   ]
  },
  {
   "cell_type": "code",
   "execution_count": 2,
   "id": "896edcbf",
   "metadata": {},
   "outputs": [
    {
     "data": {
      "text/html": [
       "<div>\n",
       "<style scoped>\n",
       "    .dataframe tbody tr th:only-of-type {\n",
       "        vertical-align: middle;\n",
       "    }\n",
       "\n",
       "    .dataframe tbody tr th {\n",
       "        vertical-align: top;\n",
       "    }\n",
       "\n",
       "    .dataframe thead th {\n",
       "        text-align: right;\n",
       "    }\n",
       "</style>\n",
       "<table border=\"1\" class=\"dataframe\">\n",
       "  <thead>\n",
       "    <tr style=\"text-align: right;\">\n",
       "      <th></th>\n",
       "      <th>Locality</th>\n",
       "      <th>Glacier</th>\n",
       "      <th>Region</th>\n",
       "      <th>Lat</th>\n",
       "      <th>Long</th>\n",
       "      <th>Present in Main?</th>\n",
       "      <th>Notes</th>\n",
       "    </tr>\n",
       "  </thead>\n",
       "  <tbody>\n",
       "    <tr>\n",
       "      <th>0</th>\n",
       "      <td>Ajutor-3 (Ледник Аютор)</td>\n",
       "      <td>Ajutor-3</td>\n",
       "      <td>Central Asia</td>\n",
       "      <td>42.053637</td>\n",
       "      <td>-70.407176</td>\n",
       "      <td>True</td>\n",
       "      <td>NaN</td>\n",
       "    </tr>\n",
       "    <tr>\n",
       "      <th>1</th>\n",
       "      <td>Andvord Bay</td>\n",
       "      <td>Andvord Bay</td>\n",
       "      <td>Antarctica</td>\n",
       "      <td>64.833333</td>\n",
       "      <td>62.650000</td>\n",
       "      <td>True</td>\n",
       "      <td>NaN</td>\n",
       "    </tr>\n",
       "    <tr>\n",
       "      <th>2</th>\n",
       "      <td>Gulf of Alaska/St. Elias Mts</td>\n",
       "      <td>unnamed: Gulf of Alaska/St. Elias Mts</td>\n",
       "      <td>Alaska</td>\n",
       "      <td>60.264489</td>\n",
       "      <td>-139.109146</td>\n",
       "      <td>True</td>\n",
       "      <td>NaN</td>\n",
       "    </tr>\n",
       "    <tr>\n",
       "      <th>3</th>\n",
       "      <td>Gulf of Alaska/St. Elias Mts</td>\n",
       "      <td>unnamed: Gulf of Alaska/St. Elias Mts</td>\n",
       "      <td>Alaska</td>\n",
       "      <td>60.264489</td>\n",
       "      <td>-139.109146</td>\n",
       "      <td>True</td>\n",
       "      <td>NaN</td>\n",
       "    </tr>\n",
       "    <tr>\n",
       "      <th>4</th>\n",
       "      <td>Chugach–St. Elias Range</td>\n",
       "      <td>unnamed: Chugach–St. Elias Range</td>\n",
       "      <td>Alaska</td>\n",
       "      <td>61.166914</td>\n",
       "      <td>-145.333290</td>\n",
       "      <td>True</td>\n",
       "      <td>NaN</td>\n",
       "    </tr>\n",
       "    <tr>\n",
       "      <th>...</th>\n",
       "      <td>...</td>\n",
       "      <td>...</td>\n",
       "      <td>...</td>\n",
       "      <td>...</td>\n",
       "      <td>...</td>\n",
       "      <td>...</td>\n",
       "      <td>...</td>\n",
       "    </tr>\n",
       "    <tr>\n",
       "      <th>222</th>\n",
       "      <td>South Australia</td>\n",
       "      <td>Marinoan ice sheet</td>\n",
       "      <td>Australia</td>\n",
       "      <td>NaN</td>\n",
       "      <td>NaN</td>\n",
       "      <td>True</td>\n",
       "      <td>NaN</td>\n",
       "    </tr>\n",
       "    <tr>\n",
       "      <th>223</th>\n",
       "      <td>Ellery Creek</td>\n",
       "      <td>Sturtian ice sheet</td>\n",
       "      <td>Australia</td>\n",
       "      <td>NaN</td>\n",
       "      <td>NaN</td>\n",
       "      <td>True</td>\n",
       "      <td>NaN</td>\n",
       "    </tr>\n",
       "    <tr>\n",
       "      <th>224</th>\n",
       "      <td>Oman</td>\n",
       "      <td>Sturtian ice sheet</td>\n",
       "      <td>Morocco</td>\n",
       "      <td>NaN</td>\n",
       "      <td>NaN</td>\n",
       "      <td>True</td>\n",
       "      <td>NaN</td>\n",
       "    </tr>\n",
       "    <tr>\n",
       "      <th>225</th>\n",
       "      <td>Chuos Formation, N. Namibia</td>\n",
       "      <td>Sturtian ice sheet</td>\n",
       "      <td>Namibia</td>\n",
       "      <td>NaN</td>\n",
       "      <td>NaN</td>\n",
       "      <td>True</td>\n",
       "      <td>NaN</td>\n",
       "    </tr>\n",
       "    <tr>\n",
       "      <th>226</th>\n",
       "      <td>Mars</td>\n",
       "      <td>unnamed Martian glacier</td>\n",
       "      <td>NaN</td>\n",
       "      <td>NaN</td>\n",
       "      <td>NaN</td>\n",
       "      <td>True</td>\n",
       "      <td>NaN</td>\n",
       "    </tr>\n",
       "  </tbody>\n",
       "</table>\n",
       "<p>227 rows × 7 columns</p>\n",
       "</div>"
      ],
      "text/plain": [
       "                         Locality                                Glacier  \\\n",
       "0         Ajutor-3 (Ледник Аютор)                               Ajutor-3   \n",
       "1                     Andvord Bay                            Andvord Bay   \n",
       "2    Gulf of Alaska/St. Elias Mts  unnamed: Gulf of Alaska/St. Elias Mts   \n",
       "3    Gulf of Alaska/St. Elias Mts  unnamed: Gulf of Alaska/St. Elias Mts   \n",
       "4         Chugach–St. Elias Range       unnamed: Chugach–St. Elias Range   \n",
       "..                            ...                                    ...   \n",
       "222               South Australia                     Marinoan ice sheet   \n",
       "223                  Ellery Creek                     Sturtian ice sheet   \n",
       "224                          Oman                     Sturtian ice sheet   \n",
       "225   Chuos Formation, N. Namibia                     Sturtian ice sheet   \n",
       "226                          Mars                unnamed Martian glacier   \n",
       "\n",
       "           Region        Lat        Long  Present in Main? Notes  \n",
       "0    Central Asia  42.053637  -70.407176              True   NaN  \n",
       "1      Antarctica  64.833333   62.650000              True   NaN  \n",
       "2          Alaska  60.264489 -139.109146              True   NaN  \n",
       "3          Alaska  60.264489 -139.109146              True   NaN  \n",
       "4          Alaska  61.166914 -145.333290              True   NaN  \n",
       "..            ...        ...         ...               ...   ...  \n",
       "222     Australia        NaN         NaN              True   NaN  \n",
       "223     Australia        NaN         NaN              True   NaN  \n",
       "224       Morocco        NaN         NaN              True   NaN  \n",
       "225       Namibia        NaN         NaN              True   NaN  \n",
       "226           NaN        NaN         NaN              True   NaN  \n",
       "\n",
       "[227 rows x 7 columns]"
      ]
     },
     "execution_count": 2,
     "metadata": {},
     "output_type": "execute_result"
    }
   ],
   "source": [
    "world = pd.read_csv('glacial_erosion_locations3.csv')\n",
    "world"
   ]
  },
  {
   "cell_type": "code",
   "execution_count": 5,
   "id": "6204dd95",
   "metadata": {},
   "outputs": [],
   "source": [
    "# if Type is not known, replace with unknown? \n",
    "# problem_solving = []\n",
    "# for i in range(len(world)):\n",
    "#     gtype = world['Type'][i]\n",
    "#     if type(gtype)!=str:\n",
    "#         problem_solving.append('unknown')\n",
    "#     else:\n",
    "#         problem_solving.append(gtype)"
   ]
  },
  {
   "cell_type": "code",
   "execution_count": 6,
   "id": "8a27da10",
   "metadata": {},
   "outputs": [],
   "source": [
    "# world['glacier-type'] = problem_solving"
   ]
  },
  {
   "cell_type": "markdown",
   "id": "732b72de",
   "metadata": {},
   "source": [
    "### Data Pre-processing"
   ]
  },
  {
   "cell_type": "code",
   "execution_count": 32,
   "id": "c73f443e",
   "metadata": {},
   "outputs": [],
   "source": [
    "def best_map_ever(df, **kwargs):\n",
    "    \n",
    "    world = pd.DataFrame()\n",
    "    \n",
    "    world['locality'] = df['Locality']\n",
    "    world['glacier'] = df['Glacier']\n",
    "    world['region'] = df['Region']\n",
    "    \n",
    "    world['latitude'] = df['Lat']\n",
    "    world['longitude'] = df['Long']\n",
    "    \n",
    "#     world['glacier type'] = df['glacier-type']\n",
    "#     world['area'] = df['area']\n",
    "    \n",
    "    fig = px.scatter_geo(world, \n",
    "                            lat='latitude',\n",
    "                            lon='longitude',\n",
    "#                             size='area'\n",
    "                            hover_data=['region', 'locality'],\n",
    "                            hover_name=\"glacier\",\n",
    "#                             color='glacier type',\n",
    "                            **kwargs\n",
    "                           )\n",
    "    fig.update(layout={\"title\": {\"x\": 0.85, \"y\": 0.97}})\n",
    "    fig.update_layout(margin={\"r\":0,\"t\":30,\"l\":0,\"b\":10})\n",
    "    \n",
    "    return fig"
   ]
  },
  {
   "cell_type": "code",
   "execution_count": 33,
   "id": "e613fb2b",
   "metadata": {},
   "outputs": [
    {
     "data": {
      "application/vnd.plotly.v1+json": {
       "config": {
        "plotlyServerURL": "https://plot.ly"
       },
       "data": [
        {
         "customdata": [
          [
           "Central Asia",
           "Ajutor-3 (Ледник Аютор)"
          ],
          [
           "Antarctica",
           "Andvord Bay"
          ],
          [
           "Alaska",
           "Gulf of Alaska/St. Elias Mts"
          ],
          [
           "Alaska",
           "Gulf of Alaska/St. Elias Mts"
          ],
          [
           "Alaska",
           "Chugach–St. Elias Range"
          ],
          [
           "Alaska",
           "St. Elias Mountains"
          ],
          [
           "Alps, France",
           "Tinée Valley, France"
          ],
          [
           "Antarctica",
           "Antarctic peninusla"
          ],
          [
           "Antarctica",
           "Antarctic peninusla"
          ],
          [
           "Antarctica",
           "Antarctic peninusla"
          ],
          [
           "Antarctica",
           "Antarctic peninusla"
          ],
          [
           "Antarctica",
           "Antarctic peninusla"
          ],
          [
           "Antarctica",
           "Antarctic peninusla"
          ],
          [
           "Antarctica",
           "Antarctic peninusla"
          ],
          [
           "Fennoscandia",
           "Austre Brøggerbreen, Svalbard"
          ],
          [
           "Fennoscandia",
           "Austre Memurubreen, Norway"
          ],
          [
           "Alaska",
           "Bench"
          ],
          [
           "Swiss Alps",
           "Bertol Inferieur, Switzerland"
          ],
          [
           "Fennoscandia",
           "Bødalsbreen, Norway"
          ],
          [
           "Fennoscandia",
           "Bondhusbreen, Norway"
          ],
          [
           "Fennoscandia",
           "Brøggerbreen, Svalbard"
          ],
          [
           "Canadian arctic islands",
           "Cambridge F., NE Canada"
          ],
          [
           "Alaska",
           "Caroll, Goldthwait"
          ],
          [
           "Alaska",
           "Copper River, Alaska Drainage Basin"
          ],
          [
           "Canadian arctic islands",
           "Coronation F., NE Canada"
          ],
          [
           "Alaska",
           "Crillon"
          ],
          [
           "Swiss Alps",
           "Dixence, Switzerland"
          ],
          [
           "Swiss Alps",
           "Drance, Switzerland"
          ],
          [
           "Antarctica",
           "Lambert trough, East Antarctica"
          ],
          [
           "Antarctica",
           "Prydz Bay, East Antarctica"
          ],
          [
           "Fennoscandia",
           "Engabreen, Norway"
          ],
          [
           "Fennoscandia",
           "Erdalsbreen, Norway"
          ],
          [
           "Fennoscandia",
           "Erikbreen, Svalbard"
          ],
          [
           "Patagonia",
           "Europa glacier"
          ],
          [
           "Central Asia",
           "Fedchenko"
          ],
          [
           "Fennoscandia",
           "NE Svalbard margin"
          ],
          [
           "Fennoscandia",
           "SW Barents /  Bjørnøya Fan"
          ],
          [
           "Fennoscandia",
           "NW Barents / Storfjorden Fan"
          ],
          [
           "Fennoscandia",
           "Mid-Norwegian Margin"
          ],
          [
           "Fennoscandia",
           "Svalbard margin"
          ],
          [
           "Fennoscandia",
           "Troms margin"
          ],
          [
           "Swiss Alps",
           "Ferpecle, Switzerland"
          ],
          [
           "Fennoscandia",
           "Finsterwalderbreen, Svalbard"
          ],
          [
           "Swiss Alps",
           "Gomer, Switzerland"
          ],
          [
           "Alaska",
           "Grand Pac./Margerie"
          ],
          [
           "Alaska",
           "Grand Pacific"
          ],
          [
           "Greenland",
           "Greenland"
          ],
          [
           "Greenland",
           "Watson River, Greenland"
          ],
          [
           "Greenland",
           "Sermeq Kujalleq forefield, Greenland"
          ],
          [
           "Patagonia",
           "Gualas glacier"
          ],
          [
           "Fennoscandia",
           "Hannabreen, Svalbard"
          ],
          [
           "Antarctica",
           "Herbert Sound"
          ],
          [
           "Canadian rockies",
           "Hilda, Rocky Mts, Canada"
          ],
          [
           "Fennoscandia",
           "Hogbreen, Norway"
          ],
          [
           "Alaska",
           "Hubbard "
          ],
          [
           "Alaska",
           "Icy Bay"
          ],
          [
           "Central Asia",
           "IMAT"
          ],
          [
           "New Zealand",
           "Ivory, New Zealand"
          ],
          [
           "Greenland",
           "Jakobshavn Isbræ"
          ],
          [
           "Alaska",
           "Johns Hopkins"
          ],
          [
           "Iceland",
           "Jøkulská, Iceland"
          ],
          [
           "Greenland",
           "Kangerlussuaq, Greenland"
          ],
          [
           "Central Asia",
           "Karabatak"
          ],
          [
           "Fennoscandia",
           "Kongsvegen, Svalbard"
          ],
          [
           "Antarctica",
           "Lapeyrère Bay"
          ],
          [
           "Greenland",
           "Leverett Glacier, Greenland"
          ],
          [
           "Alaska",
           "Lituya/N. Crillon"
          ],
          [
           "Alaska",
           "Malaspina"
          ],
          [
           "Alaska",
           "Margerie"
          ],
          [
           "Swiss Alps",
           "Massa, Switzerland"
          ],
          [
           "Antarctica",
           "Maxwell Bay"
          ],
          [
           "Alaska",
           "McBride"
          ],
          [
           "Greenland",
           "Mikis Fjord, Greenland"
          ],
          [
           "Alaska",
           "Muir"
          ],
          [
           "Greenland",
           "Nansen Fjord, Greenland"
          ],
          [
           "Fennoscandia",
           "Nigardsbreen, Norway"
          ],
          [
           "Greenland",
           "palaeo-Jakobshavn Isbræ"
          ],
          [
           "Canadian arctic islands",
           "Pangnirmng F., NE Canada"
          ],
          [
           "Greenland",
           "Petermann catchment, Greenland"
          ],
          [
           "Central Asia",
           "Raikgt, Pakistan"
          ],
          [
           "Central Asia",
           "RGO"
          ],
          [
           "Alaska",
           "Riggs"
          ],
          [
           "Patagonia",
           "San Rafael glacier"
          ],
          [
           "Fennoscandia",
           "Sandskardfonna, Norway"
          ],
          [
           "Fennoscandia",
           "Skåtlbreen, Norway"
          ],
          [
           "Swiss Alps",
           "Stafel, Switzerland"
          ],
          [
           "Fennoscandia",
           "Steinhusflatebreen, Norway"
          ],
          [
           "Fennoscandia",
           "Tindefjellsbreen, Norway"
          ],
          [
           "Fennoscandia",
           "Trollbergsdalsbreen, Norway"
          ],
          [
           "Swiss Alps",
           "Tsidjore, Switzerland"
          ],
          [
           "Canadian arctic islands",
           "Tumbling Glacier, Baffin Island, Canada"
          ],
          [
           "Fennoscandia",
           "Tverrelvskardet, Norway"
          ],
          [
           "Alaska",
           "Variegated"
          ],
          [
           "Fennoscandia",
           "Vesledalsbreen, Norway"
          ],
          [
           "Fennoscandia",
           "Visa, Norway"
          ],
          [
           "Antarctica",
           "Pine Island Glacier"
          ],
          [
           "Antarctica",
           "Mt Murphy, Marie Byrd Land"
          ],
          [
           "Antarctica",
           "Dorrel Rock, Marie Byrd Land"
          ],
          [
           "Central Asia",
           "Zaravshanskiy"
          ],
          [
           "Greenland",
           "Eqaluit tassersuat, Infinity Lake, and Ted Lake, Greenland"
          ],
          [
           "Greenland",
           "Jakobshavn Isbræ"
          ],
          [
           "Iceland",
           "Breiðamerkurjökull"
          ],
          [
           "Antarctica",
           "Antarctic peninusla"
          ],
          [
           "France",
           "Eastern Pyrenees, France"
          ],
          [
           "British Isles",
           "Cairngorm Mountains, Scotland"
          ],
          [
           "Antarctica",
           "Antarctic peninusla"
          ],
          [
           "Alaska",
           "Wrangell-St. Elias National Park"
          ],
          [
           "Washington, USA",
           "Mt. Erie, Puget Lowland, Washington"
          ],
          [
           "Antarctica",
           "Antarctic peninusla"
          ],
          [
           "Antarctica",
           "Antarctic Peninsula"
          ],
          [
           "Antarctica",
           "Antarctic Peninsula"
          ],
          [
           "Antarctica",
           "Antarctic Peninsula"
          ],
          [
           "Antarctica",
           "Antarctic Peninsula"
          ],
          [
           "Antarctica",
           "Antarctic Peninsula"
          ],
          [
           "Antarctica",
           "Antarctic Peninsula"
          ],
          [
           "Antarctica",
           "Antarctic Peninsula"
          ],
          [
           "Antarctica",
           "Antarctic Peninsula"
          ],
          [
           "Antarctica",
           "Antarctic Peninsula"
          ],
          [
           "Antarctica",
           "Antarctic Peninsula"
          ],
          [
           "Southern Chile",
           "Patagonia"
          ],
          [
           "Southern Chile",
           "Patagonia"
          ],
          [
           "Southern Chile",
           "Patagonia"
          ],
          [
           "Southern Chile",
           "Patagonia"
          ],
          [
           "Antarctica",
           "Antarctic peninusla"
          ],
          [
           "Sweden",
           "Kebnekaise, Sweden"
          ],
          [
           "Norway",
           "Kråkenes, Norway"
          ],
          [
           "Antarctica",
           "East Antarctica"
          ],
          [
           "Oceania",
           "New Zealand "
          ],
          [
           "Romania ",
           "Retezat Mts, Southern Carpathians"
          ],
          [
           "Wisconsin, USA",
           null
          ],
          [
           "Canada",
           "British Columbia, Canada"
          ],
          [
           "Antarctica",
           "Antarctic peninusla"
          ],
          [
           "Alaska",
           "St. Elias Range"
          ],
          [
           "Antarctica",
           "Dronning Maud Land Mountains"
          ],
          [
           "Switzerland",
           "Alps, Switzerland"
          ],
          [
           "Switzerland",
           "Alps, Switzerland"
          ],
          [
           "British Columbia, Canada",
           "Klinaklini Valley, Coast Mountains"
          ],
          [
           "British Columbia, Canada",
           "Coast Mountains"
          ],
          [
           "British Columbia, Canada",
           "Southern Coast Mountains"
          ],
          [
           "Alaska",
           "Wrangell Mountains"
          ],
          [
           "Arolla series of the Dent Blanche nappe",
           "Valais, Switzerland"
          ],
          [
           "Chile",
           "Chilean Andes"
          ],
          [
           "Antarctica",
           "Wright Valley, Antarctica"
          ],
          [
           "Swiss Alps",
           "Trift"
          ],
          [
           "Alaska",
           "Taan Fjord, Icy Bay"
          ],
          [
           "East Africa",
           "Rwenzori Mountains"
          ],
          [
           "Himalayas",
           "Dudh Catchment"
          ],
          [
           "Himalayas",
           "Nar Catchment"
          ],
          [
           "Himalayas",
           "Khansar Catchment"
          ],
          [
           "Iceland",
           "NW Iceland"
          ],
          [
           "Labrador",
           "Torngat Mountains, Canada"
          ],
          [
           "Northern Europe",
           "Barents Sea-Svalbard continental margin"
          ],
          [
           "Chile",
           "Tierra del Fuego"
          ],
          [
           "Norway",
           "Norway"
          ],
          [
           "Laurentia",
           "Laurentia"
          ],
          [
           "East Antarctica",
           "Dry Valleys, East Antarctica"
          ],
          [
           "East Antarctica",
           "Dry Valleys, East Antarctica"
          ],
          [
           "Norway",
           "Norwegian margin"
          ],
          [
           "Antarctica",
           "South Shetland Islands"
          ],
          [
           "Antarctica",
           "Antarctic Peninsula"
          ],
          [
           "Antarctica",
           "Antarctic Peninsula"
          ],
          [
           "Antarctica",
           "Antarctic Peninsula"
          ],
          [
           "Antarctica",
           "Antarctic Peninsula"
          ],
          [
           "Antarctica",
           "Antarctic Peninsula"
          ],
          [
           "Antarctica",
           "Antarctic Peninsula"
          ],
          [
           "Norway",
           "Sognefjord drainage basin"
          ],
          [
           "Norway",
           "Sognefjord drainage basin"
          ],
          [
           "Norway",
           "Engabreen, Norway"
          ],
          [
           "North America",
           "Laurentia"
          ],
          [
           "North America",
           "Keewatin Peninsula Ontario"
          ],
          [
           "Alaska",
           "Muir Inlet, Glacier Bay"
          ],
          [
           "North America",
           "Laurentia"
          ],
          [
           "North America",
           "Mt. Mansfield, Vermont"
          ],
          [
           "Antarctica",
           "Shackleton Range"
          ],
          [
           "Antarctica",
           "Marie Byrd Land, Dorrel Rock"
          ],
          [
           "Antarctica",
           "Ellsworth Mountains"
          ],
          [
           "Antarctica",
           "Lambert basin"
          ],
          [
           "USA",
           "Yosemite, California"
          ],
          [
           "Oregon, USA",
           "Little Lake, Coastal Range"
          ],
          [
           "Patagonia",
           "Patagonian Andes"
          ],
          [
           "Canada",
           "Baffin Island, Canada"
          ],
          [
           "Norway",
           "Vestfjorden Norway"
          ],
          [
           "Norway",
           "Norway"
          ],
          [
           "Antarctica",
           "Antarctic Peninsula"
          ],
          [
           "Alpine",
           "Annapurna III"
          ],
          [
           "Patagonia",
           "Argentina"
          ],
          [
           "Scandinavia",
           "Norway/Sweden"
          ],
          [
           "Scotland",
           "Cairngorm Mountains"
          ],
          [
           "South Carpathian Mountains, Romania",
           "South Carpathian Mountains, Romania"
          ],
          [
           "Greenland",
           "W. Greenland"
          ],
          [
           "Southern Alps",
           "Var River Catchement"
          ],
          [
           "Swiss Alps",
           "Tsanfleuron"
          ],
          [
           "Southern French Alps",
           "France"
          ],
          [
           "Sweden",
           "Eastern Sweden"
          ],
          [
           "Sweden",
           "Forsmark/Uppland"
          ],
          [
           "Karakoram mountains",
           "Karakoram, Kashmir Region"
          ],
          [
           "Alaska",
           "Taan Fjord, Icy Bay, Alaska"
          ],
          [
           "Svalbard",
           "Van Keulenfjorden, Svalbard"
          ],
          [
           "New England",
           "New Hampshire"
          ],
          [
           "French Alps",
           "Mont Blanc massif"
          ],
          [
           "Switzerland",
           "Walensee Valley (Switzerland)"
          ],
          [
           "Swiss Alps ",
           "Central Alps"
          ],
          [
           "Austrian Alps",
           "Central Alps"
          ],
          [
           "Colorado",
           "Front Range, Colorado"
          ],
          [
           "Antarctica",
           "McMurdo Sound–Dry Valleys (Southern Victoria Land)"
          ],
          [
           "United Kingdom",
           "UK/Scotland"
          ],
          [
           "North Central Baffin Island",
           "Baffin Island"
          ],
          [
           "United Kingdom",
           "UK/Britain"
          ],
          [
           "Himalayas",
           null
          ],
          [
           "Himalayas",
           null
          ],
          [
           "Himalayas",
           null
          ],
          [
           "Himalayas",
           null
          ],
          [
           "Himalayas",
           null
          ],
          [
           "Himalayas",
           null
          ],
          [
           "Himalayas",
           null
          ],
          [
           "Himalayas",
           null
          ],
          [
           "Namibia",
           "Congo craton"
          ],
          [
           "China",
           "Nanhua basin"
          ],
          [
           "Australia",
           "Adelaidean Inlier/Arkaroola"
          ],
          [
           "USA",
           "Utah"
          ],
          [
           "Namibia",
           "Duurwater trough"
          ],
          [
           "Australia",
           "Seacliff Sandstone, Adelaide Geosyncline"
          ],
          [
           "Australia",
           "South Australia"
          ],
          [
           "Australia",
           "Ellery Creek"
          ],
          [
           "Morocco",
           "Oman"
          ],
          [
           "Namibia",
           "Chuos Formation, N. Namibia"
          ],
          [
           null,
           "Mars"
          ]
         ],
         "geo": "geo",
         "hovertemplate": "<b>%{hovertext}</b><br><br>latitude=%{lat}<br>longitude=%{lon}<br>region=%{customdata[0]}<br>locality=%{customdata[1]}<extra></extra>",
         "hovertext": [
          "Ajutor-3",
          "Andvord Bay",
          "unnamed: Gulf of Alaska/St. Elias Mts",
          "unnamed: Gulf of Alaska/St. Elias Mts",
          "unnamed: Chugach–St. Elias Range",
          "St. Elias Mountains averaged",
          "unnamed: Tinée Valley, France",
          "Faraday",
          "Bellingshausen",
          "Ohiggins",
          "Marambio",
          "Arturo Prat",
          "Esperanza",
          "Marsh",
          "Austre Brøggerbreen, Svalbard",
          "Austre Memurubreen, Norway",
          "Bench",
          "Bertol Inferieur, Switzerland",
          "Bødalsbreen, Norway",
          "Bondhusbreen, Norway",
          "Brøggerbreen, Svalbard",
          "Cambridge F., NE Canada",
          "Caroll, Goldthwait",
          "Copper River, Alaska Drainage Basin",
          "Coronation F., NE Canada",
          "Crillon",
          "Dixence, Switzerland",
          "Drance, Switzerland",
          "East Antarctic Ice Sheet",
          "East Antarctic Ice Sheet",
          "Engabreen, Norway",
          "Erdalsbreen, Norway",
          "Erikbreen, Svalbard",
          "Europa glacier",
          "Fedchenko",
          "Fennoscandian Icesheet",
          "Fennoscandian Icesheet",
          "Fennoscandian Icesheet",
          "Fennoscandian Icesheet",
          "Fennoscandian Icesheet",
          "Fennoscandian Icesheet",
          "Ferpecle, Switzerland",
          "Finsterwalderbreen, Svalbard",
          "Gomer, Switzerland",
          "Grand Pac./Margerie",
          "Grand Pacific",
          "Greenland Ice Sheet",
          "Greenland Ice Sheet",
          "Greenland Ice Sheet",
          "Gualas glacier",
          "Hannabreen, Svalbard",
          "Herbert Sound",
          "Hilda, Rocky Mts, Canada",
          "Hogbreen, Norway",
          "Hubbard ",
          "Icy Bay",
          "IMAT",
          "Ivory, New Zealand",
          "Jakobshavn Isbræ",
          "Johns Hopkins",
          "Jøkulská, Iceland",
          "Kangerlussuaq, Greenland",
          "Karabatak",
          "Kongsvegen, Svalbard",
          "Lapeyrère Bay",
          "Leverett Glacier, Greenland",
          "Lituya/N. Crillon",
          "Malaspina",
          "Margerie",
          "Massa, Switzerland",
          "Maxwell Bay",
          "McBride",
          "Mikis Fjord, Greenland",
          "Muir",
          "Nansen Fjord, Greenland",
          "Nigardsbreen, Norway",
          "palaeo-Jakobshavn Isbræ",
          "Pangnirmng F., NE Canada",
          "Petermann catchment, Greenland",
          "Raikgt, Pakistan",
          "RGO",
          "Riggs",
          "San Rafael glacier",
          "Sandskardfonna, Norway",
          "Skåtlbreen, Norway",
          "Stafel, Switzerland",
          "Steinhusflatebreen, Norway",
          "Tindefjellsbreen, Norway",
          "Trollbergsdalsbreen, Norway",
          "Tsidjore, Switzerland",
          "Tumbling Glacier, Baffin Island, Canada",
          "Tverrelvskardet, Norway",
          "Variegated",
          "Vesledalsbreen, Norway",
          "Visa, Norway",
          "West Antarctic Ice Sheet",
          "West Antarctic Ice Sheet",
          "West Antarctic Ice Sheet",
          "Zaravshanskiy",
          "S of Jakobshavn Isbæ, Greenland",
          "Jakobshavn Isbræ",
          "Breiðamerkurjökull",
          "Ferraz",
          "Pyrenees Mountain Glaciers",
          "Scottish Ice Sheet",
          "King Sejong",
          "Tyndall Glacier",
          "Cordilleran ice sheet",
          "Jubany",
          "Fourcade",
          "Bolton",
          "Trooz",
          "Cadman",
          "Funk",
          "Lever",
          "Bagshawe",
          "Renard/Krebs",
          "Cayley",
          "Breguet",
          "San Rafael",
          "Jorge Montt",
          "Europa",
          "Tyndall",
          "Great Wall",
          "Storglaciären",
          "Younger Dryas cirque glacier at Kråkenes",
          "Gamburtsev Mountains",
          "Franz Josef",
          "Retezat Mts",
          "Laurentide ice sheet",
          "Klinaklini Valley",
          "Rothera",
          "St. Elias Mountains averaged",
          "unnamed: Dronning Maud Land Mountains",
          "Vorab",
          "Rhone",
          "unnamed: Klinaklini Valley, Coast Mountains",
          "unnamed: Coast Mountains",
          "unnamed: Southern Coast Mountains",
          "Kennicott Glacier",
          "Haut Glacier d'Arolla",
          "unnamed: Chilean Andes",
          "Meserve",
          "Trift",
          "Tyndall",
          "unnamed: Rwenzori Mountains",
          "unnamed: Dudh Catchment",
          "unnamed: Nar Catchment",
          "unnamed: Khansar Catchment",
          "Vatnajökull",
          "unnamed: Torngat Mountains, Canada",
          "unnamed: Barents Sea-Svalbard continental margin",
          "Marinelli Glacier",
          "unnamed: general Norway",
          "Laurentide Ice Sheet",
          "Mackay Glacier",
          "Mackay Glacier",
          "unnamed: Norwegian margin",
          "Maxwell Bay",
          "Hope Bay",
          "Lapeyrere Bay/Iliad Glacier",
          "Charlotte Bay",
          "Andvord Bay",
          "Flandres Bay",
          "Beascochea Bay",
          "unnamed: Sognefjord drainage basin (1)",
          "unnamed: Sognefjord drainage basin (2)",
          "unnamed: Engabreen, Norway",
          "Laurentide ice sheet",
          "Laurentide ice sheet",
          "Muir",
          "Laurentide ice sheet",
          "Laurentide ice sheet",
          "Antarctic ice sheet",
          "Antarctic ice sheet",
          "Antarctic ice sheet",
          "Antarctic ice sheet",
          "Tuolumne ",
          "unnamed: Little Lake, Coastal Range",
          "unnamed: Patagonian Andes",
          "Oliver Glacier",
          "Fennoscandian Ice Sheet",
          "Modern Norwegian glaciers",
          "Rutford Ice Stream",
          "(Milarepa's Glacier)",
          "Lago Buenos Aires",
          "unnamed: Norway/Sweden",
          "unnamed: Cairngorm Mountains",
          "unnamed: South Carpathian Mountains, Romania",
          "Greenland ice sheet",
          "unnamed: Var River Catchement",
          "Tsanfleuron",
          null,
          "Fennoscandian ice sheet",
          "Fennoscandian ice sheet",
          "Batura Glacier",
          "Tyndall Glacier",
          "unnamed: Van Keulenfjorden, Svalbard",
          "Laurentide",
          "Bossons Glacier",
          "unnamed: Walensee Valley (Switzerland)",
          "Herens Glacier",
          "Venter Ache at Vent (Oetztal)",
          "Arapaho Glacier",
          "Antarctic Ice Sheet",
          "unnamed: UK/Scotland",
          "Barnes Ice Cap",
          "unnamed: UK/Britain",
          "Imja-Lhotse-Shar Glacier",
          "Khumbu Glacier",
          "Ngzompa Glacier",
          "Milerapa Glacier",
          "G2 Glacier",
          "Satopanth Glacier",
          "Bara Shigri Glacier",
          "Hamtah Glacier",
          "Marinoan ice sheet",
          "Sturtian ice sheet",
          "Sturtian ice sheet",
          "Sturtian ice sheet",
          "Marinoan ice sheet",
          "Marinoan ice sheet",
          "Marinoan ice sheet",
          "Sturtian ice sheet",
          "Sturtian ice sheet",
          "Sturtian ice sheet",
          "unnamed Martian glacier"
         ],
         "lat": [
          42.053637,
          64.833333,
          60.264489,
          60.264489,
          61.16691422,
          60.498286,
          44.116796,
          65.4,
          62.2,
          63.3,
          64.2,
          62.5,
          63.4,
          62.2,
          78.909899,
          61.58279662,
          61.025612,
          46.00489182,
          60.9824,
          60.006,
          78.1775,
          71.5,
          58.88484749,
          60.677363,
          56.27709688,
          58.664284,
          46.1167,
          46.108,
          -82.417412,
          -82.417412,
          67.8556,
          61.641,
          78.1746,
          -50.8503,
          38.2717,
          63.115325,
          63.115325,
          63.115325,
          63.115325,
          63.115325,
          63.115325,
          46.0517,
          78.2934,
          46.6463,
          58.7439,
          58.7439,
          72.5,
          72.5,
          72.5,
          -47.6358,
          78.1993,
          -67.65,
          51.73558,
          78.1947,
          58.7961,
          59.0894,
          null,
          -77.7257,
          69.2167,
          59.8667,
          65.25,
          67.011,
          41.999721,
          78.2562,
          -64.87,
          79.7067,
          58.9182,
          60.1617,
          58.8673,
          46.6067,
          -64.95,
          58.7633,
          66.7422,
          58.9269,
          80.0167,
          61.5792,
          69.2167,
          66.448953,
          80.500379,
          35.349657,
          null,
          58.372,
          -46.6071,
          61.5652,
          78.0956,
          45.9767,
          78.0587,
          61.5136,
          61.4456,
          46.0054,
          70.9489,
          61.2871,
          59.7683,
          60.69,
          61.775,
          -75.2536,
          -74.8386,
          -74.7039,
          39.324543,
          69.2167,
          69.2167,
          64.153316,
          62.1,
          42.77138606,
          57.06139676,
          62.2,
          60.79846825,
          49.03568012,
          62.2,
          -62.2167,
          -65.0167,
          -65.3333,
          -65.6167,
          -65.5667,
          -65.5,
          -64.9333,
          -64.6667,
          -64.3333,
          -64.167133,
          -46.7631,
          -48.1348,
          -49.2847,
          -50.9961,
          62.2,
          67.883963,
          62.02684916,
          -80.5,
          -43.4607,
          45.3707,
          43.7844,
          51.75,
          67.5,
          60.73546071,
          -84.998777,
          46.9065511,
          46.621603,
          51.408872,
          51.33574375,
          50.791846,
          61.599909,
          45.991436,
          55,
          -77.49563435,
          46.66459966,
          60.79846825,
          0.385404,
          28.696444,
          28.696444,
          28.696444,
          65.776303,
          59.56226,
          67.18026,
          -54.53373,
          62.280108,
          55,
          -76.983656,
          -76.983656,
          62.280108,
          -62.250719,
          -63.395005,
          -64.450573,
          -64.569369,
          -64.811363,
          -65.033333,
          -65.5,
          61.125862,
          61.115029,
          66.666128,
          55,
          55,
          58.871742,
          55,
          55,
          -80.50029,
          -75,
          -78.712118,
          -73,
          37.870767,
          44.167573,
          -47.485063,
          72.118069,
          67.836118,
          67.836118,
          -79,
          28.584358,
          -46.513391,
          67.18026,
          57.16010155,
          null,
          67.246026,
          44.04642,
          46.319664,
          45.42881,
          63.749893,
          60.4266,
          36.564906,
          60.1755,
          77.560083,
          43.894524,
          45.866053,
          47.12263975,
          46.02,
          46.8646,
          40.024,
          -78.241632,
          53.344304,
          69.996888,
          53.344304,
          27.91432857,
          27.97887017,
          27.98969485,
          28.62910331,
          35.75759598,
          30.75030775,
          32.16616503,
          32.25,
          null,
          null,
          null,
          null,
          null,
          null,
          null,
          null,
          null,
          null,
          null
         ],
         "legendgroup": "",
         "lon": [
          -70.407176,
          62.65,
          -139.109146,
          -139.109146,
          -145.3332904,
          -139.505558,
          7.112985,
          64.4,
          58.9,
          57.9,
          56.7,
          59.7,
          57,
          58.9,
          11.808299,
          8.322754909,
          145.676638,
          7.53182399,
          7.2265,
          6.551,
          15.6536,
          -74.5,
          -136.7033826,
          -144.692183,
          -134.2629679,
          -137.165228,
          7.3819,
          7.0921,
          59.153452,
          59.153452,
          15.5942,
          7.7698,
          15.5514,
          -73.9472,
          72.0036,
          19.052897,
          19.052897,
          19.052897,
          19.052897,
          19.052897,
          19.052897,
          7.5153,
          16.4094,
          8.2547,
          -137.0567,
          -137.0567,
          -38.45,
          -38.45,
          -38.45,
          -72.8425,
          16.1172,
          -62.7167,
          -119.45687,
          15.62,
          -139.2629,
          -141.7181,
          null,
          166.5667,
          -49.9857,
          -139.7273,
          -14,
          -50.72,
          77.485747,
          15.5117,
          -63.065,
          21.6183,
          -137.5269,
          -140.2225,
          -137.1467,
          8.3311,
          -62.6167,
          -136.5567,
          -53.5639,
          -133.9081,
          -21,
          7.3147,
          -49.9857,
          -65.642054,
          -59.513389,
          74.622584,
          null,
          -133.9612,
          -74.0377,
          6.3602,
          15.7331,
          7.5625,
          15.7446,
          7.2647,
          7.1814,
          7.7457,
          -71.1574,
          7.9121,
          -138.0064,
          6.6792,
          6.92,
          -100.8701,
          -113.4006,
          -110.5393,
          69.395205,
          -49.9857,
          -49.9857,
          -16.408583,
          58.4,
          0.1389479731,
          -3.606056445,
          58.7,
          -141.0979521,
          -122.7136664,
          58.6,
          -58.6667,
          -62.9667,
          -63.9667,
          -63.7833,
          -63.7667,
          -63.6667,
          -62.5833,
          -61.6333,
          -60.9667,
          -60.799957,
          -73.8184,
          -73.4278,
          -74.8149,
          -73.6558,
          59,
          18.563019,
          4.986754408,
          76,
          170.1861,
          22.9043,
          -88.7879,
          -125.0975,
          68.1,
          -139.2350794,
          -160.002447,
          9.157197405,
          8.403988,
          -125.809366,
          -125.2697642,
          -124.002932,
          -143.069508,
          7.494765,
          -85,
          162.3524686,
          8.370379538,
          -141.0979521,
          29.870036,
          84.166468,
          84.166468,
          84.166468,
          -22.394883,
          -64.385925,
          25.405849,
          -69.572074,
          8.689881,
          -85,
          161.526477,
          161.526477,
          8.689881,
          -58.852747,
          -57.063033,
          -63.450171,
          -61.68087,
          -62.633288,
          -63.333333,
          -64,
          6.52565,
          6.492124,
          13.895307,
          -85,
          -85,
          -136.119771,
          -85,
          -85,
          -25.000236,
          -111,
          -85.160098,
          68,
          -119.377658,
          -123.582359,
          -73.411058,
          -76.801167,
          15.039829,
          15.039829,
          -80,
          83.988838,
          -72.037582,
          25.405849,
          -3.823192313,
          null,
          -49.819624,
          7.005572,
          7.226476,
          6.807004,
          18.154398,
          18.186,
          74.614401,
          -141.157701,
          15.484531,
          -71.603108,
          6.859297,
          9.20298192,
          7.5768,
          10.9789,
          -105.6479,
          162.5167,
          -1.878177,
          -73.515814,
          -1.878177,
          86.95457935,
          86.83426258,
          86.69017139,
          84.0350565,
          76.61689772,
          79.36068427,
          77.68743651,
          77.36,
          null,
          null,
          null,
          null,
          null,
          null,
          null,
          null,
          null,
          null,
          null
         ],
         "marker": {
          "color": "#636efa",
          "symbol": "circle"
         },
         "mode": "markers",
         "name": "",
         "showlegend": false,
         "type": "scattergeo"
        }
       ],
       "layout": {
        "geo": {
         "center": {},
         "domain": {
          "x": [
           0,
           1
          ],
          "y": [
           0,
           1
          ]
         },
         "projection": {
          "type": "equirectangular"
         },
         "scope": "world"
        },
        "legend": {
         "tracegroupgap": 0
        },
        "margin": {
         "b": 10,
         "l": 0,
         "r": 0,
         "t": 30
        },
        "template": {
         "data": {
          "bar": [
           {
            "error_x": {
             "color": "#2a3f5f"
            },
            "error_y": {
             "color": "#2a3f5f"
            },
            "marker": {
             "line": {
              "color": "#E5ECF6",
              "width": 0.5
             },
             "pattern": {
              "fillmode": "overlay",
              "size": 10,
              "solidity": 0.2
             }
            },
            "type": "bar"
           }
          ],
          "barpolar": [
           {
            "marker": {
             "line": {
              "color": "#E5ECF6",
              "width": 0.5
             },
             "pattern": {
              "fillmode": "overlay",
              "size": 10,
              "solidity": 0.2
             }
            },
            "type": "barpolar"
           }
          ],
          "carpet": [
           {
            "aaxis": {
             "endlinecolor": "#2a3f5f",
             "gridcolor": "white",
             "linecolor": "white",
             "minorgridcolor": "white",
             "startlinecolor": "#2a3f5f"
            },
            "baxis": {
             "endlinecolor": "#2a3f5f",
             "gridcolor": "white",
             "linecolor": "white",
             "minorgridcolor": "white",
             "startlinecolor": "#2a3f5f"
            },
            "type": "carpet"
           }
          ],
          "choropleth": [
           {
            "colorbar": {
             "outlinewidth": 0,
             "ticks": ""
            },
            "type": "choropleth"
           }
          ],
          "contour": [
           {
            "colorbar": {
             "outlinewidth": 0,
             "ticks": ""
            },
            "colorscale": [
             [
              0,
              "#0d0887"
             ],
             [
              0.1111111111111111,
              "#46039f"
             ],
             [
              0.2222222222222222,
              "#7201a8"
             ],
             [
              0.3333333333333333,
              "#9c179e"
             ],
             [
              0.4444444444444444,
              "#bd3786"
             ],
             [
              0.5555555555555556,
              "#d8576b"
             ],
             [
              0.6666666666666666,
              "#ed7953"
             ],
             [
              0.7777777777777778,
              "#fb9f3a"
             ],
             [
              0.8888888888888888,
              "#fdca26"
             ],
             [
              1,
              "#f0f921"
             ]
            ],
            "type": "contour"
           }
          ],
          "contourcarpet": [
           {
            "colorbar": {
             "outlinewidth": 0,
             "ticks": ""
            },
            "type": "contourcarpet"
           }
          ],
          "heatmap": [
           {
            "colorbar": {
             "outlinewidth": 0,
             "ticks": ""
            },
            "colorscale": [
             [
              0,
              "#0d0887"
             ],
             [
              0.1111111111111111,
              "#46039f"
             ],
             [
              0.2222222222222222,
              "#7201a8"
             ],
             [
              0.3333333333333333,
              "#9c179e"
             ],
             [
              0.4444444444444444,
              "#bd3786"
             ],
             [
              0.5555555555555556,
              "#d8576b"
             ],
             [
              0.6666666666666666,
              "#ed7953"
             ],
             [
              0.7777777777777778,
              "#fb9f3a"
             ],
             [
              0.8888888888888888,
              "#fdca26"
             ],
             [
              1,
              "#f0f921"
             ]
            ],
            "type": "heatmap"
           }
          ],
          "heatmapgl": [
           {
            "colorbar": {
             "outlinewidth": 0,
             "ticks": ""
            },
            "colorscale": [
             [
              0,
              "#0d0887"
             ],
             [
              0.1111111111111111,
              "#46039f"
             ],
             [
              0.2222222222222222,
              "#7201a8"
             ],
             [
              0.3333333333333333,
              "#9c179e"
             ],
             [
              0.4444444444444444,
              "#bd3786"
             ],
             [
              0.5555555555555556,
              "#d8576b"
             ],
             [
              0.6666666666666666,
              "#ed7953"
             ],
             [
              0.7777777777777778,
              "#fb9f3a"
             ],
             [
              0.8888888888888888,
              "#fdca26"
             ],
             [
              1,
              "#f0f921"
             ]
            ],
            "type": "heatmapgl"
           }
          ],
          "histogram": [
           {
            "marker": {
             "pattern": {
              "fillmode": "overlay",
              "size": 10,
              "solidity": 0.2
             }
            },
            "type": "histogram"
           }
          ],
          "histogram2d": [
           {
            "colorbar": {
             "outlinewidth": 0,
             "ticks": ""
            },
            "colorscale": [
             [
              0,
              "#0d0887"
             ],
             [
              0.1111111111111111,
              "#46039f"
             ],
             [
              0.2222222222222222,
              "#7201a8"
             ],
             [
              0.3333333333333333,
              "#9c179e"
             ],
             [
              0.4444444444444444,
              "#bd3786"
             ],
             [
              0.5555555555555556,
              "#d8576b"
             ],
             [
              0.6666666666666666,
              "#ed7953"
             ],
             [
              0.7777777777777778,
              "#fb9f3a"
             ],
             [
              0.8888888888888888,
              "#fdca26"
             ],
             [
              1,
              "#f0f921"
             ]
            ],
            "type": "histogram2d"
           }
          ],
          "histogram2dcontour": [
           {
            "colorbar": {
             "outlinewidth": 0,
             "ticks": ""
            },
            "colorscale": [
             [
              0,
              "#0d0887"
             ],
             [
              0.1111111111111111,
              "#46039f"
             ],
             [
              0.2222222222222222,
              "#7201a8"
             ],
             [
              0.3333333333333333,
              "#9c179e"
             ],
             [
              0.4444444444444444,
              "#bd3786"
             ],
             [
              0.5555555555555556,
              "#d8576b"
             ],
             [
              0.6666666666666666,
              "#ed7953"
             ],
             [
              0.7777777777777778,
              "#fb9f3a"
             ],
             [
              0.8888888888888888,
              "#fdca26"
             ],
             [
              1,
              "#f0f921"
             ]
            ],
            "type": "histogram2dcontour"
           }
          ],
          "mesh3d": [
           {
            "colorbar": {
             "outlinewidth": 0,
             "ticks": ""
            },
            "type": "mesh3d"
           }
          ],
          "parcoords": [
           {
            "line": {
             "colorbar": {
              "outlinewidth": 0,
              "ticks": ""
             }
            },
            "type": "parcoords"
           }
          ],
          "pie": [
           {
            "automargin": true,
            "type": "pie"
           }
          ],
          "scatter": [
           {
            "marker": {
             "colorbar": {
              "outlinewidth": 0,
              "ticks": ""
             }
            },
            "type": "scatter"
           }
          ],
          "scatter3d": [
           {
            "line": {
             "colorbar": {
              "outlinewidth": 0,
              "ticks": ""
             }
            },
            "marker": {
             "colorbar": {
              "outlinewidth": 0,
              "ticks": ""
             }
            },
            "type": "scatter3d"
           }
          ],
          "scattercarpet": [
           {
            "marker": {
             "colorbar": {
              "outlinewidth": 0,
              "ticks": ""
             }
            },
            "type": "scattercarpet"
           }
          ],
          "scattergeo": [
           {
            "marker": {
             "colorbar": {
              "outlinewidth": 0,
              "ticks": ""
             }
            },
            "type": "scattergeo"
           }
          ],
          "scattergl": [
           {
            "marker": {
             "colorbar": {
              "outlinewidth": 0,
              "ticks": ""
             }
            },
            "type": "scattergl"
           }
          ],
          "scattermapbox": [
           {
            "marker": {
             "colorbar": {
              "outlinewidth": 0,
              "ticks": ""
             }
            },
            "type": "scattermapbox"
           }
          ],
          "scatterpolar": [
           {
            "marker": {
             "colorbar": {
              "outlinewidth": 0,
              "ticks": ""
             }
            },
            "type": "scatterpolar"
           }
          ],
          "scatterpolargl": [
           {
            "marker": {
             "colorbar": {
              "outlinewidth": 0,
              "ticks": ""
             }
            },
            "type": "scatterpolargl"
           }
          ],
          "scatterternary": [
           {
            "marker": {
             "colorbar": {
              "outlinewidth": 0,
              "ticks": ""
             }
            },
            "type": "scatterternary"
           }
          ],
          "surface": [
           {
            "colorbar": {
             "outlinewidth": 0,
             "ticks": ""
            },
            "colorscale": [
             [
              0,
              "#0d0887"
             ],
             [
              0.1111111111111111,
              "#46039f"
             ],
             [
              0.2222222222222222,
              "#7201a8"
             ],
             [
              0.3333333333333333,
              "#9c179e"
             ],
             [
              0.4444444444444444,
              "#bd3786"
             ],
             [
              0.5555555555555556,
              "#d8576b"
             ],
             [
              0.6666666666666666,
              "#ed7953"
             ],
             [
              0.7777777777777778,
              "#fb9f3a"
             ],
             [
              0.8888888888888888,
              "#fdca26"
             ],
             [
              1,
              "#f0f921"
             ]
            ],
            "type": "surface"
           }
          ],
          "table": [
           {
            "cells": {
             "fill": {
              "color": "#EBF0F8"
             },
             "line": {
              "color": "white"
             }
            },
            "header": {
             "fill": {
              "color": "#C8D4E3"
             },
             "line": {
              "color": "white"
             }
            },
            "type": "table"
           }
          ]
         },
         "layout": {
          "annotationdefaults": {
           "arrowcolor": "#2a3f5f",
           "arrowhead": 0,
           "arrowwidth": 1
          },
          "autotypenumbers": "strict",
          "coloraxis": {
           "colorbar": {
            "outlinewidth": 0,
            "ticks": ""
           }
          },
          "colorscale": {
           "diverging": [
            [
             0,
             "#8e0152"
            ],
            [
             0.1,
             "#c51b7d"
            ],
            [
             0.2,
             "#de77ae"
            ],
            [
             0.3,
             "#f1b6da"
            ],
            [
             0.4,
             "#fde0ef"
            ],
            [
             0.5,
             "#f7f7f7"
            ],
            [
             0.6,
             "#e6f5d0"
            ],
            [
             0.7,
             "#b8e186"
            ],
            [
             0.8,
             "#7fbc41"
            ],
            [
             0.9,
             "#4d9221"
            ],
            [
             1,
             "#276419"
            ]
           ],
           "sequential": [
            [
             0,
             "#0d0887"
            ],
            [
             0.1111111111111111,
             "#46039f"
            ],
            [
             0.2222222222222222,
             "#7201a8"
            ],
            [
             0.3333333333333333,
             "#9c179e"
            ],
            [
             0.4444444444444444,
             "#bd3786"
            ],
            [
             0.5555555555555556,
             "#d8576b"
            ],
            [
             0.6666666666666666,
             "#ed7953"
            ],
            [
             0.7777777777777778,
             "#fb9f3a"
            ],
            [
             0.8888888888888888,
             "#fdca26"
            ],
            [
             1,
             "#f0f921"
            ]
           ],
           "sequentialminus": [
            [
             0,
             "#0d0887"
            ],
            [
             0.1111111111111111,
             "#46039f"
            ],
            [
             0.2222222222222222,
             "#7201a8"
            ],
            [
             0.3333333333333333,
             "#9c179e"
            ],
            [
             0.4444444444444444,
             "#bd3786"
            ],
            [
             0.5555555555555556,
             "#d8576b"
            ],
            [
             0.6666666666666666,
             "#ed7953"
            ],
            [
             0.7777777777777778,
             "#fb9f3a"
            ],
            [
             0.8888888888888888,
             "#fdca26"
            ],
            [
             1,
             "#f0f921"
            ]
           ]
          },
          "colorway": [
           "#636efa",
           "#EF553B",
           "#00cc96",
           "#ab63fa",
           "#FFA15A",
           "#19d3f3",
           "#FF6692",
           "#B6E880",
           "#FF97FF",
           "#FECB52"
          ],
          "font": {
           "color": "#2a3f5f"
          },
          "geo": {
           "bgcolor": "white",
           "lakecolor": "white",
           "landcolor": "#E5ECF6",
           "showlakes": true,
           "showland": true,
           "subunitcolor": "white"
          },
          "hoverlabel": {
           "align": "left"
          },
          "hovermode": "closest",
          "mapbox": {
           "style": "light"
          },
          "paper_bgcolor": "white",
          "plot_bgcolor": "#E5ECF6",
          "polar": {
           "angularaxis": {
            "gridcolor": "white",
            "linecolor": "white",
            "ticks": ""
           },
           "bgcolor": "#E5ECF6",
           "radialaxis": {
            "gridcolor": "white",
            "linecolor": "white",
            "ticks": ""
           }
          },
          "scene": {
           "xaxis": {
            "backgroundcolor": "#E5ECF6",
            "gridcolor": "white",
            "gridwidth": 2,
            "linecolor": "white",
            "showbackground": true,
            "ticks": "",
            "zerolinecolor": "white"
           },
           "yaxis": {
            "backgroundcolor": "#E5ECF6",
            "gridcolor": "white",
            "gridwidth": 2,
            "linecolor": "white",
            "showbackground": true,
            "ticks": "",
            "zerolinecolor": "white"
           },
           "zaxis": {
            "backgroundcolor": "#E5ECF6",
            "gridcolor": "white",
            "gridwidth": 2,
            "linecolor": "white",
            "showbackground": true,
            "ticks": "",
            "zerolinecolor": "white"
           }
          },
          "shapedefaults": {
           "line": {
            "color": "#2a3f5f"
           }
          },
          "ternary": {
           "aaxis": {
            "gridcolor": "white",
            "linecolor": "white",
            "ticks": ""
           },
           "baxis": {
            "gridcolor": "white",
            "linecolor": "white",
            "ticks": ""
           },
           "bgcolor": "#E5ECF6",
           "caxis": {
            "gridcolor": "white",
            "linecolor": "white",
            "ticks": ""
           }
          },
          "title": {
           "x": 0.05
          },
          "xaxis": {
           "automargin": true,
           "gridcolor": "white",
           "linecolor": "white",
           "ticks": "",
           "title": {
            "standoff": 15
           },
           "zerolinecolor": "white",
           "zerolinewidth": 2
          },
          "yaxis": {
           "automargin": true,
           "gridcolor": "white",
           "linecolor": "white",
           "ticks": "",
           "title": {
            "standoff": 15
           },
           "zerolinecolor": "white",
           "zerolinewidth": 2
          }
         }
        },
        "title": {
         "x": 0.85,
         "y": 0.97
        }
       }
      },
      "text/html": [
       "<div>                            <div id=\"17a2d152-46d9-46c1-a3e0-bf69bed73669\" class=\"plotly-graph-div\" style=\"height:525px; width:100%;\"></div>            <script type=\"text/javascript\">                require([\"plotly\"], function(Plotly) {                    window.PLOTLYENV=window.PLOTLYENV || {};                                    if (document.getElementById(\"17a2d152-46d9-46c1-a3e0-bf69bed73669\")) {                    Plotly.newPlot(                        \"17a2d152-46d9-46c1-a3e0-bf69bed73669\",                        [{\"customdata\":[[\"Central Asia\",\"Ajutor-3 (\\u041b\\u0435\\u0434\\u043d\\u0438\\u043a \\u0410\\u044e\\u0442\\u043e\\u0440)\"],[\"Antarctica\",\"Andvord Bay\"],[\"Alaska\",\"Gulf of Alaska/St. Elias Mts\"],[\"Alaska\",\"Gulf of Alaska/St. Elias Mts\"],[\"Alaska\",\"Chugach\\u2013St. Elias Range\"],[\"Alaska\",\"St. Elias Mountains\"],[\"Alps, France\",\"Tin\\u00e9e Valley, France\"],[\"Antarctica\",\"Antarctic peninusla\"],[\"Antarctica\",\"Antarctic peninusla\"],[\"Antarctica\",\"Antarctic peninusla\"],[\"Antarctica\",\"Antarctic peninusla\"],[\"Antarctica\",\"Antarctic peninusla\"],[\"Antarctica\",\"Antarctic peninusla\"],[\"Antarctica\",\"Antarctic peninusla\"],[\"Fennoscandia\",\"Austre Br\\u00f8ggerbreen, Svalbard\"],[\"Fennoscandia\",\"Austre Memurubreen, Norway\"],[\"Alaska\",\"Bench\"],[\"Swiss Alps\",\"Bertol Inferieur, Switzerland\"],[\"Fennoscandia\",\"B\\u00f8dalsbreen, Norway\"],[\"Fennoscandia\",\"Bondhusbreen, Norway\"],[\"Fennoscandia\",\"Br\\u00f8ggerbreen, Svalbard\"],[\"Canadian arctic islands\",\"Cambridge F., NE Canada\"],[\"Alaska\",\"Caroll, Goldthwait\"],[\"Alaska\",\"Copper River, Alaska Drainage Basin\"],[\"Canadian arctic islands\",\"Coronation F., NE Canada\"],[\"Alaska\",\"Crillon\"],[\"Swiss Alps\",\"Dixence, Switzerland\"],[\"Swiss Alps\",\"Drance, Switzerland\"],[\"Antarctica\",\"Lambert trough, East Antarctica\"],[\"Antarctica\",\"Prydz Bay, East Antarctica\"],[\"Fennoscandia\",\"Engabreen, Norway\"],[\"Fennoscandia\",\"Erdalsbreen, Norway\"],[\"Fennoscandia\",\"Erikbreen, Svalbard\"],[\"Patagonia\",\"Europa glacier\"],[\"Central Asia\",\"Fedchenko\"],[\"Fennoscandia\",\"NE Svalbard margin\"],[\"Fennoscandia\",\"SW Barents /  Bj\\u00f8rn\\u00f8ya Fan\"],[\"Fennoscandia\",\"NW Barents / Storfjorden Fan\"],[\"Fennoscandia\",\"Mid-Norwegian Margin\"],[\"Fennoscandia\",\"Svalbard margin\"],[\"Fennoscandia\",\"Troms margin\"],[\"Swiss Alps\",\"Ferpecle, Switzerland\"],[\"Fennoscandia\",\"Finsterwalderbreen, Svalbard\"],[\"Swiss Alps\",\"Gomer, Switzerland\"],[\"Alaska\",\"Grand Pac./Margerie\"],[\"Alaska\",\"Grand Pacific\"],[\"Greenland\",\"Greenland\"],[\"Greenland\",\"Watson River, Greenland\"],[\"Greenland\",\"Sermeq Kujalleq forefield, Greenland\"],[\"Patagonia\",\"Gualas glacier\"],[\"Fennoscandia\",\"Hannabreen, Svalbard\"],[\"Antarctica\",\"Herbert Sound\"],[\"Canadian rockies\",\"Hilda, Rocky Mts, Canada\"],[\"Fennoscandia\",\"Hogbreen, Norway\"],[\"Alaska\",\"Hubbard \"],[\"Alaska\",\"Icy Bay\"],[\"Central Asia\",\"IMAT\"],[\"New Zealand\",\"Ivory, New Zealand\"],[\"Greenland\",\"Jakobshavn Isbr\\u00e6\"],[\"Alaska\",\"Johns Hopkins\"],[\"Iceland\",\"J\\u00f8kulsk\\u00e1, Iceland\"],[\"Greenland\",\"Kangerlussuaq, Greenland\"],[\"Central Asia\",\"Karabatak\"],[\"Fennoscandia\",\"Kongsvegen, Svalbard\"],[\"Antarctica\",\"Lapeyr\\u00e8re Bay\"],[\"Greenland\",\"Leverett Glacier, Greenland\"],[\"Alaska\",\"Lituya/N. Crillon\"],[\"Alaska\",\"Malaspina\"],[\"Alaska\",\"Margerie\"],[\"Swiss Alps\",\"Massa, Switzerland\"],[\"Antarctica\",\"Maxwell Bay\"],[\"Alaska\",\"McBride\"],[\"Greenland\",\"Mikis Fjord, Greenland\"],[\"Alaska\",\"Muir\"],[\"Greenland\",\"Nansen Fjord, Greenland\"],[\"Fennoscandia\",\"Nigardsbreen, Norway\"],[\"Greenland\",\"palaeo-Jakobshavn Isbr\\u00e6\"],[\"Canadian arctic islands\",\"Pangnirmng F., NE Canada\"],[\"Greenland\",\"Petermann catchment, Greenland\"],[\"Central Asia\",\"Raikgt, Pakistan\"],[\"Central Asia\",\"RGO\"],[\"Alaska\",\"Riggs\"],[\"Patagonia\",\"San Rafael glacier\"],[\"Fennoscandia\",\"Sandskardfonna, Norway\"],[\"Fennoscandia\",\"Sk\\u00e5tlbreen, Norway\"],[\"Swiss Alps\",\"Stafel, Switzerland\"],[\"Fennoscandia\",\"Steinhusflatebreen, Norway\"],[\"Fennoscandia\",\"Tindefjellsbreen, Norway\"],[\"Fennoscandia\",\"Trollbergsdalsbreen, Norway\"],[\"Swiss Alps\",\"Tsidjore, Switzerland\"],[\"Canadian arctic islands\",\"Tumbling Glacier, Baffin Island, Canada\"],[\"Fennoscandia\",\"Tverrelvskardet, Norway\"],[\"Alaska\",\"Variegated\"],[\"Fennoscandia\",\"Vesledalsbreen, Norway\"],[\"Fennoscandia\",\"Visa, Norway\"],[\"Antarctica\",\"Pine Island Glacier\"],[\"Antarctica\",\"Mt Murphy, Marie Byrd Land\"],[\"Antarctica\",\"Dorrel Rock, Marie Byrd Land\"],[\"Central Asia\",\"Zaravshanskiy\"],[\"Greenland\",\"Eqaluit tassersuat, Infinity Lake, and Ted Lake, Greenland\"],[\"Greenland\",\"Jakobshavn Isbr\\u00e6\"],[\"Iceland\",\"Brei\\u00f0amerkurj\\u00f6kull\"],[\"Antarctica\",\"Antarctic peninusla\"],[\"France\",\"Eastern Pyrenees, France\"],[\"British Isles\",\"Cairngorm Mountains, Scotland\"],[\"Antarctica\",\"Antarctic peninusla\"],[\"Alaska\",\"Wrangell-St. Elias National Park\"],[\"Washington, USA\",\"Mt. Erie, Puget Lowland, Washington\"],[\"Antarctica\",\"Antarctic peninusla\"],[\"Antarctica\",\"Antarctic Peninsula\"],[\"Antarctica\",\"Antarctic Peninsula\"],[\"Antarctica\",\"Antarctic Peninsula\"],[\"Antarctica\",\"Antarctic Peninsula\"],[\"Antarctica\",\"Antarctic Peninsula\"],[\"Antarctica\",\"Antarctic Peninsula\"],[\"Antarctica\",\"Antarctic Peninsula\"],[\"Antarctica\",\"Antarctic Peninsula\"],[\"Antarctica\",\"Antarctic Peninsula\"],[\"Antarctica\",\"Antarctic Peninsula\"],[\"Southern Chile\",\"Patagonia\"],[\"Southern Chile\",\"Patagonia\"],[\"Southern Chile\",\"Patagonia\"],[\"Southern Chile\",\"Patagonia\"],[\"Antarctica\",\"Antarctic peninusla\"],[\"Sweden\",\"Kebnekaise, Sweden\"],[\"Norway\",\"Kr\\u00e5kenes, Norway\"],[\"Antarctica\",\"East Antarctica\"],[\"Oceania\",\"New Zealand \"],[\"Romania \",\"Retezat Mts, Southern Carpathians\"],[\"Wisconsin, USA\",null],[\"Canada\",\"British Columbia, Canada\"],[\"Antarctica\",\"Antarctic peninusla\"],[\"Alaska\",\"St. Elias Range\"],[\"Antarctica\",\"Dronning Maud Land Mountains\"],[\"Switzerland\",\"Alps, Switzerland\"],[\"Switzerland\",\"Alps, Switzerland\"],[\"British Columbia, Canada\",\"Klinaklini Valley, Coast Mountains\"],[\"British Columbia, Canada\",\"Coast Mountains\"],[\"British Columbia, Canada\",\"Southern Coast Mountains\"],[\"Alaska\",\"Wrangell Mountains\"],[\"Arolla series of the Dent Blanche nappe\",\"Valais, Switzerland\"],[\"Chile\",\"Chilean Andes\"],[\"Antarctica\",\"Wright Valley, Antarctica\"],[\"Swiss Alps\",\"Trift\"],[\"Alaska\",\"Taan Fjord, Icy Bay\"],[\"East Africa\",\"Rwenzori Mountains\"],[\"Himalayas\",\"Dudh Catchment\"],[\"Himalayas\",\"Nar Catchment\"],[\"Himalayas\",\"Khansar Catchment\"],[\"Iceland\",\"NW Iceland\"],[\"Labrador\",\"Torngat Mountains, Canada\"],[\"Northern Europe\",\"Barents Sea-Svalbard continental margin\"],[\"Chile\",\"Tierra del Fuego\"],[\"Norway\",\"Norway\"],[\"Laurentia\",\"Laurentia\"],[\"East Antarctica\",\"Dry Valleys, East Antarctica\"],[\"East Antarctica\",\"Dry Valleys, East Antarctica\"],[\"Norway\",\"Norwegian margin\"],[\"Antarctica\",\"South Shetland Islands\"],[\"Antarctica\",\"Antarctic Peninsula\"],[\"Antarctica\",\"Antarctic Peninsula\"],[\"Antarctica\",\"Antarctic Peninsula\"],[\"Antarctica\",\"Antarctic Peninsula\"],[\"Antarctica\",\"Antarctic Peninsula\"],[\"Antarctica\",\"Antarctic Peninsula\"],[\"Norway\",\"Sognefjord drainage basin\"],[\"Norway\",\"Sognefjord drainage basin\"],[\"Norway\",\"Engabreen, Norway\"],[\"North America\",\"Laurentia\"],[\"North America\",\"Keewatin Peninsula Ontario\"],[\"Alaska\",\"Muir Inlet, Glacier Bay\"],[\"North America\",\"Laurentia\"],[\"North America\",\"Mt. Mansfield, Vermont\"],[\"Antarctica\",\"Shackleton Range\"],[\"Antarctica\",\"Marie Byrd Land, Dorrel Rock\"],[\"Antarctica\",\"Ellsworth Mountains\"],[\"Antarctica\",\"Lambert basin\"],[\"USA\",\"Yosemite, California\"],[\"Oregon, USA\",\"Little Lake, Coastal Range\"],[\"Patagonia\",\"Patagonian Andes\"],[\"Canada\",\"Baffin Island, Canada\"],[\"Norway\",\"Vestfjorden Norway\"],[\"Norway\",\"Norway\"],[\"Antarctica\",\"Antarctic Peninsula\"],[\"Alpine\",\"Annapurna III\"],[\"Patagonia\",\"Argentina\"],[\"Scandinavia\",\"Norway/Sweden\"],[\"Scotland\",\"Cairngorm Mountains\"],[\"South Carpathian Mountains, Romania\",\"South Carpathian Mountains, Romania\"],[\"Greenland\",\"W. Greenland\"],[\"Southern Alps\",\"Var River Catchement\"],[\"Swiss Alps\",\"Tsanfleuron\"],[\"Southern French Alps\",\"France\"],[\"Sweden\",\"Eastern Sweden\"],[\"Sweden\",\"Forsmark/Uppland\"],[\"Karakoram mountains\",\"Karakoram, Kashmir Region\"],[\"Alaska\",\"Taan Fjord, Icy Bay, Alaska\"],[\"Svalbard\",\"Van Keulenfjorden, Svalbard\"],[\"New England\",\"New Hampshire\"],[\"French Alps\",\"Mont Blanc massif\"],[\"Switzerland\",\"Walensee Valley (Switzerland)\"],[\"Swiss Alps \",\"Central Alps\"],[\"Austrian Alps\",\"Central Alps\"],[\"Colorado\",\"Front Range, Colorado\"],[\"Antarctica\",\"McMurdo Sound\\u2013Dry Valleys (Southern Victoria Land)\"],[\"United Kingdom\",\"UK/Scotland\"],[\"North Central Baffin Island\",\"Baffin Island\"],[\"United Kingdom\",\"UK/Britain\"],[\"Himalayas\",null],[\"Himalayas\",null],[\"Himalayas\",null],[\"Himalayas\",null],[\"Himalayas\",null],[\"Himalayas\",null],[\"Himalayas\",null],[\"Himalayas\",null],[\"Namibia\",\"Congo craton\"],[\"China\",\"Nanhua basin\"],[\"Australia\",\"Adelaidean Inlier/Arkaroola\"],[\"USA\",\"Utah\"],[\"Namibia\",\"Duurwater trough\"],[\"Australia\",\"Seacliff Sandstone, Adelaide Geosyncline\"],[\"Australia\",\"South Australia\"],[\"Australia\",\"Ellery Creek\"],[\"Morocco\",\"Oman\"],[\"Namibia\",\"Chuos Formation, N. Namibia\"],[null,\"Mars\"]],\"geo\":\"geo\",\"hovertemplate\":\"<b>%{hovertext}</b><br><br>latitude=%{lat}<br>longitude=%{lon}<br>region=%{customdata[0]}<br>locality=%{customdata[1]}<extra></extra>\",\"hovertext\":[\"Ajutor-3\",\"Andvord Bay\",\"unnamed: Gulf of Alaska/St. Elias Mts\",\"unnamed: Gulf of Alaska/St. Elias Mts\",\"unnamed: Chugach\\u2013St. Elias Range\",\"St. Elias Mountains averaged\",\"unnamed: Tin\\u00e9e Valley, France\",\"Faraday\",\"Bellingshausen\",\"Ohiggins\",\"Marambio\",\"Arturo Prat\",\"Esperanza\",\"Marsh\",\"Austre Br\\u00f8ggerbreen, Svalbard\",\"Austre Memurubreen, Norway\",\"Bench\",\"Bertol Inferieur, Switzerland\",\"B\\u00f8dalsbreen, Norway\",\"Bondhusbreen, Norway\",\"Br\\u00f8ggerbreen, Svalbard\",\"Cambridge F., NE Canada\",\"Caroll, Goldthwait\",\"Copper River, Alaska Drainage Basin\",\"Coronation F., NE Canada\",\"Crillon\",\"Dixence, Switzerland\",\"Drance, Switzerland\",\"East Antarctic Ice Sheet\",\"East Antarctic Ice Sheet\",\"Engabreen, Norway\",\"Erdalsbreen, Norway\",\"Erikbreen, Svalbard\",\"Europa glacier\",\"Fedchenko\",\"Fennoscandian Icesheet\",\"Fennoscandian Icesheet\",\"Fennoscandian Icesheet\",\"Fennoscandian Icesheet\",\"Fennoscandian Icesheet\",\"Fennoscandian Icesheet\",\"Ferpecle, Switzerland\",\"Finsterwalderbreen, Svalbard\",\"Gomer, Switzerland\",\"Grand Pac./Margerie\",\"Grand Pacific\",\"Greenland Ice Sheet\",\"Greenland Ice Sheet\",\"Greenland Ice Sheet\",\"Gualas glacier\",\"Hannabreen, Svalbard\",\"Herbert Sound\",\"Hilda, Rocky Mts, Canada\",\"Hogbreen, Norway\",\"Hubbard \",\"Icy Bay\",\"IMAT\",\"Ivory, New Zealand\",\"Jakobshavn Isbr\\u00e6\",\"Johns Hopkins\",\"J\\u00f8kulsk\\u00e1, Iceland\",\"Kangerlussuaq, Greenland\",\"Karabatak\",\"Kongsvegen, Svalbard\",\"Lapeyr\\u00e8re Bay\",\"Leverett Glacier, Greenland\",\"Lituya/N. Crillon\",\"Malaspina\",\"Margerie\",\"Massa, Switzerland\",\"Maxwell Bay\",\"McBride\",\"Mikis Fjord, Greenland\",\"Muir\",\"Nansen Fjord, Greenland\",\"Nigardsbreen, Norway\",\"palaeo-Jakobshavn Isbr\\u00e6\",\"Pangnirmng F., NE Canada\",\"Petermann catchment, Greenland\",\"Raikgt, Pakistan\",\"RGO\",\"Riggs\",\"San Rafael glacier\",\"Sandskardfonna, Norway\",\"Sk\\u00e5tlbreen, Norway\",\"Stafel, Switzerland\",\"Steinhusflatebreen, Norway\",\"Tindefjellsbreen, Norway\",\"Trollbergsdalsbreen, Norway\",\"Tsidjore, Switzerland\",\"Tumbling Glacier, Baffin Island, Canada\",\"Tverrelvskardet, Norway\",\"Variegated\",\"Vesledalsbreen, Norway\",\"Visa, Norway\",\"West Antarctic Ice Sheet\",\"West Antarctic Ice Sheet\",\"West Antarctic Ice Sheet\",\"Zaravshanskiy\",\"S of Jakobshavn Isb\\u00e6, Greenland\",\"Jakobshavn Isbr\\u00e6\",\"Brei\\u00f0amerkurj\\u00f6kull\",\"Ferraz\",\"Pyrenees Mountain Glaciers\",\"Scottish Ice Sheet\",\"King Sejong\",\"Tyndall Glacier\",\"Cordilleran ice sheet\",\"Jubany\",\"Fourcade\",\"Bolton\",\"Trooz\",\"Cadman\",\"Funk\",\"Lever\",\"Bagshawe\",\"Renard/Krebs\",\"Cayley\",\"Breguet\",\"San Rafael\",\"Jorge Montt\",\"Europa\",\"Tyndall\",\"Great Wall\",\"Storglaci\\u00e4ren\",\"Younger Dryas cirque glacier at Kr\\u00e5kenes\",\"Gamburtsev Mountains\",\"Franz Josef\",\"Retezat Mts\",\"Laurentide ice sheet\",\"Klinaklini Valley\",\"Rothera\",\"St. Elias Mountains averaged\",\"unnamed: Dronning Maud Land Mountains\",\"Vorab\",\"Rhone\",\"unnamed: Klinaklini Valley, Coast Mountains\",\"unnamed: Coast Mountains\",\"unnamed: Southern Coast Mountains\",\"Kennicott Glacier\",\"Haut Glacier d'Arolla\",\"unnamed: Chilean Andes\",\"Meserve\",\"Trift\",\"Tyndall\",\"unnamed: Rwenzori Mountains\",\"unnamed: Dudh Catchment\",\"unnamed: Nar Catchment\",\"unnamed: Khansar Catchment\",\"Vatnaj\\u00f6kull\",\"unnamed: Torngat Mountains, Canada\",\"unnamed: Barents Sea-Svalbard continental margin\",\"Marinelli Glacier\",\"unnamed: general Norway\",\"Laurentide Ice Sheet\",\"Mackay Glacier\",\"Mackay Glacier\",\"unnamed: Norwegian margin\",\"Maxwell Bay\",\"Hope Bay\",\"Lapeyrere Bay/Iliad Glacier\",\"Charlotte Bay\",\"Andvord Bay\",\"Flandres Bay\",\"Beascochea Bay\",\"unnamed: Sognefjord drainage basin (1)\",\"unnamed: Sognefjord drainage basin (2)\",\"unnamed: Engabreen, Norway\",\"Laurentide ice sheet\",\"Laurentide ice sheet\",\"Muir\",\"Laurentide ice sheet\",\"Laurentide ice sheet\",\"Antarctic ice sheet\",\"Antarctic ice sheet\",\"Antarctic ice sheet\",\"Antarctic ice sheet\",\"Tuolumne \",\"unnamed: Little Lake, Coastal Range\",\"unnamed: Patagonian Andes\",\"Oliver Glacier\",\"Fennoscandian Ice Sheet\",\"Modern Norwegian glaciers\",\"Rutford Ice Stream\",\"(Milarepa's Glacier)\",\"Lago Buenos Aires\",\"unnamed: Norway/Sweden\",\"unnamed: Cairngorm Mountains\",\"unnamed: South Carpathian Mountains, Romania\",\"Greenland ice sheet\",\"unnamed: Var River Catchement\",\"Tsanfleuron\",null,\"Fennoscandian ice sheet\",\"Fennoscandian ice sheet\",\"Batura Glacier\",\"Tyndall Glacier\",\"unnamed: Van Keulenfjorden, Svalbard\",\"Laurentide\",\"Bossons Glacier\",\"unnamed: Walensee Valley (Switzerland)\",\"Herens Glacier\",\"Venter Ache at Vent (Oetztal)\",\"Arapaho Glacier\",\"Antarctic Ice Sheet\",\"unnamed: UK/Scotland\",\"Barnes Ice Cap\",\"unnamed: UK/Britain\",\"Imja-Lhotse-Shar Glacier\",\"Khumbu Glacier\",\"Ngzompa Glacier\",\"Milerapa Glacier\",\"G2 Glacier\",\"Satopanth Glacier\",\"Bara Shigri Glacier\",\"Hamtah Glacier\",\"Marinoan ice sheet\",\"Sturtian ice sheet\",\"Sturtian ice sheet\",\"Sturtian ice sheet\",\"Marinoan ice sheet\",\"Marinoan ice sheet\",\"Marinoan ice sheet\",\"Sturtian ice sheet\",\"Sturtian ice sheet\",\"Sturtian ice sheet\",\"unnamed Martian glacier\"],\"lat\":[42.053637,64.833333,60.264489,60.264489,61.16691422,60.498286,44.116796,65.4,62.2,63.3,64.2,62.5,63.4,62.2,78.909899,61.58279662,61.025612,46.00489182,60.9824,60.006,78.1775,71.5,58.88484749,60.677363,56.27709688,58.664284,46.1167,46.108,-82.417412,-82.417412,67.8556,61.641,78.1746,-50.8503,38.2717,63.115325,63.115325,63.115325,63.115325,63.115325,63.115325,46.0517,78.2934,46.6463,58.7439,58.7439,72.5,72.5,72.5,-47.6358,78.1993,-67.65,51.73558,78.1947,58.7961,59.0894,null,-77.7257,69.2167,59.8667,65.25,67.011,41.999721,78.2562,-64.87,79.7067,58.9182,60.1617,58.8673,46.6067,-64.95,58.7633,66.7422,58.9269,80.0167,61.5792,69.2167,66.448953,80.500379,35.349657,null,58.372,-46.6071,61.5652,78.0956,45.9767,78.0587,61.5136,61.4456,46.0054,70.9489,61.2871,59.7683,60.69,61.775,-75.2536,-74.8386,-74.7039,39.324543,69.2167,69.2167,64.153316,62.1,42.77138606,57.06139676,62.2,60.79846825,49.03568012,62.2,-62.2167,-65.0167,-65.3333,-65.6167,-65.5667,-65.5,-64.9333,-64.6667,-64.3333,-64.167133,-46.7631,-48.1348,-49.2847,-50.9961,62.2,67.883963,62.02684916,-80.5,-43.4607,45.3707,43.7844,51.75,67.5,60.73546071,-84.998777,46.9065511,46.621603,51.408872,51.33574375,50.791846,61.599909,45.991436,55.0,-77.49563435,46.66459966,60.79846825,0.385404,28.696444,28.696444,28.696444,65.776303,59.56226,67.18026,-54.53373,62.280108,55.0,-76.983656,-76.983656,62.280108,-62.250719,-63.395005,-64.450573,-64.569369,-64.811363,-65.033333,-65.5,61.125862,61.115029,66.666128,55.0,55.0,58.871742,55.0,55.0,-80.50029,-75.0,-78.712118,-73.0,37.870767,44.167573,-47.485063,72.118069,67.836118,67.836118,-79.0,28.584358,-46.513391,67.18026,57.16010155,null,67.246026,44.04642,46.319664,45.42881,63.749893,60.4266,36.564906,60.1755,77.560083,43.894524,45.866053,47.12263975,46.02,46.8646,40.024,-78.241632,53.344304,69.996888,53.344304,27.91432857,27.97887017,27.98969485,28.62910331,35.75759598,30.75030775,32.16616503,32.25,null,null,null,null,null,null,null,null,null,null,null],\"legendgroup\":\"\",\"lon\":[-70.407176,62.65,-139.109146,-139.109146,-145.3332904,-139.505558,7.112985,64.4,58.9,57.9,56.7,59.7,57.0,58.9,11.808299,8.322754909,145.676638,7.53182399,7.2265,6.551,15.6536,-74.5,-136.7033826,-144.692183,-134.2629679,-137.165228,7.3819,7.0921,59.153452,59.153452,15.5942,7.7698,15.5514,-73.9472,72.0036,19.052897,19.052897,19.052897,19.052897,19.052897,19.052897,7.5153,16.4094,8.2547,-137.0567,-137.0567,-38.45,-38.45,-38.45,-72.8425,16.1172,-62.7167,-119.45687,15.62,-139.2629,-141.7181,null,166.5667,-49.9857,-139.7273,-14.0,-50.72,77.485747,15.5117,-63.065,21.6183,-137.5269,-140.2225,-137.1467,8.3311,-62.6167,-136.5567,-53.5639,-133.9081,-21.0,7.3147,-49.9857,-65.642054,-59.513389,74.622584,null,-133.9612,-74.0377,6.3602,15.7331,7.5625,15.7446,7.2647,7.1814,7.7457,-71.1574,7.9121,-138.0064,6.6792,6.92,-100.8701,-113.4006,-110.5393,69.395205,-49.9857,-49.9857,-16.408583,58.4,0.1389479731,-3.606056445,58.7,-141.0979521,-122.7136664,58.6,-58.6667,-62.9667,-63.9667,-63.7833,-63.7667,-63.6667,-62.5833,-61.6333,-60.9667,-60.799957,-73.8184,-73.4278,-74.8149,-73.6558,59.0,18.563019,4.986754408,76.0,170.1861,22.9043,-88.7879,-125.0975,68.1,-139.2350794,-160.002447,9.157197405,8.403988,-125.809366,-125.2697642,-124.002932,-143.069508,7.494765,-85.0,162.3524686,8.370379538,-141.0979521,29.870036,84.166468,84.166468,84.166468,-22.394883,-64.385925,25.405849,-69.572074,8.689881,-85.0,161.526477,161.526477,8.689881,-58.852747,-57.063033,-63.450171,-61.68087,-62.633288,-63.333333,-64.0,6.52565,6.492124,13.895307,-85.0,-85.0,-136.119771,-85.0,-85.0,-25.000236,-111.0,-85.160098,68.0,-119.377658,-123.582359,-73.411058,-76.801167,15.039829,15.039829,-80.0,83.988838,-72.037582,25.405849,-3.823192313,null,-49.819624,7.005572,7.226476,6.807004,18.154398,18.186,74.614401,-141.157701,15.484531,-71.603108,6.859297,9.20298192,7.5768,10.9789,-105.6479,162.5167,-1.878177,-73.515814,-1.878177,86.95457935,86.83426258,86.69017139,84.0350565,76.61689772,79.36068427,77.68743651,77.36,null,null,null,null,null,null,null,null,null,null,null],\"marker\":{\"color\":\"#636efa\",\"symbol\":\"circle\"},\"mode\":\"markers\",\"name\":\"\",\"showlegend\":false,\"type\":\"scattergeo\"}],                        {\"template\":{\"data\":{\"bar\":[{\"error_x\":{\"color\":\"#2a3f5f\"},\"error_y\":{\"color\":\"#2a3f5f\"},\"marker\":{\"line\":{\"color\":\"#E5ECF6\",\"width\":0.5},\"pattern\":{\"fillmode\":\"overlay\",\"size\":10,\"solidity\":0.2}},\"type\":\"bar\"}],\"barpolar\":[{\"marker\":{\"line\":{\"color\":\"#E5ECF6\",\"width\":0.5},\"pattern\":{\"fillmode\":\"overlay\",\"size\":10,\"solidity\":0.2}},\"type\":\"barpolar\"}],\"carpet\":[{\"aaxis\":{\"endlinecolor\":\"#2a3f5f\",\"gridcolor\":\"white\",\"linecolor\":\"white\",\"minorgridcolor\":\"white\",\"startlinecolor\":\"#2a3f5f\"},\"baxis\":{\"endlinecolor\":\"#2a3f5f\",\"gridcolor\":\"white\",\"linecolor\":\"white\",\"minorgridcolor\":\"white\",\"startlinecolor\":\"#2a3f5f\"},\"type\":\"carpet\"}],\"choropleth\":[{\"colorbar\":{\"outlinewidth\":0,\"ticks\":\"\"},\"type\":\"choropleth\"}],\"contour\":[{\"colorbar\":{\"outlinewidth\":0,\"ticks\":\"\"},\"colorscale\":[[0.0,\"#0d0887\"],[0.1111111111111111,\"#46039f\"],[0.2222222222222222,\"#7201a8\"],[0.3333333333333333,\"#9c179e\"],[0.4444444444444444,\"#bd3786\"],[0.5555555555555556,\"#d8576b\"],[0.6666666666666666,\"#ed7953\"],[0.7777777777777778,\"#fb9f3a\"],[0.8888888888888888,\"#fdca26\"],[1.0,\"#f0f921\"]],\"type\":\"contour\"}],\"contourcarpet\":[{\"colorbar\":{\"outlinewidth\":0,\"ticks\":\"\"},\"type\":\"contourcarpet\"}],\"heatmap\":[{\"colorbar\":{\"outlinewidth\":0,\"ticks\":\"\"},\"colorscale\":[[0.0,\"#0d0887\"],[0.1111111111111111,\"#46039f\"],[0.2222222222222222,\"#7201a8\"],[0.3333333333333333,\"#9c179e\"],[0.4444444444444444,\"#bd3786\"],[0.5555555555555556,\"#d8576b\"],[0.6666666666666666,\"#ed7953\"],[0.7777777777777778,\"#fb9f3a\"],[0.8888888888888888,\"#fdca26\"],[1.0,\"#f0f921\"]],\"type\":\"heatmap\"}],\"heatmapgl\":[{\"colorbar\":{\"outlinewidth\":0,\"ticks\":\"\"},\"colorscale\":[[0.0,\"#0d0887\"],[0.1111111111111111,\"#46039f\"],[0.2222222222222222,\"#7201a8\"],[0.3333333333333333,\"#9c179e\"],[0.4444444444444444,\"#bd3786\"],[0.5555555555555556,\"#d8576b\"],[0.6666666666666666,\"#ed7953\"],[0.7777777777777778,\"#fb9f3a\"],[0.8888888888888888,\"#fdca26\"],[1.0,\"#f0f921\"]],\"type\":\"heatmapgl\"}],\"histogram\":[{\"marker\":{\"pattern\":{\"fillmode\":\"overlay\",\"size\":10,\"solidity\":0.2}},\"type\":\"histogram\"}],\"histogram2d\":[{\"colorbar\":{\"outlinewidth\":0,\"ticks\":\"\"},\"colorscale\":[[0.0,\"#0d0887\"],[0.1111111111111111,\"#46039f\"],[0.2222222222222222,\"#7201a8\"],[0.3333333333333333,\"#9c179e\"],[0.4444444444444444,\"#bd3786\"],[0.5555555555555556,\"#d8576b\"],[0.6666666666666666,\"#ed7953\"],[0.7777777777777778,\"#fb9f3a\"],[0.8888888888888888,\"#fdca26\"],[1.0,\"#f0f921\"]],\"type\":\"histogram2d\"}],\"histogram2dcontour\":[{\"colorbar\":{\"outlinewidth\":0,\"ticks\":\"\"},\"colorscale\":[[0.0,\"#0d0887\"],[0.1111111111111111,\"#46039f\"],[0.2222222222222222,\"#7201a8\"],[0.3333333333333333,\"#9c179e\"],[0.4444444444444444,\"#bd3786\"],[0.5555555555555556,\"#d8576b\"],[0.6666666666666666,\"#ed7953\"],[0.7777777777777778,\"#fb9f3a\"],[0.8888888888888888,\"#fdca26\"],[1.0,\"#f0f921\"]],\"type\":\"histogram2dcontour\"}],\"mesh3d\":[{\"colorbar\":{\"outlinewidth\":0,\"ticks\":\"\"},\"type\":\"mesh3d\"}],\"parcoords\":[{\"line\":{\"colorbar\":{\"outlinewidth\":0,\"ticks\":\"\"}},\"type\":\"parcoords\"}],\"pie\":[{\"automargin\":true,\"type\":\"pie\"}],\"scatter\":[{\"marker\":{\"colorbar\":{\"outlinewidth\":0,\"ticks\":\"\"}},\"type\":\"scatter\"}],\"scatter3d\":[{\"line\":{\"colorbar\":{\"outlinewidth\":0,\"ticks\":\"\"}},\"marker\":{\"colorbar\":{\"outlinewidth\":0,\"ticks\":\"\"}},\"type\":\"scatter3d\"}],\"scattercarpet\":[{\"marker\":{\"colorbar\":{\"outlinewidth\":0,\"ticks\":\"\"}},\"type\":\"scattercarpet\"}],\"scattergeo\":[{\"marker\":{\"colorbar\":{\"outlinewidth\":0,\"ticks\":\"\"}},\"type\":\"scattergeo\"}],\"scattergl\":[{\"marker\":{\"colorbar\":{\"outlinewidth\":0,\"ticks\":\"\"}},\"type\":\"scattergl\"}],\"scattermapbox\":[{\"marker\":{\"colorbar\":{\"outlinewidth\":0,\"ticks\":\"\"}},\"type\":\"scattermapbox\"}],\"scatterpolar\":[{\"marker\":{\"colorbar\":{\"outlinewidth\":0,\"ticks\":\"\"}},\"type\":\"scatterpolar\"}],\"scatterpolargl\":[{\"marker\":{\"colorbar\":{\"outlinewidth\":0,\"ticks\":\"\"}},\"type\":\"scatterpolargl\"}],\"scatterternary\":[{\"marker\":{\"colorbar\":{\"outlinewidth\":0,\"ticks\":\"\"}},\"type\":\"scatterternary\"}],\"surface\":[{\"colorbar\":{\"outlinewidth\":0,\"ticks\":\"\"},\"colorscale\":[[0.0,\"#0d0887\"],[0.1111111111111111,\"#46039f\"],[0.2222222222222222,\"#7201a8\"],[0.3333333333333333,\"#9c179e\"],[0.4444444444444444,\"#bd3786\"],[0.5555555555555556,\"#d8576b\"],[0.6666666666666666,\"#ed7953\"],[0.7777777777777778,\"#fb9f3a\"],[0.8888888888888888,\"#fdca26\"],[1.0,\"#f0f921\"]],\"type\":\"surface\"}],\"table\":[{\"cells\":{\"fill\":{\"color\":\"#EBF0F8\"},\"line\":{\"color\":\"white\"}},\"header\":{\"fill\":{\"color\":\"#C8D4E3\"},\"line\":{\"color\":\"white\"}},\"type\":\"table\"}]},\"layout\":{\"annotationdefaults\":{\"arrowcolor\":\"#2a3f5f\",\"arrowhead\":0,\"arrowwidth\":1},\"autotypenumbers\":\"strict\",\"coloraxis\":{\"colorbar\":{\"outlinewidth\":0,\"ticks\":\"\"}},\"colorscale\":{\"diverging\":[[0,\"#8e0152\"],[0.1,\"#c51b7d\"],[0.2,\"#de77ae\"],[0.3,\"#f1b6da\"],[0.4,\"#fde0ef\"],[0.5,\"#f7f7f7\"],[0.6,\"#e6f5d0\"],[0.7,\"#b8e186\"],[0.8,\"#7fbc41\"],[0.9,\"#4d9221\"],[1,\"#276419\"]],\"sequential\":[[0.0,\"#0d0887\"],[0.1111111111111111,\"#46039f\"],[0.2222222222222222,\"#7201a8\"],[0.3333333333333333,\"#9c179e\"],[0.4444444444444444,\"#bd3786\"],[0.5555555555555556,\"#d8576b\"],[0.6666666666666666,\"#ed7953\"],[0.7777777777777778,\"#fb9f3a\"],[0.8888888888888888,\"#fdca26\"],[1.0,\"#f0f921\"]],\"sequentialminus\":[[0.0,\"#0d0887\"],[0.1111111111111111,\"#46039f\"],[0.2222222222222222,\"#7201a8\"],[0.3333333333333333,\"#9c179e\"],[0.4444444444444444,\"#bd3786\"],[0.5555555555555556,\"#d8576b\"],[0.6666666666666666,\"#ed7953\"],[0.7777777777777778,\"#fb9f3a\"],[0.8888888888888888,\"#fdca26\"],[1.0,\"#f0f921\"]]},\"colorway\":[\"#636efa\",\"#EF553B\",\"#00cc96\",\"#ab63fa\",\"#FFA15A\",\"#19d3f3\",\"#FF6692\",\"#B6E880\",\"#FF97FF\",\"#FECB52\"],\"font\":{\"color\":\"#2a3f5f\"},\"geo\":{\"bgcolor\":\"white\",\"lakecolor\":\"white\",\"landcolor\":\"#E5ECF6\",\"showlakes\":true,\"showland\":true,\"subunitcolor\":\"white\"},\"hoverlabel\":{\"align\":\"left\"},\"hovermode\":\"closest\",\"mapbox\":{\"style\":\"light\"},\"paper_bgcolor\":\"white\",\"plot_bgcolor\":\"#E5ECF6\",\"polar\":{\"angularaxis\":{\"gridcolor\":\"white\",\"linecolor\":\"white\",\"ticks\":\"\"},\"bgcolor\":\"#E5ECF6\",\"radialaxis\":{\"gridcolor\":\"white\",\"linecolor\":\"white\",\"ticks\":\"\"}},\"scene\":{\"xaxis\":{\"backgroundcolor\":\"#E5ECF6\",\"gridcolor\":\"white\",\"gridwidth\":2,\"linecolor\":\"white\",\"showbackground\":true,\"ticks\":\"\",\"zerolinecolor\":\"white\"},\"yaxis\":{\"backgroundcolor\":\"#E5ECF6\",\"gridcolor\":\"white\",\"gridwidth\":2,\"linecolor\":\"white\",\"showbackground\":true,\"ticks\":\"\",\"zerolinecolor\":\"white\"},\"zaxis\":{\"backgroundcolor\":\"#E5ECF6\",\"gridcolor\":\"white\",\"gridwidth\":2,\"linecolor\":\"white\",\"showbackground\":true,\"ticks\":\"\",\"zerolinecolor\":\"white\"}},\"shapedefaults\":{\"line\":{\"color\":\"#2a3f5f\"}},\"ternary\":{\"aaxis\":{\"gridcolor\":\"white\",\"linecolor\":\"white\",\"ticks\":\"\"},\"baxis\":{\"gridcolor\":\"white\",\"linecolor\":\"white\",\"ticks\":\"\"},\"bgcolor\":\"#E5ECF6\",\"caxis\":{\"gridcolor\":\"white\",\"linecolor\":\"white\",\"ticks\":\"\"}},\"title\":{\"x\":0.05},\"xaxis\":{\"automargin\":true,\"gridcolor\":\"white\",\"linecolor\":\"white\",\"ticks\":\"\",\"title\":{\"standoff\":15},\"zerolinecolor\":\"white\",\"zerolinewidth\":2},\"yaxis\":{\"automargin\":true,\"gridcolor\":\"white\",\"linecolor\":\"white\",\"ticks\":\"\",\"title\":{\"standoff\":15},\"zerolinecolor\":\"white\",\"zerolinewidth\":2}}},\"geo\":{\"domain\":{\"x\":[0.0,1.0],\"y\":[0.0,1.0]},\"projection\":{\"type\":\"equirectangular\"},\"center\":{},\"scope\":\"world\"},\"legend\":{\"tracegroupgap\":0},\"margin\":{\"t\":30,\"r\":0,\"l\":0,\"b\":10},\"title\":{\"x\":0.85,\"y\":0.97}},                        {\"responsive\": true}                    ).then(function(){\n",
       "                            \n",
       "var gd = document.getElementById('17a2d152-46d9-46c1-a3e0-bf69bed73669');\n",
       "var x = new MutationObserver(function (mutations, observer) {{\n",
       "        var display = window.getComputedStyle(gd).display;\n",
       "        if (!display || display === 'none') {{\n",
       "            console.log([gd, 'removed!']);\n",
       "            Plotly.purge(gd);\n",
       "            observer.disconnect();\n",
       "        }}\n",
       "}});\n",
       "\n",
       "// Listen for the removal of the full notebook cells\n",
       "var notebookContainer = gd.closest('#notebook-container');\n",
       "if (notebookContainer) {{\n",
       "    x.observe(notebookContainer, {childList: true});\n",
       "}}\n",
       "\n",
       "// Listen for the clearing of the current output cell\n",
       "var outputEl = gd.closest('.output');\n",
       "if (outputEl) {{\n",
       "    x.observe(outputEl, {childList: true});\n",
       "}}\n",
       "\n",
       "                        })                };                });            </script>        </div>"
      ]
     },
     "metadata": {},
     "output_type": "display_data"
    }
   ],
   "source": [
    "proj = 'equirectangular'\n",
    "# proj = 'orthographic'\n",
    "# proj = 'robinson'\n",
    "# proj = 'mollweide'\n",
    "# proj = 'winkel tripel'\n",
    "# proj = 'sinusoidal'\n",
    "\n",
    "fig = best_map_ever(world, projection=proj, scope='world') \n",
    "fig.show()"
   ]
  },
  {
   "cell_type": "code",
   "execution_count": null,
   "id": "cda5a2f9",
   "metadata": {},
   "outputs": [],
   "source": []
  }
 ],
 "metadata": {
  "kernelspec": {
   "display_name": "Python [conda env:root] *",
   "language": "python",
   "name": "conda-root-py"
  },
  "language_info": {
   "codemirror_mode": {
    "name": "ipython",
    "version": 3
   },
   "file_extension": ".py",
   "mimetype": "text/x-python",
   "name": "python",
   "nbconvert_exporter": "python",
   "pygments_lexer": "ipython3",
   "version": "3.9.12"
  }
 },
 "nbformat": 4,
 "nbformat_minor": 5
}
