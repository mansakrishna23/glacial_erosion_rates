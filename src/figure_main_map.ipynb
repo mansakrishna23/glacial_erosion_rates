{
 "cells": [
  {
   "cell_type": "code",
   "execution_count": 2,
   "id": "1b5b5699",
   "metadata": {},
   "outputs": [],
   "source": [
    "import numpy as np\n",
    "import matplotlib.pyplot as plt\n",
    "import plotly.express as px\n",
    "import pandas as pd"
   ]
  },
  {
   "cell_type": "markdown",
   "id": "58a446ac",
   "metadata": {},
   "source": [
    "### Reading in the Data"
   ]
  },
  {
   "cell_type": "code",
   "execution_count": 26,
   "id": "ad8873a2",
   "metadata": {},
   "outputs": [
    {
     "data": {
      "text/html": [
       "<div>\n",
       "<style scoped>\n",
       "    .dataframe tbody tr th:only-of-type {\n",
       "        vertical-align: middle;\n",
       "    }\n",
       "\n",
       "    .dataframe tbody tr th {\n",
       "        vertical-align: top;\n",
       "    }\n",
       "\n",
       "    .dataframe thead th {\n",
       "        text-align: right;\n",
       "    }\n",
       "</style>\n",
       "<table border=\"1\" class=\"dataframe\">\n",
       "  <thead>\n",
       "    <tr style=\"text-align: right;\">\n",
       "      <th></th>\n",
       "      <th>Compilation</th>\n",
       "      <th>Reference</th>\n",
       "      <th>Reference DOI</th>\n",
       "      <th>Locality</th>\n",
       "      <th>Basin</th>\n",
       "      <th>Place</th>\n",
       "      <th>Region</th>\n",
       "      <th>Sample ID</th>\n",
       "      <th>Latitude</th>\n",
       "      <th>Longitude</th>\n",
       "      <th>...</th>\n",
       "      <th>Exhumation min (m)</th>\n",
       "      <th>Exhumation max (m)</th>\n",
       "      <th>Be Erosion rate (mm/yr)</th>\n",
       "      <th>Be Erosion rate min</th>\n",
       "      <th>Be Erosion rate max</th>\n",
       "      <th>Comments</th>\n",
       "      <th>Al Erosion rate (mm/yr)</th>\n",
       "      <th>Al Erosion rate min</th>\n",
       "      <th>Al Erosion rate max</th>\n",
       "      <th>Comments.1</th>\n",
       "    </tr>\n",
       "  </thead>\n",
       "  <tbody>\n",
       "    <tr>\n",
       "      <th>0</th>\n",
       "      <td>OCTOPUS</td>\n",
       "      <td>Safran, 2005</td>\n",
       "      <td>10.1002/esp.1259</td>\n",
       "      <td>Bolivian Andes</td>\n",
       "      <td>NaN</td>\n",
       "      <td>Bolivia</td>\n",
       "      <td>NaN</td>\n",
       "      <td>BOL-50</td>\n",
       "      <td>-13.982108</td>\n",
       "      <td>-67.506210</td>\n",
       "      <td>...</td>\n",
       "      <td>NaN</td>\n",
       "      <td>NaN</td>\n",
       "      <td>0.511913</td>\n",
       "      <td>0.410583</td>\n",
       "      <td>0.613243</td>\n",
       "      <td>Be-10</td>\n",
       "      <td>0.598898</td>\n",
       "      <td>0.465459</td>\n",
       "      <td>0.732337</td>\n",
       "      <td>Al-26</td>\n",
       "    </tr>\n",
       "    <tr>\n",
       "      <th>1</th>\n",
       "      <td>OCTOPUS</td>\n",
       "      <td>Safran, 2005</td>\n",
       "      <td>10.1002/esp.1259</td>\n",
       "      <td>Bolivian Andes</td>\n",
       "      <td>NaN</td>\n",
       "      <td>Bolivia</td>\n",
       "      <td>NaN</td>\n",
       "      <td>BOL-18</td>\n",
       "      <td>-15.496664</td>\n",
       "      <td>-67.872265</td>\n",
       "      <td>...</td>\n",
       "      <td>NaN</td>\n",
       "      <td>NaN</td>\n",
       "      <td>0.132416</td>\n",
       "      <td>0.106881</td>\n",
       "      <td>0.157951</td>\n",
       "      <td>Be-10</td>\n",
       "      <td>0.000000</td>\n",
       "      <td>0.000000</td>\n",
       "      <td>0.000000</td>\n",
       "      <td>Al-26</td>\n",
       "    </tr>\n",
       "    <tr>\n",
       "      <th>2</th>\n",
       "      <td>OCTOPUS</td>\n",
       "      <td>Safran, 2005</td>\n",
       "      <td>10.1002/esp.1259</td>\n",
       "      <td>Bolivian Andes</td>\n",
       "      <td>NaN</td>\n",
       "      <td>Bolivia</td>\n",
       "      <td>NaN</td>\n",
       "      <td>BOL-42</td>\n",
       "      <td>-16.262356</td>\n",
       "      <td>-67.248329</td>\n",
       "      <td>...</td>\n",
       "      <td>NaN</td>\n",
       "      <td>NaN</td>\n",
       "      <td>0.362017</td>\n",
       "      <td>0.291551</td>\n",
       "      <td>0.432484</td>\n",
       "      <td>Be-10</td>\n",
       "      <td>0.000000</td>\n",
       "      <td>0.000000</td>\n",
       "      <td>0.000000</td>\n",
       "      <td>Al-26</td>\n",
       "    </tr>\n",
       "    <tr>\n",
       "      <th>3</th>\n",
       "      <td>OCTOPUS</td>\n",
       "      <td>Safran, 2005</td>\n",
       "      <td>10.1002/esp.1259</td>\n",
       "      <td>Bolivian Andes</td>\n",
       "      <td>NaN</td>\n",
       "      <td>Bolivia</td>\n",
       "      <td>NaN</td>\n",
       "      <td>BOL-15</td>\n",
       "      <td>-15.306879</td>\n",
       "      <td>-68.213419</td>\n",
       "      <td>...</td>\n",
       "      <td>NaN</td>\n",
       "      <td>NaN</td>\n",
       "      <td>0.205966</td>\n",
       "      <td>0.166896</td>\n",
       "      <td>0.245035</td>\n",
       "      <td>Be-10</td>\n",
       "      <td>0.000000</td>\n",
       "      <td>0.000000</td>\n",
       "      <td>0.000000</td>\n",
       "      <td>Al-26</td>\n",
       "    </tr>\n",
       "    <tr>\n",
       "      <th>4</th>\n",
       "      <td>OCTOPUS</td>\n",
       "      <td>Safran, 2005</td>\n",
       "      <td>10.1002/esp.1259</td>\n",
       "      <td>Bolivian Andes</td>\n",
       "      <td>NaN</td>\n",
       "      <td>Bolivia</td>\n",
       "      <td>NaN</td>\n",
       "      <td>BOL-38a</td>\n",
       "      <td>-16.550337</td>\n",
       "      <td>-67.398295</td>\n",
       "      <td>...</td>\n",
       "      <td>NaN</td>\n",
       "      <td>NaN</td>\n",
       "      <td>0.385678</td>\n",
       "      <td>0.312969</td>\n",
       "      <td>0.458387</td>\n",
       "      <td>Be-10</td>\n",
       "      <td>0.000000</td>\n",
       "      <td>0.000000</td>\n",
       "      <td>0.000000</td>\n",
       "      <td>Al-26</td>\n",
       "    </tr>\n",
       "    <tr>\n",
       "      <th>...</th>\n",
       "      <td>...</td>\n",
       "      <td>...</td>\n",
       "      <td>...</td>\n",
       "      <td>...</td>\n",
       "      <td>...</td>\n",
       "      <td>...</td>\n",
       "      <td>...</td>\n",
       "      <td>...</td>\n",
       "      <td>...</td>\n",
       "      <td>...</td>\n",
       "      <td>...</td>\n",
       "      <td>...</td>\n",
       "      <td>...</td>\n",
       "      <td>...</td>\n",
       "      <td>...</td>\n",
       "      <td>...</td>\n",
       "      <td>...</td>\n",
       "      <td>...</td>\n",
       "      <td>...</td>\n",
       "      <td>...</td>\n",
       "      <td>...</td>\n",
       "    </tr>\n",
       "    <tr>\n",
       "      <th>3337</th>\n",
       "      <td>OCTOPUS</td>\n",
       "      <td>Croke, 2015</td>\n",
       "      <td>10.1016/j.geomorph.2015.04.003</td>\n",
       "      <td>Queensland</td>\n",
       "      <td>Burdekin Riv., upper</td>\n",
       "      <td>Australia</td>\n",
       "      <td>NaN</td>\n",
       "      <td>sample_7</td>\n",
       "      <td>-19.649583</td>\n",
       "      <td>146.495314</td>\n",
       "      <td>...</td>\n",
       "      <td>NaN</td>\n",
       "      <td>NaN</td>\n",
       "      <td>0.013741</td>\n",
       "      <td>0.010276</td>\n",
       "      <td>0.017207</td>\n",
       "      <td>Be-10</td>\n",
       "      <td>0.000000</td>\n",
       "      <td>0.000000</td>\n",
       "      <td>0.000000</td>\n",
       "      <td>Al-26</td>\n",
       "    </tr>\n",
       "    <tr>\n",
       "      <th>3338</th>\n",
       "      <td>OCTOPUS</td>\n",
       "      <td>Croke, 2015</td>\n",
       "      <td>10.1016/j.geomorph.2015.04.003</td>\n",
       "      <td>Queensland</td>\n",
       "      <td>Burdekin Riv., upper</td>\n",
       "      <td>Australia</td>\n",
       "      <td>NaN</td>\n",
       "      <td>sample_4</td>\n",
       "      <td>-19.917880</td>\n",
       "      <td>146.497963</td>\n",
       "      <td>...</td>\n",
       "      <td>NaN</td>\n",
       "      <td>NaN</td>\n",
       "      <td>0.009943</td>\n",
       "      <td>0.007396</td>\n",
       "      <td>0.012491</td>\n",
       "      <td>Be-10</td>\n",
       "      <td>0.000000</td>\n",
       "      <td>0.000000</td>\n",
       "      <td>0.000000</td>\n",
       "      <td>Al-26</td>\n",
       "    </tr>\n",
       "    <tr>\n",
       "      <th>3339</th>\n",
       "      <td>OCTOPUS</td>\n",
       "      <td>Croke, 2015</td>\n",
       "      <td>10.1016/j.geomorph.2015.04.003</td>\n",
       "      <td>Queensland</td>\n",
       "      <td>Burdekin Riv., upper</td>\n",
       "      <td>Australia</td>\n",
       "      <td>NaN</td>\n",
       "      <td>sample_3</td>\n",
       "      <td>-19.913648</td>\n",
       "      <td>146.495309</td>\n",
       "      <td>...</td>\n",
       "      <td>NaN</td>\n",
       "      <td>NaN</td>\n",
       "      <td>0.012275</td>\n",
       "      <td>0.008745</td>\n",
       "      <td>0.015804</td>\n",
       "      <td>Be-10</td>\n",
       "      <td>0.000000</td>\n",
       "      <td>0.000000</td>\n",
       "      <td>0.000000</td>\n",
       "      <td>Al-26</td>\n",
       "    </tr>\n",
       "    <tr>\n",
       "      <th>3340</th>\n",
       "      <td>OCTOPUS</td>\n",
       "      <td>Croke, 2015</td>\n",
       "      <td>10.1016/j.geomorph.2015.04.003</td>\n",
       "      <td>Queensland</td>\n",
       "      <td>Burdekin Riv., upper</td>\n",
       "      <td>Australia</td>\n",
       "      <td>NaN</td>\n",
       "      <td>sample_2</td>\n",
       "      <td>-19.889100</td>\n",
       "      <td>146.523441</td>\n",
       "      <td>...</td>\n",
       "      <td>NaN</td>\n",
       "      <td>NaN</td>\n",
       "      <td>0.011893</td>\n",
       "      <td>0.008830</td>\n",
       "      <td>0.014955</td>\n",
       "      <td>Be-10</td>\n",
       "      <td>0.000000</td>\n",
       "      <td>0.000000</td>\n",
       "      <td>0.000000</td>\n",
       "      <td>Al-26</td>\n",
       "    </tr>\n",
       "    <tr>\n",
       "      <th>3341</th>\n",
       "      <td>OCTOPUS</td>\n",
       "      <td>Croke, 2015</td>\n",
       "      <td>10.1016/j.geomorph.2015.04.003</td>\n",
       "      <td>Queensland</td>\n",
       "      <td>Burdekin Riv., upper</td>\n",
       "      <td>Australia</td>\n",
       "      <td>NaN</td>\n",
       "      <td>sample_1</td>\n",
       "      <td>-19.892978</td>\n",
       "      <td>146.522860</td>\n",
       "      <td>...</td>\n",
       "      <td>NaN</td>\n",
       "      <td>NaN</td>\n",
       "      <td>0.009163</td>\n",
       "      <td>0.006770</td>\n",
       "      <td>0.011556</td>\n",
       "      <td>Be-10</td>\n",
       "      <td>0.000000</td>\n",
       "      <td>0.000000</td>\n",
       "      <td>0.000000</td>\n",
       "      <td>Al-26</td>\n",
       "    </tr>\n",
       "  </tbody>\n",
       "</table>\n",
       "<p>3342 rows × 28 columns</p>\n",
       "</div>"
      ],
      "text/plain": [
       "     Compilation     Reference                   Reference DOI  \\\n",
       "0        OCTOPUS  Safran, 2005                10.1002/esp.1259   \n",
       "1        OCTOPUS  Safran, 2005                10.1002/esp.1259   \n",
       "2        OCTOPUS  Safran, 2005                10.1002/esp.1259   \n",
       "3        OCTOPUS  Safran, 2005                10.1002/esp.1259   \n",
       "4        OCTOPUS  Safran, 2005                10.1002/esp.1259   \n",
       "...          ...           ...                             ...   \n",
       "3337     OCTOPUS   Croke, 2015  10.1016/j.geomorph.2015.04.003   \n",
       "3338     OCTOPUS   Croke, 2015  10.1016/j.geomorph.2015.04.003   \n",
       "3339     OCTOPUS   Croke, 2015  10.1016/j.geomorph.2015.04.003   \n",
       "3340     OCTOPUS   Croke, 2015  10.1016/j.geomorph.2015.04.003   \n",
       "3341     OCTOPUS   Croke, 2015  10.1016/j.geomorph.2015.04.003   \n",
       "\n",
       "            Locality                 Basin      Place  Region Sample ID  \\\n",
       "0     Bolivian Andes                   NaN    Bolivia     NaN    BOL-50   \n",
       "1     Bolivian Andes                   NaN    Bolivia     NaN    BOL-18   \n",
       "2     Bolivian Andes                   NaN    Bolivia     NaN    BOL-42   \n",
       "3     Bolivian Andes                   NaN    Bolivia     NaN    BOL-15   \n",
       "4     Bolivian Andes                   NaN    Bolivia     NaN   BOL-38a   \n",
       "...              ...                   ...        ...     ...       ...   \n",
       "3337      Queensland  Burdekin Riv., upper  Australia     NaN  sample_7   \n",
       "3338      Queensland  Burdekin Riv., upper  Australia     NaN  sample_4   \n",
       "3339      Queensland  Burdekin Riv., upper  Australia     NaN  sample_3   \n",
       "3340      Queensland  Burdekin Riv., upper  Australia     NaN  sample_2   \n",
       "3341      Queensland  Burdekin Riv., upper  Australia     NaN  sample_1   \n",
       "\n",
       "       Latitude   Longitude  ...  Exhumation min (m) Exhumation max (m)  \\\n",
       "0    -13.982108  -67.506210  ...                 NaN                NaN   \n",
       "1    -15.496664  -67.872265  ...                 NaN                NaN   \n",
       "2    -16.262356  -67.248329  ...                 NaN                NaN   \n",
       "3    -15.306879  -68.213419  ...                 NaN                NaN   \n",
       "4    -16.550337  -67.398295  ...                 NaN                NaN   \n",
       "...         ...         ...  ...                 ...                ...   \n",
       "3337 -19.649583  146.495314  ...                 NaN                NaN   \n",
       "3338 -19.917880  146.497963  ...                 NaN                NaN   \n",
       "3339 -19.913648  146.495309  ...                 NaN                NaN   \n",
       "3340 -19.889100  146.523441  ...                 NaN                NaN   \n",
       "3341 -19.892978  146.522860  ...                 NaN                NaN   \n",
       "\n",
       "     Be Erosion rate (mm/yr) Be Erosion rate min  Be Erosion rate max  \\\n",
       "0                   0.511913            0.410583             0.613243   \n",
       "1                   0.132416            0.106881             0.157951   \n",
       "2                   0.362017            0.291551             0.432484   \n",
       "3                   0.205966            0.166896             0.245035   \n",
       "4                   0.385678            0.312969             0.458387   \n",
       "...                      ...                 ...                  ...   \n",
       "3337                0.013741            0.010276             0.017207   \n",
       "3338                0.009943            0.007396             0.012491   \n",
       "3339                0.012275            0.008745             0.015804   \n",
       "3340                0.011893            0.008830             0.014955   \n",
       "3341                0.009163            0.006770             0.011556   \n",
       "\n",
       "      Comments  Al Erosion rate (mm/yr)  Al Erosion rate min  \\\n",
       "0        Be-10                 0.598898             0.465459   \n",
       "1        Be-10                 0.000000             0.000000   \n",
       "2        Be-10                 0.000000             0.000000   \n",
       "3        Be-10                 0.000000             0.000000   \n",
       "4        Be-10                 0.000000             0.000000   \n",
       "...        ...                      ...                  ...   \n",
       "3337     Be-10                 0.000000             0.000000   \n",
       "3338     Be-10                 0.000000             0.000000   \n",
       "3339     Be-10                 0.000000             0.000000   \n",
       "3340     Be-10                 0.000000             0.000000   \n",
       "3341     Be-10                 0.000000             0.000000   \n",
       "\n",
       "      Al Erosion rate max  Comments.1  \n",
       "0                0.732337       Al-26  \n",
       "1                0.000000       Al-26  \n",
       "2                0.000000       Al-26  \n",
       "3                0.000000       Al-26  \n",
       "4                0.000000       Al-26  \n",
       "...                   ...         ...  \n",
       "3337             0.000000       Al-26  \n",
       "3338             0.000000       Al-26  \n",
       "3339             0.000000       Al-26  \n",
       "3340             0.000000       Al-26  \n",
       "3341             0.000000       Al-26  \n",
       "\n",
       "[3342 rows x 28 columns]"
      ]
     },
     "execution_count": 26,
     "metadata": {},
     "output_type": "execute_result"
    }
   ],
   "source": [
    "fluvial = pd.read_csv('octopus.csv')[:3342]\n",
    "fluvial"
   ]
  },
  {
   "cell_type": "code",
   "execution_count": 31,
   "id": "1d4b2c51",
   "metadata": {},
   "outputs": [
    {
     "data": {
      "text/html": [
       "<div>\n",
       "<style scoped>\n",
       "    .dataframe tbody tr th:only-of-type {\n",
       "        vertical-align: middle;\n",
       "    }\n",
       "\n",
       "    .dataframe tbody tr th {\n",
       "        vertical-align: top;\n",
       "    }\n",
       "\n",
       "    .dataframe thead th {\n",
       "        text-align: right;\n",
       "    }\n",
       "</style>\n",
       "<table border=\"1\" class=\"dataframe\">\n",
       "  <thead>\n",
       "    <tr style=\"text-align: right;\">\n",
       "      <th></th>\n",
       "      <th>Locality</th>\n",
       "      <th>Glacier</th>\n",
       "      <th>Lookup location</th>\n",
       "      <th>Region</th>\n",
       "      <th>Lat</th>\n",
       "      <th>Long</th>\n",
       "      <th>Rounded Lat</th>\n",
       "      <th>Rounded Lon</th>\n",
       "      <th>Present in Main?</th>\n",
       "    </tr>\n",
       "  </thead>\n",
       "  <tbody>\n",
       "    <tr>\n",
       "      <th>0</th>\n",
       "      <td>Andvord Bay</td>\n",
       "      <td>Andvord Bay</td>\n",
       "      <td>Andvord Bay, Andvord Bay</td>\n",
       "      <td>Antarctica</td>\n",
       "      <td>64.83333</td>\n",
       "      <td>62.65000</td>\n",
       "      <td>64.83333</td>\n",
       "      <td>62.65000</td>\n",
       "      <td>True</td>\n",
       "    </tr>\n",
       "    <tr>\n",
       "      <th>1</th>\n",
       "      <td>Annapurna III, Himalaya</td>\n",
       "      <td>Milarepa's Glacier</td>\n",
       "      <td>Milarepa's Glacier, Annapurna III, Himalaya</td>\n",
       "      <td>Himalaya</td>\n",
       "      <td>28.58436</td>\n",
       "      <td>83.98884</td>\n",
       "      <td>28.58436</td>\n",
       "      <td>83.98884</td>\n",
       "      <td>True</td>\n",
       "    </tr>\n",
       "    <tr>\n",
       "      <th>2</th>\n",
       "      <td>Antarctic Peninsula</td>\n",
       "      <td>Andvord Bay</td>\n",
       "      <td>Andvord Bay, Antarctic Peninsula</td>\n",
       "      <td>Antarctica</td>\n",
       "      <td>-64.81136</td>\n",
       "      <td>-62.63329</td>\n",
       "      <td>-64.81136</td>\n",
       "      <td>-62.63329</td>\n",
       "      <td>True</td>\n",
       "    </tr>\n",
       "    <tr>\n",
       "      <th>3</th>\n",
       "      <td>Antarctic Peninsula</td>\n",
       "      <td>Bagshawe</td>\n",
       "      <td>Bagshawe, Antarctic Peninsula</td>\n",
       "      <td>Antarctica</td>\n",
       "      <td>-64.93330</td>\n",
       "      <td>-62.58330</td>\n",
       "      <td>-64.93330</td>\n",
       "      <td>-62.58330</td>\n",
       "      <td>True</td>\n",
       "    </tr>\n",
       "    <tr>\n",
       "      <th>4</th>\n",
       "      <td>Antarctic Peninsula</td>\n",
       "      <td>Bolton</td>\n",
       "      <td>Bolton, Antarctic Peninsula</td>\n",
       "      <td>Antarctica</td>\n",
       "      <td>-65.01670</td>\n",
       "      <td>-62.96670</td>\n",
       "      <td>-65.01670</td>\n",
       "      <td>-62.96670</td>\n",
       "      <td>True</td>\n",
       "    </tr>\n",
       "    <tr>\n",
       "      <th>...</th>\n",
       "      <td>...</td>\n",
       "      <td>...</td>\n",
       "      <td>...</td>\n",
       "      <td>...</td>\n",
       "      <td>...</td>\n",
       "      <td>...</td>\n",
       "      <td>...</td>\n",
       "      <td>...</td>\n",
       "      <td>...</td>\n",
       "    </tr>\n",
       "    <tr>\n",
       "      <th>248</th>\n",
       "      <td>South Australia</td>\n",
       "      <td>Marinoan Ice Sheet</td>\n",
       "      <td>Marinoan Ice Sheet, South Australia</td>\n",
       "      <td>Australia</td>\n",
       "      <td>NaN</td>\n",
       "      <td>NaN</td>\n",
       "      <td>NaN</td>\n",
       "      <td>NaN</td>\n",
       "      <td>NaN</td>\n",
       "    </tr>\n",
       "    <tr>\n",
       "      <th>249</th>\n",
       "      <td>Ellery Creek</td>\n",
       "      <td>Sturtian Ice Sheet</td>\n",
       "      <td>Sturtian Ice Sheet, Ellery Creek</td>\n",
       "      <td>Australia</td>\n",
       "      <td>NaN</td>\n",
       "      <td>NaN</td>\n",
       "      <td>NaN</td>\n",
       "      <td>NaN</td>\n",
       "      <td>NaN</td>\n",
       "    </tr>\n",
       "    <tr>\n",
       "      <th>250</th>\n",
       "      <td>Oman</td>\n",
       "      <td>Sturtian Ice Sheet</td>\n",
       "      <td>Sturtian Ice Sheet, Oman</td>\n",
       "      <td>Morocco</td>\n",
       "      <td>NaN</td>\n",
       "      <td>NaN</td>\n",
       "      <td>NaN</td>\n",
       "      <td>NaN</td>\n",
       "      <td>NaN</td>\n",
       "    </tr>\n",
       "    <tr>\n",
       "      <th>251</th>\n",
       "      <td>Chuos Formation, N. Namibia</td>\n",
       "      <td>Sturtian Ice Sheet</td>\n",
       "      <td>Sturtian Ice Sheet, Chuos Formation, N. Namibia</td>\n",
       "      <td>Namibia</td>\n",
       "      <td>NaN</td>\n",
       "      <td>NaN</td>\n",
       "      <td>NaN</td>\n",
       "      <td>NaN</td>\n",
       "      <td>NaN</td>\n",
       "    </tr>\n",
       "    <tr>\n",
       "      <th>252</th>\n",
       "      <td>Congo craton</td>\n",
       "      <td>Marinoan Ice Sheet</td>\n",
       "      <td>Marinoan Ice Sheet, Congo craton</td>\n",
       "      <td>Namibia</td>\n",
       "      <td>NaN</td>\n",
       "      <td>NaN</td>\n",
       "      <td>NaN</td>\n",
       "      <td>NaN</td>\n",
       "      <td>NaN</td>\n",
       "    </tr>\n",
       "  </tbody>\n",
       "</table>\n",
       "<p>253 rows × 9 columns</p>\n",
       "</div>"
      ],
      "text/plain": [
       "                        Locality             Glacier  \\\n",
       "0                    Andvord Bay         Andvord Bay   \n",
       "1        Annapurna III, Himalaya  Milarepa's Glacier   \n",
       "2            Antarctic Peninsula         Andvord Bay   \n",
       "3            Antarctic Peninsula            Bagshawe   \n",
       "4            Antarctic Peninsula              Bolton   \n",
       "..                           ...                 ...   \n",
       "248              South Australia  Marinoan Ice Sheet   \n",
       "249                 Ellery Creek  Sturtian Ice Sheet   \n",
       "250                         Oman  Sturtian Ice Sheet   \n",
       "251  Chuos Formation, N. Namibia  Sturtian Ice Sheet   \n",
       "252                 Congo craton  Marinoan Ice Sheet   \n",
       "\n",
       "                                     Lookup location      Region       Lat  \\\n",
       "0                           Andvord Bay, Andvord Bay  Antarctica  64.83333   \n",
       "1        Milarepa's Glacier, Annapurna III, Himalaya    Himalaya  28.58436   \n",
       "2                   Andvord Bay, Antarctic Peninsula  Antarctica -64.81136   \n",
       "3                      Bagshawe, Antarctic Peninsula  Antarctica -64.93330   \n",
       "4                        Bolton, Antarctic Peninsula  Antarctica -65.01670   \n",
       "..                                               ...         ...       ...   \n",
       "248              Marinoan Ice Sheet, South Australia   Australia       NaN   \n",
       "249                 Sturtian Ice Sheet, Ellery Creek   Australia       NaN   \n",
       "250                         Sturtian Ice Sheet, Oman     Morocco       NaN   \n",
       "251  Sturtian Ice Sheet, Chuos Formation, N. Namibia     Namibia       NaN   \n",
       "252                 Marinoan Ice Sheet, Congo craton     Namibia       NaN   \n",
       "\n",
       "         Long  Rounded Lat  Rounded Lon Present in Main?  \n",
       "0    62.65000     64.83333     62.65000             True  \n",
       "1    83.98884     28.58436     83.98884             True  \n",
       "2   -62.63329    -64.81136    -62.63329             True  \n",
       "3   -62.58330    -64.93330    -62.58330             True  \n",
       "4   -62.96670    -65.01670    -62.96670             True  \n",
       "..        ...          ...          ...              ...  \n",
       "248       NaN          NaN          NaN              NaN  \n",
       "249       NaN          NaN          NaN              NaN  \n",
       "250       NaN          NaN          NaN              NaN  \n",
       "251       NaN          NaN          NaN              NaN  \n",
       "252       NaN          NaN          NaN              NaN  \n",
       "\n",
       "[253 rows x 9 columns]"
      ]
     },
     "execution_count": 31,
     "metadata": {},
     "output_type": "execute_result"
    }
   ],
   "source": [
    "glacial = pd.read_csv('glacial_erosion.csv')[:253]\n",
    "glacial"
   ]
  },
  {
   "cell_type": "code",
   "execution_count": 32,
   "id": "716efac0",
   "metadata": {},
   "outputs": [
    {
     "data": {
      "text/html": [
       "<div>\n",
       "<style scoped>\n",
       "    .dataframe tbody tr th:only-of-type {\n",
       "        vertical-align: middle;\n",
       "    }\n",
       "\n",
       "    .dataframe tbody tr th {\n",
       "        vertical-align: top;\n",
       "    }\n",
       "\n",
       "    .dataframe thead th {\n",
       "        text-align: right;\n",
       "    }\n",
       "</style>\n",
       "<table border=\"1\" class=\"dataframe\">\n",
       "  <thead>\n",
       "    <tr style=\"text-align: right;\">\n",
       "      <th></th>\n",
       "      <th>Locality</th>\n",
       "      <th>Glacier</th>\n",
       "      <th>Lookup location</th>\n",
       "      <th>Region</th>\n",
       "      <th>Lat</th>\n",
       "      <th>Long</th>\n",
       "      <th>Rounded Lat</th>\n",
       "      <th>Rounded Lon</th>\n",
       "      <th>Present in Main?</th>\n",
       "      <th>type</th>\n",
       "    </tr>\n",
       "  </thead>\n",
       "  <tbody>\n",
       "    <tr>\n",
       "      <th>0</th>\n",
       "      <td>Andvord Bay</td>\n",
       "      <td>Andvord Bay</td>\n",
       "      <td>Andvord Bay, Andvord Bay</td>\n",
       "      <td>Antarctica</td>\n",
       "      <td>64.83333</td>\n",
       "      <td>62.65000</td>\n",
       "      <td>64.83333</td>\n",
       "      <td>62.65000</td>\n",
       "      <td>True</td>\n",
       "      <td>Glacial</td>\n",
       "    </tr>\n",
       "    <tr>\n",
       "      <th>1</th>\n",
       "      <td>Annapurna III, Himalaya</td>\n",
       "      <td>Milarepa's Glacier</td>\n",
       "      <td>Milarepa's Glacier, Annapurna III, Himalaya</td>\n",
       "      <td>Himalaya</td>\n",
       "      <td>28.58436</td>\n",
       "      <td>83.98884</td>\n",
       "      <td>28.58436</td>\n",
       "      <td>83.98884</td>\n",
       "      <td>True</td>\n",
       "      <td>Glacial</td>\n",
       "    </tr>\n",
       "    <tr>\n",
       "      <th>2</th>\n",
       "      <td>Antarctic Peninsula</td>\n",
       "      <td>Andvord Bay</td>\n",
       "      <td>Andvord Bay, Antarctic Peninsula</td>\n",
       "      <td>Antarctica</td>\n",
       "      <td>-64.81136</td>\n",
       "      <td>-62.63329</td>\n",
       "      <td>-64.81136</td>\n",
       "      <td>-62.63329</td>\n",
       "      <td>True</td>\n",
       "      <td>Glacial</td>\n",
       "    </tr>\n",
       "    <tr>\n",
       "      <th>3</th>\n",
       "      <td>Antarctic Peninsula</td>\n",
       "      <td>Bagshawe</td>\n",
       "      <td>Bagshawe, Antarctic Peninsula</td>\n",
       "      <td>Antarctica</td>\n",
       "      <td>-64.93330</td>\n",
       "      <td>-62.58330</td>\n",
       "      <td>-64.93330</td>\n",
       "      <td>-62.58330</td>\n",
       "      <td>True</td>\n",
       "      <td>Glacial</td>\n",
       "    </tr>\n",
       "    <tr>\n",
       "      <th>4</th>\n",
       "      <td>Antarctic Peninsula</td>\n",
       "      <td>Bolton</td>\n",
       "      <td>Bolton, Antarctic Peninsula</td>\n",
       "      <td>Antarctica</td>\n",
       "      <td>-65.01670</td>\n",
       "      <td>-62.96670</td>\n",
       "      <td>-65.01670</td>\n",
       "      <td>-62.96670</td>\n",
       "      <td>True</td>\n",
       "      <td>Glacial</td>\n",
       "    </tr>\n",
       "    <tr>\n",
       "      <th>...</th>\n",
       "      <td>...</td>\n",
       "      <td>...</td>\n",
       "      <td>...</td>\n",
       "      <td>...</td>\n",
       "      <td>...</td>\n",
       "      <td>...</td>\n",
       "      <td>...</td>\n",
       "      <td>...</td>\n",
       "      <td>...</td>\n",
       "      <td>...</td>\n",
       "    </tr>\n",
       "    <tr>\n",
       "      <th>248</th>\n",
       "      <td>South Australia</td>\n",
       "      <td>Marinoan Ice Sheet</td>\n",
       "      <td>Marinoan Ice Sheet, South Australia</td>\n",
       "      <td>Australia</td>\n",
       "      <td>NaN</td>\n",
       "      <td>NaN</td>\n",
       "      <td>NaN</td>\n",
       "      <td>NaN</td>\n",
       "      <td>NaN</td>\n",
       "      <td>Glacial</td>\n",
       "    </tr>\n",
       "    <tr>\n",
       "      <th>249</th>\n",
       "      <td>Ellery Creek</td>\n",
       "      <td>Sturtian Ice Sheet</td>\n",
       "      <td>Sturtian Ice Sheet, Ellery Creek</td>\n",
       "      <td>Australia</td>\n",
       "      <td>NaN</td>\n",
       "      <td>NaN</td>\n",
       "      <td>NaN</td>\n",
       "      <td>NaN</td>\n",
       "      <td>NaN</td>\n",
       "      <td>Glacial</td>\n",
       "    </tr>\n",
       "    <tr>\n",
       "      <th>250</th>\n",
       "      <td>Oman</td>\n",
       "      <td>Sturtian Ice Sheet</td>\n",
       "      <td>Sturtian Ice Sheet, Oman</td>\n",
       "      <td>Morocco</td>\n",
       "      <td>NaN</td>\n",
       "      <td>NaN</td>\n",
       "      <td>NaN</td>\n",
       "      <td>NaN</td>\n",
       "      <td>NaN</td>\n",
       "      <td>Glacial</td>\n",
       "    </tr>\n",
       "    <tr>\n",
       "      <th>251</th>\n",
       "      <td>Chuos Formation, N. Namibia</td>\n",
       "      <td>Sturtian Ice Sheet</td>\n",
       "      <td>Sturtian Ice Sheet, Chuos Formation, N. Namibia</td>\n",
       "      <td>Namibia</td>\n",
       "      <td>NaN</td>\n",
       "      <td>NaN</td>\n",
       "      <td>NaN</td>\n",
       "      <td>NaN</td>\n",
       "      <td>NaN</td>\n",
       "      <td>Glacial</td>\n",
       "    </tr>\n",
       "    <tr>\n",
       "      <th>252</th>\n",
       "      <td>Congo craton</td>\n",
       "      <td>Marinoan Ice Sheet</td>\n",
       "      <td>Marinoan Ice Sheet, Congo craton</td>\n",
       "      <td>Namibia</td>\n",
       "      <td>NaN</td>\n",
       "      <td>NaN</td>\n",
       "      <td>NaN</td>\n",
       "      <td>NaN</td>\n",
       "      <td>NaN</td>\n",
       "      <td>Glacial</td>\n",
       "    </tr>\n",
       "  </tbody>\n",
       "</table>\n",
       "<p>253 rows × 10 columns</p>\n",
       "</div>"
      ],
      "text/plain": [
       "                        Locality             Glacier  \\\n",
       "0                    Andvord Bay         Andvord Bay   \n",
       "1        Annapurna III, Himalaya  Milarepa's Glacier   \n",
       "2            Antarctic Peninsula         Andvord Bay   \n",
       "3            Antarctic Peninsula            Bagshawe   \n",
       "4            Antarctic Peninsula              Bolton   \n",
       "..                           ...                 ...   \n",
       "248              South Australia  Marinoan Ice Sheet   \n",
       "249                 Ellery Creek  Sturtian Ice Sheet   \n",
       "250                         Oman  Sturtian Ice Sheet   \n",
       "251  Chuos Formation, N. Namibia  Sturtian Ice Sheet   \n",
       "252                 Congo craton  Marinoan Ice Sheet   \n",
       "\n",
       "                                     Lookup location      Region       Lat  \\\n",
       "0                           Andvord Bay, Andvord Bay  Antarctica  64.83333   \n",
       "1        Milarepa's Glacier, Annapurna III, Himalaya    Himalaya  28.58436   \n",
       "2                   Andvord Bay, Antarctic Peninsula  Antarctica -64.81136   \n",
       "3                      Bagshawe, Antarctic Peninsula  Antarctica -64.93330   \n",
       "4                        Bolton, Antarctic Peninsula  Antarctica -65.01670   \n",
       "..                                               ...         ...       ...   \n",
       "248              Marinoan Ice Sheet, South Australia   Australia       NaN   \n",
       "249                 Sturtian Ice Sheet, Ellery Creek   Australia       NaN   \n",
       "250                         Sturtian Ice Sheet, Oman     Morocco       NaN   \n",
       "251  Sturtian Ice Sheet, Chuos Formation, N. Namibia     Namibia       NaN   \n",
       "252                 Marinoan Ice Sheet, Congo craton     Namibia       NaN   \n",
       "\n",
       "         Long  Rounded Lat  Rounded Lon Present in Main?     type  \n",
       "0    62.65000     64.83333     62.65000             True  Glacial  \n",
       "1    83.98884     28.58436     83.98884             True  Glacial  \n",
       "2   -62.63329    -64.81136    -62.63329             True  Glacial  \n",
       "3   -62.58330    -64.93330    -62.58330             True  Glacial  \n",
       "4   -62.96670    -65.01670    -62.96670             True  Glacial  \n",
       "..        ...          ...          ...              ...      ...  \n",
       "248       NaN          NaN          NaN              NaN  Glacial  \n",
       "249       NaN          NaN          NaN              NaN  Glacial  \n",
       "250       NaN          NaN          NaN              NaN  Glacial  \n",
       "251       NaN          NaN          NaN              NaN  Glacial  \n",
       "252       NaN          NaN          NaN              NaN  Glacial  \n",
       "\n",
       "[253 rows x 10 columns]"
      ]
     },
     "execution_count": 32,
     "metadata": {},
     "output_type": "execute_result"
    }
   ],
   "source": [
    "glacial['type'] = 'Glacial'\n",
    "\n",
    "glacial"
   ]
  },
  {
   "cell_type": "markdown",
   "id": "3f94347f",
   "metadata": {},
   "source": [
    "### Preprocessing Data"
   ]
  },
  {
   "cell_type": "code",
   "execution_count": 38,
   "id": "95244ce0",
   "metadata": {},
   "outputs": [],
   "source": [
    "def preprocess_data(dff, dfg):\n",
    "    \n",
    "    world = pd.DataFrame() # initializing a dataframe\n",
    "    \n",
    "    # latitudes\n",
    "    flat = np.array(dff['Latitude'])\n",
    "    glat = np.array(dfg['Lat'])\n",
    "    lats = np.append(flat, glat)\n",
    "    world['lat'] = lats\n",
    "    \n",
    "    # longitudes\n",
    "    flon = np.array(dff['Longitude'])\n",
    "    glon = np.array(dfg['Long'])\n",
    "    longs = np.append(flon, glon)\n",
    "    world['long'] = longs\n",
    "    \n",
    "    # region\n",
    "    freg = np.array(dff['Place'])\n",
    "    greg = np.array(dfg['Region'])\n",
    "    region = np.append(freg, greg)\n",
    "    world['region'] = region\n",
    "    \n",
    "    # locality\n",
    "    floc = np.array(dff['Locality'])\n",
    "    gloc = np.array(dfg['Locality'])\n",
    "    locs = np.append(floc, gloc)\n",
    "    world['locality'] = locs\n",
    "    \n",
    "    # type\n",
    "    ftype = np.array(dff['Type'])\n",
    "    gtype = np.array(dfg['type'])\n",
    "    types = np.append(ftype, gtype)\n",
    "    world['type'] = types\n",
    "    \n",
    "    # glacier/basin\n",
    "    basin = np.array(dff['Basin'])\n",
    "    glacier = np.array(dfg['Glacier'])\n",
    "    names = np.append(basin, glacier)\n",
    "    world['names'] = names\n",
    "    \n",
    "    return world"
   ]
  },
  {
   "cell_type": "code",
   "execution_count": 39,
   "id": "534592b8",
   "metadata": {},
   "outputs": [],
   "source": [
    "world_df = preprocess_data(fluvial, glacial)"
   ]
  },
  {
   "cell_type": "markdown",
   "id": "5b91e81b",
   "metadata": {},
   "source": [
    "### Map Function"
   ]
  },
  {
   "cell_type": "code",
   "execution_count": 46,
   "id": "fca8c307",
   "metadata": {},
   "outputs": [],
   "source": [
    "def generate_map(world, **kwargs):\n",
    "    \n",
    "    fig = px.scatter_geo(world,\n",
    "                        lat='lat',\n",
    "                        lon='long',\n",
    "                        hover_data=['locality','region'],\n",
    "                        hover_name='names',\n",
    "                        color='type',\n",
    "                        color_discrete_sequence=px.colors.qualitative.D3,\n",
    "                        **kwargs\n",
    "                        )\n",
    "    fig.update(layout={\"title\": {\"x\": 0.85, \"y\": 0.97}})\n",
    "    fig.update_layout(margin={\"r\":0,\"t\":30,\"l\":0,\"b\":10})\n",
    "    \n",
    "    fig.update_layout(legend=dict(\n",
    "    yanchor=\"bottom\",\n",
    "    y=0.50,\n",
    "    xanchor=\"left\",\n",
    "    x=0.01\n",
    "))\n",
    "    \n",
    "    return fig"
   ]
  },
  {
   "cell_type": "code",
   "execution_count": 47,
   "id": "ad3a1d2c",
   "metadata": {},
   "outputs": [
    {
     "data": {
      "application/vnd.plotly.v1+json": {
       "config": {
        "plotlyServerURL": "https://plot.ly"
       },
       "data": [
        {
         "customdata": [
          [
           "Bolivian Andes",
           "Bolivia"
          ],
          [
           "Bolivian Andes",
           "Bolivia"
          ],
          [
           "Bolivian Andes",
           "Bolivia"
          ],
          [
           "Bolivian Andes",
           "Bolivia"
          ],
          [
           "Bolivian Andes",
           "Bolivia"
          ],
          [
           "Bolivian Andes",
           "Bolivia"
          ],
          [
           "Bolivian Andes",
           "Bolivia"
          ],
          [
           "Bolivian Andes",
           "Bolivia"
          ],
          [
           "Bolivian Andes",
           "Bolivia"
          ],
          [
           "Bolivian Andes",
           "Bolivia"
          ],
          [
           "Bolivian Andes",
           "Bolivia"
          ],
          [
           "Bolivian Andes",
           "Bolivia"
          ],
          [
           "Bolivian Andes",
           "Bolivia"
          ],
          [
           "Bolivian Andes",
           "Bolivia"
          ],
          [
           "Bolivian Andes",
           "Bolivia"
          ],
          [
           "Bolivian Andes",
           "Bolivia"
          ],
          [
           "Bolivian Andes",
           "Bolivia"
          ],
          [
           "Bolivian Andes",
           "Bolivia"
          ],
          [
           "Bolivian Andes",
           "Bolivia"
          ],
          [
           "Bolivian Andes",
           "Bolivia"
          ],
          [
           "Bolivian Andes",
           "Bolivia"
          ],
          [
           "Bolivian Andes",
           "Bolivia"
          ],
          [
           "Bolivian Andes",
           "Bolivia"
          ],
          [
           "Bolivian Andes",
           "Bolivia"
          ],
          [
           "Bolivian Andes",
           "Bolivia"
          ],
          [
           "Bolivian Andes",
           "Bolivia"
          ],
          [
           "Bolivian Andes",
           "Bolivia"
          ],
          [
           "Bolivian Andes",
           "Bolivia"
          ],
          [
           "Bolivian Andes",
           "Bolivia"
          ],
          [
           "Bolivian Andes",
           "Bolivia"
          ],
          [
           "Bolivian Andes",
           "Bolivia"
          ],
          [
           "Bolivian Andes",
           "Bolivia"
          ],
          [
           "Bolivian Andes",
           "Bolivia"
          ],
          [
           "Bolivian Andes",
           "Bolivia"
          ],
          [
           "Bolivian Andes",
           "Bolivia"
          ],
          [
           "Middle Europe",
           "France"
          ],
          [
           "Middle Europe",
           "France"
          ],
          [
           "Bolivian Andes",
           "Bolivia"
          ],
          [
           "Bolivian Andes",
           "Bolivia"
          ],
          [
           "Bolivian Andes",
           "Bolivia"
          ],
          [
           "Bolivian Andes",
           "Bolivia"
          ],
          [
           "Bolivian Andes",
           "Bolivia"
          ],
          [
           "Bolivian Andes",
           "Bolivia"
          ],
          [
           "Middle Europe",
           "France"
          ],
          [
           "Bolivian Andes",
           "Bolivia"
          ],
          [
           "Bolivian Andes",
           "Bolivia"
          ],
          [
           "Middle Europe",
           "France"
          ],
          [
           "Middle Europe",
           "Netherlands"
          ],
          [
           "Bolivian Andes",
           "Bolivia"
          ],
          [
           "Bolivian Andes",
           "Bolivia"
          ],
          [
           "Middle Europe",
           "Netherlands"
          ],
          [
           "Bolivian Andes",
           "Bolivia"
          ],
          [
           "Bolivian Andes",
           "Bolivia"
          ],
          [
           "Bolivian Andes",
           "Bolivia"
          ],
          [
           "Bolivian Andes",
           "Bolivia"
          ],
          [
           "Bolivian Andes",
           "Bolivia"
          ],
          [
           "Bolivian Andes",
           "Bolivia"
          ],
          [
           "Middle Europe",
           "Netherlands"
          ],
          [
           "Bolivian Andes",
           "Bolivia"
          ],
          [
           "Bolivian Andes",
           "Bolivia"
          ],
          [
           "Middle Europe",
           "Belgium"
          ],
          [
           "Bolivian Andes",
           "Bolivia"
          ],
          [
           "Bolivian Andes",
           "Bolivia"
          ],
          [
           "Bolivian Andes",
           "Bolivia"
          ],
          [
           "Middle Europe",
           "Belgium"
          ],
          [
           "Middle Europe",
           "Belgium"
          ],
          [
           "Middle Europe",
           "France"
          ],
          [
           "Middle Europe",
           "Belgium"
          ],
          [
           "Middle Europe",
           "France"
          ],
          [
           "Middle Europe",
           "France"
          ],
          [
           "Rhine catchment (BW)",
           "Germany"
          ],
          [
           "Middle Europe",
           "France"
          ],
          [
           "Middle Europe",
           "France"
          ],
          [
           "Rhine catchment (BW)",
           "Germany"
          ],
          [
           "Rhine catchment (BW)",
           "Germany"
          ],
          [
           "Rhine catchment (BW)",
           "Germany"
          ],
          [
           "Middle Europe",
           "France"
          ],
          [
           "Middle Europe",
           "France"
          ],
          [
           "Rhine catchment (BW)",
           "Germany"
          ],
          [
           "Rhine catchment (BW)",
           "Germany"
          ],
          [
           "Middle Europe",
           "Belgium"
          ],
          [
           "Middle Europe",
           "France"
          ],
          [
           "Middle Europe",
           "France"
          ],
          [
           "Middle Europe",
           "France"
          ],
          [
           "Middle Europe",
           "France"
          ],
          [
           "Rhine catchment (BW)",
           "Germany"
          ],
          [
           "Middle Europe",
           "France"
          ],
          [
           "Middle Europe",
           "France"
          ],
          [
           "Middle Europe",
           "France"
          ],
          [
           "Rhine catchment (BW)",
           "Germany"
          ],
          [
           "Rhine catchment (BW)",
           "Germany"
          ],
          [
           "Danube catchment (BY)",
           "Germany"
          ],
          [
           "Middle Europe",
           "France"
          ],
          [
           "Danube catchment (BY)",
           "Germany"
          ],
          [
           "Middle Europe",
           "France"
          ],
          [
           "Middle Europe",
           "France"
          ],
          [
           "Middle Europe",
           "France"
          ],
          [
           "Middle Europe",
           "France"
          ],
          [
           "Middle Europe",
           "France"
          ],
          [
           "Danube catchment (BY)",
           "Germany"
          ],
          [
           "Danube catchment (BY)",
           "Germany"
          ],
          [
           "Napo Riv., Upper Amazon Basin",
           "Ecuador"
          ],
          [
           "Napo Riv., Upper Amazon Basin",
           "Peru"
          ],
          [
           "Danube catchment (BY)",
           "Germany"
          ],
          [
           "Napo Riv., Upper Amazon Basin",
           "Ecuador"
          ],
          [
           "Napo Riv., Upper Amazon Basin",
           "Ecuador"
          ],
          [
           "Danube catchment (BY)",
           "Germany"
          ],
          [
           "Middle Europe",
           "France"
          ],
          [
           "Three Rivers Region",
           "China"
          ],
          [
           "Danube catchment (BY)",
           "Germany"
          ],
          [
           "Three Rivers Region",
           "China"
          ],
          [
           "Three Rivers Region",
           "China"
          ],
          [
           "Three Rivers Region",
           "China"
          ],
          [
           "Middle Europe",
           "France"
          ],
          [
           "Three Rivers Region",
           "China"
          ],
          [
           "Rhine catchment (BW)",
           "Germany"
          ],
          [
           "Middle Europe",
           "France"
          ],
          [
           "Three Rivers Region",
           "China"
          ],
          [
           "Three Rivers Region",
           "China"
          ],
          [
           "Three Rivers Region",
           "China"
          ],
          [
           "Middle Europe",
           "France"
          ],
          [
           "Middle Europe",
           "France"
          ],
          [
           "Danube catchment (BY)",
           "Germany"
          ],
          [
           "Three Rivers Region",
           "China"
          ],
          [
           "Rhine catchment (BW)",
           "Germany"
          ],
          [
           "Napo Riv., Upper Amazon Basin",
           "Peru"
          ],
          [
           "Napo Riv., Upper Amazon Basin",
           "Peru"
          ],
          [
           "Napo Riv., Upper Amazon Basin",
           "Peru"
          ],
          [
           "Napo Riv., Upper Amazon Basin",
           "Peru"
          ],
          [
           "Middle Europe",
           "France"
          ],
          [
           "Middle Europe",
           "France"
          ],
          [
           "Danube catchment (BY)",
           "Germany"
          ],
          [
           "Danube catchment (BY)",
           "Germany"
          ],
          [
           "Napo Riv., Upper Amazon Basin",
           "Peru"
          ],
          [
           "Middle Europe",
           "France"
          ],
          [
           "Danube catchment (BY)",
           "Germany"
          ],
          [
           "Rhine catchment (BW)",
           "Germany"
          ],
          [
           "Danube catchment (BY)",
           "Germany"
          ],
          [
           "Middle Europe",
           "France"
          ],
          [
           "Danube catchment (BY)",
           "Germany"
          ],
          [
           "Danube catchment (BY)",
           "Germany"
          ],
          [
           "Middle Europe",
           "France"
          ],
          [
           "Middle Europe",
           "France"
          ],
          [
           "Napo Riv., Upper Amazon Basin",
           "Peru"
          ],
          [
           "Napo Riv., Upper Amazon Basin",
           "Peru"
          ],
          [
           "Napo Riv., Upper Amazon Basin",
           "Ecuador"
          ],
          [
           "Napo Riv., Upper Amazon Basin",
           "Ecuador"
          ],
          [
           "Three Rivers Region",
           "China"
          ],
          [
           "Napo Riv., Upper Amazon Basin",
           "Ecuador"
          ],
          [
           "Three Rivers Region",
           "China"
          ],
          [
           "Three Rivers Region",
           "China"
          ],
          [
           "Napo Riv., Upper Amazon Basin",
           "Ecuador"
          ],
          [
           "Three Rivers Region",
           "China"
          ],
          [
           "Three Rivers Region",
           "China"
          ],
          [
           "Three Rivers Region",
           "China"
          ],
          [
           "Napo Riv., Upper Amazon Basin",
           "Ecuador"
          ],
          [
           "Three Rivers Region",
           "China"
          ],
          [
           "Three Rivers Region",
           "China"
          ],
          [
           "Three Rivers Region",
           "China"
          ],
          [
           "Three Rivers Region",
           "China"
          ],
          [
           "Three Rivers Region",
           "China"
          ],
          [
           "Three Rivers Region",
           "China"
          ],
          [
           "Three Rivers Region",
           "China"
          ],
          [
           "Three Rivers Region",
           "China"
          ],
          [
           "Three Rivers Region",
           "China"
          ],
          [
           "Three Rivers Region",
           "China"
          ],
          [
           "Three Rivers Region",
           "China"
          ],
          [
           "Three Rivers Region",
           "China"
          ],
          [
           "Three Rivers Region",
           "China"
          ],
          [
           "Three Rivers Region",
           "China"
          ],
          [
           "Three Rivers Region",
           "China"
          ],
          [
           "Three Rivers Region",
           "China"
          ],
          [
           "Three Rivers Region",
           "China"
          ],
          [
           "Three Rivers Region",
           "China"
          ],
          [
           "Three Rivers Region",
           "China"
          ],
          [
           "Three Rivers Region",
           "China"
          ],
          [
           "Three Rivers Region",
           "China"
          ],
          [
           "Three Rivers Region",
           "China"
          ],
          [
           "Three Rivers Region",
           "China"
          ],
          [
           "Three Rivers Region",
           "China"
          ],
          [
           "Three Rivers Region",
           "China"
          ],
          [
           "Three Rivers Region",
           "China"
          ],
          [
           "Three Rivers Region",
           "China"
          ],
          [
           "Three Rivers Region",
           "China"
          ],
          [
           "Three Rivers Region",
           "China"
          ],
          [
           "Three Rivers Region",
           "China"
          ],
          [
           "Three Rivers Region",
           "China"
          ],
          [
           "Three Rivers Region",
           "China"
          ],
          [
           "Three Rivers Region",
           "China"
          ],
          [
           "Cenral Andes",
           "Bolivia"
          ],
          [
           "Cenral Andes",
           "Bolivia"
          ],
          [
           "Appalachian Mts. (MD/PA/NY)",
           "USA"
          ],
          [
           "Cenral Andes",
           "Bolivia"
          ],
          [
           "Cenral Andes",
           "Bolivia"
          ],
          [
           "Cenral Andes",
           "Bolivia"
          ],
          [
           "Cenral Andes",
           "Bolivia"
          ],
          [
           "Cenral Andes",
           "Bolivia"
          ],
          [
           "Cenral Andes",
           "Bolivia"
          ],
          [
           "Central Andes, Eastern Cordillera",
           "Bolivia"
          ],
          [
           "Central Andes, Eastern Cordillera",
           "Bolivia"
          ],
          [
           "Central Andes, Interandean Zone",
           "Bolivia"
          ],
          [
           "Central Andes, Eastern Cordillera",
           "Bolivia"
          ],
          [
           "Central Subandes",
           "Bolivia"
          ],
          [
           "Central Andes, Interandean Zone",
           "Bolivia"
          ],
          [
           "Central Andes, Eastern Cordillera",
           "Bolivia"
          ],
          [
           "Central Andes, Eastern Cordillera",
           "Bolivia"
          ],
          [
           "Central Andes, Eastern Cordillera",
           "Bolivia"
          ],
          [
           "Central Subandes",
           "Bolivia"
          ],
          [
           "Central Andes, Interandean Zone",
           "Bolivia"
          ],
          [
           "Central Andes, Eastern Cordillera",
           "Bolivia"
          ],
          [
           "Central Subandes",
           "Bolivia"
          ],
          [
           "Central Andes, Eastern Cordillera",
           "Bolivia"
          ],
          [
           "Central Andes, Eastern Cordillera",
           "Bolivia"
          ],
          [
           "Central Andes, Eastern Cordillera",
           "Bolivia"
          ],
          [
           "Central Andes, Eastern Cordillera",
           "Bolivia"
          ],
          [
           "Central Andes, Eastern Cordillera",
           "Bolivia"
          ],
          [
           "Central Subandes",
           "Bolivia"
          ],
          [
           "Central Andes, Eastern Cordillera",
           "Bolivia"
          ],
          [
           "Central Andes, Interandean Zone",
           "Bolivia"
          ],
          [
           "Central Subandes",
           "Bolivia"
          ],
          [
           "Central Andes, Eastern Cordillera",
           "Bolivia"
          ],
          [
           "Central Andes, Eastern Cordillera",
           "Bolivia"
          ],
          [
           "Central Subandes",
           "Bolivia"
          ],
          [
           "Central Andes, Interandean Zone",
           "Bolivia"
          ],
          [
           "Central Andes, Eastern Cordillera",
           "Bolivia"
          ],
          [
           "Central Andes, Eastern Cordillera",
           "Bolivia"
          ],
          [
           "Central Andes, Eastern Cordillera",
           "Bolivia"
          ],
          [
           "Central Andes, Interandean Zone",
           "Bolivia"
          ],
          [
           "Central Subandes",
           "Bolivia"
          ],
          [
           "Central Andes, Eastern Cordillera",
           "Bolivia"
          ],
          [
           "Central Andes, Interandean Zone",
           "Bolivia"
          ],
          [
           "Central Andes, Eastern Cordillera",
           "Bolivia"
          ],
          [
           "Central Andes, Interandean Zone",
           "Bolivia"
          ],
          [
           "Central Andes, Interandean Zone",
           "Bolivia"
          ],
          [
           "Central Andes, Interandean Zone",
           "Bolivia"
          ],
          [
           "Central Andes, Eastern Cordillera",
           "Bolivia"
          ],
          [
           "Po Delta",
           "Italy"
          ],
          [
           "Po Delta",
           "Italy"
          ],
          [
           "Po floodplain",
           "Italy"
          ],
          [
           "Po floodplain",
           "Italy"
          ],
          [
           "Central Andes, Eastern Cordillera",
           "Bolivia"
          ],
          [
           "Po floodplain",
           "Italy"
          ],
          [
           "Po floodplain",
           "Italy"
          ],
          [
           "Central Andes, Interandean Zone",
           "Bolivia"
          ],
          [
           "Po floodplain",
           "Italy"
          ],
          [
           "Po floodplain",
           "Italy"
          ],
          [
           "Po floodplain",
           "Italy"
          ],
          [
           "Po floodplain",
           "Italy"
          ],
          [
           "Central Andes, Interandean Zone",
           "Bolivia"
          ],
          [
           "Po floodplain",
           "Italy"
          ],
          [
           "Po floodplain",
           "Italy"
          ],
          [
           "Po floodplain",
           "Italy"
          ],
          [
           "Northern Western Alps",
           "Italy"
          ],
          [
           "Northern Western Alps",
           "Italy"
          ],
          [
           "Central Andes, Interandean Zone",
           "Bolivia"
          ],
          [
           "Eastern Central Alps",
           "Italy"
          ],
          [
           "Western Central Alps",
           "Italy"
          ],
          [
           "Western Central Alps",
           "Italy"
          ],
          [
           "Eastern Central Alps",
           "Italy"
          ],
          [
           "Apennines",
           "Italy"
          ],
          [
           "Central Andes, Eastern Cordillera",
           "Bolivia"
          ],
          [
           "Ligurian Alps",
           "Italy"
          ],
          [
           "Northern Western Alps",
           "Italy"
          ],
          [
           "Western Central Alps",
           "Italy"
          ],
          [
           "Apennines",
           "Italy"
          ],
          [
           "Central Subandes",
           "Bolivia"
          ],
          [
           "Central Andes, Eastern Cordillera",
           "Bolivia"
          ],
          [
           "Central Andes, Interandean Zone",
           "Bolivia"
          ],
          [
           "Western Central Alps",
           "Italy"
          ],
          [
           "Apennines",
           "Italy"
          ],
          [
           "Western Central Alps",
           "Italy"
          ],
          [
           "Appalachian Mts. (MD/PA/NY)",
           "USA"
          ],
          [
           "Central Andes, Eastern Cordillera",
           "Bolivia"
          ],
          [
           "Central Subandes",
           "Bolivia"
          ],
          [
           "Central Andes, Interandean Zone",
           "Bolivia"
          ],
          [
           "Po Delta",
           "Italy"
          ],
          [
           "Western Central Alps",
           "Italy"
          ],
          [
           "Northern Western Alps",
           "Italy"
          ],
          [
           "Apennines",
           "Italy"
          ],
          [
           "Apennines",
           "Italy"
          ],
          [
           "Southern Western Alps",
           "Italy"
          ],
          [
           "Ligurian Alps",
           "Italy"
          ],
          [
           "Western Central Alps",
           "Italy"
          ],
          [
           "Southern Western Alps",
           "Italy"
          ],
          [
           "Western Central Andes",
           "Peru"
          ],
          [
           "Western Central Andes",
           "Peru"
          ],
          [
           "Western Central Andes",
           "Peru"
          ],
          [
           "Western Central Alps",
           "Italy"
          ],
          [
           "Western Central Alps",
           "Italy"
          ],
          [
           "Western Central Alps",
           "Italy"
          ],
          [
           "Western Central Andes",
           "Peru"
          ],
          [
           "Western Central Andes",
           "Peru"
          ],
          [
           "Western Central Andes",
           "Peru"
          ],
          [
           "Western Central Andes",
           "Peru"
          ],
          [
           "Western Central Andes",
           "Peru"
          ],
          [
           "Western Central Andes",
           "Peru"
          ],
          [
           "Western Central Andes",
           "Peru"
          ],
          [
           "Western Central Andes",
           "Peru"
          ],
          [
           "Western Central Andes",
           "Peru"
          ],
          [
           "Western Central Andes",
           "Peru"
          ],
          [
           "Western Central Andes",
           "Peru"
          ],
          [
           "Western Central Andes",
           "Peru"
          ],
          [
           "Western Central Andes",
           "Peru"
          ],
          [
           "Western Central Andes",
           "Peru"
          ],
          [
           "Appalachian Mts. (MD/PA/NY)",
           "USA"
          ],
          [
           "Western Central Andes",
           "Peru"
          ],
          [
           "Western Central Andes",
           "Peru"
          ],
          [
           "Western Central Andes",
           "Peru"
          ],
          [
           "Western Central Andes",
           "Peru"
          ],
          [
           "Western Central Andes",
           "Peru"
          ],
          [
           "Western Central Andes",
           "Peru"
          ],
          [
           "Western Central Andes",
           "Peru"
          ],
          [
           "Western Central Andes",
           "Peru"
          ],
          [
           "Western Central Andes",
           "Peru"
          ],
          [
           "Western Central Andes",
           "Peru"
          ],
          [
           "Western Central Andes",
           "Peru"
          ],
          [
           "Western Central Andes",
           "Peru"
          ],
          [
           "Western Central Andes",
           "Peru"
          ],
          [
           "Western Central Andes",
           "Peru"
          ],
          [
           "Western Central Andes",
           "Peru"
          ],
          [
           "Western Central Andes",
           "Peru"
          ],
          [
           "Western Central Andes",
           "Peru"
          ],
          [
           "Western Central Andes",
           "Peru"
          ],
          [
           "Western Central Andes",
           "Peru"
          ],
          [
           "Western Central Andes",
           "Peru"
          ],
          [
           "Western Central Andes",
           "Peru"
          ],
          [
           "Western Central Andes",
           "Peru"
          ],
          [
           "Western Central Andes",
           "Peru"
          ],
          [
           "Western Central Andes",
           "Peru"
          ],
          [
           "Western Central Andes",
           "Peru"
          ],
          [
           "Appalachian Mts. (MD/PA/NY)",
           "USA"
          ],
          [
           "Gulf of Lion",
           "France"
          ],
          [
           "Gulf of Lion",
           "France"
          ],
          [
           "Gulf of Lion",
           "France"
          ],
          [
           "Gulf of Lion",
           "France"
          ],
          [
           "Gulf of Lion",
           "France"
          ],
          [
           "Gulf of Lion",
           "France"
          ],
          [
           "Gulf of Lion",
           "France"
          ],
          [
           "Gulf of Lion",
           "France"
          ],
          [
           "Gulf of Lion",
           "France"
          ],
          [
           "Gulf of Lion",
           "France"
          ],
          [
           "Gulf of Lion",
           "France"
          ],
          [
           "Gulf of Lion",
           "France"
          ],
          [
           "Gulf of Lion",
           "France"
          ],
          [
           "Gulf of Lion",
           "France"
          ],
          [
           "Namche Barwa-Gyala Peri Massif",
           "China"
          ],
          [
           "Namche Barwa-Gyala Peri Massif",
           "China"
          ],
          [
           "Namche Barwa-Gyala Peri Massif",
           "China"
          ],
          [
           "Namche Barwa-Gyala Peri Massif",
           "China"
          ],
          [
           "Namche Barwa-Gyala Peri Massif",
           "China"
          ],
          [
           "Namche Barwa-Gyala Peri Massif",
           "China"
          ],
          [
           "Namche Barwa-Gyala Peri Massif",
           "China"
          ],
          [
           "Namche Barwa-Gyala Peri Massif",
           "China"
          ],
          [
           "Pamir",
           "Tajikistan"
          ],
          [
           "Pamir",
           "Tajikistan"
          ],
          [
           "Pamir",
           "Tajikistan"
          ],
          [
           "Pamir",
           "Tajikistan"
          ],
          [
           "Pamir",
           "Tajikistan"
          ],
          [
           "Namche Barwa-Gyala Peri Massif",
           "China"
          ],
          [
           "Namche Barwa-Gyala Peri Massif",
           "China"
          ],
          [
           "Pamir",
           "Tajikistan"
          ],
          [
           "Namche Barwa-Gyala Peri Massif",
           "China"
          ],
          [
           "Namche Barwa-Gyala Peri Massif",
           "China"
          ],
          [
           "Namche Barwa-Gyala Peri Massif",
           "China"
          ],
          [
           "Pamir",
           "Tajikistan"
          ],
          [
           "Pamir",
           "Tajikistan"
          ],
          [
           "Pamir",
           "Tajikistan"
          ],
          [
           "Pamir",
           "Tajikistan"
          ],
          [
           "Pamir",
           "Tajikistan"
          ],
          [
           "South Cameroon",
           "Cameroon"
          ],
          [
           "South Cameroon",
           "Cameroon"
          ],
          [
           "South Cameroon",
           "Cameroon"
          ],
          [
           "South Cameroon",
           "Cameroon"
          ],
          [
           "South Cameroon",
           "Cameroon"
          ],
          [
           "South Cameroon",
           "Cameroon"
          ],
          [
           "South Cameroon",
           "Cameroon"
          ],
          [
           "South Cameroon",
           "Cameroon"
          ],
          [
           "South Cameroon",
           "Cameroon"
          ],
          [
           "South Cameroon",
           "Cameroon"
          ],
          [
           "South Cameroon",
           "Cameroon"
          ],
          [
           "South Cameroon",
           "Cameroon"
          ],
          [
           "Karnataka, Kerala",
           "India"
          ],
          [
           "South Cameroon",
           "Cameroon"
          ],
          [
           "South Cameroon",
           "Cameroon"
          ],
          [
           "Karnataka, Kerala",
           "India"
          ],
          [
           "South Cameroon",
           "Cameroon"
          ],
          [
           "Karnataka, Kerala",
           "India"
          ],
          [
           "Karnataka, Kerala",
           "India"
          ],
          [
           "Karnataka, Kerala",
           "India"
          ],
          [
           "Karnataka, Kerala",
           "India"
          ],
          [
           "Karnataka, Kerala",
           "India"
          ],
          [
           "Karnataka, Kerala",
           "India"
          ],
          [
           "Karnataka, Kerala",
           "India"
          ],
          [
           "Karnataka, Kerala",
           "India"
          ],
          [
           "Karnataka, Kerala",
           "India"
          ],
          [
           "Karnataka, Kerala",
           "India"
          ],
          [
           "Karnataka, Kerala",
           "India"
          ],
          [
           "Karnataka, Kerala",
           "India"
          ],
          [
           "Karnataka, Kerala",
           "India"
          ],
          [
           "Karnataka, Kerala",
           "India"
          ],
          [
           "Karnataka, Kerala",
           "India"
          ],
          [
           "Karnataka, Kerala",
           "India"
          ],
          [
           "Karnataka, Kerala",
           "India"
          ],
          [
           "Karnataka, Kerala",
           "India"
          ],
          [
           "Karnataka, Kerala",
           "India"
          ],
          [
           "Karnataka, Kerala",
           "India"
          ],
          [
           "Karnataka, Kerala",
           "India"
          ],
          [
           "Karnataka, Kerala",
           "India"
          ],
          [
           "Appalachian Piedmont",
           "USA"
          ],
          [
           "Karnataka, Kerala",
           "India"
          ],
          [
           "Appalachian Piedmont",
           "USA"
          ],
          [
           "Appalachian Piedmont",
           "USA"
          ],
          [
           "Karnataka, Kerala",
           "India"
          ],
          [
           "Karnataka, Kerala",
           "India"
          ],
          [
           "Appalachian Piedmont",
           "USA"
          ],
          [
           "Appalachian Piedmont",
           "USA"
          ],
          [
           "Karnataka, Kerala",
           "India"
          ],
          [
           "Karnataka, Kerala",
           "India"
          ],
          [
           "Karnataka, Kerala",
           "India"
          ],
          [
           "Karnataka, Kerala",
           "India"
          ],
          [
           "Karnataka, Kerala",
           "India"
          ],
          [
           "Karnataka, Kerala",
           "India"
          ],
          [
           "Appalachian Piedmont",
           "USA"
          ],
          [
           "Karnataka, Kerala",
           "India"
          ],
          [
           "Karnataka, Kerala",
           "India"
          ],
          [
           "Appalachian Piedmont",
           "USA"
          ],
          [
           "Karnataka, Kerala",
           "India"
          ],
          [
           "Karnataka, Kerala",
           "India"
          ],
          [
           "Karnataka, Kerala",
           "India"
          ],
          [
           "Karnataka, Kerala",
           "India"
          ],
          [
           "Karnataka, Kerala",
           "India"
          ],
          [
           "Karnataka, Kerala",
           "India"
          ],
          [
           "Karnataka, Kerala",
           "India"
          ],
          [
           "Karnataka, Kerala",
           "India"
          ],
          [
           "Karnataka, Kerala",
           "India"
          ],
          [
           "Karnataka, Kerala",
           "India"
          ],
          [
           "Karnataka, Kerala",
           "India"
          ],
          [
           "Karnataka, Kerala",
           "India"
          ],
          [
           "Karnataka, Kerala",
           "India"
          ],
          [
           "Karnataka, Kerala",
           "India"
          ],
          [
           "Karnataka, Kerala",
           "India"
          ],
          [
           "Karnataka, Kerala",
           "India"
          ],
          [
           "Karnataka, Kerala",
           "India"
          ],
          [
           "Karnataka, Kerala",
           "India"
          ],
          [
           "Appalachian Piedmont",
           "USA"
          ],
          [
           "Appalachian Piedmont",
           "USA"
          ],
          [
           "Karnataka, Kerala",
           "India"
          ],
          [
           "Karnataka, Kerala",
           "India"
          ],
          [
           "Karnataka, Kerala",
           "India"
          ],
          [
           "Karnataka, Kerala",
           "India"
          ],
          [
           "Karnataka, Kerala",
           "India"
          ],
          [
           "Karnataka, Kerala",
           "India"
          ],
          [
           "Karnataka, Kerala",
           "India"
          ],
          [
           "Karnataka, Kerala",
           "India"
          ],
          [
           "Karnataka, Kerala",
           "India"
          ],
          [
           "Karnataka, Kerala",
           "India"
          ],
          [
           "Karnataka, Kerala",
           "India"
          ],
          [
           "Karnataka, Kerala",
           "India"
          ],
          [
           "Castile and Leon",
           "Spain"
          ],
          [
           "Castile and Leon",
           "Spain"
          ],
          [
           "Karnataka, Kerala",
           "India"
          ],
          [
           "Karnataka, Kerala",
           "India"
          ],
          [
           "Karnataka, Kerala",
           "India"
          ],
          [
           "Karnataka, Kerala",
           "India"
          ],
          [
           "Karnataka, Kerala",
           "India"
          ],
          [
           "Karnataka, Kerala",
           "India"
          ],
          [
           "Karnataka, Kerala",
           "India"
          ],
          [
           "Karnataka, Kerala",
           "India"
          ],
          [
           "Massif Central",
           "France"
          ],
          [
           "Castile and Leon",
           "Spain"
          ],
          [
           "Karnataka, Kerala",
           "India"
          ],
          [
           "Karnataka, Kerala",
           "India"
          ],
          [
           "Karnataka, Kerala",
           "India"
          ],
          [
           "Karnataka, Kerala",
           "India"
          ],
          [
           "Karnataka, Kerala",
           "India"
          ],
          [
           "Castile and Leon",
           "Spain"
          ],
          [
           "Karnataka, Kerala",
           "India"
          ],
          [
           "Bohemia",
           "Czechia"
          ],
          [
           "Anadalusia",
           "Spain"
          ],
          [
           "Bohemia",
           "Czechia"
          ],
          [
           "Bohemia",
           "Czechia"
          ],
          [
           "Anadalusia",
           "Spain"
          ],
          [
           "Anadalusia",
           "Spain"
          ],
          [
           "Anadalusia",
           "Spain"
          ],
          [
           "Bohemia",
           "Czechia"
          ],
          [
           "Massif Central",
           "France"
          ],
          [
           "Massif Central",
           "France"
          ],
          [
           "Massif Central",
           "France"
          ],
          [
           "Texas",
           "USA"
          ],
          [
           "Texas",
           "USA"
          ],
          [
           "Texas",
           "USA"
          ],
          [
           "Texas",
           "USA"
          ],
          [
           "Appalachian Piedmont",
           "USA"
          ],
          [
           "Appalachian Piedmont",
           "USA"
          ],
          [
           "Appalachian Piedmont",
           "USA"
          ],
          [
           "Appalachian Piedmont",
           "USA"
          ],
          [
           "Appalachian Piedmont",
           "USA"
          ],
          [
           "Appalachian Piedmont",
           "USA"
          ],
          [
           "Appalachian Piedmont",
           "USA"
          ],
          [
           "Appalachian Piedmont",
           "USA"
          ],
          [
           "Appalachian Piedmont",
           "USA"
          ],
          [
           "Appalachian Piedmont",
           "USA"
          ],
          [
           "Appalachian Piedmont",
           "USA"
          ],
          [
           "Appalachian Mts. (MD/PA/NY)",
           "USA"
          ],
          [
           "Appalachian Mts. (MD/PA/NY)",
           "USA"
          ],
          [
           "Appalachian Piedmont",
           "USA"
          ],
          [
           "Appalachian Piedmont",
           "USA"
          ],
          [
           "Appalachian Piedmont",
           "USA"
          ],
          [
           "Appalachian Mts. (MD/PA/NY)",
           "USA"
          ],
          [
           "Appalachian Mts. (MD/PA/NY)",
           "USA"
          ],
          [
           "Appalachian Piedmont",
           "USA"
          ],
          [
           "Appalachian Mts. (MD/PA/NY)",
           "USA"
          ],
          [
           "Appalachian Mts. (MD/PA/NY)",
           "USA"
          ],
          [
           "Appalachian Mts. (MD/PA/NY)",
           "USA"
          ],
          [
           "Appalachian Mts. (MD/PA/NY)",
           "USA"
          ],
          [
           "Appalachian Mts. (MD/PA/NY)",
           "USA"
          ],
          [
           "Appalachian Mts. (MD/PA/NY)",
           "USA"
          ],
          [
           "Appalachian Mts. (MD/PA/NY)",
           "USA"
          ],
          [
           "Appalachian Mts. (MD/PA/NY)",
           "USA"
          ],
          [
           "Appalachian Mts. (MD/PA/NY)",
           "USA"
          ],
          [
           "Appalachian Mts. (MD/PA/NY)",
           "USA"
          ],
          [
           "Appalachian Mts. (MD/PA/NY)",
           "USA"
          ],
          [
           "Appalachian Mts. (MD/PA/NY)",
           "USA"
          ],
          [
           "Appalachian Mts. (MD/PA/NY)",
           "USA"
          ],
          [
           "Appalachian Mts. (MD/PA/NY)",
           "USA"
          ],
          [
           "Appalachian Mts. (MD/PA/NY)",
           "USA"
          ],
          [
           "Appalachian Mts. (MD/PA/NY)",
           "USA"
          ],
          [
           "Appalachian Mts. (MD/PA/NY)",
           "USA"
          ],
          [
           "Appalachian Mts. (MD/PA/NY)",
           "USA"
          ],
          [
           "Appalachian Mts. (MD/PA/NY)",
           "USA"
          ],
          [
           "Himalaya",
           "Nepal"
          ],
          [
           "Appalachian Mts. (MD/PA/NY)",
           "USA"
          ],
          [
           "Appalachian Mts. (MD/PA/NY)",
           "USA"
          ],
          [
           "Appalachian Mts. (MD/PA/NY)",
           "USA"
          ],
          [
           "Appalachian Mts. (MD/PA/NY)",
           "USA"
          ],
          [
           "Appalachian Mts. (MD/PA/NY)",
           "USA"
          ],
          [
           "Appalachian Mts. (MD/PA/NY)",
           "USA"
          ],
          [
           "Appalachian Mts. (MD/PA/NY)",
           "USA"
          ],
          [
           "Appalachian Mts. (MD/PA/NY)",
           "USA"
          ],
          [
           "Appalachian Mts. (MD/PA/NY)",
           "USA"
          ],
          [
           "Appalachian Mts. (MD/PA/NY)",
           "USA"
          ],
          [
           "Appalachian Mts. (MD/PA/NY)",
           "USA"
          ],
          [
           "Appalachian Mts. (MD/PA/NY)",
           "USA"
          ],
          [
           "Appalachian Mts. (MD/PA/NY)",
           "USA"
          ],
          [
           "Appalachian Mts. (MD/PA/NY)",
           "USA"
          ],
          [
           "Appalachian Mts. (MD/PA/NY)",
           "USA"
          ],
          [
           "Himalaya",
           "Nepal"
          ],
          [
           "Appalachian Mts. (MD/PA/NY)",
           "USA"
          ],
          [
           "Appalachian Mts. (MD/PA/NY)",
           "USA"
          ],
          [
           "Appalachian Mts. (MD/PA/NY)",
           "USA"
          ],
          [
           "Appalachian Mts. (MD/PA/NY)",
           "USA"
          ],
          [
           "Appalachian Mts. (MD/PA/NY)",
           "USA"
          ],
          [
           "Appalachian Mts. (MD/PA/NY)",
           "USA"
          ],
          [
           "Appalachian Mts. (MD/PA/NY)",
           "USA"
          ],
          [
           "Appalachian Mts. (MD/PA/NY)",
           "USA"
          ],
          [
           "Appalachian Mts. (MD/PA/NY)",
           "USA"
          ],
          [
           "Appalachian Mts. (MD/PA/NY)",
           "USA"
          ],
          [
           "Appalachian Mts. (MD/PA/NY)",
           "USA"
          ],
          [
           "Appalachian Mts. (MD/PA/NY)",
           "USA"
          ],
          [
           "Appalachian Mts. (MD/PA/NY)",
           "USA"
          ],
          [
           "Appalachian Mts. (MD/PA/NY)",
           "USA"
          ],
          [
           "Appalachian Mts. (MD/PA/NY)",
           "USA"
          ],
          [
           "Appalachian Mts. (MD/PA/NY)",
           "USA"
          ],
          [
           "Appalachian Mts. (MD/PA/NY)",
           "USA"
          ],
          [
           "Appalachian Mts. (MD/PA/NY)",
           "USA"
          ],
          [
           "Appalachian Mts. (MD/PA/NY)",
           "USA"
          ],
          [
           "Appalachian Mts. (MD/PA/NY)",
           "USA"
          ],
          [
           "Himalaya",
           "Nepal"
          ],
          [
           "Appalachian Mts. (MD/PA/NY)",
           "USA"
          ],
          [
           "Appalachian Mts. (MD/PA/NY)",
           "USA"
          ],
          [
           "Appalachian Mts. (MD/PA/NY)",
           "USA"
          ],
          [
           "Appalachian Mts. (MD/PA/NY)",
           "USA"
          ],
          [
           "Appalachian Mts. (MD/PA/NY)",
           "USA"
          ],
          [
           "Himalaya",
           "Nepal"
          ],
          [
           "Appalachian Mts. (MD/PA/NY)",
           "USA"
          ],
          [
           "Appalachian Mts. (MD/PA/NY)",
           "USA"
          ],
          [
           "Appalachian Mts. (MD/PA/NY)",
           "USA"
          ],
          [
           "Appalachian Mts. (MD/PA/NY)",
           "USA"
          ],
          [
           "Appalachian Mts. (MD/PA/NY)",
           "USA"
          ],
          [
           "Appalachian Mts. (MD/PA/NY)",
           "USA"
          ],
          [
           "Appalachian Mts. (MD/PA/NY)",
           "USA"
          ],
          [
           "Appalachian Mts. (MD/PA/NY)",
           "USA"
          ],
          [
           "Appalachian Mts. (MD/PA/NY)",
           "USA"
          ],
          [
           "Appalachian Mts. (MD/PA/NY)",
           "USA"
          ],
          [
           "Appalachian Mts. (MD/PA/NY)",
           "USA"
          ],
          [
           "Appalachian Mts. (MD/PA/NY)",
           "USA"
          ],
          [
           "Appalachian Mts. (MD/PA/NY)",
           "USA"
          ],
          [
           "Appalachian Mts. (MD/PA/NY)",
           "USA"
          ],
          [
           "Appalachian Mts. (MD/PA/NY)",
           "USA"
          ],
          [
           "Appalachian Mts. (MD/PA/NY)",
           "USA"
          ],
          [
           "Appalachian Mts. (MD/PA/NY)",
           "USA"
          ],
          [
           "Appalachian Mts. (MD/PA/NY)",
           "USA"
          ],
          [
           "Appalachian Mts. (MD/PA/NY)",
           "USA"
          ],
          [
           "Appalachian Mts. (MD/PA/NY)",
           "USA"
          ],
          [
           "Appalachian Mts. (MD/PA/NY)",
           "USA"
          ],
          [
           "Himalaya",
           "Nepal"
          ],
          [
           "Himalaya",
           "Nepal"
          ],
          [
           "Himalaya",
           "Nepal"
          ],
          [
           "Himalaya",
           "Nepal"
          ],
          [
           "Himalaya",
           "Nepal"
          ],
          [
           "Himalaya",
           "Nepal"
          ],
          [
           "Himalaya",
           "Nepal"
          ],
          [
           "Himalaya",
           "Nepal"
          ],
          [
           "Himalaya",
           "Nepal"
          ],
          [
           "Himalaya",
           "Nepal"
          ],
          [
           "Himalaya",
           "Nepal"
          ],
          [
           "Himalaya",
           "Nepal"
          ],
          [
           "Chilean Andes",
           "Chile"
          ],
          [
           "Himalaya",
           "Nepal"
          ],
          [
           "Chilean Andes",
           "Chile"
          ],
          [
           "Chilean Andes",
           "Chile"
          ],
          [
           "Chilean Andes",
           "Chile"
          ],
          [
           "Himalaya",
           "Nepal"
          ],
          [
           "Chilean Andes",
           "Chile"
          ],
          [
           "Chilean Andes",
           "Chile"
          ],
          [
           "Chilean Andes",
           "Chile"
          ],
          [
           "Himalaya",
           "Nepal"
          ],
          [
           "Chilean Andes",
           "Chile"
          ],
          [
           "Chilean Andes",
           "Chile"
          ],
          [
           "Chilean Andes",
           "Chile"
          ],
          [
           "Himalaya",
           "Nepal"
          ],
          [
           "Chilean Andes",
           "Chile"
          ],
          [
           "Chilean Andes",
           "Chile"
          ],
          [
           "Chilean Andes",
           "Chile"
          ],
          [
           "Himalaya",
           "Nepal"
          ],
          [
           "Chilean Andes",
           "Chile"
          ],
          [
           "Himalaya",
           "Nepal"
          ],
          [
           "Himalaya",
           "Nepal"
          ],
          [
           "Himalaya",
           "Nepal"
          ],
          [
           "Himalaya",
           "Nepal"
          ],
          [
           "Chilean Andes",
           "Chile"
          ],
          [
           "Chilean Andes",
           "Chile"
          ],
          [
           "Chilean Andes",
           "Chile"
          ],
          [
           "Himalaya",
           "Nepal"
          ],
          [
           "Himalaya",
           "Nepal"
          ],
          [
           "Himalaya",
           "Nepal"
          ],
          [
           "Himalaya",
           "Nepal"
          ],
          [
           "Himalaya",
           "Nepal"
          ],
          [
           "Himalaya",
           "Nepal"
          ],
          [
           "Himalaya",
           "Nepal"
          ],
          [
           "Himalaya",
           "Nepal"
          ],
          [
           "Himalaya",
           "Nepal"
          ],
          [
           "Chilean Andes",
           "Chile"
          ],
          [
           "Chilean Andes",
           "Chile"
          ],
          [
           "Chilean Andes",
           "Chile"
          ],
          [
           "Western Central Andes",
           "Peru"
          ],
          [
           "Western Central Andes",
           "Peru"
          ],
          [
           "Western Central Andes",
           "Peru"
          ],
          [
           "Western Central Andes",
           "Peru"
          ],
          [
           "Western Central Andes",
           "Peru"
          ],
          [
           "Western Central Andes",
           "Peru"
          ],
          [
           "Western Central Andes",
           "Peru"
          ],
          [
           "Western Central Andes",
           "Peru"
          ],
          [
           "Western Central Andes",
           "Peru"
          ],
          [
           "Western Central Andes",
           "Peru"
          ],
          [
           "Western Central Andes",
           "Peru"
          ],
          [
           "Western Central Andes",
           "Peru"
          ],
          [
           "Western Central Andes",
           "Peru"
          ],
          [
           "Western Central Andes",
           "Peru"
          ],
          [
           "Southern Central Andes",
           "Argentina"
          ],
          [
           "Southern Central Andes",
           "Argentina"
          ],
          [
           "Southern Central Andes",
           "Argentina"
          ],
          [
           "Southern Central Andes",
           "Argentina"
          ],
          [
           "Southern Central Andes",
           "Argentina"
          ],
          [
           "Southern Central Andes",
           "Argentina"
          ],
          [
           "Southern Central Andes",
           "Argentina"
          ],
          [
           "Southern Central Andes",
           "Argentina"
          ],
          [
           "Southern Central Andes",
           "Argentina"
          ],
          [
           "Southern Central Andes",
           "Argentina"
          ],
          [
           "Southern Central Andes",
           "Argentina"
          ],
          [
           "Southern Central Andes",
           "Argentina"
          ],
          [
           "Southern Central Andes",
           "Argentina"
          ],
          [
           "Southern Central Andes",
           "Argentina"
          ],
          [
           "Southern Central Andes",
           "Argentina"
          ],
          [
           "Southern Central Andes",
           "Argentina"
          ],
          [
           "Southern Central Andes",
           "Argentina"
          ],
          [
           "Southern Central Andes",
           "Argentina"
          ],
          [
           "Southern Central Andes",
           "Argentina"
          ],
          [
           "Southern Central Andes",
           "Argentina"
          ],
          [
           "Southern Central Andes",
           "Argentina"
          ],
          [
           "Southern Central Andes",
           "Argentina"
          ],
          [
           "Southern Central Andes",
           "Argentina"
          ],
          [
           "Southern Central Andes",
           "Argentina"
          ],
          [
           "Southern Central Andes",
           "Argentina"
          ],
          [
           "Southern Central Andes",
           "Argentina"
          ],
          [
           "Southern Central Andes",
           "Argentina"
          ],
          [
           "Southern Central Andes",
           "Argentina"
          ],
          [
           "Southern Central Andes",
           "Argentina"
          ],
          [
           "East Tibet",
           "China"
          ],
          [
           "East Tibet",
           "China"
          ],
          [
           "Southern Central Andes",
           "Argentina"
          ],
          [
           "Southern Central Andes",
           "Argentina"
          ],
          [
           "Southern Central Andes",
           "Argentina"
          ],
          [
           "Southern Central Andes",
           "Argentina"
          ],
          [
           "Kunlun and Central Tibet",
           "China"
          ],
          [
           "Southern Central Andes",
           "Argentina"
          ],
          [
           "Southern Central Andes",
           "Argentina"
          ],
          [
           "Southern Central Andes",
           "Argentina"
          ],
          [
           "East Tibet",
           "China"
          ],
          [
           "Southern Central Andes",
           "Argentina"
          ],
          [
           "East Tibet",
           "China"
          ],
          [
           "Southern Central Andes",
           "Argentina"
          ],
          [
           "Southern Central Andes",
           "Argentina"
          ],
          [
           "Kunlun and Central Tibet",
           "China"
          ],
          [
           "Southern Central Andes",
           "Argentina"
          ],
          [
           "Southern Central Andes",
           "Argentina"
          ],
          [
           "East Tibet",
           "China"
          ],
          [
           "Central Idaho Mts. (ID)",
           "USA"
          ],
          [
           "East Tibet",
           "China"
          ],
          [
           "Central Idaho Mts. (ID)",
           "USA"
          ],
          [
           "Kunlun and Central Tibet",
           "China"
          ],
          [
           "East Tibet",
           "China"
          ],
          [
           "Kunlun and Central Tibet",
           "China"
          ],
          [
           "East Tibet",
           "China"
          ],
          [
           "Central Idaho Mts. (ID)",
           "USA"
          ],
          [
           "East Tibet",
           "China"
          ],
          [
           "East Tibet",
           "China"
          ],
          [
           "East Tibet",
           "China"
          ],
          [
           "Central Idaho Mts. (ID)",
           "USA"
          ],
          [
           "East Tibet",
           "China"
          ],
          [
           "Central Idaho Mts. (ID)",
           "USA"
          ],
          [
           "East Tibet",
           "China"
          ],
          [
           "Central Idaho Mts. (ID)",
           "USA"
          ],
          [
           "East Tibet",
           "China"
          ],
          [
           "East Tibet",
           "China"
          ],
          [
           "East Tibet",
           "China"
          ],
          [
           "Central Idaho Mts. (ID)",
           "USA"
          ],
          [
           "Central Idaho Mts. (ID)",
           "USA"
          ],
          [
           "Central Idaho Mts. (ID)",
           "USA"
          ],
          [
           "East Tibet",
           "China"
          ],
          [
           "Central Idaho Mts. (ID)",
           "USA"
          ],
          [
           "East Tibet",
           "China"
          ],
          [
           "Central Idaho Mts. (ID)",
           "USA"
          ],
          [
           "East Tibet",
           "China"
          ],
          [
           "Central Idaho Mts. (ID)",
           "USA"
          ],
          [
           "East Tibet",
           "China"
          ],
          [
           "Central Idaho Mts. (ID)",
           "USA"
          ],
          [
           "Kunlun and Central Tibet",
           "China"
          ],
          [
           "East Tibet",
           "China"
          ],
          [
           "Central Idaho Mts. (ID)",
           "USA"
          ],
          [
           "Great Escarpment and Namib",
           "NAM"
          ],
          [
           "East Tibet",
           "China"
          ],
          [
           "East Tibet",
           "China"
          ],
          [
           "East Tibet",
           "China"
          ],
          [
           "Central Idaho Mts. (ID)",
           "USA"
          ],
          [
           "Great Escarpment and Namib",
           "NAM"
          ],
          [
           "East Tibet",
           "China"
          ],
          [
           "Central Idaho Mts. (ID)",
           "USA"
          ],
          [
           "Central Idaho Mts. (ID)",
           "USA"
          ],
          [
           "East Tibet",
           "China"
          ],
          [
           "East Tibet",
           "China"
          ],
          [
           "East Tibet",
           "China"
          ],
          [
           "East Tibet",
           "China"
          ],
          [
           "Great Escarpment and Namib",
           "NAM"
          ],
          [
           "East Tibet",
           "China"
          ],
          [
           "East Tibet",
           "China"
          ],
          [
           "East Tibet",
           "China"
          ],
          [
           "East Tibet",
           "China"
          ],
          [
           "East Tibet",
           "China"
          ],
          [
           "East Tibet",
           "China"
          ],
          [
           "East Tibet",
           "China"
          ],
          [
           "East Tibet",
           "China"
          ],
          [
           "East Tibet",
           "China"
          ],
          [
           "East Tibet",
           "China"
          ],
          [
           "East Tibet",
           "China"
          ],
          [
           "East Tibet",
           "China"
          ],
          [
           "East Tibet",
           "China"
          ],
          [
           "East Tibet",
           "China"
          ],
          [
           "East Tibet",
           "China"
          ],
          [
           "East Tibet",
           "China"
          ],
          [
           "East Tibet",
           "China"
          ],
          [
           "East Tibet",
           "China"
          ],
          [
           "East Tibet",
           "China"
          ],
          [
           "East Tibet",
           "China"
          ],
          [
           "East Tibet",
           "China"
          ],
          [
           "East Tibet",
           "China"
          ],
          [
           "East Tibet",
           "China"
          ],
          [
           "East Tibet",
           "China"
          ],
          [
           "East Tibet",
           "China"
          ],
          [
           "East Tibet",
           "China"
          ],
          [
           "East Tibet",
           "China"
          ],
          [
           "East Tibet",
           "China"
          ],
          [
           "East Tibet",
           "China"
          ],
          [
           "East Tibet",
           "China"
          ],
          [
           "Central Idaho Mts. (ID)",
           "USA"
          ],
          [
           "East Tibet",
           "China"
          ],
          [
           "East Tibet",
           "China"
          ],
          [
           "Central Idaho Mts. (ID)",
           "USA"
          ],
          [
           "East Tibet",
           "China"
          ],
          [
           "East Tibet",
           "China"
          ],
          [
           "East Tibet",
           "China"
          ],
          [
           "East Tibet",
           "China"
          ],
          [
           "East Tibet",
           "China"
          ],
          [
           "East Tibet",
           "China"
          ],
          [
           "Central Idaho Mts. (ID)",
           "USA"
          ],
          [
           "Central Idaho Mts. (ID)",
           "USA"
          ],
          [
           "Kunlun and Central Tibet",
           "China"
          ],
          [
           "Central Idaho Mts. (ID)",
           "USA"
          ],
          [
           "Central Idaho Mts. (ID)",
           "USA"
          ],
          [
           "Central Idaho Mts. (ID)",
           "USA"
          ],
          [
           "Central Idaho Mts. (ID)",
           "USA"
          ],
          [
           "Central Idaho Mts. (ID)",
           "USA"
          ],
          [
           "Kunlun and Central Tibet",
           "China"
          ],
          [
           "Central Idaho Mts. (ID)",
           "USA"
          ],
          [
           "Central Idaho Mts. (ID)",
           "USA"
          ],
          [
           "Central Idaho Mts. (ID)",
           "USA"
          ],
          [
           "Central Idaho Mts. (ID)",
           "USA"
          ],
          [
           "Central Idaho Mts. (ID)",
           "USA"
          ],
          [
           "Central Idaho Mts. (ID)",
           "USA"
          ],
          [
           "Kunlun and Central Tibet",
           "China"
          ],
          [
           "Kunlun and Central Tibet",
           "China"
          ],
          [
           "Kunlun and Central Tibet",
           "China"
          ],
          [
           "Kunlun and Central Tibet",
           "China"
          ],
          [
           "Kunlun and Central Tibet",
           "China"
          ],
          [
           "Kunlun and Central Tibet",
           "China"
          ],
          [
           "Kunlun and Central Tibet",
           "China"
          ],
          [
           "Kunlun and Central Tibet",
           "China"
          ],
          [
           "Kunlun and Central Tibet",
           "China"
          ],
          [
           "Great Escarpment and Namib",
           "NAM"
          ],
          [
           "Great Escarpment and Namib",
           "NAM"
          ],
          [
           "Great Escarpment and Namib",
           "NAM"
          ],
          [
           "Great Escarpment and Namib",
           "NAM"
          ],
          [
           "Great Escarpment and Namib",
           "NAM"
          ],
          [
           "Great Escarpment and Namib",
           "NAM"
          ],
          [
           "Great Escarpment and Namib",
           "NAM"
          ],
          [
           "Great Escarpment and Namib",
           "NAM"
          ],
          [
           "Great Escarpment and Namib",
           "NAM"
          ],
          [
           "Great Escarpment and Namib",
           "NAM"
          ],
          [
           "Great Escarpment and Namib",
           "NAM"
          ],
          [
           "Great Escarpment and Namib",
           "NAM"
          ],
          [
           "Santa Catarina",
           "Brazil"
          ],
          [
           "Great Escarpment and Namib",
           "NAM"
          ],
          [
           "Great Escarpment and Namib",
           "NAM"
          ],
          [
           "Great Escarpment and Namib",
           "NAM"
          ],
          [
           "Great Escarpment and Namib",
           "NAM"
          ],
          [
           "Great Escarpment and Namib",
           "NAM"
          ],
          [
           "Great Escarpment and Namib",
           "NAM"
          ],
          [
           "Great Escarpment and Namib",
           "NAM"
          ],
          [
           "Great Escarpment and Namib",
           "NAM"
          ],
          [
           "Great Escarpment and Namib",
           "NAM"
          ],
          [
           "Great Escarpment and Namib",
           "NAM"
          ],
          [
           "Great Escarpment and Namib",
           "NAM"
          ],
          [
           "Great Escarpment and Namib",
           "NAM"
          ],
          [
           "Great Escarpment and Namib",
           "NAM"
          ],
          [
           "Great Escarpment and Namib",
           "NAM"
          ],
          [
           "Great Escarpment and Namib",
           "NAM"
          ],
          [
           "Washington Cascades (WA)",
           "USA"
          ],
          [
           "Great Escarpment and Namib",
           "NAM"
          ],
          [
           "Great Escarpment and Namib",
           "NAM"
          ],
          [
           "Great Escarpment and Namib",
           "NAM"
          ],
          [
           "Great Escarpment and Namib",
           "NAM"
          ],
          [
           "Great Escarpment and Namib",
           "NAM"
          ],
          [
           "Great Escarpment and Namib",
           "NAM"
          ],
          [
           "Great Escarpment and Namib",
           "NAM"
          ],
          [
           "Great Escarpment and Namib",
           "NAM"
          ],
          [
           "Great Escarpment and Namib",
           "NAM"
          ],
          [
           "Santa Catarina",
           "Brazil"
          ],
          [
           "Rio de Janeiro",
           "Brazil"
          ],
          [
           "Rio de Janeiro",
           "Brazil"
          ],
          [
           "Santa Catarina",
           "Brazil"
          ],
          [
           "Santa Catarina",
           "Brazil"
          ],
          [
           "Rio de Janeiro",
           "Brazil"
          ],
          [
           "Rio de Janeiro",
           "Brazil"
          ],
          [
           "Great Escarpment",
           "NAM"
          ],
          [
           "Rio de Janeiro",
           "Brazil"
          ],
          [
           "Rio de Janeiro",
           "Brazil"
          ],
          [
           "Rio de Janeiro",
           "Brazil"
          ],
          [
           "Rio de Janeiro",
           "Brazil"
          ],
          [
           "Santa Catarina",
           "Brazil"
          ],
          [
           "Great Escarpment",
           "NAM"
          ],
          [
           "Santa Catarina",
           "Brazil"
          ],
          [
           "Santa Catarina",
           "Brazil"
          ],
          [
           "Rio de Janeiro",
           "Brazil"
          ],
          [
           "Rio de Janeiro",
           "Brazil"
          ],
          [
           "Patagonia",
           "ARG/CHL"
          ],
          [
           "Great Escarpment",
           "NAM"
          ],
          [
           "Patagonia",
           "ARG/CHL"
          ],
          [
           "Patagonia",
           "ARG/CHL"
          ],
          [
           "Patagonia",
           "ARG/CHL"
          ],
          [
           "Patagonia",
           "ARG/CHL"
          ],
          [
           "Patagonia",
           "ARG/CHL"
          ],
          [
           "Patagonia",
           "ARG/CHL"
          ],
          [
           "Patagonia",
           "ARG/CHL"
          ],
          [
           "Great Escarpment",
           "NAM"
          ],
          [
           "Great Escarpment",
           "NAM"
          ],
          [
           "Great Escarpment",
           "NAM"
          ],
          [
           "Great Escarpment",
           "NAM"
          ],
          [
           "Eastern Andean Cordillera",
           "Colombia"
          ],
          [
           "Eastern Andean Cordillera",
           "Colombia"
          ],
          [
           "Eastern Andean Cordillera",
           "Colombia"
          ],
          [
           "Eastern Andean Cordillera",
           "Colombia"
          ],
          [
           "Eastern Andean Cordillera",
           "Colombia"
          ],
          [
           "Eastern Andean Cordillera",
           "Colombia"
          ],
          [
           "Eastern Andean Cordillera",
           "Colombia"
          ],
          [
           "Eastern Andean Cordillera",
           "Colombia"
          ],
          [
           "Eastern Andean Cordillera",
           "Colombia"
          ],
          [
           "Eastern Andean Cordillera",
           "Colombia"
          ],
          [
           "Eastern Andean Cordillera",
           "Colombia"
          ],
          [
           "Eastern Andean Cordillera",
           "Colombia"
          ],
          [
           "Nepalese Himalaya",
           "Nepal"
          ],
          [
           "Nepalese Himalaya",
           "Nepal"
          ],
          [
           "Nepalese Himalaya",
           "Nepal"
          ],
          [
           "Nepalese Himalaya",
           "Nepal"
          ],
          [
           "Nepalese Himalaya",
           "Nepal"
          ],
          [
           "Eastern Andean Cordillera",
           "Colombia"
          ],
          [
           "Eastern Andean Cordillera",
           "Colombia"
          ],
          [
           "Eastern Cape",
           "South Africa"
          ],
          [
           "Eastern Cape",
           "South Africa"
          ],
          [
           "Eastern Andean Cordillera",
           "Colombia"
          ],
          [
           "Eastern Cape",
           "South Africa"
          ],
          [
           "Eastern Cape",
           "South Africa"
          ],
          [
           "Nepalese Himalaya",
           "Nepal"
          ],
          [
           "Eastern Andean Cordillera",
           "Colombia"
          ],
          [
           "Nepalese Himalaya",
           "Nepal"
          ],
          [
           "Nepalese Himalaya",
           "Nepal"
          ],
          [
           "Nepalese Himalaya",
           "Nepal"
          ],
          [
           "Nepalese Himalaya",
           "Nepal"
          ],
          [
           "Eastern Andean Cordillera",
           "Colombia"
          ],
          [
           "Nepalese Himalaya",
           "Nepal"
          ],
          [
           "Nepalese Himalaya",
           "Nepal"
          ],
          [
           "Nepalese Himalaya",
           "Nepal"
          ],
          [
           "Eastern Andean Cordillera",
           "Colombia"
          ],
          [
           "Longmen Shan",
           "China"
          ],
          [
           "Longmen Shan",
           "China"
          ],
          [
           "Longmen Shan",
           "China"
          ],
          [
           "Eastern Andean Cordillera",
           "Colombia"
          ],
          [
           "Longmen Shan",
           "China"
          ],
          [
           "Longmen Shan",
           "China"
          ],
          [
           "Longmen Shan",
           "China"
          ],
          [
           "Longmen Shan",
           "China"
          ],
          [
           "Central",
           "Panama"
          ],
          [
           "Eastern Andean Cordillera",
           "Colombia"
          ],
          [
           "Longmen Shan",
           "China"
          ],
          [
           "Longmen Shan",
           "China"
          ],
          [
           "Eastern Andean Cordillera",
           "Colombia"
          ],
          [
           "Upper Ganges",
           "India"
          ],
          [
           "Upper Ganges",
           "India"
          ],
          [
           "Upper Ganges",
           "India"
          ],
          [
           "Upper Ganges",
           "India"
          ],
          [
           "Upper Ganges",
           "China"
          ],
          [
           "Eastern Andean Cordillera",
           "Colombia"
          ],
          [
           "Eastern Cape",
           "South Africa"
          ],
          [
           "Eastern Andean Cordillera",
           "Colombia"
          ],
          [
           "Western Central Andes",
           "Peru"
          ],
          [
           "Western Central Andes",
           "Peru"
          ],
          [
           "Eastern Cape",
           "South Africa"
          ],
          [
           "Eastern Cape",
           "South Africa"
          ],
          [
           "Eastern Cape",
           "South Africa"
          ],
          [
           "Nepalese Himalaya",
           "Nepal"
          ],
          [
           "Nepalese Himalaya",
           "Nepal"
          ],
          [
           "Nepalese Himalaya",
           "Nepal"
          ],
          [
           "Nepalese Himalaya",
           "Nepal"
          ],
          [
           "Nepalese Himalaya",
           "Nepal"
          ],
          [
           "Eastern Altiplano",
           "Bolivia"
          ],
          [
           "Nepalese Himalaya",
           "Nepal"
          ],
          [
           "Eastern Altiplano",
           "Bolivia"
          ],
          [
           "Eastern Altiplano",
           "Bolivia"
          ],
          [
           "Eastern Altiplano",
           "Bolivia"
          ],
          [
           "Eastern Altiplano",
           "Bolivia"
          ],
          [
           "Eastern Altiplano",
           "Bolivia"
          ],
          [
           "Nepalese Himalaya",
           "Nepal"
          ],
          [
           "Eastern Altiplano",
           "Bolivia"
          ],
          [
           "Eastern Altiplano",
           "Bolivia"
          ],
          [
           "Central Eastern Alps",
           "Italy"
          ],
          [
           "Nepalese Himalaya",
           "Nepal"
          ],
          [
           "Eastern Altiplano",
           "Bolivia"
          ],
          [
           "Northwest",
           "Panama"
          ],
          [
           "Central",
           "Panama"
          ],
          [
           "Nepalese Himalaya",
           "Nepal"
          ],
          [
           "Qilian Shan",
           "China"
          ],
          [
           "Qilian Shan",
           "China"
          ],
          [
           "Qilian Shan",
           "China"
          ],
          [
           "Qilian Shan",
           "China"
          ],
          [
           "Qilian Shan",
           "China"
          ],
          [
           "Qilian Shan",
           "China"
          ],
          [
           "Nepalese Himalaya",
           "Nepal"
          ],
          [
           "Qilian Shan",
           "China"
          ],
          [
           "Qilian Shan",
           "China"
          ],
          [
           "Central Eastern Alps",
           "Italy"
          ],
          [
           "Nepalese Himalaya",
           "Nepal"
          ],
          [
           "Nepalese Himalaya",
           "Nepal"
          ],
          [
           "Longmen Shan",
           "China"
          ],
          [
           "Longmen Shan",
           "China"
          ],
          [
           "Longmen Shan",
           "China"
          ],
          [
           "Longmen Shan",
           "China"
          ],
          [
           "Longmen Shan",
           "China"
          ],
          [
           "Upper Ganges",
           "India"
          ],
          [
           "Eastern Altiplano",
           "Bolivia"
          ],
          [
           "Eastern Altiplano",
           "Bolivia"
          ],
          [
           "Eastern Altiplano",
           "Bolivia"
          ],
          [
           "Central",
           "Panama"
          ],
          [
           "Eastern Altiplano",
           "Bolivia"
          ],
          [
           "Bolivian Andes",
           "Bolivia"
          ],
          [
           "Eastern Altiplano",
           "Bolivia"
          ],
          [
           "Rocky Mts.",
           "USA"
          ],
          [
           "Washington Cascades (WA)",
           "USA"
          ],
          [
           "Eastern Altiplano",
           "Bolivia"
          ],
          [
           "Bolivian Andes",
           "Bolivia"
          ],
          [
           "Eastern Altiplano",
           "Bolivia"
          ],
          [
           "Central Eastern Alps",
           "Austria"
          ],
          [
           "Eastern Altiplano",
           "Bolivia"
          ],
          [
           "Bolivian Andes",
           "Bolivia"
          ],
          [
           "Eastern Altiplano",
           "Bolivia"
          ],
          [
           "Longshou Shan",
           "China"
          ],
          [
           "Eastern Altiplano",
           "Bolivia"
          ],
          [
           "Eastern Altiplano",
           "Bolivia"
          ],
          [
           "Qilian Shan",
           "China"
          ],
          [
           "Heli Shan",
           "China"
          ],
          [
           "New Mexico (NM)",
           "USA"
          ],
          [
           "Qilian Shan",
           "China"
          ],
          [
           "Heli Shan",
           "China"
          ],
          [
           "Rocky Mts.",
           "USA"
          ],
          [
           "Qilian Shan",
           "China"
          ],
          [
           "Central Eastern Alps",
           "Italy"
          ],
          [
           "Central Eastern Alps",
           "Italy"
          ],
          [
           "Qilian Shan",
           "China"
          ],
          [
           "Central Eastern Alps",
           "Austria"
          ],
          [
           "Qilian Shan",
           "China"
          ],
          [
           "Qilian Shan",
           "China"
          ],
          [
           "Central Eastern Alps",
           "Italy"
          ],
          [
           "Central Eastern Alps",
           "Italy"
          ],
          [
           "Central Eastern Alps",
           "Italy"
          ],
          [
           "Washington Cascades (WA)",
           "USA"
          ],
          [
           "Central Eastern Alps",
           "Austria"
          ],
          [
           "Rocky Mts.",
           "USA"
          ],
          [
           "Central Eastern Alps",
           "Austria"
          ],
          [
           "Central Eastern Alps",
           "Italy"
          ],
          [
           "Central Eastern Alps",
           "Austria"
          ],
          [
           "Central Eastern Alps",
           "Italy"
          ],
          [
           "Central Eastern Alps",
           "Austria"
          ],
          [
           "Central Eastern Alps",
           "Austria"
          ],
          [
           "Central Eastern Alps",
           "Italy"
          ],
          [
           "Central Eastern Alps",
           "Austria"
          ],
          [
           "Central Eastern Alps",
           "Italy"
          ],
          [
           "Central Eastern Alps",
           "Italy"
          ],
          [
           "Central Eastern Alps",
           "Austria"
          ],
          [
           "Central Eastern Alps",
           "Italy"
          ],
          [
           "Central Eastern Alps",
           "Italy"
          ],
          [
           "Central Eastern Alps",
           "Austria"
          ],
          [
           "Central Eastern Alps",
           "Austria"
          ],
          [
           "Central Eastern Alps",
           "Italy"
          ],
          [
           "Central Eastern Alps",
           "Austria"
          ],
          [
           "Central Eastern Alps",
           "Austria"
          ],
          [
           "Central Eastern Alps",
           "Austria"
          ],
          [
           "Central Eastern Alps",
           "Austria"
          ],
          [
           "Rocky Mts.",
           "USA"
          ],
          [
           "Central Eastern Alps",
           "Italy"
          ],
          [
           "Central Eastern Alps",
           "Italy"
          ],
          [
           "Rocky Mts.",
           "USA"
          ],
          [
           "New Mexico (NM)",
           "USA"
          ],
          [
           "Central Eastern Alps",
           "Italy"
          ],
          [
           "Central Eastern Alps",
           "Italy"
          ],
          [
           "Central Eastern Alps",
           "Italy"
          ],
          [
           "Central Eastern Alps",
           "Italy"
          ],
          [
           "Central Eastern Alps",
           "Italy"
          ],
          [
           "Northern Qilian Mts.",
           "China"
          ],
          [
           "Northern Qilian Mts.",
           "China"
          ],
          [
           "Northern Qilian Mts.",
           "China"
          ],
          [
           "Northern Qilian Mts.",
           "China"
          ],
          [
           "Eastern",
           "Panama"
          ],
          [
           "Northern Qilian Mts.",
           "China"
          ],
          [
           "Southwest",
           "Panama"
          ],
          [
           "Northern Qilian Mts.",
           "China"
          ],
          [
           "Northern Qilian Mts.",
           "China"
          ],
          [
           "Northern Qilian Mts.",
           "China"
          ],
          [
           "Northern Qilian Mts.",
           "China"
          ],
          [
           "Central",
           "Panama"
          ],
          [
           "Rocky Mts.",
           "USA"
          ],
          [
           "Central-East",
           "Panama"
          ],
          [
           "New Mexico (NM)",
           "USA"
          ],
          [
           "Central",
           "Panama"
          ],
          [
           "Northwest",
           "Panama"
          ],
          [
           "Eastern",
           "Panama"
          ],
          [
           "Central",
           "Panama"
          ],
          [
           "Central-East",
           "Panama"
          ],
          [
           "Eastern",
           "Panama"
          ],
          [
           "Eastern",
           "Panama"
          ],
          [
           "Rocky Mts.",
           "USA"
          ],
          [
           "Central",
           "Panama"
          ],
          [
           "Eastern",
           "Panama"
          ],
          [
           "Central-East",
           "Panama"
          ],
          [
           "Eastern",
           "Panama"
          ],
          [
           "Eastern",
           "Panama"
          ],
          [
           "Northwest",
           "Panama"
          ],
          [
           "Eastern",
           "Panama"
          ],
          [
           "Northwest",
           "Panama"
          ],
          [
           "New Mexico (NM)",
           "USA"
          ],
          [
           "Eastern",
           "Panama"
          ],
          [
           "Eastern",
           "Panama"
          ],
          [
           "Eastern",
           "Panama"
          ],
          [
           "Eastern",
           "Panama"
          ],
          [
           "New Mexico (NM)",
           "USA"
          ],
          [
           "Central-East",
           "Panama"
          ],
          [
           "Northwest",
           "Panama"
          ],
          [
           "New Mexico (NM)",
           "USA"
          ],
          [
           "Central-East",
           "Panama"
          ],
          [
           "Southwest",
           "Panama"
          ],
          [
           "Rocky Mts.",
           "USA"
          ],
          [
           "Eastern",
           "Panama"
          ],
          [
           "Eastern",
           "Panama"
          ],
          [
           "Southwest",
           "Panama"
          ],
          [
           "Eastern",
           "Panama"
          ],
          [
           "Central-East",
           "Panama"
          ],
          [
           "Eastern",
           "Panama"
          ],
          [
           "Central-East",
           "Panama"
          ],
          [
           "Eastern",
           "Panama"
          ],
          [
           "Eastern",
           "Panama"
          ],
          [
           "Central-East",
           "Panama"
          ],
          [
           "Rocky Mts.",
           "USA"
          ],
          [
           "Rocky Mts.",
           "USA"
          ],
          [
           "Rocky Mts.",
           "USA"
          ],
          [
           "Rocky Mts.",
           "USA"
          ],
          [
           "Rocky Mts.",
           "USA"
          ],
          [
           "Rocky Mts.",
           "USA"
          ],
          [
           "Rocky Mts.",
           "USA"
          ],
          [
           "Rocky Mts.",
           "USA"
          ],
          [
           "Rocky Mts.",
           "USA"
          ],
          [
           "Rocky Mts.",
           "USA"
          ],
          [
           "Rocky Mts.",
           "USA"
          ],
          [
           "Rocky Mts.",
           "USA"
          ],
          [
           "Rocky Mts.",
           "USA"
          ],
          [
           "Rocky Mts.",
           "USA"
          ],
          [
           "New Mexico (NM)",
           "USA"
          ],
          [
           "Rocky Mts.",
           "USA"
          ],
          [
           "Rocky Mts.",
           "USA"
          ],
          [
           "Rocky Mts.",
           "USA"
          ],
          [
           "Rocky Mts.",
           "USA"
          ],
          [
           "Rocky Mts.",
           "USA"
          ],
          [
           "Rocky Mts.",
           "USA"
          ],
          [
           "Rocky Mts.",
           "USA"
          ],
          [
           "Rocky Mts.",
           "USA"
          ],
          [
           "Rocky Mts.",
           "USA"
          ],
          [
           "Rocky Mts.",
           "USA"
          ],
          [
           "Rocky Mts.",
           "USA"
          ],
          [
           "Rocky Mts.",
           "USA"
          ],
          [
           "Rocky Mts.",
           "USA"
          ],
          [
           "Rocky Mts.",
           "USA"
          ],
          [
           "New Mexico (NM)",
           "USA"
          ],
          [
           "Rocky Mts.",
           "USA"
          ],
          [
           "Rocky Mts.",
           "USA"
          ],
          [
           "Rocky Mts.",
           "USA"
          ],
          [
           "Rocky Mts.",
           "USA"
          ],
          [
           "Rocky Mts.",
           "USA"
          ],
          [
           "Rocky Mts.",
           "USA"
          ],
          [
           "Rocky Mts.",
           "USA"
          ],
          [
           "Rocky Mts.",
           "USA"
          ],
          [
           "Rocky Mts.",
           "USA"
          ],
          [
           "Rocky Mts.",
           "USA"
          ],
          [
           "New Mexico (NM)",
           "USA"
          ],
          [
           "Rocky Mts.",
           "USA"
          ],
          [
           "Rocky Mts.",
           "USA"
          ],
          [
           "Rocky Mts.",
           "USA"
          ],
          [
           "Rocky Mts.",
           "USA"
          ],
          [
           "Rocky Mts.",
           "USA"
          ],
          [
           "New Mexico (NM)",
           "USA"
          ],
          [
           "Rocky Mts.",
           "USA"
          ],
          [
           "Rocky Mts.",
           "USA"
          ],
          [
           "Rocky Mts.",
           "USA"
          ],
          [
           "New Mexico (NM)",
           "USA"
          ],
          [
           "Rocky Mts.",
           "USA"
          ],
          [
           "Rocky Mts.",
           "USA"
          ],
          [
           "Rocky Mts.",
           "USA"
          ],
          [
           "Rocky Mts.",
           "USA"
          ],
          [
           "Rocky Mts.",
           "USA"
          ],
          [
           "Rocky Mts.",
           "USA"
          ],
          [
           "Rocky Mts.",
           "USA"
          ],
          [
           "Kenya Rift",
           "Kenya"
          ],
          [
           "Kenya Rift",
           "Kenya"
          ],
          [
           "Kenya Rift",
           "Kenya"
          ],
          [
           "Kenya Rift",
           "Kenya"
          ],
          [
           "Kenya Rift",
           "Kenya"
          ],
          [
           "Kenya Rift",
           "Kenya"
          ],
          [
           "Kenya Rift",
           "Kenya"
          ],
          [
           "New Mexico (NM)",
           "USA"
          ],
          [
           "Kenya Rift",
           "Kenya"
          ],
          [
           "Kenya Rift",
           "Kenya"
          ],
          [
           "Kenya Rift",
           "Kenya"
          ],
          [
           "Kenya Rift",
           "Kenya"
          ],
          [
           "Kenya Rift",
           "Kenya"
          ],
          [
           "Kenya Rift",
           "Kenya"
          ],
          [
           "Kenya Rift",
           "Kenya"
          ],
          [
           "Kenya Rift",
           "Kenya"
          ],
          [
           "Kenya Rift",
           "Kenya"
          ],
          [
           "Kenya Rift",
           "Kenya"
          ],
          [
           "Bolivian Andes",
           "Bolivia"
          ],
          [
           "Bolivian Andes",
           "Bolivia"
          ],
          [
           "Kenya Rift",
           "Kenya"
          ],
          [
           "Kenya Rift",
           "Kenya"
          ],
          [
           "Kenya Rift",
           "Kenya"
          ],
          [
           "Bolivian Andes",
           "Bolivia"
          ],
          [
           "Bolivian Andes",
           "Bolivia"
          ],
          [
           "Bolivian Andes",
           "Bolivia"
          ],
          [
           "Bolivian Andes",
           "Bolivia"
          ],
          [
           "Bolivian Andes",
           "Bolivia"
          ],
          [
           "Bolivian Andes",
           "Bolivia"
          ],
          [
           "Bolivian Andes",
           "Bolivia"
          ],
          [
           "Bolivian Andes",
           "Bolivia"
          ],
          [
           "Bolivian Andes",
           "Bolivia"
          ],
          [
           "Bolivian Andes",
           "Bolivia"
          ],
          [
           "Bolivian Andes",
           "Bolivia"
          ],
          [
           "New Mexico (NM)",
           "USA"
          ],
          [
           "New Mexico (NM)",
           "USA"
          ],
          [
           "Bolivian Andes",
           "Bolivia"
          ],
          [
           "Bolivian Andes",
           "Bolivia"
          ],
          [
           "New Mexico (NM)",
           "USA"
          ],
          [
           "Bolivian Andes",
           "Bolivia"
          ],
          [
           "Bolivian Andes",
           "Bolivia"
          ],
          [
           "Bolivian Andes",
           "Bolivia"
          ],
          [
           "Bolivian Andes",
           "Bolivia"
          ],
          [
           "New Mexico (NM)",
           "USA"
          ],
          [
           "New Mexico (NM)",
           "USA"
          ],
          [
           "New Mexico (NM)",
           "USA"
          ],
          [
           "New Mexico (NM)",
           "USA"
          ],
          [
           "New Mexico (NM)",
           "USA"
          ],
          [
           "New Mexico (NM)",
           "USA"
          ],
          [
           "New Mexico (NM)",
           "USA"
          ],
          [
           "New Mexico (NM)",
           "USA"
          ],
          [
           "New Mexico (NM)",
           "USA"
          ],
          [
           "New Mexico (NM)",
           "USA"
          ],
          [
           "New Mexico (NM)",
           "USA"
          ],
          [
           "New Mexico (NM)",
           "USA"
          ],
          [
           "New Mexico (NM)",
           "USA"
          ],
          [
           "New Mexico (NM)",
           "USA"
          ],
          [
           "New Mexico (NM)",
           "USA"
          ],
          [
           "New Mexico (NM)",
           "USA"
          ],
          [
           "New Mexico (NM)",
           "USA"
          ],
          [
           "New Mexico (NM)",
           "USA"
          ],
          [
           "New Mexico (NM)",
           "USA"
          ],
          [
           "New Mexico (NM)",
           "USA"
          ],
          [
           "New Mexico (NM)",
           "USA"
          ],
          [
           "New Mexico (NM)",
           "USA"
          ],
          [
           "Eastern Tibet",
           "China"
          ],
          [
           "Eastern Tibet",
           "China"
          ],
          [
           "Eastern Tibet",
           "China"
          ],
          [
           "Eastern Tibet",
           "China"
          ],
          [
           "Eastern Tibet",
           "China"
          ],
          [
           "Eastern Tibet",
           "China"
          ],
          [
           "Eastern Tibet",
           "China"
          ],
          [
           "Eastern Tibet",
           "China"
          ],
          [
           "Swiss Alps",
           "Switzerland"
          ],
          [
           "Eastern Tibet",
           "China"
          ],
          [
           "Eastern Tibet",
           "China"
          ],
          [
           "Eastern Tibet",
           "China"
          ],
          [
           "Eastern Tibet",
           "China"
          ],
          [
           "Eastern Tibet",
           "China"
          ],
          [
           "Eastern Tibet",
           "China"
          ],
          [
           "Eastern Tibet",
           "China"
          ],
          [
           "Eastern Tibet",
           "China"
          ],
          [
           "Eastern Tibet",
           "China"
          ],
          [
           "Eastern Tibet",
           "China"
          ],
          [
           "Eastern Tibet",
           "China"
          ],
          [
           "Eastern Tibet",
           "China"
          ],
          [
           "Swiss Alps",
           "Switzerland"
          ],
          [
           "Eastern Tibet",
           "China"
          ],
          [
           "Eastern Tibet",
           "China"
          ],
          [
           "Eastern Tibet",
           "China"
          ],
          [
           "Eastern Tibet",
           "China"
          ],
          [
           "Eastern Tibet",
           "China"
          ],
          [
           "Eastern Tibet",
           "China"
          ],
          [
           "Eastern Tibet",
           "China"
          ],
          [
           "Eastern Tibet",
           "China"
          ],
          [
           "Eastern Tibet",
           "China"
          ],
          [
           "Eastern Tibet",
           "China"
          ],
          [
           "Eastern Tibet",
           "China"
          ],
          [
           "Eastern Tibet",
           "China"
          ],
          [
           "Himalaya",
           "India"
          ],
          [
           "Swiss Alps",
           "Switzerland"
          ],
          [
           "Eastern Tibet",
           "China"
          ],
          [
           "Himalaya",
           "India"
          ],
          [
           "Peruvian Andes",
           "Peru"
          ],
          [
           "Himalaya",
           "India"
          ],
          [
           "Himalaya",
           "India"
          ],
          [
           "Himalaya",
           "India"
          ],
          [
           "Himalaya",
           "India"
          ],
          [
           "Himalaya",
           "India"
          ],
          [
           "Peruvian Andes",
           "Peru"
          ],
          [
           "Himalaya",
           "India"
          ],
          [
           "Himalaya",
           "India"
          ],
          [
           "Himalaya",
           "India"
          ],
          [
           "Himalaya",
           "India"
          ],
          [
           "Himalaya",
           "India"
          ],
          [
           "Himalaya",
           "India"
          ],
          [
           "Himalaya",
           "India"
          ],
          [
           "Peruvian Andes",
           "Peru"
          ],
          [
           "Peruvian Andes",
           "Peru"
          ],
          [
           "Peruvian Andes",
           "Peru"
          ],
          [
           "Himalaya",
           "India"
          ],
          [
           "Himalaya",
           "India"
          ],
          [
           "Himalaya",
           "India"
          ],
          [
           "Peruvian Andes",
           "Peru"
          ],
          [
           "Peruvian Andes",
           "Peru"
          ],
          [
           "Peruvian Andes",
           "Peru"
          ],
          [
           "Peruvian Andes",
           "Peru"
          ],
          [
           "Himalaya",
           "India"
          ],
          [
           "Peruvian Andes",
           "Peru"
          ],
          [
           "Swiss Alps",
           "Switzerland"
          ],
          [
           "Himalaya",
           "India"
          ],
          [
           "Swiss Alps",
           "Switzerland"
          ],
          [
           "Himalaya",
           "India"
          ],
          [
           "Himalaya",
           "India"
          ],
          [
           "Himalaya",
           "India"
          ],
          [
           "Swiss Alps",
           "Switzerland"
          ],
          [
           "Himalaya",
           "India"
          ],
          [
           "Peruvian Andes",
           "Peru"
          ],
          [
           "Himalaya",
           "India"
          ],
          [
           "Peruvian Andes",
           "Peru"
          ],
          [
           "Swiss Alps",
           "Switzerland"
          ],
          [
           "Himalaya",
           "India"
          ],
          [
           "Peruvian Andes",
           "Peru"
          ],
          [
           "Peruvian Andes",
           "Peru"
          ],
          [
           "Himalaya",
           "India"
          ],
          [
           "Himalaya",
           "India"
          ],
          [
           "Peruvian Andes",
           "Peru"
          ],
          [
           "Himalaya",
           "India"
          ],
          [
           "Peruvian Andes",
           "Peru"
          ],
          [
           "Himalaya",
           "India"
          ],
          [
           "Bhutanese Himalaya",
           "Bhutan"
          ],
          [
           "Himalaya",
           "India"
          ],
          [
           "Peruvian Andes",
           "Peru"
          ],
          [
           "Bhutanese Himalaya",
           "Bhutan"
          ],
          [
           "Himalaya",
           "India"
          ],
          [
           "Himalaya",
           "India"
          ],
          [
           "Peruvian Andes",
           "Peru"
          ],
          [
           "Bhutanese Himalaya",
           "Bhutan"
          ],
          [
           "Himalaya",
           "India"
          ],
          [
           "Peruvian Andes",
           "Peru"
          ],
          [
           "Peruvian Andes",
           "Peru"
          ],
          [
           "Bhutanese Himalaya",
           "Bhutan"
          ],
          [
           "Bhutanese Himalaya",
           "Bhutan"
          ],
          [
           "Peruvian Andes",
           "Peru"
          ],
          [
           "Peruvian Andes",
           "Peru"
          ],
          [
           "Bhutanese Himalaya",
           "Bhutan"
          ],
          [
           "Bhutanese Himalaya",
           "Bhutan"
          ],
          [
           "Peruvian Andes",
           "Peru"
          ],
          [
           "Peruvian Andes",
           "Peru"
          ],
          [
           "Peruvian Andes",
           "Peru"
          ],
          [
           "Peruvian Andes",
           "Peru"
          ],
          [
           "Bhutanese Himalaya",
           "Bhutan"
          ],
          [
           "Bhutanese Himalaya",
           "Bhutan"
          ],
          [
           "Bhutanese Himalaya",
           "Bhutan"
          ],
          [
           "Bhutanese Himalaya",
           "Bhutan"
          ],
          [
           "Bhutanese Himalaya",
           "Bhutan"
          ],
          [
           "Bhutanese Himalaya",
           "Bhutan"
          ],
          [
           "Bhutanese Himalaya",
           "Bhutan"
          ],
          [
           "Bhutanese Himalaya",
           "Bhutan"
          ],
          [
           "Atacama Desert",
           "Chile"
          ],
          [
           "Bhutanese Himalaya",
           "Bhutan"
          ],
          [
           "Bhutanese Himalaya",
           "Bhutan"
          ],
          [
           "Bhutanese Himalaya",
           "Bhutan"
          ],
          [
           "Bhutanese Himalaya",
           "Bhutan"
          ],
          [
           "Bhutanese Himalaya",
           "Bhutan"
          ],
          [
           "Bhutanese Himalaya",
           "Bhutan"
          ],
          [
           "Bhutanese Himalaya",
           "Bhutan"
          ],
          [
           "Bhutanese Himalaya",
           "Bhutan"
          ],
          [
           "Bhutanese Himalaya",
           "Bhutan"
          ],
          [
           "Bhutanese Himalaya",
           "Bhutan"
          ],
          [
           "Bhutanese Himalaya",
           "Bhutan"
          ],
          [
           "Bhutanese Himalaya",
           "Bhutan"
          ],
          [
           "Bhutanese Himalaya",
           "Bhutan"
          ],
          [
           "Bhutanese Himalaya",
           "Bhutan"
          ],
          [
           "Bhutanese Himalaya",
           "Bhutan"
          ],
          [
           "Bhutanese Himalaya",
           "Bhutan"
          ],
          [
           "Bhutanese Himalaya",
           "Bhutan"
          ],
          [
           "Bhutanese Himalaya",
           "Bhutan"
          ],
          [
           "Bhutanese Himalaya",
           "Bhutan"
          ],
          [
           "Bhutanese Himalaya",
           "Bhutan"
          ],
          [
           "Bhutanese Himalaya",
           "Bhutan"
          ],
          [
           "Bhutanese Himalaya",
           "Bhutan"
          ],
          [
           "Bhutanese Himalaya",
           "Bhutan"
          ],
          [
           "Bhutanese Himalaya",
           "Bhutan"
          ],
          [
           "Swiss Alps",
           "Switzerland"
          ],
          [
           "Bhutanese Himalaya",
           "Bhutan"
          ],
          [
           "Bhutanese Himalaya",
           "Bhutan"
          ],
          [
           "Bhutanese Himalaya",
           "Bhutan"
          ],
          [
           "Bhutanese Himalaya",
           "Bhutan"
          ],
          [
           "Bhutanese Himalaya",
           "Bhutan"
          ],
          [
           "Bhutanese Himalaya",
           "Bhutan"
          ],
          [
           "Swiss Alps",
           "Switzerland"
          ],
          [
           "Swiss Alps",
           "Switzerland"
          ],
          [
           "Bhutanese Himalaya",
           "Bhutan"
          ],
          [
           "Bhutanese Himalaya",
           "Bhutan"
          ],
          [
           "Bhutanese Himalaya",
           "Bhutan"
          ],
          [
           "Bhutanese Himalaya",
           "Bhutan"
          ],
          [
           "Bhutanese Himalaya",
           "Bhutan"
          ],
          [
           "Bhutanese Himalaya",
           "Bhutan"
          ],
          [
           "Bhutanese Himalaya",
           "Bhutan"
          ],
          [
           "Bhutanese Himalaya",
           "Bhutan"
          ],
          [
           "Swiss Alps",
           "Switzerland"
          ],
          [
           "Swiss Alps",
           "Switzerland"
          ],
          [
           "Bhutanese Himalaya",
           "Bhutan"
          ],
          [
           "Swiss Alps",
           "Switzerland"
          ],
          [
           "Swiss Alps",
           "Switzerland"
          ],
          [
           "Swiss Alps",
           "Switzerland"
          ],
          [
           "Swiss Alps",
           "Switzerland"
          ],
          [
           "Swiss Alps",
           "Switzerland"
          ],
          [
           "Swiss Alps",
           "Switzerland"
          ],
          [
           "Swiss Alps",
           "Switzerland"
          ],
          [
           "Swiss Alps",
           "Switzerland"
          ],
          [
           "Swiss Alps",
           "Switzerland"
          ],
          [
           "Swiss Alps",
           "Switzerland"
          ],
          [
           "Swiss Alps",
           "Switzerland"
          ],
          [
           "Swiss Alps",
           "Switzerland"
          ],
          [
           "Swiss Alps",
           "Switzerland"
          ],
          [
           "Atacama Desert",
           "Chile"
          ],
          [
           "Atacama Desert",
           "Chile"
          ],
          [
           "Swiss Alps",
           "Switzerland"
          ],
          [
           "Bhutanese Himalaya",
           "Bhutan"
          ],
          [
           "Swiss Alps",
           "Switzerland"
          ],
          [
           "Hsueshan Range",
           "Taiwan"
          ],
          [
           "Hsueshan Range",
           "Taiwan"
          ],
          [
           "Swiss Alps",
           "Switzerland"
          ],
          [
           "Swiss Alps",
           "Switzerland"
          ],
          [
           "Swiss Alps",
           "Switzerland"
          ],
          [
           "Swiss Alps",
           "Switzerland"
          ],
          [
           "Swiss Alps",
           "Switzerland"
          ],
          [
           "Swiss Alps",
           "Switzerland"
          ],
          [
           "Bhutanese Himalaya",
           "Bhutan"
          ],
          [
           "Bhutanese Himalaya",
           "Bhutan"
          ],
          [
           "Swiss Alps",
           "Switzerland"
          ],
          [
           "Swiss Alps",
           "Switzerland"
          ],
          [
           "Bhutanese Himalaya",
           "Bhutan"
          ],
          [
           "Bhutanese Himalaya",
           "Bhutan"
          ],
          [
           "Bhutanese Himalaya",
           "Bhutan"
          ],
          [
           "Swiss Alps",
           "Switzerland"
          ],
          [
           "Swiss Alps",
           "Switzerland"
          ],
          [
           "Swiss Alps",
           "Switzerland"
          ],
          [
           "Bhutanese Himalaya",
           "Bhutan"
          ],
          [
           "Bhutanese Himalaya",
           "Bhutan"
          ],
          [
           "Hsueshan Range",
           "Taiwan"
          ],
          [
           "Bhutanese Himalaya",
           "Bhutan"
          ],
          [
           "Hsueshan Range",
           "Taiwan"
          ],
          [
           "Bhutanese Himalaya",
           "Bhutan"
          ],
          [
           "Bhutanese Himalaya",
           "Bhutan"
          ],
          [
           "Bhutanese Himalaya",
           "Bhutan"
          ],
          [
           "Bhutanese Himalaya",
           "Bhutan"
          ],
          [
           "Central Range",
           "Taiwan"
          ],
          [
           "Bhutanese Himalaya",
           "Bhutan"
          ],
          [
           "Bhutanese Himalaya",
           "Bhutan"
          ],
          [
           "Central Range",
           "Taiwan"
          ],
          [
           "Bhutanese Himalaya",
           "Bhutan"
          ],
          [
           "Bhutanese Himalaya",
           "Bhutan"
          ],
          [
           "Bhutanese Himalaya",
           "Bhutan"
          ],
          [
           "Bhutanese Himalaya",
           "Bhutan"
          ],
          [
           "Central Range",
           "Taiwan"
          ],
          [
           "Bhutanese Himalaya",
           "Bhutan"
          ],
          [
           "Bhutanese Himalaya",
           "Bhutan"
          ],
          [
           "Bhutanese Himalaya",
           "Bhutan"
          ],
          [
           "Bhutanese Himalaya",
           "Bhutan"
          ],
          [
           "Bhutanese Himalaya",
           "Bhutan"
          ],
          [
           "Bhutanese Himalaya",
           "Bhutan"
          ],
          [
           "Bhutanese Himalaya",
           "Bhutan"
          ],
          [
           "Bhutanese Himalaya",
           "Bhutan"
          ],
          [
           "Bhutanese Himalaya",
           "Bhutan"
          ],
          [
           "Bhutanese Himalaya",
           "Bhutan"
          ],
          [
           "Bhutanese Himalaya",
           "Bhutan"
          ],
          [
           "Bhutanese Himalaya",
           "Bhutan"
          ],
          [
           "Bhutanese Himalaya",
           "Bhutan"
          ],
          [
           "Semi-arid Andes",
           "Chile"
          ],
          [
           "Semi-arid Andes",
           "Chile"
          ],
          [
           "Bhutanese Himalaya",
           "Bhutan"
          ],
          [
           "Bhutanese Himalaya",
           "Bhutan"
          ],
          [
           "Bhutanese Himalaya",
           "Bhutan"
          ],
          [
           "Bhutanese Himalaya",
           "Bhutan"
          ],
          [
           "Bhutanese Himalaya",
           "Bhutan"
          ],
          [
           "Bhutanese Himalaya",
           "Bhutan"
          ],
          [
           "Bhutanese Himalaya",
           "Bhutan"
          ],
          [
           "Bhutanese Himalaya",
           "Bhutan"
          ],
          [
           "Eastern Alps",
           "Austria"
          ],
          [
           "Eastern Alps",
           "Austria"
          ],
          [
           "Eastern Alps",
           "Austria"
          ],
          [
           "Eastern Alps",
           "Austria"
          ],
          [
           "Semi-arid Andes",
           "Chile"
          ],
          [
           "Eastern Alps",
           "Austria"
          ],
          [
           "Semi-arid Andes",
           "Chile"
          ],
          [
           "Washington Cascades (WA)",
           "USA"
          ],
          [
           "Eastern Alps",
           "Austria"
          ],
          [
           "Eastern Alps",
           "Austria"
          ],
          [
           "Eastern Alps",
           "Austria"
          ],
          [
           "Eastern Alps",
           "Austria"
          ],
          [
           "Eastern Alps",
           "Austria"
          ],
          [
           "Central Chile",
           "Chile"
          ],
          [
           "Central Chile",
           "Chile"
          ],
          [
           "Eastern Alps",
           "Austria"
          ],
          [
           "Eastern Alps",
           "Austria"
          ],
          [
           "Emilia Apennines",
           "Italy"
          ],
          [
           "Washington Cascades (WA)",
           "USA"
          ],
          [
           "Eastern Alps",
           "Austria"
          ],
          [
           "Eastern Alps",
           "Austria"
          ],
          [
           "Emilia Apennines",
           "Italy"
          ],
          [
           "Washington Cascades (WA)",
           "USA"
          ],
          [
           "Eastern Alps",
           "Austria"
          ],
          [
           "Eastern Alps",
           "Austria"
          ],
          [
           "Washington Cascades (WA)",
           "USA"
          ],
          [
           "Washington Cascades (WA)",
           "USA"
          ],
          [
           "Eastern Alps",
           "Austria"
          ],
          [
           "Eastern Alps",
           "Austria"
          ],
          [
           "Romagna Appenines",
           "Italy"
          ],
          [
           "Eastern Alps",
           "Austria"
          ],
          [
           "Central Range",
           "Taiwan"
          ],
          [
           "Eastern Alps",
           "Austria"
          ],
          [
           "Eastern Alps",
           "Austria"
          ],
          [
           "Sichuan",
           "China"
          ],
          [
           "Eastern Alps",
           "Austria"
          ],
          [
           "Eastern Alps",
           "Slovenia"
          ],
          [
           "Sila Massif",
           "Italy"
          ],
          [
           "Eastern Alps",
           "Austria"
          ],
          [
           "Eastern Alps",
           "Austria"
          ],
          [
           "Sichuan",
           "China"
          ],
          [
           "Eastern Alps",
           "Slovenia"
          ],
          [
           "Eastern Alps",
           "Slovenia"
          ],
          [
           "Atacama Desert",
           "Chile"
          ],
          [
           "Eastern Alps",
           "Slovenia"
          ],
          [
           "Eastern Alps",
           "Slovenia"
          ],
          [
           "Atacama Desert",
           "Chile"
          ],
          [
           "Atacama Desert",
           "Chile"
          ],
          [
           "Sila Massif",
           "Italy"
          ],
          [
           "Atacama Desert",
           "Chile"
          ],
          [
           "Atacama Desert",
           "Chile"
          ],
          [
           "Hsueshan Range",
           "Taiwan"
          ],
          [
           "Hsueshan Range",
           "Taiwan"
          ],
          [
           "Hsueshan Range",
           "Taiwan"
          ],
          [
           "Central Range",
           "Taiwan"
          ],
          [
           "Hsueshan Range",
           "Taiwan"
          ],
          [
           "Central Range",
           "Taiwan"
          ],
          [
           "Sichuan",
           "China"
          ],
          [
           "Central Range",
           "Taiwan"
          ],
          [
           "Sichuan",
           "China"
          ],
          [
           "Central Range",
           "Taiwan"
          ],
          [
           "Marsyandi Basin",
           "Nepal"
          ],
          [
           "Central Range",
           "Taiwan"
          ],
          [
           "Sila Massif",
           "Italy"
          ],
          [
           "Hsueshan Range",
           "Taiwan"
          ],
          [
           "Marsyandi Basin",
           "Nepal"
          ],
          [
           "Hsueshan Range",
           "Taiwan"
          ],
          [
           "Marsyandi Basin",
           "Nepal"
          ],
          [
           "Central Range",
           "Taiwan"
          ],
          [
           "Sila Massif",
           "Italy"
          ],
          [
           "Central Range",
           "Taiwan"
          ],
          [
           "Sila Massif",
           "Italy"
          ],
          [
           "Hsueshan Range",
           "Taiwan"
          ],
          [
           "Sikkim Himalaya",
           "India"
          ],
          [
           "Sikkim Himalaya",
           "India"
          ],
          [
           "Hsueshan Range",
           "Taiwan"
          ],
          [
           "Himalaya",
           "Nepal"
          ],
          [
           "Central Range",
           "Taiwan"
          ],
          [
           "Sikkim Himalaya",
           "India"
          ],
          [
           "Sikkim Himalaya",
           "India"
          ],
          [
           "Central Range",
           "Taiwan"
          ],
          [
           "Himalaya",
           "Nepal"
          ],
          [
           "Central Range",
           "Taiwan"
          ],
          [
           "Central Range",
           "Taiwan"
          ],
          [
           "Central Range",
           "Taiwan"
          ],
          [
           "Hsueshan Range",
           "Taiwan"
          ],
          [
           "Central Range",
           "Taiwan"
          ],
          [
           "Central Range",
           "Taiwan"
          ],
          [
           "Hsueshan Range",
           "Taiwan"
          ],
          [
           "Hsueshan Range",
           "Taiwan"
          ],
          [
           "Sikkim Himalaya",
           "India"
          ],
          [
           "Central Range",
           "Taiwan"
          ],
          [
           "Hsueshan Range",
           "Taiwan"
          ],
          [
           "Himalaya",
           "Nepal"
          ],
          [
           "Himalaya",
           "Nepal"
          ],
          [
           "Himalaya",
           "Nepal"
          ],
          [
           "Himalaya",
           "Nepal"
          ],
          [
           "Himalaya",
           "Nepal"
          ],
          [
           "Himalaya",
           "Nepal"
          ],
          [
           "Rwenzori Mts.",
           "Uganda"
          ],
          [
           "Himalaya",
           "Nepal"
          ],
          [
           "Himalaya",
           "Nepal"
          ],
          [
           "Rwenzori Mts.",
           "Uganda"
          ],
          [
           "Marsyandi Basin",
           "Nepal"
          ],
          [
           "Himalaya",
           "Nepal"
          ],
          [
           "Himalaya",
           "Nepal"
          ],
          [
           "Yunnan",
           "China"
          ],
          [
           "Himalaya",
           "Nepal"
          ],
          [
           "Himalaya",
           "Nepal"
          ],
          [
           "Himalaya",
           "Nepal"
          ],
          [
           "Yunnan",
           "China"
          ],
          [
           "Yunnan",
           "China"
          ],
          [
           "Yunnan",
           "China"
          ],
          [
           "Himalaya",
           "Nepal"
          ],
          [
           "Himalaya",
           "Nepal"
          ],
          [
           "Himalaya",
           "Nepal"
          ],
          [
           "Yunnan",
           "China"
          ],
          [
           "Himalaya",
           "Nepal"
          ],
          [
           "Himalaya",
           "Nepal"
          ],
          [
           "Himalaya",
           "Nepal"
          ],
          [
           "Marsyandi Basin",
           "Nepal"
          ],
          [
           "Himalaya",
           "Nepal"
          ],
          [
           "Himalaya",
           "Nepal"
          ],
          [
           "Semi-arid Andes",
           "Chile"
          ],
          [
           "Himalaya",
           "Nepal"
          ],
          [
           "Himalaya",
           "Nepal"
          ],
          [
           "Semi-arid Andes",
           "Chile"
          ],
          [
           "Semi-arid Andes",
           "Chile"
          ],
          [
           "Semi-arid Andes",
           "Chile"
          ],
          [
           "Emilia Apennines",
           "Italy"
          ],
          [
           "Marsyandi Basin",
           "Nepal"
          ],
          [
           "Emilia Apennines",
           "Italy"
          ],
          [
           "Romagna Appenines",
           "Italy"
          ],
          [
           "Sila Massif",
           "Italy"
          ],
          [
           "Peloritani-Aspromonte",
           "Italy"
          ],
          [
           "Romagna Appenines",
           "Italy"
          ],
          [
           "Marsyandi Basin",
           "Nepal"
          ],
          [
           "Romagna Appenines",
           "Italy"
          ],
          [
           "Peloritani-Aspromonte",
           "Italy"
          ],
          [
           "Emilia Apennines",
           "Italy"
          ],
          [
           "Sila Massif",
           "Italy"
          ],
          [
           "Romagna Appenines",
           "Italy"
          ],
          [
           "Sila Massif",
           "Italy"
          ],
          [
           "Romagna Appenines",
           "Italy"
          ],
          [
           "Sila Massif",
           "Italy"
          ],
          [
           "Sila Massif",
           "Italy"
          ],
          [
           "Sila Massif",
           "Italy"
          ],
          [
           "Sila Massif",
           "Italy"
          ],
          [
           "Peloritani-Aspromonte",
           "Italy"
          ],
          [
           "Peloritani-Aspromonte",
           "Italy"
          ],
          [
           "Romagna Appenines",
           "Italy"
          ],
          [
           "Sila Massif",
           "Italy"
          ],
          [
           "Sila Massif",
           "Italy"
          ],
          [
           "Sila Massif",
           "Italy"
          ],
          [
           "Sila Massif",
           "Italy"
          ],
          [
           "Marsyandi Basin",
           "Nepal"
          ],
          [
           "Emilia Apennines",
           "Italy"
          ],
          [
           "Sila Massif",
           "Italy"
          ],
          [
           "Sila Massif",
           "Italy"
          ],
          [
           "Sila Massif",
           "Italy"
          ],
          [
           "Peloritani-Aspromonte",
           "Italy"
          ],
          [
           "Peloritani-Aspromonte",
           "Italy"
          ],
          [
           "Marsyandi Basin",
           "Nepal"
          ],
          [
           "Emilia Apennines",
           "Italy"
          ],
          [
           "Romagna Appenines",
           "Italy"
          ],
          [
           "Sila Massif",
           "Italy"
          ],
          [
           "Sila Massif",
           "Italy"
          ],
          [
           "Sikkim Himalaya",
           "India"
          ],
          [
           "Sikkim Himalaya",
           "India"
          ],
          [
           "Sikkim Himalaya",
           "India"
          ],
          [
           "Sikkim Himalaya",
           "India"
          ],
          [
           "Sikkim Himalaya",
           "India"
          ],
          [
           "Rwenzori Mts.",
           "Uganda"
          ],
          [
           "Rwenzori Mts.",
           "Uganda"
          ],
          [
           "Rwenzori Mts.",
           "Uganda"
          ],
          [
           "Rwenzori Mts.",
           "Uganda"
          ],
          [
           "Rwenzori Mts.",
           "Uganda"
          ],
          [
           "Rwenzori Mts.",
           "Uganda"
          ],
          [
           "Rwenzori Mts.",
           "Uganda"
          ],
          [
           "Marsyandi Basin",
           "Nepal"
          ],
          [
           "Marsyandi Basin",
           "Nepal"
          ],
          [
           "Rwenzori Mts.",
           "Uganda"
          ],
          [
           "Marsyandi Basin",
           "Nepal"
          ],
          [
           "Rwenzori Mts.",
           "Uganda"
          ],
          [
           "Marsyandi Basin",
           "Nepal"
          ],
          [
           "Rwenzori Mts.",
           "Uganda"
          ],
          [
           "Marsyandi Basin",
           "Nepal"
          ],
          [
           "Abukuma Mts., Tohoku",
           "Japan"
          ],
          [
           "Rwenzori Mts.",
           "Uganda"
          ],
          [
           "Rwenzori Mts.",
           "Uganda"
          ],
          [
           "Southern Espinhaco Range",
           "Brazil"
          ],
          [
           "Abukuma Mts., Tohoku",
           "Japan"
          ],
          [
           "Rwenzori Mts.",
           "Uganda"
          ],
          [
           "Rwenzori Mts.",
           "Uganda"
          ],
          [
           "Yunnan",
           "China"
          ],
          [
           "Rwenzori Mts.",
           "Uganda"
          ],
          [
           "Rwenzori Mts.",
           "Uganda"
          ],
          [
           "Yunnan",
           "China"
          ],
          [
           "Yunnan",
           "China"
          ],
          [
           "Yunnan",
           "China"
          ],
          [
           "Yunnan",
           "China"
          ],
          [
           "Yunnan",
           "China"
          ],
          [
           "Yunnan",
           "China"
          ],
          [
           "Yunnan",
           "China"
          ],
          [
           "Yunnan",
           "China"
          ],
          [
           "Yunnan",
           "China"
          ],
          [
           "Yunnan",
           "China"
          ],
          [
           "Yunnan",
           "China"
          ],
          [
           "Yunnan",
           "China"
          ],
          [
           "Yunnan",
           "China"
          ],
          [
           "Yunnan",
           "China"
          ],
          [
           "Yunnan",
           "China"
          ],
          [
           "Yunnan",
           "China"
          ],
          [
           "Abukuma Mts., Tohoku",
           "Japan"
          ],
          [
           "Yunnan",
           "China"
          ],
          [
           "Yunnan",
           "China"
          ],
          [
           "Yunnan",
           "China"
          ],
          [
           "Yunnan",
           "China"
          ],
          [
           "Yunnan",
           "China"
          ],
          [
           "Yunnan",
           "China"
          ],
          [
           "Yunnan",
           "China"
          ],
          [
           "Yunnan",
           "China"
          ],
          [
           "Yunnan",
           "China"
          ],
          [
           "Yunnan",
           "China"
          ],
          [
           "Yunnan",
           "China"
          ],
          [
           "Yunnan",
           "China"
          ],
          [
           "Yunnan",
           "China"
          ],
          [
           "Yunnan",
           "China"
          ],
          [
           "Yunnan",
           "China"
          ],
          [
           "Yunnan",
           "China"
          ],
          [
           "Yunnan",
           "China"
          ],
          [
           "Yunnan",
           "China"
          ],
          [
           "Yunnan",
           "China"
          ],
          [
           "Chester Gap (VA)",
           "USA"
          ],
          [
           "Yunnan",
           "China"
          ],
          [
           "Yunnan",
           "China"
          ],
          [
           "Yunnan",
           "China"
          ],
          [
           "Yunnan",
           "China"
          ],
          [
           "Anyemaquen Shan",
           "China"
          ],
          [
           "Yunnan",
           "China"
          ],
          [
           "Yunnan",
           "China"
          ],
          [
           "Yunnan",
           "China"
          ],
          [
           "Yunnan",
           "China"
          ],
          [
           "Yunnan",
           "China"
          ],
          [
           "Crimora (VA)",
           "USA"
          ],
          [
           "Yunnan",
           "China"
          ],
          [
           "Yunnan",
           "China"
          ],
          [
           "Anyemaquen Shan",
           "China"
          ],
          [
           "Anyemaquen Shan",
           "China"
          ],
          [
           "Anyemaquen Shan",
           "China"
          ],
          [
           "Rhenish Massif (NRW)",
           "Germany"
          ],
          [
           "Anyemaquen Shan",
           "China"
          ],
          [
           "Anyemaquen Shan",
           "China"
          ],
          [
           "Anyemaquen Shan",
           "China"
          ],
          [
           "Anyemaquen Shan",
           "China"
          ],
          [
           "Anyemaquen Shan",
           "China"
          ],
          [
           "Anyemaquen Shan",
           "China"
          ],
          [
           "Anyemaquen Shan",
           "China"
          ],
          [
           "Anyemaquen Shan",
           "China"
          ],
          [
           "Anyemaquen Shan",
           "China"
          ],
          [
           "Himalaya",
           "India"
          ],
          [
           "Himalaya",
           "India"
          ],
          [
           "Himalaya",
           "India"
          ],
          [
           "Himalaya",
           "India"
          ],
          [
           "Himalaya",
           "India"
          ],
          [
           "Crimora (VA)",
           "USA"
          ],
          [
           "Himalaya",
           "India"
          ],
          [
           "Himalaya",
           "India"
          ],
          [
           "Himalaya",
           "India"
          ],
          [
           "Thornton Gap (VA)",
           "USA"
          ],
          [
           "Himalaya",
           "India"
          ],
          [
           "Himalaya",
           "India"
          ],
          [
           "Garhwal Himalaya (UK)",
           "India"
          ],
          [
           "Bentonville (VA)",
           "USA"
          ],
          [
           "Himalaya",
           "India"
          ],
          [
           "Himalaya",
           "India"
          ],
          [
           "Washington (VA)",
           "USA"
          ],
          [
           "Himalaya",
           "India"
          ],
          [
           "Garhwal Himalaya (UK)",
           "India"
          ],
          [
           "Garhwal Himalaya (UK)",
           "India"
          ],
          [
           "Garhwal Himalaya (UK)",
           "India"
          ],
          [
           "Garhwal Himalaya (UK)",
           "India"
          ],
          [
           "Garhwal Himalaya (UK)",
           "India"
          ],
          [
           "Garhwal Himalaya (UK)",
           "India"
          ],
          [
           "Garhwal Himalaya (UK)",
           "India"
          ],
          [
           "ND",
           "Madagascar"
          ],
          [
           "Garhwal Himalaya (UK)",
           "India"
          ],
          [
           "McGaheysville (VA)",
           "USA"
          ],
          [
           "Garhwal Himalaya (UK)",
           "India"
          ],
          [
           "Garhwal Himalaya (UK)",
           "India"
          ],
          [
           "ND",
           "Madagascar"
          ],
          [
           "Garhwal Himalaya (UK)",
           "India"
          ],
          [
           "Garhwal Himalaya (UK)",
           "India"
          ],
          [
           "Garhwal Himalaya (UK)",
           "India"
          ],
          [
           "Garhwal Himalaya (UK)",
           "India"
          ],
          [
           "Garhwal Himalaya (UK)",
           "India"
          ],
          [
           "Garhwal Himalaya (UK)",
           "India"
          ],
          [
           "Washington Cascades (WA)",
           "USA"
          ],
          [
           "Washington Cascades (WA)",
           "USA"
          ],
          [
           "Garhwal Himalaya (UK)",
           "India"
          ],
          [
           "Garhwal Himalaya (UK)",
           "India"
          ],
          [
           "Garhwal Himalaya (UK)",
           "India"
          ],
          [
           "Garhwal Himalaya (UK)",
           "India"
          ],
          [
           "Garhwal Himalaya (UK)",
           "India"
          ],
          [
           "Garhwal Himalaya (UK)",
           "India"
          ],
          [
           "Garhwal Himalaya (UK)",
           "India"
          ],
          [
           "Garhwal Himalaya (UK)",
           "India"
          ],
          [
           "Washington Cascades (WA)",
           "USA"
          ],
          [
           "Sichuan",
           "China"
          ],
          [
           "Washington Cascades (WA)",
           "USA"
          ],
          [
           "Sichuan",
           "China"
          ],
          [
           "ND",
           "Madagascar"
          ],
          [
           "Washington Cascades (WA)",
           "USA"
          ],
          [
           "Sichuan",
           "China"
          ],
          [
           "Sichuan",
           "China"
          ],
          [
           "Sichuan",
           "China"
          ],
          [
           "Sichuan",
           "China"
          ],
          [
           "Sichuan",
           "China"
          ],
          [
           "Marsyandi Basin",
           "Nepal"
          ],
          [
           "Marsyandi Basin",
           "Nepal"
          ],
          [
           "Marsyandi Basin",
           "Nepal"
          ],
          [
           "Marsyandi Basin",
           "Nepal"
          ],
          [
           "Marsyandi Basin",
           "Nepal"
          ],
          [
           "Marsyandi Basin",
           "Nepal"
          ],
          [
           "Marsyandi Basin",
           "Nepal"
          ],
          [
           "Marsyandi Basin",
           "Nepal"
          ],
          [
           "Marsyandi Basin",
           "Nepal"
          ],
          [
           "Marsyandi Basin",
           "Nepal"
          ],
          [
           "Marsyandi Basin",
           "Nepal"
          ],
          [
           "Marsyandi Basin",
           "Nepal"
          ],
          [
           "Marsyandi Basin",
           "Nepal"
          ],
          [
           "Southern Espinhaco Range",
           "Brazil"
          ],
          [
           "Southern Espinhaco Range",
           "Brazil"
          ],
          [
           "Southern Espinhaco Range",
           "Brazil"
          ],
          [
           "Southern Espinhaco Range",
           "Brazil"
          ],
          [
           "Western Alps",
           "FRA/ITA"
          ],
          [
           "Southern Espinhaco Range",
           "Brazil"
          ],
          [
           "Southern Espinhaco Range",
           "Brazil"
          ],
          [
           "Southern Espinhaco Range",
           "Brazil"
          ],
          [
           "Southern Espinhaco Range",
           "Brazil"
          ],
          [
           "Luray (VA)",
           "USA"
          ],
          [
           "Southern Espinhaco Range",
           "Brazil"
          ],
          [
           "Western Alps",
           "FRA/ITA"
          ],
          [
           "Southern Espinhaco Range",
           "Brazil"
          ],
          [
           "Western Alps",
           "FRA/ITA"
          ],
          [
           "Southern Espinhaco Range",
           "Brazil"
          ],
          [
           "Stannardsville (VA)",
           "USA"
          ],
          [
           "Southern Espinhaco Range",
           "Brazil"
          ],
          [
           "McGaheysville (VA)",
           "USA"
          ],
          [
           "Southern Espinhaco Range",
           "Brazil"
          ],
          [
           "Southern Espinhaco Range",
           "Brazil"
          ],
          [
           "Southern Espinhaco Range",
           "Brazil"
          ],
          [
           "Southern Espinhaco Range",
           "Brazil"
          ],
          [
           "Southern Espinhaco Range",
           "Brazil"
          ],
          [
           "Southern Espinhaco Range",
           "Brazil"
          ],
          [
           "Rhenish Massif (NRW)",
           "Germany"
          ],
          [
           "Southern Espinhaco Range",
           "Brazil"
          ],
          [
           "Cuenca basin",
           "Ecuador"
          ],
          [
           "Southern Espinhaco Range",
           "Brazil"
          ],
          [
           "Cuenca basin",
           "Ecuador"
          ],
          [
           "Southern Espinhaco Range",
           "Brazil"
          ],
          [
           "Southern Espinhaco Range",
           "Brazil"
          ],
          [
           "Southern Espinhaco Range",
           "Brazil"
          ],
          [
           "Southern Espinhaco Range",
           "Brazil"
          ],
          [
           "Southern Espinhaco Range",
           "Brazil"
          ],
          [
           "Southern Espinhaco Range",
           "Brazil"
          ],
          [
           "Cuenca basin",
           "Ecuador"
          ],
          [
           "McGaheysville (VA)",
           "USA"
          ],
          [
           "Cuenca basin",
           "Ecuador"
          ],
          [
           "Cuenca basin",
           "Ecuador"
          ],
          [
           "Old Rag Mountain (VA)",
           "USA"
          ],
          [
           "Cuenca basin",
           "Ecuador"
          ],
          [
           "Cuenca basin",
           "Ecuador"
          ],
          [
           "Cuenca basin",
           "Ecuador"
          ],
          [
           "Cuenca basin",
           "Ecuador"
          ],
          [
           "Cuenca basin",
           "Ecuador"
          ],
          [
           "Cuenca basin",
           "Ecuador"
          ],
          [
           "Cuenca basin",
           "Ecuador"
          ],
          [
           "Cuenca basin",
           "Ecuador"
          ],
          [
           "Sweetwater Range (MT)",
           "USA"
          ],
          [
           "Cuenca basin",
           "Ecuador"
          ],
          [
           "Cuenca basin",
           "Ecuador"
          ],
          [
           "Cuenca basin",
           "Ecuador"
          ],
          [
           "Cuenca basin",
           "Ecuador"
          ],
          [
           "Cuenca basin",
           "Ecuador"
          ],
          [
           "Cuenca basin",
           "Ecuador"
          ],
          [
           "Cuenca basin",
           "Ecuador"
          ],
          [
           "Waynesboro East (VA)",
           "USA"
          ],
          [
           "Cuenca basin",
           "Ecuador"
          ],
          [
           "Cuenca basin",
           "Ecuador"
          ],
          [
           "Cuenca basin",
           "Ecuador"
          ],
          [
           "Cuenca basin",
           "Ecuador"
          ],
          [
           "Cuenca basin",
           "Ecuador"
          ],
          [
           "Cuenca basin",
           "Ecuador"
          ],
          [
           "Cuenca basin",
           "Ecuador"
          ],
          [
           "Cuenca basin",
           "Ecuador"
          ],
          [
           "Cuenca basin",
           "Ecuador"
          ],
          [
           "Cuenca basin",
           "Ecuador"
          ],
          [
           "Cuenca basin",
           "Ecuador"
          ],
          [
           "Cuenca basin",
           "Ecuador"
          ],
          [
           "Cuenca basin",
           "Ecuador"
          ],
          [
           "Cuenca basin",
           "Ecuador"
          ],
          [
           "Crimora (VA)",
           "USA"
          ],
          [
           "Cuenca basin",
           "Ecuador"
          ],
          [
           "Cuenca basin",
           "Ecuador"
          ],
          [
           "Waynesboro East (VA)",
           "USA"
          ],
          [
           "Cuenca basin",
           "Ecuador"
          ],
          [
           "Cuenca basin",
           "Ecuador"
          ],
          [
           "Cuenca basin",
           "Ecuador"
          ],
          [
           "Stanley (VA)",
           "USA"
          ],
          [
           "Crimora (VA)",
           "USA"
          ],
          [
           "Old Rag Mountain (VA)",
           "USA"
          ],
          [
           "Old Rag Mountain (VA)",
           "USA"
          ],
          [
           "Rhenish Massif (NRW)",
           "Germany"
          ],
          [
           "Old Rag Mountain (VA)",
           "USA"
          ],
          [
           "Old Rag Mountain (VA)",
           "USA"
          ],
          [
           "Santa Cruz (CA)",
           "USA"
          ],
          [
           "Browns Cove (VA)",
           "USA"
          ],
          [
           "Washington (VA)",
           "USA"
          ],
          [
           "Crimora (VA)",
           "USA"
          ],
          [
           "Chester Gap (VA)",
           "USA"
          ],
          [
           "Big Meadows (VA)",
           "USA"
          ],
          [
           "Thornton Gap (VA)",
           "USA"
          ],
          [
           "Washington (VA)",
           "USA"
          ],
          [
           "Grottoes (VA)",
           "USA"
          ],
          [
           "Old Rag Mountain (VA)",
           "USA"
          ],
          [
           "Old Rag Mountain (VA)",
           "USA"
          ],
          [
           "Crimora (VA)",
           "USA"
          ],
          [
           "Crimora (VA)",
           "USA"
          ],
          [
           "Thornton Gap (VA)",
           "USA"
          ],
          [
           "Washington (VA)",
           "USA"
          ],
          [
           "Old Rag Mountain (VA)",
           "USA"
          ],
          [
           "Fletcher (VA)",
           "USA"
          ],
          [
           "Santa Cruz (CA)",
           "USA"
          ],
          [
           "Front Royal (VA)",
           "USA"
          ],
          [
           "Big Meadows (VA)",
           "USA"
          ],
          [
           "McGaheysville (VA)",
           "USA"
          ],
          [
           "McGaheysville (VA)",
           "USA"
          ],
          [
           "McGaheysville (VA)",
           "USA"
          ],
          [
           "McGaheysville (VA)",
           "USA"
          ],
          [
           "McGaheysville (VA)",
           "USA"
          ],
          [
           "Crimora (VA)",
           "USA"
          ],
          [
           "Bentonville (VA)",
           "USA"
          ],
          [
           "Crimora (VA)",
           "USA"
          ],
          [
           "Old Rag Mountain (VA)",
           "USA"
          ],
          [
           "Waynesboro East (VA)",
           "USA"
          ],
          [
           "Luray (VA)",
           "USA"
          ],
          [
           "Chester Gap (VA)",
           "USA"
          ],
          [
           "Old Rag Mountain (VA)",
           "USA"
          ],
          [
           "Big Meadows (VA)",
           "USA"
          ],
          [
           "Browns Cove (VA)",
           "USA"
          ],
          [
           "Thornton Gap (VA)",
           "USA"
          ],
          [
           "Thornton Gap (VA)",
           "USA"
          ],
          [
           "Thornton Gap (VA)",
           "USA"
          ],
          [
           "Thornton Gap (VA)",
           "USA"
          ],
          [
           "McGaheysville (VA)",
           "USA"
          ],
          [
           "Thornton Gap (VA)",
           "USA"
          ],
          [
           "Crimora (VA)",
           "USA"
          ],
          [
           "Big Meadows (VA)",
           "USA"
          ],
          [
           "Swift Run (VA)",
           "USA"
          ],
          [
           "Swift Run (VA)",
           "USA"
          ],
          [
           "Crimora (VA)",
           "USA"
          ],
          [
           "ND",
           "Madagascar"
          ],
          [
           "ND",
           "Madagascar"
          ],
          [
           "ND",
           "Madagascar"
          ],
          [
           "ND",
           "Madagascar"
          ],
          [
           "Western Alps",
           "FRA/ITA"
          ],
          [
           "Bhutanese Himalaya",
           "Bhutan"
          ],
          [
           "Western Alps",
           "FRA/ITA"
          ],
          [
           "Bhutanese Himalaya",
           "Bhutan"
          ],
          [
           "Western Alps",
           "FRA/ITA"
          ],
          [
           "Western Alps",
           "FRA/ITA"
          ],
          [
           "Western Alps",
           "FRA/ITA"
          ],
          [
           "Western Alps",
           "FRA/ITA"
          ],
          [
           "Western Alps",
           "FRA/ITA"
          ],
          [
           "Western Alps",
           "FRA/ITA"
          ],
          [
           "Western Alps",
           "FRA/ITA"
          ],
          [
           "Western Alps",
           "FRA/ITA"
          ],
          [
           "Western Alps",
           "FRA/ITA"
          ],
          [
           "Western central Andes",
           "Chile"
          ],
          [
           "Western central Andes",
           "Chile"
          ],
          [
           "Western central Andes",
           "Chile"
          ],
          [
           "Western central Andes",
           "Chile"
          ],
          [
           "Western central Andes",
           "Chile"
          ],
          [
           "Western central Andes",
           "Chile"
          ],
          [
           "Western central Andes",
           "Chile"
          ],
          [
           "Western central Andes",
           "Chile"
          ],
          [
           "Santa Cruz (CA)",
           "USA"
          ],
          [
           "Bhutanese Himalaya",
           "Bhutan"
          ],
          [
           "Bhutanese Himalaya",
           "Bhutan"
          ],
          [
           "Bhutanese Himalaya",
           "Bhutan"
          ],
          [
           "Bhutanese Himalaya",
           "Bhutan"
          ],
          [
           "Bhutanese Himalaya",
           "Bhutan"
          ],
          [
           "Bhutanese Himalaya",
           "Bhutan"
          ],
          [
           "Bhutanese Himalaya",
           "Bhutan"
          ],
          [
           "Bhutanese Himalaya",
           "Bhutan"
          ],
          [
           "Bhutanese Himalaya",
           "Bhutan"
          ],
          [
           "Bhutanese Himalaya",
           "Bhutan"
          ],
          [
           "Bhutanese Himalaya",
           "Bhutan"
          ],
          [
           "Bhutanese Himalaya",
           "Bhutan"
          ],
          [
           "Bhutanese Himalaya",
           "Bhutan"
          ],
          [
           "Bhutanese Himalaya",
           "Bhutan"
          ],
          [
           "Bhutanese Himalaya",
           "Bhutan"
          ],
          [
           "Serra do Mar",
           "Brazil"
          ],
          [
           "Bhutanese Himalaya",
           "Bhutan"
          ],
          [
           "Bhutanese Himalaya",
           "Bhutan"
          ],
          [
           "Bhutanese Himalaya",
           "Bhutan"
          ],
          [
           "Bhutanese Himalaya",
           "Bhutan"
          ],
          [
           "Bhutanese Himalaya",
           "Bhutan"
          ],
          [
           "Bhutanese Himalaya",
           "Bhutan"
          ],
          [
           "Bhutanese Himalaya",
           "Bhutan"
          ],
          [
           "Bhutanese Himalaya",
           "Bhutan"
          ],
          [
           "Bhutanese Himalaya",
           "Bhutan"
          ],
          [
           "Bhutanese Himalaya",
           "Bhutan"
          ],
          [
           "West Coast, Soutern Island",
           "New Zealand"
          ],
          [
           "Bhutanese Himalaya",
           "Bhutan"
          ],
          [
           "Bhutanese Himalaya",
           "Bhutan"
          ],
          [
           "Bhutanese Himalaya",
           "Bhutan"
          ],
          [
           "Bhutanese Himalaya",
           "Bhutan"
          ],
          [
           "Bhutanese Himalaya",
           "Bhutan"
          ],
          [
           "West Coast, Soutern Island",
           "New Zealand"
          ],
          [
           "West Coast, Soutern Island",
           "New Zealand"
          ],
          [
           "West Coast, Soutern Island",
           "New Zealand"
          ],
          [
           "Appalachians Mts.",
           "USA"
          ],
          [
           "West Coast, Soutern Island",
           "New Zealand"
          ],
          [
           "West Coast, Soutern Island",
           "New Zealand"
          ],
          [
           "West Coast, Soutern Island",
           "New Zealand"
          ],
          [
           "Southern Central Andes, Humahuaca Basin",
           "Argentina"
          ],
          [
           "Cape Fold Belt",
           "South Africa"
          ],
          [
           "Cape Fold Belt",
           "South Africa"
          ],
          [
           "Cape Fold Belt",
           "South Africa"
          ],
          [
           "Kruger Nat. Park",
           "South Africa"
          ],
          [
           "Cape Fold Belt",
           "South Africa"
          ],
          [
           "Cape Fold Belt",
           "South Africa"
          ],
          [
           "Cape Fold Belt",
           "South Africa"
          ],
          [
           "Cape Fold Belt",
           "South Africa"
          ],
          [
           "Sri Lankan Highlands",
           "Sri Lanka"
          ],
          [
           "Sri Lankan Highlands",
           "Sri Lanka"
          ],
          [
           "Cape Fold Belt",
           "South Africa"
          ],
          [
           "Cape Fold Belt",
           "South Africa"
          ],
          [
           "Cape Fold Belt",
           "South Africa"
          ],
          [
           "Sri Lankan Highlands",
           "Sri Lanka"
          ],
          [
           "Sri Lankan Highlands",
           "Sri Lanka"
          ],
          [
           "Sri Lankan Highlands",
           "Sri Lanka"
          ],
          [
           "Serra do Mar",
           "Brazil"
          ],
          [
           "Sri Lankan Highlands",
           "Sri Lanka"
          ],
          [
           "Sri Lankan Highlands",
           "Sri Lanka"
          ],
          [
           "Sri Lankan Highlands",
           "Sri Lanka"
          ],
          [
           "Sri Lankan Highlands",
           "Sri Lanka"
          ],
          [
           "Sri Lankan Highlands",
           "Sri Lanka"
          ],
          [
           "Serra do Mar",
           "Brazil"
          ],
          [
           "Sri Lankan Highlands",
           "Sri Lanka"
          ],
          [
           "Sri Lankan Highlands",
           "Sri Lanka"
          ],
          [
           "Sri Lankan Highlands",
           "Sri Lanka"
          ],
          [
           "Appalachians Mts.",
           "USA"
          ],
          [
           "Sri Lankan Highlands",
           "Sri Lanka"
          ],
          [
           "Sri Lankan Highlands",
           "Sri Lanka"
          ],
          [
           "Sri Lankan Highlands",
           "Sri Lanka"
          ],
          [
           "Sri Lankan Highlands",
           "Sri Lanka"
          ],
          [
           "Sri Lankan Highlands",
           "Sri Lanka"
          ],
          [
           "Appalachians Mts.",
           "USA"
          ],
          [
           "Southern Central Andes, Humahuaca Basin",
           "Argentina"
          ],
          [
           "Southern Central Andes, Humahuaca Basin",
           "Argentina"
          ],
          [
           "Appalachians Mts.",
           "USA"
          ],
          [
           "Southern Central Andes, Humahuaca Basin",
           "Argentina"
          ],
          [
           "Southern Central Andes, Humahuaca Basin",
           "Argentina"
          ],
          [
           "Southern Central Andes, Humahuaca Basin",
           "Argentina"
          ],
          [
           "Serra do Mar",
           "Brazil"
          ],
          [
           "Southern Central Andes, Humahuaca Basin",
           "Argentina"
          ],
          [
           "Southern Central Andes, Humahuaca Basin",
           "Argentina"
          ],
          [
           "Black Forest (BW)",
           "Germany"
          ],
          [
           "Southern Central Andes, Humahuaca Basin",
           "Argentina"
          ],
          [
           "Southern Central Andes, Humahuaca Basin",
           "Argentina"
          ],
          [
           "Southern Central Andes, Humahuaca Basin",
           "Argentina"
          ],
          [
           "Southern Central Andes, Humahuaca Basin",
           "Argentina"
          ],
          [
           "Appalachians Mts.",
           "USA"
          ],
          [
           "Southern Central Andes, Humahuaca Basin",
           "Argentina"
          ],
          [
           "Southern Central Andes, Humahuaca Basin",
           "Argentina"
          ],
          [
           "Appalachians Mts.",
           "USA"
          ],
          [
           "Southern Central Andes, Humahuaca Basin",
           "Argentina"
          ],
          [
           "Southern Central Andes, Humahuaca Basin",
           "Argentina"
          ],
          [
           "Southern Central Andes, Humahuaca Basin",
           "Argentina"
          ],
          [
           "Appalachians Mts.",
           "USA"
          ],
          [
           "Southern Central Andes, Humahuaca Basin",
           "Argentina"
          ],
          [
           "Southern Central Andes, Humahuaca Basin",
           "Argentina"
          ],
          [
           "Southern Central Andes, Humahuaca Basin",
           "Argentina"
          ],
          [
           "Southern Central Andes, Humahuaca Basin",
           "Argentina"
          ],
          [
           "Western French Alps",
           "France"
          ],
          [
           "Western French Alps",
           "France"
          ],
          [
           "Western French Alps",
           "France"
          ],
          [
           "Western French Alps",
           "France"
          ],
          [
           "Western French Alps",
           "France"
          ],
          [
           "Western French Alps",
           "France"
          ],
          [
           "Western French Alps",
           "France"
          ],
          [
           "Western French Alps",
           "France"
          ],
          [
           "Western French Alps",
           "France"
          ],
          [
           "Indian Himalaya",
           "India"
          ],
          [
           "Western French Alps",
           "France"
          ],
          [
           "Indian Himalaya",
           "India"
          ],
          [
           "Western French Alps",
           "France"
          ],
          [
           "Western French Alps",
           "France"
          ],
          [
           "Blue Ridge Escarpment (NC/VA)",
           "USA"
          ],
          [
           "Indian Himalaya",
           "India"
          ],
          [
           "Indian Himalaya",
           "India"
          ],
          [
           "Indian Himalaya",
           "India"
          ],
          [
           "Indian Himalaya",
           "India"
          ],
          [
           "Indian Himalaya",
           "India"
          ],
          [
           "Indian Himalaya",
           "India"
          ],
          [
           "Indian Himalaya",
           "India"
          ],
          [
           "Blue Ridge Escarpment (NC/VA)",
           "USA"
          ],
          [
           "Indian Himalaya",
           "India"
          ],
          [
           "Appalachians Mts.",
           "USA"
          ],
          [
           "Indian Himalaya",
           "India"
          ],
          [
           "Indian Himalaya",
           "India"
          ],
          [
           "Indian Himalaya",
           "India"
          ],
          [
           "Appalachians Mts.",
           "USA"
          ],
          [
           "Appalachians Mts.",
           "USA"
          ],
          [
           "Appalachians Mts.",
           "USA"
          ],
          [
           "Appalachians Mts.",
           "USA"
          ],
          [
           "Appalachians Mts.",
           "USA"
          ],
          [
           "Appalachians Mts.",
           "USA"
          ],
          [
           "Appalachians Mts.",
           "USA"
          ],
          [
           "Appalachians Mts.",
           "USA"
          ],
          [
           "Appalachians Mts.",
           "USA"
          ],
          [
           "Appalachians Mts.",
           "USA"
          ],
          [
           "Appalachians Mts.",
           "USA"
          ],
          [
           "Blue Ridge Escarpment (NC/VA)",
           "USA"
          ],
          [
           "Appalachians Mts.",
           "USA"
          ],
          [
           "Appalachians Mts.",
           "USA"
          ],
          [
           "Appalachians Mts.",
           "USA"
          ],
          [
           "Appalachians Mts.",
           "USA"
          ],
          [
           "Appalachians Mts.",
           "USA"
          ],
          [
           "Appalachians Mts.",
           "USA"
          ],
          [
           "Appalachians Mts.",
           "USA"
          ],
          [
           "Appalachians Mts.",
           "USA"
          ],
          [
           "Appalachians Mts.",
           "USA"
          ],
          [
           "Appalachians Mts.",
           "USA"
          ],
          [
           "Blue Ridge Escarpment (NC/VA)",
           "USA"
          ],
          [
           "Appalachians Mts.",
           "USA"
          ],
          [
           "Appalachians Mts.",
           "USA"
          ],
          [
           "Appalachians Mts.",
           "USA"
          ],
          [
           "Appalachians Mts.",
           "USA"
          ],
          [
           "Blue Ridge Escarpment (NC/VA)",
           "USA"
          ],
          [
           "Appalachians Mts.",
           "USA"
          ],
          [
           "Appalachians Mts.",
           "USA"
          ],
          [
           "Appalachians Mts.",
           "USA"
          ],
          [
           "Appalachians Mts.",
           "USA"
          ],
          [
           "Coast Ranges (CA)",
           "USA"
          ],
          [
           "Appalachians Mts.",
           "USA"
          ],
          [
           "Appalachians Mts.",
           "USA"
          ],
          [
           "Appalachians Mts.",
           "USA"
          ],
          [
           "Appalachians Mts.",
           "USA"
          ],
          [
           "Appalachians Mts.",
           "USA"
          ],
          [
           "Appalachians Mts.",
           "USA"
          ],
          [
           "Appalachians Mts.",
           "USA"
          ],
          [
           "Appalachians Mts.",
           "USA"
          ],
          [
           "Appalachians Mts.",
           "USA"
          ],
          [
           "Appalachians Mts.",
           "USA"
          ],
          [
           "Appalachians Mts.",
           "USA"
          ],
          [
           "Appalachians Mts.",
           "USA"
          ],
          [
           "Appalachians Mts.",
           "USA"
          ],
          [
           "Appalachians Mts.",
           "USA"
          ],
          [
           "Appalachians Mts.",
           "USA"
          ],
          [
           "Appalachians Mts.",
           "USA"
          ],
          [
           "Blue Ridge Escarpment (NC/VA)",
           "USA"
          ],
          [
           "Blue Ridge Escarpment (NC/VA)",
           "USA"
          ],
          [
           "Blue Ridge Escarpment (NC/VA)",
           "USA"
          ],
          [
           "Blue Ridge Escarpment (NC/VA)",
           "USA"
          ],
          [
           "Blue Ridge Escarpment (NC/VA)",
           "USA"
          ],
          [
           "Blue Ridge Escarpment (NC/VA)",
           "USA"
          ],
          [
           "Blue Ridge Escarpment (NC/VA)",
           "USA"
          ],
          [
           "Massif Central",
           "France"
          ],
          [
           "Blue Ridge Escarpment (NC/VA)",
           "USA"
          ],
          [
           "Kruger Nat. Park",
           "South Africa"
          ],
          [
           "Blue Ridge Escarpment (NC/VA)",
           "USA"
          ],
          [
           "Blue Ridge Escarpment (NC/VA)",
           "USA"
          ],
          [
           "Zoulang Nan Shan",
           "China"
          ],
          [
           "Blue Ridge Escarpment (NC/VA)",
           "USA"
          ],
          [
           "Blue Ridge Escarpment (NC/VA)",
           "USA"
          ],
          [
           "Blue Ridge Escarpment (NC/VA)",
           "USA"
          ],
          [
           "Kruger Nat. Park",
           "South Africa"
          ],
          [
           "Blue Ridge Escarpment (NC/VA)",
           "USA"
          ],
          [
           "Blue Ridge Escarpment (NC/VA)",
           "USA"
          ],
          [
           "Blue Ridge Escarpment (NC/VA)",
           "USA"
          ],
          [
           "Blue Ridge Escarpment (NC/VA)",
           "USA"
          ],
          [
           "Massif Central",
           "France"
          ],
          [
           "Blue Ridge Escarpment (NC/VA)",
           "USA"
          ],
          [
           "Blue Ridge Escarpment (NC/VA)",
           "USA"
          ],
          [
           "Blue Ridge Escarpment (NC/VA)",
           "USA"
          ],
          [
           "Blue Ridge Escarpment (NC/VA)",
           "USA"
          ],
          [
           "Central Eastern Italian Alps",
           "Italy"
          ],
          [
           "Blue Ridge Escarpment (NC/VA)",
           "USA"
          ],
          [
           "Blue Ridge Escarpment (NC/VA)",
           "USA"
          ],
          [
           "Great Smoky Mts. (NC/TN)",
           "USA"
          ],
          [
           "Blue Ridge Escarpment (NC/VA)",
           "USA"
          ],
          [
           "Blue Ridge Escarpment (NC/VA)",
           "USA"
          ],
          [
           "Black Forest (BW)",
           "Germany"
          ],
          [
           "Blue Ridge Escarpment (NC/VA)",
           "USA"
          ],
          [
           "Blue Ridge Escarpment (NC/VA)",
           "USA"
          ],
          [
           "Great Smoky Mts. (NC/TN)",
           "USA"
          ],
          [
           "Blue Ridge Escarpment (NC/VA)",
           "USA"
          ],
          [
           "Blue Ridge Escarpment (NC/VA)",
           "USA"
          ],
          [
           "Kruger Nat. Park",
           "South Africa"
          ],
          [
           "Blue Ridge Escarpment (NC/VA)",
           "USA"
          ],
          [
           "Blue Ridge Escarpment (NC/VA)",
           "USA"
          ],
          [
           "Blue Ridge Escarpment (NC/VA)",
           "USA"
          ],
          [
           "Blue Ridge Escarpment (NC/VA)",
           "USA"
          ],
          [
           "Blue Ridge Escarpment (NC/VA)",
           "USA"
          ],
          [
           "Blue Ridge Escarpment (NC/VA)",
           "USA"
          ],
          [
           "Blue Ridge Escarpment (NC/VA)",
           "USA"
          ],
          [
           "Blue Ridge Escarpment (NC/VA)",
           "USA"
          ],
          [
           "Blue Ridge Escarpment (NC/VA)",
           "USA"
          ],
          [
           "Blue Ridge Escarpment (NC/VA)",
           "USA"
          ],
          [
           "Kruger Nat. Park",
           "South Africa"
          ],
          [
           "Blue Ridge Escarpment (NC/VA)",
           "USA"
          ],
          [
           "Blue Ridge Escarpment (NC/VA)",
           "USA"
          ],
          [
           "Blue Ridge Escarpment (NC/VA)",
           "USA"
          ],
          [
           "Kruger Nat. Park",
           "South Africa"
          ],
          [
           "Central Eastern Italian Alps",
           "Italy"
          ],
          [
           "Kruger Nat. Park",
           "South Africa"
          ],
          [
           "Kruger Nat. Park",
           "South Africa"
          ],
          [
           "Kruger Nat. Park",
           "South Africa"
          ],
          [
           "Kruger Nat. Park",
           "South Africa"
          ],
          [
           "Great Smoky Mts. (NC/TN)",
           "USA"
          ],
          [
           "Kruger Nat. Park",
           "South Africa"
          ],
          [
           "Kruger Nat. Park",
           "South Africa"
          ],
          [
           "Kruger Nat. Park",
           "South Africa"
          ],
          [
           "Kruger Nat. Park",
           "South Africa"
          ],
          [
           "Kruger Nat. Park",
           "South Africa"
          ],
          [
           "Kruger Nat. Park",
           "South Africa"
          ],
          [
           "Kruger Nat. Park",
           "South Africa"
          ],
          [
           "Kruger Nat. Park",
           "South Africa"
          ],
          [
           "Zoulang Nan Shan",
           "China"
          ],
          [
           "Zoulang Nan Shan",
           "China"
          ],
          [
           "Zoulang Nan Shan",
           "China"
          ],
          [
           "Zoulang Nan Shan",
           "China"
          ],
          [
           "Great Smoky Mts. (NC/TN)",
           "USA"
          ],
          [
           "Zoulang Nan Shan",
           "China"
          ],
          [
           "Zoulang Nan Shan",
           "China"
          ],
          [
           "Zoulang Nan Shan",
           "China"
          ],
          [
           "Zoulang Nan Shan",
           "China"
          ],
          [
           "Zoulang Nan Shan",
           "China"
          ],
          [
           "Nelson/Tasman, South Island",
           "New Zealand"
          ],
          [
           "Great Smoky Mts. (NC/TN)",
           "USA"
          ],
          [
           "Suguta Valley, Kenya Rift",
           "Kenya"
          ],
          [
           "Nelson/Tasman, South Island",
           "New Zealand"
          ],
          [
           "Great Smoky Mts. (NC/TN)",
           "USA"
          ],
          [
           "Nelson/Tasman, South Island",
           "New Zealand"
          ],
          [
           "Nelson/Tasman, South Island",
           "New Zealand"
          ],
          [
           "Nelson/Tasman, South Island",
           "New Zealand"
          ],
          [
           "Nelson/Tasman, South Island",
           "New Zealand"
          ],
          [
           "Great Smoky Mts. (NC/TN)",
           "USA"
          ],
          [
           "Nelson/Tasman, South Island",
           "New Zealand"
          ],
          [
           "Great Smoky Mts. (NC/TN)",
           "USA"
          ],
          [
           "Nelson/Tasman, South Island",
           "New Zealand"
          ],
          [
           "Romagna Apennines",
           "Italy"
          ],
          [
           "Romagna Apennines",
           "Italy"
          ],
          [
           "Romagna Apennines",
           "Italy"
          ],
          [
           "Romagna Apennines",
           "Italy"
          ],
          [
           "Great Smoky Mts. (NC/TN)",
           "USA"
          ],
          [
           "Peloritani Mts.",
           "Italy"
          ],
          [
           "Great Smoky Mts. (NC/TN)",
           "USA"
          ],
          [
           "Black Forest (BW)",
           "Germany"
          ],
          [
           "Romagna Apennines",
           "Italy"
          ],
          [
           "Great Smoky Mts. (NC/TN)",
           "USA"
          ],
          [
           "Aspromonte Massif",
           "Italy"
          ],
          [
           "Great Smoky Mts. (NC/TN)",
           "USA"
          ],
          [
           "Kruger Nat. Park",
           "South Africa"
          ],
          [
           "Romagna Apennines",
           "Italy"
          ],
          [
           "Romagna Apennines",
           "Italy"
          ],
          [
           "Aspromonte Massif",
           "Italy"
          ],
          [
           "Aspromonte Massif",
           "Italy"
          ],
          [
           "Peloritani Mts.",
           "Italy"
          ],
          [
           "Great Smoky Mts. (NC/TN)",
           "USA"
          ],
          [
           "Great Smoky Mts. (NC/TN)",
           "USA"
          ],
          [
           "Great Smoky Mts. (NC/TN)",
           "USA"
          ],
          [
           "Great Smoky Mts. (NC/TN)",
           "USA"
          ],
          [
           "Great Smoky Mts. (NC/TN)",
           "USA"
          ],
          [
           "Aspromonte Massif",
           "Italy"
          ],
          [
           "Romagna Apennines",
           "Italy"
          ],
          [
           "Great Smoky Mts. (NC/TN)",
           "USA"
          ],
          [
           "Great Smoky Mts. (NC/TN)",
           "USA"
          ],
          [
           "Great Smoky Mts. (NC/TN)",
           "USA"
          ],
          [
           "Great Smoky Mts. (NC/TN)",
           "USA"
          ],
          [
           "Great Smoky Mts. (NC/TN)",
           "USA"
          ],
          [
           "Kruger Nat. Park",
           "South Africa"
          ],
          [
           "Great Smoky Mts. (NC/TN)",
           "USA"
          ],
          [
           "Great Smoky Mts. (NC/TN)",
           "USA"
          ],
          [
           "Great Smoky Mts. (NC/TN)",
           "USA"
          ],
          [
           "Great Smoky Mts. (NC/TN)",
           "USA"
          ],
          [
           "Black Forest (BW)",
           "Germany"
          ],
          [
           "Great Smoky Mts. (NC/TN)",
           "USA"
          ],
          [
           "Great Smoky Mts. (NC/TN)",
           "USA"
          ],
          [
           "Great Smoky Mts. (NC/TN)",
           "USA"
          ],
          [
           "Great Smoky Mts. (NC/TN)",
           "USA"
          ],
          [
           "Kruger Nat. Park",
           "South Africa"
          ],
          [
           "Great Smoky Mts. (NC/TN)",
           "USA"
          ],
          [
           "Great Smoky Mts. (NC/TN)",
           "USA"
          ],
          [
           "Gauteng",
           "South Africa"
          ],
          [
           "Great Smoky Mts. (NC/TN)",
           "USA"
          ],
          [
           "Great Smoky Mts. (NC/TN)",
           "USA"
          ],
          [
           "Great Smoky Mts. (NC/TN)",
           "USA"
          ],
          [
           "Great Smoky Mts. (NC/TN)",
           "USA"
          ],
          [
           "Great Smoky Mts. (NC/TN)",
           "USA"
          ],
          [
           "Great Smoky Mts. (NC/TN)",
           "USA"
          ],
          [
           "Great Smoky Mts. (NC/TN)",
           "USA"
          ],
          [
           "Great Smoky Mts. (NC/TN)",
           "USA"
          ],
          [
           "Great Smoky Mts. (NC/TN)",
           "USA"
          ],
          [
           "Great Smoky Mts. (NC/TN)",
           "USA"
          ],
          [
           "Great Smoky Mts. (NC/TN)",
           "USA"
          ],
          [
           "Great Smoky Mts. (NC/TN)",
           "USA"
          ],
          [
           "Great Smoky Mts. (NC/TN)",
           "USA"
          ],
          [
           "Gauteng",
           "South Africa"
          ],
          [
           "Great Smoky Mts. (NC/TN)",
           "USA"
          ],
          [
           "Great Smoky Mts. (NC/TN)",
           "USA"
          ],
          [
           "Great Smoky Mts. (NC/TN)",
           "USA"
          ],
          [
           "Great Smoky Mts. (NC/TN)",
           "USA"
          ],
          [
           "Great Smoky Mts. (NC/TN)",
           "USA"
          ],
          [
           "Great Smoky Mts. (NC/TN)",
           "USA"
          ],
          [
           "Great Smoky Mts. (NC/TN)",
           "USA"
          ],
          [
           "Great Smoky Mts. (NC/TN)",
           "USA"
          ],
          [
           "Central Eastern Italian Alps",
           "Italy"
          ],
          [
           "Great Smoky Mts. (NC/TN)",
           "USA"
          ],
          [
           "Great Smoky Mts. (NC/TN)",
           "USA"
          ],
          [
           "Great Smoky Mts. (NC/TN)",
           "USA"
          ],
          [
           "Great Smoky Mts. (NC/TN)",
           "USA"
          ],
          [
           "Great Smoky Mts. (NC/TN)",
           "USA"
          ],
          [
           "Serra do Mar",
           "Brazil"
          ],
          [
           "Serra do Mar",
           "Brazil"
          ],
          [
           "Serra do Mar",
           "Brazil"
          ],
          [
           "Serra do Mar",
           "Brazil"
          ],
          [
           "Serra do Mar",
           "Brazil"
          ],
          [
           "Serra do Mar",
           "Brazil"
          ],
          [
           "Serra do Mar",
           "Brazil"
          ],
          [
           "Serra do Mar",
           "Brazil"
          ],
          [
           "Serra do Mar",
           "Brazil"
          ],
          [
           "Serra do Mar",
           "Brazil"
          ],
          [
           "Serra do Mar",
           "Brazil"
          ],
          [
           "Serra do Mar",
           "Brazil"
          ],
          [
           "Serra do Mar",
           "Brazil"
          ],
          [
           "Serra do Mar",
           "Brazil"
          ],
          [
           "Central Eastern Italian Alps",
           "Italy"
          ],
          [
           "Serra do Mar",
           "Brazil"
          ],
          [
           "Serra do Mar",
           "Brazil"
          ],
          [
           "Serra do Mar",
           "Brazil"
          ],
          [
           "Serra do Mar",
           "Brazil"
          ],
          [
           "Kruger Nat. Park",
           "South Africa"
          ],
          [
           "Serra do Mar",
           "Brazil"
          ],
          [
           "Serra do Mar",
           "Brazil"
          ],
          [
           "Serra do Mar",
           "Brazil"
          ],
          [
           "Serra do Mar",
           "Brazil"
          ],
          [
           "Serra do Mar",
           "Brazil"
          ],
          [
           "Serra do Mar",
           "Brazil"
          ],
          [
           "Serra do Mar",
           "Brazil"
          ],
          [
           "Serra do Mar",
           "Brazil"
          ],
          [
           "Serra do Mar",
           "Brazil"
          ],
          [
           "Serra do Mar",
           "Brazil"
          ],
          [
           "Serra do Mar",
           "Brazil"
          ],
          [
           "Serra do Mar",
           "Brazil"
          ],
          [
           "Central Ladakh Range (JK)",
           "India"
          ],
          [
           "Central Ladakh Range (JK)",
           "India"
          ],
          [
           "Central Ladakh Range (JK)",
           "India"
          ],
          [
           "Central Ladakh Range (JK)",
           "India"
          ],
          [
           "Central Ladakh Range (JK)",
           "India"
          ],
          [
           "Central Ladakh Range (JK)",
           "India"
          ],
          [
           "Massif Central",
           "France"
          ],
          [
           "Central Ladakh Range (JK)",
           "India"
          ],
          [
           "Central Ladakh Range (JK)",
           "India"
          ],
          [
           "Kruger Nat. Park",
           "South Africa"
          ],
          [
           "Central Ladakh Range (JK)",
           "India"
          ],
          [
           "Massif Central",
           "France"
          ],
          [
           "Central Ladakh Range (JK)",
           "India"
          ],
          [
           "Coast Ranges (CA)",
           "USA"
          ],
          [
           "Central Ladakh Range (JK)",
           "India"
          ],
          [
           "Coast Ranges (CA)",
           "USA"
          ],
          [
           "Central Ladakh Range (JK)",
           "India"
          ],
          [
           "Coast Ranges (CA)",
           "USA"
          ],
          [
           "Betic Cordillera",
           "Spain"
          ],
          [
           "Central Ladakh Range (JK)",
           "India"
          ],
          [
           "Central Ladakh Range (JK)",
           "India"
          ],
          [
           "Coast Ranges (CA)",
           "USA"
          ],
          [
           "Coast Ranges (CA)",
           "USA"
          ],
          [
           "Coast Ranges (CA)",
           "USA"
          ],
          [
           "Coast Ranges (CA)",
           "USA"
          ],
          [
           "Coast Ranges (CA)",
           "USA"
          ],
          [
           "Coast Ranges (CA)",
           "USA"
          ],
          [
           "Massif Central",
           "France"
          ],
          [
           "Massif Central",
           "France"
          ],
          [
           "Massif Central",
           "France"
          ],
          [
           "Massif Central",
           "France"
          ],
          [
           "Massif Central",
           "France"
          ],
          [
           "Massif Central",
           "France"
          ],
          [
           "Sweetwater Range (MT)",
           "USA"
          ],
          [
           "Massif Central",
           "France"
          ],
          [
           "Massif Central",
           "France"
          ],
          [
           "Massif Central",
           "France"
          ],
          [
           "Massif Central",
           "France"
          ],
          [
           "Massif Central",
           "France"
          ],
          [
           "Massif Central",
           "France"
          ],
          [
           "Massif Central",
           "France"
          ],
          [
           "Massif Central",
           "France"
          ],
          [
           "Sweetwater Range (MT)",
           "USA"
          ],
          [
           "Massif Central",
           "France"
          ],
          [
           "Massif Central",
           "France"
          ],
          [
           "Massif Central",
           "France"
          ],
          [
           "Massif Central",
           "France"
          ],
          [
           "Massif Central",
           "France"
          ],
          [
           "Massif Central",
           "France"
          ],
          [
           "Massif Central",
           "France"
          ],
          [
           "Massif Central",
           "France"
          ],
          [
           "Massif Central",
           "France"
          ],
          [
           "Ambato Range, Sierras Pampeanas",
           "Argentina"
          ],
          [
           "Ambato Range, Sierras Pampeanas",
           "Argentina"
          ],
          [
           "Ambato Range, Sierras Pampeanas",
           "Argentina"
          ],
          [
           "Kruger Nat. Park",
           "South Africa"
          ],
          [
           "Ambato Range, Sierras Pampeanas",
           "Argentina"
          ],
          [
           "Corsica",
           "France"
          ],
          [
           "Corsica",
           "France"
          ],
          [
           "Ambato Range, Sierras Pampeanas",
           "Argentina"
          ],
          [
           "Ambato Range, Sierras Pampeanas",
           "Argentina"
          ],
          [
           "Corsica",
           "France"
          ],
          [
           "Corsica",
           "France"
          ],
          [
           "Wassuk Range (NV)",
           "USA"
          ],
          [
           "Corsica",
           "France"
          ],
          [
           "Corsica",
           "France"
          ],
          [
           "Corsica",
           "France"
          ],
          [
           "Corsica",
           "France"
          ],
          [
           "Corsica",
           "France"
          ],
          [
           "Corsica",
           "France"
          ],
          [
           "Corsica",
           "France"
          ],
          [
           "Corsica",
           "France"
          ],
          [
           "Corsica",
           "France"
          ],
          [
           "Corsica",
           "France"
          ],
          [
           "Kruger Nat. Park",
           "South Africa"
          ],
          [
           "Kruger Nat. Park",
           "South Africa"
          ],
          [
           "Corsica",
           "France"
          ],
          [
           "Corsica",
           "France"
          ],
          [
           "Kruger Nat. Park",
           "South Africa"
          ],
          [
           "Kruger Nat. Park",
           "South Africa"
          ],
          [
           "Kruger Nat. Park",
           "South Africa"
          ],
          [
           "Kruger Nat. Park",
           "South Africa"
          ],
          [
           "Kruger Nat. Park",
           "South Africa"
          ],
          [
           "Baja California",
           "Mexico"
          ],
          [
           "Baja California",
           "Mexico"
          ],
          [
           "Baja California",
           "Mexico"
          ],
          [
           "Baja California",
           "Mexico"
          ],
          [
           "Baja California",
           "Mexico"
          ],
          [
           "Baja California",
           "Mexico"
          ],
          [
           "Baja California",
           "Mexico"
          ],
          [
           "Baja California",
           "Mexico"
          ],
          [
           "Baja California",
           "Mexico"
          ],
          [
           "Baja California",
           "Mexico"
          ],
          [
           "Baja California",
           "Mexico"
          ],
          [
           "Baja California",
           "Mexico"
          ],
          [
           "Baja California",
           "Mexico"
          ],
          [
           "Baja California",
           "Mexico"
          ],
          [
           "Baja California",
           "Mexico"
          ],
          [
           "Wassuk Range (NV)",
           "USA"
          ],
          [
           "Baja California",
           "Mexico"
          ],
          [
           "Baja California",
           "Mexico"
          ],
          [
           "Baja California",
           "Mexico"
          ],
          [
           "Baja California",
           "Mexico"
          ],
          [
           "Baja California",
           "Mexico"
          ],
          [
           "Baja California",
           "Mexico"
          ],
          [
           "Baja California",
           "Mexico"
          ],
          [
           "Baja California",
           "Mexico"
          ],
          [
           "Baja California",
           "Mexico"
          ],
          [
           "Baja California",
           "Mexico"
          ],
          [
           "Baja California",
           "Mexico"
          ],
          [
           "Central Vietnam",
           "Vietnam"
          ],
          [
           "Longshou Shan",
           "China"
          ],
          [
           "Yumu Shan",
           "China"
          ],
          [
           "Yumu Shan",
           "China"
          ],
          [
           "Longshou Shan",
           "China"
          ],
          [
           "Yumu Shan",
           "China"
          ],
          [
           "Longshou Shan",
           "China"
          ],
          [
           "Yumu Shan",
           "China"
          ],
          [
           "Yumu Shan",
           "China"
          ],
          [
           "Longshou Shan",
           "China"
          ],
          [
           "Longshou Shan",
           "China"
          ],
          [
           "Longshou Shan",
           "China"
          ],
          [
           "Longshou Shan",
           "China"
          ],
          [
           "Longshou Shan",
           "China"
          ],
          [
           "Yumu Shan",
           "China"
          ],
          [
           "Yumu Shan",
           "China"
          ],
          [
           "Yumu Shan",
           "China"
          ],
          [
           "Yumu Shan",
           "China"
          ],
          [
           "Yumu Shan",
           "China"
          ],
          [
           "Yumu Shan",
           "China"
          ],
          [
           "Longshou Shan",
           "China"
          ],
          [
           "Longshou Shan",
           "China"
          ],
          [
           "Yumu Shan",
           "China"
          ],
          [
           "Yumu Shan",
           "China"
          ],
          [
           "Yumu Shan",
           "China"
          ],
          [
           "Longshou Shan",
           "China"
          ],
          [
           "Longshou Shan",
           "China"
          ],
          [
           "Yumu Shan",
           "China"
          ],
          [
           "Sri Lankan Highlands",
           "Sri Lanka"
          ],
          [
           "Sri Lankan Highlands",
           "Sri Lanka"
          ],
          [
           "Sri Lankan Highlands",
           "Sri Lanka"
          ],
          [
           "Sri Lankan Highlands",
           "Sri Lanka"
          ],
          [
           "Sri Lankan Highlands",
           "Sri Lanka"
          ],
          [
           "Sweetwater Range (MT)",
           "USA"
          ],
          [
           "Sri Lankan Highlands",
           "Sri Lanka"
          ],
          [
           "Sri Lankan Highlands",
           "Sri Lanka"
          ],
          [
           "Sri Lankan Highlands",
           "Sri Lanka"
          ],
          [
           "Sri Lankan Highlands",
           "Sri Lanka"
          ],
          [
           "Wassuk Range (NV)",
           "USA"
          ],
          [
           "Sweetwater Range (MT)",
           "USA"
          ],
          [
           "Wassuk Range (NV)",
           "USA"
          ],
          [
           "Wassuk Range (NV)",
           "USA"
          ],
          [
           "Sweetwater Range (MT)",
           "USA"
          ],
          [
           "Wassuk Range (NV)",
           "USA"
          ],
          [
           "Wassuk Range (NV)",
           "USA"
          ],
          [
           "Wassuk Range (NV)",
           "USA"
          ],
          [
           "Wassuk Range (NV)",
           "USA"
          ],
          [
           "Wassuk Range (NV)",
           "USA"
          ],
          [
           "Sweetwater Range (MT)",
           "USA"
          ],
          [
           "Sweetwater Range (MT)",
           "USA"
          ],
          [
           "Wassuk Range (NV)",
           "USA"
          ],
          [
           "Wassuk Range (NV)",
           "USA"
          ],
          [
           "Sweetwater Range (MT)",
           "USA"
          ],
          [
           "Wassuk Range (NV)",
           "USA"
          ],
          [
           "Wassuk Range (NV)",
           "USA"
          ],
          [
           "Sweetwater Range (MT)",
           "USA"
          ],
          [
           "Uttarakhand, Himalaya",
           "India"
          ],
          [
           "Uttarakhand, Himalaya",
           "India"
          ],
          [
           "Uttarakhand, Himalaya",
           "India"
          ],
          [
           "Uttarakhand, Himalaya",
           "India"
          ],
          [
           "Uttarakhand, Himalaya",
           "India"
          ],
          [
           "Uttarakhand, Himalaya",
           "India"
          ],
          [
           "Uttarakhand, Himalaya",
           "India"
          ],
          [
           "Uttarakhand, Himalaya",
           "India"
          ],
          [
           "Cristiano Otoni Step",
           "Brazil"
          ],
          [
           "Cristiano Otoni Step",
           "Brazil"
          ],
          [
           "Tibetan Plateau",
           "China"
          ],
          [
           "Cristiano Otoni Step",
           "Brazil"
          ],
          [
           "Cristiano Otoni Step",
           "Brazil"
          ],
          [
           "Cristiano Otoni Step",
           "Brazil"
          ],
          [
           "Cristiano Otoni Step",
           "Brazil"
          ],
          [
           "Transhimalaya",
           "India"
          ],
          [
           "Cristiano Otoni Step",
           "Brazil"
          ],
          [
           "Cristiano Otoni Step",
           "Brazil"
          ],
          [
           "Sao Geraldo Step",
           "Brazil"
          ],
          [
           "Transhimalaya",
           "India"
          ],
          [
           "Sao Geraldo Step",
           "Brazil"
          ],
          [
           "Sao Geraldo Step",
           "Brazil"
          ],
          [
           "Sao Geraldo Step",
           "Brazil"
          ],
          [
           "Sao Geraldo Step",
           "Brazil"
          ],
          [
           "Sao Geraldo Step",
           "Brazil"
          ],
          [
           "Sao Geraldo Step",
           "Brazil"
          ],
          [
           "Sao Geraldo Step",
           "Brazil"
          ],
          [
           "Transhimalaya",
           "India"
          ],
          [
           "Sao Geraldo Step",
           "Brazil"
          ],
          [
           "Sao Geraldo Step",
           "Brazil"
          ],
          [
           "Sao Geraldo Step",
           "Brazil"
          ],
          [
           "Tibetan Plateau",
           "China"
          ],
          [
           "Tibetan Plateau",
           "China"
          ],
          [
           "Tibetan Plateau",
           "China"
          ],
          [
           "Tibetan Plateau",
           "China"
          ],
          [
           "Tibetan Plateau",
           "China"
          ],
          [
           "Tibetan Plateau",
           "China"
          ],
          [
           "Tibetan Plateau",
           "China"
          ],
          [
           "Transhimalaya",
           "India"
          ],
          [
           "Tibetan Plateau",
           "China"
          ],
          [
           "Tibetan Plateau",
           "China"
          ],
          [
           "Tibetan Plateau",
           "China"
          ],
          [
           "Tibetan Plateau",
           "China"
          ],
          [
           "San Gabriel (CA)",
           "USA"
          ],
          [
           "Tibetan Plateau",
           "China"
          ],
          [
           "Tibetan Plateau",
           "China"
          ],
          [
           "Transhimalaya",
           "India"
          ],
          [
           "San Gabriel (CA)",
           "USA"
          ],
          [
           "San Gabriel (CA)",
           "USA"
          ],
          [
           "Great Escarpment",
           "NAM"
          ],
          [
           "Great Escarpment",
           "NAM"
          ],
          [
           "Great Escarpment",
           "NAM"
          ],
          [
           "Great Escarpment",
           "NAM"
          ],
          [
           "San Gabriel (CA)",
           "USA"
          ],
          [
           "Great Escarpment",
           "NAM"
          ],
          [
           "San Gabriel (CA)",
           "USA"
          ],
          [
           "Great Escarpment",
           "NAM"
          ],
          [
           "San Gabriel (CA)",
           "USA"
          ],
          [
           "Great Escarpment",
           "NAM"
          ],
          [
           "San Gabriel (CA)",
           "USA"
          ],
          [
           "San Gabriel (CA)",
           "USA"
          ],
          [
           "San Gabriel (CA)",
           "USA"
          ],
          [
           "San Gabriel (CA)",
           "USA"
          ],
          [
           "San Gabriel (CA)",
           "USA"
          ],
          [
           "San Gabriel (CA)",
           "USA"
          ],
          [
           "San Gabriel (CA)",
           "USA"
          ],
          [
           "San Gabriel (CA)",
           "USA"
          ],
          [
           "Betic Cordillera",
           "Spain"
          ],
          [
           "San Gabriel (CA)",
           "USA"
          ],
          [
           "San Gabriel (CA)",
           "USA"
          ],
          [
           "San Gabriel (CA)",
           "USA"
          ],
          [
           "San Gabriel (CA)",
           "USA"
          ],
          [
           "San Gabriel (CA)",
           "USA"
          ],
          [
           "San Gabriel (CA)",
           "USA"
          ],
          [
           "San Gabriel (CA)",
           "USA"
          ],
          [
           "San Gabriel (CA)",
           "USA"
          ],
          [
           "San Gabriel (CA)",
           "USA"
          ],
          [
           "San Gabriel (CA)",
           "USA"
          ],
          [
           "San Gabriel (CA)",
           "USA"
          ],
          [
           "San Gabriel (CA)",
           "USA"
          ],
          [
           "San Gabriel (CA)",
           "USA"
          ],
          [
           "San Gabriel (CA)",
           "USA"
          ],
          [
           "San Gabriel (CA)",
           "USA"
          ],
          [
           "San Gabriel (CA)",
           "USA"
          ],
          [
           "San Gabriel (CA)",
           "USA"
          ],
          [
           "San Gabriel (CA)",
           "USA"
          ],
          [
           "San Gabriel (CA)",
           "USA"
          ],
          [
           "San Gabriel (CA)",
           "USA"
          ],
          [
           "San Gabriel (CA)",
           "USA"
          ],
          [
           "San Gabriel (CA)",
           "USA"
          ],
          [
           "San Gabriel (CA)",
           "USA"
          ],
          [
           "San Gabriel (CA)",
           "USA"
          ],
          [
           "San Gabriel (CA)",
           "USA"
          ],
          [
           "Betic Cordillera",
           "Spain"
          ],
          [
           "San Gabriel (CA)",
           "USA"
          ],
          [
           "San Gabriel (CA)",
           "USA"
          ],
          [
           "San Gabriel (CA)",
           "USA"
          ],
          [
           "San Gabriel (CA)",
           "USA"
          ],
          [
           "San Gabriel (CA)",
           "USA"
          ],
          [
           "San Gabriel (CA)",
           "USA"
          ],
          [
           "San Gabriel (CA)",
           "USA"
          ],
          [
           "San Gabriel (CA)",
           "USA"
          ],
          [
           "San Gabriel (CA)",
           "USA"
          ],
          [
           "San Gabriel (CA)",
           "USA"
          ],
          [
           "San Gabriel (CA)",
           "USA"
          ],
          [
           "Ecuadorian Andes",
           "Ecuador"
          ],
          [
           "Ecuadorian Andes",
           "Ecuador"
          ],
          [
           "Ecuadorian Andes",
           "Ecuador"
          ],
          [
           "Ecuadorian Andes",
           "Ecuador"
          ],
          [
           "Ecuadorian Andes",
           "Ecuador"
          ],
          [
           "Sonoran Desert (AZ)",
           "USA"
          ],
          [
           "Ecuadorian Andes",
           "Ecuador"
          ],
          [
           "Ecuadorian Andes",
           "Ecuador"
          ],
          [
           "Coast Range (OR)",
           "USA"
          ],
          [
           "Ecuadorian Andes",
           "Ecuador"
          ],
          [
           "Ecuadorian Andes",
           "Ecuador"
          ],
          [
           "Ecuadorian Andes",
           "Ecuador"
          ],
          [
           "Ecuadorian Andes",
           "Ecuador"
          ],
          [
           "Ecuadorian Andes",
           "Ecuador"
          ],
          [
           "Ecuadorian Andes",
           "Ecuador"
          ],
          [
           "Ecuadorian Andes",
           "Ecuador"
          ],
          [
           "Ecuadorian Andes",
           "Ecuador"
          ],
          [
           "Ecuadorian Andes",
           "Ecuador"
          ],
          [
           "Ecuadorian Andes",
           "Ecuador"
          ],
          [
           "Nepalese Himalaya",
           "Nepal"
          ],
          [
           "Wasatch Mts. (UT)",
           "USA"
          ],
          [
           "Nepalese Himalaya",
           "Nepal"
          ],
          [
           "Nepalese Himalaya",
           "Nepal"
          ],
          [
           "Nepalese Himalaya",
           "Nepal"
          ],
          [
           "Nepalese Himalaya",
           "Nepal"
          ],
          [
           "Nepalese Himalaya",
           "Nepal"
          ],
          [
           "Wasatch Mts. (UT)",
           "USA"
          ],
          [
           "Nepalese Himalaya",
           "Nepal"
          ],
          [
           "Wasatch Mts. (UT)",
           "USA"
          ],
          [
           "Nepalese Himalaya",
           "Nepal"
          ],
          [
           "Wasatch Mts. (UT)",
           "USA"
          ],
          [
           "Nepalese Himalaya",
           "Nepal"
          ],
          [
           "Nepalese Himalaya",
           "Nepal"
          ],
          [
           "Sri Lankan Escarpment",
           "Sri Lanka"
          ],
          [
           "Nepalese Himalaya",
           "Nepal"
          ],
          [
           "Wasatch Mts. (UT)",
           "USA"
          ],
          [
           "Nepalese Himalaya",
           "Nepal"
          ],
          [
           "California",
           "USA"
          ],
          [
           "Nepalese Himalaya",
           "Nepal"
          ],
          [
           "Sierra Pie de Palo",
           "Argentina"
          ],
          [
           "Nahal Yael",
           "Israel"
          ],
          [
           "Nepalese Himalaya",
           "Nepal"
          ],
          [
           "Nepalese Himalaya",
           "Nepal"
          ],
          [
           "Sierra Pie de Palo",
           "Argentina"
          ],
          [
           "Nepalese Himalaya",
           "Nepal"
          ],
          [
           "Nepalese Himalaya",
           "Nepal"
          ],
          [
           "Nepalese Himalaya",
           "Nepal"
          ],
          [
           "Wasatch Mts. (UT)",
           "USA"
          ],
          [
           "Nepalese Himalaya",
           "Nepal"
          ],
          [
           "Nepalese Himalaya",
           "Nepal"
          ],
          [
           "Nepalese Himalaya",
           "Nepal"
          ],
          [
           "Nepalese Himalaya",
           "Nepal"
          ],
          [
           "Nepalese Himalaya",
           "Nepal"
          ],
          [
           "Nepalese Himalaya",
           "Nepal"
          ],
          [
           "Nepalese Himalaya",
           "Nepal"
          ],
          [
           "Nepalese Himalaya",
           "Nepal"
          ],
          [
           "Wasatch Mts. (UT)",
           "USA"
          ],
          [
           "Nepalese Himalaya",
           "Nepal"
          ],
          [
           "Nepalese Himalaya",
           "Nepal"
          ],
          [
           "Black Forest (BW)",
           "Germany"
          ],
          [
           "Nepalese Himalaya",
           "Nepal"
          ],
          [
           "California",
           "USA"
          ],
          [
           "California",
           "USA"
          ],
          [
           "California",
           "USA"
          ],
          [
           "California",
           "USA"
          ],
          [
           "California",
           "USA"
          ],
          [
           "California",
           "USA"
          ],
          [
           "California",
           "USA"
          ],
          [
           "California",
           "USA"
          ],
          [
           "California",
           "USA"
          ],
          [
           "California",
           "USA"
          ],
          [
           "Nahal Yael",
           "Israel"
          ],
          [
           "California",
           "USA"
          ],
          [
           "Central Ladakh Range (JK)",
           "India"
          ],
          [
           "Sierra Pie de Palo",
           "Argentina"
          ],
          [
           "Sierra Pie de Palo",
           "Argentina"
          ],
          [
           "Lanyang Riv.",
           "Taiwan"
          ],
          [
           "Lanyang Riv.",
           "Taiwan"
          ],
          [
           "Lanyang Riv.",
           "Taiwan"
          ],
          [
           "Lanyang Riv.",
           "Taiwan"
          ],
          [
           "Lanyang Riv.",
           "Taiwan"
          ],
          [
           "Nahal Yael",
           "Israel"
          ],
          [
           "Lanyang Riv.",
           "Taiwan"
          ],
          [
           "Nepalese Himalaya",
           "Nepal"
          ],
          [
           "Nahal Yael",
           "Israel"
          ],
          [
           "Lanyang Riv.",
           "Taiwan"
          ],
          [
           "Lanyang Riv.",
           "Taiwan"
          ],
          [
           "Nahal Yael",
           "Israel"
          ],
          [
           "Nepalese Himalaya",
           "Nepal"
          ],
          [
           "Nepalese Himalaya",
           "Nepal"
          ],
          [
           "Wasatch Mts. (UT)",
           "USA"
          ],
          [
           "Wasatch Mts. (UT)",
           "USA"
          ],
          [
           "Wasatch Mts. (UT)",
           "USA"
          ],
          [
           "Wasatch Mts. (UT)",
           "USA"
          ],
          [
           "Wasatch Mts. (UT)",
           "USA"
          ],
          [
           "Wasatch Mts. (UT)",
           "USA"
          ],
          [
           "Wasatch Mts. (UT)",
           "USA"
          ],
          [
           "Wasatch Mts. (UT)",
           "USA"
          ],
          [
           "Black Forest (BW)",
           "Germany"
          ],
          [
           "Central Ladakh Range (JK)",
           "India"
          ],
          [
           "Black Forest (BW)",
           "Germany"
          ],
          [
           "Black Forest (BW)",
           "Germany"
          ],
          [
           "Black Forest (BW)",
           "Germany"
          ],
          [
           "Black Forest (BW)",
           "Germany"
          ],
          [
           "Black Forest (BW)",
           "Germany"
          ],
          [
           "Black Forest (BW)",
           "Germany"
          ],
          [
           "Black Forest (BW)",
           "Germany"
          ],
          [
           "Black Forest (BW)",
           "Germany"
          ],
          [
           "Nahal Yael",
           "Israel"
          ],
          [
           "Black Forest (BW)",
           "Germany"
          ],
          [
           "Black Forest (BW)",
           "Germany"
          ],
          [
           "Black Forest (BW)",
           "Germany"
          ],
          [
           "Black Forest (BW)",
           "Germany"
          ],
          [
           "Black Forest (BW)",
           "Germany"
          ],
          [
           "Black Forest (BW)",
           "Germany"
          ],
          [
           "Central Ladakh Range (JK)",
           "India"
          ],
          [
           "Black Forest (BW)",
           "Germany"
          ],
          [
           "Black Forest (BW)",
           "Germany"
          ],
          [
           "Black Forest (BW)",
           "Germany"
          ],
          [
           "Black Forest (BW)",
           "Germany"
          ],
          [
           "Central Ladakh Range (JK)",
           "India"
          ],
          [
           "Central Ladakh Range (JK)",
           "India"
          ],
          [
           "Central Ladakh Range (JK)",
           "India"
          ],
          [
           "Central Ladakh Range (JK)",
           "India"
          ],
          [
           "Central Ladakh Range (JK)",
           "India"
          ],
          [
           "Sri Lankan Escarpment",
           "Sri Lanka"
          ],
          [
           "Central Ladakh Range (JK)",
           "India"
          ],
          [
           "Central Ladakh Range (JK)",
           "India"
          ],
          [
           "Central Ladakh Range (JK)",
           "India"
          ],
          [
           "Central Ladakh Range (JK)",
           "India"
          ],
          [
           "Swiss Alpine Foreland",
           "Switzerland"
          ],
          [
           "Swiss Alpine Foreland",
           "Switzerland"
          ],
          [
           "Swiss Alpine Foreland",
           "Switzerland"
          ],
          [
           "Swiss Alpine Foreland",
           "Switzerland"
          ],
          [
           "Swiss Alpine Foreland",
           "Switzerland"
          ],
          [
           "Santa Cruz Mts. (CA)",
           "USA"
          ],
          [
           "Swiss Alpine Foreland",
           "Switzerland"
          ],
          [
           "Swiss Alpine Foreland",
           "Switzerland"
          ],
          [
           "Swiss Alpine Foreland",
           "Switzerland"
          ],
          [
           "Swiss Alpine Foreland",
           "Switzerland"
          ],
          [
           "Swiss Alpine Foreland",
           "Switzerland"
          ],
          [
           "Swiss Alpine Foreland",
           "Switzerland"
          ],
          [
           "Swiss Alpine Foreland",
           "Switzerland"
          ],
          [
           "Swiss Alpine Foreland",
           "Switzerland"
          ],
          [
           "Swiss Alpine Foreland",
           "Switzerland"
          ],
          [
           "Swiss Alpine Foreland",
           "Switzerland"
          ],
          [
           "Swiss Alpine Foreland",
           "Switzerland"
          ],
          [
           "Swiss Alpine Foreland",
           "Switzerland"
          ],
          [
           "Negev Desert",
           "Israel"
          ],
          [
           "Negev Desert",
           "Israel"
          ],
          [
           "Sri Lankan Escarpment",
           "Sri Lanka"
          ],
          [
           "Negev Desert",
           "Israel"
          ],
          [
           "Santa Cruz Mts. (CA)",
           "USA"
          ],
          [
           "Negev Desert",
           "Israel"
          ],
          [
           "Middle Fork, Sierra Nevada",
           "USA"
          ],
          [
           "Oregon Coast Range",
           "USA"
          ],
          [
           "Oregon Coast Range",
           "USA"
          ],
          [
           "Oregon Coast Range",
           "USA"
          ],
          [
           "Oregon Coast Range",
           "USA"
          ],
          [
           "Oregon Coast Range",
           "USA"
          ],
          [
           "Santa Cruz Mts. (CA)",
           "USA"
          ],
          [
           "Rocky Mts.",
           "USA"
          ],
          [
           "Santa Cruz Mts. (CA)",
           "USA"
          ],
          [
           "Santa Cruz Mts. (CA)",
           "USA"
          ],
          [
           "Great Escarpment",
           "NAM"
          ],
          [
           "Santa Cruz Mts. (CA)",
           "USA"
          ],
          [
           "Santa Cruz Mts. (CA)",
           "USA"
          ],
          [
           "Santa Cruz Mts. (CA)",
           "USA"
          ],
          [
           "Great Escarpment",
           "NAM"
          ],
          [
           "Santa Cruz Mts. (CA)",
           "USA"
          ],
          [
           "Santa Cruz Mts. (CA)",
           "USA"
          ],
          [
           "Santa Cruz Mts. (CA)",
           "USA"
          ],
          [
           "Andes, Western Cordillera",
           "Peru"
          ],
          [
           "Santa Cruz Mts. (CA)",
           "USA"
          ],
          [
           "Santa Cruz Mts. (CA)",
           "USA"
          ],
          [
           "Tennessee Valley (CA)",
           "USA"
          ],
          [
           "Santa Cruz Mts. (CA)",
           "USA"
          ],
          [
           "Andes, Western Cordillera",
           "Peru"
          ],
          [
           "Santa Cruz Mts. (CA)",
           "USA"
          ],
          [
           "Santa Cruz Mts. (CA)",
           "USA"
          ],
          [
           "Andes, Western Cordillera",
           "Peru"
          ],
          [
           "Santa Cruz Mts. (CA)",
           "USA"
          ],
          [
           "Great Escarpment",
           "NAM"
          ],
          [
           "Great Escarpment",
           "NAM"
          ],
          [
           "Tennessee Valley (CA)",
           "USA"
          ],
          [
           "Andes, Western Cordillera",
           "Peru"
          ],
          [
           "Rocky Mts.",
           "USA"
          ],
          [
           "Andes, Western Cordillera",
           "Peru"
          ],
          [
           "Rocky Mts.",
           "USA"
          ],
          [
           "Middle Fork, Sierra Nevada",
           "USA"
          ],
          [
           "Andes, Western Cordillera",
           "Peru"
          ],
          [
           "Andes, Western Cordillera",
           "Peru"
          ],
          [
           "Rocky Mts.",
           "USA"
          ],
          [
           "Rocky Mts.",
           "USA"
          ],
          [
           "Rocky Mts.",
           "USA"
          ],
          [
           "Rocky Mts.",
           "USA"
          ],
          [
           "Rocky Mts.",
           "USA"
          ],
          [
           "Rocky Mts.",
           "USA"
          ],
          [
           "Rocky Mts.",
           "USA"
          ],
          [
           "Rocky Mts.",
           "USA"
          ],
          [
           "Rocky Mts.",
           "USA"
          ],
          [
           "Rocky Mts.",
           "USA"
          ],
          [
           "Black Forest (BW)",
           "Germany"
          ],
          [
           "Eastern Andean front",
           "Argentina"
          ],
          [
           "Black Forest (BW)",
           "Germany"
          ],
          [
           "Eastern Andean front",
           "Argentina"
          ],
          [
           "Black Forest (BW)",
           "Germany"
          ],
          [
           "Black Forest (BW)",
           "Germany"
          ],
          [
           "Black Forest (BW)",
           "Germany"
          ],
          [
           "Black Forest (BW)",
           "Germany"
          ],
          [
           "Black Forest (BW)",
           "Germany"
          ],
          [
           "Black Forest (BW)",
           "Germany"
          ],
          [
           "Black Forest (BW)",
           "Germany"
          ],
          [
           "Black Forest (BW)",
           "Germany"
          ],
          [
           "Black Forest (BW)",
           "Germany"
          ],
          [
           "Gauteng",
           "South Africa"
          ],
          [
           "Gauteng",
           "South Africa"
          ],
          [
           "Argentine Precordillera",
           "Argentina"
          ],
          [
           "Gauteng",
           "South Africa"
          ],
          [
           "Gauteng",
           "South Africa"
          ],
          [
           "Gauteng",
           "South Africa"
          ],
          [
           "Middle Fork, Sierra Nevada",
           "USA"
          ],
          [
           "Argentine Precordillera",
           "Argentina"
          ],
          [
           "Argentine Precordillera",
           "Argentina"
          ],
          [
           "Argentine Precordillera",
           "Argentina"
          ],
          [
           "Argentine Precordillera",
           "Argentina"
          ],
          [
           "San Bernardino (CA)",
           "USA"
          ],
          [
           "Argentine Precordillera",
           "Argentina"
          ],
          [
           "San Bernardino (CA)",
           "USA"
          ],
          [
           "San Bernardino (CA)",
           "USA"
          ],
          [
           "San Bernardino (CA)",
           "USA"
          ],
          [
           "San Bernardino (CA)",
           "USA"
          ],
          [
           "Tennessee Valley (CA)",
           "USA"
          ],
          [
           "San Bernardino (CA)",
           "USA"
          ],
          [
           "San Bernardino (CA)",
           "USA"
          ],
          [
           "San Bernardino (CA)",
           "USA"
          ],
          [
           "San Bernardino (CA)",
           "USA"
          ],
          [
           "San Bernardino (CA)",
           "USA"
          ],
          [
           "San Bernardino (CA)",
           "USA"
          ],
          [
           "San Bernardino (CA)",
           "USA"
          ],
          [
           "San Bernardino (CA)",
           "USA"
          ],
          [
           "San Bernardino (CA)",
           "USA"
          ],
          [
           "San Bernardino (CA)",
           "USA"
          ],
          [
           "San Bernardino (CA)",
           "USA"
          ],
          [
           "San Bernardino (CA)",
           "USA"
          ],
          [
           "San Bernardino (CA)",
           "USA"
          ],
          [
           "San Bernardino (CA)",
           "USA"
          ],
          [
           "San Bernardino (CA)",
           "USA"
          ],
          [
           "Abukuma Mts., Tohoku",
           "Japan"
          ],
          [
           "Abukuma Mts., Tohoku",
           "Japan"
          ],
          [
           "Abukuma Mts., Tohoku",
           "Japan"
          ],
          [
           "Abukuma Mts., Tohoku",
           "Japan"
          ],
          [
           "Abukuma Mts., Tohoku",
           "Japan"
          ],
          [
           "Rhenish Massif (NRW)",
           "Germany"
          ],
          [
           "Rhenish Massif (NRW)",
           "Germany"
          ],
          [
           "Rhenish Massif (NRW)",
           "Germany"
          ],
          [
           "Rhenish Massif (NRW)",
           "Germany"
          ],
          [
           "ND",
           "Panama"
          ],
          [
           "Rhenish Massif (NRW)",
           "Germany"
          ],
          [
           "Rhenish Massif (NRW)",
           "Germany"
          ],
          [
           "Rhenish Massif (NRW)",
           "Germany"
          ],
          [
           "Rhenish Massif (NRW)",
           "Germany"
          ],
          [
           "ND",
           "Panama"
          ],
          [
           "Rhenish Massif (NRW)",
           "Germany"
          ],
          [
           "Rhenish Massif (NRW)",
           "Germany"
          ],
          [
           "ND",
           "Panama"
          ],
          [
           "ND",
           "Panama"
          ],
          [
           "ND",
           "Panama"
          ],
          [
           "ND",
           "Panama"
          ],
          [
           "ND",
           "Panama"
          ],
          [
           "ND",
           "Panama"
          ],
          [
           "Santa Cruz (CA)",
           "USA"
          ],
          [
           "ND",
           "Panama"
          ],
          [
           "ND",
           "Panama"
          ],
          [
           "ND",
           "Panama"
          ],
          [
           "ND",
           "Panama"
          ],
          [
           "ND",
           "Panama"
          ],
          [
           "ND",
           "Panama"
          ],
          [
           "ND",
           "Panama"
          ],
          [
           "ND",
           "Panama"
          ],
          [
           "ND",
           "Panama"
          ],
          [
           "Santa Cruz (CA)",
           "USA"
          ],
          [
           "Serra do Mar",
           "Brazil"
          ],
          [
           "Honshu, Japanese Alps",
           "Japan"
          ],
          [
           "Honshu, Japanese Alps",
           "Japan"
          ],
          [
           "Serra do Mar",
           "Brazil"
          ],
          [
           "Serra do Mar",
           "Brazil"
          ],
          [
           "Honshu, Japanese Alps",
           "Japan"
          ],
          [
           "Honshu, Japanese Alps",
           "Japan"
          ],
          [
           "Serra do Mar",
           "Brazil"
          ],
          [
           "Serra do Mar",
           "Brazil"
          ],
          [
           "Honshu, Japanese Alps",
           "Japan"
          ],
          [
           "Serra do Mar",
           "Brazil"
          ],
          [
           "Honshu, Japanese Alps",
           "Japan"
          ],
          [
           "Honshu, Japanese Alps",
           "Japan"
          ],
          [
           "Honshu, Japanese Alps",
           "Japan"
          ],
          [
           "Honshu, Japanese Alps",
           "Japan"
          ],
          [
           "Honshu, Japanese Alps",
           "Japan"
          ],
          [
           "Fort Sage Mts. (CA)",
           "USA"
          ],
          [
           "Honshu, Japanese Alps",
           "Japan"
          ],
          [
           "Honshu, Japanese Alps",
           "Japan"
          ],
          [
           "Honshu, Japanese Alps",
           "Japan"
          ],
          [
           "Honshu, Japanese Alps",
           "Japan"
          ],
          [
           "Honshu, Japanese Alps",
           "Japan"
          ],
          [
           "South-Eastern Brazil, Mantiqueira Range",
           "Brazil"
          ],
          [
           "Nepalese Himalaya",
           "Nepal"
          ],
          [
           "Nepalese Himalaya",
           "Nepal"
          ],
          [
           "Nepalese Himalaya",
           "Nepal"
          ],
          [
           "Nepalese Himalaya",
           "Nepal"
          ],
          [
           "Nepalese Himalaya",
           "Nepal"
          ],
          [
           "South-Eastern Brazil, Mantiqueira Range",
           "Brazil"
          ],
          [
           "Nepalese Himalaya",
           "Nepal"
          ],
          [
           "Nepalese Himalaya",
           "Nepal"
          ],
          [
           "South-Eastern Brazil, Mantiqueira Range",
           "Brazil"
          ],
          [
           "Nepalese Himalaya",
           "Nepal"
          ],
          [
           "Nepalese Himalaya",
           "Nepal"
          ],
          [
           "Nepalese Himalaya",
           "Nepal"
          ],
          [
           "South-Eastern Brazil, Mantiqueira Range",
           "Brazil"
          ],
          [
           "Nepalese Himalaya",
           "Nepal"
          ],
          [
           "Nepalese Himalaya",
           "Nepal"
          ],
          [
           "Nepalese Himalaya",
           "Nepal"
          ],
          [
           "South-Eastern Brazil, Mantiqueira Range",
           "Brazil"
          ],
          [
           "Nepalese Himalaya",
           "Nepal"
          ],
          [
           "Nepalese Himalaya",
           "Nepal"
          ],
          [
           "Nepalese Himalaya",
           "Nepal"
          ],
          [
           "Nepalese Himalaya",
           "Nepal"
          ],
          [
           "Nepalese Himalaya",
           "Nepal"
          ],
          [
           "Nepalese Himalaya",
           "Nepal"
          ],
          [
           "Nepalese Himalaya",
           "Nepal"
          ],
          [
           "Nepalese Himalaya",
           "Nepal"
          ],
          [
           "Nepalese Himalaya",
           "Nepal"
          ],
          [
           "Nepalese Himalaya",
           "Nepal"
          ],
          [
           "Nepalese Himalaya",
           "Nepal"
          ],
          [
           "Nepalese Himalaya",
           "Nepal"
          ],
          [
           "Nepalese Himalaya",
           "Nepal"
          ],
          [
           "Nepalese Himalaya",
           "Nepal"
          ],
          [
           "Nepalese Himalaya",
           "Nepal"
          ],
          [
           "South-Eastern Brazil, Mantiqueira Range",
           "Brazil"
          ],
          [
           "South-Eastern Brazil, Mantiqueira Range",
           "Brazil"
          ],
          [
           "South-Eastern Brazil, Mantiqueira Range",
           "Brazil"
          ],
          [
           "South-Eastern Brazil, Mantiqueira Range",
           "Brazil"
          ],
          [
           "Feldberg",
           "Germany"
          ],
          [
           "Feldberg",
           "Germany"
          ],
          [
           "Feldberg",
           "Germany"
          ],
          [
           "Feldberg",
           "Germany"
          ],
          [
           "Feldberg",
           "Germany"
          ],
          [
           "Swiss Alps",
           "Switzerland"
          ],
          [
           "Feldberg",
           "Germany"
          ],
          [
           "Feldberg",
           "Germany"
          ],
          [
           "Feldberg",
           "Germany"
          ],
          [
           "Feldberg",
           "Germany"
          ],
          [
           "Swiss Alps",
           "Switzerland"
          ],
          [
           "Feldberg",
           "Germany"
          ],
          [
           "Feldberg",
           "Germany"
          ],
          [
           "Feldberg",
           "Germany"
          ],
          [
           "Feldberg",
           "Germany"
          ],
          [
           "Feldberg",
           "Germany"
          ],
          [
           "Sonoran Desert (AZ)",
           "USA"
          ],
          [
           "Feldberg",
           "Germany"
          ],
          [
           "Swiss Alps",
           "Switzerland"
          ],
          [
           "Swiss Alps",
           "Switzerland"
          ],
          [
           "Swiss Alps",
           "Switzerland"
          ],
          [
           "Sonoran Desert (AZ)",
           "USA"
          ],
          [
           "Swiss Alps",
           "Switzerland"
          ],
          [
           "Swiss Alps",
           "Switzerland"
          ],
          [
           "Swiss Alps",
           "Switzerland"
          ],
          [
           "Swiss Alps",
           "Switzerland"
          ],
          [
           "Swiss Alps",
           "Switzerland"
          ],
          [
           "Fort Sage Mts. (CA)",
           "USA"
          ],
          [
           "Swiss Alps",
           "Switzerland"
          ],
          [
           "Swiss Alps",
           "Switzerland"
          ],
          [
           "Swiss Alps",
           "Switzerland"
          ],
          [
           "Swiss Alps",
           "Switzerland"
          ],
          [
           "Swiss Alps",
           "Switzerland"
          ],
          [
           "Swiss Alps",
           "Switzerland"
          ],
          [
           "Swiss Alps",
           "Switzerland"
          ],
          [
           "Swiss Alps",
           "Switzerland"
          ],
          [
           "Swiss Alps",
           "Switzerland"
          ],
          [
           "Swiss Alps",
           "Switzerland"
          ],
          [
           "Swiss Alps",
           "Switzerland"
          ],
          [
           "Swiss Alps",
           "Switzerland"
          ],
          [
           "Swiss Alps",
           "Switzerland"
          ],
          [
           "Swiss Alps",
           "Switzerland"
          ],
          [
           "Betic Cordillera",
           "Spain"
          ],
          [
           "Swiss Alps",
           "Switzerland"
          ],
          [
           "Swiss Alps",
           "Switzerland"
          ],
          [
           "Swiss Alps",
           "Switzerland"
          ],
          [
           "Swiss Alps",
           "Switzerland"
          ],
          [
           "Swiss Alps",
           "Switzerland"
          ],
          [
           "Swiss Alps",
           "Switzerland"
          ],
          [
           "Swiss Alps",
           "Switzerland"
          ],
          [
           "Swiss Alps",
           "Switzerland"
          ],
          [
           "Southerm Espinhaco Range",
           "Brazil"
          ],
          [
           "Betic Cordillera",
           "Spain"
          ],
          [
           "Southerm Espinhaco Range",
           "Brazil"
          ],
          [
           "Southerm Espinhaco Range",
           "Brazil"
          ],
          [
           "Southerm Espinhaco Range",
           "Brazil"
          ],
          [
           "Betic Cordillera",
           "Spain"
          ],
          [
           "Southerm Espinhaco Range",
           "Brazil"
          ],
          [
           "Southerm Espinhaco Range",
           "Brazil"
          ],
          [
           "Southerm Espinhaco Range",
           "Brazil"
          ],
          [
           "Fort Sage Mts. (CA)",
           "USA"
          ],
          [
           "Southerm Espinhaco Range",
           "Brazil"
          ],
          [
           "Southerm Espinhaco Range",
           "Brazil"
          ],
          [
           "Southerm Espinhaco Range",
           "Brazil"
          ],
          [
           "Southerm Espinhaco Range",
           "Brazil"
          ],
          [
           "Bernese Oberland",
           "Switzerland"
          ],
          [
           "Bernese Oberland",
           "Switzerland"
          ],
          [
           "Bernese Oberland",
           "Switzerland"
          ],
          [
           "Bernese Oberland",
           "Switzerland"
          ],
          [
           "Bernese Oberland",
           "Switzerland"
          ],
          [
           "Bernese Oberland",
           "Switzerland"
          ],
          [
           "Bernese Oberland",
           "Switzerland"
          ],
          [
           "Sonoran Desert (AZ)",
           "USA"
          ],
          [
           "Sonoran Desert (AZ)",
           "USA"
          ],
          [
           "Sonoran Desert (AZ)",
           "USA"
          ],
          [
           "Sonoran Desert (AZ)",
           "USA"
          ],
          [
           "Sonoran Desert (AZ)",
           "USA"
          ],
          [
           "Sonoran Desert (AZ)",
           "USA"
          ],
          [
           "Sonoran Desert (AZ)",
           "USA"
          ],
          [
           "Sonoran Desert (AZ)",
           "USA"
          ],
          [
           "Sonoran Desert (AZ)",
           "USA"
          ],
          [
           "Sonoran Desert (AZ)",
           "USA"
          ],
          [
           "Sonoran Desert (AZ)",
           "USA"
          ],
          [
           "Sonoran Desert (AZ)",
           "USA"
          ],
          [
           "Sonoran Desert (AZ)",
           "USA"
          ],
          [
           "Sonoran Desert (AZ)",
           "USA"
          ],
          [
           "Sonoran Desert (AZ)",
           "USA"
          ],
          [
           "Sonoran Desert (AZ)",
           "USA"
          ],
          [
           "Sonoran Desert (AZ)",
           "USA"
          ],
          [
           "Sonoran Desert (AZ)",
           "USA"
          ],
          [
           "Sonoran Desert (AZ)",
           "USA"
          ],
          [
           "Sonoran Desert (AZ)",
           "USA"
          ],
          [
           "Sonoran Desert (AZ)",
           "USA"
          ],
          [
           "Sonoran Desert (AZ)",
           "USA"
          ],
          [
           "Sonoran Desert (AZ)",
           "USA"
          ],
          [
           "Sonoran Desert (AZ)",
           "USA"
          ],
          [
           "Sonoran Desert (AZ)",
           "USA"
          ],
          [
           "Sonoran Desert (AZ)",
           "USA"
          ],
          [
           "Sonoran Desert (AZ)",
           "USA"
          ],
          [
           "Fort Sage Mts. (CA)",
           "USA"
          ],
          [
           "Sonoran Desert (AZ)",
           "USA"
          ],
          [
           "Sonoran Desert (AZ)",
           "USA"
          ],
          [
           "Sonoran Desert (AZ)",
           "USA"
          ],
          [
           "Sonoran Desert (AZ)",
           "USA"
          ],
          [
           "Sonoran Desert (AZ)",
           "USA"
          ],
          [
           "Sonoran Desert (AZ)",
           "USA"
          ],
          [
           "Coast Range (OR)",
           "USA"
          ],
          [
           "Coast Range (OR)",
           "USA"
          ],
          [
           "Coast Range (OR)",
           "USA"
          ],
          [
           "Coast Range (OR)",
           "USA"
          ],
          [
           "Coast Range (OR)",
           "USA"
          ],
          [
           "Coast Range (OR)",
           "USA"
          ],
          [
           "Central Eastern Italian Alps",
           "Italy"
          ],
          [
           "Coast Range (OR)",
           "USA"
          ],
          [
           "Coast Range (OR)",
           "USA"
          ],
          [
           "Coast Range (OR)",
           "USA"
          ],
          [
           "Coast Range (OR)",
           "USA"
          ],
          [
           "Central Eastern Italian Alps",
           "Italy"
          ],
          [
           "Coast Range (OR)",
           "USA"
          ],
          [
           "Coast Range (OR)",
           "USA"
          ],
          [
           "Coast Range (OR)",
           "USA"
          ],
          [
           "Central Eastern Italian Alps",
           "Italy"
          ],
          [
           "Central Eastern Italian Alps",
           "Italy"
          ],
          [
           "Central Eastern Italian Alps",
           "Italy"
          ],
          [
           "Central Eastern Italian Alps",
           "Italy"
          ],
          [
           "Central Eastern Italian Alps",
           "Italy"
          ],
          [
           "Central Eastern Italian Alps",
           "Italy"
          ],
          [
           "Central Eastern Italian Alps",
           "Italy"
          ],
          [
           "Central Eastern Italian Alps",
           "Italy"
          ],
          [
           "Central Eastern Italian Alps",
           "Italy"
          ],
          [
           "Central Eastern Italian Alps",
           "Italy"
          ],
          [
           "Sri Lankan Escarpment",
           "Sri Lanka"
          ],
          [
           "Sri Lankan Escarpment",
           "Sri Lanka"
          ],
          [
           "Sri Lankan Escarpment",
           "Sri Lanka"
          ],
          [
           "Sri Lankan Escarpment",
           "Sri Lanka"
          ],
          [
           "Sri Lankan Escarpment",
           "Sri Lanka"
          ],
          [
           "Sri Lankan Escarpment",
           "Sri Lanka"
          ],
          [
           "Sri Lankan Escarpment",
           "Sri Lanka"
          ],
          [
           "Sri Lankan Escarpment",
           "Sri Lanka"
          ],
          [
           "Sri Lankan Escarpment",
           "Sri Lanka"
          ],
          [
           "Sri Lankan Escarpment",
           "Sri Lanka"
          ],
          [
           "Sri Lankan Escarpment",
           "Sri Lanka"
          ],
          [
           "Sri Lankan Escarpment",
           "Sri Lanka"
          ],
          [
           "Sri Lankan Escarpment",
           "Sri Lanka"
          ],
          [
           "Sri Lankan Escarpment",
           "Sri Lanka"
          ],
          [
           "Sri Lankan Escarpment",
           "Sri Lanka"
          ],
          [
           "Sri Lankan Escarpment",
           "Sri Lanka"
          ],
          [
           "Middle Fork, Sierra Nevada",
           "USA"
          ],
          [
           "Middle Fork, Sierra Nevada",
           "USA"
          ],
          [
           "Middle Fork, Sierra Nevada",
           "USA"
          ],
          [
           "Middle Fork, Sierra Nevada",
           "USA"
          ],
          [
           "Fort Sage Mts. (CA)",
           "USA"
          ],
          [
           "Middle Fork, Sierra Nevada",
           "USA"
          ],
          [
           "Middle Fork, Sierra Nevada",
           "USA"
          ],
          [
           "Middle Fork, Sierra Nevada",
           "USA"
          ],
          [
           "Middle Fork, Sierra Nevada",
           "USA"
          ],
          [
           "Middle Fork, Sierra Nevada",
           "USA"
          ],
          [
           "Middle Fork, Sierra Nevada",
           "USA"
          ],
          [
           "Abukuma Mts.",
           "Japan"
          ],
          [
           "Abukuma Mts.",
           "Japan"
          ],
          [
           "South Tibet",
           "China"
          ],
          [
           "South Tibet",
           "China"
          ],
          [
           "South Tibet",
           "China"
          ],
          [
           "South Tibet",
           "China"
          ],
          [
           "South Tibet",
           "China"
          ],
          [
           "South Tibet",
           "China"
          ],
          [
           "South Tibet",
           "China"
          ],
          [
           "Fort Sage Mts. (CA)",
           "USA"
          ],
          [
           "Central Alps",
           "Switzerland"
          ],
          [
           "Central Alps",
           "Switzerland"
          ],
          [
           "Southern Central Andes, Humahuaca Basin",
           "Argentina"
          ],
          [
           "Central Alps",
           "Switzerland"
          ],
          [
           "Central Alps",
           "Switzerland"
          ],
          [
           "Central Alps",
           "Switzerland"
          ],
          [
           "Arroyo Chavez (NM)",
           "USA"
          ],
          [
           "Central Alps",
           "Switzerland"
          ],
          [
           "Central Alps",
           "Switzerland"
          ],
          [
           "Central Alps",
           "Switzerland"
          ],
          [
           "Central Alps",
           "Switzerland"
          ],
          [
           "Central Alps",
           "Switzerland"
          ],
          [
           "Central Alps",
           "Switzerland"
          ],
          [
           "Olympic Mts. (WA)",
           "USA"
          ],
          [
           "Olympic Mts. (WA)",
           "USA"
          ],
          [
           "Olympic Mts. (WA)",
           "USA"
          ],
          [
           "Southern Central Andes, Humahuaca Basin",
           "Argentina"
          ],
          [
           "Olympic Mts. (WA)",
           "USA"
          ],
          [
           "Olympic Mts. (WA)",
           "USA"
          ],
          [
           "Olympic Mts. (WA)",
           "USA"
          ],
          [
           "Olympic Mts. (WA)",
           "USA"
          ],
          [
           "Fort Sage Mts. (CA)",
           "USA"
          ],
          [
           "Southern Central Andes, Humahuaca Basin",
           "Argentina"
          ],
          [
           "Southern Central Andes, Humahuaca Basin",
           "Argentina"
          ],
          [
           "Southern Central Andes, Humahuaca Basin",
           "Argentina"
          ],
          [
           "Southern Central Andes, Humahuaca Basin",
           "Argentina"
          ],
          [
           "Arroyo Chavez (NM)",
           "USA"
          ],
          [
           "Southern Central Andes, Humahuaca Basin",
           "Argentina"
          ],
          [
           "Southern Central Andes, Humahuaca Basin",
           "Argentina"
          ],
          [
           "Southern Central Andes, Humahuaca Basin",
           "Argentina"
          ],
          [
           "Southern Central Andes, Humahuaca Basin",
           "Argentina"
          ],
          [
           "Upper Engadin",
           "Switzerland"
          ],
          [
           "Upper Engadin",
           "Switzerland"
          ],
          [
           "Upper Engadin",
           "Switzerland"
          ],
          [
           "Upper Engadin",
           "Switzerland"
          ],
          [
           "French Western Alps",
           "France"
          ],
          [
           "Upper Engadin",
           "Switzerland"
          ],
          [
           "Upper Engadin",
           "Switzerland"
          ],
          [
           "Upper Engadin",
           "Switzerland"
          ],
          [
           "French Western Alps",
           "France"
          ],
          [
           "Upper Engadin",
           "Switzerland"
          ],
          [
           "Upper Engadin",
           "Switzerland"
          ],
          [
           "Upper Engadin",
           "Switzerland"
          ],
          [
           "Upper Engadin",
           "Switzerland"
          ],
          [
           "Upper Engadin",
           "Switzerland"
          ],
          [
           "Upper Engadin",
           "Switzerland"
          ],
          [
           "Upper Engadin",
           "Switzerland"
          ],
          [
           "Upper Engadin",
           "Switzerland"
          ],
          [
           "Teton Range",
           "USA"
          ],
          [
           "Teton Range",
           "USA"
          ],
          [
           "Teton Range",
           "USA"
          ],
          [
           "Sierra Nevada (AN)",
           "Spain"
          ],
          [
           "Sierra Nevada (AN)",
           "Spain"
          ],
          [
           "Sierra Nevada (AN)",
           "Spain"
          ],
          [
           "Sierra Nevada (AN)",
           "Spain"
          ],
          [
           "Betic Cordillera",
           "Spain"
          ],
          [
           "Sierra Nevada (AN)",
           "Spain"
          ],
          [
           "Sierra Nevada (AN)",
           "Spain"
          ],
          [
           "Sierra Nevada (AN)",
           "Spain"
          ],
          [
           "Sierra Nevada (AN)",
           "Spain"
          ],
          [
           "Valles Caldera, New Mexico",
           "USA"
          ],
          [
           "Valles Caldera, New Mexico",
           "USA"
          ],
          [
           "Valles Caldera, New Mexico",
           "USA"
          ],
          [
           "Valles Caldera, New Mexico",
           "USA"
          ],
          [
           "Taebaek Mts.",
           "Korea"
          ],
          [
           "Betic Cordillera",
           "Spain"
          ],
          [
           "Taebaek Mts.",
           "Korea"
          ],
          [
           "Taebaek Mts.",
           "Korea"
          ],
          [
           "Taebaek Mts.",
           "Korea"
          ],
          [
           "Taebaek Mts.",
           "Korea"
          ],
          [
           "Taebaek Mts.",
           "Korea"
          ],
          [
           "Taebaek Mts.",
           "Korea"
          ],
          [
           "San Bernardino (CA)",
           "USA"
          ],
          [
           "San Bernardino (CA)",
           "USA"
          ],
          [
           "San Bernardino (CA)",
           "USA"
          ],
          [
           "San Bernardino (CA)",
           "USA"
          ],
          [
           "San Bernardino (CA)",
           "USA"
          ],
          [
           "San Bernardino (CA)",
           "USA"
          ],
          [
           "San Bernardino (CA)",
           "USA"
          ],
          [
           "San Bernardino (CA)",
           "USA"
          ],
          [
           "San Bernardino (CA)",
           "USA"
          ],
          [
           "Betic Cordillera",
           "Spain"
          ],
          [
           "San Bernardino (CA)",
           "USA"
          ],
          [
           "San Bernardino (CA)",
           "USA"
          ],
          [
           "San Bernardino (CA)",
           "USA"
          ],
          [
           "San Bernardino (CA)",
           "USA"
          ],
          [
           "San Bernardino (CA)",
           "USA"
          ],
          [
           "San Bernardino (CA)",
           "USA"
          ],
          [
           "Betic Cordillera",
           "Spain"
          ],
          [
           "Betic Cordillera",
           "Spain"
          ],
          [
           "Betic Cordillera",
           "Spain"
          ],
          [
           "Betic Cordillera",
           "Spain"
          ],
          [
           "Betic Cordillera",
           "Spain"
          ],
          [
           "Arroyo Chavez (NM)",
           "USA"
          ],
          [
           "Betic Cordillera",
           "Spain"
          ],
          [
           "Betic Cordillera",
           "Spain"
          ],
          [
           "Betic Cordillera",
           "Spain"
          ],
          [
           "Betic Cordillera",
           "Spain"
          ],
          [
           "Betic Cordillera",
           "Spain"
          ],
          [
           "Nahal Yael",
           "Israel"
          ],
          [
           "Betic Cordillera",
           "Spain"
          ],
          [
           "Western Oregon",
           "USA"
          ],
          [
           "Western Oregon",
           "USA"
          ],
          [
           "Rokko, Nankai",
           "Japan"
          ],
          [
           "Rokko, Nankai",
           "Japan"
          ],
          [
           "Nahal Yael",
           "Israel"
          ],
          [
           "Rokko, Nankai",
           "Japan"
          ],
          [
           "Rokko, Nankai",
           "Japan"
          ],
          [
           "Rokko, Nankai",
           "Japan"
          ],
          [
           "Rokko, Nankai",
           "Japan"
          ],
          [
           "Rokko, Nankai",
           "Japan"
          ],
          [
           "Okuwa, Japanese Alps",
           "Japan"
          ],
          [
           "Okuwa, Japanese Alps",
           "Japan"
          ],
          [
           "Abukuma, Tohoku",
           "Japan"
          ],
          [
           "Okuwa, Japanese Alps",
           "Japan"
          ],
          [
           "Okuwa, Japanese Alps",
           "Japan"
          ],
          [
           "Okuwa, Japanese Alps",
           "Japan"
          ],
          [
           "Okuwa, Japanese Alps",
           "Japan"
          ],
          [
           "Okuwa, Japanese Alps",
           "Japan"
          ],
          [
           "Okuwa, Japanese Alps",
           "Japan"
          ],
          [
           "Okuwa, Japanese Alps",
           "Japan"
          ],
          [
           "Okuwa, Japanese Alps",
           "Japan"
          ],
          [
           "Abukuma, Tohoku",
           "Japan"
          ],
          [
           "Okuwa, Japanese Alps",
           "Japan"
          ],
          [
           "Abukuma, Tohoku",
           "Japan"
          ],
          [
           "Okuwa, Japanese Alps",
           "Japan"
          ],
          [
           "Okuwa, Japanese Alps",
           "Japan"
          ],
          [
           "Abukuma, Tohoku",
           "Japan"
          ],
          [
           "Nahal Yael",
           "Israel"
          ],
          [
           "Okuwa, Japanese Alps",
           "Japan"
          ],
          [
           "Abukuma, Tohoku",
           "Japan"
          ],
          [
           "Okuwa, Japanese Alps",
           "Japan"
          ],
          [
           "Abukuma, Tohoku",
           "Japan"
          ],
          [
           "Nahal Yael",
           "Israel"
          ],
          [
           "Okuwa, Japanese Alps",
           "Japan"
          ],
          [
           "Abukuma, Tohoku",
           "Japan"
          ],
          [
           "Okuwa, Japanese Alps",
           "Japan"
          ],
          [
           "Okuwa, Japanese Alps",
           "Japan"
          ],
          [
           "Okuwa, Japanese Alps",
           "Japan"
          ],
          [
           "Abukuma, Tohoku",
           "Japan"
          ],
          [
           "Abukuma, Tohoku",
           "Japan"
          ],
          [
           "Quadrilatero Ferrifero",
           "Brazil"
          ],
          [
           "Nahal Yael",
           "Israel"
          ],
          [
           "Quadrilatero Ferrifero",
           "Brazil"
          ],
          [
           "Quadrilatero Ferrifero",
           "Brazil"
          ],
          [
           "Quadrilatero Ferrifero",
           "Brazil"
          ],
          [
           "Arroyo Chavez (NM)",
           "USA"
          ],
          [
           "Nahal Yael",
           "Israel"
          ],
          [
           "ND",
           "Puerto Rico"
          ],
          [
           "ND",
           "Puerto Rico"
          ],
          [
           "ND",
           "Puerto Rico"
          ],
          [
           "ND",
           "Puerto Rico"
          ],
          [
           "ND",
           "Puerto Rico"
          ],
          [
           "ND",
           "Puerto Rico"
          ],
          [
           "ND",
           "Puerto Rico"
          ],
          [
           "Arroyo Chavez (NM)",
           "USA"
          ],
          [
           "Arroyo Chavez (NM)",
           "USA"
          ],
          [
           "Menderes Massif",
           "Turkey"
          ],
          [
           "Menderes Massif",
           "Turkey"
          ],
          [
           "Menderes Massif",
           "Turkey"
          ],
          [
           "Menderes Massif",
           "Turkey"
          ],
          [
           "Menderes Massif",
           "Turkey"
          ],
          [
           "Menderes Massif",
           "Turkey"
          ],
          [
           "Menderes Massif",
           "Turkey"
          ],
          [
           "Menderes Massif",
           "Turkey"
          ],
          [
           "Menderes Massif",
           "Turkey"
          ],
          [
           "Luquillo Mts.",
           "Puerto Rico"
          ],
          [
           "Luquillo Mts.",
           "Puerto Rico"
          ],
          [
           "ND",
           "Australia"
          ],
          [
           "ND",
           "Australia"
          ],
          [
           "Arnhem Land Plateau (NT)",
           "Australia"
          ],
          [
           "Queensland",
           "Australia"
          ],
          [
           "ND",
           "Australia"
          ],
          [
           "Blue Mts. Plateau (NSW)",
           "Australia"
          ],
          [
           "Blue Mts. Plateau (NSW)",
           "Australia"
          ],
          [
           "Queensland",
           "Australia"
          ],
          [
           "ND",
           "Australia"
          ],
          [
           "ND",
           "Australia"
          ],
          [
           "ND",
           "Australia"
          ],
          [
           "Arnhem Land Plateau (NT)",
           "Australia"
          ],
          [
           "SE Highlands (NSW)",
           "Australia"
          ],
          [
           "Flinders Ranges (SA)",
           "Australia"
          ],
          [
           "Flinders Ranges (SA)",
           "Australia"
          ],
          [
           "Arnhem Land Plateau (NT)",
           "Australia"
          ],
          [
           "SE Highlands (NSW)",
           "Australia"
          ],
          [
           "Flinders Ranges (SA)",
           "Australia"
          ],
          [
           "Flinders Ranges (SA)",
           "Australia"
          ],
          [
           "Flinders Ranges (SA)",
           "Australia"
          ],
          [
           "Flinders Ranges (SA)",
           "Australia"
          ],
          [
           "Arnhem Land Plateau (NT)",
           "Australia"
          ],
          [
           "Arnhem Land Plateau (NT)",
           "Australia"
          ],
          [
           "Queensland",
           "Australia"
          ],
          [
           "Arnhem Land Plateau (NT)",
           "Australia"
          ],
          [
           "Arnhem Land Plateau (NT)",
           "Australia"
          ],
          [
           "Arnhem Land Plateau (NT)",
           "Australia"
          ],
          [
           "Arnhem Land Plateau (NT)",
           "Australia"
          ],
          [
           "Mt Sonder (NT)",
           "Australia"
          ],
          [
           "Tyler Pass (NT)",
           "Australia"
          ],
          [
           "Tyler Pass (NT)",
           "Australia"
          ],
          [
           "Queensland",
           "Australia"
          ],
          [
           "Tyler Pass (NT)",
           "Australia"
          ],
          [
           "Mt Sonder (NT)",
           "Australia"
          ],
          [
           "Mt Sonder (NT)",
           "Australia"
          ],
          [
           "Queensland",
           "Australia"
          ],
          [
           "Queensland",
           "Australia"
          ],
          [
           "Queensland",
           "Australia"
          ],
          [
           "Queensland",
           "Australia"
          ],
          [
           "Queensland",
           "Australia"
          ],
          [
           "Queensland",
           "Australia"
          ],
          [
           "Queensland",
           "Australia"
          ],
          [
           "Queensland",
           "Australia"
          ],
          [
           "Queensland",
           "Australia"
          ],
          [
           "Queensland",
           "Australia"
          ],
          [
           "Queensland",
           "Australia"
          ],
          [
           "Queensland",
           "Australia"
          ],
          [
           "Queensland",
           "Australia"
          ],
          [
           "Queensland",
           "Australia"
          ],
          [
           "Queensland",
           "Australia"
          ],
          [
           "Queensland",
           "Australia"
          ],
          [
           "Queensland",
           "Australia"
          ],
          [
           "Queensland",
           "Australia"
          ],
          [
           "Queensland",
           "Australia"
          ],
          [
           "Queensland",
           "Australia"
          ],
          [
           "Queensland",
           "Australia"
          ],
          [
           "Queensland",
           "Australia"
          ],
          [
           "Queensland",
           "Australia"
          ],
          [
           "Queensland",
           "Australia"
          ],
          [
           "Queensland",
           "Australia"
          ],
          [
           "Queensland",
           "Australia"
          ],
          [
           "Queensland",
           "Australia"
          ],
          [
           "Queensland",
           "Australia"
          ],
          [
           "Queensland",
           "Australia"
          ],
          [
           "Queensland",
           "Australia"
          ],
          [
           "Queensland",
           "Australia"
          ],
          [
           "Queensland",
           "Australia"
          ],
          [
           "Queensland",
           "Australia"
          ]
         ],
         "geo": "geo",
         "hovertemplate": "<b>%{hovertext}</b><br><br>type=Fluvial<br>lat=%{lat}<br>long=%{lon}<br>locality=%{customdata[0]}<br>region=%{customdata[1]}<extra></extra>",
         "hovertext": [
          null,
          null,
          null,
          null,
          null,
          null,
          null,
          null,
          null,
          null,
          null,
          null,
          null,
          null,
          null,
          null,
          null,
          null,
          null,
          null,
          null,
          null,
          null,
          null,
          null,
          null,
          null,
          null,
          null,
          null,
          null,
          null,
          null,
          null,
          null,
          "Loire",
          "Loire",
          null,
          null,
          null,
          null,
          null,
          null,
          "Loire",
          null,
          null,
          "Loire",
          "Meuse",
          null,
          null,
          "Meuse",
          null,
          null,
          null,
          null,
          null,
          null,
          "Meuse",
          null,
          null,
          "Meuse",
          null,
          null,
          null,
          "Meuse",
          "Meuse",
          "Loire",
          "Meuse",
          "Loire",
          "Loire",
          "Neckar",
          "Loire",
          "Loire",
          "Neckar",
          "Neckar",
          "Neckar",
          "Loire",
          "Loire",
          "Neckar",
          "Neckar",
          "Meuse",
          "Meuse",
          "Loire",
          "Loire",
          "Loire",
          "Neckar",
          "Loire",
          "Loire",
          "Meuse",
          "Neckar",
          "Neckar",
          "Regen",
          "Loire",
          "Regen",
          "Loire",
          "Loire",
          "Loire",
          "Loire",
          "Loire",
          "Regen",
          "Regen",
          "Napo",
          "Curaray",
          "Regen",
          "Napo",
          "Napo",
          "Regen",
          "Loire",
          "Salween",
          "Regen",
          "Salween",
          "Salween",
          "Salween",
          "Meuse",
          "Salween",
          "Neckar",
          "Loire",
          "Salween",
          "Mekong",
          "Salween",
          "Loire",
          "Loire",
          "Regen",
          "Mekong",
          "Neckar",
          "Napo",
          "Napo",
          "Napo",
          "Napo",
          "Loire",
          "Loire",
          "Regen",
          "Regen",
          "Napo",
          "Loire",
          "Regen",
          "Neckar",
          "Regen",
          "Loire",
          "Regen",
          "Regen",
          "Loire",
          "Loire",
          "Napo",
          "Napo",
          "Napo",
          "Napo",
          "Mekong",
          "Napo",
          "Mekong",
          "Mekong",
          "Napo",
          "Mekong",
          "Mekong",
          "Mekong",
          "Coca",
          "Yangtze",
          "Yangtze",
          "Yangtze",
          "Yangtze",
          "Yangtze",
          "Mekong",
          "Mekong",
          "Mekong",
          "Salween",
          "Salween",
          "Salween",
          "Salween",
          "Yangtze",
          "Salween",
          "Yangtze",
          "Yangtze",
          "Yangtze",
          "Yangtze",
          "Yangtze",
          "Yangtze",
          "Salween",
          "Mekong",
          "Yangtze",
          "Salween",
          "Yangtze",
          "Mekong",
          "Salween",
          "Salween",
          "Mekong",
          "Yangtze",
          "Salween",
          "Salween",
          "Salween",
          "Grande Riv.",
          "Grande Riv.",
          "Susquehanna",
          "Grande Riv.",
          "Grande Riv.",
          "Grande Riv.",
          "Chayanta Riv.",
          "Grande Riv.",
          "Caine Riv.",
          "Chayanta Riv.",
          "Caine Riv.",
          "Mizque Riv.",
          "Rocha Riv.",
          "Numae Riv.",
          "Azero Riv.",
          "Colloma Riv.",
          "Yunguillas Riv.",
          "Chico Riv.",
          "nancahuazú Riv.",
          "Tomina Riv.",
          "San Pedro Riv.",
          "Rosita Riv.",
          "Grande Riv.",
          "Rio Julpe Riv.",
          "Chico Riv.",
          "Arque Riv.",
          "Morochaca Riv.",
          "Masecuri Riv.",
          "Tapacari Riv.",
          "Limon Riv.",
          "nancahuazú Riv.",
          "Blanco Riv.",
          "Taracachi Riv.",
          "Tatarenda Riv.",
          "Comarappa Riv.",
          "Jatun Mayu Riv.",
          "Grande Riv.",
          "Chacoma Riv.",
          "Novillero Riv.",
          "nancahuazú Riv.",
          "Cliza Riv.",
          "Pulquina Riv.",
          "Huaraya Riv.",
          "Huerta Riv.",
          "Palcha Riv.",
          "Presto Riv.",
          "Sayan Chaca Riv.",
          "Po Riv., Bacucco",
          "Po Riv., Boccasette",
          "Po Riv., Crespino",
          "Po Riv., Viadana",
          "Achica Riv.",
          "Po Riv., Castelnuovo",
          "Po Riv., Zerbo",
          "Zudanez Riv., confluence",
          "Po Riv., Zerbo",
          "Po Riv., Cornale",
          "Po Riv., Cornale",
          "Po Riv., Valenza",
          "Zudanez Riv., confluence",
          "Tanaro Riv.",
          "Ticino Riv., Bereguardo",
          "Ticino Riv., Vizzola",
          "D. Baltea, Cigliano",
          "D. Baltea, Quassolo",
          "Mio Riv.",
          "Adda Riv.",
          "Ticino Riv., Carasso",
          "Toce Riv., Ornavasso",
          "Oglio Riv.",
          "Taro Riv.",
          "Jaya Mayu Riv.",
          "Stura Demonte Riv.",
          "Dora Riparia Riv.",
          "Ticino Riv., Bellinzona",
          "Vispa Riv.",
          "Ticucha Riv.",
          "Villoma Riv.",
          "Chacras Riv.",
          "Sesia Riv.",
          "Trebbia Riv.",
          "Toce Riv., Masera",
          "Susquehanna",
          "Torori Palca Riv.",
          "Bartolo Riv.",
          "Yunguillas Riv.",
          "Po Riv., Barricata",
          "Secchia Riv.",
          "Orco Riv.",
          "Scrivia Riv.",
          "Enza Riv.",
          "Varaita Riv.",
          "Belbo Riv.",
          "Bernadino Riv.",
          "Po Riv., Revello",
          "Rio Ocona",
          null,
          "Rio Santa",
          "Cannobino Riv.",
          "T. Pesconetto",
          "Craso del Gallo",
          "Rio Camana",
          null,
          null,
          null,
          null,
          null,
          "Rio Pativilca",
          null,
          null,
          null,
          null,
          null,
          null,
          null,
          "Susquehanna",
          null,
          null,
          null,
          null,
          null,
          null,
          null,
          null,
          null,
          null,
          null,
          null,
          null,
          null,
          null,
          null,
          null,
          null,
          "Rio Rimac",
          null,
          null,
          null,
          null,
          null,
          null,
          "Susquehanna",
          "Rhone Riv.",
          "Durance Riv.",
          "Isere Riv.",
          "Ceze Riv.",
          "Herault Riv.",
          "Gard Riv.",
          "Arve Riv.",
          "Tet Riv.",
          "Agly Riv.",
          "Eyrieux Riv.",
          "Tech Riv.",
          "Guiers Riv.",
          "Fier Riv.",
          "Ardeche Riv.",
          null,
          null,
          null,
          null,
          null,
          null,
          null,
          null,
          "Panj Riv.",
          "Panj Riv.",
          "Panj Riv., southern",
          "Panj Riv., southern",
          "Bartang Riv.",
          null,
          null,
          "Panj Riv., southern",
          null,
          null,
          null,
          "Vanj Riv.",
          "Panj Riv., southern",
          "Gunt Riv.",
          "Bartang Riv.",
          "Gunt Riv.",
          "Sanaga Riv.",
          "Mbam Riv.",
          "Nyong Riv.",
          "Nyong Riv.",
          "Nyong Riv.",
          "Nyong Riv.",
          "Nyong Riv.",
          "Nyong Riv.",
          "Nyong Riv.",
          "Nyong Riv.",
          "So_o Riv.",
          "Bivesse Riv.",
          "Chaliyar Riv.",
          "Awout Riv.",
          "Mengong Riv.",
          "Bharatpuzha Riv. trib.",
          "Bivesse Riv.",
          "Cauvery Riv.",
          "Cauvery Riv.",
          "Cauvery Riv.",
          "Cauvery Riv.",
          "Cauvery Riv.",
          "Bharatpuzha",
          "Chinnar Riv.",
          "Gangavali Riv.",
          "Netravati Riv.",
          "Moyar Riv.",
          "Cauvery Riv. trib.",
          "Palar Riv.",
          "Bhavani Riv. trib.",
          "Kabini Riv. trib.",
          "Netravati Riv. trib.",
          "Cauvery Riv.",
          "Bharatpuzha Riv. trib.",
          "Gangavali Riv.",
          "Netravati Riv. trib.",
          "Netravati Riv. trib.",
          "Arkavati Riv.",
          "Chaliyar Riv. trib.",
          "Chattahoochee Riv.",
          "Chaliyar Riv. trib.",
          "Roanoke Riv.",
          "Oconee Riv.",
          "Swarna Riv. trib.",
          "Moyar Riv. trib.",
          "Dan Riv.",
          "Saluda Riv.",
          "Chaliyar Riv. trib.",
          "Mahe Riv.",
          "Gurupura Riv.",
          "Chandragiri Riv. trib.",
          "Netravati Riv. trib.",
          "Bharatpuzha Riv. trib.",
          "Chattahoochee Riv.",
          "Kabini Riv.",
          "Swarna Riv. trib.",
          "Ocmulgee Riv.",
          "Ariakaduva Riv.",
          "Kabini Riv. trib.",
          "Bhavani Riv. trib.",
          "Ariakaduva Riv. trib.",
          "Cauvery Riv. trib.",
          "Bhavani Riv.",
          "Cauvery Riv. trib.",
          "Tungabhadra Riv. trib.",
          "Swarna Riv. trib.",
          "Valapattanam Riv. trib.",
          "Bharatpuzha Riv. trib.",
          "Bhavani Riv. trib.",
          "Netravati Riv. trib.",
          "Chaliyar Riv. trib.",
          "Netravati Riv. trib.",
          "Swarna Riv. trib.",
          "Cauvery Riv. trib.",
          "Agnashini Riv.",
          "Savannah Riv.",
          "Roanoke Riv.",
          "Chandragiri Riv.",
          "Tungabhadra Riv. trib.",
          "Chaliyar Riv. trib.",
          "Moyar Riv. trib.",
          "Bhavani Riv. trib.",
          "Bharatpuzha Riv. trib.",
          "Chaliyar Riv. trib.",
          "Valapattanam Riv. trib.",
          "Valapattanam Riv. trib.",
          "Swarna Riv.",
          "Kabini Riv. trib.",
          "Chandragiri Riv. trib.",
          "Esla Riv.",
          "Esla Riv.",
          "Kuttiyadi Riv. trib.",
          "Cauvery Riv. trib.",
          "Valapattanam Riv. trib.",
          "Swarna Riv. trib.",
          "Kuttiyadi Riv. trib.",
          "Hemavati Riv.",
          "Cauvery Riv. trib.",
          "Tungabhadra Riv. trib.",
          "Allier Riv.",
          "Esla Riv.",
          "Kuttiyadi Riv. trib.",
          "Sita Riv. trib.",
          "Bhavani Riv. trib.",
          "Mahe Riv.",
          "Valapattanam Riv. trib.",
          "Esla Riv.",
          "Kuttiyadi Riv. trib.",
          "Vltava Riv.",
          "Guadalquivir Riv.",
          "Vltava Riv.",
          "Vltava Riv.",
          "Guadalquivir Riv.",
          "Guadalquivir Riv.",
          "Guadalquivir Riv.",
          "Vltava Riv.",
          "Allier Riv.",
          "Allier Riv.",
          "Allier Riv.",
          "Trinity Riv.",
          "Brazos",
          "Colorado Riv.",
          "Colorado Riv.",
          "Pee Dee Riv.",
          "Savannah Riv.",
          "Wateree Riv.",
          "Neuse Riv.",
          "Oconee Riv.",
          "Pee Dee Riv.",
          "Saluda Riv.",
          "Saluda Riv.",
          "Roanoke Riv.",
          "Dan Riv.",
          "Chattahoochee Riv.",
          "Susquehanna",
          "Susquehanna",
          "Wateree Riv.",
          "Savannah Riv.",
          "Chattahoochee Riv.",
          "Susquehanna",
          "Susquehanna",
          "Neuse Riv.",
          "Susquehanna",
          "Susquehanna",
          "Susquehanna",
          "Susquehanna",
          "Susquehanna",
          "Susquehanna",
          "Susquehanna",
          "Susquehanna",
          "Susquehanna",
          "Susquehanna",
          "Susquehanna",
          "Susquehanna",
          "Susquehanna",
          "Susquehanna",
          "Susquehanna",
          "Susquehanna",
          "Susquehanna",
          "Susquehanna",
          "Susquehanna",
          "Arun tributary",
          "Susquehanna",
          "Susquehanna",
          "Susquehanna",
          "Susquehanna",
          "Susquehanna",
          "Susquehanna",
          "Susquehanna",
          "Susquehanna",
          "Susquehanna",
          "Susquehanna",
          "Susquehanna",
          "Susquehanna",
          "Susquehanna",
          "Susquehanna",
          "Susquehanna",
          "Sub Kosi",
          "Susquehanna",
          "Susquehanna",
          "Susquehanna",
          "Susquehanna",
          "Susquehanna",
          "Susquehanna",
          "Susquehanna",
          "Susquehanna",
          "Susquehanna",
          "Susquehanna",
          "Susquehanna",
          "Susquehanna",
          "Susquehanna",
          "Susquehanna",
          "Susquehanna",
          "Susquehanna",
          "Susquehanna",
          "Susquehanna",
          "Susquehanna",
          "Susquehanna",
          "Tamor",
          "Susquehanna",
          "Susquehanna",
          "Susquehanna",
          "Susquehanna",
          "Susquehanna",
          "Arun tributary",
          "Susquehanna",
          "Susquehanna",
          "Susquehanna",
          "Susquehanna",
          "Susquehanna",
          "Susquehanna",
          "Susquehanna",
          "Susquehanna",
          "Susquehanna",
          "Susquehanna",
          "Susquehanna",
          "Susquehanna",
          "Susquehanna",
          "Susquehanna",
          "Susquehanna",
          "Susquehanna",
          "Susquehanna",
          "Susquehanna",
          "Susquehanna",
          "Susquehanna",
          "Susquehanna",
          "Arun",
          "Arun",
          "Arun",
          "Arun",
          "Arun",
          "Arun",
          "Arun",
          "Arun tributary",
          "Arun tributary",
          "Arun tributary",
          "Arun tributary",
          "Arun tributary",
          "Teno",
          "Arun tributary",
          "Choapa",
          "Choapa",
          "Maipo",
          "Arun tributary",
          "San Andres",
          "Choapa",
          "Huasco",
          "Arun tributary",
          "Elqui",
          "Elqui",
          "Huasco",
          "Arun tributary",
          "Maule",
          "Cachapoal",
          "Aconcagua",
          "Arun tributary",
          "Choapa",
          "Arun tributary",
          "Arun tributary",
          "Arun tributary",
          "Arun tributary",
          "Lontue",
          "Tingirririca",
          "Illapel",
          "Arun tributary",
          "Arun tributary",
          "Arun tributary",
          "Arun tributary",
          "Arun tributary",
          "Arun tributary",
          "Arun tributary",
          "Arun tributary",
          "Arun tributary",
          "Huasco",
          "Huasco",
          "Hurtado",
          null,
          null,
          null,
          null,
          null,
          null,
          null,
          null,
          null,
          null,
          null,
          null,
          null,
          null,
          "Rio Juramento",
          "Rio Calchaquies",
          "Rio Santa Maria",
          "Rio Grande",
          "Rio Grande",
          null,
          "Rio San Lorenzo",
          "Rio Sali",
          "Rio San Bernardo de las Zorras",
          "Rio Calchaquies",
          "Rio Ledesma",
          "Rio Luracatao",
          "Rio Tacuil",
          "Rio Toro",
          "Rio Yacoraite",
          "Iturbe",
          "Rio Wierna",
          "Rio Alumbrera",
          "Rio Toro",
          "Quebrada de Escoipe",
          "Quebrada de Escoipe",
          "Rio Lavina",
          "Rio Blanco",
          "Rio Aimacha",
          "Rio Lavina",
          "Rio Cachuma",
          "Quebrada Incamayo",
          "Rio Caldera",
          "Rio de las Conchas",
          "Dadu",
          "Yalong",
          "Rio Potrero",
          "Rio Sta Victoria",
          "Quebrada Lampazar",
          "Rio Vaqueros",
          null,
          "Rio Iruya",
          "Rio Famailla",
          "Rio Afluente",
          "Yalong",
          "Rio Susa",
          "Yalong",
          "Rio Salinas",
          "A del Medio",
          null,
          "Rio San Antonio",
          "Salinas Grandes",
          "Min",
          "Circle End Crk.",
          "Dadu",
          "Silver Crk.",
          null,
          "Yalong",
          null,
          "Dadu",
          "Horse Crk.",
          "Yalong",
          "Yalong",
          "Dadu",
          "Silver Crk.",
          "Dadu",
          "Horse Crk.",
          "Dadu",
          "Horse Crk.",
          "Yalong",
          "Yalong",
          "Dadu",
          "Selway",
          "Lochsa",
          "Clearwater",
          "Yalong",
          "Horse Crk.",
          "Yalong",
          "Tailholt Crk.",
          "Yalong",
          "Circle End Crk.",
          "Yalong",
          "Circle End Crk.",
          null,
          "Yalong",
          "Tailholt Crk.",
          null,
          "Dadu",
          "Dadu",
          "Yalong",
          "Silver Crk.",
          null,
          "Yalong",
          "Tailholt Crk.",
          "Horse Crk.",
          "Dadu",
          "Min",
          "Dadu",
          "Yalong",
          null,
          "Yalong",
          "Dadu",
          "Yalong",
          "Anning",
          "Dadu",
          "Dadu",
          "Dadu",
          "Dadu",
          "Dadu",
          "Dadu",
          "Dadu",
          "Dadu",
          "Yalong",
          "Dadu",
          "Dadu",
          "Dadu",
          "Yalong",
          "Min",
          "Yalong",
          "Dadu",
          "Dadu",
          "Yalong",
          "Dadu",
          "Dadu",
          "Dadu",
          "Yalong",
          "Dadu",
          "Dadu",
          "Yalong",
          "Min",
          "Horse Crk.",
          "Dadu",
          "Dadu",
          "Tailholt Crk.",
          "Min",
          "Dadu",
          "Dadu",
          "Dadu",
          "Dadu",
          "Dadu",
          "Salmon",
          "Johns Crk.",
          null,
          "Red",
          "Horse Crk.",
          "Silver Crk.",
          "Red",
          "Silver Crk.",
          null,
          "Trapper Crk.",
          "Horse Crk.",
          "Horse Crk.",
          "Horse Crk.",
          "Silver Crk.",
          "Horse Crk.",
          null,
          null,
          null,
          null,
          null,
          null,
          null,
          null,
          null,
          null,
          null,
          null,
          null,
          null,
          null,
          null,
          null,
          null,
          null,
          null,
          null,
          null,
          null,
          null,
          null,
          null,
          null,
          null,
          null,
          null,
          null,
          null,
          null,
          null,
          null,
          null,
          null,
          null,
          null,
          null,
          null,
          null,
          null,
          null,
          null,
          null,
          null,
          null,
          null,
          null,
          null,
          null,
          null,
          null,
          null,
          null,
          null,
          null,
          null,
          null,
          "Kuiseb",
          null,
          null,
          null,
          null,
          "San Juan",
          "Ugab",
          "Las Minas",
          "Gallegos",
          "Brazo Sur",
          "Coyle",
          "Santa Cruz",
          "La Leona",
          "Paine",
          null,
          "Omaruru",
          null,
          "Gaub",
          "Sogamoso Riv.",
          "Sogamoso Riv.",
          "Sogamoso Riv.",
          "Guayuriba Riv.",
          "Sogamoso Riv.",
          "Guayuriba Riv.",
          "Turmeque Riv.",
          "Suarez Riv.",
          "Guayuriba Riv.",
          "Turmeque Riv.",
          "Guayuriba Riv.",
          "Turmeque Riv.",
          "Bhudi Gandaki",
          "Trishuli Riv.",
          "Trishuli Riv.",
          "Bhudi Gandaki",
          "Trishuli Riv.",
          "Guayuriba Riv.",
          "Turmeque Riv.",
          "Traka Riv.",
          "Olifants Riv.",
          "Suarez Riv.",
          "Keurbooms Riv.",
          "Keurbooms Riv.",
          "Marshyangdi",
          "Guayuriba Riv.",
          "Tama Koshi",
          "Sunkoshi",
          "Bhote Koshi",
          "Tati",
          "Bogota Riv.",
          "Lothar Khola",
          "Chilime Khola",
          "Phalakhu Khola",
          "Bogota Riv.",
          null,
          null,
          null,
          "Bogota Riv.",
          null,
          null,
          null,
          null,
          "Santa Maria Riv.",
          "Guayuriba Riv.",
          null,
          null,
          "Bogota Riv.",
          "Ganges",
          "Ganges",
          "Alaknanda",
          "Bhagirathi",
          "Alaknanda",
          "Bogota Riv.",
          "Baviaanskloof Riv.",
          "Turmeque Riv.",
          null,
          null,
          "Grool Riv.",
          "Kouga Riv.",
          "Krom Riv.",
          "Trishuli Riv.",
          "Trishuli Riv.",
          "Trishuli Riv.",
          "Trishuli Riv.",
          "Jhikhu Khola",
          null,
          "Yarsha Khola",
          null,
          null,
          null,
          null,
          null,
          "Samari Khola",
          null,
          null,
          null,
          "Trishuli Khola",
          null,
          "Changuanolo Riv.",
          "San Pablo Riv.",
          "Bamdang Khola",
          null,
          null,
          null,
          null,
          null,
          null,
          "Phenglung Khola",
          null,
          null,
          null,
          "Phenglung Khola",
          "Arkhet Khola",
          null,
          null,
          null,
          null,
          null,
          "Alaknanda",
          null,
          null,
          null,
          "Tabasar Riv.",
          null,
          "Quiquibey",
          null,
          "Saddle stream",
          null,
          null,
          "Inicua",
          null,
          null,
          null,
          "Saipuru",
          null,
          null,
          null,
          null,
          null,
          null,
          "Puerco",
          null,
          null,
          "Niwot Ridge talus",
          null,
          null,
          null,
          null,
          null,
          null,
          null,
          null,
          null,
          null,
          null,
          null,
          "Gordon Golch, lower",
          null,
          null,
          null,
          null,
          null,
          null,
          null,
          null,
          null,
          null,
          null,
          null,
          null,
          null,
          null,
          null,
          null,
          null,
          null,
          null,
          "Boulder Crk. trib.",
          null,
          null,
          "Boulder Crk. trib.",
          "Puerco",
          null,
          null,
          null,
          null,
          null,
          null,
          null,
          null,
          null,
          "Chagres",
          null,
          "Corotu Riv.",
          null,
          null,
          null,
          null,
          "Cobre Riv.",
          "Boulder Crk. trib.",
          "Indio Riv.",
          "Puerco",
          "Chico Riv.",
          "Guarumo Riv.",
          "Pequini",
          "Vigui Riv.",
          "Caimito Riv.",
          "Mandingo Riv.",
          "Pacora Riv.",
          "Government Slide",
          "Felix Riv.",
          "Diablo Riv.",
          "Chame Riv.",
          "San Miguel Riv.",
          "Pequini Riv.",
          "Rohalo Riv.",
          "Cuango",
          "Chiriqui Viejo Riv.",
          "Puerco",
          "Cuango Riv.",
          "Pequini",
          "Carti Grande Riv.",
          "Boqueron Riv.",
          "Puerco",
          "Anton Riv.",
          "La Gloria Riv.",
          "Puerco",
          "Perequite Riv.",
          "Bartolo Riv.",
          "North Crow Crk.",
          "Nombre de Dios Riv.",
          "Chagres Riv.",
          "Guanabano Riv.",
          "Nombre de Dios",
          "Guias Riv.",
          "Culebra Riv.",
          "Capira Riv.",
          "San Cristobal Riv.",
          "Chagres",
          "Sajlices Riv.",
          "Boulder Crk. trib.",
          "Willow Crk. trib",
          "Middle Bear Crk.",
          "Stinking Crk.",
          "Agate Crk.",
          "Braidon (Bratten) Crk.",
          "South Scotts Bluff",
          "South Bridgeport",
          "Medicine Bow Peak #2",
          "Heather Crk.",
          "Muddy Crk.",
          "Pawnee National Grasslands",
          "Jimmy Crk.",
          "Skull Crk.",
          "Puerco",
          "Floyd Crk.",
          "Young Gulch",
          "Spring Crk. #1",
          "Spring Crk. #2",
          "Lost Crk.",
          "Long Gulch",
          "Lake Catamount",
          "Lily Mtn",
          "Lily Mtn area",
          "Willow Crk.",
          "Little Thompson Riv. trib.",
          "SawmillTrib. Gulch, Willow Cr.",
          "Deadman Gulch",
          "Pole Crk.",
          "Puerco",
          "Lawson Crk.",
          "Ironclad Gulch",
          "Todd Crk.",
          "Niwot Ridge stream",
          "Martinelli stream",
          "Long Gulch",
          "Spring Crk., trib.Beaver",
          "Arkansas Crk. trib.gulch,Fourmile",
          "Fourmile trib; from Sugarloaf",
          "Arapaho moraine",
          "Puerco",
          "Williams Crk.",
          "Calhoun Gulch",
          "Boulder Crk. trib.",
          "Pole Crk. #2",
          "Forsythe Crk.",
          "Puerco",
          "Tungsten Gulch",
          "Eldora moraines",
          "Deer Crk.",
          "Puerco",
          "Cottonwood Gulch",
          "Elk Crk.",
          "Ironclads",
          "Arikaree talus",
          "Gordon Golch, upper",
          "Boulder Crk. trib.",
          "Guinn Mtn.",
          "Kenya Rift, central",
          "Kenya Rift, central",
          "Kenya Rift, northern",
          "Kenya Rift, southern",
          "Kenya Rift, northern",
          "Kenya Rift, northern",
          "Kenya Rift, southern",
          "Puerco",
          "Kenya Rift, northern",
          "Kenya Rift, central",
          "Kenya Rift, southern",
          "Kenya Rift, central",
          "Kenya Rift, northern",
          "Kenya Rift, northern",
          "Kenya Rift, northern",
          "Kenya Rift, central",
          "Kenya Rift, central",
          "Kenya Rift, central",
          "Banado",
          "Quiquibey",
          "Kenya Rift, central",
          "Kenya Rift, central",
          "Kenya Rift, central",
          "Parapeti",
          "Azero",
          "Azero",
          "Nancahuazu",
          "Cachu Mayu",
          "Charagua",
          "Charagua",
          "Zapaltar",
          "Iviyeca",
          "Yucumo",
          "Canas",
          "Puerco",
          "Puerco",
          "Saladille",
          "Canas",
          "Puerco",
          "Pequende",
          "Pequende",
          "Bateon",
          "El Chaleno",
          "Puerco",
          "Puerco",
          "Puerco",
          "Puerco",
          "Puerco",
          "Puerco",
          "Puerco",
          "Puerco",
          "Puerco",
          "Puerco",
          "Puerco",
          "Puerco",
          "Puerco",
          "Puerco",
          "Puerco",
          "Puerco",
          "Puerco",
          "Puerco",
          "Puerco",
          "Puerco",
          "Puerco",
          "Puerco",
          "Songpan Ganzi",
          "Songpan Ganzi",
          "Songpan Ganzi",
          "Songpan Ganzi",
          "Songpan Ganzi",
          "Songpan Ganzi",
          "Songpan Ganzi",
          "Songpan Ganzi",
          "Melezza",
          "Songpan Ganzi",
          "Songpan Ganzi",
          "Songpan Ganzi",
          "Songpan Ganzi",
          "Songpan Ganzi",
          "Songpan Ganzi",
          "Songpan Ganzi",
          "Songpan Ganzi",
          "Songpan Ganzi",
          "Songpan Ganzi",
          "Songpan Ganzi",
          "Songpan Ganzi",
          "Sense",
          "Songpan Ganzi",
          "Songpan Ganzi",
          "Songpan Ganzi",
          "Songpan Ganzi",
          "Songpan Ganzi",
          "Songpan Ganzi",
          "Songpan Ganzi",
          "Songpan Ganzi",
          "Songpan Ganzi",
          "Songpan Ganzi",
          "Songpan Ganzi",
          "Songpan Ganzi",
          "Upper Indus",
          "Chietalbach",
          "Songpan Ganzi",
          "Upper Indus",
          "Las Gallegas",
          "Upper Indus",
          "Upper Indus",
          "Upper Indus",
          "Upper Indus",
          "Upper Indus",
          "Yapatera",
          "Upper Indus",
          "Upper Indus",
          "Upper Indus",
          "Upper Indus",
          "Upper Indus",
          "Upper Indus",
          "Upper Indus",
          "Piura",
          "Piura",
          "Piura",
          "Upper Indus",
          "Upper Indus",
          "Upper Indus",
          "Piura",
          "Yapatera",
          "Yapatera",
          "Yapatera",
          "Upper Indus",
          "Las Gallegas",
          "Maggia",
          "Upper Indus",
          "Maggia",
          "Upper Indus",
          "Upper Indus",
          "Upper Indus",
          "Centovalli",
          "Upper Indus",
          "Yapatera",
          "Upper Indus",
          "Yapatera",
          "Lonza",
          "Upper Indus",
          "Yapatera",
          "Las Gallegas",
          "Upper Indus",
          "Upper Indus",
          "Las Gallegas",
          "Upper Indus",
          "Las Gallegas",
          "Upper Indus",
          null,
          "Upper Indus",
          "Yapatera",
          "Puna Tsang Chu",
          "Upper Indus",
          "Upper Indus",
          "Las Gallegas",
          "Puna Tsang Chu",
          "Upper Indus",
          "Las Gallegas",
          "Yapatera",
          "Puna Tsang Chu",
          "Puna Tsang Chu",
          "Las Gallegas",
          "Yapatera",
          "Puna Tsang Chu",
          "Puna Tsang Chu",
          null,
          "Las Gallegas",
          "Las Gallegas",
          "Yapatera",
          "Puna Tsang Chu",
          null,
          null,
          null,
          null,
          "Puna Tsang Chu",
          null,
          null,
          null,
          null,
          null,
          null,
          null,
          null,
          "Puna Tsang Chu",
          null,
          null,
          null,
          null,
          null,
          null,
          null,
          null,
          null,
          null,
          null,
          null,
          null,
          null,
          null,
          null,
          null,
          null,
          "Melezza",
          null,
          null,
          null,
          null,
          null,
          null,
          "Melezza",
          "Anza",
          null,
          null,
          null,
          null,
          null,
          null,
          null,
          null,
          "Verzasca",
          "Verzasca",
          null,
          "Emme",
          "Reuss",
          "Reuss",
          "Sesia",
          "Maggia",
          "Maggia",
          "Kleine Emme",
          "Kleine Emme",
          "Toce",
          "Toce",
          "Ticino",
          "Ticino",
          "Maggia",
          null,
          null,
          "Maggia",
          "Puna Tsang Chu",
          "Tafersbach",
          "Choshui Riv.",
          "Choshui Riv.",
          "Maggia",
          "Liechtguetbach",
          "Furkareuss",
          "Maggia",
          "Buetschelback",
          "Liechtguetbach",
          "Puna Tsang Chu",
          "Puna Tsang Chu",
          "Maggia",
          "Maggia",
          "Puna Tsang Chu",
          "Puna Tsang Chu",
          "Puna Tsang Chu",
          "Buetschelback",
          "Maggia",
          "Milibach",
          "Puna Tsang Chu",
          "Puna Tsang Chu",
          "Wu Riv.",
          "Puna Tsang Chu",
          "Tajia Riv.",
          "Puna Tsang Chu",
          "Puna Tsang Chu",
          "Puna Tsang Chu",
          "Puna Tsang Chu",
          "Hsinwulu Riv.",
          "Puna Tsang Chu",
          "Puna Tsang Chu",
          "Hsinwulu Riv.",
          "Puna Tsang Chu",
          "Puna Tsang Chu",
          "Puna Tsang Chu",
          "Puna Tsang Chu",
          "Laonong Riv.",
          "Puna Tsang Chu",
          "Puna Tsang Chu",
          "Puna Tsang Chu",
          "Puna Tsang Chu",
          "Puna Tsang Chu",
          "Puna Tsang Chu",
          "Puna Tsang Chu",
          "Puna Tsang Chu",
          "Puna Tsang Chu",
          "Puna Tsang Chu",
          "Puna Tsang Chu",
          "Puna Tsang Chu",
          "Puna Tsang Chu",
          "Huasco Valley",
          "Huasco Valley",
          "Puna Tsang Chu",
          "Puna Tsang Chu",
          "Puna Tsang Chu",
          "Puna Tsang Chu",
          "Puna Tsang Chu",
          "Puna Tsang Chu",
          "Puna Tsang Chu",
          "Puna Tsang Chu",
          "Koralpe Mts.",
          "Koralpe Mts.",
          "Murz Valley",
          "Murz Valley",
          "Huasco Valley",
          "Murz Valley",
          "Huasco Valley",
          null,
          "Seckauer Tauern Mts.",
          "Murz Valley",
          "Seckauer Tauern Mts.",
          "Koralpe Mts.",
          "Seckauer Tauern Mts.",
          null,
          null,
          "Seckauer Tauern Mts.",
          "Schladminger Tauern Mts.",
          "Whole Reno basin",
          null,
          "Schladminger Tauern Mts.",
          "Schladminger Tauern Mts.",
          "Reno Riv., Fontana",
          null,
          "Schladminger Tauern Mts.",
          "Seckauer Tauern Mts.",
          null,
          null,
          "Gleinalpe Mts.",
          "Styrian Basin",
          "Visano Riv., Palazzuolo",
          "Koralpe Mts.",
          "Hsinwulu Riv.",
          "Styrian Basin",
          "Koralpe Mts.",
          "Min Jiang Riv.",
          "Pohorje",
          "Pohorje",
          "Trionto east of Acri",
          "Gleinalpe Mts.",
          "Gleinalpe Mts.",
          "Min Jiang Riv.",
          "Koralpe Mts.",
          "Pohorje",
          null,
          "Koralpe Mts.",
          "Pohorje",
          null,
          null,
          "Spina di Asino Riv., Capp. Niello",
          null,
          null,
          "Choshui Riv.",
          "Choshui Riv.",
          "Choshui Riv.",
          "Heping Riv.",
          "Wu Riv.",
          "Luyeh Riv.",
          "Min Jiang Riv.",
          "Luyeh Riv.",
          "Min Jiang Riv.",
          "Liwu Riv.",
          "Marsyandi",
          "Luyeh Riv.",
          "Foresta Riv., Magisano",
          "Tajia Riv.",
          "Marsyandi",
          "Tajia Riv.",
          "Marsyandi",
          "Mugua Riv.",
          "Trionto tributary Riv., Serra San angelo",
          "Mugua Riv.",
          "Lese Riv., Vivaio",
          "Wu Riv.",
          "Rangit",
          "Tista",
          "Wu Riv.",
          null,
          "Hsinwulu Riv.",
          "Tista",
          "Zemu",
          "Hsinwulu Riv.",
          null,
          "Hsinwulu Riv.",
          "Mugua Riv.",
          "Liwu Riv.",
          "Wu Riv.",
          "Liwu Riv.",
          "Liwu Riv.",
          "Tajia Riv.",
          "Tajia Riv.",
          "Lachung",
          "Laonong Riv.",
          "Wu Riv.",
          null,
          null,
          null,
          null,
          null,
          null,
          "Southern Mpanga",
          null,
          null,
          "Nyamagasani",
          "Marsyandi",
          null,
          null,
          "Weiyuan",
          null,
          null,
          null,
          "Nankai",
          "Weiyuan",
          "Weiyuan",
          null,
          null,
          null,
          "Weiyuan",
          null,
          null,
          null,
          "Nar",
          null,
          null,
          "Huasco Valley",
          null,
          null,
          "Huasco Valley",
          "Huasco Valley",
          "Huasco Valley",
          "Setta Riv., Piccolo Paradiso",
          "Marsyandi",
          "Sambro Riv., Rioveggio",
          "Senio Riv., Palazzuolo",
          "Lese Riv., Acerenti",
          "San Pasquale Riv., Palizzi",
          "Montone Riv., Davadola",
          "Darondi",
          "Lamone Riv., San Eufemia",
          "San Pasquale Riv., Palizzi",
          "Reno Riv., Poretta Terme",
          "Ortiano Riv., Puntadora",
          "Senio Riv., Casola Valsenio",
          "Laurenzana Riv., Mt. Colonia",
          "Senio Riv., Casola Valsenio",
          "Laurenzana Riv., Mt. Colonia",
          "Laurenzana Riv., Bocchigliero",
          "Trionto Riv., Puntadura",
          "Simeri Riv., Vincolise",
          "Pagliara Riv., Pagliara",
          "Torno Riv., Bruzzano Zeffirio",
          "Lamone Riv., Biforco",
          "Alli Riv., Taverna",
          "Simeri tributary Riv., Zagarise",
          "Trionto Riv., Serra San angelo",
          "Crocchio Riv., Cuturella",
          "Darondi",
          "Limentra di Samb Riv., Taviano",
          "Crocchi Riv., Cerva",
          "Cino Riv., Serra Castagna",
          "Lepre Riv., Bagni de Repole",
          "Fiumedinisi Riv., Nizza di Sicilia",
          "San Elia Riv., Pentedatillo",
          "Marsyandi",
          "Limetrella di Treppio Riv., Treppio",
          "Montone Riv., San Benedetto",
          "Alli above Lake Passante",
          "Tacina Riv., Monte Gariglione",
          "Tista",
          "Talong",
          "Rang Rang",
          null,
          "Rangpo",
          "Dura",
          "Wasa",
          "Northern Mpanga",
          "Ruimi",
          "Mubuku",
          "Lubilia",
          "Nyamwamba",
          "Dudh",
          "Dordi",
          "Rutoba",
          "Chepe",
          "Isebo",
          "Nyadi",
          "Upper Lubilia",
          "Chudi",
          "Takase Riv.",
          "Rugo",
          "Dunga",
          "Pardo Pequeno",
          "Tomioka Riv.",
          "Mahoma",
          "Humiya",
          "Nankai",
          "Sempaya",
          "Itojo",
          "Weiyuan",
          "Weiyuan",
          "Weiyuan",
          "Weiyuan",
          "Weiyuan",
          "Nankai",
          "Weiyuan",
          "Weiyuan",
          "Weiyuan",
          "Weiyuan",
          "Weiyuan",
          "Weiyuan",
          "Weiyuan",
          "Yongchun",
          "Nankai",
          "Weiyuan",
          "Ide Riv.",
          "Nankai",
          "Weiyuan",
          "Nankai",
          "Weiyuan",
          "Yongchun",
          "Weiyuan",
          "Yongchun",
          "Nankai",
          "Nankai",
          "Nankai",
          "Yongchun",
          "Weiyuan",
          "Weiyuan",
          "Yongchun",
          "Yongchun",
          "Nankai",
          "Yongchun",
          "Yongchun",
          "Weiyuan",
          null,
          "Yongchun",
          "Nankai",
          "Yongchun",
          "Nankai",
          null,
          "Nankai",
          "Nankai",
          "Nankai",
          "Yongchun",
          "Yongchun",
          null,
          "Weiyuan",
          "Yongchun",
          null,
          null,
          null,
          "Mohne",
          null,
          null,
          null,
          null,
          null,
          null,
          null,
          null,
          null,
          "Sutlej Riv.",
          "Sutlej Riv.",
          "Sutlej Riv.",
          "Sutlej Riv.",
          "Sutlej Riv.",
          null,
          "Sutlej Riv.",
          "Sutlej Riv.",
          "Sutlej Riv.",
          null,
          "Sutlej Riv.",
          "Sutlej Riv.",
          "Tons Tributaries",
          null,
          "Sutlej Riv.",
          "Sutlej Riv.",
          null,
          "Sutlej Riv.",
          "Yamuna Catchment",
          "Yamuna Catchment",
          "Yamuna Catchment",
          "Yamuna Catchment",
          "Yamuna Catchment",
          "Tons Tributaries",
          "Yamuna Catchment",
          "Ikopa",
          "Tons Tributaries",
          null,
          "Pabbar Tributaries",
          "Yamuna Tributaries",
          "Onibe",
          "Yamuna Tributaries",
          "Tons Tributaries",
          "Yamuna Tributaries",
          "Yamuna Tributaries",
          "Pabbar Tributaries",
          "Yamuna Tributaries",
          null,
          null,
          "Tons Tributaries",
          "Yamuna Tributaries",
          "Yamuna Tributaries",
          "Pabbar Tributaries",
          "Yamuna Tributaries",
          "Tons Tributaries",
          "Yamuna Tributaries",
          "Tons Tributaries",
          null,
          "Min Jiang Riv.",
          null,
          "Min Jiang Riv.",
          null,
          null,
          "Min Jiang Riv.",
          "Min Jiang Riv.",
          "Min Jiang Riv.",
          "Min Jiang Riv.",
          "Min Jiang Riv.",
          "Marsyandi",
          "Marsyandi",
          "Marsyandi",
          "Marsyandi",
          "Marsyandi",
          "Marsyandi",
          "Marsyandi",
          "Marsyandi",
          "Marsyandi",
          "Marsyandi",
          "Khudi",
          "Dona",
          "Paudi",
          "Jequitinhonha",
          "Pardo Grande",
          "Cipo",
          "Preto de Cima",
          "Guil",
          "Peixe",
          "Mascates",
          "Jequitinhonha",
          "Bandeirinhas",
          null,
          "Bocaina",
          "Guil",
          "Pedras",
          "Guil",
          "Tijucal",
          null,
          "Bocaina",
          null,
          "Capivara",
          "Canudos",
          "Tanque",
          "Pasmar",
          "Preto",
          "Areia",
          "Mohne",
          "Mata Cavalos",
          "Paute Riv.",
          "Congonhas",
          "Paute Riv.",
          "Indequice",
          "Picao",
          "Lavrinha",
          "Santana",
          "Begonias",
          "Con?ns",
          "Paute Riv.",
          null,
          "Paute Riv.",
          "Paute Riv.",
          null,
          "Paute Riv.",
          "Paute Riv.",
          "Paute Riv.",
          "Paute Riv.",
          "Paute Riv.",
          "Paute Riv.",
          "Paute Riv.",
          "Paute Riv.",
          null,
          "Paute Riv.",
          "Paute Riv.",
          "Paute Riv.",
          "Paute Riv.",
          "Paute Riv.",
          "Paute Riv.",
          "Paute Riv.",
          null,
          "Paute Riv.",
          "Paute Riv.",
          "Paute Riv.",
          "Paute Riv.",
          "Paute Riv.",
          "Paute Riv.",
          "Paute Riv.",
          "Paute Riv.",
          "Paute Riv.",
          "Paute Riv.",
          "Paute Riv.",
          "Paute Riv.",
          "Paute Riv.",
          "Paute Riv.",
          null,
          "Paute Riv.",
          "Paute Riv.",
          null,
          "Paute Riv.",
          "Paute Riv.",
          "Paute Riv.",
          null,
          null,
          null,
          null,
          "Mohne",
          null,
          null,
          "San Gregorio Crk.",
          null,
          null,
          null,
          null,
          null,
          null,
          null,
          null,
          null,
          null,
          null,
          null,
          null,
          null,
          null,
          null,
          "San Lorenzo Riv.",
          null,
          null,
          null,
          null,
          null,
          null,
          null,
          null,
          null,
          null,
          null,
          null,
          null,
          null,
          null,
          null,
          null,
          null,
          null,
          null,
          null,
          null,
          null,
          null,
          null,
          null,
          null,
          null,
          null,
          null,
          null,
          null,
          "Ruisseau le Remous",
          null,
          "Torrent le Doron de Champagny",
          null,
          "L Arc",
          "Ruisseau de la Balme",
          "Torrent le Ponturin",
          "Ruisseau de la Freche",
          "Torrent le Ponturin",
          "Torrent du Pussy",
          "Torrent le Veyton",
          "Torrent le Bens",
          "Torrent de la Gruvaz",
          "Lluta",
          "Lluta",
          "Lluta",
          "Lluta",
          "Lluta",
          "Lluta",
          "Lluta",
          "Lluta",
          "Waddell Crk.",
          null,
          null,
          null,
          null,
          null,
          null,
          null,
          null,
          null,
          null,
          null,
          null,
          null,
          null,
          null,
          "Rio Cacatu",
          null,
          null,
          null,
          null,
          null,
          null,
          null,
          null,
          null,
          null,
          "Rapid Crk.",
          null,
          null,
          null,
          null,
          null,
          "Whataroa Riv.",
          "Docherty Crk.",
          "Fox Riv.",
          null,
          "Hokitika Riv.",
          "Whataroa Riv.",
          "Karangaru Riv.",
          "Purmamarca Riv.",
          null,
          null,
          null,
          "Nwaswitshaka",
          null,
          null,
          null,
          null,
          "Haragama",
          "Nilambe",
          null,
          null,
          null,
          "Minipe",
          "Victoria",
          "Peradeniya",
          "Rio Bonito",
          "Uma",
          "Atabage",
          "Belihul",
          "Huluganga",
          "Maha",
          "Rio do Nunes",
          "Uma",
          "Belihul",
          "Huluganga",
          null,
          "Uma",
          "Atabage",
          "Maha",
          "Nilambe",
          "Maha",
          null,
          "Tilcara Riv.",
          "Tilcara Riv.",
          null,
          "Tilcara Riv.",
          "Tilcara Riv.",
          "Tilcara Riv.",
          "Rio Sao Joao",
          "Tilcara Riv.",
          "Huacalera Riv.",
          "Wutach",
          "Huacalera Riv.",
          "Tumbaya Riv.",
          "Tumbaya Riv.",
          "Tumbaya Riv.",
          null,
          "Tumbaya Riv.",
          "Tumbaya Riv.",
          null,
          "Purmamarca Riv.",
          "Purmamarca Riv.",
          "Purmamarca Riv.",
          null,
          "Purmamarca Riv.",
          "Yacoraite Riv.",
          "Yacoraite Riv.",
          "Yacoraite Riv.",
          "Romanche",
          "Drac",
          "Veneon",
          "Bonne",
          "Romanche",
          "Severaisse",
          "Bonne",
          "Gyr",
          "Roizonne",
          "Uttarakhand",
          "Saint Pierre",
          "Uttarakhand",
          "Celse Niere",
          "Tabuc",
          null,
          "Uttarakhand",
          "Uttarakhand",
          "Uttarakhand",
          "Uttarakhand",
          "Uttarakhand",
          "Uttarakhand",
          "Uttarakhand",
          null,
          "Uttarakhand",
          null,
          "Uttarakhand",
          "Uttarakhand",
          "Uttarakhand",
          null,
          null,
          null,
          null,
          null,
          null,
          null,
          null,
          null,
          null,
          null,
          null,
          null,
          null,
          null,
          null,
          null,
          null,
          null,
          null,
          null,
          null,
          null,
          null,
          null,
          null,
          null,
          null,
          null,
          null,
          null,
          null,
          "Caspar Crk.",
          null,
          null,
          null,
          null,
          null,
          null,
          null,
          null,
          null,
          null,
          null,
          null,
          null,
          null,
          null,
          null,
          null,
          null,
          null,
          null,
          null,
          null,
          null,
          "Rhone Riv., lower",
          null,
          null,
          null,
          null,
          null,
          null,
          null,
          null,
          "Siloweni Riv.",
          null,
          null,
          null,
          null,
          "Rhone Riv., lower",
          null,
          null,
          null,
          null,
          "Zielbach catchment",
          null,
          null,
          "Oconaluftee",
          null,
          null,
          "Wutach",
          null,
          null,
          "Ledge Crk.",
          null,
          null,
          null,
          null,
          null,
          null,
          null,
          null,
          null,
          null,
          null,
          null,
          null,
          null,
          null,
          null,
          null,
          null,
          "Zielbach catchment",
          "Nhlanganini Riv.",
          null,
          null,
          null,
          "Ledge Crk.",
          null,
          null,
          null,
          null,
          "Newu Riv.",
          null,
          null,
          null,
          null,
          null,
          null,
          null,
          "Little",
          null,
          null,
          null,
          null,
          null,
          "Motueka Riv.",
          "Little",
          "Baragoi Riv.",
          "Motueka Riv.",
          "Little",
          "Motueka Riv.",
          "Motueka Riv.",
          "Motueka Riv.",
          "Motueka Riv.",
          "Straight Fork",
          "Motueka Riv.",
          "Parsons Branch",
          "Motueka Riv.",
          "Montone",
          "Lamone",
          "Senio",
          "Senio",
          "Oconaluftee",
          "Fiumedinisi",
          "Little",
          "Wutach",
          "Lamone",
          "Little",
          "Torno",
          "Little",
          "Phugwane",
          "Senio",
          "Montone",
          "San Elia",
          "San Pasquale",
          "Pagliara",
          "Oconaluftee",
          "Oconaluftee",
          "Oconaluftee",
          "Oconaluftee",
          "Oconaluftee",
          "San Pasquale",
          "Visano",
          "Oconaluftee",
          "Oconaluftee",
          "Raven Fork",
          "Oconaluftee",
          "Abrams Crk.",
          "Nsikazi",
          "Little",
          "Oconaluftee",
          "Cataluchee",
          "Little",
          "Wutach",
          "Oconaluftee",
          "Oconaluftee",
          "Middle Prong",
          "Little",
          "Nwaswitshaka",
          "Little Pigeon",
          "Oconaluftee",
          "Crocodile Riv.",
          "Hazel Crk.",
          "Little",
          "Ledge Crk.",
          "Deep Crk.",
          "Nolan Crk.",
          "Little",
          "Bunches Crk.",
          "Little",
          "Twenty Mile",
          "Little",
          "Raven Fork",
          "Little",
          "Little",
          "Crocodile Riv.",
          "Big Crk.",
          "Forney Crk.",
          "Big Crk.",
          "Eagle Crk.",
          "West Prong",
          "Oconaluftee",
          "Raven Fork",
          "Straight Fork",
          "Zielbach catchment",
          "Ledge Crk.",
          "Cosby Crk.",
          "Little",
          "Straight Fork",
          "Straight Fork",
          "Paraitinga Riv.",
          "Paraitinga Riv.",
          "Mambucaba Riv.",
          "Preto Riv.",
          "Grande Riv.",
          "Grande Riv.",
          "Preto Riv.",
          "Preto Riv.",
          "Grande Riv.",
          "Grande Riv.",
          "Paraiba do Sul Riv.",
          "Paraiba do Sul Riv.",
          "Preto Riv.",
          "Mambucaba Riv.",
          "Zielbach catchment",
          "Mambucaba Riv.",
          "Paraiba do Sul Riv.",
          "Paraiba do Sul Riv.",
          "Paraitinga Riv.",
          "Phugwane",
          "Mambucaba Riv.",
          "Preto Riv.",
          "Grande Riv.",
          "Preto Riv.",
          "Grande Riv.",
          "Paraiba do Sul Riv.",
          "Preto Riv.",
          "Mambucaba Riv.",
          "Paraitinga Riv.",
          "Paraitinga Riv.",
          "Grande Riv.",
          "Grande Riv.",
          null,
          null,
          null,
          null,
          null,
          null,
          "Loire Riv.",
          null,
          null,
          "Phugwane",
          null,
          "Rhone Riv., lower",
          null,
          "Redwood Crk.",
          null,
          "Redwood Crk.",
          null,
          "Redwood Crk.",
          "Sierra de las Estancias Mts.",
          null,
          null,
          "Redwood Crk.",
          "Caspar Crk.",
          "Caspar Crk.",
          "Caspar Crk.",
          "Caspar Crk.",
          "Caspar Crk.",
          "Loire Riv.",
          "Rhone Riv., lower",
          "Rhone Riv., lower",
          "Rhone Riv., lower",
          "Rhone Riv., lower",
          "Loire Riv.",
          null,
          "Rhone Riv., lower",
          "Rhone Riv., lower",
          "Rhone Riv., lower",
          "Rhone Riv., lower",
          "Loire Riv.",
          "Rhone Riv., lower",
          "Rhone Riv., lower",
          "Rhone Riv., lower",
          null,
          "Loire Riv.",
          "Rhone Riv., lower",
          "Rhone Riv., lower",
          "Rhone Riv., lower",
          "Rhone Riv., lower",
          "Rhone Riv., lower",
          "Loire Riv.",
          "Rhone Riv., lower",
          "Rhone Riv., lower",
          "del Valle Riv.",
          "Las Juntas Riv.",
          "Las Burras Riv.",
          "Nsikazi",
          "Huanomil Riv.",
          "Golo Riv.",
          "Golo Riv.",
          "Las Trancas Riv.",
          "Ambato Riv.",
          "Fium Alto Riv.",
          "Casaluna Riv.",
          null,
          "Bevinco Riv.",
          "Bravona Riv.",
          "Asco Riv.",
          "Casaluna Riv.",
          "Golo Riv.",
          "Tavignano Riv.",
          "Lagani Riv.",
          "Tartagine Riv.",
          "Asco Riv.",
          "Golo Riv.",
          "Phugwane",
          "Nwaswitshaka",
          "Tavignano Riv.",
          "Restonica Riv.",
          "Phugwane",
          "Nwaswitshaka",
          "Nsikazi",
          "Nsikazi",
          "Phugwane",
          "Sierra San Pedro Martir footwall",
          "Sierra San Pedro Martir footwall",
          "Sierra San Pedro Martir footwall",
          "Sierra San Pedro Martir footwall",
          "Sierra San Pedro Martir footwall",
          "Sierra San Pedro Martir footwall",
          "Sierra San Pedro Martir footwall",
          "Sierra San Pedro Martir footwall",
          "Sierra San Pedro Martir footwall",
          "Sierra San Pedro Martir rtir footwall",
          "Sierra San Pedro Martir footwall",
          "Sierra San Pedro Martir footwall",
          "Sierra San Pedro Martir footwall",
          "Sierra San Pedro Martir footwall",
          "Sierra San Pedro Martir footwall",
          null,
          "Sierra San Pedro Martir footwall",
          "Sierra San Pedro Martir footwall",
          "Sierra San Pedro Martir footwall",
          "Sierra San Pedro Martir footwall",
          "Sierra San Pedro Martir footwall",
          "Sierra San Pedro Martir hanging wall",
          "Sierra San Pedro Martir hanging wall",
          "Sierra San Pedro Martir footwall",
          "Sierra San Pedro Martir footwall",
          "Sierra San Pedro Martir footwall",
          "Sierra San Pedro Martir footwall",
          "Song Gianh Riv.",
          null,
          null,
          null,
          null,
          null,
          null,
          null,
          null,
          null,
          null,
          null,
          null,
          null,
          null,
          null,
          null,
          null,
          null,
          null,
          null,
          null,
          null,
          null,
          null,
          null,
          null,
          null,
          "Peradeniya",
          "Atabage",
          "Atabage",
          "Atabage",
          "Atabage",
          null,
          "Peradeniya",
          "Peradeniya",
          "Peradeniya",
          "Atabage",
          null,
          null,
          null,
          null,
          null,
          null,
          null,
          null,
          null,
          null,
          null,
          null,
          null,
          null,
          null,
          null,
          null,
          null,
          "Bhagirathi Riv.",
          "Bhagirathi Riv.",
          "Bhagirathi Riv.",
          "Bhagirathi Riv.",
          "Bhagirathi Riv.",
          "Bhagirathi Riv.",
          "Alaknanda Riv.",
          "Alaknanda Riv.",
          "Sao Fransico Riv.",
          "Sao Fransico Riv.",
          "Nam Co",
          "Doce Riv.",
          "Doce Riv.",
          "Doce Riv.",
          "Doce Riv.",
          "Indus Riv., upper",
          "Doce Riv.",
          "Sao Fransico Riv.",
          "Doce Riv.",
          "Tso Kar lake",
          "Paraiba do Sul Riv.",
          "Doce Riv.",
          "Paraiba do Sul Riv.",
          "Doce Riv.",
          "Paraiba do Sul Riv.",
          "Paraiba do Sul Riv.",
          "Paraiba do Sul Riv.",
          "Tsomoriri lake",
          "Doce Riv.",
          "Paraiba do Sul Riv.",
          "Doce Riv.",
          "Nam Co",
          "Nam Co",
          "Nam Co",
          "Nam Co",
          "Nam Co",
          "Nam Co",
          "Nam Co",
          "Tsomoriri lake",
          "Nam Co",
          "Nam Co",
          "Nam Co",
          "Nam Co",
          null,
          "Nam Co",
          "Nam Co",
          "Tsomoriri lake",
          null,
          null,
          "Gaub",
          "Gaub",
          "Gaub",
          "Gaub",
          null,
          "Gaub",
          null,
          "Gaub",
          null,
          "Gaub",
          null,
          null,
          null,
          null,
          null,
          null,
          null,
          null,
          "Sierra de las Estancias Mts.",
          null,
          null,
          null,
          null,
          null,
          null,
          null,
          null,
          null,
          null,
          null,
          null,
          null,
          null,
          null,
          null,
          null,
          null,
          null,
          null,
          null,
          null,
          null,
          null,
          null,
          "Sierra de las Estancias Mts.",
          null,
          null,
          null,
          null,
          null,
          null,
          null,
          null,
          null,
          null,
          null,
          "Paute",
          "Paute",
          "Paute",
          "Paute",
          "Paute",
          "Yuma Wash",
          "Paute",
          "Paute",
          "Drift Crk.",
          "Paute",
          "Paute",
          "Paute",
          "Paute",
          "Paute",
          "Paute",
          "Paute",
          "Paute",
          "Paute",
          "Paute",
          "Seti Riv.",
          "Stairs Gulch",
          "Seti Riv.",
          "Seti Riv.",
          "Seti Riv.",
          "Seti Riv.",
          "Seti Riv.",
          "Coalpit Gulch",
          "Seti Riv.",
          "Lisa Falls",
          "Seti Riv.",
          "Rocky Mouth Crk.",
          "Seti Riv.",
          "Seti Riv.",
          null,
          "Seti Riv.",
          "Rocky Mouth Crk.",
          "Seti Riv.",
          "Russian Gulch",
          "Seti Riv.",
          "Quebrada",
          null,
          "Seti Riv.",
          "Seti Riv.",
          "Agua Brava",
          "Seti Riv.",
          null,
          "Seti Riv.",
          "Holbrook Crk.",
          "Seti Riv.",
          "Seti Riv.",
          "Seti Riv.",
          null,
          "Seti Riv.",
          null,
          "Seti Riv.",
          null,
          "Tanner Gulch",
          "Seti Riv.",
          null,
          "Gutach",
          "Seti Riv.",
          "Gualala Riv.",
          "Alder Crk.",
          "Moat Crk.",
          "Gualala Riv.",
          "Garcia Riv.",
          "Schooner Gulch",
          "Gualala Riv.",
          "Buckeye Crk.",
          "Rockpile Crk.",
          "Marshall Crk.",
          null,
          "Gualala Riv.",
          null,
          "Salinas Grandes",
          "Quebrada",
          "Lanyang",
          "Lanyang",
          "Lanyang",
          "Lanyang",
          "Lanyang",
          null,
          "Lanyang",
          null,
          null,
          "Sechong",
          "Mimoden",
          null,
          null,
          null,
          "Kays Crk.",
          "Centerville Crk.",
          "Holmes Crk.",
          "Ford Canyon",
          "Shepards Crk.",
          "Steed Crk.",
          "Holmes Crk.",
          "Bear Crk.",
          "Gutach",
          null,
          "Acher",
          "Acher",
          "Acher",
          "Gutach",
          "Gutach",
          "Gutach",
          "Gutach",
          "Acher",
          null,
          "Gutach",
          "Acher",
          "Gutach",
          "Gutach",
          "Gutach",
          "Acher",
          null,
          "Acher",
          "Acher",
          "Gutach",
          "Acher",
          null,
          null,
          null,
          null,
          null,
          null,
          null,
          null,
          null,
          null,
          "Thur",
          null,
          "Thur",
          "Thur",
          "Thur",
          "Montara Mtn 2",
          "Toess",
          "Toess",
          "Jona",
          "Thur",
          "Toess",
          "Thur",
          "Toess",
          "Toess",
          "Toess",
          "Thur",
          "Toess",
          "Toess",
          "Neqarot Gorge",
          "Neqarot Gorge",
          null,
          "Neqarot Gorge",
          "Montara Mtn 1",
          "Neqarot Gorge",
          "Feather Riv.",
          "Hadsall Crk.",
          "Smith Riv., upper",
          "Franklin Crk.",
          "Sullivan Crk., north",
          "Sullivan Crk., south",
          "Pilarcitos Crk.",
          "Calhoun Gulch",
          "Purisima Crk.",
          "Lobitos Crk.",
          "Gaub",
          "Tunitas Crk.",
          "El Corte de Madera",
          "San Gregorio Crk.",
          "Gaub",
          "Pomponio Crk.",
          "Peters Crk.",
          "Butano Crk.",
          "Quebrada Veladera",
          "San Lorenzo Crk.",
          "Kings Crk.",
          null,
          "Bear Crk.",
          "Quebrada Veladera",
          "Zayante Crk.",
          "Bean Crk.",
          "Quebrada Veladera",
          "Soquel Crk.",
          "Gaub",
          "Gaub",
          null,
          "Quebrada Veladera",
          "Deadman Gulch",
          "Quebrada Veladera",
          "Ironclad Gulch",
          "Feather Riv.",
          "Quebrada Veladera",
          "Quebrada Veladera",
          "Long Gulch",
          "Fourmile trib.",
          "Low. Gordon Gulch",
          "Boulder Creek trib.",
          "Boulder Crk. trib.",
          "Boulder Crk. trib.",
          "Boulder Crk. trib.",
          "Forsythe Crk.",
          "Tungsten Gulch",
          "Up. Gordon Gulch",
          "Wutach",
          "Santa Clara Riv.",
          "Wutach",
          "Santa Clara Riv.",
          "Wutach",
          "Wutach",
          "Wutach",
          "Danube",
          "Danube",
          "Danube",
          "Wutach",
          "Wutach",
          "Danube",
          "Skeerpoort Riv.",
          "Grootvleispruit Riv.",
          null,
          "Skeerpoort Riv.",
          "Grootvleispruit Riv.",
          "Grootvleispruit Riv.",
          "Feather Riv.",
          null,
          null,
          null,
          null,
          null,
          null,
          null,
          null,
          null,
          null,
          null,
          null,
          null,
          null,
          null,
          null,
          null,
          null,
          null,
          null,
          null,
          null,
          null,
          null,
          null,
          null,
          "Hiso Riv.",
          "Nogami Riv.",
          "Takase Riv.",
          "Kido Riv.",
          "Hiso Riv.",
          "Heve",
          "Mohne",
          "Mohne",
          "Mohne",
          "Chagres",
          "Mohne",
          "Aabach",
          "Aabach",
          "Mohne",
          "Chagres",
          "Mohne",
          "Mohne",
          "Chagres",
          "Chagres",
          "Chagres",
          "Chagres",
          "Chagres",
          "Chagres",
          "Pescadero Crk.",
          "Chagres",
          "Chagres",
          "Chagres",
          "Chagres",
          "Chagres",
          "Chagres",
          "Chagres",
          "Chagres",
          "Chagres",
          "Scott Crk.",
          "Rio Mae Catira",
          "Ashima Riv.",
          "Takase Riv.",
          "Rio do Corvo",
          "Rio Taquari",
          "Takase Riv.",
          "Takase Riv.",
          "Rio Taquari",
          "Rio Capivari Mirim",
          "Ashima Riv.",
          "Rio Sao Joao",
          "Takase Riv.",
          "Takase Riv.",
          "Ashima Riv.",
          "Ashima Riv.",
          "Ashima Riv.",
          null,
          "Ashima Riv.",
          "Ashima Riv.",
          "Ashima Riv.",
          "Ashima Riv.",
          "Ashima Riv.",
          "Aiuruoca Riv.",
          "Khudi Riv.",
          "Khudi Riv.",
          "Khudi Riv.",
          "Khudi Riv.",
          "Khudi Riv.",
          "Paraíba do Sul",
          "Khudi Riv.",
          "Khudi Riv.",
          "Grande Riv.",
          "Khudi Riv.",
          "Khudi Riv.",
          "Khudi Riv.",
          "Aiuruoca Riv.",
          "Khudi Riv.",
          "Khudi Riv.",
          "Khudi Riv.",
          "Paraíba do Sul",
          "Khudi Riv.",
          "Khudi Riv.",
          "Khudi Riv.",
          "Khudi Riv.",
          "Khudi Riv.",
          "Khudi Riv.",
          "Khudi Riv.",
          "Khudi Riv.",
          "Khudi Riv.",
          "Khudi Riv.",
          "Khudi Riv.",
          "Khudi Riv.",
          "Khudi Riv.",
          "Khudi Riv.",
          "Khudi Riv.",
          "Grande Riv.",
          "Paraíba do Sul",
          "Aiuruoca Riv.",
          "Paraíba do Sul",
          "Dreisam Riv.",
          "Dreisam Riv.",
          "Dreisam Riv.",
          "Dreisam Riv.",
          "Dreisam Riv.",
          "Upper Rhone",
          "Dreisam Riv.",
          "Dreisam Riv.",
          "Dreisam Riv.",
          "Dreisam Riv.",
          "Fontanne",
          "Dreisam Riv.",
          "Dreisam Riv.",
          "Dreisam Riv.",
          "Dreisam Riv.",
          "Dreisam Riv.",
          "Yuma Wash",
          "Dreisam Riv.",
          "Upper Rhone",
          "Upper Rhone",
          "Upper Rhone",
          "Yuma Wash",
          "Upper Rhone",
          "Upper Rhone",
          "Upper Rhone",
          "Upper Rhone",
          "Upper Rhone",
          null,
          "Upper Rhone",
          "Upper Rhone",
          "Upper Rhone",
          "Upper Rhone",
          "Trub",
          "Upper Rhone",
          "Upper Rhone",
          "Upper Rhone",
          "Upper Rhone",
          "Fontanne",
          "Trub",
          "Fontanne",
          "Trub",
          "Fontanne",
          "Sierra de las Estancias Mts.",
          "Fontanne",
          "Fontanne",
          "Fontanne",
          "Fontanne",
          "Fontanne",
          "Trub",
          "Trub",
          "Trub",
          "Diamantina Plateau: overloaded alluvial sediments",
          "Sierra de los Filabres Mts.",
          "Diamantina Plateau: overloaded alluvial sediments",
          "Diamantina Plateau: overloaded alluvial sediments",
          "Diamantina Plateau: overloaded alluvial sediments",
          "Sierra de los Filabres Mts.",
          "Diamantina Plateau: overloaded alluvial sediments",
          "Diamantina Plateau: overloaded alluvial sediments",
          "Diamantina Plateau: overloaded alluvial sediments",
          null,
          "Diamantina Plateau: overloaded alluvial sediments",
          "Diamantina Plateau: overloaded alluvial sediments",
          "Diamantina Plateau: overloaded alluvial sediments",
          "Diamantina Plateau: overloaded alluvial sediments",
          "Kander Riv., Frutigen",
          "Kander Riv., Frutigen",
          "Kander Riv., Frutigen",
          "Simme Riv., Diemtigen",
          "Kander Riv., Frutigen",
          "Simme Riv., Diemtigen",
          "Simme Riv., Diemtigen",
          "Yuma Wash",
          "Yuma Wash",
          "Yuma Wash",
          "Yuma Wash",
          "Yuma Wash",
          "Yuma Wash",
          "Yuma Wash",
          "Yuma Wash",
          "Yuma Wash",
          "Yuma Wash",
          "Yuma Wash",
          "Yuma Wash",
          "Yuma Wash",
          "Yuma Wash",
          "Yuma Wash",
          "Yuma Wash",
          "Yuma Wash",
          "Yuma Wash",
          "Yuma Wash",
          "Yuma Wash",
          "Yuma Wash",
          "Yuma Wash",
          "Yuma Wash",
          "Yuma Wash",
          "Yuma Wash",
          "Yuma Wash",
          "Yuma Wash",
          null,
          "Yuma Wash",
          "Yuma Wash",
          "Yuma Wash",
          "Yuma Wash",
          "Yuma Wash",
          "Yuma Wash",
          "Drift Crk.",
          "Drift Crk.",
          "Drift Crk.",
          "Drift Crk.",
          "Drift Crk.",
          "Drift Crk.",
          "Zielbach catchment",
          "Drift Crk.",
          "Drift Crk.",
          "Drift Crk.",
          "Drift Crk.",
          "Zielbach catchment",
          "Drift Crk.",
          "Drift Crk.",
          "Drift Crk.",
          "Zielbach catchment",
          "Zielbach catchment",
          "Zielbach catchment",
          "Zielbach catchment",
          "Zielbach catchment",
          "Zielbach catchment",
          "Zielbach catchment",
          "Zielbach catchment",
          "Zielbach catchment",
          "Zielbach catchment",
          null,
          null,
          null,
          null,
          null,
          null,
          null,
          null,
          null,
          null,
          null,
          null,
          null,
          null,
          null,
          null,
          "Feather Riv.",
          "Feather Riv.",
          "Feather Riv.",
          "Feather Riv.",
          null,
          "Feather Riv.",
          "Feather Riv.",
          "Feather Riv.",
          "Feather Riv.",
          "Feather Riv.",
          "Feather Riv.",
          "Takase Riv.",
          "Takase Riv.",
          "Tangra Yum Co Graben",
          "Tangra Yum Co Graben",
          "Tangra Yum Co Graben",
          "Tangra Yum Co Graben",
          "Tangra Yum Co Graben",
          "Tangra Yum Co Graben",
          "Tangra Yum Co Graben",
          null,
          "Gr. Entlen",
          "Gr. Entlen",
          "Del Medio Riv.",
          "Gr. Entlen",
          "Gr. Entlen",
          "Kl. Entlen",
          null,
          "Kl. Entlen",
          "Gr. Entlen",
          "Rotbach",
          "Aelleggbach",
          "Gretenbach",
          "Gretenbach",
          "Clearwater",
          "Clearwater",
          "Clearwater",
          "Del Medio Riv.",
          "Clearwater",
          "Clearwater",
          "Clearwater",
          "Clearwater",
          null,
          "Del Medio Riv.",
          "Del Medio Riv.",
          "Del Medio Riv.",
          "Del Medio Riv.",
          null,
          "Del Medio Riv.",
          "Del Medio Riv.",
          "Del Medio Riv.",
          "Del Medio Riv.",
          "Fedoz Riv.",
          "Fedoz Riv.",
          "Fedoz Riv.",
          "Fedoz Riv.",
          "Etages",
          "Fedoz Riv.",
          "Fedoz Riv.",
          "Fedoz Riv.",
          "Etages",
          "Fedoz Riv.",
          "Fedoz Riv.",
          "Fedoz Riv.",
          "Fedoz Riv.",
          "Fedoz Riv.",
          "Fedoz Riv.",
          "Fedoz Riv.",
          "Fedoz Riv.",
          "Cascade Canyon",
          "Garnet Canyon",
          "Garnet Canyon",
          "Torrente",
          "Torrente",
          "Torrente",
          "Torrente",
          "Sierra Torrecilla Mts.",
          "Torrente",
          "Torrente",
          "Torrente",
          "Torrente",
          "History Grove",
          "La Jara",
          "Redondo, lower",
          "Jaramillo Crk., Redondo, upper",
          "Song Riv.",
          "Sierra Torrecilla Mts.",
          "Song Riv.",
          "Song Riv.",
          "Song Riv.",
          "Song Riv.",
          "Song Riv.",
          "Song Riv.",
          null,
          null,
          null,
          null,
          null,
          null,
          null,
          null,
          null,
          "Sierra de las Estancias Mts.",
          null,
          null,
          null,
          null,
          null,
          null,
          "Sierra Almagrera Mts.",
          "Sierra de los Filabres Mts.",
          "Sierra de los Filabres Mts.",
          "Sierra de los Filabres Mts.",
          "Sierra de los Filabres Mts.",
          null,
          "Sierra de los Filabres Mts.",
          "Sierra de los Filabres Mts.",
          "Sierra Cabrera Mts.",
          "Sierra Cabrera Mts.",
          "Sierra Cabrera Mts.",
          null,
          "Sierra Alhamilla Mts.",
          "Little Lake",
          "Little Lake",
          "Rokko Riv.",
          "Rokko Riv.",
          null,
          "Rokko Riv.",
          "Rokko Riv.",
          "Rokko Riv.",
          "Rokko Riv.",
          "Rokko Riv.",
          null,
          null,
          "Abukuma Riv.",
          null,
          null,
          null,
          null,
          null,
          null,
          null,
          null,
          "Abukuma Riv.",
          null,
          "Abukuma Riv.",
          null,
          null,
          "Abukuma Riv.",
          null,
          null,
          "Abukuma Riv.",
          null,
          "Abukuma Riv.",
          null,
          null,
          "Abukuma Riv.",
          null,
          null,
          null,
          "Abukuma Riv.",
          "Abukuma Riv.",
          "Maracuja",
          null,
          "Maracuja",
          "Maracuja",
          "Maracuja",
          null,
          null,
          "Cayaguas",
          "Cayaguas",
          "Cayaguas",
          "Cayaguas",
          "Cayaguas",
          "Cayaguas",
          "Cayaguas",
          null,
          null,
          null,
          null,
          null,
          null,
          null,
          null,
          null,
          null,
          null,
          "Icacos",
          "Sabana",
          null,
          null,
          "Tin Camp Crk.",
          "Suttor Riv., lower",
          null,
          "Marrangaroo Crk.",
          "Marra Crk.",
          "Burdekin Riv., upper",
          null,
          null,
          null,
          "Tin Camp Crk.",
          "Nunnock Riv.",
          "North Wilkatana",
          "Yudnamutana Crk.",
          "Tin Camp Crk.",
          "Bredbo Riv.",
          "Depot Crk.",
          "South Wilkatana",
          "South Wilkatana",
          "South Wilkatana",
          "Tin Camp Crk.",
          "Tin Camp Crk.",
          "Burdekin Riv., upper",
          "Tin Camp Crk.",
          "Tin Camp Crk.",
          "Tin Camp Crk.",
          "Tin Camp Crk.",
          null,
          null,
          null,
          "Belyando Riv.",
          null,
          null,
          null,
          "Barron Riv.",
          "Barron Riv.",
          "Barron Riv.",
          "Barron Riv.",
          "Barron Riv.",
          "Burdekin Riv., upper",
          "Barron Riv.",
          "Barron Riv.",
          "Barron Riv.",
          "Barron Riv.",
          "Barron Riv.",
          "Burdekin Riv., lower",
          "Barron Riv.",
          "Barron Riv.",
          "Barron Riv.",
          "Barron Riv.",
          "Barron Riv.",
          "Cape Riv.",
          "Suttor Riv., upper",
          "Burdekin Riv., upper",
          "Burdekin Riv., upper",
          "Burdekin Riv., upper",
          "Burdekin Riv., upper",
          "Burdekin Riv., upper",
          "Burdekin Riv., upper",
          "Burdekin Riv., upper",
          "Burdekin Riv., upper",
          "Burdekin Riv., upper",
          "Burdekin Riv., upper",
          "Burdekin Riv., upper",
          "Burdekin Riv., upper",
          "Burdekin Riv., upper",
          "Burdekin Riv., upper"
         ],
         "lat": [
          -13.9821079,
          -15.49666355,
          -16.26235615,
          -15.30687926,
          -16.55033711,
          -16.55033711,
          -15.50814438,
          -15.29711159,
          -15.38758452,
          -15.50662363,
          -15.5025534,
          -15.76743643,
          -16.31949366,
          -16.55316909,
          -17.05928935,
          -16.40494132,
          -15.31112021,
          -16.06110635,
          -16.32282507,
          -16.40159379,
          -15.40146018,
          -15.45842455,
          -16.79985567,
          -16.79985567,
          -16.79985567,
          -16.00134735,
          -16.41881079,
          -16.15718735,
          -16.10627068,
          -15.37822533,
          -16.87986617,
          -16.3568758,
          -16.04067711,
          -15.79280025,
          -16.42865467,
          47.41908755,
          47.41908755,
          -16.31335187,
          -15.34175381,
          -16.31074989,
          -16.77831366,
          -15.78281829,
          -16.77831366,
          47.86982119,
          -16.80801621,
          -16.77831366,
          47.00070454,
          51.49992999,
          -16.2802745,
          -16.77831366,
          51.49992999,
          -16.08117096,
          -15.71302003,
          -15.66895529,
          -15.40509522,
          -15.98132157,
          -16.3568758,
          51.28415197,
          -16.3568758,
          -16.75177693,
          51.03319219,
          -16.75177693,
          -15.76454019,
          -15.3467672,
          51.03319219,
          51.03319219,
          46.96082849,
          50.47198046,
          46.95001483,
          46.95001483,
          49.39654505,
          46.65141167,
          46.65141167,
          49.45008188,
          49.45008188,
          49.45008188,
          46.43554275,
          46.48677219,
          49.31006013,
          49.31006013,
          50.32174904,
          49.89632288,
          46.07474615,
          45.99790214,
          45.92295142,
          49.00396419,
          45.7449866,
          45.46204439,
          49.53530415,
          48.70372138,
          48.70372138,
          49.12142935,
          46.36444909,
          49.18061458,
          46.4961427,
          45.11677874,
          45.11677874,
          46.83669292,
          45.94363624,
          49.01461913,
          49.18690255,
          -0.879446,
          -2.370938,
          49.18690255,
          -0.734839,
          -0.635329,
          49.18690255,
          47.49156064,
          25.853247,
          49.14573812,
          26.479606,
          27.229564,
          27.229564,
          48.40143813,
          27.580374,
          48.39632267,
          45.66616159,
          28.017708,
          25.423591,
          30.099819,
          46.51666667,
          47.03561667,
          49.01461808,
          27.354833,
          48.1791962,
          -2.479478,
          -2.393634,
          -1.778722,
          -1.024079,
          44.86669694,
          44.73165551,
          49.24280386,
          49.1712215,
          -0.978906,
          46.77114021,
          49.04826199,
          48.85373824,
          49.01073434,
          47.1380269,
          49.04826199,
          49.04826199,
          46.00583586,
          45.14568114,
          -3.500174,
          -2.904036,
          -0.449934,
          -0.481386,
          27.567922,
          -0.454251,
          28.100534,
          29.606046,
          -0.463421,
          30.849429,
          31.149945,
          31.149945,
          -0.345685,
          26.908662,
          28.143173,
          29.584219,
          31.403771,
          31.403771,
          31.149545,
          31.149545,
          30.795421,
          29.545525,
          29.72974,
          30.195118,
          30.067514,
          29.754672,
          30.597639,
          31.584918,
          31.641653,
          31.406824,
          31.685399,
          31.750994,
          31.679448,
          30.039441,
          28.55613,
          31.401142,
          29.772294,
          31.320586,
          29.548984,
          29.856751,
          29.703799,
          29.659764,
          31.687915,
          29.680638,
          30.074297,
          27.235972,
          -18.91033294,
          -18.72184261,
          40.96223309,
          -18.67026902,
          -18.60944374,
          -18.6210644,
          -18.34941026,
          -18.52381396,
          -17.98948975,
          -18.35618332,
          -17.7052328,
          -18.12858814,
          -17.48697084,
          -19.09780736,
          -19.62361882,
          -18.33273729,
          -17.9152348,
          -18.64030711,
          -19.39862674,
          -18.69265516,
          -18.35022612,
          -18.8444,
          -18.63936051,
          -17.81861929,
          -18.9503777,
          -17.82776528,
          -18.63698855,
          -19.01536979,
          -17.57278227,
          -19.61360338,
          -19.39605818,
          -18.64192688,
          -17.82766924,
          -19.09357367,
          -18.09529549,
          -17.5669322,
          -18.68604982,
          -18.21957579,
          -18.60114079,
          -19.40044584,
          -17.58273792,
          -18.10027973,
          -18.10104835,
          -18.17100415,
          -18.52362361,
          -18.852222,
          -18.93613371,
          44.95452128,
          44.95452128,
          44.97785266,
          44.91124308,
          -18.89693246,
          45.10538083,
          45.10292417,
          -19.08528034,
          45.10292417,
          45.05876059,
          45.05876059,
          45.04551453,
          -19.053417,
          44.96707069,
          45.26526667,
          45.58712924,
          45.26501403,
          45.52042552,
          -19.15356674,
          46.14042793,
          46.20297081,
          45.99041672,
          45.85291547,
          44.69543325,
          -17.93525055,
          44.46781337,
          45.09545271,
          46.23874208,
          44.53292812,
          -19.67024728,
          -17.42360523,
          -18.11440922,
          45.63039592,
          44.90548147,
          46.12382707,
          40.47849339,
          -18.64442807,
          -19.66271346,
          -18.8105,
          44.95452128,
          46.25617405,
          45.40208509,
          44.72556431,
          44.62125773,
          44.58794019,
          44.75287763,
          45.95627589,
          44.64703758,
          -16.71961403,
          -17.02957927,
          -8.959537509,
          46.05787643,
          45.84040445,
          45.76208579,
          -16.58541039,
          -16.42206168,
          -13.12538472,
          -14.64705748,
          -14.34539962,
          -15.62848103,
          -10.72032379,
          -7.827042766,
          -11.07126431,
          -15.67297082,
          -17.90624828,
          -7.323742642,
          -6.787093551,
          -13.46536406,
          42.00295578,
          -11.60622511,
          -10.65290138,
          -12.66624696,
          -17.82458297,
          -8.140399749,
          -10.07876562,
          -9.485465874,
          -17.28670939,
          -6.979590983,
          -11.79124709,
          -8.422885786,
          -18.11955686,
          -12.25048604,
          -6.457955728,
          -9.261248529,
          -18.57875335,
          -16.22554195,
          -15.84623081,
          -11.91791879,
          -10.84121766,
          -9.479598811,
          -12.50288422,
          -9.935400313,
          -19.41208572,
          -13.32207332,
          42.02869041,
          43.93161202,
          43.66170262,
          45.01829074,
          44.1392233,
          43.48330933,
          43.93417607,
          46.17504019,
          42.73743531,
          42.74583597,
          44.82496283,
          42.6091876,
          45.59085202,
          45.84250367,
          44.28680115,
          29.327531,
          29.603951,
          29.707226,
          30.098649,
          30.097205,
          29.94931,
          29.945988,
          30.102215,
          37.90092862,
          38.45535041,
          37.21956218,
          36.73034264,
          37.93791389,
          30.066,
          29.908414,
          36.9261732,
          29.946889,
          30.044567,
          29.953055,
          38.295341,
          37.16543331,
          37.48955742,
          38.16123795,
          37.2103712,
          4.399147233,
          4.403323187,
          3.576646646,
          3.576646646,
          3.581652946,
          3.581652946,
          3.419027778,
          3.510858015,
          3.898356763,
          3.371665274,
          3.32414969,
          3.179972222,
          11.20635375,
          3.298472222,
          3.163944444,
          10.75133832,
          3.179972222,
          10.95799109,
          11.97386311,
          11.97386311,
          12.28137064,
          12.29129205,
          10.83879803,
          12.289167,
          14.59960711,
          12.87712033,
          14.890833,
          11.95381297,
          12.121389,
          11.29301205,
          11.86383613,
          12.83801984,
          12.44965753,
          10.70212183,
          14.4171662,
          12.709778,
          12.75636564,
          12.9471783,
          11.34725,
          32.91465795,
          11.40714221,
          36.91661845,
          33.12826617,
          13.46133356,
          11.57962699,
          36.64300151,
          34.04634036,
          11.29129435,
          11.76513889,
          12.96379017,
          12.44714566,
          12.93041847,
          10.96461811,
          33.47713763,
          11.07970566,
          13.50708677,
          33.01755528,
          12.28135801,
          11.63303921,
          11.28261,
          12.32378564,
          12.486778,
          11.50967446,
          13.36295939,
          13.21215809,
          13.47466186,
          12.03217469,
          10.99134129,
          11.3362517,
          12.8838639,
          11.3921822,
          12.8838639,
          13.21046203,
          12.47963721,
          13.79795514,
          34.35468815,
          37.10553978,
          12.48041667,
          10.94798448,
          11.15050109,
          11.61811,
          11.33883515,
          10.92380945,
          11.41132844,
          11.8679792,
          11.9046109,
          13.04802778,
          11.82467551,
          12.58547558,
          42.12402799,
          42.28822442,
          11.63555033,
          11.86463294,
          12.0887335,
          13.24293669,
          11.69045613,
          12.3837387,
          12.451583,
          13.21634461,
          45.9495479,
          42.50327013,
          11.69800818,
          13.3546571,
          10.97048932,
          11.70466667,
          12.12635103,
          42.54237477,
          11.72131373,
          50.42079537,
          37.79710513,
          50.31496456,
          50.2291506,
          37.87969086,
          37.95634834,
          38.03055755,
          50.32831765,
          46.06705692,
          45.91877013,
          46.00625798,
          30.27396469,
          29.67472474,
          29.61748065,
          29.73055742,
          35.08644128,
          33.65588094,
          34.33220574,
          35.64714877,
          33.72213525,
          36.20081625,
          34.39158,
          34.93891026,
          37.23416849,
          36.78877594,
          34.73638201,
          40.21668342,
          40.08169999,
          35.83305604,
          34.75382353,
          34.52718672,
          40.95670838,
          41.7653512,
          36.22798399,
          40.25743314,
          39.94648711,
          41.55551176,
          40.40300465,
          40.90147831,
          41.90924953,
          41.4136652,
          40.94341174,
          39.94482312,
          40.22450836,
          40.32314059,
          40.07149756,
          39.90594208,
          40.89064113,
          40.01031765,
          40.02588016,
          40.53027305,
          40.3709812,
          41.7906092,
          27.32641119,
          41.81512151,
          39.82880543,
          39.83689553,
          41.20888277,
          40.14460038,
          41.09768748,
          41.45884445,
          39.80580464,
          39.7757482,
          41.20361985,
          41.2446098,
          41.07413798,
          40.68603975,
          41.59217588,
          41.06917073,
          26.92638738,
          41.39580594,
          41.27433201,
          41.07541802,
          40.98217583,
          41.27561762,
          41.45142301,
          40.33232587,
          39.90079334,
          39.86502879,
          41.28574881,
          40.62496969,
          39.81208702,
          39.74956772,
          41.35832277,
          39.81625281,
          40.85167777,
          40.53104017,
          41.70419093,
          39.81718708,
          41.38590614,
          26.93021565,
          41.4273588,
          39.93580855,
          41.20458367,
          40.83203244,
          40.36880146,
          27.69401257,
          40.81645901,
          40.98549688,
          41.44827669,
          41.45853231,
          41.07472923,
          40.40722471,
          41.59811863,
          40.73784887,
          40.94034521,
          40.32646818,
          41.20314675,
          39.81510495,
          41.01484613,
          40.69627836,
          40.52225285,
          41.37584358,
          40.44262403,
          41.20553486,
          41.08520827,
          41.45251435,
          41.16360709,
          26.51938092,
          26.9229011,
          27.31084665,
          27.5131307,
          27.5654461,
          27.56615401,
          27.78229817,
          27.21462599,
          27.54192122,
          27.41741522,
          27.56545934,
          27.32412799,
          -34.990657,
          27.59399687,
          -31.611062,
          -31.668962,
          -33.578569,
          27.15073745,
          -27.200289,
          -31.6897,
          -28.93686,
          27.12427399,
          -29.847354,
          -29.847354,
          -28.799216,
          27.55623959,
          -35.730488,
          -34.204837,
          -32.835454,
          27.39273398,
          -31.657224,
          27.18200403,
          27.73860453,
          27.76970792,
          27.51483802,
          -35.184376,
          -34.6764,
          -31.599032,
          27.38698301,
          27.36641578,
          27.48300534,
          27.66037835,
          27.64134903,
          27.59846516,
          27.55362014,
          27.47616755,
          27.468327,
          -28.598687,
          -28.70154,
          -30.309717,
          -13.1249665,
          -13.73581334,
          -16.16584277,
          -16.18747689,
          -17.85004759,
          -19.17916625,
          -12.96084534,
          -14.51746656,
          -12.96084534,
          -14.51746656,
          -15.89084271,
          -15.9316846,
          -12.7766,
          -12.83080225,
          -25.278216,
          -25.878242,
          -26.615831,
          -24.027744,
          -23.718996,
          -24.725312,
          -23.765522,
          -26.219955,
          -24.503309,
          -24.937621,
          -23.908093,
          -25.43363,
          -25.451879,
          -24.836688,
          -23.373405,
          -22.973765,
          -24.688721,
          -27.428235,
          -24.525414,
          -25.164424,
          -25.156736,
          -25.432529,
          -25.016327,
          -26.576772,
          -25.79005,
          -27.321027,
          -24.725961,
          -24.612741,
          -25.522399,
          31.71517905,
          30.04980698,
          -24.725874,
          -22.92709,
          -24.553733,
          -24.712748,
          32.960447,
          -22.809074,
          -27.02506,
          -24.804733,
          29.7238318,
          -27.098161,
          30.14228598,
          -26.580109,
          -23.943745,
          36.000651,
          -25.828932,
          -23.653939,
          32.0182353,
          45.05463297,
          29.91458587,
          44.34608962,
          35.893573,
          29.40960035,
          34.587089,
          32.19789089,
          45.99224399,
          30.04191447,
          30.06005265,
          32.43240171,
          44.35573624,
          29.34294501,
          45.98991612,
          29.65431348,
          45.99388419,
          28.93392739,
          30.30895704,
          31.02791341,
          46.08581805,
          46.15058624,
          45.88739453,
          30.31976819,
          45.99153516,
          29.97985827,
          45.04288596,
          31.02615978,
          45.04703756,
          29.76780837,
          45.05450417,
          33.302168,
          29.76780837,
          45.05289838,
          -22.084568,
          30.73121897,
          32.26926976,
          28.61798995,
          44.33719127,
          -22.038483,
          29.93008348,
          45.05280604,
          45.9935284,
          32.5298865,
          31.75218839,
          32.5298865,
          28.39896444,
          -21.848372,
          31.45002487,
          32.34040048,
          30.04016363,
          28.77407014,
          32.41908723,
          32.57763513,
          31.89020951,
          30.67947856,
          32.22021237,
          30.10471692,
          32.61838565,
          31.77379242,
          30.26962752,
          29.68657216,
          30.37506282,
          30.95404224,
          29.42985015,
          31.55651495,
          28.60968082,
          29.54007675,
          31.29379303,
          29.88949146,
          30.227021,
          32.21055885,
          30.54151934,
          29.50943823,
          29.3747096,
          31.7503958,
          30.33000924,
          31.30011069,
          45.99463914,
          30.07869635,
          31.4198298,
          45.0526888,
          32.12977895,
          31.78762165,
          29.59724207,
          29.49863708,
          31.01968025,
          31.77276649,
          45.75021509,
          45.82295579,
          32.315903,
          45.7099868,
          45.99478719,
          44.36788564,
          45.70934437,
          44.37212535,
          35.747635,
          45.67149315,
          45.99149248,
          45.98880634,
          45.99108879,
          44.35014819,
          45.99352785,
          36.413087,
          35.929207,
          35.874756,
          33.865793,
          35.891379,
          35.307506,
          33.145322,
          34.885804,
          35.630052,
          -22.681671,
          -22.389052,
          -22.35228,
          -22.263422,
          -21.454825,
          -21.342461,
          -21.348415,
          -22.008418,
          -21.409986,
          -21.304086,
          -22.518622,
          -23.727507,
          -27.06083757,
          -22.038239,
          -23.586724,
          -23.476549,
          -22.153931,
          -23.684178,
          -23.804064,
          -23.944194,
          -21.166475,
          -21.173154,
          -22.237601,
          -22.25659,
          -23.972339,
          -21.840031,
          -23.949025,
          -23.928326,
          47.821362,
          -21.305865,
          -21.289307,
          -23.951656,
          -23.819984,
          -23.9371,
          -23.93657,
          -23.956629,
          -23.672533,
          -23.971665,
          -26.87585022,
          -21.51323607,
          -21.25499687,
          -27.08169537,
          -27.33005711,
          -21.33,
          -22.49246869,
          -21.91501155,
          -22.49246869,
          -22.51997026,
          -22.51997026,
          -21.38157996,
          -26.77916005,
          -23.30325303,
          -26.7866851,
          -26.80914339,
          -22.46839386,
          -22.46839386,
          -53.641889,
          -21.16630136,
          -53.143944,
          -51.625167,
          -51.411222,
          -51.019556,
          -50.2685,
          -49.808639,
          -51.068611,
          -21.7955428,
          -22.08571897,
          -23.2475443,
          -23.31790682,
          6.902466562,
          6.623318973,
          6.823338886,
          4.17998541,
          6.539137821,
          4.2916,
          5.087466562,
          5.920043081,
          4.208313901,
          5.224156857,
          4.449111897,
          5.321623795,
          27.81743,
          27.863124,
          28.160399,
          28.049219,
          28.186059,
          4.500738009,
          5.287519286,
          -33.4404,
          -33.4535,
          5.613413713,
          -33.9767,
          -33.9734,
          28.23514,
          4.400883281,
          27.626498,
          27.753889,
          27.941,
          27.861521,
          5.109994427,
          27.53983,
          28.1875,
          27.975932,
          4.899970319,
          31.059227,
          31.284169,
          31.494326,
          4.483312899,
          31.70438,
          31.487991,
          31.057257,
          31.057257,
          8.145048417,
          4.620007201,
          31.317512,
          31.06581,
          4.775018535,
          30.120183,
          30.121849,
          30.229469,
          30.145829,
          30.524045,
          4.960023481,
          -33.5212,
          5.466614277,
          -13.0275,
          -16.34757145,
          -33.6736,
          -33.7469,
          -33.930704,
          27.853269,
          27.81198,
          27.807226,
          27.859319,
          27.594573,
          -16.573,
          27.617326,
          -16.6437,
          -17.2297,
          -17.0328,
          -17.4515,
          -16.5741,
          27.928956,
          -17.3662,
          -17.2831,
          46.80053217,
          28.107335,
          -16.6659,
          9.367511165,
          8.198784379,
          28.180278,
          38.670951,
          38.670951,
          38.794411,
          39.643017,
          39.338969,
          39.161982,
          28.225854,
          39.679925,
          39.716422,
          46.00413464,
          28.225854,
          28.100822,
          31.059227,
          30.760824,
          31.236703,
          31.515926,
          31.459914,
          30.655866,
          -17.4781,
          -17.3847,
          -17.3304,
          8.20835339,
          -16.7777,
          -15.38404695,
          -17.2678,
          40.04903,
          47.543213,
          -17.106,
          -15.50513499,
          -17.2941,
          47.0504002,
          -17.384,
          -19.52121427,
          -17.1233,
          39.037306,
          -16.9152,
          -16.6832,
          39.400749,
          39.649299,
          35.34782489,
          38.856166,
          39.824733,
          40.054405,
          39.074959,
          46.15905932,
          46.28324863,
          39.250671,
          47.0862534,
          39.027315,
          39.403125,
          46.13749816,
          46.28075553,
          46.51472338,
          47.842526,
          47.14883435,
          40.01299,
          47.25281118,
          46.80053217,
          47.15123214,
          46.81960041,
          46.64895061,
          47.27782215,
          46.59811311,
          46.67058303,
          46.16577889,
          46.06827229,
          46.90214145,
          46.33317441,
          46.0782982,
          47.27361878,
          47.21373421,
          46.12903811,
          46.81550138,
          47.46016835,
          47.27361878,
          47.27861716,
          40.0077,
          46.16245848,
          46.21992585,
          40.009,
          35.03891113,
          46.15988338,
          46.08661202,
          46.27432912,
          46.81960041,
          46.81960041,
          38.222,
          38.208,
          38.84868466,
          37.99454252,
          9.361671642,
          38.26553575,
          8.258347404,
          38.45362837,
          38.54392386,
          38.52539086,
          38.355,
          8.219964508,
          40.0036,
          8.988270325,
          35.06081448,
          8.327525033,
          8.951673051,
          9.44247676,
          8.205056929,
          8.911681569,
          9.445823055,
          9.074358982,
          42.67184,
          8.274239127,
          9.195874067,
          8.570838713,
          9.394168806,
          9.366670129,
          9.020008647,
          9.5258416,
          8.85139267,
          35.57092641,
          9.525850137,
          9.394168806,
          9.42223985,
          9.364968192,
          35.59328068,
          8.400014796,
          8.984518769,
          35.62675348,
          8.824216797,
          8.287513065,
          41.21334,
          9.572590481,
          9.360903215,
          8.246639774,
          9.568328285,
          8.431661726,
          9.514999304,
          8.724997533,
          9.269158355,
          9.361706514,
          8.693351043,
          39.9997,
          42.66913,
          42.39568,
          42.39902,
          40.43305,
          41.74376,
          41.71896,
          41.48188,
          41.35929,
          41.25387,
          41.08733,
          40.90659,
          40.87697,
          40.86123,
          35.65468073,
          40.8002,
          40.68586,
          40.61154,
          40.61221,
          40.48241,
          40.41144,
          40.33905,
          40.31797,
          40.31125,
          40.15982,
          40.28524,
          40.22957,
          40.20262,
          40.2013,
          35.64218201,
          40.18687,
          40.15697,
          40.10648,
          40.06334,
          40.05085,
          40.03905,
          40.03033,
          40.0332,
          40.0316,
          40.02302,
          34.96244575,
          39.99371,
          39.99087,
          39.975,
          39.97639,
          39.95982,
          35.59864819,
          39.96708,
          39.95574,
          39.85627,
          35.81007648,
          39.76333,
          39.7427,
          40.16443,
          40.04869,
          40.01743,
          39.97955,
          39.9397,
          0.65535216,
          0.612095178,
          1.792920851,
          -1.44462943,
          1.813741765,
          2.125399749,
          -1.808809643,
          35.35008308,
          2.148735253,
          0.632961929,
          -1.876261741,
          0.63210407,
          2.005409267,
          1.77458948,
          1.907916719,
          0.396261114,
          0.582985097,
          0.657976205,
          -20.09581913,
          -15.38404695,
          0.443784596,
          0.60954665,
          0.512928616,
          -20.01295244,
          -19.61162184,
          -19.61162184,
          -19.16966269,
          -19.10132638,
          -19.7883022,
          -19.7883022,
          -19.80016692,
          -19.92984905,
          -15.1614306,
          -19.53689568,
          35.35517512,
          35.65667884,
          -19.19975061,
          -19.53689568,
          35.92469002,
          -15.67939619,
          -15.67939619,
          -19.78714009,
          -19.7899253,
          34.41013674,
          34.54489168,
          34.58386387,
          34.86933078,
          34.88734069,
          34.89198087,
          35.03376655,
          35.57998448,
          35.81992031,
          34.57540445,
          35.58832757,
          35.33582962,
          35.95610997,
          35.43371697,
          35.09311506,
          35.33574714,
          35.82443847,
          35.34013505,
          35.5772231,
          35.33752773,
          35.34202209,
          35.94978111,
          32.09820589,
          32.33354552,
          32.37760864,
          32.12349305,
          32.60355491,
          32.92351465,
          32.61051476,
          32.10349505,
          46.17418174,
          32.6842845,
          33.03098153,
          32.25836354,
          32.33969067,
          32.32,
          32.85318973,
          32.72411171,
          32.18140388,
          32.21765623,
          32.06942893,
          32.2944432,
          32.37925761,
          46.8222713,
          32.34568646,
          33.04326973,
          32.0632551,
          32.58157044,
          32.91768003,
          32.67742806,
          32.8875908,
          32.18736356,
          32.93129443,
          31.86088516,
          32.27094227,
          32.97355016,
          34.391517,
          46.50419424,
          32.10596919,
          34.504874,
          -5.035561182,
          34.22048,
          33.364091,
          33.353643,
          34.250132,
          34.561105,
          -4.977419783,
          34.222202,
          34.237416,
          33.890084,
          33.513902,
          34.441868,
          33.730021,
          33.901739,
          -5.161892802,
          -4.936886657,
          -5.113840891,
          33.993964,
          34.051652,
          33.159951,
          -5.211379302,
          -5.103796458,
          -5.084541424,
          -5.018422556,
          34.205556,
          -5.138515393,
          46.39950428,
          34.202989,
          46.34250192,
          33.242843,
          34.302203,
          33.216208,
          46.1386888,
          34.198412,
          -4.917906596,
          34.299669,
          -4.988294508,
          46.40297695,
          33.372668,
          -5.04101167,
          -5.034762065,
          34.433781,
          34.118285,
          -5.045665393,
          34.0413,
          -5.028925504,
          34.047098,
          27.33044102,
          33.704813,
          -5.015069386,
          27.44376475,
          34.224922,
          33.584302,
          -5.101693329,
          27.5904,
          34.120883,
          -5.11342246,
          -4.944807955,
          27.58543768,
          27.67793016,
          -5.05991448,
          -4.929697208,
          27.71124695,
          27.88627687,
          -5.998341835,
          -5.11509063,
          -5.059915927,
          -4.924677364,
          27.88128231,
          27.51710253,
          27.71546403,
          27.33461973,
          27.61129657,
          27.47122971,
          27.52545279,
          27.67047767,
          -23.39499,
          27.49546319,
          27.58459757,
          27.49627976,
          27.26790339,
          27.76797408,
          27.52134299,
          27.2287882,
          27.36710537,
          27.50714948,
          27.45710938,
          27.72382861,
          27.56049159,
          27.35791,
          27.62463065,
          27.42379913,
          27.26462386,
          27.41070755,
          27.66545988,
          27.47878407,
          27.61894642,
          27.4345982,
          27.34473,
          27.55880042,
          27.66458073,
          46.18115282,
          27.38627954,
          27.49877989,
          27.28880214,
          27.49043815,
          27.432607,
          27.29963712,
          46.18115282,
          46.02288899,
          27.40046,
          27.47467044,
          27.51042717,
          27.29459778,
          27.55464072,
          27.43884733,
          27.54132924,
          27.61959348,
          46.25111111,
          46.25111111,
          27.68886307,
          47.03260838,
          46.83946274,
          46.83946274,
          45.81075711,
          46.24097037,
          46.29706857,
          47.04697319,
          47.04697319,
          46.1765471,
          46.1765471,
          46.51931983,
          46.51931983,
          46.29926584,
          -23.402534,
          -24.095859,
          46.40984427,
          27.98877967,
          46.87519016,
          23.78650219,
          23.78650219,
          46.38966119,
          47.0222774,
          46.58677128,
          46.25133469,
          46.84730625,
          47.0222774,
          27.03462952,
          27.08132887,
          46.22470833,
          46.44849036,
          27.16879338,
          27.26206842,
          27.35543467,
          46.84457974,
          46.44898723,
          46.3722636,
          27.03462952,
          27.24712855,
          23.98904346,
          27.18292471,
          24.15900063,
          27.9754239,
          27.86711952,
          27.30883807,
          27.2271,
          23.13821233,
          27.08046612,
          27.85626286,
          23.13821233,
          27.99960698,
          27.66879666,
          27.68118472,
          27.50795658,
          23.21065435,
          28.0613,
          27.85043184,
          27.24794759,
          27.52378694,
          27.50713093,
          27.29796939,
          28.06219832,
          27.99794701,
          27.26796881,
          27.68215334,
          27.80786896,
          27.17047365,
          27.33962178,
          -28.89208518,
          -28.7970685,
          27.2237,
          27.45627935,
          27.47378842,
          27.98087207,
          27.26379404,
          27.9771223,
          27.84798309,
          27.78544368,
          46.82172884,
          46.66338071,
          47.564,
          47.48750564,
          -28.89208518,
          47.48253538,
          -28.7970685,
          47.818622,
          47.47749969,
          47.46408629,
          47.44500889,
          47.35914277,
          47.28330933,
          -37.584432,
          -37.673605,
          47.28502974,
          47.35670249,
          44.3926938,
          47.54838,
          47.335,
          47.35420597,
          44.3842953,
          47.769356,
          47.38207138,
          47.27422668,
          47.736794,
          47.803143,
          47.15085723,
          47.00334264,
          44.11595711,
          46.93745811,
          23.14071384,
          46.90338197,
          46.83823846,
          31.0700833,
          46.58585661,
          46.56,
          39.47192041,
          47.22083882,
          47.22083882,
          31.4897778,
          46.61254314,
          46.5290119,
          -23.535933,
          46.61254314,
          46.5290119,
          -23.589136,
          -23.785608,
          39.30689037,
          -24.119957,
          -24.089215,
          23.78483181,
          23.8223494,
          23.78650219,
          24.3264665,
          24.04822968,
          22.89981916,
          31.4822222,
          22.89981916,
          31.4897778,
          24.17985695,
          28.459954,
          22.86650219,
          39.0236521,
          24.29150057,
          28.521305,
          24.29150057,
          28.530318,
          23.96813776,
          39.45194515,
          23.96813776,
          39.38691378,
          24.07906011,
          27.08087364,
          27.51581929,
          24.02572141,
          28.27546,
          23.13085097,
          27.75582937,
          27.75581515,
          23.13898873,
          28.31098,
          23.13898873,
          23.96643081,
          24.18068976,
          24.04822968,
          24.18235539,
          24.16232586,
          24.31818209,
          24.31818209,
          27.60744953,
          23.10649063,
          23.98482467,
          28.23416782,
          28.25402493,
          27.92232468,
          28.06691,
          28.0291,
          27.87158765,
          0.45879,
          28.01293,
          27.99000845,
          0.122772,
          28.55275,
          27.98276,
          27.97581,
          23.72875884,
          27.88234403,
          27.86650712,
          27.80668616,
          21.95290892,
          23.85777492,
          23.98042428,
          27.77829,
          27.80535,
          27.80158879,
          23.56457379,
          27.80493071,
          27.75328923,
          27.64407051,
          28.558295,
          27.81162743,
          27.8031,
          -28.70205229,
          27.7469,
          27.67660568,
          -28.59791559,
          -28.59791559,
          -28.70205229,
          44.38183266,
          28.552185,
          44.27350025,
          44.10924289,
          39.24785091,
          37.94778579,
          44.11937339,
          27.893223,
          44.17013312,
          37.94778579,
          44.16344984,
          39.46695686,
          44.21263967,
          39.43609476,
          44.21263967,
          39.43609476,
          39.50198084,
          39.46779036,
          39.0219191,
          38.00276857,
          38.00621841,
          44.06433363,
          39.02695204,
          39.02290438,
          39.45020804,
          38.9903092,
          27.893223,
          44.10432116,
          39.02200225,
          39.50449981,
          39.22443788,
          37.96702091,
          37.94272379,
          28.619687,
          44.08513557,
          43.97840683,
          39.1136335,
          39.14194033,
          26.88840971,
          27.5233391,
          27.47916675,
          27.17496105,
          27.17344151,
          0.10006,
          0.901282,
          0.643377,
          0.365157,
          0.260972,
          0.040476,
          0.213842,
          28.527703,
          28.167539,
          0.641526,
          28.05789,
          0.265928,
          28.319597,
          0.082089,
          27.954761,
          37.452305,
          0.661074,
          0.655465,
          -18.337278,
          37.353598,
          0.590935,
          0.712312,
          22.04954326,
          0.835114,
          0.806769,
          23.5462815,
          23.56961068,
          23.69206988,
          23.69957432,
          23.72043131,
          21.9412542,
          23.72624802,
          23.84450905,
          24.12627235,
          23.84626063,
          23.6954335,
          23.84785656,
          24.12958782,
          27.1178709,
          21.83126624,
          24.13035958,
          37.313624,
          21.79793704,
          24.12955359,
          21.83537479,
          23.8454173,
          27.06036422,
          24.13372147,
          27.12287118,
          21.79380893,
          21.85207123,
          21.88456798,
          27.13208452,
          24.12952027,
          23.85126389,
          27.07463253,
          27.06958089,
          21.86959299,
          27.13210687,
          27.12959255,
          23.6980031,
          38.820545,
          27.06455869,
          21.84787882,
          27.1546084,
          21.95871278,
          34.777559,
          21.8721368,
          22.07292913,
          21.87287004,
          27.07464169,
          27.06456876,
          38.177686,
          24.06039617,
          27.05539161,
          35.09665,
          34.897891,
          34.798453,
          51.47872,
          34.753054,
          34.527334,
          33.693815,
          34.479243,
          34.59924,
          33.765413,
          33.724055,
          34.557174,
          34.689056,
          31.52,
          31.95,
          32.09,
          31.48,
          32.12,
          38.17749,
          32.17,
          31.78,
          31.4,
          38.697296,
          31.8,
          32.1,
          31.068955,
          38.758905,
          31.37,
          32.25,
          38.640808,
          32.25,
          30.76037728,
          30.92177,
          30.954612,
          30.72550984,
          30.81961434,
          31.082113,
          31.22631983,
          -18.94712111,
          30.84877386,
          38.252435,
          31.252447,
          30.820332,
          -19.00394846,
          30.79965903,
          30.77459863,
          30.64127357,
          30.93298918,
          31.15385515,
          30.72116226,
          47.836623,
          47.663184,
          31.137256,
          30.57212089,
          30.72139633,
          31.2195,
          30.87212888,
          31.019621,
          30.88719793,
          30.990885,
          47.655747,
          31.56,
          47.687696,
          31.5254167,
          -18.94501523,
          47.713601,
          31.0451944,
          31.0459167,
          31.0632222,
          31.0700833,
          31.3,
          27.903202,
          27.913205,
          27.987028,
          28.063775,
          28.104275,
          28.26161,
          28.291241,
          28.309187,
          28.322972,
          28.38767,
          28.28183,
          28.517091,
          28.1121,
          -18.287574,
          -18.166734,
          -19.346241,
          -19.269485,
          44.681002,
          -19.326859,
          -19.409221,
          -18.495405,
          -19.418158,
          38.676196,
          -19.346757,
          44.718839,
          -18.180784,
          44.778227,
          -18.665343,
          38.340308,
          -19.338421,
          38.311243,
          -19.227918,
          -18.314407,
          -19.504267,
          -18.288776,
          -19.371328,
          -18.148819,
          51.491598,
          -19.174438,
          -2.939119217,
          -18.864396,
          -3.039952411,
          -19.265422,
          -19.227699,
          -18.895562,
          -19.401495,
          -18.163956,
          -19.419076,
          -2.734955881,
          38.310125,
          -2.886609327,
          -2.778351927,
          38.544437,
          -2.886609327,
          -2.605866624,
          -2.891613901,
          -3.01079762,
          -2.607516055,
          -2.9399729,
          -3.142513964,
          -2.650820662,
          45.07075649,
          -2.891613901,
          -3.01079762,
          -2.984145647,
          -2.891613901,
          -3.01079762,
          -2.995043205,
          -2.522523481,
          38.109716,
          -2.666597745,
          -2.651699562,
          -2.70248829,
          -2.725858264,
          -2.768382467,
          -2.935814402,
          -2.922501314,
          -2.955845209,
          -2.960853474,
          -2.967458984,
          -2.986666757,
          -3.006667502,
          -3.039219537,
          -3.158380714,
          38.15974,
          -3.136619286,
          -3.219086098,
          38.099436,
          -2.935814402,
          -2.960853474,
          -2.935814402,
          38.531411,
          38.199079,
          38.571334,
          38.571334,
          51.487683,
          38.571334,
          38.571334,
          37.325958,
          38.147983,
          38.653842,
          38.199079,
          38.809462,
          38.868771,
          38.6572,
          38.837972,
          38.256404,
          38.614236,
          38.542752,
          38.199079,
          38.199079,
          38.645894,
          38.647031,
          38.525865,
          38.470814,
          36.972233,
          38.926428,
          38.581581,
          38.36172,
          38.289722,
          38.36172,
          38.36172,
          38.36172,
          38.179143,
          38.779505,
          38.160826,
          38.521291,
          38.098903,
          38.634107,
          38.796486,
          38.523572,
          38.16565,
          38.237605,
          38.663869,
          38.663637,
          38.663637,
          38.663637,
          38.35727,
          38.663637,
          38.221484,
          38.613359,
          38.293101,
          38.362567,
          38.173341,
          -17.62848502,
          -17.5503448,
          -17.56612671,
          -17.54869368,
          45.452354,
          27.8944,
          45.454078,
          27.88957226,
          45.374807,
          45.495212,
          45.528658,
          45.390781,
          45.527057,
          45.549588,
          45.383602,
          45.414778,
          45.587473,
          -18.399787,
          -18.399787,
          -18.399865,
          -18.336699,
          -18.336699,
          -18.336699,
          -17.995552,
          -17.994721,
          37.112763,
          27.88630257,
          27.85120131,
          27.84265034,
          27.7212,
          27.68287927,
          27.65950182,
          27.63880063,
          27.58957934,
          27.57621421,
          27.63314339,
          27.54386719,
          26.84371158,
          27.5041,
          27.53043795,
          27.4814,
          -25.323482,
          27.49714458,
          27.44537589,
          27.4223,
          27.3945,
          27.4232,
          27.31959518,
          27.23362868,
          27.23379549,
          27.187867,
          27.05909749,
          -43.01497964,
          27.0208,
          26.9504784,
          26.94201384,
          26.87796043,
          26.83041472,
          -43.39664339,
          -43.38000821,
          -43.47916853,
          36.47466669,
          -42.98832403,
          -43.2933228,
          -43.57664396,
          -23.60188291,
          -33.360599,
          -33.398385,
          -34.021483,
          -25.02448604,
          -33.434303,
          -33.463145,
          -33.981517,
          -33.984923,
          7.269045659,
          7.188477002,
          -33.983784,
          -33.99321,
          -33.99558,
          7.210545093,
          7.239065316,
          7.260614672,
          -25.257577,
          7.198472025,
          7.133057761,
          7.144473531,
          7.312347879,
          7.193494176,
          -25.343494,
          6.907770163,
          7.09272416,
          7.37419427,
          36.65881659,
          6.930427274,
          7.147798366,
          7.129532221,
          7.153453114,
          7.133333441,
          36.47466669,
          -23.59359643,
          -23.59359643,
          35.33221747,
          -23.59521941,
          -23.59609061,
          -23.59521941,
          -25.380909,
          -23.59609061,
          -23.4543779,
          47.8590653,
          -23.4543779,
          -23.81111929,
          -23.81447376,
          -23.81447376,
          36.47466669,
          -23.81111929,
          -23.81111929,
          36.44724678,
          -23.65938541,
          -23.60188291,
          -23.65938541,
          36.7273263,
          -23.65938541,
          -23.38028046,
          -23.38028046,
          -23.38028046,
          45.054517,
          44.793878,
          45.013714,
          44.890781,
          45.038462,
          44.783874,
          44.880868,
          44.871068,
          44.941459,
          30.76636712,
          44.891281,
          30.52567467,
          44.881765,
          44.985941,
          36.46781,
          30.75364357,
          30.74431096,
          30.73893993,
          30.29416679,
          30.73612995,
          30.68759572,
          30.61371088,
          35.585747,
          30.67377996,
          35.28640132,
          30.48642867,
          30.37968673,
          30.28982211,
          36.46884252,
          35.2889,
          36.46884252,
          36.46884252,
          36.77222054,
          36.46884252,
          35.58545316,
          36.66549048,
          35.62550701,
          35.34379919,
          35.32132874,
          35.622347,
          35.54387495,
          35.56986625,
          36.75298829,
          35.63629512,
          36.65881659,
          36.78629718,
          35.54810708,
          36.71738084,
          35.54562373,
          35.54562373,
          36.727205,
          35.52559568,
          36.47470495,
          36.61554915,
          36.61651497,
          35.341715,
          35.31295498,
          35.62380701,
          36.44724678,
          36.44724678,
          39.37259363,
          36.44724678,
          36.62042868,
          36.62042868,
          36.62042868,
          36.62042868,
          36.53884361,
          36.53884361,
          36.53884361,
          36.53884361,
          35.28640132,
          36.47466669,
          36.56393156,
          36.56393156,
          36.56393156,
          36.56393156,
          35.3580665,
          36.617493,
          36.46781,
          36.46781,
          36.46781,
          35.543854,
          35.570493,
          36.752134,
          45.06417871,
          35.637737,
          -25.19376205,
          36.787249,
          35.358562,
          38.825783,
          36.665989,
          36.54121,
          36.719059,
          -24.82373538,
          35.549373,
          36.447743,
          36.77564,
          36.557773,
          45.05753594,
          36.660847,
          36.557773,
          35.332077,
          36.557773,
          46.71906,
          36.47546,
          36.47399,
          35.58720678,
          35.526455,
          36.47399,
          47.90512134,
          36.554099,
          36.47399,
          35.62895817,
          35.622927,
          36.47399,
          -24.85371415,
          35.312982,
          35.294198,
          36.447743,
          36.447743,
          36.447743,
          36.619426,
          36.619426,
          36.619426,
          36.619426,
          36.557773,
          -25.09712379,
          36.54121,
          36.54121,
          36.54121,
          -23.9369665,
          46.722455,
          -23.93373056,
          -24.46039775,
          -24.72043087,
          -24.72788071,
          35.6230928,
          -24.86123325,
          -25.01457852,
          -25.14375016,
          -25.11869518,
          -25.30700714,
          -25.33459292,
          -24.46039775,
          -25.09712379,
          38.679926,
          38.767746,
          38.767306,
          38.813601,
          35.59929724,
          38.80172,
          38.76855,
          38.725196,
          38.828304,
          38.806344,
          -41.16085786,
          35.59929724,
          1.627093,
          -41.61424208,
          35.59929724,
          -41.26750031,
          -41.32504283,
          -41.34919036,
          -41.28167702,
          35.62234736,
          -41.39003807,
          35.49941535,
          -41.63332361,
          44.11845932,
          44.17018893,
          44.22116692,
          44.22116692,
          35.60152584,
          38.00251018,
          35.59831669,
          47.87382455,
          44.06473419,
          35.59831669,
          38.00432849,
          35.59831669,
          -23.04382868,
          44.10918767,
          43.98144926,
          37.94345817,
          37.94808691,
          37.96745099,
          35.50519697,
          35.50519697,
          35.50519697,
          35.50519697,
          35.50519697,
          37.94808691,
          44.11520818,
          35.50519697,
          35.50519697,
          35.51698612,
          35.60152584,
          35.61074685,
          -25.21202974,
          35.66123485,
          35.60152584,
          35.66850137,
          35.59831669,
          47.86056039,
          35.51637532,
          35.52050565,
          35.65933999,
          35.6532394,
          -25.01960025,
          35.7376219,
          35.56722688,
          -25.933295,
          35.47573995,
          35.59929724,
          35.62868959,
          35.46422226,
          35.45807878,
          35.66381985,
          35.5605578,
          35.66381985,
          35.46707915,
          35.66381985,
          35.61015113,
          35.66381985,
          35.61869648,
          -25.933295,
          35.74933178,
          35.46969131,
          35.73566779,
          35.48669574,
          35.68764038,
          35.5583831,
          35.58031926,
          35.58436025,
          46.724008,
          35.6181122,
          35.75378334,
          35.61606981,
          35.61297991,
          35.60769643,
          -22.86930088,
          -22.83342814,
          -22.95678604,
          -22.26594771,
          -22.21763557,
          -22.2684479,
          -22.31855053,
          -22.25097652,
          -22.22014997,
          -22.24853588,
          -22.66929881,
          -22.66924646,
          -22.30428643,
          -23.04017297,
          46.730441,
          -23.0393933,
          -22.68929067,
          -22.68849492,
          -22.91844778,
          -23.04625761,
          -22.96264245,
          -22.27846412,
          -22.24679813,
          -22.31428585,
          -22.26695521,
          -22.64348616,
          -22.30666829,
          -23.04517323,
          -22.72097884,
          -22.72678342,
          -22.23425736,
          -22.2375958,
          34.578738,
          34.31012,
          34.510987,
          34.480738,
          33.940812,
          34.294901,
          45.23663795,
          34.254123,
          34.284724,
          -23.04627565,
          34.30384,
          44.856,
          34.18806,
          41.11797208,
          34.158623,
          41.08864973,
          34.279753,
          41.3283275,
          37.588,
          34.041164,
          34.339617,
          41.28834348,
          39.36035469,
          39.3450607,
          39.36574946,
          39.36645303,
          39.37334603,
          45.2168,
          44.95664245,
          44.99279405,
          45.2875,
          45.04334984,
          45.20907132,
          45.08432445,
          45.23495022,
          45.0111,
          45.0733,
          45.4133,
          45.23920676,
          45.1424,
          45.3014,
          45.38579962,
          45.07917505,
          45.1414,
          45.14,
          45.17500645,
          45.34668654,
          45.2541612,
          44.90078535,
          45.10662747,
          45.0192,
          45.235775,
          -28.1881559,
          -28.06399325,
          -28.07643918,
          -25.21833333,
          -27.98141481,
          42.51832718,
          42.4750273,
          -28.07897204,
          -28.22387126,
          42.44575667,
          42.4348923,
          38.37642212,
          42.61409455,
          42.23087564,
          42.48249718,
          42.413,
          42.43832718,
          42.11586675,
          42.51328554,
          42.50913563,
          42.43658535,
          42.31909518,
          -23.03701904,
          -25.02958121,
          42.30576143,
          42.29002317,
          -23.12375254,
          -25.03492479,
          -25.23542893,
          -25.222,
          -23.043,
          30.85395833,
          31.07226035,
          30.86394427,
          30.963068,
          30.93971146,
          31.03228584,
          30.92143732,
          30.81225059,
          31.14061346,
          30.82891214,
          30.84638785,
          30.86641892,
          30.60720482,
          30.90478491,
          30.61731334,
          38.42147399,
          30.86143663,
          31.06479749,
          31.0411,
          30.6383,
          30.6381,
          31.34723168,
          31.34895147,
          30.61974408,
          30.60720482,
          30.59894897,
          30.6258,
          17.71438,
          39.055365,
          39.117305,
          39.194789,
          38.957468,
          39.221758,
          39.161864,
          39.199361,
          39.119904,
          38.945689,
          38.945689,
          39.184564,
          39.053448,
          39.195221,
          39.15965,
          39.204618,
          39.148988,
          39.027395,
          39.047699,
          39.047699,
          39.097369,
          39.120452,
          39.209821,
          39.209821,
          39.018983,
          39.045771,
          39.045771,
          38.975844,
          7.260614672,
          7.147798366,
          7.147798366,
          7.147798366,
          7.147798366,
          45.08697524,
          7.260614672,
          7.260614672,
          7.260614672,
          7.147798366,
          38.32069525,
          45.05626408,
          38.32504587,
          38.34438846,
          45.0514183,
          38.33307823,
          38.5166711,
          38.22609913,
          38.40202229,
          38.38859802,
          45.1085796,
          45.09315417,
          38.58089892,
          38.3574113,
          45.06814997,
          38.66207023,
          38.5161361,
          45.07588095,
          30.6234145,
          30.59509341,
          30.40760404,
          30.61180747,
          30.38426862,
          30.49094457,
          30.25827778,
          30.23844444,
          -20.827489,
          -20.735016,
          31.038478,
          -20.747546,
          -20.756207,
          -20.806576,
          -20.735057,
          33.12427,
          -20.819422,
          -20.718249,
          -20.879671,
          33.22702,
          -20.925288,
          -20.860975,
          -20.91108,
          -20.854313,
          -20.902435,
          -20.931067,
          -20.953027,
          33.09564,
          -20.928716,
          -20.89512,
          -20.866107,
          31.063589,
          30.881319,
          31.104935,
          31.488877,
          31.105619,
          31.348017,
          31.452667,
          32.96459,
          31.332693,
          31.316945,
          31.061946,
          31.401461,
          34.30585184,
          31.321156,
          31.353995,
          32.93547,
          34.24186626,
          34.3116172,
          -23.357052,
          -23.365757,
          -23.38714,
          -23.478488,
          34.30628656,
          -23.482986,
          34.16457381,
          -23.477074,
          34.3215434,
          -23.480911,
          34.29659644,
          34.36022667,
          34.30600125,
          34.28207688,
          34.27298426,
          34.33036875,
          34.25361582,
          34.32832365,
          37.576,
          34.29736503,
          34.29736503,
          34.16457381,
          34.30601248,
          34.3050456,
          34.27219067,
          34.33138945,
          34.30254075,
          34.30269779,
          34.3665753,
          34.30946552,
          34.36181429,
          34.24445567,
          34.24158421,
          34.27892336,
          34.27893123,
          34.38187044,
          34.30812915,
          34.23231637,
          34.32040301,
          34.33756496,
          34.29891255,
          34.35363468,
          34.20902663,
          34.21992867,
          37.552,
          34.36500786,
          34.21915708,
          34.34068458,
          34.32351053,
          34.36186531,
          34.36029785,
          34.34192016,
          34.37829672,
          34.36581822,
          34.27975824,
          34.28439059,
          -2.875637901,
          -2.767948087,
          -2.958215057,
          -2.875637901,
          -2.935872795,
          33.07620409,
          -2.936543723,
          -3.044116879,
          44.4278,
          -2.96178495,
          -2.920149424,
          -2.981351691,
          -2.958215057,
          -2.99179462,
          -2.942590294,
          -2.942590294,
          -2.942590294,
          -2.952503811,
          -3.044066961,
          28.30414692,
          40.62047129,
          28.25333205,
          28.27659897,
          28.27909,
          28.28699,
          28.2941356,
          40.5704493,
          28.2941356,
          40.57567448,
          28.30830415,
          40.54132919,
          28.31586585,
          28.32631949,
          6.775440066,
          28.30830415,
          40.54132919,
          28.32750855,
          38.47107865,
          28.33834855,
          -31.05953601,
          29.58417,
          28.3367281,
          28.35503252,
          -31.0696288,
          28.35830283,
          28.205654,
          28.35830283,
          40.88107803,
          28.40387717,
          28.37670865,
          28.37358289,
          28.138041,
          28.37493113,
          28.099665,
          28.38606,
          28.080593,
          40.57950337,
          28.38606,
          28.06151,
          48.239915,
          28.40387717,
          38.60295711,
          38.99542862,
          38.88875373,
          38.59955723,
          38.85875272,
          38.8687722,
          38.79127664,
          38.7412,
          38.75292956,
          38.59960902,
          29.58417,
          38.70285886,
          34.225216,
          -31.36960977,
          -31.5795717,
          24.608103,
          24.557118,
          24.532491,
          24.487918,
          24.485123,
          29.582496,
          24.426177,
          27.948325,
          29.582496,
          24.485988,
          24.426949,
          29.582496,
          27.928088,
          27.881449,
          41.10729693,
          40.91697353,
          41.05727926,
          40.93973587,
          41.01540843,
          40.97578816,
          41.06533609,
          40.52131598,
          48.150359,
          34.18808,
          48.584761,
          48.569325,
          48.568768,
          48.132081,
          48.207246,
          48.106374,
          48.131914,
          48.564235,
          29.582496,
          48.214709,
          48.578201,
          48.186311,
          48.234256,
          48.117648,
          48.597116,
          34.238473,
          48.551791,
          48.568775,
          48.209645,
          48.589276,
          34.183753,
          34.186755,
          34.170787,
          34.036357,
          34.034702,
          6.771254,
          34.032568,
          34.011085,
          33.991189,
          33.964801,
          47.407042,
          47.374024,
          47.392914,
          47.376243,
          47.346208,
          37.553618,
          47.41039,
          47.341207,
          47.284477,
          47.330418,
          47.346224,
          47.300446,
          47.342098,
          47.310398,
          47.31127,
          47.347964,
          47.335412,
          47.387101,
          30.661849,
          30.48743,
          6.78296369,
          30.591668,
          37.558417,
          30.599978,
          39.65166982,
          43.985,
          43.96414991,
          43.67085661,
          43.47080902,
          43.46830933,
          37.466446,
          39.991738,
          37.434574,
          37.396525,
          -23.342974,
          37.362445,
          37.321622,
          37.313206,
          -23.484712,
          37.303172,
          37.253532,
          37.216187,
          -13.51248421,
          37.196253,
          37.159563,
          37.860699,
          37.127932,
          -13.56580519,
          37.0819,
          37.059827,
          -13.52165997,
          37.039656,
          -23.325474,
          -23.469645,
          37.863201,
          -13.61573877,
          40.203524,
          -13.57582167,
          40.157621,
          39.6284,
          -13.54162113,
          -13.51833025,
          40.038626,
          40.03379,
          40.012537,
          40.010651,
          40.004024,
          40.004012,
          39.98125,
          39.960038,
          39.965423,
          40.014935,
          47.86468789,
          -33.2886794,
          47.8669104,
          -33.27870557,
          47.93909095,
          47.87950593,
          47.84823159,
          47.98298612,
          47.94826398,
          47.96125928,
          47.84251929,
          47.8690385,
          47.96666667,
          -25.838347,
          -25.894637,
          -32.344,
          -25.875149,
          -25.875079,
          -25.896028,
          39.6475005,
          -32.37079,
          -32.49826,
          -32.553348,
          -32.578554,
          34.082687,
          -32.645187,
          34.393989,
          34.396673,
          34.276754,
          34.049663,
          37.860699,
          34.284158,
          34.402745,
          34.053039,
          34.086738,
          34.375776,
          34.279446,
          34.084046,
          34.096178,
          34.186471,
          34.183102,
          34.185789,
          34.212077,
          34.170293,
          34.196563,
          34.193864,
          37.656005,
          37.41319,
          37.462863,
          37.288956,
          37.663521,
          51.456907,
          51.485462,
          51.477896,
          51.468904,
          9.359510266,
          51.457261,
          51.49134,
          51.474517,
          51.431221,
          9.270825837,
          51.483578,
          51.487829,
          9.359500563,
          9.243797909,
          9.295804835,
          9.357160262,
          9.266866283,
          9.292551346,
          37.264445,
          9.269348815,
          9.294182243,
          9.365270434,
          9.370643558,
          9.363369899,
          9.36911138,
          9.368299363,
          9.331197353,
          9.354614577,
          37.066233,
          -25.365279,
          36.405,
          36.4934,
          -25.330437,
          -25.310849,
          36.5192,
          36.4868,
          -25.345912,
          -25.346706,
          36.4066,
          -25.382028,
          36.4775,
          36.4784,
          36.4092,
          36.4075,
          36.4074,
          40.09411,
          36.405,
          36.406,
          36.4026,
          36.4033,
          36.4041,
          -22.2689,
          28.33497991,
          28.33497991,
          28.37082773,
          28.33497991,
          28.33497991,
          -22.25107765,
          28.33497991,
          28.33497991,
          -22.23442868,
          28.37164978,
          28.37164978,
          28.37164978,
          -22.24687364,
          28.37164978,
          28.37164978,
          28.37164978,
          -22.27856406,
          28.37583271,
          28.37583271,
          28.37415941,
          28.37082773,
          28.37583271,
          28.37415941,
          28.37082773,
          28.37583271,
          28.37415941,
          28.37082773,
          28.37583271,
          28.37415941,
          28.37583271,
          28.37415941,
          28.37082773,
          -22.21690031,
          -22.30607652,
          -22.26704801,
          -22.31437151,
          47.9434,
          47.92577138,
          47.92918528,
          47.92411446,
          47.91154327,
          46.44785155,
          47.90836462,
          47.91837395,
          47.91243745,
          47.90415686,
          47.0370528,
          47.90750025,
          47.88326462,
          47.8982,
          47.90342899,
          47.88670495,
          33.04011793,
          47.88245016,
          46.49046815,
          46.46582829,
          46.49863573,
          33.04011793,
          46.44192816,
          46.52205836,
          46.45371221,
          46.51134842,
          46.50209963,
          40.09719,
          46.43714301,
          46.43207172,
          46.44779441,
          46.41951181,
          46.96709093,
          46.45704937,
          46.52542859,
          46.52542859,
          46.46206578,
          46.97204818,
          46.9887173,
          47.03038082,
          46.94784537,
          46.9828301,
          37.506,
          47.03045928,
          46.97031998,
          46.98705101,
          46.98705101,
          46.98705101,
          46.99537314,
          46.99038085,
          47.00137987,
          -18.00450175,
          37.337,
          -18.08868087,
          -18.00450175,
          -18.08868087,
          37.328,
          -18.01948528,
          -18.01948528,
          -18.08868087,
          40.09411,
          -18.00450175,
          -18.00450175,
          -18.08868087,
          -18.01948528,
          46.62041509,
          46.61136512,
          46.60795679,
          46.63294709,
          46.5954283,
          46.60875128,
          46.58955016,
          33.04011793,
          33.04011793,
          33.04011793,
          33.04011793,
          33.08852509,
          33.1168722,
          33.15466962,
          33.08236095,
          33.15466962,
          33.08236095,
          33.15466962,
          33.08236095,
          33.15466962,
          33.16973105,
          33.08850379,
          33.09846027,
          33.08850379,
          33.206904,
          33.1768494,
          33.14574115,
          33.16897031,
          33.10745468,
          33.07715684,
          33.16337438,
          33.08613491,
          33.08613491,
          33.08613491,
          40.09719,
          33.07715684,
          33.07715684,
          33.07645802,
          33.07645802,
          33.07620409,
          33.07620409,
          44.465265,
          44.465265,
          44.506775,
          44.523661,
          44.507523,
          44.508666,
          46.71032,
          44.513888,
          44.518983,
          44.51557,
          44.53699,
          46.714144,
          44.496178,
          44.496178,
          44.496178,
          46.670554,
          46.67796,
          46.693171,
          46.695129,
          46.703597,
          46.704564,
          46.697017,
          46.696786,
          46.704322,
          46.701262,
          6.731933181,
          6.756175974,
          6.74445638,
          6.721040968,
          6.790496979,
          6.789659097,
          6.79803403,
          6.783800106,
          6.803893882,
          6.724377227,
          6.798022455,
          6.757862963,
          6.801374118,
          6.813095185,
          6.744471065,
          6.769581173,
          39.61252386,
          39.67086212,
          39.62255711,
          39.62502298,
          40.09719,
          39.67165698,
          39.63161879,
          39.67821678,
          39.71875723,
          39.64664264,
          39.7184,
          37.45,
          37.43033375,
          31.37880595,
          31.37552029,
          31.35472138,
          31.34228964,
          31.31964853,
          31.3158,
          31.30889036,
          40.09411,
          46.992217,
          46.971246,
          -23.94545661,
          46.957082,
          46.932104,
          46.966372,
          35.698518,
          46.951276,
          46.928767,
          46.927917,
          46.949579,
          46.970411,
          46.966328,
          47.658132,
          47.658132,
          47.730232,
          -23.943798,
          47.730232,
          47.687377,
          47.739905,
          47.739905,
          40.09719,
          -23.943798,
          -23.9431,
          -23.9431,
          -23.94296525,
          35.692378,
          -23.95212824,
          -23.94296525,
          -23.94545661,
          -23.95212824,
          46.41461064,
          46.41461064,
          46.41461064,
          46.41461064,
          44.93436769,
          46.41461064,
          46.41461064,
          46.41461064,
          44.91589054,
          46.41461064,
          46.40251428,
          46.40251428,
          46.40251428,
          46.40251428,
          46.40251428,
          46.40251428,
          46.40251428,
          43.76500927,
          43.7166717,
          43.7258355,
          36.99001724,
          36.98847935,
          36.98021285,
          36.99153481,
          37.652,
          36.98782806,
          37.00223333,
          37.00463807,
          36.999183,
          35.87504339,
          35.86996688,
          35.86572893,
          35.89252405,
          37.71826566,
          37.643,
          37.74333688,
          37.76002795,
          37.75995897,
          37.75580547,
          37.74748717,
          37.72511723,
          34.094143,
          34.160188,
          34.1128726,
          34.11454367,
          34.11369646,
          34.11952263,
          34.12368497,
          34.13037468,
          34.13037468,
          37.592,
          34.13037468,
          34.13037468,
          34.12621629,
          34.12621629,
          34.12536844,
          34.13204646,
          37.325,
          37.308,
          37.317,
          37.23,
          37.259,
          35.669035,
          37.178,
          37.172,
          37.095,
          37.065,
          37.053,
          29.588352,
          37.028,
          44.16491641,
          44.16319205,
          34.772083,
          34.754389,
          29.588352,
          34.743111,
          34.72925,
          34.7175,
          34.71275,
          34.696528,
          35.689379,
          35.687083,
          37.292583,
          35.686845,
          35.698295,
          35.68963,
          35.717184,
          35.64378,
          35.708471,
          35.691417,
          35.644635,
          37.272444,
          35.64191,
          37.300528,
          35.645201,
          35.650104,
          37.258444,
          29.588352,
          35.65449,
          37.272444,
          35.659996,
          37.286556,
          29.588352,
          35.664265,
          37.319444,
          35.674334,
          35.678967,
          35.68244,
          37.267778,
          37.298083,
          -20.367184,
          29.587502,
          -20.396581,
          -20.371277,
          -20.396601,
          35.703721,
          29.58417,
          18.155531,
          18.155531,
          18.155531,
          18.155531,
          18.155531,
          18.155531,
          18.155531,
          35.703721,
          35.703721,
          38.421205,
          38.418452,
          38.428567,
          38.28946,
          38.457672,
          38.308042,
          38.300926,
          38.278078,
          38.29912,
          18.275987,
          18.268833,
          -23.5176481,
          -31.54510853,
          -12.466649,
          -21.2362069,
          -23.52418473,
          -33.414925,
          -33.41667,
          -20.26540591,
          -23.56659436,
          -31.57366418,
          -31.55705824,
          -12.476628,
          -36.614926,
          -32.11719634,
          -30.192016,
          -12.45504,
          -35.977251,
          -32.22998767,
          -32.1503193,
          -32.1503193,
          -32.15106082,
          -12.458477,
          -12.469143,
          -19.99718759,
          -12.453331,
          -12.465792,
          -12.453331,
          -12.463339,
          -23.590633,
          -23.699221,
          -23.699221,
          -21.533764,
          -23.660723,
          -23.591524,
          -23.589891,
          -16.85147568,
          -16.80162378,
          -16.96333631,
          -16.8233617,
          -16.87306201,
          -19.9853847,
          -16.8233617,
          -16.82243794,
          -16.94745428,
          -16.90157855,
          -16.903067,
          -19.89284258,
          -16.82243794,
          -16.79251795,
          -16.82662723,
          -16.83255385,
          -16.81582258,
          -20.99954568,
          -21.52954497,
          -20.5303045,
          -19.97960029,
          -19.92298927,
          -19.90300843,
          -19.73288709,
          -19.92296168,
          -19.63538369,
          -19.72044729,
          -19.90140338,
          -19.64958344,
          -19.91787954,
          -19.91364753,
          -19.88910017,
          -19.8929779
         ],
         "legendgroup": "Fluvial",
         "lon": [
          -67.50621031,
          -67.87226459,
          -67.24832857,
          -68.21341853,
          -67.39829488,
          -67.39829488,
          -67.84133097,
          -68.27599811,
          -68.52083039,
          -67.86878041,
          -67.88595294,
          -67.67330461,
          -67.43203769,
          -67.33535518,
          -67.65846665,
          -67.64581122,
          -68.23739334,
          -68.01532084,
          -67.43287202,
          -67.64238921,
          -68.15391938,
          -68.59783909,
          -67.21327072,
          -67.21327072,
          -67.21327072,
          -67.58753617,
          -67.48550605,
          -68.12066729,
          -68.07444563,
          -68.16686929,
          -67.97059171,
          -67.80889404,
          -67.62680598,
          -68.63841123,
          -67.46734137,
          0.9261229189,
          0.9261229189,
          -67.90902905,
          -68.47980034,
          -67.88838044,
          -67.2212376,
          -68.6367113,
          -67.2212376,
          1.894354099,
          -67.19593531,
          -67.2212376,
          3.058650747,
          6.163601551,
          -67.65183432,
          -67.2212376,
          6.163601551,
          -68.03930191,
          -68.67203474,
          -68.67897186,
          -68.54307844,
          -67.576504,
          -67.80889404,
          6.04813168,
          -67.80889404,
          -67.22838596,
          5.763225908,
          -67.22838596,
          -68.64704869,
          -68.49007183,
          5.763225908,
          5.763225908,
          3.132972095,
          5.005929037,
          3.065727991,
          3.065727991,
          8.794877147,
          3.234836738,
          3.234836738,
          8.935985013,
          8.935985013,
          8.935985013,
          3.327719716,
          3.898547098,
          9.144929572,
          9.144929572,
          4.87837181,
          4.705065545,
          3.454769502,
          4.044567674,
          3.360483932,
          9.158036715,
          4.212215256,
          3.28492565,
          5.100368437,
          9.419309342,
          9.419309342,
          12.12085752,
          3.314287554,
          12.39988949,
          3.985746835,
          3.491788322,
          3.491788322,
          3.500640956,
          3.448667181,
          13.25472681,
          12.73618545,
          -75.456604,
          -74.081987,
          12.73618545,
          -75.58244,
          -75.775587,
          12.73618545,
          1.285123047,
          98.85166,
          12.83799013,
          98.900478,
          98.892232,
          98.892232,
          5.679748814,
          98.797211,
          8.648274519,
          3.648027147,
          98.635232,
          99.29682,
          97.215653,
          3.683333333,
          3.206819459,
          13.25469541,
          99.087163,
          8.61711341,
          -73.682966,
          -74.055675,
          -74.702058,
          -75.119697,
          3.925837602,
          3.861658726,
          12.73825798,
          12.84445734,
          -75.183453,
          3.450358129,
          13.23256733,
          8.617167613,
          13.21526495,
          3.20619841,
          13.23256733,
          13.23256733,
          3.458760066,
          3.42990015,
          -73.094102,
          -73.489453,
          -76.123845,
          -76.300926,
          99.034491,
          -76.699643,
          98.919857,
          98.351244,
          -76.987743,
          97.344423,
          97.178388,
          97.178388,
          -77.006015,
          100.019868,
          99.392794,
          99.034985,
          98.86114,
          98.86114,
          97.162205,
          97.162205,
          97.335083,
          97.919742,
          97.77254,
          97.320735,
          97.156226,
          99.004158,
          97.070158,
          98.389885,
          98.368088,
          98.158655,
          98.595415,
          98.559951,
          98.349078,
          97.157845,
          98.808707,
          97.880624,
          96.708721,
          97.974504,
          98.212229,
          97.702951,
          96.797681,
          98.367603,
          98.652892,
          97.837037,
          97.279427,
          98.892005,
          -63.400717,
          -64.31585391,
          -76.87855948,
          -64.49850167,
          -65.16218744,
          -65.19507761,
          -65.67424397,
          -64.29760711,
          -65.83090286,
          -65.69178054,
          -66.24016677,
          -64.89096986,
          -66.33671637,
          -63.66507887,
          -64.09675025,
          -66.34094932,
          -65.26214641,
          -65.17885327,
          -63.67593329,
          -64.50597215,
          -65.69844371,
          -63.574367,
          -66.28678388,
          -65.29345244,
          -65.1363217,
          -66.38508142,
          -66.32923616,
          -63.69801513,
          -66.35094134,
          -64.09424164,
          -63.66934479,
          -66.34175579,
          -66.38176488,
          -63.54093591,
          -64.58634178,
          -65.98593125,
          -66.1542066,
          -66.45547975,
          -65.14926336,
          -63.67680047,
          -65.94842745,
          -64.43429029,
          -66.41938732,
          -64.86682154,
          -64.28096384,
          -64.983722,
          -65.11415479,
          12.31624333,
          12.31624333,
          11.89660789,
          10.52412379,
          -65.11226797,
          9.89290452,
          9.372119098,
          -64.72348072,
          9.372119098,
          8.893764978,
          8.893764978,
          8.632885285,
          -64.775139,
          8.723706763,
          8.98586003,
          8.702885911,
          7.975780275,
          7.837915101,
          -64.30180562,
          9.510392778,
          9.017846439,
          8.396258673,
          10.14210407,
          10.09203287,
          -65.86430143,
          7.658660335,
          7.398855201,
          9.0287067,
          10.7578995,
          -63.82013316,
          -66.37366203,
          -64.76518227,
          8.380472265,
          9.584574051,
          8.300396662,
          -77.12878309,
          -66.33679098,
          -64.03841669,
          -64.320283,
          12.31624333,
          7.879529792,
          7.641190668,
          8.86129906,
          10.40869975,
          7.517105675,
          8.337872744,
          8.527037946,
          7.432875516,
          -72.41875235,
          -71.69041215,
          -78.62118554,
          8.680516607,
          8.42378015,
          8.320435817,
          -72.7320918,
          -73.11290626,
          -76.39655579,
          -75.24246187,
          -75.68552874,
          -74.63544371,
          -77.76949524,
          -79.17538885,
          -77.58622367,
          -74.52290019,
          -70.95875554,
          -79.48124252,
          -79.60458554,
          -76.12961384,
          -76.63439276,
          -77.23950664,
          -77.8320439,
          -76.65125254,
          -70.50622755,
          -79.00793312,
          -78.1529377,
          -78.27371666,
          -70.98963563,
          -79.63121572,
          -76.99454089,
          -78.78376412,
          -70.32788541,
          -76.89202373,
          -79.85041259,
          -78.43208522,
          -69.95541597,
          -73.61791897,
          -74.26123538,
          -76.62041396,
          -77.6954005,
          -78.29540182,
          -76.73875867,
          -78.21876418,
          -69.62036594,
          -76.24213406,
          -77.1316792,
          4.749133614,
          5.56240456,
          4.939158977,
          4.680827678,
          3.444159239,
          4.562387847,
          6.24085025,
          2.980850251,
          2.966626477,
          4.794154136,
          3.01503496,
          5.633287259,
          5.971668773,
          4.600037629,
          95.311052,
          94.935436,
          94.327133,
          95.067287,
          95.068863,
          94.800326,
          94.803999,
          95.112136,
          70.17835629,
          70.78502981,
          71.46008566,
          71.59587151,
          71.60420682,
          95.1796,
          95.514425,
          72.21006888,
          95.410029,
          95.25938,
          95.384095,
          71.3776288,
          72.74588015,
          71.52680013,
          73.96424809,
          71.84675128,
          11.28325231,
          11.27748212,
          10.11672703,
          10.11672703,
          10.69580846,
          10.69580846,
          11.30486111,
          11.50228569,
          12.537461,
          11.45186244,
          11.47339369,
          11.84502778,
          75.86395634,
          11.79233333,
          11.83375,
          76.43492791,
          11.84502778,
          78.35323826,
          77.67822082,
          77.67822082,
          77.43654628,
          77.16994332,
          76.02496259,
          77.43325,
          74.38406329,
          75.0416612,
          74.787417,
          77.64986081,
          77.782472,
          76.89327304,
          76.14325964,
          75.26657095,
          75.97000773,
          76.4348976,
          74.64733312,
          75.4707558,
          75.43993071,
          75.79409066,
          76.29579807,
          -85.19132944,
          76.24996588,
          -78.74002822,
          -83.20377827,
          74.83158689,
          76.57748758,
          -79.09037981,
          -81.18967232,
          76.30744611,
          75.74997222,
          75.36575933,
          75.41915285,
          75.40653696,
          76.55487805,
          -84.90294464,
          76.57394455,
          75.01988209,
          -83.72666614,
          75.36741434,
          76.0177261,
          76.655111,
          75.29991258,
          75.794528,
          76.69739421,
          75.20659461,
          75.25741918,
          75.03653943,
          75.93570168,
          76.44409097,
          76.86830923,
          75.41739927,
          76.01240513,
          75.41739927,
          75.10656921,
          75.75745686,
          74.80491573,
          -82.81718098,
          -79.292967,
          75.57941667,
          76.76990063,
          76.35908333,
          76.59079,
          76.88240824,
          76.57324667,
          76.0116122,
          75.88987497,
          75.74242499,
          75.21405556,
          75.86164975,
          75.50316061,
          -5.586885408,
          -5.537734625,
          75.80738594,
          76.07330933,
          75.75162621,
          75.09741614,
          75.79822542,
          75.53317454,
          75.712111,
          75.18405943,
          3.442921104,
          -5.42691008,
          75.80826525,
          75.01249426,
          76.65660586,
          75.68466667,
          75.78656564,
          -5.439319226,
          75.80996803,
          14.389165,
          -5.104957232,
          14.40328979,
          14.34409449,
          -4.739573075,
          -4.547979461,
          -4.002105823,
          14.47665279,
          3.447854669,
          3.357919789,
          3.299857232,
          -94.79829296,
          -96.0250056,
          -96.41995949,
          -96.53908566,
          -79.998077,
          -82.19970464,
          -80.69967493,
          -78.40713977,
          -83.29382063,
          -81.00531241,
          -82.2238,
          -82.52471415,
          -80.19192459,
          -80.00874621,
          -83.76724597,
          -78.26489346,
          -76.72009712,
          -81.71302774,
          -83.40133062,
          -83.9413211,
          -76.62297322,
          -76.44089528,
          -78.88880897,
          -76.88307341,
          -76.3680825,
          -75.8972897,
          -76.57703049,
          -78.67556366,
          -77.13127261,
          -78.19624457,
          -77.77849324,
          -76.75311258,
          -76.89802273,
          -77.1685304,
          -78.49251794,
          -76.32829497,
          -77.79429662,
          -76.27721712,
          -76.34592846,
          -77.60977401,
          -77.40221341,
          -77.01469995,
          87.20318379,
          -76.96518264,
          -76.18838027,
          -76.33904171,
          -77.92143075,
          -75.98905931,
          -77.24607319,
          -78.42986666,
          -76.62021751,
          -76.49340124,
          -78.03875181,
          -78.27810029,
          -76.61772903,
          -76.8976571,
          -78.18656185,
          -77.30783041,
          87.14764055,
          -78.35692508,
          -77.7677603,
          -76.52207333,
          -77.49031481,
          -78.23338138,
          -77.9521889,
          -78.11131797,
          -76.51987369,
          -76.34022048,
          -77.78943499,
          -76.95644661,
          -76.3300441,
          -76.43532546,
          -77.96893493,
          -76.64981106,
          -76.71642087,
          -77.60912492,
          -78.03751009,
          -76.33864354,
          -77.94918422,
          87.31773184,
          -78.35921319,
          -76.47346736,
          -78.03393671,
          -77.47625622,
          -77.65565679,
          87.36401885,
          -77.41789735,
          -77.48540243,
          -78.35930793,
          -78.15289492,
          -77.11885916,
          -77.7660852,
          -78.10373526,
          -77.79014241,
          -77.22275342,
          -78.04844296,
          -77.79756531,
          -76.34625603,
          -77.70650202,
          -77.80290265,
          -76.74634057,
          -78.15355554,
          -78.30260607,
          -77.34037058,
          -77.2745919,
          -77.97603522,
          -77.90483323,
          87.02670058,
          87.15466691,
          87.18961825,
          87.19367361,
          87.27294067,
          87.27387775,
          87.45012184,
          87.24041531,
          87.23070198,
          87.12387559,
          87.25392697,
          87.18221556,
          -70.859782,
          87.28455318,
          -71.395437,
          -71.294191,
          -70.439862,
          87.27572227,
          -69.919532,
          -71.268378,
          -70.262285,
          87.25168826,
          -70.491698,
          -70.491698,
          -70.457919,
          87.31426328,
          -71.019078,
          -70.5286,
          -70.539414,
          87.13433424,
          -71.221923,
          87.26397817,
          87.34566547,
          87.37292967,
          87.19108826,
          -71.118345,
          -70.87038,
          -71.110641,
          87.15305328,
          87.18004332,
          87.16112305,
          87.35659669,
          87.34917649,
          87.34756954,
          87.30041244,
          87.15079214,
          87.14395274,
          -70.727567,
          -70.552399,
          -70.73058,
          -76.36087614,
          -75.93080006,
          -73.63080019,
          -73.15504352,
          -70.12088134,
          -70.15330175,
          -76.14333569,
          -75.21006237,
          -76.14333569,
          -75.21006237,
          -73.11664177,
          -73.11842668,
          -75.9242,
          -75.92085949,
          -65.248118,
          -65.912325,
          -66.043587,
          -65.432174,
          -65.457399,
          -65.76087,
          -64.849375,
          -65.258064,
          -65.86343,
          -66.139263,
          -64.809517,
          -66.30472,
          -66.318625,
          -65.732227,
          -65.362828,
          -65.354315,
          -65.392237,
          -65.991327,
          -65.872616,
          -65.647583,
          -65.701488,
          -65.516049,
          -66.094622,
          -65.964452,
          -65.965828,
          -65.913445,
          -65.757355,
          -65.383826,
          -64.882015,
          100.9306482,
          101.306677,
          -65.60453,
          -65.301278,
          -65.865716,
          -65.425396,
          88.892552,
          -65.220421,
          -65.414742,
          -65.61118,
          101.5187839,
          -65.547589,
          101.5096748,
          -66.004758,
          -65.486632,
          94.828614,
          -65.961089,
          -65.786169,
          103.2733964,
          -115.6713766,
          102.1933828,
          -115.7887616,
          94.433168,
          101.2262574,
          92.743945,
          101.0198925,
          -115.3728231,
          100.983463,
          101.3594659,
          101.0500243,
          -115.784854,
          102.2501735,
          -115.3926409,
          102.1102151,
          -115.3513396,
          101.5373813,
          101.4210572,
          101.8685616,
          -115.5138897,
          -115.587212,
          -116.0307105,
          101.3793009,
          -115.3858863,
          101.5804172,
          -115.678045,
          101.0759982,
          -115.6676348,
          101.094988,
          -115.6723782,
          88.58672,
          101.094988,
          -115.6825355,
          16.880649,
          102.0037774,
          102.4949825,
          101.8958612,
          -115.8061403,
          16.922342,
          101.3889318,
          -115.6834944,
          -115.3418057,
          100.6703521,
          102.7405463,
          100.6703521,
          101.8770101,
          17.294708,
          100.7199485,
          101.2211785,
          101.2199679,
          102.2507467,
          100.8109715,
          101.0803768,
          100.7501219,
          101.7433022,
          100.3879439,
          102.059572,
          101.1869213,
          101.3657593,
          101.5299795,
          102.200659,
          102.1278667,
          101.7201348,
          101.2373498,
          103.4813692,
          101.6800525,
          102.1399299,
          102.04927,
          101.5404924,
          102.1799517,
          101.6185687,
          101.6189238,
          101.4340649,
          102.2429432,
          101.9975353,
          101.5214146,
          103.5273164,
          -115.3581952,
          102.0731837,
          102.0499782,
          -115.6841713,
          102.8944051,
          101.1057321,
          102.0187366,
          102.1793988,
          102.2791186,
          100.9869111,
          -116.3233881,
          -115.8893182,
          91.726253,
          -115.3428266,
          -115.3462332,
          -115.7708099,
          -115.3441779,
          -115.7673536,
          94.322975,
          -115.3270622,
          -115.3371081,
          -115.3337499,
          -115.4097234,
          -115.7757995,
          -115.3656955,
          94.820473,
          94.833442,
          94.56112,
          92.365183,
          94.353665,
          93.30297,
          91.865288,
          92.93541,
          94.206436,
          14.530558,
          15.835413,
          16.1435,
          16.429594,
          15.074826,
          15.20161,
          15.406151,
          15.588223,
          15.639146,
          16.216699,
          15.8578,
          16.096654,
          -49.53003807,
          16.921489,
          16.045633,
          16.053337,
          16.576578,
          16.182616,
          16.605801,
          16.301737,
          16.34845,
          16.402475,
          17.023232,
          16.436642,
          16.276566,
          17.261616,
          16.20174,
          16.162506,
          -120.422331,
          16.215903,
          15.236896,
          16.227546,
          16.575898,
          16.1765,
          16.211656,
          16.157528,
          16.697639,
          16.089065,
          -49.09917909,
          -42.20500639,
          -41.78171321,
          -49.49827489,
          -49.62078046,
          -41.88,
          -43.0008923,
          15.57145718,
          -43.0008923,
          -43.00086255,
          -43.00086255,
          -41.91998096,
          -48.99333125,
          15.77343476,
          -48.99585942,
          -48.90914339,
          -42.99916719,
          -42.99916719,
          -70.958194,
          13.66738039,
          -70.985,
          -69.61575,
          -70.194056,
          -70.794889,
          -71.890194,
          -72.052944,
          -73.001722,
          15.63813278,
          14.26854912,
          16.30013018,
          16.44944929,
          -73.18840645,
          -73.26666205,
          -73.00666594,
          -73.71168566,
          -73.12584289,
          -73.84579981,
          -73.37080645,
          -73.59331897,
          -73.81497151,
          -73.3966665,
          -73.90415755,
          -73.38915272,
          84.77914,
          85.111247,
          85.336755,
          84.819235,
          85.346,
          -73.9041856,
          -73.40168071,
          23.0969,
          23.1447,
          -73.62410964,
          23.3973,
          23.4001,
          84.381414,
          -73.91084471,
          86.082052,
          85.828277,
          85.947039,
          85.135804,
          -73.7049995,
          84.810585,
          85.300265,
          85.190228,
          -73.87912718,
          103.488175,
          103.466585,
          103.619811,
          -74.12088741,
          103.853166,
          103.579893,
          103.485067,
          103.485067,
          -80.68533643,
          -73.89247865,
          103.995846,
          103.493266,
          -73.9583556,
          78.311268,
          78.312965,
          78.772803,
          78.599332,
          79.50335,
          -74.07841384,
          23.6856,
          -73.44669981,
          -76.1925052,
          -73.13584195,
          24.6241,
          24.6076,
          24.261334,
          84.563074,
          84.771647,
          84.970392,
          85.102369,
          85.673753,
          -68.3661,
          86.086059,
          -68.324,
          -68.0686,
          -68.0941,
          -67.6328,
          -68.3656,
          85.133805,
          -67.5615,
          -67.309,
          11.58278132,
          85.311765,
          -68.2869,
          -82.53169608,
          -81.25168559,
          85.297322,
          100.036356,
          100.036356,
          99.555216,
          97.660294,
          98.814851,
          99.169515,
          85.368586,
          97.512626,
          97.227276,
          10.67813722,
          85.368586,
          84.831261,
          103.488175,
          103.469089,
          103.792395,
          104.113199,
          104.000725,
          79.831977,
          -68.3923,
          -67.6353,
          -67.3922,
          -81.58505046,
          -68.1906,
          -67.11524618,
          -67.8591,
          -105.59228,
          -120.716633,
          -67.9911,
          -67.1688729,
          -67.8099,
          12.13009278,
          -67.6443,
          -63.25028725,
          -67.9637,
          100.951566,
          -68.1612,
          -68.2745,
          97.628325,
          100.072834,
          -107.0434305,
          99.529001,
          99.456148,
          -105.628674,
          99.246332,
          10.34916049,
          11.50539507,
          99.053012,
          12.52747711,
          99.286703,
          97.695278,
          11.11461912,
          11.45045713,
          11.354447,
          -120.664841,
          10.74058163,
          -105.45851,
          11.26460281,
          11.58278132,
          11.8317835,
          11.53607142,
          10.97801067,
          12.37670222,
          10.82564011,
          11.06132453,
          9.634395232,
          11.25543814,
          11.47358787,
          10.24920966,
          10.35134028,
          12.41998448,
          12.17171616,
          9.569365462,
          12.08170026,
          11.99022608,
          12.41998448,
          11.59699824,
          -105.3665,
          9.912470193,
          9.459539145,
          -105.3106,
          -107.338672,
          9.980053881,
          11.19962058,
          11.45208423,
          11.53607142,
          11.53607142,
          100.044,
          100.193,
          98.88047113,
          100.7830143,
          -79.32263899,
          100.7803914,
          -82.87170225,
          100.4947091,
          100.2506104,
          100.3589619,
          100.624,
          -81.38498035,
          -105.4172,
          -80.17249177,
          -107.3442093,
          -80.5191411,
          -82.18915395,
          -79.43850887,
          -81.55999562,
          -79.74422107,
          -79.18838559,
          -79.28415757,
          -108.2231,
          -81.86578449,
          -78.4767125,
          -79.88469432,
          -79.48847567,
          -79.53248051,
          -82.30740234,
          -79.28351103,
          -82.59834112,
          -107.1677519,
          -79.28335233,
          -79.48847567,
          -78.97515595,
          -79.5666948,
          -107.1917919,
          -80.25583395,
          -82.23250932,
          -107.2404908,
          -79.85590253,
          -82.85002333,
          -105.34445,
          -79.48663666,
          -79.32352243,
          -82.87590133,
          -79.48680274,
          -80.06585771,
          -79.24835476,
          -79.88659661,
          -79.37673279,
          -79.27848647,
          -79.86911882,
          -105.3368,
          -106.77041,
          -105.04536,
          -106.40581,
          -106.84828,
          -103.04742,
          -103.67826,
          -102.97078,
          -106.32185,
          -106.94451,
          -104.09514,
          -103.6895,
          -105.86538,
          -109.53062,
          -107.391951,
          -106.98873,
          -105.34734,
          -106.23566,
          -106.18622,
          -106.25915,
          -105.40022,
          -106.79401,
          -105.53976,
          -105.54225,
          -105.94245,
          -105.38116,
          -106.05971,
          -105.32089,
          -105.82614,
          -107.240858,
          -106.90431,
          -105.47106,
          -106.87395,
          -105.58776,
          -105.59585,
          -105.42081,
          -106.0986,
          -105.3611,
          -105.4218,
          -105.53422,
          -107.2209103,
          -106.16801,
          -105.38275,
          -105.4472,
          -105.91326,
          -105.40362,
          -107.1795838,
          -105.4786,
          -105.5303,
          -105.34761,
          -107.2547763,
          -105.42487,
          -105.33135,
          -105.48731,
          -105.63416,
          -105.47519,
          -105.64016,
          -105.63527,
          34.83875254,
          34.96123857,
          36.79871446,
          36.97128554,
          36.71453363,
          36.58788579,
          36.04543782,
          -108.0099787,
          36.5937216,
          34.99874302,
          36.77882154,
          35.56875254,
          36.88954314,
          36.79456155,
          36.8378804,
          35.63950031,
          35.56960025,
          35.88288103,
          -63.88983982,
          -67.11524618,
          35.62789292,
          35.57870257,
          35.58628554,
          -63.53976187,
          -64.0799951,
          -64.0799951,
          -63.6625533,
          -65.30622463,
          -63.22866035,
          -63.22866035,
          -63.9393199,
          -63.68154691,
          -67.03980778,
          -64.154311,
          -108.0113807,
          -107.3918201,
          -63.65037551,
          -64.154311,
          -106.9857947,
          -67.42700249,
          -67.42700249,
          -64.03180702,
          -63.26216605,
          -106.8534638,
          -106.8841631,
          -106.8853769,
          -107.0217291,
          -107.0326574,
          -107.0281065,
          -106.9424111,
          -107.5214652,
          -107.2706539,
          -106.8904381,
          -107.4858063,
          -107.7961995,
          -106.993653,
          -108.0423568,
          -107.3229139,
          -107.034834,
          -107.2583808,
          -107.7932301,
          -107.5207826,
          -107.7947968,
          -108.2136805,
          -107.007425,
          102.7509565,
          103.7225945,
          103.4653422,
          103.7385247,
          103.611085,
          103.395842,
          102.327245,
          102.752696,
          8.69655664,
          102.3511514,
          102.6044912,
          103.7534129,
          103.5459787,
          103.29,
          103.5614769,
          103.2369733,
          103.1967815,
          103.7672041,
          103.115974,
          103.2767227,
          103.5168814,
          7.320947183,
          103.6343659,
          102.9010484,
          103.2586865,
          103.6166569,
          103.3968591,
          103.5983793,
          103.4592862,
          102.6507329,
          103.2807995,
          103.2871669,
          102.4969733,
          102.6293528,
          76.773669,
          8.301650858,
          102.8617727,
          76.631073,
          -79.80562167,
          77.165123,
          78.353697,
          78.323033,
          77.081733,
          76.587959,
          -80.01317482,
          77.388663,
          77.117521,
          77.781123,
          78.155401,
          76.683296,
          77.961847,
          77.731055,
          -80.61547679,
          -80.34399013,
          -80.17213731,
          77.632079,
          77.756481,
          78.607863,
          -80.01531823,
          -80.15881665,
          -80.1313422,
          -80.05394063,
          77.344501,
          -79.91042955,
          8.652433213,
          77.341567,
          8.607107023,
          78.575629,
          76.986488,
          78.658429,
          8.574420094,
          77.50876,
          -79.89330221,
          77.160571,
          -80.02149025,
          7.785528845,
          78.265451,
          -80.07390586,
          -79.82561919,
          76.707158,
          77.700287,
          -79.84892892,
          77.526932,
          -79.83229498,
          77.53059,
          89.48353956,
          77.961695,
          -80.04644659,
          89.90521181,
          77.451046,
          78.079407,
          -79.8763275,
          89.8704,
          77.414578,
          -79.89463947,
          -79.9965611,
          89.85856111,
          89.94692622,
          -79.87473344,
          -79.95076436,
          89.76520474,
          89.73603934,
          -80.56819002,
          -79.89297002,
          -79.87556665,
          -79.94660689,
          89.72519388,
          91.17148127,
          91.15081622,
          90.59462371,
          90.67322711,
          89.90023445,
          89.86940082,
          89.76842623,
          -69.474163,
          90.67023245,
          91.49046925,
          90.66686168,
          90.02358231,
          89.72523426,
          89.83272005,
          90.64284,
          90.53601499,
          91.18415971,
          89.90171532,
          91.14685323,
          90.44359688,
          91.67186149,
          90.8793144,
          90.10523886,
          90.04601959,
          89.98183895,
          90.9018501,
          91.18527022,
          90.88936028,
          89.68354447,
          91.62352996,
          91.2078197,
          91.43765307,
          8.715736278,
          91.20360853,
          90.66189497,
          91.2319593,
          90.52258758,
          89.681853,
          89.96861235,
          8.715736278,
          8.262312206,
          91.548596,
          90.35021556,
          90.65938741,
          90.01270091,
          91.52102993,
          90.96438598,
          90.44346688,
          91.48548261,
          8.843657744,
          8.843657744,
          91.17178609,
          7.636110663,
          8.640961409,
          8.640961409,
          8.259461538,
          8.713289859,
          8.622410929,
          8.220106996,
          8.220106996,
          8.325026563,
          8.325026563,
          8.559282621,
          8.559282621,
          8.546785321,
          -69.460806,
          -70.280699,
          8.638787352,
          89.99438316,
          7.289018177,
          120.9983344,
          120.9983344,
          8.667499842,
          7.818542276,
          8.49204881,
          8.706109011,
          7.412396931,
          7.818542276,
          90.07437234,
          90.07520676,
          8.735457066,
          8.526237365,
          90.0693479,
          90.03854855,
          89.91355537,
          7.429769478,
          8.667139021,
          8.099770612,
          90.07437234,
          90.08931866,
          120.7999714,
          90.07268467,
          120.8500238,
          90.006034,
          89.88687902,
          90.12522818,
          90.17019487,
          121.1258205,
          90.0768824,
          89.86605588,
          121.1258205,
          89.9901963,
          89.77439379,
          89.95186632,
          89.79188075,
          120.8041641,
          89.7105,
          89.87688982,
          90.20934728,
          89.87021878,
          89.9635294,
          90.10190068,
          89.71189609,
          89.99271809,
          90.03605806,
          89.91187053,
          89.83602025,
          90.06106909,
          89.91519704,
          -70.27788823,
          -70.45789656,
          90.18519487,
          89.90105621,
          90.16773101,
          89.53026128,
          90.04603417,
          90.00105544,
          89.85191029,
          89.80694974,
          15.18417885,
          14.94671321,
          15.50084358,
          15.73161334,
          -70.27788823,
          15.24497026,
          -70.45789656,
          -121.555049,
          14.34664308,
          15.50577157,
          14.51636168,
          15.37076268,
          14.87078585,
          -72.149267,
          -72.009893,
          14.67919693,
          13.698,
          11.25766049,
          -120.610745,
          14.03835216,
          13.66413036,
          11.24265723,
          -120.8021,
          13.93740513,
          14.65708923,
          -120.368696,
          -121.293338,
          14.77664371,
          15.7492005,
          11.54100038,
          14.8216015,
          121.1217846,
          15.59176205,
          15.17234423,
          103.4668889,
          15.32752411,
          15.425,
          16.49241221,
          14.87197145,
          14.87197145,
          103.5803889,
          15.13837182,
          15.43414277,
          -69.030839,
          15.13837182,
          15.43414277,
          -69.275045,
          -68.109296,
          16.73913808,
          -68.593472,
          -70.063356,
          120.6299001,
          120.8266584,
          120.9299643,
          121.7191434,
          120.859981,
          121.079981,
          103.6021667,
          121.079981,
          103.5803889,
          121.497533,
          84.372141,
          121.0408185,
          16.63500933,
          121.2617227,
          84.357605,
          121.2617227,
          84.351475,
          121.4900476,
          16.57999242,
          121.4900476,
          16.61827846,
          120.9808685,
          88.43223826,
          88.53140964,
          120.8483162,
          83.7355,
          121.1183519,
          88.54477044,
          88.54320338,
          121.1107138,
          83.7725,
          121.1107138,
          121.4599524,
          121.494166,
          120.863336,
          121.4949869,
          121.6125099,
          121.2908503,
          121.2908503,
          88.65217295,
          120.697474,
          121.0133015,
          83.717032,
          83.61291446,
          85.13530507,
          84.0604,
          84.2637,
          84.63286725,
          30.380468,
          84.0781,
          84.23961384,
          29.949949,
          84.263944,
          85.1756,
          85.1907,
          100.8245574,
          85.91537132,
          85.15371929,
          84.96792461,
          100.4287736,
          100.813735,
          100.7945775,
          85.8961,
          84.8893,
          84.75029593,
          100.701964,
          84.69560839,
          85.8603841,
          85.61807332,
          84.260409,
          84.95137332,
          84.8336,
          -70.55127896,
          85.0659,
          85.73450964,
          -70.72870081,
          -70.72870081,
          -70.55127896,
          11.24760442,
          84.255529,
          11.19601421,
          11.5376283,
          16.83993106,
          15.96240852,
          11.88509036,
          84.542626,
          11.68677364,
          15.96240852,
          10.97597752,
          16.68661904,
          11.62019984,
          16.77160903,
          11.62019984,
          16.77160903,
          16.73833287,
          16.67153319,
          16.61909011,
          15.40661766,
          16.08410131,
          11.5984712,
          16.56411421,
          16.6433144,
          16.57991597,
          16.77743231,
          84.542626,
          10.99932411,
          16.73077846,
          16.51912216,
          16.85331697,
          15.38160939,
          15.7591087,
          84.144518,
          11.04509249,
          11.68355304,
          16.50501453,
          16.61330964,
          88.47561465,
          88.53061403,
          88.52645679,
          88.29456631,
          88.53253194,
          30.46216,
          30.349532,
          30.393396,
          30.215683,
          30.121196,
          29.720613,
          30.005693,
          84.358683,
          84.448101,
          29.977255,
          84.483977,
          30.10908,
          84.405327,
          29.748913,
          84.420329,
          140.805954,
          30.048323,
          30.165492,
          -43.783765,
          140.916765,
          30.146123,
          30.080625,
          100.1728561,
          30.226743,
          30.233986,
          100.7204342,
          100.7170615,
          100.8145638,
          100.8171094,
          100.8237227,
          100.3436929,
          100.8295769,
          100.9261952,
          100.8004012,
          100.9253639,
          100.8229199,
          100.9028786,
          100.7995562,
          99.35538869,
          100.4454202,
          100.7811957,
          140.95162,
          100.4245663,
          100.7979546,
          100.4720491,
          100.9028906,
          99.3479078,
          100.778741,
          99.36207291,
          100.3661816,
          100.5470672,
          100.2228963,
          99.40620511,
          100.7787325,
          100.6363126,
          99.35207296,
          99.35039791,
          100.5445681,
          99.40876217,
          99.40959013,
          100.6329701,
          -78.209418,
          99.3512179,
          100.5578884,
          99.41374454,
          100.1804162,
          100.812963,
          100.5420281,
          100.1837838,
          100.5437587,
          99.35047461,
          99.35871552,
          -78.806055,
          100.8078064,
          99.36042672,
          100.761107,
          100.885428,
          100.811778,
          8.190185,
          99.694502,
          100.394119,
          101.388174,
          99.778491,
          101.339956,
          101.227241,
          101.272004,
          99.480741,
          100.622383,
          78.06,
          78.6,
          78.19,
          78.18,
          78.19,
          -78.805722,
          78.08,
          78.44,
          77.74,
          -78.322486,
          78.41,
          78.18,
          78.098216,
          -78.299724,
          78.38,
          78.05,
          -78.245238,
          78.05,
          77.70394925,
          77.83921,
          77.853222,
          78.07895324,
          78.22887823,
          78.253563,
          77.85309303,
          47.52897114,
          77.74386343,
          -78.745005,
          77.960439,
          78.207377,
          47.12582887,
          78.11141334,
          77.68560264,
          78.0065137,
          78.40149407,
          77.73736145,
          78.08734804,
          -121.659268,
          -120.250634,
          78.252748,
          78.007267,
          78.08815321,
          77.829305,
          78.30315448,
          78.035421,
          78.30476734,
          78.019605,
          -121.292781,
          103.49,
          -120.739076,
          103.5197222,
          46.82330526,
          -121.168272,
          103.4745,
          103.4746667,
          103.4830556,
          103.4668889,
          103.53,
          84.534687,
          84.524077,
          84.429831,
          84.475911,
          84.444272,
          84.365876,
          84.368724,
          84.397645,
          84.400846,
          84.402896,
          84.355473,
          84.360604,
          84.427107,
          -43.442952,
          -43.970694,
          -43.633326,
          -43.390299,
          6.696714,
          -43.351212,
          -43.576642,
          -43.497392,
          -43.572675,
          -78.38344,
          -43.590905,
          6.762267,
          -43.620919,
          6.860068,
          -43.598335,
          -78.456666,
          -43.562358,
          -78.726145,
          -43.576474,
          -43.650547,
          -43.460906,
          -43.702574,
          -43.415891,
          -43.693277,
          8.308613,
          -43.399789,
          -78.9141459,
          -43.680356,
          -78.94745335,
          -43.589877,
          -43.445983,
          -43.609216,
          -43.400153,
          -43.768239,
          -43.573972,
          -78.40250097,
          -78.726397,
          -78.89001227,
          -78.45664623,
          -78.270648,
          -78.89001227,
          -78.5667464,
          -78.77169956,
          -78.57331785,
          -78.4633151,
          -78.93421493,
          -78.80996193,
          -78.46252937,
          -112.3467157,
          -78.77169956,
          -78.57331785,
          -78.68922361,
          -78.77169956,
          -78.57331785,
          -78.8125216,
          -78.56085661,
          -78.830833,
          -78.9034556,
          -78.61252974,
          -78.92348504,
          -78.39332728,
          -78.9275191,
          -78.79669956,
          -78.87664346,
          -78.92587439,
          -78.89335629,
          -78.89846212,
          -78.92165773,
          -78.60830169,
          -78.95079825,
          -78.81496431,
          -78.785544,
          -78.81092386,
          -78.73760614,
          -78.803653,
          -78.79669956,
          -78.89335629,
          -78.79669956,
          -78.600542,
          -78.793761,
          -78.287288,
          -78.287288,
          8.460753,
          -78.287288,
          -78.287288,
          -122.386714,
          -78.748704,
          -78.244986,
          -78.793761,
          -78.234472,
          -78.177837,
          -78.282182,
          -78.105874,
          -78.76905,
          -78.256347,
          -78.351143,
          -78.793761,
          -78.793761,
          -78.368855,
          -78.208541,
          -78.279023,
          -78.49662,
          -122.023873,
          -78.176853,
          -78.414395,
          -78.653669,
          -78.723673,
          -78.653669,
          -78.653669,
          -78.653669,
          -78.7892,
          -78.365801,
          -78.803352,
          -78.290465,
          -78.804286,
          -78.393017,
          -78.239188,
          -78.264454,
          -78.745015,
          -78.691978,
          -78.355555,
          -78.355027,
          -78.355027,
          -78.355027,
          -78.662214,
          -78.355027,
          -78.781203,
          -78.421681,
          -78.62078,
          -78.573897,
          -78.810283,
          48.20389678,
          48.20770047,
          48.26556389,
          48.20859293,
          6.697705,
          89.7424,
          6.702274,
          89.73070933,
          7.057221,
          6.321594,
          6.785677,
          6.256599,
          6.78801,
          6.466577,
          6.097032,
          6.144857,
          6.459156,
          -70.301598,
          -70.301598,
          -70.016377,
          -69.863009,
          -69.863009,
          -69.863009,
          -69.629671,
          -69.629668,
          -122.270017,
          89.73824665,
          89.72744114,
          89.71217821,
          89.758,
          89.91162323,
          89.87327928,
          89.81906656,
          89.85073575,
          89.63485761,
          89.80170902,
          89.65899743,
          89.58158522,
          89.6331,
          89.79831929,
          89.8846,
          -48.752185,
          89.43738384,
          89.4431,
          89.3622,
          89.6169,
          89.6468,
          89.56492411,
          89.48405667,
          89.52904083,
          89.56404771,
          89.58194452,
          171.0117025,
          89.5632,
          89.59491616,
          89.5949288,
          89.59657652,
          89.58818071,
          170.401671,
          170.1308246,
          169.9966467,
          -80.85812085,
          170.9958316,
          170.4132802,
          169.8082627,
          -65.56592154,
          22.180246,
          22.356838,
          21.351937,
          31.49539975,
          21.407692,
          21.214118,
          20.376457,
          20.423264,
          80.70294157,
          80.63134087,
          20.846127,
          20.70578,
          20.664803,
          80.98067227,
          80.78660792,
          80.59510417,
          -48.912913,
          80.94316916,
          80.59347111,
          80.8356006,
          80.74828423,
          80.76470723,
          -48.773032,
          80.90811215,
          80.79810795,
          80.74657226,
          -80.17972398,
          80.85167039,
          80.63815463,
          80.75494631,
          80.66277896,
          80.71327301,
          -80.85812085,
          -65.38176594,
          -65.38176594,
          -82.39134772,
          -65.37004358,
          -65.37091021,
          -65.37004358,
          -48.864334,
          -65.37091021,
          -65.33437301,
          8.276096834,
          -65.33437301,
          -65.53185761,
          -65.5201402,
          -65.5201402,
          -80.85812085,
          -65.53185761,
          -65.53185761,
          -80.8473278,
          -65.54090326,
          -65.56592154,
          -65.54090326,
          -80.22566168,
          -65.54090326,
          -65.35096612,
          -65.35096612,
          -65.35096612,
          5.846541,
          5.973164,
          6.062101,
          5.897468,
          6.207552,
          6.063577,
          5.989066,
          6.485743,
          5.861961,
          78.59113525,
          6.445973,
          79.50866758,
          6.443325,
          6.482774,
          -80.833877,
          78.47393177,
          78.35951173,
          78.40761295,
          79.30162525,
          78.34840737,
          78.35823834,
          78.31520032,
          -82.164212,
          78.35483999,
          -82.24468106,
          79.48586148,
          79.32258667,
          79.28019268,
          -80.8306047,
          -82.2911,
          -80.8306047,
          -80.8306047,
          -80.46319285,
          -80.8306047,
          -82.16131741,
          -80.33718106,
          -82.17651165,
          -82.18230207,
          -82.32480676,
          -82.178689,
          -82.3831474,
          -82.21519493,
          -80.3730881,
          -82.21888979,
          -80.17972398,
          -80.29810946,
          -82.31144515,
          -80.4308717,
          -82.40477652,
          -82.40477652,
          -80.225741,
          -82.16718106,
          -80.85651947,
          -80.45067132,
          -80.79087157,
          -82.181916,
          -82.21890714,
          -82.33060388,
          -80.8473278,
          -80.8473278,
          -123.7189963,
          -80.8473278,
          -80.77801439,
          -80.77801439,
          -80.77801439,
          -80.77801439,
          -80.85884772,
          -80.85884772,
          -80.85884772,
          -80.85884772,
          -82.24468106,
          -80.85812085,
          -80.80145116,
          -80.80145116,
          -80.80145116,
          -80.80145116,
          -82.40551439,
          -80.450891,
          -80.833877,
          -80.833877,
          -80.833877,
          -82.380813,
          -82.217136,
          -80.371638,
          4.780871133,
          -82.218542,
          31.71039593,
          -80.297953,
          -82.400928,
          99.312752,
          -80.339933,
          -80.860143,
          -80.432667,
          31.83541641,
          -82.404869,
          -80.848014,
          -80.462798,
          -80.799088,
          4.724131935,
          -80.179747,
          -80.799088,
          -82.391152,
          -80.799088,
          11.022788,
          -80.858642,
          -80.858135,
          -83.35952253,
          -82.167358,
          -80.858135,
          8.218095132,
          -80.79103,
          -80.858135,
          -83.19400598,
          -82.32992,
          -80.858135,
          31.75534984,
          -82.220746,
          -82.233495,
          -80.848014,
          -80.848014,
          -80.848014,
          -80.778116,
          -80.778116,
          -80.778116,
          -80.778116,
          -80.799088,
          31.26208654,
          -80.860143,
          -80.860143,
          -80.860143,
          31.23537032,
          11.022614,
          31.49213795,
          31.49784759,
          31.83618297,
          31.6687479,
          -83.19879698,
          31.62706149,
          31.91456462,
          31.32462799,
          31.21543275,
          31.4287139,
          31.39289261,
          31.49784759,
          31.26208654,
          99.261395,
          99.449828,
          99.409898,
          99.317913,
          -83.51410895,
          99.092922,
          99.163326,
          99.286471,
          99.273352,
          99.306456,
          172.918288,
          -83.51410895,
          36.457885,
          172.7942415,
          -83.51410895,
          172.8324991,
          172.8250565,
          172.7525533,
          172.7658096,
          -83.21173263,
          172.8058458,
          -83.93368933,
          172.7882386,
          11.88430341,
          11.68664793,
          11.62147797,
          11.62147797,
          -83.41281672,
          15.40599972,
          -83.5153755,
          8.259427005,
          11.5977978,
          -83.5153755,
          16.08380554,
          -83.5153755,
          31.23635629,
          11.53713326,
          11.68943752,
          15.7597315,
          15.96238274,
          15.38071518,
          -83.30118425,
          -83.30118425,
          -83.30118425,
          -83.30118425,
          -83.30118425,
          15.96238274,
          11.54187938,
          -83.30118425,
          -83.30118425,
          -83.29485462,
          -83.41281672,
          -83.93569179,
          31.28206544,
          -83.70702837,
          -83.41281672,
          -83.07072733,
          -83.5153755,
          8.253496434,
          -83.30552668,
          -83.30800866,
          -83.70919428,
          -83.58206644,
          31.4929226,
          -83.4150395,
          -83.33607007,
          27.9046,
          -83.72434681,
          -83.51410895,
          -83.1933761,
          -83.43402172,
          -83.52760376,
          -83.59849455,
          -83.24654508,
          -83.59849455,
          -83.87813417,
          -83.59849455,
          -83.25489243,
          -83.59849455,
          -83.5395063,
          27.9046,
          -83.11513179,
          -83.56599246,
          -83.13030513,
          -83.77402101,
          -83.53549958,
          -83.31192068,
          -83.26371035,
          -83.23793438,
          11.020303,
          -83.20807654,
          -83.20549625,
          -83.52921848,
          -83.2133325,
          -83.22432713,
          -44.85082392,
          -44.84831107,
          -44.55418641,
          -44.49594759,
          -44.53920733,
          -44.63667808,
          -44.58919969,
          -44.49587182,
          -44.55167858,
          -44.63501283,
          -44.53418566,
          -44.58667727,
          -44.50998196,
          -44.69330324,
          11.019366,
          -44.69250038,
          -44.46923795,
          -44.68001393,
          -44.80753788,
          31.22879061,
          -44.55330946,
          -44.53922599,
          -44.63262623,
          -44.60414984,
          -44.64255545,
          -44.64835266,
          -44.59589067,
          -44.68335288,
          -44.62247257,
          -44.63251228,
          -44.58511478,
          -44.59567377,
          77.457621,
          77.837495,
          77.415415,
          77.434368,
          77.767514,
          77.842948,
          4.411709643,
          77.288626,
          77.827649,
          31.23046558,
          77.3226,
          4.8008,
          77.855728,
          -123.9115488,
          77.66366,
          -123.908234,
          77.762422,
          -124.0244604,
          -2.182,
          77.819255,
          77.35306,
          -124.0646891,
          -123.7354812,
          -123.7548582,
          -123.7218576,
          -123.7306594,
          -123.7199813,
          4.2108,
          4.665799937,
          4.529986349,
          4.5497,
          4.501667877,
          4.380814151,
          -112.3460271,
          4.639121603,
          4.755852536,
          4.6627,
          4.7272,
          4.408323481,
          4.803478773,
          4.5558,
          4.740142893,
          -112.3590011,
          4.2942,
          4.5961,
          4.500793237,
          4.681584033,
          4.77583276,
          4.805728554,
          4.304127904,
          4.3922,
          4.760760344,
          -65.77677513,
          -65.81428857,
          -65.90672,
          31.27416667,
          -65.93982703,
          9.44091077,
          9.219199875,
          -65.90671132,
          -65.88170843,
          9.470885786,
          9.224237946,
          -118.5863529,
          9.440000626,
          9.43835216,
          9.185057733,
          9.254,
          9.207524108,
          9.486724609,
          9.174235567,
          9.161771572,
          8.991714465,
          8.970942893,
          31.28039975,
          31.50293275,
          9.145904822,
          9.130904822,
          31.28879061,
          31.50332812,
          31.2670119,
          31.272,
          31.243,
          -115.2363311,
          -115.3745991,
          -115.306328,
          -115.2488813,
          -115.2546242,
          -115.297106,
          -115.2538205,
          -115.2096257,
          -115.4204786,
          -115.2213249,
          -115.2729525,
          -115.3062807,
          -115.1704566,
          -115.2513264,
          -115.2004272,
          -118.6201218,
          -115.2921163,
          -115.3612214,
          -115.3728,
          -115.1731,
          -115.174,
          -115.2637867,
          -115.2663378,
          -115.2154554,
          -115.1704566,
          -115.2246333,
          -115.1541,
          106.4466,
          100.709206,
          99.925607,
          99.75655,
          100.805481,
          99.621305,
          100.404466,
          99.743146,
          99.879568,
          100.841564,
          100.841564,
          100.381861,
          100.634367,
          100.365735,
          99.863737,
          99.610583,
          99.889533,
          100.036587,
          100.02346,
          100.02346,
          100.538473,
          100.488106,
          99.616395,
          99.616395,
          100.05755,
          100.648572,
          100.648572,
          100.113423,
          80.59510417,
          80.63815463,
          80.63815463,
          80.63815463,
          80.63815463,
          -112.3632158,
          80.59510417,
          80.59510417,
          80.59510417,
          80.63815463,
          -118.6120985,
          -112.3040856,
          -118.6266391,
          -118.5991387,
          -112.2908869,
          -118.6489689,
          -118.7004588,
          -118.6503969,
          -118.600408,
          -118.6386637,
          -112.4060585,
          -112.3835138,
          -118.7174342,
          -118.5897914,
          -112.3255052,
          -118.7677435,
          -118.6849985,
          -112.3357564,
          78.9969963,
          79.02258117,
          79.05247699,
          79.01252365,
          79.01657965,
          79.08581112,
          78.93519444,
          78.86172222,
          -43.777764,
          -43.780298,
          90.750018,
          -43.726602,
          -43.671457,
          -43.701843,
          -43.652047,
          77.87433,
          -43.734506,
          -43.716665,
          -42.684131,
          77.98815,
          -42.721349,
          -42.775295,
          -42.775369,
          -42.874595,
          -42.836436,
          -42.662627,
          -42.892934,
          78.27039,
          -42.924988,
          -42.65354,
          -42.636808,
          90.74372,
          91.184782,
          90.652259,
          89.931327,
          90.645554,
          90.039016,
          89.897579,
          78.25183,
          90.153899,
          90.175153,
          90.745661,
          90.00429,
          -118.1566679,
          90.052201,
          89.85162,
          78.26654,
          -117.7613205,
          -118.1238479,
          16.433583,
          16.459222,
          16.434851,
          16.089481,
          -118.1096781,
          16.245457,
          -117.6367593,
          16.278043,
          -117.9660441,
          16.09039,
          -117.7401975,
          -117.9053527,
          -117.7327604,
          -118.195807,
          -117.8893833,
          -118.1203371,
          -117.9746605,
          -118.2509915,
          -2.114,
          -117.742084,
          -117.742084,
          -117.6367593,
          -117.7308806,
          -117.9808938,
          -117.8912541,
          -117.7893951,
          -118.2553083,
          -117.762809,
          -117.991957,
          -118.1031402,
          -117.9016076,
          -117.9491952,
          -117.8054619,
          -118.0275715,
          -118.026632,
          -118.0288276,
          -118.163278,
          -117.7912867,
          -117.7996334,
          -118.0104209,
          -118.1481143,
          -118.0472915,
          -118.083053,
          -118.0850704,
          -1.793,
          -117.9928792,
          -118.0841216,
          -118.0104584,
          -117.8015431,
          -117.9956637,
          -117.9965857,
          -118.0490265,
          -117.989273,
          -117.9891263,
          -118.0210043,
          -118.0266984,
          -78.88185098,
          -78.92282285,
          -78.89358243,
          -78.88185098,
          -78.91173878,
          -114.5715456,
          -78.93212067,
          -78.95092045,
          -124.008634,
          -78.89731605,
          -78.87265452,
          -78.92080483,
          -78.89358243,
          -78.80833793,
          -78.80035691,
          -78.80035691,
          -78.80035691,
          -78.92308354,
          -78.94972694,
          83.91835205,
          -111.7410481,
          83.96748462,
          83.95332708,
          83.9497,
          83.93670221,
          83.9341995,
          -111.7366351,
          83.9341995,
          -111.7251089,
          83.94917107,
          -111.7990278,
          83.90497056,
          83.89251292,
          80.802494,
          83.94917107,
          -111.7990278,
          83.95918302,
          -123.1528504,
          83.95913314,
          -67.8699881,
          34.940038,
          83.88665154,
          83.8808236,
          -67.85001428,
          83.95997132,
          84.874577,
          83.95997132,
          -111.8399487,
          83.98501113,
          83.88334594,
          83.96921912,
          84.854033,
          83.96914006,
          84.834333,
          83.97565,
          84.81931,
          -111.7010166,
          83.97565,
          84.864106,
          8.214064,
          83.98501113,
          -123.2862241,
          -123.655421,
          -123.6729334,
          -123.2888287,
          -123.5596235,
          -123.6521408,
          -123.5029244,
          -123.4532,
          -123.4679093,
          -123.2862718,
          34.940038,
          -123.4122113,
          77.490094,
          -68.15997145,
          -67.86997621,
          121.530088,
          121.467692,
          121.449215,
          121.424025,
          121.420582,
          34.937616,
          121.38042,
          84.73059,
          34.937616,
          121.42501,
          121.377701,
          34.937616,
          84.729139,
          84.74357,
          -111.901207,
          -111.8627183,
          -111.897607,
          -111.8698084,
          -111.8873216,
          -111.8712529,
          -111.9025786,
          -111.8190448,
          8.239716,
          77.46816,
          8.126739,
          8.140844,
          8.161078,
          8.253707,
          8.297008,
          8.212937,
          8.228379,
          8.219695,
          34.937616,
          8.248278,
          8.196057,
          8.227562,
          8.213093,
          8.208545,
          8.17339,
          77.61545,
          8.158167,
          8.162143,
          8.230383,
          8.163934,
          77.459588,
          77.622467,
          77.603611,
          77.76004,
          77.760008,
          80.797473,
          77.80201,
          77.725902,
          77.802619,
          77.785121,
          9.063772,
          9.082083,
          9.072123,
          9.039319,
          9.077054,
          -122.507688,
          8.862132,
          8.943761,
          8.917071,
          9.027931,
          8.930401,
          9.080523,
          8.94501,
          8.968758,
          8.960424,
          8.999598,
          8.96793,
          8.942096,
          35.105961,
          34.93813,
          80.78491135,
          34.942795,
          -122.480075,
          34.93824,
          -121.3016383,
          -123.824,
          -123.8108715,
          -123.9050571,
          -124.1049524,
          -124.1041904,
          -122.427775,
          -105.380995,
          -122.374153,
          -122.391683,
          16.419892,
          -122.389955,
          -122.336444,
          -122.288789,
          16.231486,
          -122.380255,
          -122.217255,
          -122.34955,
          -75.65332168,
          -122.14585,
          -122.12604,
          -122.548644,
          -122.120305,
          -75.70660365,
          -122.050001,
          -122.033005,
          -75.67499704,
          -121.940177,
          16.344922,
          16.313166,
          -122.546621,
          -75.72083446,
          -105.325069,
          -75.70669582,
          -105.471833,
          -121.3277,
          -75.67745481,
          -75.64835446,
          -105.420284,
          -105.421291,
          -105.460209,
          -105.309372,
          -105.365831,
          -105.33574,
          -105.44625,
          -105.402718,
          -105.476749,
          -105.473939,
          8.222776372,
          -69.47964308,
          8.281163166,
          -69.54869606,
          8.200660086,
          8.162650413,
          8.453689021,
          8.242053742,
          8.366817141,
          8.253108647,
          8.320909485,
          8.262044485,
          8.366666667,
          27.785345,
          27.800709,
          -69.02572,
          27.777237,
          27.789819,
          27.80964,
          -121.3041901,
          -68.98174,
          -68.961622,
          -69.136988,
          -69.144719,
          -116.938472,
          -69.100682,
          -117.05448,
          -117.075616,
          -117.032489,
          -116.927972,
          -122.548644,
          -117.056033,
          -117.062615,
          -116.940113,
          -116.955477,
          -117.090225,
          -117.043854,
          -116.966816,
          -116.983821,
          -116.980561,
          -116.979751,
          -116.951371,
          -117.015431,
          -117.043797,
          -116.935146,
          -116.928661,
          140.895419,
          140.923319,
          140.92022,
          140.839143,
          140.785577,
          8.152845,
          8.418717,
          8.38754,
          8.343457,
          -79.32487438,
          8.435243,
          8.745479,
          8.750964,
          8.348306,
          -79.50652195,
          8.446782,
          8.356128,
          -79.32071846,
          -79.53106263,
          -79.41132393,
          -79.31605005,
          -79.50646939,
          -79.41139419,
          -122.405629,
          -79.50526901,
          -79.41625072,
          -79.32250229,
          -79.26104791,
          -79.27235961,
          -79.26307604,
          -79.2717427,
          -79.35241771,
          -79.33019604,
          -122.22998,
          -48.87523,
          137.8199,
          137.74,
          -48.913234,
          -48.93504,
          137.7817,
          137.7042,
          -48.931306,
          -48.984021,
          137.8076,
          -48.865616,
          137.6842,
          137.6766,
          137.7758,
          137.7925,
          137.775,
          -120.060223,
          137.7725,
          137.7866,
          137.8134,
          137.8091,
          137.7725,
          -44.6359,
          84.3321032,
          84.3321032,
          84.29209788,
          84.3321032,
          84.3321032,
          -44.49700564,
          84.3321032,
          84.3321032,
          -44.58530989,
          84.29627406,
          84.29627406,
          84.29627406,
          -44.63285949,
          84.29627406,
          84.29627406,
          84.29627406,
          -44.53865016,
          84.28794092,
          84.28794092,
          84.287101,
          84.29209788,
          84.28794092,
          84.287101,
          84.29209788,
          84.28794092,
          84.287101,
          84.29209788,
          84.28794092,
          84.287101,
          84.28794092,
          84.287101,
          84.29209788,
          -44.54034233,
          -44.59612862,
          -44.64202721,
          -44.6036335,
          8.0045,
          7.939921227,
          8.099204696,
          7.93747201,
          8.001655854,
          8.216287288,
          7.931642768,
          7.989114778,
          7.996695429,
          8.014014277,
          8.032105733,
          8.004999749,
          7.984091358,
          7.9233,
          8.013271446,
          7.970828679,
          -114.5224955,
          7.983435379,
          8.262189269,
          8.235452272,
          8.283070584,
          -114.5224955,
          8.197988842,
          8.324613913,
          8.228852695,
          8.307186151,
          8.293027499,
          -120.065491,
          8.203014183,
          8.189667843,
          8.206290767,
          8.173021396,
          7.892102767,
          8.170429199,
          8.270394912,
          8.270394912,
          8.185431731,
          7.986290505,
          7.915450062,
          8.061989306,
          7.888159501,
          8.001204657,
          -2.216,
          7.981158223,
          7.966169941,
          7.97082835,
          7.97082835,
          7.97082835,
          7.892955633,
          7.884605196,
          7.918744242,
          -43.73173468,
          -2.622,
          -43.83920849,
          -43.73173468,
          -43.83920849,
          -2.358,
          -43.73672357,
          -43.73672357,
          -43.83920849,
          -120.060223,
          -43.73173468,
          -43.73173468,
          -43.83920849,
          -43.73672357,
          7.680346526,
          7.663714403,
          7.652842768,
          7.564537194,
          7.637885598,
          7.560270757,
          7.553821854,
          -114.5224955,
          -114.5224955,
          -114.5224955,
          -114.5224955,
          -114.5238522,
          -114.5051846,
          -114.5156186,
          -114.5347495,
          -114.5156186,
          -114.5347495,
          -114.5156186,
          -114.5347495,
          -114.5156186,
          -114.5203567,
          -114.5311782,
          -114.5338849,
          -114.5311782,
          -114.519309,
          -114.517154,
          -114.4988507,
          -114.5140206,
          -114.523975,
          -114.5696652,
          -114.5217462,
          -114.5582696,
          -114.5582696,
          -114.5582696,
          -120.065491,
          -114.5696652,
          -114.5696652,
          -114.5721654,
          -114.5721654,
          -114.5715456,
          -114.5715456,
          -123.967373,
          -123.967373,
          -123.8592,
          -123.867247,
          -123.853923,
          -123.8592,
          11.029984,
          -123.82137,
          -123.818105,
          -123.817809,
          -123.852264,
          11.03103,
          -123.922432,
          -123.922432,
          -123.922432,
          11.073403,
          11.065985,
          11.050922,
          11.046091,
          11.039059,
          11.036322,
          11.051251,
          11.0531,
          11.036797,
          11.037781,
          80.81841534,
          80.76232216,
          80.75312027,
          80.78410168,
          80.78993083,
          80.78741979,
          80.8041591,
          80.78407386,
          80.81001684,
          80.7606636,
          80.77737033,
          80.7916191,
          80.78741464,
          80.80164147,
          80.78409132,
          80.79914799,
          -121.3299569,
          -121.3108048,
          -121.3283571,
          -121.3266909,
          -120.065491,
          -121.3108334,
          -121.3291718,
          -121.3158426,
          -121.2408621,
          -121.3058335,
          -121.2475142,
          140.807,
          140.7543807,
          86.72698867,
          86.72948303,
          86.75036756,
          86.76447083,
          86.78115116,
          86.7855,
          86.79038334,
          -120.060223,
          8.060471,
          8.072089,
          -65.53058948,
          8.125408,
          8.124617,
          8.093754,
          -107.102046,
          8.087892,
          8.11955,
          8.121238,
          8.133728,
          8.069572,
          8.068776,
          -124.243214,
          -124.243214,
          -124.037933,
          -65.48904984,
          -124.037933,
          -124.241848,
          -124.045691,
          -124.045691,
          -120.065491,
          -65.48904984,
          -65.5231,
          -65.5231,
          -65.53058979,
          -107.100686,
          -65.5056144,
          -65.53058979,
          -65.53058948,
          -65.5056144,
          9.741170757,
          9.741170757,
          9.741170757,
          9.741170757,
          6.257509205,
          9.741170757,
          9.741170757,
          9.741170757,
          6.257519349,
          9.741170757,
          9.749556982,
          9.749556982,
          9.749556982,
          9.749556982,
          9.749556982,
          9.749556982,
          9.749556982,
          -110.7508761,
          -110.7617215,
          -110.7883502,
          -3.507711887,
          -3.512431252,
          -3.493459505,
          -3.507721974,
          -1.795,
          -3.486887319,
          -3.48981743,
          -3.45766481,
          -3.493582,
          -106.5119718,
          -106.5269193,
          -106.5978,
          -106.5753436,
          128.7216698,
          -1.793,
          128.7066667,
          128.6949804,
          128.6925979,
          128.6933187,
          128.7075116,
          128.7258426,
          -116.940084,
          -116.962734,
          -116.9896618,
          -116.9871476,
          -116.9855002,
          -116.9771775,
          -116.9904984,
          -116.962182,
          -116.962182,
          -2.054,
          -116.962182,
          -116.962182,
          -116.9913465,
          -116.9913465,
          -116.9921454,
          -116.9613358,
          -1.754,
          -2.649,
          -2.599,
          -2.106,
          -2.449,
          -107.090693,
          -2.034,
          -2.04,
          -1.835,
          -1.895,
          -1.939,
          34.944113,
          -2.176,
          -123.6056302,
          -123.6056995,
          135.281528,
          135.258,
          34.944113,
          135.247944,
          135.219167,
          135.208778,
          135.196583,
          135.172361,
          137.764922,
          137.761311,
          140.760139,
          137.760274,
          137.751314,
          137.757176,
          137.75779,
          137.714965,
          137.756883,
          137.741403,
          137.711615,
          140.721833,
          137.717394,
          140.834333,
          137.708257,
          137.706078,
          140.659389,
          34.944113,
          137.702963,
          140.654111,
          137.704328,
          140.653722,
          34.944113,
          137.705846,
          140.790194,
          137.700345,
          137.702469,
          137.709791,
          140.832167,
          140.662944,
          -43.66222,
          34.943442,
          -43.665428,
          -43.663915,
          -43.668024,
          -107.106698,
          34.940038,
          -65.957672,
          -65.957672,
          -65.957672,
          -65.957672,
          -65.957672,
          -65.957672,
          -65.957672,
          -107.106698,
          -107.106698,
          28.20746,
          28.239366,
          28.16119,
          28.163045,
          28.044034,
          28.168524,
          28.170473,
          28.070265,
          28.082918,
          -65.785621,
          -65.795735,
          134.3981442,
          138.5901158,
          133.300882,
          146.9295903,
          134.3920638,
          150.162387,
          150.161654,
          146.8628855,
          134.4331066,
          138.5522439,
          138.575576,
          133.295775,
          149.483757,
          137.9546587,
          139.414076,
          133.288191,
          149.407731,
          137.9324425,
          137.9483445,
          137.9483445,
          137.9502142,
          133.289146,
          133.297338,
          146.4370529,
          133.269901,
          133.299982,
          133.269901,
          133.30492,
          132.535501,
          132.35485,
          132.35485,
          146.8603599,
          132.363925,
          132.569954,
          132.560747,
          145.6488184,
          145.6124143,
          145.6774795,
          145.5128681,
          145.6712454,
          146.4287099,
          145.5128681,
          145.6350014,
          145.6891808,
          145.551675,
          145.5578449,
          147.2279115,
          145.6350014,
          145.6441883,
          145.6541858,
          145.68082,
          145.6814397,
          146.4221923,
          147.0495349,
          147.5578844,
          146.4495806,
          146.4803724,
          146.4854261,
          146.4286869,
          146.484668,
          146.4545799,
          146.4287049,
          146.4903247,
          146.4953144,
          146.497963,
          146.495309,
          146.5234409,
          146.5228599
         ],
         "marker": {
          "color": "#1F77B4",
          "symbol": "circle"
         },
         "mode": "markers",
         "name": "Fluvial",
         "showlegend": true,
         "type": "scattergeo"
        },
        {
         "customdata": [
          [
           "Andvord Bay",
           "Antarctica"
          ],
          [
           "Annapurna III, Himalaya",
           "Himalaya"
          ],
          [
           "Antarctic Peninsula",
           "Antarctica"
          ],
          [
           "Antarctic Peninsula",
           "Antarctica"
          ],
          [
           "Antarctic Peninsula",
           "Antarctica"
          ],
          [
           "Antarctic Peninsula",
           "Antarctica"
          ],
          [
           "Antarctic Peninsula",
           "Antarctica"
          ],
          [
           "Antarctic Peninsula",
           "Antarctica"
          ],
          [
           "Antarctic Peninsula",
           "Antarctica"
          ],
          [
           "Antarctic Peninsula",
           "Antarctica"
          ],
          [
           "Antarctic Peninsula",
           "Antarctica"
          ],
          [
           "Antarctic Peninsula",
           "Antarctica"
          ],
          [
           "Antarctic Peninsula",
           "Antarctica"
          ],
          [
           "Argentina",
           "Patagonia"
          ],
          [
           "Baffin Island, Canada",
           "North American Cordillera"
          ],
          [
           "Baffin Island, Canada",
           "Laurentide"
          ],
          [
           "Baffin Island, Canada",
           "Laurentide"
          ],
          [
           "Barents Sea-Svalbard continental margin",
           "Fennoscandia"
          ],
          [
           "Bjørnøya Fan",
           "Fennoscandia"
          ],
          [
           "British Columbia, Canada",
           "North American Cordillera"
          ],
          [
           "Cairngorm Mountains, Scotland",
           "British Isles"
          ],
          [
           "Cairngorm Mountains, Scotland",
           "British Isles"
          ],
          [
           "Carpathian Mountains, Romania",
           "Alps"
          ],
          [
           "Carpathian Mountains, Romania",
           "Romania "
          ],
          [
           "Central Alps, Austria",
           "Alps"
          ],
          [
           "Central Alps, Switzerland",
           "Alps"
          ],
          [
           "Chugach Mountains, Alaska",
           "North American Cordillera"
          ],
          [
           "Chugach–St. Elias Range, Alaska",
           "North American Cordillera"
          ],
          [
           "Coast Mountains, British Columbia",
           "North American Cordillera"
          ],
          [
           "Dorrel Rock intrusive complex, Marie Byrd Land",
           "Antarctica"
          ],
          [
           "Dorrel Rock intrusive complex, Marie Byrd Land",
           "Antarctica"
          ],
          [
           "Dronning Maud Land Mountains",
           "Antarctica"
          ],
          [
           "Dry Valleys, East Antarctica",
           "Antarctica"
          ],
          [
           "Dry Valleys, East Antarctica",
           "Antarctica"
          ],
          [
           "Dry Valleys, East Antarctica",
           "Antarctica"
          ],
          [
           "Dry Valleys, East Antarctica",
           "Antarctica"
          ],
          [
           "Dry Valleys, East Antarctica",
           "Antarctica"
          ],
          [
           "Dry Valleys, East Antarctica",
           "Antarctica"
          ],
          [
           "Dudh Catchment, Himalaya",
           "Himalaya"
          ],
          [
           "East Antarctica",
           "Antarctica"
          ],
          [
           "East Greenland",
           "Greenland"
          ],
          [
           "Eastern Pyrenees, France",
           "France"
          ],
          [
           "Eastern Sweden",
           "Fennoscandia"
          ],
          [
           "Ellsworth Mountains",
           "Antarctica"
          ],
          [
           "Eqaluit tassersuat, Infinity Lake, and Ted Lake, Greenland",
           "Greenland"
          ],
          [
           "Fann Mountains, Sughd, Tajikistan",
           "Central Asia"
          ],
          [
           "Fiordland, New Zealand",
           "Oceania"
          ],
          [
           "Forsmark/Uppland, Sweden",
           "Fennoscandia"
          ],
          [
           "Front Range, Colorado",
           "North American Cordillera"
          ],
          [
           "Glacier Bay, Alaska",
           "North American Cordillera"
          ],
          [
           "Glacier Bay, Alaska",
           "North American Cordillera"
          ],
          [
           "Glacier Bay, Alaska",
           "North American Cordillera"
          ],
          [
           "Glacier Bay, Alaska",
           "North American Cordillera"
          ],
          [
           "Glacier Bay, Alaska",
           "North American Cordillera"
          ],
          [
           "Glacier Bay, Alaska",
           "North American Cordillera"
          ],
          [
           "Glacier Bay, Alaska",
           "North American Cordillera"
          ],
          [
           "Glacier Bay, Alaska",
           "North American Cordillera"
          ],
          [
           "Greenland",
           "Greenland"
          ],
          [
           "Gulf of Alaska/St. Elias Mts",
           "North American Cordillera"
          ],
          [
           "Herbert Sound",
           "Antarctica"
          ],
          [
           "Hidden Valley, Mukut Himal, Nepal Himalaya",
           "Himalaya"
          ],
          [
           "Hilda, Rocky Mts, Canada",
           "North American Cordillera"
          ],
          [
           "Himalaya",
           "Himalaya"
          ],
          [
           "Himalaya",
           "Himalaya"
          ],
          [
           "Himalaya",
           "Himalaya"
          ],
          [
           "Himalaya",
           "Himalaya"
          ],
          [
           "Himalaya",
           "Himalaya"
          ],
          [
           "Himalaya",
           "Himalaya"
          ],
          [
           "Himalaya",
           "Himalaya"
          ],
          [
           "Hunza basin, Karakoram, Pakistan Himalaya",
           "Himalaya"
          ],
          [
           "Iceland",
           "Iceland"
          ],
          [
           "Iceland",
           "Iceland"
          ],
          [
           "Iceland",
           "Iceland"
          ],
          [
           "Iceland",
           "Iceland"
          ],
          [
           "Iceland",
           "Iceland"
          ],
          [
           "Iceland",
           "Iceland"
          ],
          [
           "Iceland",
           "Iceland"
          ],
          [
           "Iceland",
           "Iceland"
          ],
          [
           "Iceland",
           "Iceland"
          ],
          [
           "Icy Bay, Alaska",
           "North American Cordillera"
          ],
          [
           "Icy Bay, Alaska",
           "North American Cordillera"
          ],
          [
           "Ilulissat region",
           "Greenland"
          ],
          [
           "Ilulissat region",
           "Greenland"
          ],
          [
           "Issyk Kul region, Kyrgyzstan",
           "Central Asia"
          ],
          [
           "Jøkulská, Iceland",
           "Iceland"
          ],
          [
           "Kangerlussuaq Fjord",
           "Greenland"
          ],
          [
           "Kebnekaise, Sweden",
           "Fennoscandia"
          ],
          [
           "Keewatin Peninsula Ontario",
           "Laurentide"
          ],
          [
           "Khansar Catchment, Himalaya",
           "Himalaya"
          ],
          [
           "Klinaklini Valley, Coast Mountains, British Columbia",
           "North American Cordillera"
          ],
          [
           "Kråkenes, Norway",
           "Norway"
          ],
          [
           "Lambert basin",
           "Antarctica"
          ],
          [
           "Lambert trough, East Antarctica",
           "Antarctica"
          ],
          [
           "Lapeyrère Bay",
           "Antarctica"
          ],
          [
           "Lapis de Tsanfleuron, Switzerland",
           "Alps"
          ],
          [
           "Laurentia",
           "Laurentide"
          ],
          [
           "Little Lake, Coast Range, Oregon",
           "North American Cordillera"
          ],
          [
           "Lituya Bay, Alaska",
           "North American Cordillera"
          ],
          [
           "Lituya Bay, Alaska",
           "North American Cordillera"
          ],
          [
           "Magallanes Region, Chile",
           "Patagonia"
          ],
          [
           "Maxwell Bay",
           "Antarctica"
          ],
          [
           "Mid-Norwegian Margin",
           "Fennoscandia"
          ],
          [
           "Mikis Fjord",
           "Greenland"
          ],
          [
           "Mont Blanc massif",
           "Alps"
          ],
          [
           "Mt Murphy, Marie Byrd Land",
           "Antarctica"
          ],
          [
           "Mt. Erie, Puget Lowland, Washington",
           "North American Cordillera"
          ],
          [
           "Mt. Mansfield, Vermont",
           "Laurentide"
          ],
          [
           "Nansen Fjord",
           "Greenland"
          ],
          [
           "Nar Catchment, Himalaya",
           "Himalaya"
          ],
          [
           "NE Canada",
           "Laurentide"
          ],
          [
           "NE Canada",
           "Laurentide"
          ],
          [
           "NE Svalbard margin",
           "Fennoscandia"
          ],
          [
           "New Hampshire",
           "Laurentide"
          ],
          [
           "New Zealand",
           "Oceania"
          ],
          [
           "New Zealand ",
           "Oceania"
          ],
          [
           "Northern Patagonia",
           "Patagonia"
          ],
          [
           "Norway",
           "Fennoscandia"
          ],
          [
           "Norway",
           "Fennoscandia"
          ],
          [
           "Norway",
           "Fennoscandia"
          ],
          [
           "Norway",
           "Fennoscandia"
          ],
          [
           "Norway",
           "Fennoscandia"
          ],
          [
           "Norway",
           "Fennoscandia"
          ],
          [
           "Norway",
           "Fennoscandia"
          ],
          [
           "Norway",
           "Fennoscandia"
          ],
          [
           "Norway",
           "Fennoscandia"
          ],
          [
           "Norway",
           "Fennoscandia"
          ],
          [
           "Norway",
           "Fennoscandia"
          ],
          [
           "Norway",
           "Fennoscandia"
          ],
          [
           "Norway",
           "Fennoscandia"
          ],
          [
           "Norway",
           "Fennoscandia"
          ],
          [
           "Norway",
           "Fennoscandia"
          ],
          [
           "Norway",
           "Fennoscandia"
          ],
          [
           "Norway",
           "Fennoscandia"
          ],
          [
           "Norway",
           "Fennoscandia"
          ],
          [
           "Norway/Sweden",
           "Fennoscandia"
          ],
          [
           "Norwegian margin",
           "Fennoscandia"
          ],
          [
           "NW Barents / Storfjorden Fan",
           "Fennoscandia"
          ],
          [
           "Pamir mountains, Gorno-Badakhshan, Tajikistan",
           "Central Asia"
          ],
          [
           "Patagonia",
           "Patagonia"
          ],
          [
           "Patagonia",
           "Patagonia"
          ],
          [
           "Patagonia",
           "Patagonia"
          ],
          [
           "Patagonia",
           "Patagonia"
          ],
          [
           "Patagonian Andes",
           "Patagonia"
          ],
          [
           "Petermann catchment",
           "Greenland"
          ],
          [
           "Pine Island Glacier",
           "Antarctica"
          ],
          [
           "Prydz Bay, East Antarctica",
           "Antarctica"
          ],
          [
           "Qeqqata",
           "Greenland"
          ],
          [
           "Raikgt, Pakistan Himalaya",
           "Central Asia"
          ],
          [
           "Rwenzori Mountains",
           "East Africa"
          ],
          [
           "Sermeq Kujalleq forefield, Greenland",
           "Greenland"
          ],
          [
           "Shackleton Range",
           "Antarctica"
          ],
          [
           "Sognefjord drainage basin, Norway",
           "Fennoscandia"
          ],
          [
           "Sognefjord drainage basin, Norway",
           "Fennoscandia"
          ],
          [
           "South Shetland Islands",
           "Antarctica"
          ],
          [
           "South-Central Chilean Andes",
           "Chile"
          ],
          [
           "Southern Coast Mountains, British Columbia",
           "North American Cordillera"
          ],
          [
           "Southern French Alps",
           "Alps"
          ],
          [
           "St. Elias Mountains, Alaska",
           "North American Cordillera"
          ],
          [
           "St. Elias Mountains, Alaska",
           "North American Cordillera"
          ],
          [
           "St. Elias Mountains, Alaska",
           "North American Cordillera"
          ],
          [
           "St. Elias Mountains, Alaska",
           "North American Cordillera"
          ],
          [
           "St. Elias Mountains, Alaska",
           "North American Cordillera"
          ],
          [
           "St. Elias Mountains, Alaska",
           "North American Cordillera"
          ],
          [
           "St. Elias Mountains, Alaska",
           "North American Cordillera"
          ],
          [
           "St. Elias Mountains, Alaska",
           "North American Cordillera"
          ],
          [
           "St. Elias Mountains, Alaska",
           "North American Cordillera"
          ],
          [
           "St. Elias Mountains, Alaska",
           "North American Cordillera"
          ],
          [
           "St. Elias Mountains, Alaska",
           "North American Cordillera"
          ],
          [
           "St. Elias Mountains, Alaska",
           "North American Cordillera"
          ],
          [
           "St. Elias Mountains, Alaska",
           "North American Cordillera"
          ],
          [
           "St. Elias Mountains, Alaska",
           "North American Cordillera"
          ],
          [
           "St. Elias Mountains, Alaska",
           "North American Cordillera"
          ],
          [
           "St. Elias Mountains, Alaska",
           "North American Cordillera"
          ],
          [
           "St. Elias Mountains, Alaska",
           "North American Cordillera"
          ],
          [
           "St. Elias Mountains, Alaska",
           "North American Cordillera"
          ],
          [
           "St. Elias Mountains, Alaska",
           "North American Cordillera"
          ],
          [
           "St. Elias Mountains, Alaska",
           "North American Cordillera"
          ],
          [
           "St. Elias Mountains, Alaska",
           "North American Cordillera"
          ],
          [
           "St. Elias Mountains, Alaska",
           "North American Cordillera"
          ],
          [
           "St. Elias Mountains, Alaska",
           "North American Cordillera"
          ],
          [
           "St. Elias Mountains, Alaska",
           "North American Cordillera"
          ],
          [
           "St. Elias Mountains, Alaska",
           "North American Cordillera"
          ],
          [
           "St. Elias Mountains, Alaska",
           "North American Cordillera"
          ],
          [
           "St. Elias Mountains, Alaska",
           "North American Cordillera"
          ],
          [
           "St. Elias Mountains, Alaska",
           "North American Cordillera"
          ],
          [
           "St. Elias Mountains, Alaska",
           "North American Cordillera"
          ],
          [
           "St. Elias Mountains, Alaska",
           "North American Cordillera"
          ],
          [
           "St. Elias Mountains, Alaska",
           "North American Cordillera"
          ],
          [
           "St. Elias Mountains, Alaska",
           "North American Cordillera"
          ],
          [
           "St. Elias Mountains, Alaska",
           "North American Cordillera"
          ],
          [
           "St. Elias Mountains, Alaska",
           "North American Cordillera"
          ],
          [
           "St. Elias Range, Alaska",
           "North American Cordillera"
          ],
          [
           "Storfjorden Fan",
           "Fennoscandia"
          ],
          [
           "Svalbard",
           "Fennoscandia"
          ],
          [
           "Svalbard",
           "Fennoscandia"
          ],
          [
           "Svalbard",
           "Fennoscandia"
          ],
          [
           "Svalbard",
           "Fennoscandia"
          ],
          [
           "Svalbard",
           "Fennoscandia"
          ],
          [
           "Svalbard",
           "Fennoscandia"
          ],
          [
           "Svalbard",
           "Fennoscandia"
          ],
          [
           "Svalbard",
           "Fennoscandia"
          ],
          [
           "Svalbard",
           "Fennoscandia"
          ],
          [
           "Svalbard",
           "Fennoscandia"
          ],
          [
           "Svalbard margin",
           "Fennoscandia"
          ],
          [
           "SW Barents /  Bjørnøya Fan",
           "Fennoscandia"
          ],
          [
           "Swiss Alps",
           "Alps"
          ],
          [
           "Swiss Alps",
           "Alps"
          ],
          [
           "Swiss Alps",
           "Alps"
          ],
          [
           "Switzerland",
           "Alps"
          ],
          [
           "Switzerland",
           "Alps"
          ],
          [
           "Switzerland",
           "Alps"
          ],
          [
           "Switzerland",
           "Alps"
          ],
          [
           "Switzerland",
           "Alps"
          ],
          [
           "Switzerland",
           "Alps"
          ],
          [
           "Switzerland",
           "Alps"
          ],
          [
           "Switzerland",
           "Alps"
          ],
          [
           "Tierra del Fuego",
           "Patagonia"
          ],
          [
           "Tinée Valley, France",
           "Alps"
          ],
          [
           "Torngat Mountains, Labrador, Canada",
           "Laurentide"
          ],
          [
           "Transantarctic Mountains",
           "Antarctica"
          ],
          [
           "Troms margin",
           "Fennoscandia"
          ],
          [
           "UK/Britain",
           "British Isles"
          ],
          [
           "UK/Scotland",
           "British Isles"
          ],
          [
           "Valais, Switzerland",
           "Alps"
          ],
          [
           "Vanj River basin, Gorno-Badakhshan, Tajikistan",
           "Central Asia"
          ],
          [
           "Var River catchment, Southern Alps",
           "Alps"
          ],
          [
           "Vestfjorden, Norway",
           "Norway"
          ],
          [
           "W. Greenland",
           "Greenland"
          ],
          [
           "Walensee Valley, Switzerland",
           "Switzerland"
          ],
          [
           "Watson River, Greenland",
           "Greenland"
          ],
          [
           "Wisconsin, USA",
           "Laurentide"
          ],
          [
           "Wrangell Mountains, Alaska",
           "North American Cordillera"
          ],
          [
           "Wrangell Mountains, Alaska",
           "North American Cordillera"
          ],
          [
           "Yosemite, California",
           "North American Cordillera"
          ],
          [
           "Yosemite, California",
           "North American Cordillera"
          ],
          [
           "Zaravshanskiy",
           "Central Asia"
          ],
          [
           "Ледник Аютор",
           "Central Asia"
          ],
          [
           null,
           null
          ],
          [
           "Earth",
           null
          ],
          [
           "Mars",
           null
          ],
          [
           null,
           null
          ],
          [
           "Snowball",
           null
          ],
          [
           "Earth",
           "global"
          ],
          [
           "Nanhua basin",
           "China"
          ],
          [
           "Adelaidean Inlier/Arkaroola",
           "Australia"
          ],
          [
           "Utah",
           "USA"
          ],
          [
           "Duurwater trough",
           "Namibia"
          ],
          [
           "Seacliff Sandstone, Adelaide Geosyncline",
           "Australia"
          ],
          [
           "South Australia",
           "Australia"
          ],
          [
           "Ellery Creek",
           "Australia"
          ],
          [
           "Oman",
           "Morocco"
          ],
          [
           "Chuos Formation, N. Namibia",
           "Namibia"
          ],
          [
           "Congo craton",
           "Namibia"
          ]
         ],
         "geo": "geo",
         "hovertemplate": "<b>%{hovertext}</b><br><br>type=Glacial<br>lat=%{lat}<br>long=%{lon}<br>locality=%{customdata[0]}<br>region=%{customdata[1]}<extra></extra>",
         "hovertext": [
          "Andvord Bay",
          "Milarepa's Glacier",
          "Andvord Bay",
          "Bagshawe",
          "Bolton",
          "Cadman",
          "Cayley",
          "Fourcade",
          "Funk",
          "Lever",
          "Renard/Krebs",
          "Rutford Ice Stream",
          "Western Antarctic Peninsula average",
          "Lago Buenos Aires",
          "Oliver Glacier",
          "Pangnirmng Fjord",
          "Tumbling Glacier",
          "unnamed",
          "Fennoscandian Ice Sheet",
          "Klinaklini Valley",
          "Scottish Ice Sheet",
          "unnamed",
          "Mușeteica-Buda area",
          "Retezat Mts",
          "Venter Ache at Vent (Oetztal)",
          "Herens Glacier",
          "Bench",
          "unnamed",
          "unnamed",
          "Antarctic Ice Sheet",
          "West Antarctic Ice Sheet",
          "unnamed",
          "Antarctic Ice Sheet",
          "Beardmore glacier",
          "Mackay Glacier",
          "Meserve",
          "Side lobe of the Taylor Glacier in Arena Valley",
          "Unknown glacier in Arena Valley",
          "unnamed",
          "Gamburtsev Mountains",
          "Greenland Ice Sheet",
          "unnamed",
          "Fennoscandian Ice Sheet",
          "Antarctic Ice Sheet",
          "S of Jakobshavn Isbæ, Greenland",
          "Imat",
          "Neale Burn",
          "Fennoscandian Ice Sheet",
          "Arapaho Glacier",
          "Caroll",
          "Grand Pacific",
          "Grand Pacific/Margerie",
          "Johns Hopkins",
          "Margerie",
          "McBride",
          "Muir",
          "Riggs",
          "Greenland Ice Sheet",
          "unnamed",
          "Herbert Sound",
          "G2 Glacier",
          "Hilda",
          "Bara Shigri Glacier",
          "Hamtah Glacier",
          "Imja-Lhotse-Shar Glacier",
          "Khumbu Glacier",
          "Milerapa Glacier",
          "Ngzompa Glacier",
          "Satopanth Glacier",
          "Batura Glacier",
          "Breiðamerkurjökull",
          "Eastern Icelandic Ice Sheet",
          "Hofsjökull",
          "Iceland shelf average",
          "Langjökull",
          "Mýrdalsjökull",
          "NW Iceland average",
          "Southern Icelandic Ice Sheet",
          "Vatnajökull",
          "Icy Bay",
          "Tyndall",
          "Jakobshavn Isbræ",
          "palaeo-Jakobshavn Isbræ",
          "Karabatkak",
          "Jøkulská",
          "Kangerlussuaq",
          "Storglaciären",
          "Laurentide Ice Sheet",
          "unnamed",
          "unnamed",
          "Younger Dryas cirque glacier at Kråkenes",
          "Antarctic Ice Sheet",
          "East Antarctic Ice Sheet",
          "Lapeyrère Bay",
          "Tsanfleuron",
          "Laurentide Ice Sheet",
          "unnamed",
          "Crillon",
          "Lituya/N. Crillon",
          "Europa glacier",
          "Maxwell Bay",
          "Fennoscandian Ice Sheet",
          "Mikis Fjord",
          "Bossons Glacier",
          "West Antarctic Ice Sheet",
          "Cordilleran Ice Sheet",
          "Laurentide Ice Sheet",
          "Nansen Fjord",
          "unnamed",
          "Cambridge Fjord",
          "Coronation Fjord",
          "Fennoscandian Ice Sheet",
          "Laurentide Ice Sheet",
          "Ivory Glacier",
          "Franz Josef",
          "Gualas Glacier",
          "Austre Memurubreen",
          "average",
          "Bødalsbreen",
          "Bondhusbreen",
          "Engabreen",
          "Engabreen (2)",
          "Erdalsbreen",
          "Hogbreen",
          "Høgtuvbreen",
          "Nigardsbreen",
          "Sandskardfonna",
          "Skåtlbreen",
          "Steinhusflatebreen",
          "Tindefjellsbreen",
          "Trollbergdalsbreen",
          "Tverrelvskardet",
          "Vesledalsbreen",
          "Visa",
          "Fennoscandian Ice Sheet",
          "unnamed",
          "Fennoscandian Ice Sheet",
          "Fedchenko",
          "Jorge Montt",
          "San Rafael",
          "San Rafael glacier",
          "Tyndall",
          "unnamed",
          "Petermann",
          "West Antarctic Ice Sheet",
          "East Antarctic Ice Sheet",
          "Leverett Glacier",
          "Raikgt",
          "unnamed",
          "Greenland Ice Sheet",
          "Antarctic Ice Sheet",
          "unnamed (1)",
          "unnamed (2)",
          "Maxwell Bay",
          "unnamed",
          "unnamed",
          "unnamed",
          "Agassiz",
          "Bering",
          "Fan",
          "Guyot",
          "Hayden",
          "Hubbard",
          "Khitrov",
          "Leeper",
          "Libbey",
          "Malaspina",
          "Martin River",
          "Martin River East",
          "Martin River West",
          "Marvine",
          "Marvine West",
          "Miles",
          "Mt. Foresta",
          "Mt. Steller A",
          "Mt. Steller B",
          "Mt. Steller C",
          "Mt. Steller D",
          "Mt. Steller E",
          "Mt. Steller F",
          "Mt. Tom White",
          "Seward",
          "Steller",
          "Turner",
          "Tyndall",
          "Valerie",
          "Variegated",
          "White River",
          "Yaga",
          "Yahtse",
          "Yakataga",
          "average",
          "Fennoscandian Ice Sheet",
          "Austre Brøggerbreen",
          "Bayelva catchment",
          "Brøggerbreen",
          "Endalselva catchment",
          "Erikbreen",
          "Finsterwalderbreen",
          "Hannabreen",
          "Kongsvegen",
          "Van Keulenfjorden",
          "Werenskioldbreen",
          "Fennoscandian Ice Sheet",
          "Fennoscandian Ice Sheet",
          "Rhone",
          "Trift",
          "Vorab",
          "Bertol Inferieur",
          "Dixence",
          "Drance",
          "Ferpecle",
          "Gomer",
          "Massa",
          "Stafel",
          "Tsidjore",
          "Marinelli Glacier",
          "unnamed",
          "unnamed",
          "Antarctic Ice Sheet",
          "Fennoscandian Ice Sheet",
          "unnamed",
          "unnamed",
          "Haut Glacier d'Arolla",
          "RGO",
          "unnamed",
          "Fennoscandian Ice Sheet",
          "Greenland Ice Sheet",
          "unnamed",
          "Greenland Ice Sheet",
          "Laurentide Ice Sheet",
          "Copper River",
          "Kennicott Glacier",
          "Tenaya canyon",
          "Tuolumne meadows",
          "Zaravshanskiy",
          "Ajutor-3",
          null,
          "global average",
          "unnamed Martian glaciers",
          null,
          null,
          "Sturtian+Marinoan icesheets",
          "Sturtian Ice Sheet",
          "Sturtian Ice Sheet",
          "Sturtian Ice Sheet",
          "Marinoan Ice Sheet",
          "Marinoan Ice Sheet",
          "Marinoan Ice Sheet",
          "Sturtian Ice Sheet",
          "Sturtian Ice Sheet",
          "Sturtian Ice Sheet",
          "Marinoan Ice Sheet"
         ],
         "lat": [
          64.83333,
          28.58436,
          -64.81136,
          -64.9333,
          -65.0167,
          -65.6167,
          -64.3333,
          -62.2167,
          -65.5667,
          -65.5,
          -64.6667,
          -79,
          -65,
          -46.51339,
          72.11807,
          66.44895,
          70.9489,
          67.18026,
          72.4,
          51.75,
          57.0614,
          57.1601,
          45.5742,
          45.3707,
          46.8646,
          46.02,
          61.02561,
          61.16691,
          51.33574,
          -75,
          -74.7039,
          -84.99878,
          -78.24163,
          -77.54999,
          -76.98366,
          -77.49563,
          -77.85,
          -77.9,
          28.69644,
          -80.5,
          70,
          42.77139,
          63.74989,
          -78.71212,
          69.2167,
          39.15356,
          -44.79836,
          60.4266,
          40.024,
          59.03702,
          58.7439,
          59.04806,
          58.8045,
          58.8673,
          58.7633,
          58.9269,
          58.372,
          72.5,
          60.26449,
          -67.65,
          35.7576,
          51.73558,
          32.16617,
          32.25,
          27.91433,
          27.97887,
          28.6291,
          27.98969,
          30.75031,
          36.56961,
          64.15332,
          65,
          64.81667,
          64.84,
          64.75,
          63.66666,
          65.77,
          64.5,
          65.7763,
          59.0894,
          60.1755,
          69.2167,
          69.2167,
          42.14763,
          65.25,
          67.011,
          67.88396,
          49.75957,
          28.69644,
          51.40887,
          62.02685,
          -73,
          -71,
          -64.87,
          46.31966,
          54,
          44.16757,
          58.62174,
          58.66551,
          -50.25,
          -64.95,
          63.11533,
          66.7422,
          45.86605,
          -74.8386,
          49.03568,
          44.54366,
          80.0167,
          28.69644,
          71.5,
          56.2771,
          63.11533,
          43.89452,
          -43.12281,
          -43.4607,
          -47.6358,
          61.5828,
          62.28011,
          60.9824,
          60.006,
          67.8556,
          66.66613,
          61.641,
          78.1947,
          66.46491,
          61.5792,
          61.5652,
          78.0956,
          78.0587,
          61.5136,
          61.4456,
          61.2871,
          60.69,
          61.775,
          67.18026,
          62.28011,
          63.11533,
          38.78915,
          -48.1348,
          -46.7631,
          -46.6071,
          -50.9961,
          -47.48506,
          80.50038,
          -75.2536,
          -82.41741,
          79.7067,
          35.34966,
          0.3854,
          72.5,
          -80.50029,
          61.12586,
          61.11503,
          -62.25072,
          -34,
          50.79185,
          45.42881,
          60.16679,
          60.30222,
          60.76893,
          60.17583,
          59.99967,
          60.07272,
          60.46026,
          60.25917,
          60.16713,
          60.04325,
          60.56842,
          60.53297,
          60.52562,
          60.0782,
          60.08454,
          60.62139,
          60.20417,
          60.51861,
          60.51861,
          60.51861,
          60.51861,
          60.51861,
          60.51861,
          60.6518,
          60.19394,
          60.47803,
          60.0429,
          60.17926,
          60.11705,
          60.00564,
          61.64881,
          60.175,
          60.30556,
          60.14583,
          60.49829,
          76,
          78.9099,
          78.9325,
          78.1775,
          78.18546,
          78.1746,
          78.2934,
          78.1993,
          78.2562,
          77.56008,
          77.07824,
          63.11533,
          63.11533,
          46.6216,
          46.6646,
          46.90655,
          46.00489,
          46.1167,
          46.108,
          46.0517,
          46.6463,
          46.6067,
          45.9767,
          46.0054,
          -54.53373,
          44.1168,
          59.56226,
          -83.74999,
          63.11533,
          53.3443,
          53.3443,
          45.99144,
          38.69479,
          44.04642,
          67.83612,
          67.24603,
          47.12264,
          72.5,
          43.7844,
          60.67736,
          61.59991,
          37.74215,
          37.87077,
          39.32454,
          42.05364,
          null,
          null,
          null,
          null,
          null,
          null,
          null,
          null,
          null,
          null,
          null,
          null,
          null,
          null,
          null,
          null
         ],
         "legendgroup": "Glacial",
         "lon": [
          62.65,
          83.98884,
          -62.63329,
          -62.5833,
          -62.9667,
          -63.7833,
          -60.9667,
          -58.6667,
          -63.7667,
          -63.6667,
          -61.6333,
          -80,
          -70,
          -72.03758,
          -76.80117,
          -65.64205,
          -71.1574,
          25.40585,
          20,
          -125.0975,
          -3.60606,
          -3.82319,
          24.63862,
          22.9043,
          10.9789,
          7.5768,
          -145.67664,
          -145.33329,
          -125.26976,
          -111,
          -110.5393,
          -160.00245,
          162.5167,
          160.0897,
          161.52648,
          162.35247,
          160.92,
          160.92,
          84.16647,
          76,
          -30,
          0.13895,
          18.1544,
          -85.1601,
          -49.9857,
          68.34603,
          167.95005,
          18.186,
          -105.6479,
          -136.5477,
          -137.0567,
          -137.04277,
          -137.15675,
          -137.1467,
          -136.5567,
          -133.9081,
          -133.9612,
          -38.45,
          -139.10915,
          -62.7167,
          76.6169,
          -119.45687,
          77.68744,
          77.36,
          86.95458,
          86.83426,
          84.03506,
          86.69017,
          79.36068,
          74.61982,
          -16.40858,
          -14,
          -18.81667,
          -18.38,
          -19.98333,
          -19.1,
          -22.37,
          -16,
          -22.39488,
          -141.7181,
          -141.1577,
          -49.9857,
          -49.9857,
          78.2716,
          -14,
          -50.72,
          18.56302,
          -94.55158,
          84.16647,
          -125.80937,
          4.98675,
          68,
          70,
          -63.065,
          7.22648,
          -89,
          -123.58236,
          -137.41356,
          -137.49458,
          -74.2,
          -62.6167,
          19.0529,
          -53.5639,
          6.8593,
          -113.4006,
          -122.71367,
          -72.83489,
          -21,
          84.16647,
          -74.5,
          -134.26297,
          19.0529,
          -71.60311,
          170.91657,
          170.1861,
          -72.8425,
          8.32275,
          8.68988,
          7.2265,
          6.551,
          15.5942,
          13.89531,
          7.7698,
          15.62,
          13.62579,
          7.3147,
          6.3602,
          15.7331,
          15.7446,
          7.2647,
          7.1814,
          7.9121,
          6.6792,
          6.92,
          25.40585,
          8.68988,
          19.0529,
          72.23871,
          -73.4278,
          -73.8184,
          -74.0377,
          -73.6558,
          -73.41106,
          -59.51339,
          -100.8701,
          59.15345,
          21.6183,
          74.62258,
          29.87004,
          -38.45,
          -25.00024,
          6.52565,
          6.49212,
          -58.85275,
          -70.2,
          -124.00293,
          6.807,
          -140.84473,
          -143.41972,
          -143.6901,
          -141.65222,
          -140.02178,
          -139.31007,
          -143.50376,
          -142.29944,
          -140.95253,
          -140.55359,
          -143.84022,
          -143.80898,
          -144.12595,
          -140.1907,
          -140.23327,
          -144.11889,
          -139.46972,
          -143.09972,
          -143.09972,
          -143.09972,
          -143.09972,
          -143.09972,
          -143.09972,
          -143.69723,
          -140.38914,
          -143.56213,
          -139.68086,
          -141.1625,
          -139.49238,
          -139.27454,
          -141.86646,
          -142.01472,
          -141.72694,
          -142.15167,
          -139.50556,
          20,
          11.8083,
          11.835,
          15.6536,
          15.76243,
          15.5514,
          16.4094,
          16.1172,
          15.5117,
          15.48453,
          15.30863,
          19.0529,
          19.0529,
          8.40399,
          8.37038,
          9.1572,
          7.53182,
          7.3819,
          7.0921,
          7.5153,
          8.2547,
          8.3311,
          7.5625,
          7.7457,
          -69.57207,
          7.11299,
          -64.38593,
          170.92619,
          19.0529,
          -1.87818,
          -1.87818,
          7.49477,
          72.09867,
          7.00557,
          15.03983,
          -49.81962,
          9.20298,
          -38.45,
          -88.7879,
          -144.69218,
          -143.06951,
          -119.57548,
          -119.37766,
          69.39521,
          -70.40718,
          null,
          null,
          null,
          null,
          null,
          null,
          null,
          null,
          null,
          null,
          null,
          null,
          null,
          null,
          null,
          null
         ],
         "marker": {
          "color": "#FF7F0E",
          "symbol": "circle"
         },
         "mode": "markers",
         "name": "Glacial",
         "showlegend": true,
         "type": "scattergeo"
        }
       ],
       "layout": {
        "geo": {
         "center": {},
         "domain": {
          "x": [
           0,
           1
          ],
          "y": [
           0,
           1
          ]
         },
         "projection": {
          "type": "equirectangular"
         },
         "scope": "world"
        },
        "legend": {
         "title": {
          "text": "type"
         },
         "tracegroupgap": 0,
         "x": 0.01,
         "xanchor": "left",
         "y": 0.5,
         "yanchor": "bottom"
        },
        "margin": {
         "b": 10,
         "l": 0,
         "r": 0,
         "t": 30
        },
        "template": {
         "data": {
          "bar": [
           {
            "error_x": {
             "color": "#2a3f5f"
            },
            "error_y": {
             "color": "#2a3f5f"
            },
            "marker": {
             "line": {
              "color": "#E5ECF6",
              "width": 0.5
             },
             "pattern": {
              "fillmode": "overlay",
              "size": 10,
              "solidity": 0.2
             }
            },
            "type": "bar"
           }
          ],
          "barpolar": [
           {
            "marker": {
             "line": {
              "color": "#E5ECF6",
              "width": 0.5
             },
             "pattern": {
              "fillmode": "overlay",
              "size": 10,
              "solidity": 0.2
             }
            },
            "type": "barpolar"
           }
          ],
          "carpet": [
           {
            "aaxis": {
             "endlinecolor": "#2a3f5f",
             "gridcolor": "white",
             "linecolor": "white",
             "minorgridcolor": "white",
             "startlinecolor": "#2a3f5f"
            },
            "baxis": {
             "endlinecolor": "#2a3f5f",
             "gridcolor": "white",
             "linecolor": "white",
             "minorgridcolor": "white",
             "startlinecolor": "#2a3f5f"
            },
            "type": "carpet"
           }
          ],
          "choropleth": [
           {
            "colorbar": {
             "outlinewidth": 0,
             "ticks": ""
            },
            "type": "choropleth"
           }
          ],
          "contour": [
           {
            "colorbar": {
             "outlinewidth": 0,
             "ticks": ""
            },
            "colorscale": [
             [
              0,
              "#0d0887"
             ],
             [
              0.1111111111111111,
              "#46039f"
             ],
             [
              0.2222222222222222,
              "#7201a8"
             ],
             [
              0.3333333333333333,
              "#9c179e"
             ],
             [
              0.4444444444444444,
              "#bd3786"
             ],
             [
              0.5555555555555556,
              "#d8576b"
             ],
             [
              0.6666666666666666,
              "#ed7953"
             ],
             [
              0.7777777777777778,
              "#fb9f3a"
             ],
             [
              0.8888888888888888,
              "#fdca26"
             ],
             [
              1,
              "#f0f921"
             ]
            ],
            "type": "contour"
           }
          ],
          "contourcarpet": [
           {
            "colorbar": {
             "outlinewidth": 0,
             "ticks": ""
            },
            "type": "contourcarpet"
           }
          ],
          "heatmap": [
           {
            "colorbar": {
             "outlinewidth": 0,
             "ticks": ""
            },
            "colorscale": [
             [
              0,
              "#0d0887"
             ],
             [
              0.1111111111111111,
              "#46039f"
             ],
             [
              0.2222222222222222,
              "#7201a8"
             ],
             [
              0.3333333333333333,
              "#9c179e"
             ],
             [
              0.4444444444444444,
              "#bd3786"
             ],
             [
              0.5555555555555556,
              "#d8576b"
             ],
             [
              0.6666666666666666,
              "#ed7953"
             ],
             [
              0.7777777777777778,
              "#fb9f3a"
             ],
             [
              0.8888888888888888,
              "#fdca26"
             ],
             [
              1,
              "#f0f921"
             ]
            ],
            "type": "heatmap"
           }
          ],
          "heatmapgl": [
           {
            "colorbar": {
             "outlinewidth": 0,
             "ticks": ""
            },
            "colorscale": [
             [
              0,
              "#0d0887"
             ],
             [
              0.1111111111111111,
              "#46039f"
             ],
             [
              0.2222222222222222,
              "#7201a8"
             ],
             [
              0.3333333333333333,
              "#9c179e"
             ],
             [
              0.4444444444444444,
              "#bd3786"
             ],
             [
              0.5555555555555556,
              "#d8576b"
             ],
             [
              0.6666666666666666,
              "#ed7953"
             ],
             [
              0.7777777777777778,
              "#fb9f3a"
             ],
             [
              0.8888888888888888,
              "#fdca26"
             ],
             [
              1,
              "#f0f921"
             ]
            ],
            "type": "heatmapgl"
           }
          ],
          "histogram": [
           {
            "marker": {
             "pattern": {
              "fillmode": "overlay",
              "size": 10,
              "solidity": 0.2
             }
            },
            "type": "histogram"
           }
          ],
          "histogram2d": [
           {
            "colorbar": {
             "outlinewidth": 0,
             "ticks": ""
            },
            "colorscale": [
             [
              0,
              "#0d0887"
             ],
             [
              0.1111111111111111,
              "#46039f"
             ],
             [
              0.2222222222222222,
              "#7201a8"
             ],
             [
              0.3333333333333333,
              "#9c179e"
             ],
             [
              0.4444444444444444,
              "#bd3786"
             ],
             [
              0.5555555555555556,
              "#d8576b"
             ],
             [
              0.6666666666666666,
              "#ed7953"
             ],
             [
              0.7777777777777778,
              "#fb9f3a"
             ],
             [
              0.8888888888888888,
              "#fdca26"
             ],
             [
              1,
              "#f0f921"
             ]
            ],
            "type": "histogram2d"
           }
          ],
          "histogram2dcontour": [
           {
            "colorbar": {
             "outlinewidth": 0,
             "ticks": ""
            },
            "colorscale": [
             [
              0,
              "#0d0887"
             ],
             [
              0.1111111111111111,
              "#46039f"
             ],
             [
              0.2222222222222222,
              "#7201a8"
             ],
             [
              0.3333333333333333,
              "#9c179e"
             ],
             [
              0.4444444444444444,
              "#bd3786"
             ],
             [
              0.5555555555555556,
              "#d8576b"
             ],
             [
              0.6666666666666666,
              "#ed7953"
             ],
             [
              0.7777777777777778,
              "#fb9f3a"
             ],
             [
              0.8888888888888888,
              "#fdca26"
             ],
             [
              1,
              "#f0f921"
             ]
            ],
            "type": "histogram2dcontour"
           }
          ],
          "mesh3d": [
           {
            "colorbar": {
             "outlinewidth": 0,
             "ticks": ""
            },
            "type": "mesh3d"
           }
          ],
          "parcoords": [
           {
            "line": {
             "colorbar": {
              "outlinewidth": 0,
              "ticks": ""
             }
            },
            "type": "parcoords"
           }
          ],
          "pie": [
           {
            "automargin": true,
            "type": "pie"
           }
          ],
          "scatter": [
           {
            "marker": {
             "colorbar": {
              "outlinewidth": 0,
              "ticks": ""
             }
            },
            "type": "scatter"
           }
          ],
          "scatter3d": [
           {
            "line": {
             "colorbar": {
              "outlinewidth": 0,
              "ticks": ""
             }
            },
            "marker": {
             "colorbar": {
              "outlinewidth": 0,
              "ticks": ""
             }
            },
            "type": "scatter3d"
           }
          ],
          "scattercarpet": [
           {
            "marker": {
             "colorbar": {
              "outlinewidth": 0,
              "ticks": ""
             }
            },
            "type": "scattercarpet"
           }
          ],
          "scattergeo": [
           {
            "marker": {
             "colorbar": {
              "outlinewidth": 0,
              "ticks": ""
             }
            },
            "type": "scattergeo"
           }
          ],
          "scattergl": [
           {
            "marker": {
             "colorbar": {
              "outlinewidth": 0,
              "ticks": ""
             }
            },
            "type": "scattergl"
           }
          ],
          "scattermapbox": [
           {
            "marker": {
             "colorbar": {
              "outlinewidth": 0,
              "ticks": ""
             }
            },
            "type": "scattermapbox"
           }
          ],
          "scatterpolar": [
           {
            "marker": {
             "colorbar": {
              "outlinewidth": 0,
              "ticks": ""
             }
            },
            "type": "scatterpolar"
           }
          ],
          "scatterpolargl": [
           {
            "marker": {
             "colorbar": {
              "outlinewidth": 0,
              "ticks": ""
             }
            },
            "type": "scatterpolargl"
           }
          ],
          "scatterternary": [
           {
            "marker": {
             "colorbar": {
              "outlinewidth": 0,
              "ticks": ""
             }
            },
            "type": "scatterternary"
           }
          ],
          "surface": [
           {
            "colorbar": {
             "outlinewidth": 0,
             "ticks": ""
            },
            "colorscale": [
             [
              0,
              "#0d0887"
             ],
             [
              0.1111111111111111,
              "#46039f"
             ],
             [
              0.2222222222222222,
              "#7201a8"
             ],
             [
              0.3333333333333333,
              "#9c179e"
             ],
             [
              0.4444444444444444,
              "#bd3786"
             ],
             [
              0.5555555555555556,
              "#d8576b"
             ],
             [
              0.6666666666666666,
              "#ed7953"
             ],
             [
              0.7777777777777778,
              "#fb9f3a"
             ],
             [
              0.8888888888888888,
              "#fdca26"
             ],
             [
              1,
              "#f0f921"
             ]
            ],
            "type": "surface"
           }
          ],
          "table": [
           {
            "cells": {
             "fill": {
              "color": "#EBF0F8"
             },
             "line": {
              "color": "white"
             }
            },
            "header": {
             "fill": {
              "color": "#C8D4E3"
             },
             "line": {
              "color": "white"
             }
            },
            "type": "table"
           }
          ]
         },
         "layout": {
          "annotationdefaults": {
           "arrowcolor": "#2a3f5f",
           "arrowhead": 0,
           "arrowwidth": 1
          },
          "autotypenumbers": "strict",
          "coloraxis": {
           "colorbar": {
            "outlinewidth": 0,
            "ticks": ""
           }
          },
          "colorscale": {
           "diverging": [
            [
             0,
             "#8e0152"
            ],
            [
             0.1,
             "#c51b7d"
            ],
            [
             0.2,
             "#de77ae"
            ],
            [
             0.3,
             "#f1b6da"
            ],
            [
             0.4,
             "#fde0ef"
            ],
            [
             0.5,
             "#f7f7f7"
            ],
            [
             0.6,
             "#e6f5d0"
            ],
            [
             0.7,
             "#b8e186"
            ],
            [
             0.8,
             "#7fbc41"
            ],
            [
             0.9,
             "#4d9221"
            ],
            [
             1,
             "#276419"
            ]
           ],
           "sequential": [
            [
             0,
             "#0d0887"
            ],
            [
             0.1111111111111111,
             "#46039f"
            ],
            [
             0.2222222222222222,
             "#7201a8"
            ],
            [
             0.3333333333333333,
             "#9c179e"
            ],
            [
             0.4444444444444444,
             "#bd3786"
            ],
            [
             0.5555555555555556,
             "#d8576b"
            ],
            [
             0.6666666666666666,
             "#ed7953"
            ],
            [
             0.7777777777777778,
             "#fb9f3a"
            ],
            [
             0.8888888888888888,
             "#fdca26"
            ],
            [
             1,
             "#f0f921"
            ]
           ],
           "sequentialminus": [
            [
             0,
             "#0d0887"
            ],
            [
             0.1111111111111111,
             "#46039f"
            ],
            [
             0.2222222222222222,
             "#7201a8"
            ],
            [
             0.3333333333333333,
             "#9c179e"
            ],
            [
             0.4444444444444444,
             "#bd3786"
            ],
            [
             0.5555555555555556,
             "#d8576b"
            ],
            [
             0.6666666666666666,
             "#ed7953"
            ],
            [
             0.7777777777777778,
             "#fb9f3a"
            ],
            [
             0.8888888888888888,
             "#fdca26"
            ],
            [
             1,
             "#f0f921"
            ]
           ]
          },
          "colorway": [
           "#636efa",
           "#EF553B",
           "#00cc96",
           "#ab63fa",
           "#FFA15A",
           "#19d3f3",
           "#FF6692",
           "#B6E880",
           "#FF97FF",
           "#FECB52"
          ],
          "font": {
           "color": "#2a3f5f"
          },
          "geo": {
           "bgcolor": "white",
           "lakecolor": "white",
           "landcolor": "#E5ECF6",
           "showlakes": true,
           "showland": true,
           "subunitcolor": "white"
          },
          "hoverlabel": {
           "align": "left"
          },
          "hovermode": "closest",
          "mapbox": {
           "style": "light"
          },
          "paper_bgcolor": "white",
          "plot_bgcolor": "#E5ECF6",
          "polar": {
           "angularaxis": {
            "gridcolor": "white",
            "linecolor": "white",
            "ticks": ""
           },
           "bgcolor": "#E5ECF6",
           "radialaxis": {
            "gridcolor": "white",
            "linecolor": "white",
            "ticks": ""
           }
          },
          "scene": {
           "xaxis": {
            "backgroundcolor": "#E5ECF6",
            "gridcolor": "white",
            "gridwidth": 2,
            "linecolor": "white",
            "showbackground": true,
            "ticks": "",
            "zerolinecolor": "white"
           },
           "yaxis": {
            "backgroundcolor": "#E5ECF6",
            "gridcolor": "white",
            "gridwidth": 2,
            "linecolor": "white",
            "showbackground": true,
            "ticks": "",
            "zerolinecolor": "white"
           },
           "zaxis": {
            "backgroundcolor": "#E5ECF6",
            "gridcolor": "white",
            "gridwidth": 2,
            "linecolor": "white",
            "showbackground": true,
            "ticks": "",
            "zerolinecolor": "white"
           }
          },
          "shapedefaults": {
           "line": {
            "color": "#2a3f5f"
           }
          },
          "ternary": {
           "aaxis": {
            "gridcolor": "white",
            "linecolor": "white",
            "ticks": ""
           },
           "baxis": {
            "gridcolor": "white",
            "linecolor": "white",
            "ticks": ""
           },
           "bgcolor": "#E5ECF6",
           "caxis": {
            "gridcolor": "white",
            "linecolor": "white",
            "ticks": ""
           }
          },
          "title": {
           "x": 0.05
          },
          "xaxis": {
           "automargin": true,
           "gridcolor": "white",
           "linecolor": "white",
           "ticks": "",
           "title": {
            "standoff": 15
           },
           "zerolinecolor": "white",
           "zerolinewidth": 2
          },
          "yaxis": {
           "automargin": true,
           "gridcolor": "white",
           "linecolor": "white",
           "ticks": "",
           "title": {
            "standoff": 15
           },
           "zerolinecolor": "white",
           "zerolinewidth": 2
          }
         }
        },
        "title": {
         "x": 0.85,
         "y": 0.97
        }
       }
      },
      "text/html": [
       "<div>                            <div id=\"f3a79be8-4e75-4e5a-b0e7-17974777f5f4\" class=\"plotly-graph-div\" style=\"height:525px; width:100%;\"></div>            <script type=\"text/javascript\">                require([\"plotly\"], function(Plotly) {                    window.PLOTLYENV=window.PLOTLYENV || {};                                    if (document.getElementById(\"f3a79be8-4e75-4e5a-b0e7-17974777f5f4\")) {                    Plotly.newPlot(                        \"f3a79be8-4e75-4e5a-b0e7-17974777f5f4\",                        [{\"customdata\":[[\"Bolivian Andes\",\"Bolivia\"],[\"Bolivian Andes\",\"Bolivia\"],[\"Bolivian Andes\",\"Bolivia\"],[\"Bolivian Andes\",\"Bolivia\"],[\"Bolivian Andes\",\"Bolivia\"],[\"Bolivian Andes\",\"Bolivia\"],[\"Bolivian Andes\",\"Bolivia\"],[\"Bolivian Andes\",\"Bolivia\"],[\"Bolivian Andes\",\"Bolivia\"],[\"Bolivian Andes\",\"Bolivia\"],[\"Bolivian Andes\",\"Bolivia\"],[\"Bolivian Andes\",\"Bolivia\"],[\"Bolivian Andes\",\"Bolivia\"],[\"Bolivian Andes\",\"Bolivia\"],[\"Bolivian Andes\",\"Bolivia\"],[\"Bolivian Andes\",\"Bolivia\"],[\"Bolivian Andes\",\"Bolivia\"],[\"Bolivian Andes\",\"Bolivia\"],[\"Bolivian Andes\",\"Bolivia\"],[\"Bolivian Andes\",\"Bolivia\"],[\"Bolivian Andes\",\"Bolivia\"],[\"Bolivian Andes\",\"Bolivia\"],[\"Bolivian Andes\",\"Bolivia\"],[\"Bolivian Andes\",\"Bolivia\"],[\"Bolivian Andes\",\"Bolivia\"],[\"Bolivian Andes\",\"Bolivia\"],[\"Bolivian Andes\",\"Bolivia\"],[\"Bolivian Andes\",\"Bolivia\"],[\"Bolivian Andes\",\"Bolivia\"],[\"Bolivian Andes\",\"Bolivia\"],[\"Bolivian Andes\",\"Bolivia\"],[\"Bolivian Andes\",\"Bolivia\"],[\"Bolivian Andes\",\"Bolivia\"],[\"Bolivian Andes\",\"Bolivia\"],[\"Bolivian Andes\",\"Bolivia\"],[\"Middle Europe\",\"France\"],[\"Middle Europe\",\"France\"],[\"Bolivian Andes\",\"Bolivia\"],[\"Bolivian Andes\",\"Bolivia\"],[\"Bolivian Andes\",\"Bolivia\"],[\"Bolivian Andes\",\"Bolivia\"],[\"Bolivian Andes\",\"Bolivia\"],[\"Bolivian Andes\",\"Bolivia\"],[\"Middle Europe\",\"France\"],[\"Bolivian Andes\",\"Bolivia\"],[\"Bolivian Andes\",\"Bolivia\"],[\"Middle Europe\",\"France\"],[\"Middle Europe\",\"Netherlands\"],[\"Bolivian Andes\",\"Bolivia\"],[\"Bolivian Andes\",\"Bolivia\"],[\"Middle Europe\",\"Netherlands\"],[\"Bolivian Andes\",\"Bolivia\"],[\"Bolivian Andes\",\"Bolivia\"],[\"Bolivian Andes\",\"Bolivia\"],[\"Bolivian Andes\",\"Bolivia\"],[\"Bolivian Andes\",\"Bolivia\"],[\"Bolivian Andes\",\"Bolivia\"],[\"Middle Europe\",\"Netherlands\"],[\"Bolivian Andes\",\"Bolivia\"],[\"Bolivian Andes\",\"Bolivia\"],[\"Middle Europe\",\"Belgium\"],[\"Bolivian Andes\",\"Bolivia\"],[\"Bolivian Andes\",\"Bolivia\"],[\"Bolivian Andes\",\"Bolivia\"],[\"Middle Europe\",\"Belgium\"],[\"Middle Europe\",\"Belgium\"],[\"Middle Europe\",\"France\"],[\"Middle Europe\",\"Belgium\"],[\"Middle Europe\",\"France\"],[\"Middle Europe\",\"France\"],[\"Rhine catchment (BW)\",\"Germany\"],[\"Middle Europe\",\"France\"],[\"Middle Europe\",\"France\"],[\"Rhine catchment (BW)\",\"Germany\"],[\"Rhine catchment (BW)\",\"Germany\"],[\"Rhine catchment (BW)\",\"Germany\"],[\"Middle Europe\",\"France\"],[\"Middle Europe\",\"France\"],[\"Rhine catchment (BW)\",\"Germany\"],[\"Rhine catchment (BW)\",\"Germany\"],[\"Middle Europe\",\"Belgium\"],[\"Middle Europe\",\"France\"],[\"Middle Europe\",\"France\"],[\"Middle Europe\",\"France\"],[\"Middle Europe\",\"France\"],[\"Rhine catchment (BW)\",\"Germany\"],[\"Middle Europe\",\"France\"],[\"Middle Europe\",\"France\"],[\"Middle Europe\",\"France\"],[\"Rhine catchment (BW)\",\"Germany\"],[\"Rhine catchment (BW)\",\"Germany\"],[\"Danube catchment (BY)\",\"Germany\"],[\"Middle Europe\",\"France\"],[\"Danube catchment (BY)\",\"Germany\"],[\"Middle Europe\",\"France\"],[\"Middle Europe\",\"France\"],[\"Middle Europe\",\"France\"],[\"Middle Europe\",\"France\"],[\"Middle Europe\",\"France\"],[\"Danube catchment (BY)\",\"Germany\"],[\"Danube catchment (BY)\",\"Germany\"],[\"Napo Riv., Upper Amazon Basin\",\"Ecuador\"],[\"Napo Riv., Upper Amazon Basin\",\"Peru\"],[\"Danube catchment (BY)\",\"Germany\"],[\"Napo Riv., Upper Amazon Basin\",\"Ecuador\"],[\"Napo Riv., Upper Amazon Basin\",\"Ecuador\"],[\"Danube catchment (BY)\",\"Germany\"],[\"Middle Europe\",\"France\"],[\"Three Rivers Region\",\"China\"],[\"Danube catchment (BY)\",\"Germany\"],[\"Three Rivers Region\",\"China\"],[\"Three Rivers Region\",\"China\"],[\"Three Rivers Region\",\"China\"],[\"Middle Europe\",\"France\"],[\"Three Rivers Region\",\"China\"],[\"Rhine catchment (BW)\",\"Germany\"],[\"Middle Europe\",\"France\"],[\"Three Rivers Region\",\"China\"],[\"Three Rivers Region\",\"China\"],[\"Three Rivers Region\",\"China\"],[\"Middle Europe\",\"France\"],[\"Middle Europe\",\"France\"],[\"Danube catchment (BY)\",\"Germany\"],[\"Three Rivers Region\",\"China\"],[\"Rhine catchment (BW)\",\"Germany\"],[\"Napo Riv., Upper Amazon Basin\",\"Peru\"],[\"Napo Riv., Upper Amazon Basin\",\"Peru\"],[\"Napo Riv., Upper Amazon Basin\",\"Peru\"],[\"Napo Riv., Upper Amazon Basin\",\"Peru\"],[\"Middle Europe\",\"France\"],[\"Middle Europe\",\"France\"],[\"Danube catchment (BY)\",\"Germany\"],[\"Danube catchment (BY)\",\"Germany\"],[\"Napo Riv., Upper Amazon Basin\",\"Peru\"],[\"Middle Europe\",\"France\"],[\"Danube catchment (BY)\",\"Germany\"],[\"Rhine catchment (BW)\",\"Germany\"],[\"Danube catchment (BY)\",\"Germany\"],[\"Middle Europe\",\"France\"],[\"Danube catchment (BY)\",\"Germany\"],[\"Danube catchment (BY)\",\"Germany\"],[\"Middle Europe\",\"France\"],[\"Middle Europe\",\"France\"],[\"Napo Riv., Upper Amazon Basin\",\"Peru\"],[\"Napo Riv., Upper Amazon Basin\",\"Peru\"],[\"Napo Riv., Upper Amazon Basin\",\"Ecuador\"],[\"Napo Riv., Upper Amazon Basin\",\"Ecuador\"],[\"Three Rivers Region\",\"China\"],[\"Napo Riv., Upper Amazon Basin\",\"Ecuador\"],[\"Three Rivers Region\",\"China\"],[\"Three Rivers Region\",\"China\"],[\"Napo Riv., Upper Amazon Basin\",\"Ecuador\"],[\"Three Rivers Region\",\"China\"],[\"Three Rivers Region\",\"China\"],[\"Three Rivers Region\",\"China\"],[\"Napo Riv., Upper Amazon Basin\",\"Ecuador\"],[\"Three Rivers Region\",\"China\"],[\"Three Rivers Region\",\"China\"],[\"Three Rivers Region\",\"China\"],[\"Three Rivers Region\",\"China\"],[\"Three Rivers Region\",\"China\"],[\"Three Rivers Region\",\"China\"],[\"Three Rivers Region\",\"China\"],[\"Three Rivers Region\",\"China\"],[\"Three Rivers Region\",\"China\"],[\"Three Rivers Region\",\"China\"],[\"Three Rivers Region\",\"China\"],[\"Three Rivers Region\",\"China\"],[\"Three Rivers Region\",\"China\"],[\"Three Rivers Region\",\"China\"],[\"Three Rivers Region\",\"China\"],[\"Three Rivers Region\",\"China\"],[\"Three Rivers Region\",\"China\"],[\"Three Rivers Region\",\"China\"],[\"Three Rivers Region\",\"China\"],[\"Three Rivers Region\",\"China\"],[\"Three Rivers Region\",\"China\"],[\"Three Rivers Region\",\"China\"],[\"Three Rivers Region\",\"China\"],[\"Three Rivers Region\",\"China\"],[\"Three Rivers Region\",\"China\"],[\"Three Rivers Region\",\"China\"],[\"Three Rivers Region\",\"China\"],[\"Three Rivers Region\",\"China\"],[\"Three Rivers Region\",\"China\"],[\"Three Rivers Region\",\"China\"],[\"Three Rivers Region\",\"China\"],[\"Three Rivers Region\",\"China\"],[\"Three Rivers Region\",\"China\"],[\"Cenral Andes\",\"Bolivia\"],[\"Cenral Andes\",\"Bolivia\"],[\"Appalachian Mts. (MD/PA/NY)\",\"USA\"],[\"Cenral Andes\",\"Bolivia\"],[\"Cenral Andes\",\"Bolivia\"],[\"Cenral Andes\",\"Bolivia\"],[\"Cenral Andes\",\"Bolivia\"],[\"Cenral Andes\",\"Bolivia\"],[\"Cenral Andes\",\"Bolivia\"],[\"Central Andes, Eastern Cordillera\",\"Bolivia\"],[\"Central Andes, Eastern Cordillera\",\"Bolivia\"],[\"Central Andes, Interandean Zone\",\"Bolivia\"],[\"Central Andes, Eastern Cordillera\",\"Bolivia\"],[\"Central Subandes\",\"Bolivia\"],[\"Central Andes, Interandean Zone\",\"Bolivia\"],[\"Central Andes, Eastern Cordillera\",\"Bolivia\"],[\"Central Andes, Eastern Cordillera\",\"Bolivia\"],[\"Central Andes, Eastern Cordillera\",\"Bolivia\"],[\"Central Subandes\",\"Bolivia\"],[\"Central Andes, Interandean Zone\",\"Bolivia\"],[\"Central Andes, Eastern Cordillera\",\"Bolivia\"],[\"Central Subandes\",\"Bolivia\"],[\"Central Andes, Eastern Cordillera\",\"Bolivia\"],[\"Central Andes, Eastern Cordillera\",\"Bolivia\"],[\"Central Andes, Eastern Cordillera\",\"Bolivia\"],[\"Central Andes, Eastern Cordillera\",\"Bolivia\"],[\"Central Andes, Eastern Cordillera\",\"Bolivia\"],[\"Central Subandes\",\"Bolivia\"],[\"Central Andes, Eastern Cordillera\",\"Bolivia\"],[\"Central Andes, Interandean Zone\",\"Bolivia\"],[\"Central Subandes\",\"Bolivia\"],[\"Central Andes, Eastern Cordillera\",\"Bolivia\"],[\"Central Andes, Eastern Cordillera\",\"Bolivia\"],[\"Central Subandes\",\"Bolivia\"],[\"Central Andes, Interandean Zone\",\"Bolivia\"],[\"Central Andes, Eastern Cordillera\",\"Bolivia\"],[\"Central Andes, Eastern Cordillera\",\"Bolivia\"],[\"Central Andes, Eastern Cordillera\",\"Bolivia\"],[\"Central Andes, Interandean Zone\",\"Bolivia\"],[\"Central Subandes\",\"Bolivia\"],[\"Central Andes, Eastern Cordillera\",\"Bolivia\"],[\"Central Andes, Interandean Zone\",\"Bolivia\"],[\"Central Andes, Eastern Cordillera\",\"Bolivia\"],[\"Central Andes, Interandean Zone\",\"Bolivia\"],[\"Central Andes, Interandean Zone\",\"Bolivia\"],[\"Central Andes, Interandean Zone\",\"Bolivia\"],[\"Central Andes, Eastern Cordillera\",\"Bolivia\"],[\"Po Delta\",\"Italy\"],[\"Po Delta\",\"Italy\"],[\"Po floodplain\",\"Italy\"],[\"Po floodplain\",\"Italy\"],[\"Central Andes, Eastern Cordillera\",\"Bolivia\"],[\"Po floodplain\",\"Italy\"],[\"Po floodplain\",\"Italy\"],[\"Central Andes, Interandean Zone\",\"Bolivia\"],[\"Po floodplain\",\"Italy\"],[\"Po floodplain\",\"Italy\"],[\"Po floodplain\",\"Italy\"],[\"Po floodplain\",\"Italy\"],[\"Central Andes, Interandean Zone\",\"Bolivia\"],[\"Po floodplain\",\"Italy\"],[\"Po floodplain\",\"Italy\"],[\"Po floodplain\",\"Italy\"],[\"Northern Western Alps\",\"Italy\"],[\"Northern Western Alps\",\"Italy\"],[\"Central Andes, Interandean Zone\",\"Bolivia\"],[\"Eastern Central Alps\",\"Italy\"],[\"Western Central Alps\",\"Italy\"],[\"Western Central Alps\",\"Italy\"],[\"Eastern Central Alps\",\"Italy\"],[\"Apennines\",\"Italy\"],[\"Central Andes, Eastern Cordillera\",\"Bolivia\"],[\"Ligurian Alps\",\"Italy\"],[\"Northern Western Alps\",\"Italy\"],[\"Western Central Alps\",\"Italy\"],[\"Apennines\",\"Italy\"],[\"Central Subandes\",\"Bolivia\"],[\"Central Andes, Eastern Cordillera\",\"Bolivia\"],[\"Central Andes, Interandean Zone\",\"Bolivia\"],[\"Western Central Alps\",\"Italy\"],[\"Apennines\",\"Italy\"],[\"Western Central Alps\",\"Italy\"],[\"Appalachian Mts. (MD/PA/NY)\",\"USA\"],[\"Central Andes, Eastern Cordillera\",\"Bolivia\"],[\"Central Subandes\",\"Bolivia\"],[\"Central Andes, Interandean Zone\",\"Bolivia\"],[\"Po Delta\",\"Italy\"],[\"Western Central Alps\",\"Italy\"],[\"Northern Western Alps\",\"Italy\"],[\"Apennines\",\"Italy\"],[\"Apennines\",\"Italy\"],[\"Southern Western Alps\",\"Italy\"],[\"Ligurian Alps\",\"Italy\"],[\"Western Central Alps\",\"Italy\"],[\"Southern Western Alps\",\"Italy\"],[\"Western Central Andes\",\"Peru\"],[\"Western Central Andes\",\"Peru\"],[\"Western Central Andes\",\"Peru\"],[\"Western Central Alps\",\"Italy\"],[\"Western Central Alps\",\"Italy\"],[\"Western Central Alps\",\"Italy\"],[\"Western Central Andes\",\"Peru\"],[\"Western Central Andes\",\"Peru\"],[\"Western Central Andes\",\"Peru\"],[\"Western Central Andes\",\"Peru\"],[\"Western Central Andes\",\"Peru\"],[\"Western Central Andes\",\"Peru\"],[\"Western Central Andes\",\"Peru\"],[\"Western Central Andes\",\"Peru\"],[\"Western Central Andes\",\"Peru\"],[\"Western Central Andes\",\"Peru\"],[\"Western Central Andes\",\"Peru\"],[\"Western Central Andes\",\"Peru\"],[\"Western Central Andes\",\"Peru\"],[\"Western Central Andes\",\"Peru\"],[\"Appalachian Mts. (MD/PA/NY)\",\"USA\"],[\"Western Central Andes\",\"Peru\"],[\"Western Central Andes\",\"Peru\"],[\"Western Central Andes\",\"Peru\"],[\"Western Central Andes\",\"Peru\"],[\"Western Central Andes\",\"Peru\"],[\"Western Central Andes\",\"Peru\"],[\"Western Central Andes\",\"Peru\"],[\"Western Central Andes\",\"Peru\"],[\"Western Central Andes\",\"Peru\"],[\"Western Central Andes\",\"Peru\"],[\"Western Central Andes\",\"Peru\"],[\"Western Central Andes\",\"Peru\"],[\"Western Central Andes\",\"Peru\"],[\"Western Central Andes\",\"Peru\"],[\"Western Central Andes\",\"Peru\"],[\"Western Central Andes\",\"Peru\"],[\"Western Central Andes\",\"Peru\"],[\"Western Central Andes\",\"Peru\"],[\"Western Central Andes\",\"Peru\"],[\"Western Central Andes\",\"Peru\"],[\"Western Central Andes\",\"Peru\"],[\"Western Central Andes\",\"Peru\"],[\"Western Central Andes\",\"Peru\"],[\"Western Central Andes\",\"Peru\"],[\"Western Central Andes\",\"Peru\"],[\"Appalachian Mts. (MD/PA/NY)\",\"USA\"],[\"Gulf of Lion\",\"France\"],[\"Gulf of Lion\",\"France\"],[\"Gulf of Lion\",\"France\"],[\"Gulf of Lion\",\"France\"],[\"Gulf of Lion\",\"France\"],[\"Gulf of Lion\",\"France\"],[\"Gulf of Lion\",\"France\"],[\"Gulf of Lion\",\"France\"],[\"Gulf of Lion\",\"France\"],[\"Gulf of Lion\",\"France\"],[\"Gulf of Lion\",\"France\"],[\"Gulf of Lion\",\"France\"],[\"Gulf of Lion\",\"France\"],[\"Gulf of Lion\",\"France\"],[\"Namche Barwa-Gyala Peri Massif\",\"China\"],[\"Namche Barwa-Gyala Peri Massif\",\"China\"],[\"Namche Barwa-Gyala Peri Massif\",\"China\"],[\"Namche Barwa-Gyala Peri Massif\",\"China\"],[\"Namche Barwa-Gyala Peri Massif\",\"China\"],[\"Namche Barwa-Gyala Peri Massif\",\"China\"],[\"Namche Barwa-Gyala Peri Massif\",\"China\"],[\"Namche Barwa-Gyala Peri Massif\",\"China\"],[\"Pamir\",\"Tajikistan\"],[\"Pamir\",\"Tajikistan\"],[\"Pamir\",\"Tajikistan\"],[\"Pamir\",\"Tajikistan\"],[\"Pamir\",\"Tajikistan\"],[\"Namche Barwa-Gyala Peri Massif\",\"China\"],[\"Namche Barwa-Gyala Peri Massif\",\"China\"],[\"Pamir\",\"Tajikistan\"],[\"Namche Barwa-Gyala Peri Massif\",\"China\"],[\"Namche Barwa-Gyala Peri Massif\",\"China\"],[\"Namche Barwa-Gyala Peri Massif\",\"China\"],[\"Pamir\",\"Tajikistan\"],[\"Pamir\",\"Tajikistan\"],[\"Pamir\",\"Tajikistan\"],[\"Pamir\",\"Tajikistan\"],[\"Pamir\",\"Tajikistan\"],[\"South Cameroon\",\"Cameroon\"],[\"South Cameroon\",\"Cameroon\"],[\"South Cameroon\",\"Cameroon\"],[\"South Cameroon\",\"Cameroon\"],[\"South Cameroon\",\"Cameroon\"],[\"South Cameroon\",\"Cameroon\"],[\"South Cameroon\",\"Cameroon\"],[\"South Cameroon\",\"Cameroon\"],[\"South Cameroon\",\"Cameroon\"],[\"South Cameroon\",\"Cameroon\"],[\"South Cameroon\",\"Cameroon\"],[\"South Cameroon\",\"Cameroon\"],[\"Karnataka, Kerala\",\"India\"],[\"South Cameroon\",\"Cameroon\"],[\"South Cameroon\",\"Cameroon\"],[\"Karnataka, Kerala\",\"India\"],[\"South Cameroon\",\"Cameroon\"],[\"Karnataka, Kerala\",\"India\"],[\"Karnataka, Kerala\",\"India\"],[\"Karnataka, Kerala\",\"India\"],[\"Karnataka, Kerala\",\"India\"],[\"Karnataka, Kerala\",\"India\"],[\"Karnataka, Kerala\",\"India\"],[\"Karnataka, Kerala\",\"India\"],[\"Karnataka, Kerala\",\"India\"],[\"Karnataka, Kerala\",\"India\"],[\"Karnataka, Kerala\",\"India\"],[\"Karnataka, Kerala\",\"India\"],[\"Karnataka, Kerala\",\"India\"],[\"Karnataka, Kerala\",\"India\"],[\"Karnataka, Kerala\",\"India\"],[\"Karnataka, Kerala\",\"India\"],[\"Karnataka, Kerala\",\"India\"],[\"Karnataka, Kerala\",\"India\"],[\"Karnataka, Kerala\",\"India\"],[\"Karnataka, Kerala\",\"India\"],[\"Karnataka, Kerala\",\"India\"],[\"Karnataka, Kerala\",\"India\"],[\"Karnataka, Kerala\",\"India\"],[\"Appalachian Piedmont\",\"USA\"],[\"Karnataka, Kerala\",\"India\"],[\"Appalachian Piedmont\",\"USA\"],[\"Appalachian Piedmont\",\"USA\"],[\"Karnataka, Kerala\",\"India\"],[\"Karnataka, Kerala\",\"India\"],[\"Appalachian Piedmont\",\"USA\"],[\"Appalachian Piedmont\",\"USA\"],[\"Karnataka, Kerala\",\"India\"],[\"Karnataka, Kerala\",\"India\"],[\"Karnataka, Kerala\",\"India\"],[\"Karnataka, Kerala\",\"India\"],[\"Karnataka, Kerala\",\"India\"],[\"Karnataka, Kerala\",\"India\"],[\"Appalachian Piedmont\",\"USA\"],[\"Karnataka, Kerala\",\"India\"],[\"Karnataka, Kerala\",\"India\"],[\"Appalachian Piedmont\",\"USA\"],[\"Karnataka, Kerala\",\"India\"],[\"Karnataka, Kerala\",\"India\"],[\"Karnataka, Kerala\",\"India\"],[\"Karnataka, Kerala\",\"India\"],[\"Karnataka, Kerala\",\"India\"],[\"Karnataka, Kerala\",\"India\"],[\"Karnataka, Kerala\",\"India\"],[\"Karnataka, Kerala\",\"India\"],[\"Karnataka, Kerala\",\"India\"],[\"Karnataka, Kerala\",\"India\"],[\"Karnataka, Kerala\",\"India\"],[\"Karnataka, Kerala\",\"India\"],[\"Karnataka, Kerala\",\"India\"],[\"Karnataka, Kerala\",\"India\"],[\"Karnataka, Kerala\",\"India\"],[\"Karnataka, Kerala\",\"India\"],[\"Karnataka, Kerala\",\"India\"],[\"Karnataka, Kerala\",\"India\"],[\"Appalachian Piedmont\",\"USA\"],[\"Appalachian Piedmont\",\"USA\"],[\"Karnataka, Kerala\",\"India\"],[\"Karnataka, Kerala\",\"India\"],[\"Karnataka, Kerala\",\"India\"],[\"Karnataka, Kerala\",\"India\"],[\"Karnataka, Kerala\",\"India\"],[\"Karnataka, Kerala\",\"India\"],[\"Karnataka, Kerala\",\"India\"],[\"Karnataka, Kerala\",\"India\"],[\"Karnataka, Kerala\",\"India\"],[\"Karnataka, Kerala\",\"India\"],[\"Karnataka, Kerala\",\"India\"],[\"Karnataka, Kerala\",\"India\"],[\"Castile and Leon\",\"Spain\"],[\"Castile and Leon\",\"Spain\"],[\"Karnataka, Kerala\",\"India\"],[\"Karnataka, Kerala\",\"India\"],[\"Karnataka, Kerala\",\"India\"],[\"Karnataka, Kerala\",\"India\"],[\"Karnataka, Kerala\",\"India\"],[\"Karnataka, Kerala\",\"India\"],[\"Karnataka, Kerala\",\"India\"],[\"Karnataka, Kerala\",\"India\"],[\"Massif Central\",\"France\"],[\"Castile and Leon\",\"Spain\"],[\"Karnataka, Kerala\",\"India\"],[\"Karnataka, Kerala\",\"India\"],[\"Karnataka, Kerala\",\"India\"],[\"Karnataka, Kerala\",\"India\"],[\"Karnataka, Kerala\",\"India\"],[\"Castile and Leon\",\"Spain\"],[\"Karnataka, Kerala\",\"India\"],[\"Bohemia\",\"Czechia\"],[\"Anadalusia\",\"Spain\"],[\"Bohemia\",\"Czechia\"],[\"Bohemia\",\"Czechia\"],[\"Anadalusia\",\"Spain\"],[\"Anadalusia\",\"Spain\"],[\"Anadalusia\",\"Spain\"],[\"Bohemia\",\"Czechia\"],[\"Massif Central\",\"France\"],[\"Massif Central\",\"France\"],[\"Massif Central\",\"France\"],[\"Texas\",\"USA\"],[\"Texas\",\"USA\"],[\"Texas\",\"USA\"],[\"Texas\",\"USA\"],[\"Appalachian Piedmont\",\"USA\"],[\"Appalachian Piedmont\",\"USA\"],[\"Appalachian Piedmont\",\"USA\"],[\"Appalachian Piedmont\",\"USA\"],[\"Appalachian Piedmont\",\"USA\"],[\"Appalachian Piedmont\",\"USA\"],[\"Appalachian Piedmont\",\"USA\"],[\"Appalachian Piedmont\",\"USA\"],[\"Appalachian Piedmont\",\"USA\"],[\"Appalachian Piedmont\",\"USA\"],[\"Appalachian Piedmont\",\"USA\"],[\"Appalachian Mts. (MD/PA/NY)\",\"USA\"],[\"Appalachian Mts. (MD/PA/NY)\",\"USA\"],[\"Appalachian Piedmont\",\"USA\"],[\"Appalachian Piedmont\",\"USA\"],[\"Appalachian Piedmont\",\"USA\"],[\"Appalachian Mts. (MD/PA/NY)\",\"USA\"],[\"Appalachian Mts. (MD/PA/NY)\",\"USA\"],[\"Appalachian Piedmont\",\"USA\"],[\"Appalachian Mts. (MD/PA/NY)\",\"USA\"],[\"Appalachian Mts. (MD/PA/NY)\",\"USA\"],[\"Appalachian Mts. (MD/PA/NY)\",\"USA\"],[\"Appalachian Mts. (MD/PA/NY)\",\"USA\"],[\"Appalachian Mts. (MD/PA/NY)\",\"USA\"],[\"Appalachian Mts. (MD/PA/NY)\",\"USA\"],[\"Appalachian Mts. (MD/PA/NY)\",\"USA\"],[\"Appalachian Mts. (MD/PA/NY)\",\"USA\"],[\"Appalachian Mts. (MD/PA/NY)\",\"USA\"],[\"Appalachian Mts. (MD/PA/NY)\",\"USA\"],[\"Appalachian Mts. (MD/PA/NY)\",\"USA\"],[\"Appalachian Mts. (MD/PA/NY)\",\"USA\"],[\"Appalachian Mts. (MD/PA/NY)\",\"USA\"],[\"Appalachian Mts. (MD/PA/NY)\",\"USA\"],[\"Appalachian Mts. (MD/PA/NY)\",\"USA\"],[\"Appalachian Mts. (MD/PA/NY)\",\"USA\"],[\"Appalachian Mts. (MD/PA/NY)\",\"USA\"],[\"Appalachian Mts. (MD/PA/NY)\",\"USA\"],[\"Appalachian Mts. (MD/PA/NY)\",\"USA\"],[\"Himalaya\",\"Nepal\"],[\"Appalachian Mts. (MD/PA/NY)\",\"USA\"],[\"Appalachian Mts. (MD/PA/NY)\",\"USA\"],[\"Appalachian Mts. (MD/PA/NY)\",\"USA\"],[\"Appalachian Mts. (MD/PA/NY)\",\"USA\"],[\"Appalachian Mts. (MD/PA/NY)\",\"USA\"],[\"Appalachian Mts. (MD/PA/NY)\",\"USA\"],[\"Appalachian Mts. (MD/PA/NY)\",\"USA\"],[\"Appalachian Mts. (MD/PA/NY)\",\"USA\"],[\"Appalachian Mts. (MD/PA/NY)\",\"USA\"],[\"Appalachian Mts. (MD/PA/NY)\",\"USA\"],[\"Appalachian Mts. (MD/PA/NY)\",\"USA\"],[\"Appalachian Mts. (MD/PA/NY)\",\"USA\"],[\"Appalachian Mts. (MD/PA/NY)\",\"USA\"],[\"Appalachian Mts. (MD/PA/NY)\",\"USA\"],[\"Appalachian Mts. (MD/PA/NY)\",\"USA\"],[\"Himalaya\",\"Nepal\"],[\"Appalachian Mts. (MD/PA/NY)\",\"USA\"],[\"Appalachian Mts. (MD/PA/NY)\",\"USA\"],[\"Appalachian Mts. (MD/PA/NY)\",\"USA\"],[\"Appalachian Mts. (MD/PA/NY)\",\"USA\"],[\"Appalachian Mts. (MD/PA/NY)\",\"USA\"],[\"Appalachian Mts. (MD/PA/NY)\",\"USA\"],[\"Appalachian Mts. (MD/PA/NY)\",\"USA\"],[\"Appalachian Mts. (MD/PA/NY)\",\"USA\"],[\"Appalachian Mts. (MD/PA/NY)\",\"USA\"],[\"Appalachian Mts. (MD/PA/NY)\",\"USA\"],[\"Appalachian Mts. (MD/PA/NY)\",\"USA\"],[\"Appalachian Mts. (MD/PA/NY)\",\"USA\"],[\"Appalachian Mts. (MD/PA/NY)\",\"USA\"],[\"Appalachian Mts. (MD/PA/NY)\",\"USA\"],[\"Appalachian Mts. (MD/PA/NY)\",\"USA\"],[\"Appalachian Mts. (MD/PA/NY)\",\"USA\"],[\"Appalachian Mts. (MD/PA/NY)\",\"USA\"],[\"Appalachian Mts. (MD/PA/NY)\",\"USA\"],[\"Appalachian Mts. (MD/PA/NY)\",\"USA\"],[\"Appalachian Mts. (MD/PA/NY)\",\"USA\"],[\"Himalaya\",\"Nepal\"],[\"Appalachian Mts. (MD/PA/NY)\",\"USA\"],[\"Appalachian Mts. (MD/PA/NY)\",\"USA\"],[\"Appalachian Mts. (MD/PA/NY)\",\"USA\"],[\"Appalachian Mts. (MD/PA/NY)\",\"USA\"],[\"Appalachian Mts. (MD/PA/NY)\",\"USA\"],[\"Himalaya\",\"Nepal\"],[\"Appalachian Mts. (MD/PA/NY)\",\"USA\"],[\"Appalachian Mts. (MD/PA/NY)\",\"USA\"],[\"Appalachian Mts. (MD/PA/NY)\",\"USA\"],[\"Appalachian Mts. (MD/PA/NY)\",\"USA\"],[\"Appalachian Mts. (MD/PA/NY)\",\"USA\"],[\"Appalachian Mts. (MD/PA/NY)\",\"USA\"],[\"Appalachian Mts. (MD/PA/NY)\",\"USA\"],[\"Appalachian Mts. (MD/PA/NY)\",\"USA\"],[\"Appalachian Mts. (MD/PA/NY)\",\"USA\"],[\"Appalachian Mts. (MD/PA/NY)\",\"USA\"],[\"Appalachian Mts. (MD/PA/NY)\",\"USA\"],[\"Appalachian Mts. (MD/PA/NY)\",\"USA\"],[\"Appalachian Mts. (MD/PA/NY)\",\"USA\"],[\"Appalachian Mts. (MD/PA/NY)\",\"USA\"],[\"Appalachian Mts. (MD/PA/NY)\",\"USA\"],[\"Appalachian Mts. (MD/PA/NY)\",\"USA\"],[\"Appalachian Mts. (MD/PA/NY)\",\"USA\"],[\"Appalachian Mts. (MD/PA/NY)\",\"USA\"],[\"Appalachian Mts. (MD/PA/NY)\",\"USA\"],[\"Appalachian Mts. (MD/PA/NY)\",\"USA\"],[\"Appalachian Mts. (MD/PA/NY)\",\"USA\"],[\"Himalaya\",\"Nepal\"],[\"Himalaya\",\"Nepal\"],[\"Himalaya\",\"Nepal\"],[\"Himalaya\",\"Nepal\"],[\"Himalaya\",\"Nepal\"],[\"Himalaya\",\"Nepal\"],[\"Himalaya\",\"Nepal\"],[\"Himalaya\",\"Nepal\"],[\"Himalaya\",\"Nepal\"],[\"Himalaya\",\"Nepal\"],[\"Himalaya\",\"Nepal\"],[\"Himalaya\",\"Nepal\"],[\"Chilean Andes\",\"Chile\"],[\"Himalaya\",\"Nepal\"],[\"Chilean Andes\",\"Chile\"],[\"Chilean Andes\",\"Chile\"],[\"Chilean Andes\",\"Chile\"],[\"Himalaya\",\"Nepal\"],[\"Chilean Andes\",\"Chile\"],[\"Chilean Andes\",\"Chile\"],[\"Chilean Andes\",\"Chile\"],[\"Himalaya\",\"Nepal\"],[\"Chilean Andes\",\"Chile\"],[\"Chilean Andes\",\"Chile\"],[\"Chilean Andes\",\"Chile\"],[\"Himalaya\",\"Nepal\"],[\"Chilean Andes\",\"Chile\"],[\"Chilean Andes\",\"Chile\"],[\"Chilean Andes\",\"Chile\"],[\"Himalaya\",\"Nepal\"],[\"Chilean Andes\",\"Chile\"],[\"Himalaya\",\"Nepal\"],[\"Himalaya\",\"Nepal\"],[\"Himalaya\",\"Nepal\"],[\"Himalaya\",\"Nepal\"],[\"Chilean Andes\",\"Chile\"],[\"Chilean Andes\",\"Chile\"],[\"Chilean Andes\",\"Chile\"],[\"Himalaya\",\"Nepal\"],[\"Himalaya\",\"Nepal\"],[\"Himalaya\",\"Nepal\"],[\"Himalaya\",\"Nepal\"],[\"Himalaya\",\"Nepal\"],[\"Himalaya\",\"Nepal\"],[\"Himalaya\",\"Nepal\"],[\"Himalaya\",\"Nepal\"],[\"Himalaya\",\"Nepal\"],[\"Chilean Andes\",\"Chile\"],[\"Chilean Andes\",\"Chile\"],[\"Chilean Andes\",\"Chile\"],[\"Western Central Andes\",\"Peru\"],[\"Western Central Andes\",\"Peru\"],[\"Western Central Andes\",\"Peru\"],[\"Western Central Andes\",\"Peru\"],[\"Western Central Andes\",\"Peru\"],[\"Western Central Andes\",\"Peru\"],[\"Western Central Andes\",\"Peru\"],[\"Western Central Andes\",\"Peru\"],[\"Western Central Andes\",\"Peru\"],[\"Western Central Andes\",\"Peru\"],[\"Western Central Andes\",\"Peru\"],[\"Western Central Andes\",\"Peru\"],[\"Western Central Andes\",\"Peru\"],[\"Western Central Andes\",\"Peru\"],[\"Southern Central Andes\",\"Argentina\"],[\"Southern Central Andes\",\"Argentina\"],[\"Southern Central Andes\",\"Argentina\"],[\"Southern Central Andes\",\"Argentina\"],[\"Southern Central Andes\",\"Argentina\"],[\"Southern Central Andes\",\"Argentina\"],[\"Southern Central Andes\",\"Argentina\"],[\"Southern Central Andes\",\"Argentina\"],[\"Southern Central Andes\",\"Argentina\"],[\"Southern Central Andes\",\"Argentina\"],[\"Southern Central Andes\",\"Argentina\"],[\"Southern Central Andes\",\"Argentina\"],[\"Southern Central Andes\",\"Argentina\"],[\"Southern Central Andes\",\"Argentina\"],[\"Southern Central Andes\",\"Argentina\"],[\"Southern Central Andes\",\"Argentina\"],[\"Southern Central Andes\",\"Argentina\"],[\"Southern Central Andes\",\"Argentina\"],[\"Southern Central Andes\",\"Argentina\"],[\"Southern Central Andes\",\"Argentina\"],[\"Southern Central Andes\",\"Argentina\"],[\"Southern Central Andes\",\"Argentina\"],[\"Southern Central Andes\",\"Argentina\"],[\"Southern Central Andes\",\"Argentina\"],[\"Southern Central Andes\",\"Argentina\"],[\"Southern Central Andes\",\"Argentina\"],[\"Southern Central Andes\",\"Argentina\"],[\"Southern Central Andes\",\"Argentina\"],[\"Southern Central Andes\",\"Argentina\"],[\"East Tibet\",\"China\"],[\"East Tibet\",\"China\"],[\"Southern Central Andes\",\"Argentina\"],[\"Southern Central Andes\",\"Argentina\"],[\"Southern Central Andes\",\"Argentina\"],[\"Southern Central Andes\",\"Argentina\"],[\"Kunlun and Central Tibet\",\"China\"],[\"Southern Central Andes\",\"Argentina\"],[\"Southern Central Andes\",\"Argentina\"],[\"Southern Central Andes\",\"Argentina\"],[\"East Tibet\",\"China\"],[\"Southern Central Andes\",\"Argentina\"],[\"East Tibet\",\"China\"],[\"Southern Central Andes\",\"Argentina\"],[\"Southern Central Andes\",\"Argentina\"],[\"Kunlun and Central Tibet\",\"China\"],[\"Southern Central Andes\",\"Argentina\"],[\"Southern Central Andes\",\"Argentina\"],[\"East Tibet\",\"China\"],[\"Central Idaho Mts. (ID)\",\"USA\"],[\"East Tibet\",\"China\"],[\"Central Idaho Mts. (ID)\",\"USA\"],[\"Kunlun and Central Tibet\",\"China\"],[\"East Tibet\",\"China\"],[\"Kunlun and Central Tibet\",\"China\"],[\"East Tibet\",\"China\"],[\"Central Idaho Mts. (ID)\",\"USA\"],[\"East Tibet\",\"China\"],[\"East Tibet\",\"China\"],[\"East Tibet\",\"China\"],[\"Central Idaho Mts. (ID)\",\"USA\"],[\"East Tibet\",\"China\"],[\"Central Idaho Mts. (ID)\",\"USA\"],[\"East Tibet\",\"China\"],[\"Central Idaho Mts. (ID)\",\"USA\"],[\"East Tibet\",\"China\"],[\"East Tibet\",\"China\"],[\"East Tibet\",\"China\"],[\"Central Idaho Mts. (ID)\",\"USA\"],[\"Central Idaho Mts. (ID)\",\"USA\"],[\"Central Idaho Mts. (ID)\",\"USA\"],[\"East Tibet\",\"China\"],[\"Central Idaho Mts. (ID)\",\"USA\"],[\"East Tibet\",\"China\"],[\"Central Idaho Mts. (ID)\",\"USA\"],[\"East Tibet\",\"China\"],[\"Central Idaho Mts. (ID)\",\"USA\"],[\"East Tibet\",\"China\"],[\"Central Idaho Mts. (ID)\",\"USA\"],[\"Kunlun and Central Tibet\",\"China\"],[\"East Tibet\",\"China\"],[\"Central Idaho Mts. (ID)\",\"USA\"],[\"Great Escarpment and Namib\",\"NAM\"],[\"East Tibet\",\"China\"],[\"East Tibet\",\"China\"],[\"East Tibet\",\"China\"],[\"Central Idaho Mts. (ID)\",\"USA\"],[\"Great Escarpment and Namib\",\"NAM\"],[\"East Tibet\",\"China\"],[\"Central Idaho Mts. (ID)\",\"USA\"],[\"Central Idaho Mts. (ID)\",\"USA\"],[\"East Tibet\",\"China\"],[\"East Tibet\",\"China\"],[\"East Tibet\",\"China\"],[\"East Tibet\",\"China\"],[\"Great Escarpment and Namib\",\"NAM\"],[\"East Tibet\",\"China\"],[\"East Tibet\",\"China\"],[\"East Tibet\",\"China\"],[\"East Tibet\",\"China\"],[\"East Tibet\",\"China\"],[\"East Tibet\",\"China\"],[\"East Tibet\",\"China\"],[\"East Tibet\",\"China\"],[\"East Tibet\",\"China\"],[\"East Tibet\",\"China\"],[\"East Tibet\",\"China\"],[\"East Tibet\",\"China\"],[\"East Tibet\",\"China\"],[\"East Tibet\",\"China\"],[\"East Tibet\",\"China\"],[\"East Tibet\",\"China\"],[\"East Tibet\",\"China\"],[\"East Tibet\",\"China\"],[\"East Tibet\",\"China\"],[\"East Tibet\",\"China\"],[\"East Tibet\",\"China\"],[\"East Tibet\",\"China\"],[\"East Tibet\",\"China\"],[\"East Tibet\",\"China\"],[\"East Tibet\",\"China\"],[\"East Tibet\",\"China\"],[\"East Tibet\",\"China\"],[\"East Tibet\",\"China\"],[\"East Tibet\",\"China\"],[\"East Tibet\",\"China\"],[\"Central Idaho Mts. (ID)\",\"USA\"],[\"East Tibet\",\"China\"],[\"East Tibet\",\"China\"],[\"Central Idaho Mts. (ID)\",\"USA\"],[\"East Tibet\",\"China\"],[\"East Tibet\",\"China\"],[\"East Tibet\",\"China\"],[\"East Tibet\",\"China\"],[\"East Tibet\",\"China\"],[\"East Tibet\",\"China\"],[\"Central Idaho Mts. (ID)\",\"USA\"],[\"Central Idaho Mts. (ID)\",\"USA\"],[\"Kunlun and Central Tibet\",\"China\"],[\"Central Idaho Mts. (ID)\",\"USA\"],[\"Central Idaho Mts. (ID)\",\"USA\"],[\"Central Idaho Mts. (ID)\",\"USA\"],[\"Central Idaho Mts. (ID)\",\"USA\"],[\"Central Idaho Mts. (ID)\",\"USA\"],[\"Kunlun and Central Tibet\",\"China\"],[\"Central Idaho Mts. (ID)\",\"USA\"],[\"Central Idaho Mts. (ID)\",\"USA\"],[\"Central Idaho Mts. (ID)\",\"USA\"],[\"Central Idaho Mts. (ID)\",\"USA\"],[\"Central Idaho Mts. (ID)\",\"USA\"],[\"Central Idaho Mts. (ID)\",\"USA\"],[\"Kunlun and Central Tibet\",\"China\"],[\"Kunlun and Central Tibet\",\"China\"],[\"Kunlun and Central Tibet\",\"China\"],[\"Kunlun and Central Tibet\",\"China\"],[\"Kunlun and Central Tibet\",\"China\"],[\"Kunlun and Central Tibet\",\"China\"],[\"Kunlun and Central Tibet\",\"China\"],[\"Kunlun and Central Tibet\",\"China\"],[\"Kunlun and Central Tibet\",\"China\"],[\"Great Escarpment and Namib\",\"NAM\"],[\"Great Escarpment and Namib\",\"NAM\"],[\"Great Escarpment and Namib\",\"NAM\"],[\"Great Escarpment and Namib\",\"NAM\"],[\"Great Escarpment and Namib\",\"NAM\"],[\"Great Escarpment and Namib\",\"NAM\"],[\"Great Escarpment and Namib\",\"NAM\"],[\"Great Escarpment and Namib\",\"NAM\"],[\"Great Escarpment and Namib\",\"NAM\"],[\"Great Escarpment and Namib\",\"NAM\"],[\"Great Escarpment and Namib\",\"NAM\"],[\"Great Escarpment and Namib\",\"NAM\"],[\"Santa Catarina\",\"Brazil\"],[\"Great Escarpment and Namib\",\"NAM\"],[\"Great Escarpment and Namib\",\"NAM\"],[\"Great Escarpment and Namib\",\"NAM\"],[\"Great Escarpment and Namib\",\"NAM\"],[\"Great Escarpment and Namib\",\"NAM\"],[\"Great Escarpment and Namib\",\"NAM\"],[\"Great Escarpment and Namib\",\"NAM\"],[\"Great Escarpment and Namib\",\"NAM\"],[\"Great Escarpment and Namib\",\"NAM\"],[\"Great Escarpment and Namib\",\"NAM\"],[\"Great Escarpment and Namib\",\"NAM\"],[\"Great Escarpment and Namib\",\"NAM\"],[\"Great Escarpment and Namib\",\"NAM\"],[\"Great Escarpment and Namib\",\"NAM\"],[\"Great Escarpment and Namib\",\"NAM\"],[\"Washington Cascades (WA)\",\"USA\"],[\"Great Escarpment and Namib\",\"NAM\"],[\"Great Escarpment and Namib\",\"NAM\"],[\"Great Escarpment and Namib\",\"NAM\"],[\"Great Escarpment and Namib\",\"NAM\"],[\"Great Escarpment and Namib\",\"NAM\"],[\"Great Escarpment and Namib\",\"NAM\"],[\"Great Escarpment and Namib\",\"NAM\"],[\"Great Escarpment and Namib\",\"NAM\"],[\"Great Escarpment and Namib\",\"NAM\"],[\"Santa Catarina\",\"Brazil\"],[\"Rio de Janeiro\",\"Brazil\"],[\"Rio de Janeiro\",\"Brazil\"],[\"Santa Catarina\",\"Brazil\"],[\"Santa Catarina\",\"Brazil\"],[\"Rio de Janeiro\",\"Brazil\"],[\"Rio de Janeiro\",\"Brazil\"],[\"Great Escarpment\",\"NAM\"],[\"Rio de Janeiro\",\"Brazil\"],[\"Rio de Janeiro\",\"Brazil\"],[\"Rio de Janeiro\",\"Brazil\"],[\"Rio de Janeiro\",\"Brazil\"],[\"Santa Catarina\",\"Brazil\"],[\"Great Escarpment\",\"NAM\"],[\"Santa Catarina\",\"Brazil\"],[\"Santa Catarina\",\"Brazil\"],[\"Rio de Janeiro\",\"Brazil\"],[\"Rio de Janeiro\",\"Brazil\"],[\"Patagonia\",\"ARG/CHL\"],[\"Great Escarpment\",\"NAM\"],[\"Patagonia\",\"ARG/CHL\"],[\"Patagonia\",\"ARG/CHL\"],[\"Patagonia\",\"ARG/CHL\"],[\"Patagonia\",\"ARG/CHL\"],[\"Patagonia\",\"ARG/CHL\"],[\"Patagonia\",\"ARG/CHL\"],[\"Patagonia\",\"ARG/CHL\"],[\"Great Escarpment\",\"NAM\"],[\"Great Escarpment\",\"NAM\"],[\"Great Escarpment\",\"NAM\"],[\"Great Escarpment\",\"NAM\"],[\"Eastern Andean Cordillera\",\"Colombia\"],[\"Eastern Andean Cordillera\",\"Colombia\"],[\"Eastern Andean Cordillera\",\"Colombia\"],[\"Eastern Andean Cordillera\",\"Colombia\"],[\"Eastern Andean Cordillera\",\"Colombia\"],[\"Eastern Andean Cordillera\",\"Colombia\"],[\"Eastern Andean Cordillera\",\"Colombia\"],[\"Eastern Andean Cordillera\",\"Colombia\"],[\"Eastern Andean Cordillera\",\"Colombia\"],[\"Eastern Andean Cordillera\",\"Colombia\"],[\"Eastern Andean Cordillera\",\"Colombia\"],[\"Eastern Andean Cordillera\",\"Colombia\"],[\"Nepalese Himalaya\",\"Nepal\"],[\"Nepalese Himalaya\",\"Nepal\"],[\"Nepalese Himalaya\",\"Nepal\"],[\"Nepalese Himalaya\",\"Nepal\"],[\"Nepalese Himalaya\",\"Nepal\"],[\"Eastern Andean Cordillera\",\"Colombia\"],[\"Eastern Andean Cordillera\",\"Colombia\"],[\"Eastern Cape\",\"South Africa\"],[\"Eastern Cape\",\"South Africa\"],[\"Eastern Andean Cordillera\",\"Colombia\"],[\"Eastern Cape\",\"South Africa\"],[\"Eastern Cape\",\"South Africa\"],[\"Nepalese Himalaya\",\"Nepal\"],[\"Eastern Andean Cordillera\",\"Colombia\"],[\"Nepalese Himalaya\",\"Nepal\"],[\"Nepalese Himalaya\",\"Nepal\"],[\"Nepalese Himalaya\",\"Nepal\"],[\"Nepalese Himalaya\",\"Nepal\"],[\"Eastern Andean Cordillera\",\"Colombia\"],[\"Nepalese Himalaya\",\"Nepal\"],[\"Nepalese Himalaya\",\"Nepal\"],[\"Nepalese Himalaya\",\"Nepal\"],[\"Eastern Andean Cordillera\",\"Colombia\"],[\"Longmen Shan\",\"China\"],[\"Longmen Shan\",\"China\"],[\"Longmen Shan\",\"China\"],[\"Eastern Andean Cordillera\",\"Colombia\"],[\"Longmen Shan\",\"China\"],[\"Longmen Shan\",\"China\"],[\"Longmen Shan\",\"China\"],[\"Longmen Shan\",\"China\"],[\"Central\",\"Panama\"],[\"Eastern Andean Cordillera\",\"Colombia\"],[\"Longmen Shan\",\"China\"],[\"Longmen Shan\",\"China\"],[\"Eastern Andean Cordillera\",\"Colombia\"],[\"Upper Ganges\",\"India\"],[\"Upper Ganges\",\"India\"],[\"Upper Ganges\",\"India\"],[\"Upper Ganges\",\"India\"],[\"Upper Ganges\",\"China\"],[\"Eastern Andean Cordillera\",\"Colombia\"],[\"Eastern Cape\",\"South Africa\"],[\"Eastern Andean Cordillera\",\"Colombia\"],[\"Western Central Andes\",\"Peru\"],[\"Western Central Andes\",\"Peru\"],[\"Eastern Cape\",\"South Africa\"],[\"Eastern Cape\",\"South Africa\"],[\"Eastern Cape\",\"South Africa\"],[\"Nepalese Himalaya\",\"Nepal\"],[\"Nepalese Himalaya\",\"Nepal\"],[\"Nepalese Himalaya\",\"Nepal\"],[\"Nepalese Himalaya\",\"Nepal\"],[\"Nepalese Himalaya\",\"Nepal\"],[\"Eastern Altiplano\",\"Bolivia\"],[\"Nepalese Himalaya\",\"Nepal\"],[\"Eastern Altiplano\",\"Bolivia\"],[\"Eastern Altiplano\",\"Bolivia\"],[\"Eastern Altiplano\",\"Bolivia\"],[\"Eastern Altiplano\",\"Bolivia\"],[\"Eastern Altiplano\",\"Bolivia\"],[\"Nepalese Himalaya\",\"Nepal\"],[\"Eastern Altiplano\",\"Bolivia\"],[\"Eastern Altiplano\",\"Bolivia\"],[\"Central Eastern Alps\",\"Italy\"],[\"Nepalese Himalaya\",\"Nepal\"],[\"Eastern Altiplano\",\"Bolivia\"],[\"Northwest\",\"Panama\"],[\"Central\",\"Panama\"],[\"Nepalese Himalaya\",\"Nepal\"],[\"Qilian Shan\",\"China\"],[\"Qilian Shan\",\"China\"],[\"Qilian Shan\",\"China\"],[\"Qilian Shan\",\"China\"],[\"Qilian Shan\",\"China\"],[\"Qilian Shan\",\"China\"],[\"Nepalese Himalaya\",\"Nepal\"],[\"Qilian Shan\",\"China\"],[\"Qilian Shan\",\"China\"],[\"Central Eastern Alps\",\"Italy\"],[\"Nepalese Himalaya\",\"Nepal\"],[\"Nepalese Himalaya\",\"Nepal\"],[\"Longmen Shan\",\"China\"],[\"Longmen Shan\",\"China\"],[\"Longmen Shan\",\"China\"],[\"Longmen Shan\",\"China\"],[\"Longmen Shan\",\"China\"],[\"Upper Ganges\",\"India\"],[\"Eastern Altiplano\",\"Bolivia\"],[\"Eastern Altiplano\",\"Bolivia\"],[\"Eastern Altiplano\",\"Bolivia\"],[\"Central\",\"Panama\"],[\"Eastern Altiplano\",\"Bolivia\"],[\"Bolivian Andes\",\"Bolivia\"],[\"Eastern Altiplano\",\"Bolivia\"],[\"Rocky Mts.\",\"USA\"],[\"Washington Cascades (WA)\",\"USA\"],[\"Eastern Altiplano\",\"Bolivia\"],[\"Bolivian Andes\",\"Bolivia\"],[\"Eastern Altiplano\",\"Bolivia\"],[\"Central Eastern Alps\",\"Austria\"],[\"Eastern Altiplano\",\"Bolivia\"],[\"Bolivian Andes\",\"Bolivia\"],[\"Eastern Altiplano\",\"Bolivia\"],[\"Longshou Shan\",\"China\"],[\"Eastern Altiplano\",\"Bolivia\"],[\"Eastern Altiplano\",\"Bolivia\"],[\"Qilian Shan\",\"China\"],[\"Heli Shan\",\"China\"],[\"New Mexico (NM)\",\"USA\"],[\"Qilian Shan\",\"China\"],[\"Heli Shan\",\"China\"],[\"Rocky Mts.\",\"USA\"],[\"Qilian Shan\",\"China\"],[\"Central Eastern Alps\",\"Italy\"],[\"Central Eastern Alps\",\"Italy\"],[\"Qilian Shan\",\"China\"],[\"Central Eastern Alps\",\"Austria\"],[\"Qilian Shan\",\"China\"],[\"Qilian Shan\",\"China\"],[\"Central Eastern Alps\",\"Italy\"],[\"Central Eastern Alps\",\"Italy\"],[\"Central Eastern Alps\",\"Italy\"],[\"Washington Cascades (WA)\",\"USA\"],[\"Central Eastern Alps\",\"Austria\"],[\"Rocky Mts.\",\"USA\"],[\"Central Eastern Alps\",\"Austria\"],[\"Central Eastern Alps\",\"Italy\"],[\"Central Eastern Alps\",\"Austria\"],[\"Central Eastern Alps\",\"Italy\"],[\"Central Eastern Alps\",\"Austria\"],[\"Central Eastern Alps\",\"Austria\"],[\"Central Eastern Alps\",\"Italy\"],[\"Central Eastern Alps\",\"Austria\"],[\"Central Eastern Alps\",\"Italy\"],[\"Central Eastern Alps\",\"Italy\"],[\"Central Eastern Alps\",\"Austria\"],[\"Central Eastern Alps\",\"Italy\"],[\"Central Eastern Alps\",\"Italy\"],[\"Central Eastern Alps\",\"Austria\"],[\"Central Eastern Alps\",\"Austria\"],[\"Central Eastern Alps\",\"Italy\"],[\"Central Eastern Alps\",\"Austria\"],[\"Central Eastern Alps\",\"Austria\"],[\"Central Eastern Alps\",\"Austria\"],[\"Central Eastern Alps\",\"Austria\"],[\"Rocky Mts.\",\"USA\"],[\"Central Eastern Alps\",\"Italy\"],[\"Central Eastern Alps\",\"Italy\"],[\"Rocky Mts.\",\"USA\"],[\"New Mexico (NM)\",\"USA\"],[\"Central Eastern Alps\",\"Italy\"],[\"Central Eastern Alps\",\"Italy\"],[\"Central Eastern Alps\",\"Italy\"],[\"Central Eastern Alps\",\"Italy\"],[\"Central Eastern Alps\",\"Italy\"],[\"Northern Qilian Mts.\",\"China\"],[\"Northern Qilian Mts.\",\"China\"],[\"Northern Qilian Mts.\",\"China\"],[\"Northern Qilian Mts.\",\"China\"],[\"Eastern\",\"Panama\"],[\"Northern Qilian Mts.\",\"China\"],[\"Southwest\",\"Panama\"],[\"Northern Qilian Mts.\",\"China\"],[\"Northern Qilian Mts.\",\"China\"],[\"Northern Qilian Mts.\",\"China\"],[\"Northern Qilian Mts.\",\"China\"],[\"Central\",\"Panama\"],[\"Rocky Mts.\",\"USA\"],[\"Central-East\",\"Panama\"],[\"New Mexico (NM)\",\"USA\"],[\"Central\",\"Panama\"],[\"Northwest\",\"Panama\"],[\"Eastern\",\"Panama\"],[\"Central\",\"Panama\"],[\"Central-East\",\"Panama\"],[\"Eastern\",\"Panama\"],[\"Eastern\",\"Panama\"],[\"Rocky Mts.\",\"USA\"],[\"Central\",\"Panama\"],[\"Eastern\",\"Panama\"],[\"Central-East\",\"Panama\"],[\"Eastern\",\"Panama\"],[\"Eastern\",\"Panama\"],[\"Northwest\",\"Panama\"],[\"Eastern\",\"Panama\"],[\"Northwest\",\"Panama\"],[\"New Mexico (NM)\",\"USA\"],[\"Eastern\",\"Panama\"],[\"Eastern\",\"Panama\"],[\"Eastern\",\"Panama\"],[\"Eastern\",\"Panama\"],[\"New Mexico (NM)\",\"USA\"],[\"Central-East\",\"Panama\"],[\"Northwest\",\"Panama\"],[\"New Mexico (NM)\",\"USA\"],[\"Central-East\",\"Panama\"],[\"Southwest\",\"Panama\"],[\"Rocky Mts.\",\"USA\"],[\"Eastern\",\"Panama\"],[\"Eastern\",\"Panama\"],[\"Southwest\",\"Panama\"],[\"Eastern\",\"Panama\"],[\"Central-East\",\"Panama\"],[\"Eastern\",\"Panama\"],[\"Central-East\",\"Panama\"],[\"Eastern\",\"Panama\"],[\"Eastern\",\"Panama\"],[\"Central-East\",\"Panama\"],[\"Rocky Mts.\",\"USA\"],[\"Rocky Mts.\",\"USA\"],[\"Rocky Mts.\",\"USA\"],[\"Rocky Mts.\",\"USA\"],[\"Rocky Mts.\",\"USA\"],[\"Rocky Mts.\",\"USA\"],[\"Rocky Mts.\",\"USA\"],[\"Rocky Mts.\",\"USA\"],[\"Rocky Mts.\",\"USA\"],[\"Rocky Mts.\",\"USA\"],[\"Rocky Mts.\",\"USA\"],[\"Rocky Mts.\",\"USA\"],[\"Rocky Mts.\",\"USA\"],[\"Rocky Mts.\",\"USA\"],[\"New Mexico (NM)\",\"USA\"],[\"Rocky Mts.\",\"USA\"],[\"Rocky Mts.\",\"USA\"],[\"Rocky Mts.\",\"USA\"],[\"Rocky Mts.\",\"USA\"],[\"Rocky Mts.\",\"USA\"],[\"Rocky Mts.\",\"USA\"],[\"Rocky Mts.\",\"USA\"],[\"Rocky Mts.\",\"USA\"],[\"Rocky Mts.\",\"USA\"],[\"Rocky Mts.\",\"USA\"],[\"Rocky Mts.\",\"USA\"],[\"Rocky Mts.\",\"USA\"],[\"Rocky Mts.\",\"USA\"],[\"Rocky Mts.\",\"USA\"],[\"New Mexico (NM)\",\"USA\"],[\"Rocky Mts.\",\"USA\"],[\"Rocky Mts.\",\"USA\"],[\"Rocky Mts.\",\"USA\"],[\"Rocky Mts.\",\"USA\"],[\"Rocky Mts.\",\"USA\"],[\"Rocky Mts.\",\"USA\"],[\"Rocky Mts.\",\"USA\"],[\"Rocky Mts.\",\"USA\"],[\"Rocky Mts.\",\"USA\"],[\"Rocky Mts.\",\"USA\"],[\"New Mexico (NM)\",\"USA\"],[\"Rocky Mts.\",\"USA\"],[\"Rocky Mts.\",\"USA\"],[\"Rocky Mts.\",\"USA\"],[\"Rocky Mts.\",\"USA\"],[\"Rocky Mts.\",\"USA\"],[\"New Mexico (NM)\",\"USA\"],[\"Rocky Mts.\",\"USA\"],[\"Rocky Mts.\",\"USA\"],[\"Rocky Mts.\",\"USA\"],[\"New Mexico (NM)\",\"USA\"],[\"Rocky Mts.\",\"USA\"],[\"Rocky Mts.\",\"USA\"],[\"Rocky Mts.\",\"USA\"],[\"Rocky Mts.\",\"USA\"],[\"Rocky Mts.\",\"USA\"],[\"Rocky Mts.\",\"USA\"],[\"Rocky Mts.\",\"USA\"],[\"Kenya Rift\",\"Kenya\"],[\"Kenya Rift\",\"Kenya\"],[\"Kenya Rift\",\"Kenya\"],[\"Kenya Rift\",\"Kenya\"],[\"Kenya Rift\",\"Kenya\"],[\"Kenya Rift\",\"Kenya\"],[\"Kenya Rift\",\"Kenya\"],[\"New Mexico (NM)\",\"USA\"],[\"Kenya Rift\",\"Kenya\"],[\"Kenya Rift\",\"Kenya\"],[\"Kenya Rift\",\"Kenya\"],[\"Kenya Rift\",\"Kenya\"],[\"Kenya Rift\",\"Kenya\"],[\"Kenya Rift\",\"Kenya\"],[\"Kenya Rift\",\"Kenya\"],[\"Kenya Rift\",\"Kenya\"],[\"Kenya Rift\",\"Kenya\"],[\"Kenya Rift\",\"Kenya\"],[\"Bolivian Andes\",\"Bolivia\"],[\"Bolivian Andes\",\"Bolivia\"],[\"Kenya Rift\",\"Kenya\"],[\"Kenya Rift\",\"Kenya\"],[\"Kenya Rift\",\"Kenya\"],[\"Bolivian Andes\",\"Bolivia\"],[\"Bolivian Andes\",\"Bolivia\"],[\"Bolivian Andes\",\"Bolivia\"],[\"Bolivian Andes\",\"Bolivia\"],[\"Bolivian Andes\",\"Bolivia\"],[\"Bolivian Andes\",\"Bolivia\"],[\"Bolivian Andes\",\"Bolivia\"],[\"Bolivian Andes\",\"Bolivia\"],[\"Bolivian Andes\",\"Bolivia\"],[\"Bolivian Andes\",\"Bolivia\"],[\"Bolivian Andes\",\"Bolivia\"],[\"New Mexico (NM)\",\"USA\"],[\"New Mexico (NM)\",\"USA\"],[\"Bolivian Andes\",\"Bolivia\"],[\"Bolivian Andes\",\"Bolivia\"],[\"New Mexico (NM)\",\"USA\"],[\"Bolivian Andes\",\"Bolivia\"],[\"Bolivian Andes\",\"Bolivia\"],[\"Bolivian Andes\",\"Bolivia\"],[\"Bolivian Andes\",\"Bolivia\"],[\"New Mexico (NM)\",\"USA\"],[\"New Mexico (NM)\",\"USA\"],[\"New Mexico (NM)\",\"USA\"],[\"New Mexico (NM)\",\"USA\"],[\"New Mexico (NM)\",\"USA\"],[\"New Mexico (NM)\",\"USA\"],[\"New Mexico (NM)\",\"USA\"],[\"New Mexico (NM)\",\"USA\"],[\"New Mexico (NM)\",\"USA\"],[\"New Mexico (NM)\",\"USA\"],[\"New Mexico (NM)\",\"USA\"],[\"New Mexico (NM)\",\"USA\"],[\"New Mexico (NM)\",\"USA\"],[\"New Mexico (NM)\",\"USA\"],[\"New Mexico (NM)\",\"USA\"],[\"New Mexico (NM)\",\"USA\"],[\"New Mexico (NM)\",\"USA\"],[\"New Mexico (NM)\",\"USA\"],[\"New Mexico (NM)\",\"USA\"],[\"New Mexico (NM)\",\"USA\"],[\"New Mexico (NM)\",\"USA\"],[\"New Mexico (NM)\",\"USA\"],[\"Eastern Tibet\",\"China\"],[\"Eastern Tibet\",\"China\"],[\"Eastern Tibet\",\"China\"],[\"Eastern Tibet\",\"China\"],[\"Eastern Tibet\",\"China\"],[\"Eastern Tibet\",\"China\"],[\"Eastern Tibet\",\"China\"],[\"Eastern Tibet\",\"China\"],[\"Swiss Alps\",\"Switzerland\"],[\"Eastern Tibet\",\"China\"],[\"Eastern Tibet\",\"China\"],[\"Eastern Tibet\",\"China\"],[\"Eastern Tibet\",\"China\"],[\"Eastern Tibet\",\"China\"],[\"Eastern Tibet\",\"China\"],[\"Eastern Tibet\",\"China\"],[\"Eastern Tibet\",\"China\"],[\"Eastern Tibet\",\"China\"],[\"Eastern Tibet\",\"China\"],[\"Eastern Tibet\",\"China\"],[\"Eastern Tibet\",\"China\"],[\"Swiss Alps\",\"Switzerland\"],[\"Eastern Tibet\",\"China\"],[\"Eastern Tibet\",\"China\"],[\"Eastern Tibet\",\"China\"],[\"Eastern Tibet\",\"China\"],[\"Eastern Tibet\",\"China\"],[\"Eastern Tibet\",\"China\"],[\"Eastern Tibet\",\"China\"],[\"Eastern Tibet\",\"China\"],[\"Eastern Tibet\",\"China\"],[\"Eastern Tibet\",\"China\"],[\"Eastern Tibet\",\"China\"],[\"Eastern Tibet\",\"China\"],[\"Himalaya\",\"India\"],[\"Swiss Alps\",\"Switzerland\"],[\"Eastern Tibet\",\"China\"],[\"Himalaya\",\"India\"],[\"Peruvian Andes\",\"Peru\"],[\"Himalaya\",\"India\"],[\"Himalaya\",\"India\"],[\"Himalaya\",\"India\"],[\"Himalaya\",\"India\"],[\"Himalaya\",\"India\"],[\"Peruvian Andes\",\"Peru\"],[\"Himalaya\",\"India\"],[\"Himalaya\",\"India\"],[\"Himalaya\",\"India\"],[\"Himalaya\",\"India\"],[\"Himalaya\",\"India\"],[\"Himalaya\",\"India\"],[\"Himalaya\",\"India\"],[\"Peruvian Andes\",\"Peru\"],[\"Peruvian Andes\",\"Peru\"],[\"Peruvian Andes\",\"Peru\"],[\"Himalaya\",\"India\"],[\"Himalaya\",\"India\"],[\"Himalaya\",\"India\"],[\"Peruvian Andes\",\"Peru\"],[\"Peruvian Andes\",\"Peru\"],[\"Peruvian Andes\",\"Peru\"],[\"Peruvian Andes\",\"Peru\"],[\"Himalaya\",\"India\"],[\"Peruvian Andes\",\"Peru\"],[\"Swiss Alps\",\"Switzerland\"],[\"Himalaya\",\"India\"],[\"Swiss Alps\",\"Switzerland\"],[\"Himalaya\",\"India\"],[\"Himalaya\",\"India\"],[\"Himalaya\",\"India\"],[\"Swiss Alps\",\"Switzerland\"],[\"Himalaya\",\"India\"],[\"Peruvian Andes\",\"Peru\"],[\"Himalaya\",\"India\"],[\"Peruvian Andes\",\"Peru\"],[\"Swiss Alps\",\"Switzerland\"],[\"Himalaya\",\"India\"],[\"Peruvian Andes\",\"Peru\"],[\"Peruvian Andes\",\"Peru\"],[\"Himalaya\",\"India\"],[\"Himalaya\",\"India\"],[\"Peruvian Andes\",\"Peru\"],[\"Himalaya\",\"India\"],[\"Peruvian Andes\",\"Peru\"],[\"Himalaya\",\"India\"],[\"Bhutanese Himalaya\",\"Bhutan\"],[\"Himalaya\",\"India\"],[\"Peruvian Andes\",\"Peru\"],[\"Bhutanese Himalaya\",\"Bhutan\"],[\"Himalaya\",\"India\"],[\"Himalaya\",\"India\"],[\"Peruvian Andes\",\"Peru\"],[\"Bhutanese Himalaya\",\"Bhutan\"],[\"Himalaya\",\"India\"],[\"Peruvian Andes\",\"Peru\"],[\"Peruvian Andes\",\"Peru\"],[\"Bhutanese Himalaya\",\"Bhutan\"],[\"Bhutanese Himalaya\",\"Bhutan\"],[\"Peruvian Andes\",\"Peru\"],[\"Peruvian Andes\",\"Peru\"],[\"Bhutanese Himalaya\",\"Bhutan\"],[\"Bhutanese Himalaya\",\"Bhutan\"],[\"Peruvian Andes\",\"Peru\"],[\"Peruvian Andes\",\"Peru\"],[\"Peruvian Andes\",\"Peru\"],[\"Peruvian Andes\",\"Peru\"],[\"Bhutanese Himalaya\",\"Bhutan\"],[\"Bhutanese Himalaya\",\"Bhutan\"],[\"Bhutanese Himalaya\",\"Bhutan\"],[\"Bhutanese Himalaya\",\"Bhutan\"],[\"Bhutanese Himalaya\",\"Bhutan\"],[\"Bhutanese Himalaya\",\"Bhutan\"],[\"Bhutanese Himalaya\",\"Bhutan\"],[\"Bhutanese Himalaya\",\"Bhutan\"],[\"Atacama Desert\",\"Chile\"],[\"Bhutanese Himalaya\",\"Bhutan\"],[\"Bhutanese Himalaya\",\"Bhutan\"],[\"Bhutanese Himalaya\",\"Bhutan\"],[\"Bhutanese Himalaya\",\"Bhutan\"],[\"Bhutanese Himalaya\",\"Bhutan\"],[\"Bhutanese Himalaya\",\"Bhutan\"],[\"Bhutanese Himalaya\",\"Bhutan\"],[\"Bhutanese Himalaya\",\"Bhutan\"],[\"Bhutanese Himalaya\",\"Bhutan\"],[\"Bhutanese Himalaya\",\"Bhutan\"],[\"Bhutanese Himalaya\",\"Bhutan\"],[\"Bhutanese Himalaya\",\"Bhutan\"],[\"Bhutanese Himalaya\",\"Bhutan\"],[\"Bhutanese Himalaya\",\"Bhutan\"],[\"Bhutanese Himalaya\",\"Bhutan\"],[\"Bhutanese Himalaya\",\"Bhutan\"],[\"Bhutanese Himalaya\",\"Bhutan\"],[\"Bhutanese Himalaya\",\"Bhutan\"],[\"Bhutanese Himalaya\",\"Bhutan\"],[\"Bhutanese Himalaya\",\"Bhutan\"],[\"Bhutanese Himalaya\",\"Bhutan\"],[\"Bhutanese Himalaya\",\"Bhutan\"],[\"Bhutanese Himalaya\",\"Bhutan\"],[\"Bhutanese Himalaya\",\"Bhutan\"],[\"Swiss Alps\",\"Switzerland\"],[\"Bhutanese Himalaya\",\"Bhutan\"],[\"Bhutanese Himalaya\",\"Bhutan\"],[\"Bhutanese Himalaya\",\"Bhutan\"],[\"Bhutanese Himalaya\",\"Bhutan\"],[\"Bhutanese Himalaya\",\"Bhutan\"],[\"Bhutanese Himalaya\",\"Bhutan\"],[\"Swiss Alps\",\"Switzerland\"],[\"Swiss Alps\",\"Switzerland\"],[\"Bhutanese Himalaya\",\"Bhutan\"],[\"Bhutanese Himalaya\",\"Bhutan\"],[\"Bhutanese Himalaya\",\"Bhutan\"],[\"Bhutanese Himalaya\",\"Bhutan\"],[\"Bhutanese Himalaya\",\"Bhutan\"],[\"Bhutanese Himalaya\",\"Bhutan\"],[\"Bhutanese Himalaya\",\"Bhutan\"],[\"Bhutanese Himalaya\",\"Bhutan\"],[\"Swiss Alps\",\"Switzerland\"],[\"Swiss Alps\",\"Switzerland\"],[\"Bhutanese Himalaya\",\"Bhutan\"],[\"Swiss Alps\",\"Switzerland\"],[\"Swiss Alps\",\"Switzerland\"],[\"Swiss Alps\",\"Switzerland\"],[\"Swiss Alps\",\"Switzerland\"],[\"Swiss Alps\",\"Switzerland\"],[\"Swiss Alps\",\"Switzerland\"],[\"Swiss Alps\",\"Switzerland\"],[\"Swiss Alps\",\"Switzerland\"],[\"Swiss Alps\",\"Switzerland\"],[\"Swiss Alps\",\"Switzerland\"],[\"Swiss Alps\",\"Switzerland\"],[\"Swiss Alps\",\"Switzerland\"],[\"Swiss Alps\",\"Switzerland\"],[\"Atacama Desert\",\"Chile\"],[\"Atacama Desert\",\"Chile\"],[\"Swiss Alps\",\"Switzerland\"],[\"Bhutanese Himalaya\",\"Bhutan\"],[\"Swiss Alps\",\"Switzerland\"],[\"Hsueshan Range\",\"Taiwan\"],[\"Hsueshan Range\",\"Taiwan\"],[\"Swiss Alps\",\"Switzerland\"],[\"Swiss Alps\",\"Switzerland\"],[\"Swiss Alps\",\"Switzerland\"],[\"Swiss Alps\",\"Switzerland\"],[\"Swiss Alps\",\"Switzerland\"],[\"Swiss Alps\",\"Switzerland\"],[\"Bhutanese Himalaya\",\"Bhutan\"],[\"Bhutanese Himalaya\",\"Bhutan\"],[\"Swiss Alps\",\"Switzerland\"],[\"Swiss Alps\",\"Switzerland\"],[\"Bhutanese Himalaya\",\"Bhutan\"],[\"Bhutanese Himalaya\",\"Bhutan\"],[\"Bhutanese Himalaya\",\"Bhutan\"],[\"Swiss Alps\",\"Switzerland\"],[\"Swiss Alps\",\"Switzerland\"],[\"Swiss Alps\",\"Switzerland\"],[\"Bhutanese Himalaya\",\"Bhutan\"],[\"Bhutanese Himalaya\",\"Bhutan\"],[\"Hsueshan Range\",\"Taiwan\"],[\"Bhutanese Himalaya\",\"Bhutan\"],[\"Hsueshan Range\",\"Taiwan\"],[\"Bhutanese Himalaya\",\"Bhutan\"],[\"Bhutanese Himalaya\",\"Bhutan\"],[\"Bhutanese Himalaya\",\"Bhutan\"],[\"Bhutanese Himalaya\",\"Bhutan\"],[\"Central Range\",\"Taiwan\"],[\"Bhutanese Himalaya\",\"Bhutan\"],[\"Bhutanese Himalaya\",\"Bhutan\"],[\"Central Range\",\"Taiwan\"],[\"Bhutanese Himalaya\",\"Bhutan\"],[\"Bhutanese Himalaya\",\"Bhutan\"],[\"Bhutanese Himalaya\",\"Bhutan\"],[\"Bhutanese Himalaya\",\"Bhutan\"],[\"Central Range\",\"Taiwan\"],[\"Bhutanese Himalaya\",\"Bhutan\"],[\"Bhutanese Himalaya\",\"Bhutan\"],[\"Bhutanese Himalaya\",\"Bhutan\"],[\"Bhutanese Himalaya\",\"Bhutan\"],[\"Bhutanese Himalaya\",\"Bhutan\"],[\"Bhutanese Himalaya\",\"Bhutan\"],[\"Bhutanese Himalaya\",\"Bhutan\"],[\"Bhutanese Himalaya\",\"Bhutan\"],[\"Bhutanese Himalaya\",\"Bhutan\"],[\"Bhutanese Himalaya\",\"Bhutan\"],[\"Bhutanese Himalaya\",\"Bhutan\"],[\"Bhutanese Himalaya\",\"Bhutan\"],[\"Bhutanese Himalaya\",\"Bhutan\"],[\"Semi-arid Andes\",\"Chile\"],[\"Semi-arid Andes\",\"Chile\"],[\"Bhutanese Himalaya\",\"Bhutan\"],[\"Bhutanese Himalaya\",\"Bhutan\"],[\"Bhutanese Himalaya\",\"Bhutan\"],[\"Bhutanese Himalaya\",\"Bhutan\"],[\"Bhutanese Himalaya\",\"Bhutan\"],[\"Bhutanese Himalaya\",\"Bhutan\"],[\"Bhutanese Himalaya\",\"Bhutan\"],[\"Bhutanese Himalaya\",\"Bhutan\"],[\"Eastern Alps\",\"Austria\"],[\"Eastern Alps\",\"Austria\"],[\"Eastern Alps\",\"Austria\"],[\"Eastern Alps\",\"Austria\"],[\"Semi-arid Andes\",\"Chile\"],[\"Eastern Alps\",\"Austria\"],[\"Semi-arid Andes\",\"Chile\"],[\"Washington Cascades (WA)\",\"USA\"],[\"Eastern Alps\",\"Austria\"],[\"Eastern Alps\",\"Austria\"],[\"Eastern Alps\",\"Austria\"],[\"Eastern Alps\",\"Austria\"],[\"Eastern Alps\",\"Austria\"],[\"Central Chile\",\"Chile\"],[\"Central Chile\",\"Chile\"],[\"Eastern Alps\",\"Austria\"],[\"Eastern Alps\",\"Austria\"],[\"Emilia Apennines\",\"Italy\"],[\"Washington Cascades (WA)\",\"USA\"],[\"Eastern Alps\",\"Austria\"],[\"Eastern Alps\",\"Austria\"],[\"Emilia Apennines\",\"Italy\"],[\"Washington Cascades (WA)\",\"USA\"],[\"Eastern Alps\",\"Austria\"],[\"Eastern Alps\",\"Austria\"],[\"Washington Cascades (WA)\",\"USA\"],[\"Washington Cascades (WA)\",\"USA\"],[\"Eastern Alps\",\"Austria\"],[\"Eastern Alps\",\"Austria\"],[\"Romagna Appenines\",\"Italy\"],[\"Eastern Alps\",\"Austria\"],[\"Central Range\",\"Taiwan\"],[\"Eastern Alps\",\"Austria\"],[\"Eastern Alps\",\"Austria\"],[\"Sichuan\",\"China\"],[\"Eastern Alps\",\"Austria\"],[\"Eastern Alps\",\"Slovenia\"],[\"Sila Massif\",\"Italy\"],[\"Eastern Alps\",\"Austria\"],[\"Eastern Alps\",\"Austria\"],[\"Sichuan\",\"China\"],[\"Eastern Alps\",\"Slovenia\"],[\"Eastern Alps\",\"Slovenia\"],[\"Atacama Desert\",\"Chile\"],[\"Eastern Alps\",\"Slovenia\"],[\"Eastern Alps\",\"Slovenia\"],[\"Atacama Desert\",\"Chile\"],[\"Atacama Desert\",\"Chile\"],[\"Sila Massif\",\"Italy\"],[\"Atacama Desert\",\"Chile\"],[\"Atacama Desert\",\"Chile\"],[\"Hsueshan Range\",\"Taiwan\"],[\"Hsueshan Range\",\"Taiwan\"],[\"Hsueshan Range\",\"Taiwan\"],[\"Central Range\",\"Taiwan\"],[\"Hsueshan Range\",\"Taiwan\"],[\"Central Range\",\"Taiwan\"],[\"Sichuan\",\"China\"],[\"Central Range\",\"Taiwan\"],[\"Sichuan\",\"China\"],[\"Central Range\",\"Taiwan\"],[\"Marsyandi Basin\",\"Nepal\"],[\"Central Range\",\"Taiwan\"],[\"Sila Massif\",\"Italy\"],[\"Hsueshan Range\",\"Taiwan\"],[\"Marsyandi Basin\",\"Nepal\"],[\"Hsueshan Range\",\"Taiwan\"],[\"Marsyandi Basin\",\"Nepal\"],[\"Central Range\",\"Taiwan\"],[\"Sila Massif\",\"Italy\"],[\"Central Range\",\"Taiwan\"],[\"Sila Massif\",\"Italy\"],[\"Hsueshan Range\",\"Taiwan\"],[\"Sikkim Himalaya\",\"India\"],[\"Sikkim Himalaya\",\"India\"],[\"Hsueshan Range\",\"Taiwan\"],[\"Himalaya\",\"Nepal\"],[\"Central Range\",\"Taiwan\"],[\"Sikkim Himalaya\",\"India\"],[\"Sikkim Himalaya\",\"India\"],[\"Central Range\",\"Taiwan\"],[\"Himalaya\",\"Nepal\"],[\"Central Range\",\"Taiwan\"],[\"Central Range\",\"Taiwan\"],[\"Central Range\",\"Taiwan\"],[\"Hsueshan Range\",\"Taiwan\"],[\"Central Range\",\"Taiwan\"],[\"Central Range\",\"Taiwan\"],[\"Hsueshan Range\",\"Taiwan\"],[\"Hsueshan Range\",\"Taiwan\"],[\"Sikkim Himalaya\",\"India\"],[\"Central Range\",\"Taiwan\"],[\"Hsueshan Range\",\"Taiwan\"],[\"Himalaya\",\"Nepal\"],[\"Himalaya\",\"Nepal\"],[\"Himalaya\",\"Nepal\"],[\"Himalaya\",\"Nepal\"],[\"Himalaya\",\"Nepal\"],[\"Himalaya\",\"Nepal\"],[\"Rwenzori Mts.\",\"Uganda\"],[\"Himalaya\",\"Nepal\"],[\"Himalaya\",\"Nepal\"],[\"Rwenzori Mts.\",\"Uganda\"],[\"Marsyandi Basin\",\"Nepal\"],[\"Himalaya\",\"Nepal\"],[\"Himalaya\",\"Nepal\"],[\"Yunnan\",\"China\"],[\"Himalaya\",\"Nepal\"],[\"Himalaya\",\"Nepal\"],[\"Himalaya\",\"Nepal\"],[\"Yunnan\",\"China\"],[\"Yunnan\",\"China\"],[\"Yunnan\",\"China\"],[\"Himalaya\",\"Nepal\"],[\"Himalaya\",\"Nepal\"],[\"Himalaya\",\"Nepal\"],[\"Yunnan\",\"China\"],[\"Himalaya\",\"Nepal\"],[\"Himalaya\",\"Nepal\"],[\"Himalaya\",\"Nepal\"],[\"Marsyandi Basin\",\"Nepal\"],[\"Himalaya\",\"Nepal\"],[\"Himalaya\",\"Nepal\"],[\"Semi-arid Andes\",\"Chile\"],[\"Himalaya\",\"Nepal\"],[\"Himalaya\",\"Nepal\"],[\"Semi-arid Andes\",\"Chile\"],[\"Semi-arid Andes\",\"Chile\"],[\"Semi-arid Andes\",\"Chile\"],[\"Emilia Apennines\",\"Italy\"],[\"Marsyandi Basin\",\"Nepal\"],[\"Emilia Apennines\",\"Italy\"],[\"Romagna Appenines\",\"Italy\"],[\"Sila Massif\",\"Italy\"],[\"Peloritani-Aspromonte\",\"Italy\"],[\"Romagna Appenines\",\"Italy\"],[\"Marsyandi Basin\",\"Nepal\"],[\"Romagna Appenines\",\"Italy\"],[\"Peloritani-Aspromonte\",\"Italy\"],[\"Emilia Apennines\",\"Italy\"],[\"Sila Massif\",\"Italy\"],[\"Romagna Appenines\",\"Italy\"],[\"Sila Massif\",\"Italy\"],[\"Romagna Appenines\",\"Italy\"],[\"Sila Massif\",\"Italy\"],[\"Sila Massif\",\"Italy\"],[\"Sila Massif\",\"Italy\"],[\"Sila Massif\",\"Italy\"],[\"Peloritani-Aspromonte\",\"Italy\"],[\"Peloritani-Aspromonte\",\"Italy\"],[\"Romagna Appenines\",\"Italy\"],[\"Sila Massif\",\"Italy\"],[\"Sila Massif\",\"Italy\"],[\"Sila Massif\",\"Italy\"],[\"Sila Massif\",\"Italy\"],[\"Marsyandi Basin\",\"Nepal\"],[\"Emilia Apennines\",\"Italy\"],[\"Sila Massif\",\"Italy\"],[\"Sila Massif\",\"Italy\"],[\"Sila Massif\",\"Italy\"],[\"Peloritani-Aspromonte\",\"Italy\"],[\"Peloritani-Aspromonte\",\"Italy\"],[\"Marsyandi Basin\",\"Nepal\"],[\"Emilia Apennines\",\"Italy\"],[\"Romagna Appenines\",\"Italy\"],[\"Sila Massif\",\"Italy\"],[\"Sila Massif\",\"Italy\"],[\"Sikkim Himalaya\",\"India\"],[\"Sikkim Himalaya\",\"India\"],[\"Sikkim Himalaya\",\"India\"],[\"Sikkim Himalaya\",\"India\"],[\"Sikkim Himalaya\",\"India\"],[\"Rwenzori Mts.\",\"Uganda\"],[\"Rwenzori Mts.\",\"Uganda\"],[\"Rwenzori Mts.\",\"Uganda\"],[\"Rwenzori Mts.\",\"Uganda\"],[\"Rwenzori Mts.\",\"Uganda\"],[\"Rwenzori Mts.\",\"Uganda\"],[\"Rwenzori Mts.\",\"Uganda\"],[\"Marsyandi Basin\",\"Nepal\"],[\"Marsyandi Basin\",\"Nepal\"],[\"Rwenzori Mts.\",\"Uganda\"],[\"Marsyandi Basin\",\"Nepal\"],[\"Rwenzori Mts.\",\"Uganda\"],[\"Marsyandi Basin\",\"Nepal\"],[\"Rwenzori Mts.\",\"Uganda\"],[\"Marsyandi Basin\",\"Nepal\"],[\"Abukuma Mts., Tohoku\",\"Japan\"],[\"Rwenzori Mts.\",\"Uganda\"],[\"Rwenzori Mts.\",\"Uganda\"],[\"Southern Espinhaco Range\",\"Brazil\"],[\"Abukuma Mts., Tohoku\",\"Japan\"],[\"Rwenzori Mts.\",\"Uganda\"],[\"Rwenzori Mts.\",\"Uganda\"],[\"Yunnan\",\"China\"],[\"Rwenzori Mts.\",\"Uganda\"],[\"Rwenzori Mts.\",\"Uganda\"],[\"Yunnan\",\"China\"],[\"Yunnan\",\"China\"],[\"Yunnan\",\"China\"],[\"Yunnan\",\"China\"],[\"Yunnan\",\"China\"],[\"Yunnan\",\"China\"],[\"Yunnan\",\"China\"],[\"Yunnan\",\"China\"],[\"Yunnan\",\"China\"],[\"Yunnan\",\"China\"],[\"Yunnan\",\"China\"],[\"Yunnan\",\"China\"],[\"Yunnan\",\"China\"],[\"Yunnan\",\"China\"],[\"Yunnan\",\"China\"],[\"Yunnan\",\"China\"],[\"Abukuma Mts., Tohoku\",\"Japan\"],[\"Yunnan\",\"China\"],[\"Yunnan\",\"China\"],[\"Yunnan\",\"China\"],[\"Yunnan\",\"China\"],[\"Yunnan\",\"China\"],[\"Yunnan\",\"China\"],[\"Yunnan\",\"China\"],[\"Yunnan\",\"China\"],[\"Yunnan\",\"China\"],[\"Yunnan\",\"China\"],[\"Yunnan\",\"China\"],[\"Yunnan\",\"China\"],[\"Yunnan\",\"China\"],[\"Yunnan\",\"China\"],[\"Yunnan\",\"China\"],[\"Yunnan\",\"China\"],[\"Yunnan\",\"China\"],[\"Yunnan\",\"China\"],[\"Yunnan\",\"China\"],[\"Chester Gap (VA)\",\"USA\"],[\"Yunnan\",\"China\"],[\"Yunnan\",\"China\"],[\"Yunnan\",\"China\"],[\"Yunnan\",\"China\"],[\"Anyemaquen Shan\",\"China\"],[\"Yunnan\",\"China\"],[\"Yunnan\",\"China\"],[\"Yunnan\",\"China\"],[\"Yunnan\",\"China\"],[\"Yunnan\",\"China\"],[\"Crimora (VA)\",\"USA\"],[\"Yunnan\",\"China\"],[\"Yunnan\",\"China\"],[\"Anyemaquen Shan\",\"China\"],[\"Anyemaquen Shan\",\"China\"],[\"Anyemaquen Shan\",\"China\"],[\"Rhenish Massif (NRW)\",\"Germany\"],[\"Anyemaquen Shan\",\"China\"],[\"Anyemaquen Shan\",\"China\"],[\"Anyemaquen Shan\",\"China\"],[\"Anyemaquen Shan\",\"China\"],[\"Anyemaquen Shan\",\"China\"],[\"Anyemaquen Shan\",\"China\"],[\"Anyemaquen Shan\",\"China\"],[\"Anyemaquen Shan\",\"China\"],[\"Anyemaquen Shan\",\"China\"],[\"Himalaya\",\"India\"],[\"Himalaya\",\"India\"],[\"Himalaya\",\"India\"],[\"Himalaya\",\"India\"],[\"Himalaya\",\"India\"],[\"Crimora (VA)\",\"USA\"],[\"Himalaya\",\"India\"],[\"Himalaya\",\"India\"],[\"Himalaya\",\"India\"],[\"Thornton Gap (VA)\",\"USA\"],[\"Himalaya\",\"India\"],[\"Himalaya\",\"India\"],[\"Garhwal Himalaya (UK)\",\"India\"],[\"Bentonville (VA)\",\"USA\"],[\"Himalaya\",\"India\"],[\"Himalaya\",\"India\"],[\"Washington (VA)\",\"USA\"],[\"Himalaya\",\"India\"],[\"Garhwal Himalaya (UK)\",\"India\"],[\"Garhwal Himalaya (UK)\",\"India\"],[\"Garhwal Himalaya (UK)\",\"India\"],[\"Garhwal Himalaya (UK)\",\"India\"],[\"Garhwal Himalaya (UK)\",\"India\"],[\"Garhwal Himalaya (UK)\",\"India\"],[\"Garhwal Himalaya (UK)\",\"India\"],[\"ND\",\"Madagascar\"],[\"Garhwal Himalaya (UK)\",\"India\"],[\"McGaheysville (VA)\",\"USA\"],[\"Garhwal Himalaya (UK)\",\"India\"],[\"Garhwal Himalaya (UK)\",\"India\"],[\"ND\",\"Madagascar\"],[\"Garhwal Himalaya (UK)\",\"India\"],[\"Garhwal Himalaya (UK)\",\"India\"],[\"Garhwal Himalaya (UK)\",\"India\"],[\"Garhwal Himalaya (UK)\",\"India\"],[\"Garhwal Himalaya (UK)\",\"India\"],[\"Garhwal Himalaya (UK)\",\"India\"],[\"Washington Cascades (WA)\",\"USA\"],[\"Washington Cascades (WA)\",\"USA\"],[\"Garhwal Himalaya (UK)\",\"India\"],[\"Garhwal Himalaya (UK)\",\"India\"],[\"Garhwal Himalaya (UK)\",\"India\"],[\"Garhwal Himalaya (UK)\",\"India\"],[\"Garhwal Himalaya (UK)\",\"India\"],[\"Garhwal Himalaya (UK)\",\"India\"],[\"Garhwal Himalaya (UK)\",\"India\"],[\"Garhwal Himalaya (UK)\",\"India\"],[\"Washington Cascades (WA)\",\"USA\"],[\"Sichuan\",\"China\"],[\"Washington Cascades (WA)\",\"USA\"],[\"Sichuan\",\"China\"],[\"ND\",\"Madagascar\"],[\"Washington Cascades (WA)\",\"USA\"],[\"Sichuan\",\"China\"],[\"Sichuan\",\"China\"],[\"Sichuan\",\"China\"],[\"Sichuan\",\"China\"],[\"Sichuan\",\"China\"],[\"Marsyandi Basin\",\"Nepal\"],[\"Marsyandi Basin\",\"Nepal\"],[\"Marsyandi Basin\",\"Nepal\"],[\"Marsyandi Basin\",\"Nepal\"],[\"Marsyandi Basin\",\"Nepal\"],[\"Marsyandi Basin\",\"Nepal\"],[\"Marsyandi Basin\",\"Nepal\"],[\"Marsyandi Basin\",\"Nepal\"],[\"Marsyandi Basin\",\"Nepal\"],[\"Marsyandi Basin\",\"Nepal\"],[\"Marsyandi Basin\",\"Nepal\"],[\"Marsyandi Basin\",\"Nepal\"],[\"Marsyandi Basin\",\"Nepal\"],[\"Southern Espinhaco Range\",\"Brazil\"],[\"Southern Espinhaco Range\",\"Brazil\"],[\"Southern Espinhaco Range\",\"Brazil\"],[\"Southern Espinhaco Range\",\"Brazil\"],[\"Western Alps\",\"FRA/ITA\"],[\"Southern Espinhaco Range\",\"Brazil\"],[\"Southern Espinhaco Range\",\"Brazil\"],[\"Southern Espinhaco Range\",\"Brazil\"],[\"Southern Espinhaco Range\",\"Brazil\"],[\"Luray (VA)\",\"USA\"],[\"Southern Espinhaco Range\",\"Brazil\"],[\"Western Alps\",\"FRA/ITA\"],[\"Southern Espinhaco Range\",\"Brazil\"],[\"Western Alps\",\"FRA/ITA\"],[\"Southern Espinhaco Range\",\"Brazil\"],[\"Stannardsville (VA)\",\"USA\"],[\"Southern Espinhaco Range\",\"Brazil\"],[\"McGaheysville (VA)\",\"USA\"],[\"Southern Espinhaco Range\",\"Brazil\"],[\"Southern Espinhaco Range\",\"Brazil\"],[\"Southern Espinhaco Range\",\"Brazil\"],[\"Southern Espinhaco Range\",\"Brazil\"],[\"Southern Espinhaco Range\",\"Brazil\"],[\"Southern Espinhaco Range\",\"Brazil\"],[\"Rhenish Massif (NRW)\",\"Germany\"],[\"Southern Espinhaco Range\",\"Brazil\"],[\"Cuenca basin\",\"Ecuador\"],[\"Southern Espinhaco Range\",\"Brazil\"],[\"Cuenca basin\",\"Ecuador\"],[\"Southern Espinhaco Range\",\"Brazil\"],[\"Southern Espinhaco Range\",\"Brazil\"],[\"Southern Espinhaco Range\",\"Brazil\"],[\"Southern Espinhaco Range\",\"Brazil\"],[\"Southern Espinhaco Range\",\"Brazil\"],[\"Southern Espinhaco Range\",\"Brazil\"],[\"Cuenca basin\",\"Ecuador\"],[\"McGaheysville (VA)\",\"USA\"],[\"Cuenca basin\",\"Ecuador\"],[\"Cuenca basin\",\"Ecuador\"],[\"Old Rag Mountain (VA)\",\"USA\"],[\"Cuenca basin\",\"Ecuador\"],[\"Cuenca basin\",\"Ecuador\"],[\"Cuenca basin\",\"Ecuador\"],[\"Cuenca basin\",\"Ecuador\"],[\"Cuenca basin\",\"Ecuador\"],[\"Cuenca basin\",\"Ecuador\"],[\"Cuenca basin\",\"Ecuador\"],[\"Cuenca basin\",\"Ecuador\"],[\"Sweetwater Range (MT)\",\"USA\"],[\"Cuenca basin\",\"Ecuador\"],[\"Cuenca basin\",\"Ecuador\"],[\"Cuenca basin\",\"Ecuador\"],[\"Cuenca basin\",\"Ecuador\"],[\"Cuenca basin\",\"Ecuador\"],[\"Cuenca basin\",\"Ecuador\"],[\"Cuenca basin\",\"Ecuador\"],[\"Waynesboro East (VA)\",\"USA\"],[\"Cuenca basin\",\"Ecuador\"],[\"Cuenca basin\",\"Ecuador\"],[\"Cuenca basin\",\"Ecuador\"],[\"Cuenca basin\",\"Ecuador\"],[\"Cuenca basin\",\"Ecuador\"],[\"Cuenca basin\",\"Ecuador\"],[\"Cuenca basin\",\"Ecuador\"],[\"Cuenca basin\",\"Ecuador\"],[\"Cuenca basin\",\"Ecuador\"],[\"Cuenca basin\",\"Ecuador\"],[\"Cuenca basin\",\"Ecuador\"],[\"Cuenca basin\",\"Ecuador\"],[\"Cuenca basin\",\"Ecuador\"],[\"Cuenca basin\",\"Ecuador\"],[\"Crimora (VA)\",\"USA\"],[\"Cuenca basin\",\"Ecuador\"],[\"Cuenca basin\",\"Ecuador\"],[\"Waynesboro East (VA)\",\"USA\"],[\"Cuenca basin\",\"Ecuador\"],[\"Cuenca basin\",\"Ecuador\"],[\"Cuenca basin\",\"Ecuador\"],[\"Stanley (VA)\",\"USA\"],[\"Crimora (VA)\",\"USA\"],[\"Old Rag Mountain (VA)\",\"USA\"],[\"Old Rag Mountain (VA)\",\"USA\"],[\"Rhenish Massif (NRW)\",\"Germany\"],[\"Old Rag Mountain (VA)\",\"USA\"],[\"Old Rag Mountain (VA)\",\"USA\"],[\"Santa Cruz (CA)\",\"USA\"],[\"Browns Cove (VA)\",\"USA\"],[\"Washington (VA)\",\"USA\"],[\"Crimora (VA)\",\"USA\"],[\"Chester Gap (VA)\",\"USA\"],[\"Big Meadows (VA)\",\"USA\"],[\"Thornton Gap (VA)\",\"USA\"],[\"Washington (VA)\",\"USA\"],[\"Grottoes (VA)\",\"USA\"],[\"Old Rag Mountain (VA)\",\"USA\"],[\"Old Rag Mountain (VA)\",\"USA\"],[\"Crimora (VA)\",\"USA\"],[\"Crimora (VA)\",\"USA\"],[\"Thornton Gap (VA)\",\"USA\"],[\"Washington (VA)\",\"USA\"],[\"Old Rag Mountain (VA)\",\"USA\"],[\"Fletcher (VA)\",\"USA\"],[\"Santa Cruz (CA)\",\"USA\"],[\"Front Royal (VA)\",\"USA\"],[\"Big Meadows (VA)\",\"USA\"],[\"McGaheysville (VA)\",\"USA\"],[\"McGaheysville (VA)\",\"USA\"],[\"McGaheysville (VA)\",\"USA\"],[\"McGaheysville (VA)\",\"USA\"],[\"McGaheysville (VA)\",\"USA\"],[\"Crimora (VA)\",\"USA\"],[\"Bentonville (VA)\",\"USA\"],[\"Crimora (VA)\",\"USA\"],[\"Old Rag Mountain (VA)\",\"USA\"],[\"Waynesboro East (VA)\",\"USA\"],[\"Luray (VA)\",\"USA\"],[\"Chester Gap (VA)\",\"USA\"],[\"Old Rag Mountain (VA)\",\"USA\"],[\"Big Meadows (VA)\",\"USA\"],[\"Browns Cove (VA)\",\"USA\"],[\"Thornton Gap (VA)\",\"USA\"],[\"Thornton Gap (VA)\",\"USA\"],[\"Thornton Gap (VA)\",\"USA\"],[\"Thornton Gap (VA)\",\"USA\"],[\"McGaheysville (VA)\",\"USA\"],[\"Thornton Gap (VA)\",\"USA\"],[\"Crimora (VA)\",\"USA\"],[\"Big Meadows (VA)\",\"USA\"],[\"Swift Run (VA)\",\"USA\"],[\"Swift Run (VA)\",\"USA\"],[\"Crimora (VA)\",\"USA\"],[\"ND\",\"Madagascar\"],[\"ND\",\"Madagascar\"],[\"ND\",\"Madagascar\"],[\"ND\",\"Madagascar\"],[\"Western Alps\",\"FRA/ITA\"],[\"Bhutanese Himalaya\",\"Bhutan\"],[\"Western Alps\",\"FRA/ITA\"],[\"Bhutanese Himalaya\",\"Bhutan\"],[\"Western Alps\",\"FRA/ITA\"],[\"Western Alps\",\"FRA/ITA\"],[\"Western Alps\",\"FRA/ITA\"],[\"Western Alps\",\"FRA/ITA\"],[\"Western Alps\",\"FRA/ITA\"],[\"Western Alps\",\"FRA/ITA\"],[\"Western Alps\",\"FRA/ITA\"],[\"Western Alps\",\"FRA/ITA\"],[\"Western Alps\",\"FRA/ITA\"],[\"Western central Andes\",\"Chile\"],[\"Western central Andes\",\"Chile\"],[\"Western central Andes\",\"Chile\"],[\"Western central Andes\",\"Chile\"],[\"Western central Andes\",\"Chile\"],[\"Western central Andes\",\"Chile\"],[\"Western central Andes\",\"Chile\"],[\"Western central Andes\",\"Chile\"],[\"Santa Cruz (CA)\",\"USA\"],[\"Bhutanese Himalaya\",\"Bhutan\"],[\"Bhutanese Himalaya\",\"Bhutan\"],[\"Bhutanese Himalaya\",\"Bhutan\"],[\"Bhutanese Himalaya\",\"Bhutan\"],[\"Bhutanese Himalaya\",\"Bhutan\"],[\"Bhutanese Himalaya\",\"Bhutan\"],[\"Bhutanese Himalaya\",\"Bhutan\"],[\"Bhutanese Himalaya\",\"Bhutan\"],[\"Bhutanese Himalaya\",\"Bhutan\"],[\"Bhutanese Himalaya\",\"Bhutan\"],[\"Bhutanese Himalaya\",\"Bhutan\"],[\"Bhutanese Himalaya\",\"Bhutan\"],[\"Bhutanese Himalaya\",\"Bhutan\"],[\"Bhutanese Himalaya\",\"Bhutan\"],[\"Bhutanese Himalaya\",\"Bhutan\"],[\"Serra do Mar\",\"Brazil\"],[\"Bhutanese Himalaya\",\"Bhutan\"],[\"Bhutanese Himalaya\",\"Bhutan\"],[\"Bhutanese Himalaya\",\"Bhutan\"],[\"Bhutanese Himalaya\",\"Bhutan\"],[\"Bhutanese Himalaya\",\"Bhutan\"],[\"Bhutanese Himalaya\",\"Bhutan\"],[\"Bhutanese Himalaya\",\"Bhutan\"],[\"Bhutanese Himalaya\",\"Bhutan\"],[\"Bhutanese Himalaya\",\"Bhutan\"],[\"Bhutanese Himalaya\",\"Bhutan\"],[\"West Coast, Soutern Island\",\"New Zealand\"],[\"Bhutanese Himalaya\",\"Bhutan\"],[\"Bhutanese Himalaya\",\"Bhutan\"],[\"Bhutanese Himalaya\",\"Bhutan\"],[\"Bhutanese Himalaya\",\"Bhutan\"],[\"Bhutanese Himalaya\",\"Bhutan\"],[\"West Coast, Soutern Island\",\"New Zealand\"],[\"West Coast, Soutern Island\",\"New Zealand\"],[\"West Coast, Soutern Island\",\"New Zealand\"],[\"Appalachians Mts.\",\"USA\"],[\"West Coast, Soutern Island\",\"New Zealand\"],[\"West Coast, Soutern Island\",\"New Zealand\"],[\"West Coast, Soutern Island\",\"New Zealand\"],[\"Southern Central Andes, Humahuaca Basin\",\"Argentina\"],[\"Cape Fold Belt\",\"South Africa\"],[\"Cape Fold Belt\",\"South Africa\"],[\"Cape Fold Belt\",\"South Africa\"],[\"Kruger Nat. Park\",\"South Africa\"],[\"Cape Fold Belt\",\"South Africa\"],[\"Cape Fold Belt\",\"South Africa\"],[\"Cape Fold Belt\",\"South Africa\"],[\"Cape Fold Belt\",\"South Africa\"],[\"Sri Lankan Highlands\",\"Sri Lanka\"],[\"Sri Lankan Highlands\",\"Sri Lanka\"],[\"Cape Fold Belt\",\"South Africa\"],[\"Cape Fold Belt\",\"South Africa\"],[\"Cape Fold Belt\",\"South Africa\"],[\"Sri Lankan Highlands\",\"Sri Lanka\"],[\"Sri Lankan Highlands\",\"Sri Lanka\"],[\"Sri Lankan Highlands\",\"Sri Lanka\"],[\"Serra do Mar\",\"Brazil\"],[\"Sri Lankan Highlands\",\"Sri Lanka\"],[\"Sri Lankan Highlands\",\"Sri Lanka\"],[\"Sri Lankan Highlands\",\"Sri Lanka\"],[\"Sri Lankan Highlands\",\"Sri Lanka\"],[\"Sri Lankan Highlands\",\"Sri Lanka\"],[\"Serra do Mar\",\"Brazil\"],[\"Sri Lankan Highlands\",\"Sri Lanka\"],[\"Sri Lankan Highlands\",\"Sri Lanka\"],[\"Sri Lankan Highlands\",\"Sri Lanka\"],[\"Appalachians Mts.\",\"USA\"],[\"Sri Lankan Highlands\",\"Sri Lanka\"],[\"Sri Lankan Highlands\",\"Sri Lanka\"],[\"Sri Lankan Highlands\",\"Sri Lanka\"],[\"Sri Lankan Highlands\",\"Sri Lanka\"],[\"Sri Lankan Highlands\",\"Sri Lanka\"],[\"Appalachians Mts.\",\"USA\"],[\"Southern Central Andes, Humahuaca Basin\",\"Argentina\"],[\"Southern Central Andes, Humahuaca Basin\",\"Argentina\"],[\"Appalachians Mts.\",\"USA\"],[\"Southern Central Andes, Humahuaca Basin\",\"Argentina\"],[\"Southern Central Andes, Humahuaca Basin\",\"Argentina\"],[\"Southern Central Andes, Humahuaca Basin\",\"Argentina\"],[\"Serra do Mar\",\"Brazil\"],[\"Southern Central Andes, Humahuaca Basin\",\"Argentina\"],[\"Southern Central Andes, Humahuaca Basin\",\"Argentina\"],[\"Black Forest (BW)\",\"Germany\"],[\"Southern Central Andes, Humahuaca Basin\",\"Argentina\"],[\"Southern Central Andes, Humahuaca Basin\",\"Argentina\"],[\"Southern Central Andes, Humahuaca Basin\",\"Argentina\"],[\"Southern Central Andes, Humahuaca Basin\",\"Argentina\"],[\"Appalachians Mts.\",\"USA\"],[\"Southern Central Andes, Humahuaca Basin\",\"Argentina\"],[\"Southern Central Andes, Humahuaca Basin\",\"Argentina\"],[\"Appalachians Mts.\",\"USA\"],[\"Southern Central Andes, Humahuaca Basin\",\"Argentina\"],[\"Southern Central Andes, Humahuaca Basin\",\"Argentina\"],[\"Southern Central Andes, Humahuaca Basin\",\"Argentina\"],[\"Appalachians Mts.\",\"USA\"],[\"Southern Central Andes, Humahuaca Basin\",\"Argentina\"],[\"Southern Central Andes, Humahuaca Basin\",\"Argentina\"],[\"Southern Central Andes, Humahuaca Basin\",\"Argentina\"],[\"Southern Central Andes, Humahuaca Basin\",\"Argentina\"],[\"Western French Alps\",\"France\"],[\"Western French Alps\",\"France\"],[\"Western French Alps\",\"France\"],[\"Western French Alps\",\"France\"],[\"Western French Alps\",\"France\"],[\"Western French Alps\",\"France\"],[\"Western French Alps\",\"France\"],[\"Western French Alps\",\"France\"],[\"Western French Alps\",\"France\"],[\"Indian Himalaya\",\"India\"],[\"Western French Alps\",\"France\"],[\"Indian Himalaya\",\"India\"],[\"Western French Alps\",\"France\"],[\"Western French Alps\",\"France\"],[\"Blue Ridge Escarpment (NC/VA)\",\"USA\"],[\"Indian Himalaya\",\"India\"],[\"Indian Himalaya\",\"India\"],[\"Indian Himalaya\",\"India\"],[\"Indian Himalaya\",\"India\"],[\"Indian Himalaya\",\"India\"],[\"Indian Himalaya\",\"India\"],[\"Indian Himalaya\",\"India\"],[\"Blue Ridge Escarpment (NC/VA)\",\"USA\"],[\"Indian Himalaya\",\"India\"],[\"Appalachians Mts.\",\"USA\"],[\"Indian Himalaya\",\"India\"],[\"Indian Himalaya\",\"India\"],[\"Indian Himalaya\",\"India\"],[\"Appalachians Mts.\",\"USA\"],[\"Appalachians Mts.\",\"USA\"],[\"Appalachians Mts.\",\"USA\"],[\"Appalachians Mts.\",\"USA\"],[\"Appalachians Mts.\",\"USA\"],[\"Appalachians Mts.\",\"USA\"],[\"Appalachians Mts.\",\"USA\"],[\"Appalachians Mts.\",\"USA\"],[\"Appalachians Mts.\",\"USA\"],[\"Appalachians Mts.\",\"USA\"],[\"Appalachians Mts.\",\"USA\"],[\"Blue Ridge Escarpment (NC/VA)\",\"USA\"],[\"Appalachians Mts.\",\"USA\"],[\"Appalachians Mts.\",\"USA\"],[\"Appalachians Mts.\",\"USA\"],[\"Appalachians Mts.\",\"USA\"],[\"Appalachians Mts.\",\"USA\"],[\"Appalachians Mts.\",\"USA\"],[\"Appalachians Mts.\",\"USA\"],[\"Appalachians Mts.\",\"USA\"],[\"Appalachians Mts.\",\"USA\"],[\"Appalachians Mts.\",\"USA\"],[\"Blue Ridge Escarpment (NC/VA)\",\"USA\"],[\"Appalachians Mts.\",\"USA\"],[\"Appalachians Mts.\",\"USA\"],[\"Appalachians Mts.\",\"USA\"],[\"Appalachians Mts.\",\"USA\"],[\"Blue Ridge Escarpment (NC/VA)\",\"USA\"],[\"Appalachians Mts.\",\"USA\"],[\"Appalachians Mts.\",\"USA\"],[\"Appalachians Mts.\",\"USA\"],[\"Appalachians Mts.\",\"USA\"],[\"Coast Ranges (CA)\",\"USA\"],[\"Appalachians Mts.\",\"USA\"],[\"Appalachians Mts.\",\"USA\"],[\"Appalachians Mts.\",\"USA\"],[\"Appalachians Mts.\",\"USA\"],[\"Appalachians Mts.\",\"USA\"],[\"Appalachians Mts.\",\"USA\"],[\"Appalachians Mts.\",\"USA\"],[\"Appalachians Mts.\",\"USA\"],[\"Appalachians Mts.\",\"USA\"],[\"Appalachians Mts.\",\"USA\"],[\"Appalachians Mts.\",\"USA\"],[\"Appalachians Mts.\",\"USA\"],[\"Appalachians Mts.\",\"USA\"],[\"Appalachians Mts.\",\"USA\"],[\"Appalachians Mts.\",\"USA\"],[\"Appalachians Mts.\",\"USA\"],[\"Blue Ridge Escarpment (NC/VA)\",\"USA\"],[\"Blue Ridge Escarpment (NC/VA)\",\"USA\"],[\"Blue Ridge Escarpment (NC/VA)\",\"USA\"],[\"Blue Ridge Escarpment (NC/VA)\",\"USA\"],[\"Blue Ridge Escarpment (NC/VA)\",\"USA\"],[\"Blue Ridge Escarpment (NC/VA)\",\"USA\"],[\"Blue Ridge Escarpment (NC/VA)\",\"USA\"],[\"Massif Central\",\"France\"],[\"Blue Ridge Escarpment (NC/VA)\",\"USA\"],[\"Kruger Nat. Park\",\"South Africa\"],[\"Blue Ridge Escarpment (NC/VA)\",\"USA\"],[\"Blue Ridge Escarpment (NC/VA)\",\"USA\"],[\"Zoulang Nan Shan\",\"China\"],[\"Blue Ridge Escarpment (NC/VA)\",\"USA\"],[\"Blue Ridge Escarpment (NC/VA)\",\"USA\"],[\"Blue Ridge Escarpment (NC/VA)\",\"USA\"],[\"Kruger Nat. Park\",\"South Africa\"],[\"Blue Ridge Escarpment (NC/VA)\",\"USA\"],[\"Blue Ridge Escarpment (NC/VA)\",\"USA\"],[\"Blue Ridge Escarpment (NC/VA)\",\"USA\"],[\"Blue Ridge Escarpment (NC/VA)\",\"USA\"],[\"Massif Central\",\"France\"],[\"Blue Ridge Escarpment (NC/VA)\",\"USA\"],[\"Blue Ridge Escarpment (NC/VA)\",\"USA\"],[\"Blue Ridge Escarpment (NC/VA)\",\"USA\"],[\"Blue Ridge Escarpment (NC/VA)\",\"USA\"],[\"Central Eastern Italian Alps\",\"Italy\"],[\"Blue Ridge Escarpment (NC/VA)\",\"USA\"],[\"Blue Ridge Escarpment (NC/VA)\",\"USA\"],[\"Great Smoky Mts. (NC/TN)\",\"USA\"],[\"Blue Ridge Escarpment (NC/VA)\",\"USA\"],[\"Blue Ridge Escarpment (NC/VA)\",\"USA\"],[\"Black Forest (BW)\",\"Germany\"],[\"Blue Ridge Escarpment (NC/VA)\",\"USA\"],[\"Blue Ridge Escarpment (NC/VA)\",\"USA\"],[\"Great Smoky Mts. (NC/TN)\",\"USA\"],[\"Blue Ridge Escarpment (NC/VA)\",\"USA\"],[\"Blue Ridge Escarpment (NC/VA)\",\"USA\"],[\"Kruger Nat. Park\",\"South Africa\"],[\"Blue Ridge Escarpment (NC/VA)\",\"USA\"],[\"Blue Ridge Escarpment (NC/VA)\",\"USA\"],[\"Blue Ridge Escarpment (NC/VA)\",\"USA\"],[\"Blue Ridge Escarpment (NC/VA)\",\"USA\"],[\"Blue Ridge Escarpment (NC/VA)\",\"USA\"],[\"Blue Ridge Escarpment (NC/VA)\",\"USA\"],[\"Blue Ridge Escarpment (NC/VA)\",\"USA\"],[\"Blue Ridge Escarpment (NC/VA)\",\"USA\"],[\"Blue Ridge Escarpment (NC/VA)\",\"USA\"],[\"Blue Ridge Escarpment (NC/VA)\",\"USA\"],[\"Kruger Nat. Park\",\"South Africa\"],[\"Blue Ridge Escarpment (NC/VA)\",\"USA\"],[\"Blue Ridge Escarpment (NC/VA)\",\"USA\"],[\"Blue Ridge Escarpment (NC/VA)\",\"USA\"],[\"Kruger Nat. Park\",\"South Africa\"],[\"Central Eastern Italian Alps\",\"Italy\"],[\"Kruger Nat. Park\",\"South Africa\"],[\"Kruger Nat. Park\",\"South Africa\"],[\"Kruger Nat. Park\",\"South Africa\"],[\"Kruger Nat. Park\",\"South Africa\"],[\"Great Smoky Mts. (NC/TN)\",\"USA\"],[\"Kruger Nat. Park\",\"South Africa\"],[\"Kruger Nat. Park\",\"South Africa\"],[\"Kruger Nat. Park\",\"South Africa\"],[\"Kruger Nat. Park\",\"South Africa\"],[\"Kruger Nat. Park\",\"South Africa\"],[\"Kruger Nat. Park\",\"South Africa\"],[\"Kruger Nat. Park\",\"South Africa\"],[\"Kruger Nat. Park\",\"South Africa\"],[\"Zoulang Nan Shan\",\"China\"],[\"Zoulang Nan Shan\",\"China\"],[\"Zoulang Nan Shan\",\"China\"],[\"Zoulang Nan Shan\",\"China\"],[\"Great Smoky Mts. (NC/TN)\",\"USA\"],[\"Zoulang Nan Shan\",\"China\"],[\"Zoulang Nan Shan\",\"China\"],[\"Zoulang Nan Shan\",\"China\"],[\"Zoulang Nan Shan\",\"China\"],[\"Zoulang Nan Shan\",\"China\"],[\"Nelson/Tasman, South Island\",\"New Zealand\"],[\"Great Smoky Mts. (NC/TN)\",\"USA\"],[\"Suguta Valley, Kenya Rift\",\"Kenya\"],[\"Nelson/Tasman, South Island\",\"New Zealand\"],[\"Great Smoky Mts. (NC/TN)\",\"USA\"],[\"Nelson/Tasman, South Island\",\"New Zealand\"],[\"Nelson/Tasman, South Island\",\"New Zealand\"],[\"Nelson/Tasman, South Island\",\"New Zealand\"],[\"Nelson/Tasman, South Island\",\"New Zealand\"],[\"Great Smoky Mts. (NC/TN)\",\"USA\"],[\"Nelson/Tasman, South Island\",\"New Zealand\"],[\"Great Smoky Mts. (NC/TN)\",\"USA\"],[\"Nelson/Tasman, South Island\",\"New Zealand\"],[\"Romagna Apennines\",\"Italy\"],[\"Romagna Apennines\",\"Italy\"],[\"Romagna Apennines\",\"Italy\"],[\"Romagna Apennines\",\"Italy\"],[\"Great Smoky Mts. (NC/TN)\",\"USA\"],[\"Peloritani Mts.\",\"Italy\"],[\"Great Smoky Mts. (NC/TN)\",\"USA\"],[\"Black Forest (BW)\",\"Germany\"],[\"Romagna Apennines\",\"Italy\"],[\"Great Smoky Mts. (NC/TN)\",\"USA\"],[\"Aspromonte Massif\",\"Italy\"],[\"Great Smoky Mts. (NC/TN)\",\"USA\"],[\"Kruger Nat. Park\",\"South Africa\"],[\"Romagna Apennines\",\"Italy\"],[\"Romagna Apennines\",\"Italy\"],[\"Aspromonte Massif\",\"Italy\"],[\"Aspromonte Massif\",\"Italy\"],[\"Peloritani Mts.\",\"Italy\"],[\"Great Smoky Mts. (NC/TN)\",\"USA\"],[\"Great Smoky Mts. (NC/TN)\",\"USA\"],[\"Great Smoky Mts. (NC/TN)\",\"USA\"],[\"Great Smoky Mts. (NC/TN)\",\"USA\"],[\"Great Smoky Mts. (NC/TN)\",\"USA\"],[\"Aspromonte Massif\",\"Italy\"],[\"Romagna Apennines\",\"Italy\"],[\"Great Smoky Mts. (NC/TN)\",\"USA\"],[\"Great Smoky Mts. (NC/TN)\",\"USA\"],[\"Great Smoky Mts. (NC/TN)\",\"USA\"],[\"Great Smoky Mts. (NC/TN)\",\"USA\"],[\"Great Smoky Mts. (NC/TN)\",\"USA\"],[\"Kruger Nat. Park\",\"South Africa\"],[\"Great Smoky Mts. (NC/TN)\",\"USA\"],[\"Great Smoky Mts. (NC/TN)\",\"USA\"],[\"Great Smoky Mts. (NC/TN)\",\"USA\"],[\"Great Smoky Mts. (NC/TN)\",\"USA\"],[\"Black Forest (BW)\",\"Germany\"],[\"Great Smoky Mts. (NC/TN)\",\"USA\"],[\"Great Smoky Mts. (NC/TN)\",\"USA\"],[\"Great Smoky Mts. (NC/TN)\",\"USA\"],[\"Great Smoky Mts. (NC/TN)\",\"USA\"],[\"Kruger Nat. Park\",\"South Africa\"],[\"Great Smoky Mts. (NC/TN)\",\"USA\"],[\"Great Smoky Mts. (NC/TN)\",\"USA\"],[\"Gauteng\",\"South Africa\"],[\"Great Smoky Mts. (NC/TN)\",\"USA\"],[\"Great Smoky Mts. (NC/TN)\",\"USA\"],[\"Great Smoky Mts. (NC/TN)\",\"USA\"],[\"Great Smoky Mts. (NC/TN)\",\"USA\"],[\"Great Smoky Mts. (NC/TN)\",\"USA\"],[\"Great Smoky Mts. (NC/TN)\",\"USA\"],[\"Great Smoky Mts. (NC/TN)\",\"USA\"],[\"Great Smoky Mts. (NC/TN)\",\"USA\"],[\"Great Smoky Mts. (NC/TN)\",\"USA\"],[\"Great Smoky Mts. (NC/TN)\",\"USA\"],[\"Great Smoky Mts. (NC/TN)\",\"USA\"],[\"Great Smoky Mts. (NC/TN)\",\"USA\"],[\"Great Smoky Mts. (NC/TN)\",\"USA\"],[\"Gauteng\",\"South Africa\"],[\"Great Smoky Mts. (NC/TN)\",\"USA\"],[\"Great Smoky Mts. (NC/TN)\",\"USA\"],[\"Great Smoky Mts. (NC/TN)\",\"USA\"],[\"Great Smoky Mts. (NC/TN)\",\"USA\"],[\"Great Smoky Mts. (NC/TN)\",\"USA\"],[\"Great Smoky Mts. (NC/TN)\",\"USA\"],[\"Great Smoky Mts. (NC/TN)\",\"USA\"],[\"Great Smoky Mts. (NC/TN)\",\"USA\"],[\"Central Eastern Italian Alps\",\"Italy\"],[\"Great Smoky Mts. (NC/TN)\",\"USA\"],[\"Great Smoky Mts. (NC/TN)\",\"USA\"],[\"Great Smoky Mts. (NC/TN)\",\"USA\"],[\"Great Smoky Mts. (NC/TN)\",\"USA\"],[\"Great Smoky Mts. (NC/TN)\",\"USA\"],[\"Serra do Mar\",\"Brazil\"],[\"Serra do Mar\",\"Brazil\"],[\"Serra do Mar\",\"Brazil\"],[\"Serra do Mar\",\"Brazil\"],[\"Serra do Mar\",\"Brazil\"],[\"Serra do Mar\",\"Brazil\"],[\"Serra do Mar\",\"Brazil\"],[\"Serra do Mar\",\"Brazil\"],[\"Serra do Mar\",\"Brazil\"],[\"Serra do Mar\",\"Brazil\"],[\"Serra do Mar\",\"Brazil\"],[\"Serra do Mar\",\"Brazil\"],[\"Serra do Mar\",\"Brazil\"],[\"Serra do Mar\",\"Brazil\"],[\"Central Eastern Italian Alps\",\"Italy\"],[\"Serra do Mar\",\"Brazil\"],[\"Serra do Mar\",\"Brazil\"],[\"Serra do Mar\",\"Brazil\"],[\"Serra do Mar\",\"Brazil\"],[\"Kruger Nat. Park\",\"South Africa\"],[\"Serra do Mar\",\"Brazil\"],[\"Serra do Mar\",\"Brazil\"],[\"Serra do Mar\",\"Brazil\"],[\"Serra do Mar\",\"Brazil\"],[\"Serra do Mar\",\"Brazil\"],[\"Serra do Mar\",\"Brazil\"],[\"Serra do Mar\",\"Brazil\"],[\"Serra do Mar\",\"Brazil\"],[\"Serra do Mar\",\"Brazil\"],[\"Serra do Mar\",\"Brazil\"],[\"Serra do Mar\",\"Brazil\"],[\"Serra do Mar\",\"Brazil\"],[\"Central Ladakh Range (JK)\",\"India\"],[\"Central Ladakh Range (JK)\",\"India\"],[\"Central Ladakh Range (JK)\",\"India\"],[\"Central Ladakh Range (JK)\",\"India\"],[\"Central Ladakh Range (JK)\",\"India\"],[\"Central Ladakh Range (JK)\",\"India\"],[\"Massif Central\",\"France\"],[\"Central Ladakh Range (JK)\",\"India\"],[\"Central Ladakh Range (JK)\",\"India\"],[\"Kruger Nat. Park\",\"South Africa\"],[\"Central Ladakh Range (JK)\",\"India\"],[\"Massif Central\",\"France\"],[\"Central Ladakh Range (JK)\",\"India\"],[\"Coast Ranges (CA)\",\"USA\"],[\"Central Ladakh Range (JK)\",\"India\"],[\"Coast Ranges (CA)\",\"USA\"],[\"Central Ladakh Range (JK)\",\"India\"],[\"Coast Ranges (CA)\",\"USA\"],[\"Betic Cordillera\",\"Spain\"],[\"Central Ladakh Range (JK)\",\"India\"],[\"Central Ladakh Range (JK)\",\"India\"],[\"Coast Ranges (CA)\",\"USA\"],[\"Coast Ranges (CA)\",\"USA\"],[\"Coast Ranges (CA)\",\"USA\"],[\"Coast Ranges (CA)\",\"USA\"],[\"Coast Ranges (CA)\",\"USA\"],[\"Coast Ranges (CA)\",\"USA\"],[\"Massif Central\",\"France\"],[\"Massif Central\",\"France\"],[\"Massif Central\",\"France\"],[\"Massif Central\",\"France\"],[\"Massif Central\",\"France\"],[\"Massif Central\",\"France\"],[\"Sweetwater Range (MT)\",\"USA\"],[\"Massif Central\",\"France\"],[\"Massif Central\",\"France\"],[\"Massif Central\",\"France\"],[\"Massif Central\",\"France\"],[\"Massif Central\",\"France\"],[\"Massif Central\",\"France\"],[\"Massif Central\",\"France\"],[\"Massif Central\",\"France\"],[\"Sweetwater Range (MT)\",\"USA\"],[\"Massif Central\",\"France\"],[\"Massif Central\",\"France\"],[\"Massif Central\",\"France\"],[\"Massif Central\",\"France\"],[\"Massif Central\",\"France\"],[\"Massif Central\",\"France\"],[\"Massif Central\",\"France\"],[\"Massif Central\",\"France\"],[\"Massif Central\",\"France\"],[\"Ambato Range, Sierras Pampeanas\",\"Argentina\"],[\"Ambato Range, Sierras Pampeanas\",\"Argentina\"],[\"Ambato Range, Sierras Pampeanas\",\"Argentina\"],[\"Kruger Nat. Park\",\"South Africa\"],[\"Ambato Range, Sierras Pampeanas\",\"Argentina\"],[\"Corsica\",\"France\"],[\"Corsica\",\"France\"],[\"Ambato Range, Sierras Pampeanas\",\"Argentina\"],[\"Ambato Range, Sierras Pampeanas\",\"Argentina\"],[\"Corsica\",\"France\"],[\"Corsica\",\"France\"],[\"Wassuk Range (NV)\",\"USA\"],[\"Corsica\",\"France\"],[\"Corsica\",\"France\"],[\"Corsica\",\"France\"],[\"Corsica\",\"France\"],[\"Corsica\",\"France\"],[\"Corsica\",\"France\"],[\"Corsica\",\"France\"],[\"Corsica\",\"France\"],[\"Corsica\",\"France\"],[\"Corsica\",\"France\"],[\"Kruger Nat. Park\",\"South Africa\"],[\"Kruger Nat. Park\",\"South Africa\"],[\"Corsica\",\"France\"],[\"Corsica\",\"France\"],[\"Kruger Nat. Park\",\"South Africa\"],[\"Kruger Nat. Park\",\"South Africa\"],[\"Kruger Nat. Park\",\"South Africa\"],[\"Kruger Nat. Park\",\"South Africa\"],[\"Kruger Nat. Park\",\"South Africa\"],[\"Baja California\",\"Mexico\"],[\"Baja California\",\"Mexico\"],[\"Baja California\",\"Mexico\"],[\"Baja California\",\"Mexico\"],[\"Baja California\",\"Mexico\"],[\"Baja California\",\"Mexico\"],[\"Baja California\",\"Mexico\"],[\"Baja California\",\"Mexico\"],[\"Baja California\",\"Mexico\"],[\"Baja California\",\"Mexico\"],[\"Baja California\",\"Mexico\"],[\"Baja California\",\"Mexico\"],[\"Baja California\",\"Mexico\"],[\"Baja California\",\"Mexico\"],[\"Baja California\",\"Mexico\"],[\"Wassuk Range (NV)\",\"USA\"],[\"Baja California\",\"Mexico\"],[\"Baja California\",\"Mexico\"],[\"Baja California\",\"Mexico\"],[\"Baja California\",\"Mexico\"],[\"Baja California\",\"Mexico\"],[\"Baja California\",\"Mexico\"],[\"Baja California\",\"Mexico\"],[\"Baja California\",\"Mexico\"],[\"Baja California\",\"Mexico\"],[\"Baja California\",\"Mexico\"],[\"Baja California\",\"Mexico\"],[\"Central Vietnam\",\"Vietnam\"],[\"Longshou Shan\",\"China\"],[\"Yumu Shan\",\"China\"],[\"Yumu Shan\",\"China\"],[\"Longshou Shan\",\"China\"],[\"Yumu Shan\",\"China\"],[\"Longshou Shan\",\"China\"],[\"Yumu Shan\",\"China\"],[\"Yumu Shan\",\"China\"],[\"Longshou Shan\",\"China\"],[\"Longshou Shan\",\"China\"],[\"Longshou Shan\",\"China\"],[\"Longshou Shan\",\"China\"],[\"Longshou Shan\",\"China\"],[\"Yumu Shan\",\"China\"],[\"Yumu Shan\",\"China\"],[\"Yumu Shan\",\"China\"],[\"Yumu Shan\",\"China\"],[\"Yumu Shan\",\"China\"],[\"Yumu Shan\",\"China\"],[\"Longshou Shan\",\"China\"],[\"Longshou Shan\",\"China\"],[\"Yumu Shan\",\"China\"],[\"Yumu Shan\",\"China\"],[\"Yumu Shan\",\"China\"],[\"Longshou Shan\",\"China\"],[\"Longshou Shan\",\"China\"],[\"Yumu Shan\",\"China\"],[\"Sri Lankan Highlands\",\"Sri Lanka\"],[\"Sri Lankan Highlands\",\"Sri Lanka\"],[\"Sri Lankan Highlands\",\"Sri Lanka\"],[\"Sri Lankan Highlands\",\"Sri Lanka\"],[\"Sri Lankan Highlands\",\"Sri Lanka\"],[\"Sweetwater Range (MT)\",\"USA\"],[\"Sri Lankan Highlands\",\"Sri Lanka\"],[\"Sri Lankan Highlands\",\"Sri Lanka\"],[\"Sri Lankan Highlands\",\"Sri Lanka\"],[\"Sri Lankan Highlands\",\"Sri Lanka\"],[\"Wassuk Range (NV)\",\"USA\"],[\"Sweetwater Range (MT)\",\"USA\"],[\"Wassuk Range (NV)\",\"USA\"],[\"Wassuk Range (NV)\",\"USA\"],[\"Sweetwater Range (MT)\",\"USA\"],[\"Wassuk Range (NV)\",\"USA\"],[\"Wassuk Range (NV)\",\"USA\"],[\"Wassuk Range (NV)\",\"USA\"],[\"Wassuk Range (NV)\",\"USA\"],[\"Wassuk Range (NV)\",\"USA\"],[\"Sweetwater Range (MT)\",\"USA\"],[\"Sweetwater Range (MT)\",\"USA\"],[\"Wassuk Range (NV)\",\"USA\"],[\"Wassuk Range (NV)\",\"USA\"],[\"Sweetwater Range (MT)\",\"USA\"],[\"Wassuk Range (NV)\",\"USA\"],[\"Wassuk Range (NV)\",\"USA\"],[\"Sweetwater Range (MT)\",\"USA\"],[\"Uttarakhand, Himalaya\",\"India\"],[\"Uttarakhand, Himalaya\",\"India\"],[\"Uttarakhand, Himalaya\",\"India\"],[\"Uttarakhand, Himalaya\",\"India\"],[\"Uttarakhand, Himalaya\",\"India\"],[\"Uttarakhand, Himalaya\",\"India\"],[\"Uttarakhand, Himalaya\",\"India\"],[\"Uttarakhand, Himalaya\",\"India\"],[\"Cristiano Otoni Step\",\"Brazil\"],[\"Cristiano Otoni Step\",\"Brazil\"],[\"Tibetan Plateau\",\"China\"],[\"Cristiano Otoni Step\",\"Brazil\"],[\"Cristiano Otoni Step\",\"Brazil\"],[\"Cristiano Otoni Step\",\"Brazil\"],[\"Cristiano Otoni Step\",\"Brazil\"],[\"Transhimalaya\",\"India\"],[\"Cristiano Otoni Step\",\"Brazil\"],[\"Cristiano Otoni Step\",\"Brazil\"],[\"Sao Geraldo Step\",\"Brazil\"],[\"Transhimalaya\",\"India\"],[\"Sao Geraldo Step\",\"Brazil\"],[\"Sao Geraldo Step\",\"Brazil\"],[\"Sao Geraldo Step\",\"Brazil\"],[\"Sao Geraldo Step\",\"Brazil\"],[\"Sao Geraldo Step\",\"Brazil\"],[\"Sao Geraldo Step\",\"Brazil\"],[\"Sao Geraldo Step\",\"Brazil\"],[\"Transhimalaya\",\"India\"],[\"Sao Geraldo Step\",\"Brazil\"],[\"Sao Geraldo Step\",\"Brazil\"],[\"Sao Geraldo Step\",\"Brazil\"],[\"Tibetan Plateau\",\"China\"],[\"Tibetan Plateau\",\"China\"],[\"Tibetan Plateau\",\"China\"],[\"Tibetan Plateau\",\"China\"],[\"Tibetan Plateau\",\"China\"],[\"Tibetan Plateau\",\"China\"],[\"Tibetan Plateau\",\"China\"],[\"Transhimalaya\",\"India\"],[\"Tibetan Plateau\",\"China\"],[\"Tibetan Plateau\",\"China\"],[\"Tibetan Plateau\",\"China\"],[\"Tibetan Plateau\",\"China\"],[\"San Gabriel (CA)\",\"USA\"],[\"Tibetan Plateau\",\"China\"],[\"Tibetan Plateau\",\"China\"],[\"Transhimalaya\",\"India\"],[\"San Gabriel (CA)\",\"USA\"],[\"San Gabriel (CA)\",\"USA\"],[\"Great Escarpment\",\"NAM\"],[\"Great Escarpment\",\"NAM\"],[\"Great Escarpment\",\"NAM\"],[\"Great Escarpment\",\"NAM\"],[\"San Gabriel (CA)\",\"USA\"],[\"Great Escarpment\",\"NAM\"],[\"San Gabriel (CA)\",\"USA\"],[\"Great Escarpment\",\"NAM\"],[\"San Gabriel (CA)\",\"USA\"],[\"Great Escarpment\",\"NAM\"],[\"San Gabriel (CA)\",\"USA\"],[\"San Gabriel (CA)\",\"USA\"],[\"San Gabriel (CA)\",\"USA\"],[\"San Gabriel (CA)\",\"USA\"],[\"San Gabriel (CA)\",\"USA\"],[\"San Gabriel (CA)\",\"USA\"],[\"San Gabriel (CA)\",\"USA\"],[\"San Gabriel (CA)\",\"USA\"],[\"Betic Cordillera\",\"Spain\"],[\"San Gabriel (CA)\",\"USA\"],[\"San Gabriel (CA)\",\"USA\"],[\"San Gabriel (CA)\",\"USA\"],[\"San Gabriel (CA)\",\"USA\"],[\"San Gabriel (CA)\",\"USA\"],[\"San Gabriel (CA)\",\"USA\"],[\"San Gabriel (CA)\",\"USA\"],[\"San Gabriel (CA)\",\"USA\"],[\"San Gabriel (CA)\",\"USA\"],[\"San Gabriel (CA)\",\"USA\"],[\"San Gabriel (CA)\",\"USA\"],[\"San Gabriel (CA)\",\"USA\"],[\"San Gabriel (CA)\",\"USA\"],[\"San Gabriel (CA)\",\"USA\"],[\"San Gabriel (CA)\",\"USA\"],[\"San Gabriel (CA)\",\"USA\"],[\"San Gabriel (CA)\",\"USA\"],[\"San Gabriel (CA)\",\"USA\"],[\"San Gabriel (CA)\",\"USA\"],[\"San Gabriel (CA)\",\"USA\"],[\"San Gabriel (CA)\",\"USA\"],[\"San Gabriel (CA)\",\"USA\"],[\"San Gabriel (CA)\",\"USA\"],[\"San Gabriel (CA)\",\"USA\"],[\"San Gabriel (CA)\",\"USA\"],[\"Betic Cordillera\",\"Spain\"],[\"San Gabriel (CA)\",\"USA\"],[\"San Gabriel (CA)\",\"USA\"],[\"San Gabriel (CA)\",\"USA\"],[\"San Gabriel (CA)\",\"USA\"],[\"San Gabriel (CA)\",\"USA\"],[\"San Gabriel (CA)\",\"USA\"],[\"San Gabriel (CA)\",\"USA\"],[\"San Gabriel (CA)\",\"USA\"],[\"San Gabriel (CA)\",\"USA\"],[\"San Gabriel (CA)\",\"USA\"],[\"San Gabriel (CA)\",\"USA\"],[\"Ecuadorian Andes\",\"Ecuador\"],[\"Ecuadorian Andes\",\"Ecuador\"],[\"Ecuadorian Andes\",\"Ecuador\"],[\"Ecuadorian Andes\",\"Ecuador\"],[\"Ecuadorian Andes\",\"Ecuador\"],[\"Sonoran Desert (AZ)\",\"USA\"],[\"Ecuadorian Andes\",\"Ecuador\"],[\"Ecuadorian Andes\",\"Ecuador\"],[\"Coast Range (OR)\",\"USA\"],[\"Ecuadorian Andes\",\"Ecuador\"],[\"Ecuadorian Andes\",\"Ecuador\"],[\"Ecuadorian Andes\",\"Ecuador\"],[\"Ecuadorian Andes\",\"Ecuador\"],[\"Ecuadorian Andes\",\"Ecuador\"],[\"Ecuadorian Andes\",\"Ecuador\"],[\"Ecuadorian Andes\",\"Ecuador\"],[\"Ecuadorian Andes\",\"Ecuador\"],[\"Ecuadorian Andes\",\"Ecuador\"],[\"Ecuadorian Andes\",\"Ecuador\"],[\"Nepalese Himalaya\",\"Nepal\"],[\"Wasatch Mts. (UT)\",\"USA\"],[\"Nepalese Himalaya\",\"Nepal\"],[\"Nepalese Himalaya\",\"Nepal\"],[\"Nepalese Himalaya\",\"Nepal\"],[\"Nepalese Himalaya\",\"Nepal\"],[\"Nepalese Himalaya\",\"Nepal\"],[\"Wasatch Mts. (UT)\",\"USA\"],[\"Nepalese Himalaya\",\"Nepal\"],[\"Wasatch Mts. (UT)\",\"USA\"],[\"Nepalese Himalaya\",\"Nepal\"],[\"Wasatch Mts. (UT)\",\"USA\"],[\"Nepalese Himalaya\",\"Nepal\"],[\"Nepalese Himalaya\",\"Nepal\"],[\"Sri Lankan Escarpment\",\"Sri Lanka\"],[\"Nepalese Himalaya\",\"Nepal\"],[\"Wasatch Mts. (UT)\",\"USA\"],[\"Nepalese Himalaya\",\"Nepal\"],[\"California\",\"USA\"],[\"Nepalese Himalaya\",\"Nepal\"],[\"Sierra Pie de Palo\",\"Argentina\"],[\"Nahal Yael\",\"Israel\"],[\"Nepalese Himalaya\",\"Nepal\"],[\"Nepalese Himalaya\",\"Nepal\"],[\"Sierra Pie de Palo\",\"Argentina\"],[\"Nepalese Himalaya\",\"Nepal\"],[\"Nepalese Himalaya\",\"Nepal\"],[\"Nepalese Himalaya\",\"Nepal\"],[\"Wasatch Mts. (UT)\",\"USA\"],[\"Nepalese Himalaya\",\"Nepal\"],[\"Nepalese Himalaya\",\"Nepal\"],[\"Nepalese Himalaya\",\"Nepal\"],[\"Nepalese Himalaya\",\"Nepal\"],[\"Nepalese Himalaya\",\"Nepal\"],[\"Nepalese Himalaya\",\"Nepal\"],[\"Nepalese Himalaya\",\"Nepal\"],[\"Nepalese Himalaya\",\"Nepal\"],[\"Wasatch Mts. (UT)\",\"USA\"],[\"Nepalese Himalaya\",\"Nepal\"],[\"Nepalese Himalaya\",\"Nepal\"],[\"Black Forest (BW)\",\"Germany\"],[\"Nepalese Himalaya\",\"Nepal\"],[\"California\",\"USA\"],[\"California\",\"USA\"],[\"California\",\"USA\"],[\"California\",\"USA\"],[\"California\",\"USA\"],[\"California\",\"USA\"],[\"California\",\"USA\"],[\"California\",\"USA\"],[\"California\",\"USA\"],[\"California\",\"USA\"],[\"Nahal Yael\",\"Israel\"],[\"California\",\"USA\"],[\"Central Ladakh Range (JK)\",\"India\"],[\"Sierra Pie de Palo\",\"Argentina\"],[\"Sierra Pie de Palo\",\"Argentina\"],[\"Lanyang Riv.\",\"Taiwan\"],[\"Lanyang Riv.\",\"Taiwan\"],[\"Lanyang Riv.\",\"Taiwan\"],[\"Lanyang Riv.\",\"Taiwan\"],[\"Lanyang Riv.\",\"Taiwan\"],[\"Nahal Yael\",\"Israel\"],[\"Lanyang Riv.\",\"Taiwan\"],[\"Nepalese Himalaya\",\"Nepal\"],[\"Nahal Yael\",\"Israel\"],[\"Lanyang Riv.\",\"Taiwan\"],[\"Lanyang Riv.\",\"Taiwan\"],[\"Nahal Yael\",\"Israel\"],[\"Nepalese Himalaya\",\"Nepal\"],[\"Nepalese Himalaya\",\"Nepal\"],[\"Wasatch Mts. (UT)\",\"USA\"],[\"Wasatch Mts. (UT)\",\"USA\"],[\"Wasatch Mts. (UT)\",\"USA\"],[\"Wasatch Mts. (UT)\",\"USA\"],[\"Wasatch Mts. (UT)\",\"USA\"],[\"Wasatch Mts. (UT)\",\"USA\"],[\"Wasatch Mts. (UT)\",\"USA\"],[\"Wasatch Mts. (UT)\",\"USA\"],[\"Black Forest (BW)\",\"Germany\"],[\"Central Ladakh Range (JK)\",\"India\"],[\"Black Forest (BW)\",\"Germany\"],[\"Black Forest (BW)\",\"Germany\"],[\"Black Forest (BW)\",\"Germany\"],[\"Black Forest (BW)\",\"Germany\"],[\"Black Forest (BW)\",\"Germany\"],[\"Black Forest (BW)\",\"Germany\"],[\"Black Forest (BW)\",\"Germany\"],[\"Black Forest (BW)\",\"Germany\"],[\"Nahal Yael\",\"Israel\"],[\"Black Forest (BW)\",\"Germany\"],[\"Black Forest (BW)\",\"Germany\"],[\"Black Forest (BW)\",\"Germany\"],[\"Black Forest (BW)\",\"Germany\"],[\"Black Forest (BW)\",\"Germany\"],[\"Black Forest (BW)\",\"Germany\"],[\"Central Ladakh Range (JK)\",\"India\"],[\"Black Forest (BW)\",\"Germany\"],[\"Black Forest (BW)\",\"Germany\"],[\"Black Forest (BW)\",\"Germany\"],[\"Black Forest (BW)\",\"Germany\"],[\"Central Ladakh Range (JK)\",\"India\"],[\"Central Ladakh Range (JK)\",\"India\"],[\"Central Ladakh Range (JK)\",\"India\"],[\"Central Ladakh Range (JK)\",\"India\"],[\"Central Ladakh Range (JK)\",\"India\"],[\"Sri Lankan Escarpment\",\"Sri Lanka\"],[\"Central Ladakh Range (JK)\",\"India\"],[\"Central Ladakh Range (JK)\",\"India\"],[\"Central Ladakh Range (JK)\",\"India\"],[\"Central Ladakh Range (JK)\",\"India\"],[\"Swiss Alpine Foreland\",\"Switzerland\"],[\"Swiss Alpine Foreland\",\"Switzerland\"],[\"Swiss Alpine Foreland\",\"Switzerland\"],[\"Swiss Alpine Foreland\",\"Switzerland\"],[\"Swiss Alpine Foreland\",\"Switzerland\"],[\"Santa Cruz Mts. (CA)\",\"USA\"],[\"Swiss Alpine Foreland\",\"Switzerland\"],[\"Swiss Alpine Foreland\",\"Switzerland\"],[\"Swiss Alpine Foreland\",\"Switzerland\"],[\"Swiss Alpine Foreland\",\"Switzerland\"],[\"Swiss Alpine Foreland\",\"Switzerland\"],[\"Swiss Alpine Foreland\",\"Switzerland\"],[\"Swiss Alpine Foreland\",\"Switzerland\"],[\"Swiss Alpine Foreland\",\"Switzerland\"],[\"Swiss Alpine Foreland\",\"Switzerland\"],[\"Swiss Alpine Foreland\",\"Switzerland\"],[\"Swiss Alpine Foreland\",\"Switzerland\"],[\"Swiss Alpine Foreland\",\"Switzerland\"],[\"Negev Desert\",\"Israel\"],[\"Negev Desert\",\"Israel\"],[\"Sri Lankan Escarpment\",\"Sri Lanka\"],[\"Negev Desert\",\"Israel\"],[\"Santa Cruz Mts. (CA)\",\"USA\"],[\"Negev Desert\",\"Israel\"],[\"Middle Fork, Sierra Nevada\",\"USA\"],[\"Oregon Coast Range\",\"USA\"],[\"Oregon Coast Range\",\"USA\"],[\"Oregon Coast Range\",\"USA\"],[\"Oregon Coast Range\",\"USA\"],[\"Oregon Coast Range\",\"USA\"],[\"Santa Cruz Mts. (CA)\",\"USA\"],[\"Rocky Mts.\",\"USA\"],[\"Santa Cruz Mts. (CA)\",\"USA\"],[\"Santa Cruz Mts. (CA)\",\"USA\"],[\"Great Escarpment\",\"NAM\"],[\"Santa Cruz Mts. (CA)\",\"USA\"],[\"Santa Cruz Mts. (CA)\",\"USA\"],[\"Santa Cruz Mts. (CA)\",\"USA\"],[\"Great Escarpment\",\"NAM\"],[\"Santa Cruz Mts. (CA)\",\"USA\"],[\"Santa Cruz Mts. (CA)\",\"USA\"],[\"Santa Cruz Mts. (CA)\",\"USA\"],[\"Andes, Western Cordillera\",\"Peru\"],[\"Santa Cruz Mts. (CA)\",\"USA\"],[\"Santa Cruz Mts. (CA)\",\"USA\"],[\"Tennessee Valley (CA)\",\"USA\"],[\"Santa Cruz Mts. (CA)\",\"USA\"],[\"Andes, Western Cordillera\",\"Peru\"],[\"Santa Cruz Mts. (CA)\",\"USA\"],[\"Santa Cruz Mts. (CA)\",\"USA\"],[\"Andes, Western Cordillera\",\"Peru\"],[\"Santa Cruz Mts. (CA)\",\"USA\"],[\"Great Escarpment\",\"NAM\"],[\"Great Escarpment\",\"NAM\"],[\"Tennessee Valley (CA)\",\"USA\"],[\"Andes, Western Cordillera\",\"Peru\"],[\"Rocky Mts.\",\"USA\"],[\"Andes, Western Cordillera\",\"Peru\"],[\"Rocky Mts.\",\"USA\"],[\"Middle Fork, Sierra Nevada\",\"USA\"],[\"Andes, Western Cordillera\",\"Peru\"],[\"Andes, Western Cordillera\",\"Peru\"],[\"Rocky Mts.\",\"USA\"],[\"Rocky Mts.\",\"USA\"],[\"Rocky Mts.\",\"USA\"],[\"Rocky Mts.\",\"USA\"],[\"Rocky Mts.\",\"USA\"],[\"Rocky Mts.\",\"USA\"],[\"Rocky Mts.\",\"USA\"],[\"Rocky Mts.\",\"USA\"],[\"Rocky Mts.\",\"USA\"],[\"Rocky Mts.\",\"USA\"],[\"Black Forest (BW)\",\"Germany\"],[\"Eastern Andean front\",\"Argentina\"],[\"Black Forest (BW)\",\"Germany\"],[\"Eastern Andean front\",\"Argentina\"],[\"Black Forest (BW)\",\"Germany\"],[\"Black Forest (BW)\",\"Germany\"],[\"Black Forest (BW)\",\"Germany\"],[\"Black Forest (BW)\",\"Germany\"],[\"Black Forest (BW)\",\"Germany\"],[\"Black Forest (BW)\",\"Germany\"],[\"Black Forest (BW)\",\"Germany\"],[\"Black Forest (BW)\",\"Germany\"],[\"Black Forest (BW)\",\"Germany\"],[\"Gauteng\",\"South Africa\"],[\"Gauteng\",\"South Africa\"],[\"Argentine Precordillera\",\"Argentina\"],[\"Gauteng\",\"South Africa\"],[\"Gauteng\",\"South Africa\"],[\"Gauteng\",\"South Africa\"],[\"Middle Fork, Sierra Nevada\",\"USA\"],[\"Argentine Precordillera\",\"Argentina\"],[\"Argentine Precordillera\",\"Argentina\"],[\"Argentine Precordillera\",\"Argentina\"],[\"Argentine Precordillera\",\"Argentina\"],[\"San Bernardino (CA)\",\"USA\"],[\"Argentine Precordillera\",\"Argentina\"],[\"San Bernardino (CA)\",\"USA\"],[\"San Bernardino (CA)\",\"USA\"],[\"San Bernardino (CA)\",\"USA\"],[\"San Bernardino (CA)\",\"USA\"],[\"Tennessee Valley (CA)\",\"USA\"],[\"San Bernardino (CA)\",\"USA\"],[\"San Bernardino (CA)\",\"USA\"],[\"San Bernardino (CA)\",\"USA\"],[\"San Bernardino (CA)\",\"USA\"],[\"San Bernardino (CA)\",\"USA\"],[\"San Bernardino (CA)\",\"USA\"],[\"San Bernardino (CA)\",\"USA\"],[\"San Bernardino (CA)\",\"USA\"],[\"San Bernardino (CA)\",\"USA\"],[\"San Bernardino (CA)\",\"USA\"],[\"San Bernardino (CA)\",\"USA\"],[\"San Bernardino (CA)\",\"USA\"],[\"San Bernardino (CA)\",\"USA\"],[\"San Bernardino (CA)\",\"USA\"],[\"San Bernardino (CA)\",\"USA\"],[\"Abukuma Mts., Tohoku\",\"Japan\"],[\"Abukuma Mts., Tohoku\",\"Japan\"],[\"Abukuma Mts., Tohoku\",\"Japan\"],[\"Abukuma Mts., Tohoku\",\"Japan\"],[\"Abukuma Mts., Tohoku\",\"Japan\"],[\"Rhenish Massif (NRW)\",\"Germany\"],[\"Rhenish Massif (NRW)\",\"Germany\"],[\"Rhenish Massif (NRW)\",\"Germany\"],[\"Rhenish Massif (NRW)\",\"Germany\"],[\"ND\",\"Panama\"],[\"Rhenish Massif (NRW)\",\"Germany\"],[\"Rhenish Massif (NRW)\",\"Germany\"],[\"Rhenish Massif (NRW)\",\"Germany\"],[\"Rhenish Massif (NRW)\",\"Germany\"],[\"ND\",\"Panama\"],[\"Rhenish Massif (NRW)\",\"Germany\"],[\"Rhenish Massif (NRW)\",\"Germany\"],[\"ND\",\"Panama\"],[\"ND\",\"Panama\"],[\"ND\",\"Panama\"],[\"ND\",\"Panama\"],[\"ND\",\"Panama\"],[\"ND\",\"Panama\"],[\"Santa Cruz (CA)\",\"USA\"],[\"ND\",\"Panama\"],[\"ND\",\"Panama\"],[\"ND\",\"Panama\"],[\"ND\",\"Panama\"],[\"ND\",\"Panama\"],[\"ND\",\"Panama\"],[\"ND\",\"Panama\"],[\"ND\",\"Panama\"],[\"ND\",\"Panama\"],[\"Santa Cruz (CA)\",\"USA\"],[\"Serra do Mar\",\"Brazil\"],[\"Honshu, Japanese Alps\",\"Japan\"],[\"Honshu, Japanese Alps\",\"Japan\"],[\"Serra do Mar\",\"Brazil\"],[\"Serra do Mar\",\"Brazil\"],[\"Honshu, Japanese Alps\",\"Japan\"],[\"Honshu, Japanese Alps\",\"Japan\"],[\"Serra do Mar\",\"Brazil\"],[\"Serra do Mar\",\"Brazil\"],[\"Honshu, Japanese Alps\",\"Japan\"],[\"Serra do Mar\",\"Brazil\"],[\"Honshu, Japanese Alps\",\"Japan\"],[\"Honshu, Japanese Alps\",\"Japan\"],[\"Honshu, Japanese Alps\",\"Japan\"],[\"Honshu, Japanese Alps\",\"Japan\"],[\"Honshu, Japanese Alps\",\"Japan\"],[\"Fort Sage Mts. (CA)\",\"USA\"],[\"Honshu, Japanese Alps\",\"Japan\"],[\"Honshu, Japanese Alps\",\"Japan\"],[\"Honshu, Japanese Alps\",\"Japan\"],[\"Honshu, Japanese Alps\",\"Japan\"],[\"Honshu, Japanese Alps\",\"Japan\"],[\"South-Eastern Brazil, Mantiqueira Range\",\"Brazil\"],[\"Nepalese Himalaya\",\"Nepal\"],[\"Nepalese Himalaya\",\"Nepal\"],[\"Nepalese Himalaya\",\"Nepal\"],[\"Nepalese Himalaya\",\"Nepal\"],[\"Nepalese Himalaya\",\"Nepal\"],[\"South-Eastern Brazil, Mantiqueira Range\",\"Brazil\"],[\"Nepalese Himalaya\",\"Nepal\"],[\"Nepalese Himalaya\",\"Nepal\"],[\"South-Eastern Brazil, Mantiqueira Range\",\"Brazil\"],[\"Nepalese Himalaya\",\"Nepal\"],[\"Nepalese Himalaya\",\"Nepal\"],[\"Nepalese Himalaya\",\"Nepal\"],[\"South-Eastern Brazil, Mantiqueira Range\",\"Brazil\"],[\"Nepalese Himalaya\",\"Nepal\"],[\"Nepalese Himalaya\",\"Nepal\"],[\"Nepalese Himalaya\",\"Nepal\"],[\"South-Eastern Brazil, Mantiqueira Range\",\"Brazil\"],[\"Nepalese Himalaya\",\"Nepal\"],[\"Nepalese Himalaya\",\"Nepal\"],[\"Nepalese Himalaya\",\"Nepal\"],[\"Nepalese Himalaya\",\"Nepal\"],[\"Nepalese Himalaya\",\"Nepal\"],[\"Nepalese Himalaya\",\"Nepal\"],[\"Nepalese Himalaya\",\"Nepal\"],[\"Nepalese Himalaya\",\"Nepal\"],[\"Nepalese Himalaya\",\"Nepal\"],[\"Nepalese Himalaya\",\"Nepal\"],[\"Nepalese Himalaya\",\"Nepal\"],[\"Nepalese Himalaya\",\"Nepal\"],[\"Nepalese Himalaya\",\"Nepal\"],[\"Nepalese Himalaya\",\"Nepal\"],[\"Nepalese Himalaya\",\"Nepal\"],[\"South-Eastern Brazil, Mantiqueira Range\",\"Brazil\"],[\"South-Eastern Brazil, Mantiqueira Range\",\"Brazil\"],[\"South-Eastern Brazil, Mantiqueira Range\",\"Brazil\"],[\"South-Eastern Brazil, Mantiqueira Range\",\"Brazil\"],[\"Feldberg\",\"Germany\"],[\"Feldberg\",\"Germany\"],[\"Feldberg\",\"Germany\"],[\"Feldberg\",\"Germany\"],[\"Feldberg\",\"Germany\"],[\"Swiss Alps\",\"Switzerland\"],[\"Feldberg\",\"Germany\"],[\"Feldberg\",\"Germany\"],[\"Feldberg\",\"Germany\"],[\"Feldberg\",\"Germany\"],[\"Swiss Alps\",\"Switzerland\"],[\"Feldberg\",\"Germany\"],[\"Feldberg\",\"Germany\"],[\"Feldberg\",\"Germany\"],[\"Feldberg\",\"Germany\"],[\"Feldberg\",\"Germany\"],[\"Sonoran Desert (AZ)\",\"USA\"],[\"Feldberg\",\"Germany\"],[\"Swiss Alps\",\"Switzerland\"],[\"Swiss Alps\",\"Switzerland\"],[\"Swiss Alps\",\"Switzerland\"],[\"Sonoran Desert (AZ)\",\"USA\"],[\"Swiss Alps\",\"Switzerland\"],[\"Swiss Alps\",\"Switzerland\"],[\"Swiss Alps\",\"Switzerland\"],[\"Swiss Alps\",\"Switzerland\"],[\"Swiss Alps\",\"Switzerland\"],[\"Fort Sage Mts. (CA)\",\"USA\"],[\"Swiss Alps\",\"Switzerland\"],[\"Swiss Alps\",\"Switzerland\"],[\"Swiss Alps\",\"Switzerland\"],[\"Swiss Alps\",\"Switzerland\"],[\"Swiss Alps\",\"Switzerland\"],[\"Swiss Alps\",\"Switzerland\"],[\"Swiss Alps\",\"Switzerland\"],[\"Swiss Alps\",\"Switzerland\"],[\"Swiss Alps\",\"Switzerland\"],[\"Swiss Alps\",\"Switzerland\"],[\"Swiss Alps\",\"Switzerland\"],[\"Swiss Alps\",\"Switzerland\"],[\"Swiss Alps\",\"Switzerland\"],[\"Swiss Alps\",\"Switzerland\"],[\"Betic Cordillera\",\"Spain\"],[\"Swiss Alps\",\"Switzerland\"],[\"Swiss Alps\",\"Switzerland\"],[\"Swiss Alps\",\"Switzerland\"],[\"Swiss Alps\",\"Switzerland\"],[\"Swiss Alps\",\"Switzerland\"],[\"Swiss Alps\",\"Switzerland\"],[\"Swiss Alps\",\"Switzerland\"],[\"Swiss Alps\",\"Switzerland\"],[\"Southerm Espinhaco Range\",\"Brazil\"],[\"Betic Cordillera\",\"Spain\"],[\"Southerm Espinhaco Range\",\"Brazil\"],[\"Southerm Espinhaco Range\",\"Brazil\"],[\"Southerm Espinhaco Range\",\"Brazil\"],[\"Betic Cordillera\",\"Spain\"],[\"Southerm Espinhaco Range\",\"Brazil\"],[\"Southerm Espinhaco Range\",\"Brazil\"],[\"Southerm Espinhaco Range\",\"Brazil\"],[\"Fort Sage Mts. (CA)\",\"USA\"],[\"Southerm Espinhaco Range\",\"Brazil\"],[\"Southerm Espinhaco Range\",\"Brazil\"],[\"Southerm Espinhaco Range\",\"Brazil\"],[\"Southerm Espinhaco Range\",\"Brazil\"],[\"Bernese Oberland\",\"Switzerland\"],[\"Bernese Oberland\",\"Switzerland\"],[\"Bernese Oberland\",\"Switzerland\"],[\"Bernese Oberland\",\"Switzerland\"],[\"Bernese Oberland\",\"Switzerland\"],[\"Bernese Oberland\",\"Switzerland\"],[\"Bernese Oberland\",\"Switzerland\"],[\"Sonoran Desert (AZ)\",\"USA\"],[\"Sonoran Desert (AZ)\",\"USA\"],[\"Sonoran Desert (AZ)\",\"USA\"],[\"Sonoran Desert (AZ)\",\"USA\"],[\"Sonoran Desert (AZ)\",\"USA\"],[\"Sonoran Desert (AZ)\",\"USA\"],[\"Sonoran Desert (AZ)\",\"USA\"],[\"Sonoran Desert (AZ)\",\"USA\"],[\"Sonoran Desert (AZ)\",\"USA\"],[\"Sonoran Desert (AZ)\",\"USA\"],[\"Sonoran Desert (AZ)\",\"USA\"],[\"Sonoran Desert (AZ)\",\"USA\"],[\"Sonoran Desert (AZ)\",\"USA\"],[\"Sonoran Desert (AZ)\",\"USA\"],[\"Sonoran Desert (AZ)\",\"USA\"],[\"Sonoran Desert (AZ)\",\"USA\"],[\"Sonoran Desert (AZ)\",\"USA\"],[\"Sonoran Desert (AZ)\",\"USA\"],[\"Sonoran Desert (AZ)\",\"USA\"],[\"Sonoran Desert (AZ)\",\"USA\"],[\"Sonoran Desert (AZ)\",\"USA\"],[\"Sonoran Desert (AZ)\",\"USA\"],[\"Sonoran Desert (AZ)\",\"USA\"],[\"Sonoran Desert (AZ)\",\"USA\"],[\"Sonoran Desert (AZ)\",\"USA\"],[\"Sonoran Desert (AZ)\",\"USA\"],[\"Sonoran Desert (AZ)\",\"USA\"],[\"Fort Sage Mts. (CA)\",\"USA\"],[\"Sonoran Desert (AZ)\",\"USA\"],[\"Sonoran Desert (AZ)\",\"USA\"],[\"Sonoran Desert (AZ)\",\"USA\"],[\"Sonoran Desert (AZ)\",\"USA\"],[\"Sonoran Desert (AZ)\",\"USA\"],[\"Sonoran Desert (AZ)\",\"USA\"],[\"Coast Range (OR)\",\"USA\"],[\"Coast Range (OR)\",\"USA\"],[\"Coast Range (OR)\",\"USA\"],[\"Coast Range (OR)\",\"USA\"],[\"Coast Range (OR)\",\"USA\"],[\"Coast Range (OR)\",\"USA\"],[\"Central Eastern Italian Alps\",\"Italy\"],[\"Coast Range (OR)\",\"USA\"],[\"Coast Range (OR)\",\"USA\"],[\"Coast Range (OR)\",\"USA\"],[\"Coast Range (OR)\",\"USA\"],[\"Central Eastern Italian Alps\",\"Italy\"],[\"Coast Range (OR)\",\"USA\"],[\"Coast Range (OR)\",\"USA\"],[\"Coast Range (OR)\",\"USA\"],[\"Central Eastern Italian Alps\",\"Italy\"],[\"Central Eastern Italian Alps\",\"Italy\"],[\"Central Eastern Italian Alps\",\"Italy\"],[\"Central Eastern Italian Alps\",\"Italy\"],[\"Central Eastern Italian Alps\",\"Italy\"],[\"Central Eastern Italian Alps\",\"Italy\"],[\"Central Eastern Italian Alps\",\"Italy\"],[\"Central Eastern Italian Alps\",\"Italy\"],[\"Central Eastern Italian Alps\",\"Italy\"],[\"Central Eastern Italian Alps\",\"Italy\"],[\"Sri Lankan Escarpment\",\"Sri Lanka\"],[\"Sri Lankan Escarpment\",\"Sri Lanka\"],[\"Sri Lankan Escarpment\",\"Sri Lanka\"],[\"Sri Lankan Escarpment\",\"Sri Lanka\"],[\"Sri Lankan Escarpment\",\"Sri Lanka\"],[\"Sri Lankan Escarpment\",\"Sri Lanka\"],[\"Sri Lankan Escarpment\",\"Sri Lanka\"],[\"Sri Lankan Escarpment\",\"Sri Lanka\"],[\"Sri Lankan Escarpment\",\"Sri Lanka\"],[\"Sri Lankan Escarpment\",\"Sri Lanka\"],[\"Sri Lankan Escarpment\",\"Sri Lanka\"],[\"Sri Lankan Escarpment\",\"Sri Lanka\"],[\"Sri Lankan Escarpment\",\"Sri Lanka\"],[\"Sri Lankan Escarpment\",\"Sri Lanka\"],[\"Sri Lankan Escarpment\",\"Sri Lanka\"],[\"Sri Lankan Escarpment\",\"Sri Lanka\"],[\"Middle Fork, Sierra Nevada\",\"USA\"],[\"Middle Fork, Sierra Nevada\",\"USA\"],[\"Middle Fork, Sierra Nevada\",\"USA\"],[\"Middle Fork, Sierra Nevada\",\"USA\"],[\"Fort Sage Mts. (CA)\",\"USA\"],[\"Middle Fork, Sierra Nevada\",\"USA\"],[\"Middle Fork, Sierra Nevada\",\"USA\"],[\"Middle Fork, Sierra Nevada\",\"USA\"],[\"Middle Fork, Sierra Nevada\",\"USA\"],[\"Middle Fork, Sierra Nevada\",\"USA\"],[\"Middle Fork, Sierra Nevada\",\"USA\"],[\"Abukuma Mts.\",\"Japan\"],[\"Abukuma Mts.\",\"Japan\"],[\"South Tibet\",\"China\"],[\"South Tibet\",\"China\"],[\"South Tibet\",\"China\"],[\"South Tibet\",\"China\"],[\"South Tibet\",\"China\"],[\"South Tibet\",\"China\"],[\"South Tibet\",\"China\"],[\"Fort Sage Mts. (CA)\",\"USA\"],[\"Central Alps\",\"Switzerland\"],[\"Central Alps\",\"Switzerland\"],[\"Southern Central Andes, Humahuaca Basin\",\"Argentina\"],[\"Central Alps\",\"Switzerland\"],[\"Central Alps\",\"Switzerland\"],[\"Central Alps\",\"Switzerland\"],[\"Arroyo Chavez (NM)\",\"USA\"],[\"Central Alps\",\"Switzerland\"],[\"Central Alps\",\"Switzerland\"],[\"Central Alps\",\"Switzerland\"],[\"Central Alps\",\"Switzerland\"],[\"Central Alps\",\"Switzerland\"],[\"Central Alps\",\"Switzerland\"],[\"Olympic Mts. (WA)\",\"USA\"],[\"Olympic Mts. (WA)\",\"USA\"],[\"Olympic Mts. (WA)\",\"USA\"],[\"Southern Central Andes, Humahuaca Basin\",\"Argentina\"],[\"Olympic Mts. (WA)\",\"USA\"],[\"Olympic Mts. (WA)\",\"USA\"],[\"Olympic Mts. (WA)\",\"USA\"],[\"Olympic Mts. (WA)\",\"USA\"],[\"Fort Sage Mts. (CA)\",\"USA\"],[\"Southern Central Andes, Humahuaca Basin\",\"Argentina\"],[\"Southern Central Andes, Humahuaca Basin\",\"Argentina\"],[\"Southern Central Andes, Humahuaca Basin\",\"Argentina\"],[\"Southern Central Andes, Humahuaca Basin\",\"Argentina\"],[\"Arroyo Chavez (NM)\",\"USA\"],[\"Southern Central Andes, Humahuaca Basin\",\"Argentina\"],[\"Southern Central Andes, Humahuaca Basin\",\"Argentina\"],[\"Southern Central Andes, Humahuaca Basin\",\"Argentina\"],[\"Southern Central Andes, Humahuaca Basin\",\"Argentina\"],[\"Upper Engadin\",\"Switzerland\"],[\"Upper Engadin\",\"Switzerland\"],[\"Upper Engadin\",\"Switzerland\"],[\"Upper Engadin\",\"Switzerland\"],[\"French Western Alps\",\"France\"],[\"Upper Engadin\",\"Switzerland\"],[\"Upper Engadin\",\"Switzerland\"],[\"Upper Engadin\",\"Switzerland\"],[\"French Western Alps\",\"France\"],[\"Upper Engadin\",\"Switzerland\"],[\"Upper Engadin\",\"Switzerland\"],[\"Upper Engadin\",\"Switzerland\"],[\"Upper Engadin\",\"Switzerland\"],[\"Upper Engadin\",\"Switzerland\"],[\"Upper Engadin\",\"Switzerland\"],[\"Upper Engadin\",\"Switzerland\"],[\"Upper Engadin\",\"Switzerland\"],[\"Teton Range\",\"USA\"],[\"Teton Range\",\"USA\"],[\"Teton Range\",\"USA\"],[\"Sierra Nevada (AN)\",\"Spain\"],[\"Sierra Nevada (AN)\",\"Spain\"],[\"Sierra Nevada (AN)\",\"Spain\"],[\"Sierra Nevada (AN)\",\"Spain\"],[\"Betic Cordillera\",\"Spain\"],[\"Sierra Nevada (AN)\",\"Spain\"],[\"Sierra Nevada (AN)\",\"Spain\"],[\"Sierra Nevada (AN)\",\"Spain\"],[\"Sierra Nevada (AN)\",\"Spain\"],[\"Valles Caldera, New Mexico\",\"USA\"],[\"Valles Caldera, New Mexico\",\"USA\"],[\"Valles Caldera, New Mexico\",\"USA\"],[\"Valles Caldera, New Mexico\",\"USA\"],[\"Taebaek Mts.\",\"Korea\"],[\"Betic Cordillera\",\"Spain\"],[\"Taebaek Mts.\",\"Korea\"],[\"Taebaek Mts.\",\"Korea\"],[\"Taebaek Mts.\",\"Korea\"],[\"Taebaek Mts.\",\"Korea\"],[\"Taebaek Mts.\",\"Korea\"],[\"Taebaek Mts.\",\"Korea\"],[\"San Bernardino (CA)\",\"USA\"],[\"San Bernardino (CA)\",\"USA\"],[\"San Bernardino (CA)\",\"USA\"],[\"San Bernardino (CA)\",\"USA\"],[\"San Bernardino (CA)\",\"USA\"],[\"San Bernardino (CA)\",\"USA\"],[\"San Bernardino (CA)\",\"USA\"],[\"San Bernardino (CA)\",\"USA\"],[\"San Bernardino (CA)\",\"USA\"],[\"Betic Cordillera\",\"Spain\"],[\"San Bernardino (CA)\",\"USA\"],[\"San Bernardino (CA)\",\"USA\"],[\"San Bernardino (CA)\",\"USA\"],[\"San Bernardino (CA)\",\"USA\"],[\"San Bernardino (CA)\",\"USA\"],[\"San Bernardino (CA)\",\"USA\"],[\"Betic Cordillera\",\"Spain\"],[\"Betic Cordillera\",\"Spain\"],[\"Betic Cordillera\",\"Spain\"],[\"Betic Cordillera\",\"Spain\"],[\"Betic Cordillera\",\"Spain\"],[\"Arroyo Chavez (NM)\",\"USA\"],[\"Betic Cordillera\",\"Spain\"],[\"Betic Cordillera\",\"Spain\"],[\"Betic Cordillera\",\"Spain\"],[\"Betic Cordillera\",\"Spain\"],[\"Betic Cordillera\",\"Spain\"],[\"Nahal Yael\",\"Israel\"],[\"Betic Cordillera\",\"Spain\"],[\"Western Oregon\",\"USA\"],[\"Western Oregon\",\"USA\"],[\"Rokko, Nankai\",\"Japan\"],[\"Rokko, Nankai\",\"Japan\"],[\"Nahal Yael\",\"Israel\"],[\"Rokko, Nankai\",\"Japan\"],[\"Rokko, Nankai\",\"Japan\"],[\"Rokko, Nankai\",\"Japan\"],[\"Rokko, Nankai\",\"Japan\"],[\"Rokko, Nankai\",\"Japan\"],[\"Okuwa, Japanese Alps\",\"Japan\"],[\"Okuwa, Japanese Alps\",\"Japan\"],[\"Abukuma, Tohoku\",\"Japan\"],[\"Okuwa, Japanese Alps\",\"Japan\"],[\"Okuwa, Japanese Alps\",\"Japan\"],[\"Okuwa, Japanese Alps\",\"Japan\"],[\"Okuwa, Japanese Alps\",\"Japan\"],[\"Okuwa, Japanese Alps\",\"Japan\"],[\"Okuwa, Japanese Alps\",\"Japan\"],[\"Okuwa, Japanese Alps\",\"Japan\"],[\"Okuwa, Japanese Alps\",\"Japan\"],[\"Abukuma, Tohoku\",\"Japan\"],[\"Okuwa, Japanese Alps\",\"Japan\"],[\"Abukuma, Tohoku\",\"Japan\"],[\"Okuwa, Japanese Alps\",\"Japan\"],[\"Okuwa, Japanese Alps\",\"Japan\"],[\"Abukuma, Tohoku\",\"Japan\"],[\"Nahal Yael\",\"Israel\"],[\"Okuwa, Japanese Alps\",\"Japan\"],[\"Abukuma, Tohoku\",\"Japan\"],[\"Okuwa, Japanese Alps\",\"Japan\"],[\"Abukuma, Tohoku\",\"Japan\"],[\"Nahal Yael\",\"Israel\"],[\"Okuwa, Japanese Alps\",\"Japan\"],[\"Abukuma, Tohoku\",\"Japan\"],[\"Okuwa, Japanese Alps\",\"Japan\"],[\"Okuwa, Japanese Alps\",\"Japan\"],[\"Okuwa, Japanese Alps\",\"Japan\"],[\"Abukuma, Tohoku\",\"Japan\"],[\"Abukuma, Tohoku\",\"Japan\"],[\"Quadrilatero Ferrifero\",\"Brazil\"],[\"Nahal Yael\",\"Israel\"],[\"Quadrilatero Ferrifero\",\"Brazil\"],[\"Quadrilatero Ferrifero\",\"Brazil\"],[\"Quadrilatero Ferrifero\",\"Brazil\"],[\"Arroyo Chavez (NM)\",\"USA\"],[\"Nahal Yael\",\"Israel\"],[\"ND\",\"Puerto Rico\"],[\"ND\",\"Puerto Rico\"],[\"ND\",\"Puerto Rico\"],[\"ND\",\"Puerto Rico\"],[\"ND\",\"Puerto Rico\"],[\"ND\",\"Puerto Rico\"],[\"ND\",\"Puerto Rico\"],[\"Arroyo Chavez (NM)\",\"USA\"],[\"Arroyo Chavez (NM)\",\"USA\"],[\"Menderes Massif\",\"Turkey\"],[\"Menderes Massif\",\"Turkey\"],[\"Menderes Massif\",\"Turkey\"],[\"Menderes Massif\",\"Turkey\"],[\"Menderes Massif\",\"Turkey\"],[\"Menderes Massif\",\"Turkey\"],[\"Menderes Massif\",\"Turkey\"],[\"Menderes Massif\",\"Turkey\"],[\"Menderes Massif\",\"Turkey\"],[\"Luquillo Mts.\",\"Puerto Rico\"],[\"Luquillo Mts.\",\"Puerto Rico\"],[\"ND\",\"Australia\"],[\"ND\",\"Australia\"],[\"Arnhem Land Plateau (NT)\",\"Australia\"],[\"Queensland\",\"Australia\"],[\"ND\",\"Australia\"],[\"Blue Mts. Plateau (NSW)\",\"Australia\"],[\"Blue Mts. Plateau (NSW)\",\"Australia\"],[\"Queensland\",\"Australia\"],[\"ND\",\"Australia\"],[\"ND\",\"Australia\"],[\"ND\",\"Australia\"],[\"Arnhem Land Plateau (NT)\",\"Australia\"],[\"SE Highlands (NSW)\",\"Australia\"],[\"Flinders Ranges (SA)\",\"Australia\"],[\"Flinders Ranges (SA)\",\"Australia\"],[\"Arnhem Land Plateau (NT)\",\"Australia\"],[\"SE Highlands (NSW)\",\"Australia\"],[\"Flinders Ranges (SA)\",\"Australia\"],[\"Flinders Ranges (SA)\",\"Australia\"],[\"Flinders Ranges (SA)\",\"Australia\"],[\"Flinders Ranges (SA)\",\"Australia\"],[\"Arnhem Land Plateau (NT)\",\"Australia\"],[\"Arnhem Land Plateau (NT)\",\"Australia\"],[\"Queensland\",\"Australia\"],[\"Arnhem Land Plateau (NT)\",\"Australia\"],[\"Arnhem Land Plateau (NT)\",\"Australia\"],[\"Arnhem Land Plateau (NT)\",\"Australia\"],[\"Arnhem Land Plateau (NT)\",\"Australia\"],[\"Mt Sonder (NT)\",\"Australia\"],[\"Tyler Pass (NT)\",\"Australia\"],[\"Tyler Pass (NT)\",\"Australia\"],[\"Queensland\",\"Australia\"],[\"Tyler Pass (NT)\",\"Australia\"],[\"Mt Sonder (NT)\",\"Australia\"],[\"Mt Sonder (NT)\",\"Australia\"],[\"Queensland\",\"Australia\"],[\"Queensland\",\"Australia\"],[\"Queensland\",\"Australia\"],[\"Queensland\",\"Australia\"],[\"Queensland\",\"Australia\"],[\"Queensland\",\"Australia\"],[\"Queensland\",\"Australia\"],[\"Queensland\",\"Australia\"],[\"Queensland\",\"Australia\"],[\"Queensland\",\"Australia\"],[\"Queensland\",\"Australia\"],[\"Queensland\",\"Australia\"],[\"Queensland\",\"Australia\"],[\"Queensland\",\"Australia\"],[\"Queensland\",\"Australia\"],[\"Queensland\",\"Australia\"],[\"Queensland\",\"Australia\"],[\"Queensland\",\"Australia\"],[\"Queensland\",\"Australia\"],[\"Queensland\",\"Australia\"],[\"Queensland\",\"Australia\"],[\"Queensland\",\"Australia\"],[\"Queensland\",\"Australia\"],[\"Queensland\",\"Australia\"],[\"Queensland\",\"Australia\"],[\"Queensland\",\"Australia\"],[\"Queensland\",\"Australia\"],[\"Queensland\",\"Australia\"],[\"Queensland\",\"Australia\"],[\"Queensland\",\"Australia\"],[\"Queensland\",\"Australia\"],[\"Queensland\",\"Australia\"],[\"Queensland\",\"Australia\"]],\"geo\":\"geo\",\"hovertemplate\":\"<b>%{hovertext}</b><br><br>type=Fluvial<br>lat=%{lat}<br>long=%{lon}<br>locality=%{customdata[0]}<br>region=%{customdata[1]}<extra></extra>\",\"hovertext\":[null,null,null,null,null,null,null,null,null,null,null,null,null,null,null,null,null,null,null,null,null,null,null,null,null,null,null,null,null,null,null,null,null,null,null,\"Loire\",\"Loire\",null,null,null,null,null,null,\"Loire\",null,null,\"Loire\",\"Meuse\",null,null,\"Meuse\",null,null,null,null,null,null,\"Meuse\",null,null,\"Meuse\",null,null,null,\"Meuse\",\"Meuse\",\"Loire\",\"Meuse\",\"Loire\",\"Loire\",\"Neckar\",\"Loire\",\"Loire\",\"Neckar\",\"Neckar\",\"Neckar\",\"Loire\",\"Loire\",\"Neckar\",\"Neckar\",\"Meuse\",\"Meuse\",\"Loire\",\"Loire\",\"Loire\",\"Neckar\",\"Loire\",\"Loire\",\"Meuse\",\"Neckar\",\"Neckar\",\"Regen\",\"Loire\",\"Regen\",\"Loire\",\"Loire\",\"Loire\",\"Loire\",\"Loire\",\"Regen\",\"Regen\",\"Napo\",\"Curaray\",\"Regen\",\"Napo\",\"Napo\",\"Regen\",\"Loire\",\"Salween\",\"Regen\",\"Salween\",\"Salween\",\"Salween\",\"Meuse\",\"Salween\",\"Neckar\",\"Loire\",\"Salween\",\"Mekong\",\"Salween\",\"Loire\",\"Loire\",\"Regen\",\"Mekong\",\"Neckar\",\"Napo\",\"Napo\",\"Napo\",\"Napo\",\"Loire\",\"Loire\",\"Regen\",\"Regen\",\"Napo\",\"Loire\",\"Regen\",\"Neckar\",\"Regen\",\"Loire\",\"Regen\",\"Regen\",\"Loire\",\"Loire\",\"Napo\",\"Napo\",\"Napo\",\"Napo\",\"Mekong\",\"Napo\",\"Mekong\",\"Mekong\",\"Napo\",\"Mekong\",\"Mekong\",\"Mekong\",\"Coca\",\"Yangtze\",\"Yangtze\",\"Yangtze\",\"Yangtze\",\"Yangtze\",\"Mekong\",\"Mekong\",\"Mekong\",\"Salween\",\"Salween\",\"Salween\",\"Salween\",\"Yangtze\",\"Salween\",\"Yangtze\",\"Yangtze\",\"Yangtze\",\"Yangtze\",\"Yangtze\",\"Yangtze\",\"Salween\",\"Mekong\",\"Yangtze\",\"Salween\",\"Yangtze\",\"Mekong\",\"Salween\",\"Salween\",\"Mekong\",\"Yangtze\",\"Salween\",\"Salween\",\"Salween\",\"Grande Riv.\",\"Grande Riv.\",\"Susquehanna\",\"Grande Riv.\",\"Grande Riv.\",\"Grande Riv.\",\"Chayanta Riv.\",\"Grande Riv.\",\"Caine Riv.\",\"Chayanta Riv.\",\"Caine Riv.\",\"Mizque Riv.\",\"Rocha Riv.\",\"Numae Riv.\",\"Azero Riv.\",\"Colloma Riv.\",\"Yunguillas Riv.\",\"Chico Riv.\",\"nancahuaz\\u00fa Riv.\",\"Tomina Riv.\",\"San Pedro Riv.\",\"Rosita Riv.\",\"Grande Riv.\",\"Rio Julpe Riv.\",\"Chico Riv.\",\"Arque Riv.\",\"Morochaca Riv.\",\"Masecuri Riv.\",\"Tapacari Riv.\",\"Limon Riv.\",\"nancahuaz\\u00fa Riv.\",\"Blanco Riv.\",\"Taracachi Riv.\",\"Tatarenda Riv.\",\"Comarappa Riv.\",\"Jatun Mayu Riv.\",\"Grande Riv.\",\"Chacoma Riv.\",\"Novillero Riv.\",\"nancahuaz\\u00fa Riv.\",\"Cliza Riv.\",\"Pulquina Riv.\",\"Huaraya Riv.\",\"Huerta Riv.\",\"Palcha Riv.\",\"Presto Riv.\",\"Sayan Chaca Riv.\",\"Po Riv., Bacucco\",\"Po Riv., Boccasette\",\"Po Riv., Crespino\",\"Po Riv., Viadana\",\"Achica Riv.\",\"Po Riv., Castelnuovo\",\"Po Riv., Zerbo\",\"Zudanez Riv., confluence\",\"Po Riv., Zerbo\",\"Po Riv., Cornale\",\"Po Riv., Cornale\",\"Po Riv., Valenza\",\"Zudanez Riv., confluence\",\"Tanaro Riv.\",\"Ticino Riv., Bereguardo\",\"Ticino Riv., Vizzola\",\"D. Baltea, Cigliano\",\"D. Baltea, Quassolo\",\"Mio Riv.\",\"Adda Riv.\",\"Ticino Riv., Carasso\",\"Toce Riv., Ornavasso\",\"Oglio Riv.\",\"Taro Riv.\",\"Jaya Mayu Riv.\",\"Stura Demonte Riv.\",\"Dora Riparia Riv.\",\"Ticino Riv., Bellinzona\",\"Vispa Riv.\",\"Ticucha Riv.\",\"Villoma Riv.\",\"Chacras Riv.\",\"Sesia Riv.\",\"Trebbia Riv.\",\"Toce Riv., Masera\",\"Susquehanna\",\"Torori Palca Riv.\",\"Bartolo Riv.\",\"Yunguillas Riv.\",\"Po Riv., Barricata\",\"Secchia Riv.\",\"Orco Riv.\",\"Scrivia Riv.\",\"Enza Riv.\",\"Varaita Riv.\",\"Belbo Riv.\",\"Bernadino Riv.\",\"Po Riv., Revello\",\"Rio Ocona\",null,\"Rio Santa\",\"Cannobino Riv.\",\"T. Pesconetto\",\"Craso del Gallo\",\"Rio Camana\",null,null,null,null,null,\"Rio Pativilca\",null,null,null,null,null,null,null,\"Susquehanna\",null,null,null,null,null,null,null,null,null,null,null,null,null,null,null,null,null,null,\"Rio Rimac\",null,null,null,null,null,null,\"Susquehanna\",\"Rhone Riv.\",\"Durance Riv.\",\"Isere Riv.\",\"Ceze Riv.\",\"Herault Riv.\",\"Gard Riv.\",\"Arve Riv.\",\"Tet Riv.\",\"Agly Riv.\",\"Eyrieux Riv.\",\"Tech Riv.\",\"Guiers Riv.\",\"Fier Riv.\",\"Ardeche Riv.\",null,null,null,null,null,null,null,null,\"Panj Riv.\",\"Panj Riv.\",\"Panj Riv., southern\",\"Panj Riv., southern\",\"Bartang Riv.\",null,null,\"Panj Riv., southern\",null,null,null,\"Vanj Riv.\",\"Panj Riv., southern\",\"Gunt Riv.\",\"Bartang Riv.\",\"Gunt Riv.\",\"Sanaga Riv.\",\"Mbam Riv.\",\"Nyong Riv.\",\"Nyong Riv.\",\"Nyong Riv.\",\"Nyong Riv.\",\"Nyong Riv.\",\"Nyong Riv.\",\"Nyong Riv.\",\"Nyong Riv.\",\"So_o Riv.\",\"Bivesse Riv.\",\"Chaliyar Riv.\",\"Awout Riv.\",\"Mengong Riv.\",\"Bharatpuzha Riv. trib.\",\"Bivesse Riv.\",\"Cauvery Riv.\",\"Cauvery Riv.\",\"Cauvery Riv.\",\"Cauvery Riv.\",\"Cauvery Riv.\",\"Bharatpuzha\",\"Chinnar Riv.\",\"Gangavali Riv.\",\"Netravati Riv.\",\"Moyar Riv.\",\"Cauvery Riv. trib.\",\"Palar Riv.\",\"Bhavani Riv. trib.\",\"Kabini Riv. trib.\",\"Netravati Riv. trib.\",\"Cauvery Riv.\",\"Bharatpuzha Riv. trib.\",\"Gangavali Riv.\",\"Netravati Riv. trib.\",\"Netravati Riv. trib.\",\"Arkavati Riv.\",\"Chaliyar Riv. trib.\",\"Chattahoochee Riv.\",\"Chaliyar Riv. trib.\",\"Roanoke Riv.\",\"Oconee Riv.\",\"Swarna Riv. trib.\",\"Moyar Riv. trib.\",\"Dan Riv.\",\"Saluda Riv.\",\"Chaliyar Riv. trib.\",\"Mahe Riv.\",\"Gurupura Riv.\",\"Chandragiri Riv. trib.\",\"Netravati Riv. trib.\",\"Bharatpuzha Riv. trib.\",\"Chattahoochee Riv.\",\"Kabini Riv.\",\"Swarna Riv. trib.\",\"Ocmulgee Riv.\",\"Ariakaduva Riv.\",\"Kabini Riv. trib.\",\"Bhavani Riv. trib.\",\"Ariakaduva Riv. trib.\",\"Cauvery Riv. trib.\",\"Bhavani Riv.\",\"Cauvery Riv. trib.\",\"Tungabhadra Riv. trib.\",\"Swarna Riv. trib.\",\"Valapattanam Riv. trib.\",\"Bharatpuzha Riv. trib.\",\"Bhavani Riv. trib.\",\"Netravati Riv. trib.\",\"Chaliyar Riv. trib.\",\"Netravati Riv. trib.\",\"Swarna Riv. trib.\",\"Cauvery Riv. trib.\",\"Agnashini Riv.\",\"Savannah Riv.\",\"Roanoke Riv.\",\"Chandragiri Riv.\",\"Tungabhadra Riv. trib.\",\"Chaliyar Riv. trib.\",\"Moyar Riv. trib.\",\"Bhavani Riv. trib.\",\"Bharatpuzha Riv. trib.\",\"Chaliyar Riv. trib.\",\"Valapattanam Riv. trib.\",\"Valapattanam Riv. trib.\",\"Swarna Riv.\",\"Kabini Riv. trib.\",\"Chandragiri Riv. trib.\",\"Esla Riv.\",\"Esla Riv.\",\"Kuttiyadi Riv. trib.\",\"Cauvery Riv. trib.\",\"Valapattanam Riv. trib.\",\"Swarna Riv. trib.\",\"Kuttiyadi Riv. trib.\",\"Hemavati Riv.\",\"Cauvery Riv. trib.\",\"Tungabhadra Riv. trib.\",\"Allier Riv.\",\"Esla Riv.\",\"Kuttiyadi Riv. trib.\",\"Sita Riv. trib.\",\"Bhavani Riv. trib.\",\"Mahe Riv.\",\"Valapattanam Riv. trib.\",\"Esla Riv.\",\"Kuttiyadi Riv. trib.\",\"Vltava Riv.\",\"Guadalquivir Riv.\",\"Vltava Riv.\",\"Vltava Riv.\",\"Guadalquivir Riv.\",\"Guadalquivir Riv.\",\"Guadalquivir Riv.\",\"Vltava Riv.\",\"Allier Riv.\",\"Allier Riv.\",\"Allier Riv.\",\"Trinity Riv.\",\"Brazos\",\"Colorado Riv.\",\"Colorado Riv.\",\"Pee Dee Riv.\",\"Savannah Riv.\",\"Wateree Riv.\",\"Neuse Riv.\",\"Oconee Riv.\",\"Pee Dee Riv.\",\"Saluda Riv.\",\"Saluda Riv.\",\"Roanoke Riv.\",\"Dan Riv.\",\"Chattahoochee Riv.\",\"Susquehanna\",\"Susquehanna\",\"Wateree Riv.\",\"Savannah Riv.\",\"Chattahoochee Riv.\",\"Susquehanna\",\"Susquehanna\",\"Neuse Riv.\",\"Susquehanna\",\"Susquehanna\",\"Susquehanna\",\"Susquehanna\",\"Susquehanna\",\"Susquehanna\",\"Susquehanna\",\"Susquehanna\",\"Susquehanna\",\"Susquehanna\",\"Susquehanna\",\"Susquehanna\",\"Susquehanna\",\"Susquehanna\",\"Susquehanna\",\"Susquehanna\",\"Susquehanna\",\"Susquehanna\",\"Susquehanna\",\"Arun tributary\",\"Susquehanna\",\"Susquehanna\",\"Susquehanna\",\"Susquehanna\",\"Susquehanna\",\"Susquehanna\",\"Susquehanna\",\"Susquehanna\",\"Susquehanna\",\"Susquehanna\",\"Susquehanna\",\"Susquehanna\",\"Susquehanna\",\"Susquehanna\",\"Susquehanna\",\"Sub Kosi\",\"Susquehanna\",\"Susquehanna\",\"Susquehanna\",\"Susquehanna\",\"Susquehanna\",\"Susquehanna\",\"Susquehanna\",\"Susquehanna\",\"Susquehanna\",\"Susquehanna\",\"Susquehanna\",\"Susquehanna\",\"Susquehanna\",\"Susquehanna\",\"Susquehanna\",\"Susquehanna\",\"Susquehanna\",\"Susquehanna\",\"Susquehanna\",\"Susquehanna\",\"Tamor\",\"Susquehanna\",\"Susquehanna\",\"Susquehanna\",\"Susquehanna\",\"Susquehanna\",\"Arun tributary\",\"Susquehanna\",\"Susquehanna\",\"Susquehanna\",\"Susquehanna\",\"Susquehanna\",\"Susquehanna\",\"Susquehanna\",\"Susquehanna\",\"Susquehanna\",\"Susquehanna\",\"Susquehanna\",\"Susquehanna\",\"Susquehanna\",\"Susquehanna\",\"Susquehanna\",\"Susquehanna\",\"Susquehanna\",\"Susquehanna\",\"Susquehanna\",\"Susquehanna\",\"Susquehanna\",\"Arun\",\"Arun\",\"Arun\",\"Arun\",\"Arun\",\"Arun\",\"Arun\",\"Arun tributary\",\"Arun tributary\",\"Arun tributary\",\"Arun tributary\",\"Arun tributary\",\"Teno\",\"Arun tributary\",\"Choapa\",\"Choapa\",\"Maipo\",\"Arun tributary\",\"San Andres\",\"Choapa\",\"Huasco\",\"Arun tributary\",\"Elqui\",\"Elqui\",\"Huasco\",\"Arun tributary\",\"Maule\",\"Cachapoal\",\"Aconcagua\",\"Arun tributary\",\"Choapa\",\"Arun tributary\",\"Arun tributary\",\"Arun tributary\",\"Arun tributary\",\"Lontue\",\"Tingirririca\",\"Illapel\",\"Arun tributary\",\"Arun tributary\",\"Arun tributary\",\"Arun tributary\",\"Arun tributary\",\"Arun tributary\",\"Arun tributary\",\"Arun tributary\",\"Arun tributary\",\"Huasco\",\"Huasco\",\"Hurtado\",null,null,null,null,null,null,null,null,null,null,null,null,null,null,\"Rio Juramento\",\"Rio Calchaquies\",\"Rio Santa Maria\",\"Rio Grande\",\"Rio Grande\",null,\"Rio San Lorenzo\",\"Rio Sali\",\"Rio San Bernardo de las Zorras\",\"Rio Calchaquies\",\"Rio Ledesma\",\"Rio Luracatao\",\"Rio Tacuil\",\"Rio Toro\",\"Rio Yacoraite\",\"Iturbe\",\"Rio Wierna\",\"Rio Alumbrera\",\"Rio Toro\",\"Quebrada de Escoipe\",\"Quebrada de Escoipe\",\"Rio Lavina\",\"Rio Blanco\",\"Rio Aimacha\",\"Rio Lavina\",\"Rio Cachuma\",\"Quebrada Incamayo\",\"Rio Caldera\",\"Rio de las Conchas\",\"Dadu\",\"Yalong\",\"Rio Potrero\",\"Rio Sta Victoria\",\"Quebrada Lampazar\",\"Rio Vaqueros\",null,\"Rio Iruya\",\"Rio Famailla\",\"Rio Afluente\",\"Yalong\",\"Rio Susa\",\"Yalong\",\"Rio Salinas\",\"A del Medio\",null,\"Rio San Antonio\",\"Salinas Grandes\",\"Min\",\"Circle End Crk.\",\"Dadu\",\"Silver Crk.\",null,\"Yalong\",null,\"Dadu\",\"Horse Crk.\",\"Yalong\",\"Yalong\",\"Dadu\",\"Silver Crk.\",\"Dadu\",\"Horse Crk.\",\"Dadu\",\"Horse Crk.\",\"Yalong\",\"Yalong\",\"Dadu\",\"Selway\",\"Lochsa\",\"Clearwater\",\"Yalong\",\"Horse Crk.\",\"Yalong\",\"Tailholt Crk.\",\"Yalong\",\"Circle End Crk.\",\"Yalong\",\"Circle End Crk.\",null,\"Yalong\",\"Tailholt Crk.\",null,\"Dadu\",\"Dadu\",\"Yalong\",\"Silver Crk.\",null,\"Yalong\",\"Tailholt Crk.\",\"Horse Crk.\",\"Dadu\",\"Min\",\"Dadu\",\"Yalong\",null,\"Yalong\",\"Dadu\",\"Yalong\",\"Anning\",\"Dadu\",\"Dadu\",\"Dadu\",\"Dadu\",\"Dadu\",\"Dadu\",\"Dadu\",\"Dadu\",\"Yalong\",\"Dadu\",\"Dadu\",\"Dadu\",\"Yalong\",\"Min\",\"Yalong\",\"Dadu\",\"Dadu\",\"Yalong\",\"Dadu\",\"Dadu\",\"Dadu\",\"Yalong\",\"Dadu\",\"Dadu\",\"Yalong\",\"Min\",\"Horse Crk.\",\"Dadu\",\"Dadu\",\"Tailholt Crk.\",\"Min\",\"Dadu\",\"Dadu\",\"Dadu\",\"Dadu\",\"Dadu\",\"Salmon\",\"Johns Crk.\",null,\"Red\",\"Horse Crk.\",\"Silver Crk.\",\"Red\",\"Silver Crk.\",null,\"Trapper Crk.\",\"Horse Crk.\",\"Horse Crk.\",\"Horse Crk.\",\"Silver Crk.\",\"Horse Crk.\",null,null,null,null,null,null,null,null,null,null,null,null,null,null,null,null,null,null,null,null,null,null,null,null,null,null,null,null,null,null,null,null,null,null,null,null,null,null,null,null,null,null,null,null,null,null,null,null,null,null,null,null,null,null,null,null,null,null,null,null,\"Kuiseb\",null,null,null,null,\"San Juan\",\"Ugab\",\"Las Minas\",\"Gallegos\",\"Brazo Sur\",\"Coyle\",\"Santa Cruz\",\"La Leona\",\"Paine\",null,\"Omaruru\",null,\"Gaub\",\"Sogamoso Riv.\",\"Sogamoso Riv.\",\"Sogamoso Riv.\",\"Guayuriba Riv.\",\"Sogamoso Riv.\",\"Guayuriba Riv.\",\"Turmeque Riv.\",\"Suarez Riv.\",\"Guayuriba Riv.\",\"Turmeque Riv.\",\"Guayuriba Riv.\",\"Turmeque Riv.\",\"Bhudi Gandaki\",\"Trishuli Riv.\",\"Trishuli Riv.\",\"Bhudi Gandaki\",\"Trishuli Riv.\",\"Guayuriba Riv.\",\"Turmeque Riv.\",\"Traka Riv.\",\"Olifants Riv.\",\"Suarez Riv.\",\"Keurbooms Riv.\",\"Keurbooms Riv.\",\"Marshyangdi\",\"Guayuriba Riv.\",\"Tama Koshi\",\"Sunkoshi\",\"Bhote Koshi\",\"Tati\",\"Bogota Riv.\",\"Lothar Khola\",\"Chilime Khola\",\"Phalakhu Khola\",\"Bogota Riv.\",null,null,null,\"Bogota Riv.\",null,null,null,null,\"Santa Maria Riv.\",\"Guayuriba Riv.\",null,null,\"Bogota Riv.\",\"Ganges\",\"Ganges\",\"Alaknanda\",\"Bhagirathi\",\"Alaknanda\",\"Bogota Riv.\",\"Baviaanskloof Riv.\",\"Turmeque Riv.\",null,null,\"Grool Riv.\",\"Kouga Riv.\",\"Krom Riv.\",\"Trishuli Riv.\",\"Trishuli Riv.\",\"Trishuli Riv.\",\"Trishuli Riv.\",\"Jhikhu Khola\",null,\"Yarsha Khola\",null,null,null,null,null,\"Samari Khola\",null,null,null,\"Trishuli Khola\",null,\"Changuanolo Riv.\",\"San Pablo Riv.\",\"Bamdang Khola\",null,null,null,null,null,null,\"Phenglung Khola\",null,null,null,\"Phenglung Khola\",\"Arkhet Khola\",null,null,null,null,null,\"Alaknanda\",null,null,null,\"Tabasar Riv.\",null,\"Quiquibey\",null,\"Saddle stream\",null,null,\"Inicua\",null,null,null,\"Saipuru\",null,null,null,null,null,null,\"Puerco\",null,null,\"Niwot Ridge talus\",null,null,null,null,null,null,null,null,null,null,null,null,\"Gordon Golch, lower\",null,null,null,null,null,null,null,null,null,null,null,null,null,null,null,null,null,null,null,null,\"Boulder Crk. trib.\",null,null,\"Boulder Crk. trib.\",\"Puerco\",null,null,null,null,null,null,null,null,null,\"Chagres\",null,\"Corotu Riv.\",null,null,null,null,\"Cobre Riv.\",\"Boulder Crk. trib.\",\"Indio Riv.\",\"Puerco\",\"Chico Riv.\",\"Guarumo Riv.\",\"Pequini\",\"Vigui Riv.\",\"Caimito Riv.\",\"Mandingo Riv.\",\"Pacora Riv.\",\"Government Slide\",\"Felix Riv.\",\"Diablo Riv.\",\"Chame Riv.\",\"San Miguel Riv.\",\"Pequini Riv.\",\"Rohalo Riv.\",\"Cuango\",\"Chiriqui Viejo Riv.\",\"Puerco\",\"Cuango Riv.\",\"Pequini\",\"Carti Grande Riv.\",\"Boqueron Riv.\",\"Puerco\",\"Anton Riv.\",\"La Gloria Riv.\",\"Puerco\",\"Perequite Riv.\",\"Bartolo Riv.\",\"North Crow Crk.\",\"Nombre de Dios Riv.\",\"Chagres Riv.\",\"Guanabano Riv.\",\"Nombre de Dios\",\"Guias Riv.\",\"Culebra Riv.\",\"Capira Riv.\",\"San Cristobal Riv.\",\"Chagres\",\"Sajlices Riv.\",\"Boulder Crk. trib.\",\"Willow Crk. trib\",\"Middle Bear Crk.\",\"Stinking Crk.\",\"Agate Crk.\",\"Braidon (Bratten) Crk.\",\"South Scotts Bluff\",\"South Bridgeport\",\"Medicine Bow Peak #2\",\"Heather Crk.\",\"Muddy Crk.\",\"Pawnee National Grasslands\",\"Jimmy Crk.\",\"Skull Crk.\",\"Puerco\",\"Floyd Crk.\",\"Young Gulch\",\"Spring Crk. #1\",\"Spring Crk. #2\",\"Lost Crk.\",\"Long Gulch\",\"Lake Catamount\",\"Lily Mtn\",\"Lily Mtn area\",\"Willow Crk.\",\"Little Thompson Riv. trib.\",\"SawmillTrib. Gulch, Willow Cr.\",\"Deadman Gulch\",\"Pole Crk.\",\"Puerco\",\"Lawson Crk.\",\"Ironclad Gulch\",\"Todd Crk.\",\"Niwot Ridge stream\",\"Martinelli stream\",\"Long Gulch\",\"Spring Crk., trib.Beaver\",\"Arkansas Crk. trib.gulch,Fourmile\",\"Fourmile trib; from Sugarloaf\",\"Arapaho moraine\",\"Puerco\",\"Williams Crk.\",\"Calhoun Gulch\",\"Boulder Crk. trib.\",\"Pole Crk. #2\",\"Forsythe Crk.\",\"Puerco\",\"Tungsten Gulch\",\"Eldora moraines\",\"Deer Crk.\",\"Puerco\",\"Cottonwood Gulch\",\"Elk Crk.\",\"Ironclads\",\"Arikaree talus\",\"Gordon Golch, upper\",\"Boulder Crk. trib.\",\"Guinn Mtn.\",\"Kenya Rift, central\",\"Kenya Rift, central\",\"Kenya Rift, northern\",\"Kenya Rift, southern\",\"Kenya Rift, northern\",\"Kenya Rift, northern\",\"Kenya Rift, southern\",\"Puerco\",\"Kenya Rift, northern\",\"Kenya Rift, central\",\"Kenya Rift, southern\",\"Kenya Rift, central\",\"Kenya Rift, northern\",\"Kenya Rift, northern\",\"Kenya Rift, northern\",\"Kenya Rift, central\",\"Kenya Rift, central\",\"Kenya Rift, central\",\"Banado\",\"Quiquibey\",\"Kenya Rift, central\",\"Kenya Rift, central\",\"Kenya Rift, central\",\"Parapeti\",\"Azero\",\"Azero\",\"Nancahuazu\",\"Cachu Mayu\",\"Charagua\",\"Charagua\",\"Zapaltar\",\"Iviyeca\",\"Yucumo\",\"Canas\",\"Puerco\",\"Puerco\",\"Saladille\",\"Canas\",\"Puerco\",\"Pequende\",\"Pequende\",\"Bateon\",\"El Chaleno\",\"Puerco\",\"Puerco\",\"Puerco\",\"Puerco\",\"Puerco\",\"Puerco\",\"Puerco\",\"Puerco\",\"Puerco\",\"Puerco\",\"Puerco\",\"Puerco\",\"Puerco\",\"Puerco\",\"Puerco\",\"Puerco\",\"Puerco\",\"Puerco\",\"Puerco\",\"Puerco\",\"Puerco\",\"Puerco\",\"Songpan Ganzi\",\"Songpan Ganzi\",\"Songpan Ganzi\",\"Songpan Ganzi\",\"Songpan Ganzi\",\"Songpan Ganzi\",\"Songpan Ganzi\",\"Songpan Ganzi\",\"Melezza\",\"Songpan Ganzi\",\"Songpan Ganzi\",\"Songpan Ganzi\",\"Songpan Ganzi\",\"Songpan Ganzi\",\"Songpan Ganzi\",\"Songpan Ganzi\",\"Songpan Ganzi\",\"Songpan Ganzi\",\"Songpan Ganzi\",\"Songpan Ganzi\",\"Songpan Ganzi\",\"Sense\",\"Songpan Ganzi\",\"Songpan Ganzi\",\"Songpan Ganzi\",\"Songpan Ganzi\",\"Songpan Ganzi\",\"Songpan Ganzi\",\"Songpan Ganzi\",\"Songpan Ganzi\",\"Songpan Ganzi\",\"Songpan Ganzi\",\"Songpan Ganzi\",\"Songpan Ganzi\",\"Upper Indus\",\"Chietalbach\",\"Songpan Ganzi\",\"Upper Indus\",\"Las Gallegas\",\"Upper Indus\",\"Upper Indus\",\"Upper Indus\",\"Upper Indus\",\"Upper Indus\",\"Yapatera\",\"Upper Indus\",\"Upper Indus\",\"Upper Indus\",\"Upper Indus\",\"Upper Indus\",\"Upper Indus\",\"Upper Indus\",\"Piura\",\"Piura\",\"Piura\",\"Upper Indus\",\"Upper Indus\",\"Upper Indus\",\"Piura\",\"Yapatera\",\"Yapatera\",\"Yapatera\",\"Upper Indus\",\"Las Gallegas\",\"Maggia\",\"Upper Indus\",\"Maggia\",\"Upper Indus\",\"Upper Indus\",\"Upper Indus\",\"Centovalli\",\"Upper Indus\",\"Yapatera\",\"Upper Indus\",\"Yapatera\",\"Lonza\",\"Upper Indus\",\"Yapatera\",\"Las Gallegas\",\"Upper Indus\",\"Upper Indus\",\"Las Gallegas\",\"Upper Indus\",\"Las Gallegas\",\"Upper Indus\",null,\"Upper Indus\",\"Yapatera\",\"Puna Tsang Chu\",\"Upper Indus\",\"Upper Indus\",\"Las Gallegas\",\"Puna Tsang Chu\",\"Upper Indus\",\"Las Gallegas\",\"Yapatera\",\"Puna Tsang Chu\",\"Puna Tsang Chu\",\"Las Gallegas\",\"Yapatera\",\"Puna Tsang Chu\",\"Puna Tsang Chu\",null,\"Las Gallegas\",\"Las Gallegas\",\"Yapatera\",\"Puna Tsang Chu\",null,null,null,null,\"Puna Tsang Chu\",null,null,null,null,null,null,null,null,\"Puna Tsang Chu\",null,null,null,null,null,null,null,null,null,null,null,null,null,null,null,null,null,null,\"Melezza\",null,null,null,null,null,null,\"Melezza\",\"Anza\",null,null,null,null,null,null,null,null,\"Verzasca\",\"Verzasca\",null,\"Emme\",\"Reuss\",\"Reuss\",\"Sesia\",\"Maggia\",\"Maggia\",\"Kleine Emme\",\"Kleine Emme\",\"Toce\",\"Toce\",\"Ticino\",\"Ticino\",\"Maggia\",null,null,\"Maggia\",\"Puna Tsang Chu\",\"Tafersbach\",\"Choshui Riv.\",\"Choshui Riv.\",\"Maggia\",\"Liechtguetbach\",\"Furkareuss\",\"Maggia\",\"Buetschelback\",\"Liechtguetbach\",\"Puna Tsang Chu\",\"Puna Tsang Chu\",\"Maggia\",\"Maggia\",\"Puna Tsang Chu\",\"Puna Tsang Chu\",\"Puna Tsang Chu\",\"Buetschelback\",\"Maggia\",\"Milibach\",\"Puna Tsang Chu\",\"Puna Tsang Chu\",\"Wu Riv.\",\"Puna Tsang Chu\",\"Tajia Riv.\",\"Puna Tsang Chu\",\"Puna Tsang Chu\",\"Puna Tsang Chu\",\"Puna Tsang Chu\",\"Hsinwulu Riv.\",\"Puna Tsang Chu\",\"Puna Tsang Chu\",\"Hsinwulu Riv.\",\"Puna Tsang Chu\",\"Puna Tsang Chu\",\"Puna Tsang Chu\",\"Puna Tsang Chu\",\"Laonong Riv.\",\"Puna Tsang Chu\",\"Puna Tsang Chu\",\"Puna Tsang Chu\",\"Puna Tsang Chu\",\"Puna Tsang Chu\",\"Puna Tsang Chu\",\"Puna Tsang Chu\",\"Puna Tsang Chu\",\"Puna Tsang Chu\",\"Puna Tsang Chu\",\"Puna Tsang Chu\",\"Puna Tsang Chu\",\"Puna Tsang Chu\",\"Huasco Valley\",\"Huasco Valley\",\"Puna Tsang Chu\",\"Puna Tsang Chu\",\"Puna Tsang Chu\",\"Puna Tsang Chu\",\"Puna Tsang Chu\",\"Puna Tsang Chu\",\"Puna Tsang Chu\",\"Puna Tsang Chu\",\"Koralpe Mts.\",\"Koralpe Mts.\",\"Murz Valley\",\"Murz Valley\",\"Huasco Valley\",\"Murz Valley\",\"Huasco Valley\",null,\"Seckauer Tauern Mts.\",\"Murz Valley\",\"Seckauer Tauern Mts.\",\"Koralpe Mts.\",\"Seckauer Tauern Mts.\",null,null,\"Seckauer Tauern Mts.\",\"Schladminger Tauern Mts.\",\"Whole Reno basin\",null,\"Schladminger Tauern Mts.\",\"Schladminger Tauern Mts.\",\"Reno Riv., Fontana\",null,\"Schladminger Tauern Mts.\",\"Seckauer Tauern Mts.\",null,null,\"Gleinalpe Mts.\",\"Styrian Basin\",\"Visano Riv., Palazzuolo\",\"Koralpe Mts.\",\"Hsinwulu Riv.\",\"Styrian Basin\",\"Koralpe Mts.\",\"Min Jiang Riv.\",\"Pohorje\",\"Pohorje\",\"Trionto east of Acri\",\"Gleinalpe Mts.\",\"Gleinalpe Mts.\",\"Min Jiang Riv.\",\"Koralpe Mts.\",\"Pohorje\",null,\"Koralpe Mts.\",\"Pohorje\",null,null,\"Spina di Asino Riv., Capp. Niello\",null,null,\"Choshui Riv.\",\"Choshui Riv.\",\"Choshui Riv.\",\"Heping Riv.\",\"Wu Riv.\",\"Luyeh Riv.\",\"Min Jiang Riv.\",\"Luyeh Riv.\",\"Min Jiang Riv.\",\"Liwu Riv.\",\"Marsyandi\",\"Luyeh Riv.\",\"Foresta Riv., Magisano\",\"Tajia Riv.\",\"Marsyandi\",\"Tajia Riv.\",\"Marsyandi\",\"Mugua Riv.\",\"Trionto tributary Riv., Serra San angelo\",\"Mugua Riv.\",\"Lese Riv., Vivaio\",\"Wu Riv.\",\"Rangit\",\"Tista\",\"Wu Riv.\",null,\"Hsinwulu Riv.\",\"Tista\",\"Zemu\",\"Hsinwulu Riv.\",null,\"Hsinwulu Riv.\",\"Mugua Riv.\",\"Liwu Riv.\",\"Wu Riv.\",\"Liwu Riv.\",\"Liwu Riv.\",\"Tajia Riv.\",\"Tajia Riv.\",\"Lachung\",\"Laonong Riv.\",\"Wu Riv.\",null,null,null,null,null,null,\"Southern Mpanga\",null,null,\"Nyamagasani\",\"Marsyandi\",null,null,\"Weiyuan\",null,null,null,\"Nankai\",\"Weiyuan\",\"Weiyuan\",null,null,null,\"Weiyuan\",null,null,null,\"Nar\",null,null,\"Huasco Valley\",null,null,\"Huasco Valley\",\"Huasco Valley\",\"Huasco Valley\",\"Setta Riv., Piccolo Paradiso\",\"Marsyandi\",\"Sambro Riv., Rioveggio\",\"Senio Riv., Palazzuolo\",\"Lese Riv., Acerenti\",\"San Pasquale Riv., Palizzi\",\"Montone Riv., Davadola\",\"Darondi\",\"Lamone Riv., San Eufemia\",\"San Pasquale Riv., Palizzi\",\"Reno Riv., Poretta Terme\",\"Ortiano Riv., Puntadora\",\"Senio Riv., Casola Valsenio\",\"Laurenzana Riv., Mt. Colonia\",\"Senio Riv., Casola Valsenio\",\"Laurenzana Riv., Mt. Colonia\",\"Laurenzana Riv., Bocchigliero\",\"Trionto Riv., Puntadura\",\"Simeri Riv., Vincolise\",\"Pagliara Riv., Pagliara\",\"Torno Riv., Bruzzano Zeffirio\",\"Lamone Riv., Biforco\",\"Alli Riv., Taverna\",\"Simeri tributary Riv., Zagarise\",\"Trionto Riv., Serra San angelo\",\"Crocchio Riv., Cuturella\",\"Darondi\",\"Limentra di Samb Riv., Taviano\",\"Crocchi Riv., Cerva\",\"Cino Riv., Serra Castagna\",\"Lepre Riv., Bagni de Repole\",\"Fiumedinisi Riv., Nizza di Sicilia\",\"San Elia Riv., Pentedatillo\",\"Marsyandi\",\"Limetrella di Treppio Riv., Treppio\",\"Montone Riv., San Benedetto\",\"Alli above Lake Passante\",\"Tacina Riv., Monte Gariglione\",\"Tista\",\"Talong\",\"Rang Rang\",null,\"Rangpo\",\"Dura\",\"Wasa\",\"Northern Mpanga\",\"Ruimi\",\"Mubuku\",\"Lubilia\",\"Nyamwamba\",\"Dudh\",\"Dordi\",\"Rutoba\",\"Chepe\",\"Isebo\",\"Nyadi\",\"Upper Lubilia\",\"Chudi\",\"Takase Riv.\",\"Rugo\",\"Dunga\",\"Pardo Pequeno\",\"Tomioka Riv.\",\"Mahoma\",\"Humiya\",\"Nankai\",\"Sempaya\",\"Itojo\",\"Weiyuan\",\"Weiyuan\",\"Weiyuan\",\"Weiyuan\",\"Weiyuan\",\"Nankai\",\"Weiyuan\",\"Weiyuan\",\"Weiyuan\",\"Weiyuan\",\"Weiyuan\",\"Weiyuan\",\"Weiyuan\",\"Yongchun\",\"Nankai\",\"Weiyuan\",\"Ide Riv.\",\"Nankai\",\"Weiyuan\",\"Nankai\",\"Weiyuan\",\"Yongchun\",\"Weiyuan\",\"Yongchun\",\"Nankai\",\"Nankai\",\"Nankai\",\"Yongchun\",\"Weiyuan\",\"Weiyuan\",\"Yongchun\",\"Yongchun\",\"Nankai\",\"Yongchun\",\"Yongchun\",\"Weiyuan\",null,\"Yongchun\",\"Nankai\",\"Yongchun\",\"Nankai\",null,\"Nankai\",\"Nankai\",\"Nankai\",\"Yongchun\",\"Yongchun\",null,\"Weiyuan\",\"Yongchun\",null,null,null,\"Mohne\",null,null,null,null,null,null,null,null,null,\"Sutlej Riv.\",\"Sutlej Riv.\",\"Sutlej Riv.\",\"Sutlej Riv.\",\"Sutlej Riv.\",null,\"Sutlej Riv.\",\"Sutlej Riv.\",\"Sutlej Riv.\",null,\"Sutlej Riv.\",\"Sutlej Riv.\",\"Tons Tributaries\",null,\"Sutlej Riv.\",\"Sutlej Riv.\",null,\"Sutlej Riv.\",\"Yamuna Catchment\",\"Yamuna Catchment\",\"Yamuna Catchment\",\"Yamuna Catchment\",\"Yamuna Catchment\",\"Tons Tributaries\",\"Yamuna Catchment\",\"Ikopa\",\"Tons Tributaries\",null,\"Pabbar Tributaries\",\"Yamuna Tributaries\",\"Onibe\",\"Yamuna Tributaries\",\"Tons Tributaries\",\"Yamuna Tributaries\",\"Yamuna Tributaries\",\"Pabbar Tributaries\",\"Yamuna Tributaries\",null,null,\"Tons Tributaries\",\"Yamuna Tributaries\",\"Yamuna Tributaries\",\"Pabbar Tributaries\",\"Yamuna Tributaries\",\"Tons Tributaries\",\"Yamuna Tributaries\",\"Tons Tributaries\",null,\"Min Jiang Riv.\",null,\"Min Jiang Riv.\",null,null,\"Min Jiang Riv.\",\"Min Jiang Riv.\",\"Min Jiang Riv.\",\"Min Jiang Riv.\",\"Min Jiang Riv.\",\"Marsyandi\",\"Marsyandi\",\"Marsyandi\",\"Marsyandi\",\"Marsyandi\",\"Marsyandi\",\"Marsyandi\",\"Marsyandi\",\"Marsyandi\",\"Marsyandi\",\"Khudi\",\"Dona\",\"Paudi\",\"Jequitinhonha\",\"Pardo Grande\",\"Cipo\",\"Preto de Cima\",\"Guil\",\"Peixe\",\"Mascates\",\"Jequitinhonha\",\"Bandeirinhas\",null,\"Bocaina\",\"Guil\",\"Pedras\",\"Guil\",\"Tijucal\",null,\"Bocaina\",null,\"Capivara\",\"Canudos\",\"Tanque\",\"Pasmar\",\"Preto\",\"Areia\",\"Mohne\",\"Mata Cavalos\",\"Paute Riv.\",\"Congonhas\",\"Paute Riv.\",\"Indequice\",\"Picao\",\"Lavrinha\",\"Santana\",\"Begonias\",\"Con?ns\",\"Paute Riv.\",null,\"Paute Riv.\",\"Paute Riv.\",null,\"Paute Riv.\",\"Paute Riv.\",\"Paute Riv.\",\"Paute Riv.\",\"Paute Riv.\",\"Paute Riv.\",\"Paute Riv.\",\"Paute Riv.\",null,\"Paute Riv.\",\"Paute Riv.\",\"Paute Riv.\",\"Paute Riv.\",\"Paute Riv.\",\"Paute Riv.\",\"Paute Riv.\",null,\"Paute Riv.\",\"Paute Riv.\",\"Paute Riv.\",\"Paute Riv.\",\"Paute Riv.\",\"Paute Riv.\",\"Paute Riv.\",\"Paute Riv.\",\"Paute Riv.\",\"Paute Riv.\",\"Paute Riv.\",\"Paute Riv.\",\"Paute Riv.\",\"Paute Riv.\",null,\"Paute Riv.\",\"Paute Riv.\",null,\"Paute Riv.\",\"Paute Riv.\",\"Paute Riv.\",null,null,null,null,\"Mohne\",null,null,\"San Gregorio Crk.\",null,null,null,null,null,null,null,null,null,null,null,null,null,null,null,null,\"San Lorenzo Riv.\",null,null,null,null,null,null,null,null,null,null,null,null,null,null,null,null,null,null,null,null,null,null,null,null,null,null,null,null,null,null,null,null,\"Ruisseau le Remous\",null,\"Torrent le Doron de Champagny\",null,\"L Arc\",\"Ruisseau de la Balme\",\"Torrent le Ponturin\",\"Ruisseau de la Freche\",\"Torrent le Ponturin\",\"Torrent du Pussy\",\"Torrent le Veyton\",\"Torrent le Bens\",\"Torrent de la Gruvaz\",\"Lluta\",\"Lluta\",\"Lluta\",\"Lluta\",\"Lluta\",\"Lluta\",\"Lluta\",\"Lluta\",\"Waddell Crk.\",null,null,null,null,null,null,null,null,null,null,null,null,null,null,null,\"Rio Cacatu\",null,null,null,null,null,null,null,null,null,null,\"Rapid Crk.\",null,null,null,null,null,\"Whataroa Riv.\",\"Docherty Crk.\",\"Fox Riv.\",null,\"Hokitika Riv.\",\"Whataroa Riv.\",\"Karangaru Riv.\",\"Purmamarca Riv.\",null,null,null,\"Nwaswitshaka\",null,null,null,null,\"Haragama\",\"Nilambe\",null,null,null,\"Minipe\",\"Victoria\",\"Peradeniya\",\"Rio Bonito\",\"Uma\",\"Atabage\",\"Belihul\",\"Huluganga\",\"Maha\",\"Rio do Nunes\",\"Uma\",\"Belihul\",\"Huluganga\",null,\"Uma\",\"Atabage\",\"Maha\",\"Nilambe\",\"Maha\",null,\"Tilcara Riv.\",\"Tilcara Riv.\",null,\"Tilcara Riv.\",\"Tilcara Riv.\",\"Tilcara Riv.\",\"Rio Sao Joao\",\"Tilcara Riv.\",\"Huacalera Riv.\",\"Wutach\",\"Huacalera Riv.\",\"Tumbaya Riv.\",\"Tumbaya Riv.\",\"Tumbaya Riv.\",null,\"Tumbaya Riv.\",\"Tumbaya Riv.\",null,\"Purmamarca Riv.\",\"Purmamarca Riv.\",\"Purmamarca Riv.\",null,\"Purmamarca Riv.\",\"Yacoraite Riv.\",\"Yacoraite Riv.\",\"Yacoraite Riv.\",\"Romanche\",\"Drac\",\"Veneon\",\"Bonne\",\"Romanche\",\"Severaisse\",\"Bonne\",\"Gyr\",\"Roizonne\",\"Uttarakhand\",\"Saint Pierre\",\"Uttarakhand\",\"Celse Niere\",\"Tabuc\",null,\"Uttarakhand\",\"Uttarakhand\",\"Uttarakhand\",\"Uttarakhand\",\"Uttarakhand\",\"Uttarakhand\",\"Uttarakhand\",null,\"Uttarakhand\",null,\"Uttarakhand\",\"Uttarakhand\",\"Uttarakhand\",null,null,null,null,null,null,null,null,null,null,null,null,null,null,null,null,null,null,null,null,null,null,null,null,null,null,null,null,null,null,null,null,\"Caspar Crk.\",null,null,null,null,null,null,null,null,null,null,null,null,null,null,null,null,null,null,null,null,null,null,null,\"Rhone Riv., lower\",null,null,null,null,null,null,null,null,\"Siloweni Riv.\",null,null,null,null,\"Rhone Riv., lower\",null,null,null,null,\"Zielbach catchment\",null,null,\"Oconaluftee\",null,null,\"Wutach\",null,null,\"Ledge Crk.\",null,null,null,null,null,null,null,null,null,null,null,null,null,null,null,null,null,null,\"Zielbach catchment\",\"Nhlanganini Riv.\",null,null,null,\"Ledge Crk.\",null,null,null,null,\"Newu Riv.\",null,null,null,null,null,null,null,\"Little\",null,null,null,null,null,\"Motueka Riv.\",\"Little\",\"Baragoi Riv.\",\"Motueka Riv.\",\"Little\",\"Motueka Riv.\",\"Motueka Riv.\",\"Motueka Riv.\",\"Motueka Riv.\",\"Straight Fork\",\"Motueka Riv.\",\"Parsons Branch\",\"Motueka Riv.\",\"Montone\",\"Lamone\",\"Senio\",\"Senio\",\"Oconaluftee\",\"Fiumedinisi\",\"Little\",\"Wutach\",\"Lamone\",\"Little\",\"Torno\",\"Little\",\"Phugwane\",\"Senio\",\"Montone\",\"San Elia\",\"San Pasquale\",\"Pagliara\",\"Oconaluftee\",\"Oconaluftee\",\"Oconaluftee\",\"Oconaluftee\",\"Oconaluftee\",\"San Pasquale\",\"Visano\",\"Oconaluftee\",\"Oconaluftee\",\"Raven Fork\",\"Oconaluftee\",\"Abrams Crk.\",\"Nsikazi\",\"Little\",\"Oconaluftee\",\"Cataluchee\",\"Little\",\"Wutach\",\"Oconaluftee\",\"Oconaluftee\",\"Middle Prong\",\"Little\",\"Nwaswitshaka\",\"Little Pigeon\",\"Oconaluftee\",\"Crocodile Riv.\",\"Hazel Crk.\",\"Little\",\"Ledge Crk.\",\"Deep Crk.\",\"Nolan Crk.\",\"Little\",\"Bunches Crk.\",\"Little\",\"Twenty Mile\",\"Little\",\"Raven Fork\",\"Little\",\"Little\",\"Crocodile Riv.\",\"Big Crk.\",\"Forney Crk.\",\"Big Crk.\",\"Eagle Crk.\",\"West Prong\",\"Oconaluftee\",\"Raven Fork\",\"Straight Fork\",\"Zielbach catchment\",\"Ledge Crk.\",\"Cosby Crk.\",\"Little\",\"Straight Fork\",\"Straight Fork\",\"Paraitinga Riv.\",\"Paraitinga Riv.\",\"Mambucaba Riv.\",\"Preto Riv.\",\"Grande Riv.\",\"Grande Riv.\",\"Preto Riv.\",\"Preto Riv.\",\"Grande Riv.\",\"Grande Riv.\",\"Paraiba do Sul Riv.\",\"Paraiba do Sul Riv.\",\"Preto Riv.\",\"Mambucaba Riv.\",\"Zielbach catchment\",\"Mambucaba Riv.\",\"Paraiba do Sul Riv.\",\"Paraiba do Sul Riv.\",\"Paraitinga Riv.\",\"Phugwane\",\"Mambucaba Riv.\",\"Preto Riv.\",\"Grande Riv.\",\"Preto Riv.\",\"Grande Riv.\",\"Paraiba do Sul Riv.\",\"Preto Riv.\",\"Mambucaba Riv.\",\"Paraitinga Riv.\",\"Paraitinga Riv.\",\"Grande Riv.\",\"Grande Riv.\",null,null,null,null,null,null,\"Loire Riv.\",null,null,\"Phugwane\",null,\"Rhone Riv., lower\",null,\"Redwood Crk.\",null,\"Redwood Crk.\",null,\"Redwood Crk.\",\"Sierra de las Estancias Mts.\",null,null,\"Redwood Crk.\",\"Caspar Crk.\",\"Caspar Crk.\",\"Caspar Crk.\",\"Caspar Crk.\",\"Caspar Crk.\",\"Loire Riv.\",\"Rhone Riv., lower\",\"Rhone Riv., lower\",\"Rhone Riv., lower\",\"Rhone Riv., lower\",\"Loire Riv.\",null,\"Rhone Riv., lower\",\"Rhone Riv., lower\",\"Rhone Riv., lower\",\"Rhone Riv., lower\",\"Loire Riv.\",\"Rhone Riv., lower\",\"Rhone Riv., lower\",\"Rhone Riv., lower\",null,\"Loire Riv.\",\"Rhone Riv., lower\",\"Rhone Riv., lower\",\"Rhone Riv., lower\",\"Rhone Riv., lower\",\"Rhone Riv., lower\",\"Loire Riv.\",\"Rhone Riv., lower\",\"Rhone Riv., lower\",\"del Valle Riv.\",\"Las Juntas Riv.\",\"Las Burras Riv.\",\"Nsikazi\",\"Huanomil Riv.\",\"Golo Riv.\",\"Golo Riv.\",\"Las Trancas Riv.\",\"Ambato Riv.\",\"Fium Alto Riv.\",\"Casaluna Riv.\",null,\"Bevinco Riv.\",\"Bravona Riv.\",\"Asco Riv.\",\"Casaluna Riv.\",\"Golo Riv.\",\"Tavignano Riv.\",\"Lagani Riv.\",\"Tartagine Riv.\",\"Asco Riv.\",\"Golo Riv.\",\"Phugwane\",\"Nwaswitshaka\",\"Tavignano Riv.\",\"Restonica Riv.\",\"Phugwane\",\"Nwaswitshaka\",\"Nsikazi\",\"Nsikazi\",\"Phugwane\",\"Sierra San Pedro Martir footwall\",\"Sierra San Pedro Martir footwall\",\"Sierra San Pedro Martir footwall\",\"Sierra San Pedro Martir footwall\",\"Sierra San Pedro Martir footwall\",\"Sierra San Pedro Martir footwall\",\"Sierra San Pedro Martir footwall\",\"Sierra San Pedro Martir footwall\",\"Sierra San Pedro Martir footwall\",\"Sierra San Pedro Martir rtir footwall\",\"Sierra San Pedro Martir footwall\",\"Sierra San Pedro Martir footwall\",\"Sierra San Pedro Martir footwall\",\"Sierra San Pedro Martir footwall\",\"Sierra San Pedro Martir footwall\",null,\"Sierra San Pedro Martir footwall\",\"Sierra San Pedro Martir footwall\",\"Sierra San Pedro Martir footwall\",\"Sierra San Pedro Martir footwall\",\"Sierra San Pedro Martir footwall\",\"Sierra San Pedro Martir hanging wall\",\"Sierra San Pedro Martir hanging wall\",\"Sierra San Pedro Martir footwall\",\"Sierra San Pedro Martir footwall\",\"Sierra San Pedro Martir footwall\",\"Sierra San Pedro Martir footwall\",\"Song Gianh Riv.\",null,null,null,null,null,null,null,null,null,null,null,null,null,null,null,null,null,null,null,null,null,null,null,null,null,null,null,\"Peradeniya\",\"Atabage\",\"Atabage\",\"Atabage\",\"Atabage\",null,\"Peradeniya\",\"Peradeniya\",\"Peradeniya\",\"Atabage\",null,null,null,null,null,null,null,null,null,null,null,null,null,null,null,null,null,null,\"Bhagirathi Riv.\",\"Bhagirathi Riv.\",\"Bhagirathi Riv.\",\"Bhagirathi Riv.\",\"Bhagirathi Riv.\",\"Bhagirathi Riv.\",\"Alaknanda Riv.\",\"Alaknanda Riv.\",\"Sao Fransico Riv.\",\"Sao Fransico Riv.\",\"Nam Co\",\"Doce Riv.\",\"Doce Riv.\",\"Doce Riv.\",\"Doce Riv.\",\"Indus Riv., upper\",\"Doce Riv.\",\"Sao Fransico Riv.\",\"Doce Riv.\",\"Tso Kar lake\",\"Paraiba do Sul Riv.\",\"Doce Riv.\",\"Paraiba do Sul Riv.\",\"Doce Riv.\",\"Paraiba do Sul Riv.\",\"Paraiba do Sul Riv.\",\"Paraiba do Sul Riv.\",\"Tsomoriri lake\",\"Doce Riv.\",\"Paraiba do Sul Riv.\",\"Doce Riv.\",\"Nam Co\",\"Nam Co\",\"Nam Co\",\"Nam Co\",\"Nam Co\",\"Nam Co\",\"Nam Co\",\"Tsomoriri lake\",\"Nam Co\",\"Nam Co\",\"Nam Co\",\"Nam Co\",null,\"Nam Co\",\"Nam Co\",\"Tsomoriri lake\",null,null,\"Gaub\",\"Gaub\",\"Gaub\",\"Gaub\",null,\"Gaub\",null,\"Gaub\",null,\"Gaub\",null,null,null,null,null,null,null,null,\"Sierra de las Estancias Mts.\",null,null,null,null,null,null,null,null,null,null,null,null,null,null,null,null,null,null,null,null,null,null,null,null,null,\"Sierra de las Estancias Mts.\",null,null,null,null,null,null,null,null,null,null,null,\"Paute\",\"Paute\",\"Paute\",\"Paute\",\"Paute\",\"Yuma Wash\",\"Paute\",\"Paute\",\"Drift Crk.\",\"Paute\",\"Paute\",\"Paute\",\"Paute\",\"Paute\",\"Paute\",\"Paute\",\"Paute\",\"Paute\",\"Paute\",\"Seti Riv.\",\"Stairs Gulch\",\"Seti Riv.\",\"Seti Riv.\",\"Seti Riv.\",\"Seti Riv.\",\"Seti Riv.\",\"Coalpit Gulch\",\"Seti Riv.\",\"Lisa Falls\",\"Seti Riv.\",\"Rocky Mouth Crk.\",\"Seti Riv.\",\"Seti Riv.\",null,\"Seti Riv.\",\"Rocky Mouth Crk.\",\"Seti Riv.\",\"Russian Gulch\",\"Seti Riv.\",\"Quebrada\",null,\"Seti Riv.\",\"Seti Riv.\",\"Agua Brava\",\"Seti Riv.\",null,\"Seti Riv.\",\"Holbrook Crk.\",\"Seti Riv.\",\"Seti Riv.\",\"Seti Riv.\",null,\"Seti Riv.\",null,\"Seti Riv.\",null,\"Tanner Gulch\",\"Seti Riv.\",null,\"Gutach\",\"Seti Riv.\",\"Gualala Riv.\",\"Alder Crk.\",\"Moat Crk.\",\"Gualala Riv.\",\"Garcia Riv.\",\"Schooner Gulch\",\"Gualala Riv.\",\"Buckeye Crk.\",\"Rockpile Crk.\",\"Marshall Crk.\",null,\"Gualala Riv.\",null,\"Salinas Grandes\",\"Quebrada\",\"Lanyang\",\"Lanyang\",\"Lanyang\",\"Lanyang\",\"Lanyang\",null,\"Lanyang\",null,null,\"Sechong\",\"Mimoden\",null,null,null,\"Kays Crk.\",\"Centerville Crk.\",\"Holmes Crk.\",\"Ford Canyon\",\"Shepards Crk.\",\"Steed Crk.\",\"Holmes Crk.\",\"Bear Crk.\",\"Gutach\",null,\"Acher\",\"Acher\",\"Acher\",\"Gutach\",\"Gutach\",\"Gutach\",\"Gutach\",\"Acher\",null,\"Gutach\",\"Acher\",\"Gutach\",\"Gutach\",\"Gutach\",\"Acher\",null,\"Acher\",\"Acher\",\"Gutach\",\"Acher\",null,null,null,null,null,null,null,null,null,null,\"Thur\",null,\"Thur\",\"Thur\",\"Thur\",\"Montara Mtn 2\",\"Toess\",\"Toess\",\"Jona\",\"Thur\",\"Toess\",\"Thur\",\"Toess\",\"Toess\",\"Toess\",\"Thur\",\"Toess\",\"Toess\",\"Neqarot Gorge\",\"Neqarot Gorge\",null,\"Neqarot Gorge\",\"Montara Mtn 1\",\"Neqarot Gorge\",\"Feather Riv.\",\"Hadsall Crk.\",\"Smith Riv., upper\",\"Franklin Crk.\",\"Sullivan Crk., north\",\"Sullivan Crk., south\",\"Pilarcitos Crk.\",\"Calhoun Gulch\",\"Purisima Crk.\",\"Lobitos Crk.\",\"Gaub\",\"Tunitas Crk.\",\"El Corte de Madera\",\"San Gregorio Crk.\",\"Gaub\",\"Pomponio Crk.\",\"Peters Crk.\",\"Butano Crk.\",\"Quebrada Veladera\",\"San Lorenzo Crk.\",\"Kings Crk.\",null,\"Bear Crk.\",\"Quebrada Veladera\",\"Zayante Crk.\",\"Bean Crk.\",\"Quebrada Veladera\",\"Soquel Crk.\",\"Gaub\",\"Gaub\",null,\"Quebrada Veladera\",\"Deadman Gulch\",\"Quebrada Veladera\",\"Ironclad Gulch\",\"Feather Riv.\",\"Quebrada Veladera\",\"Quebrada Veladera\",\"Long Gulch\",\"Fourmile trib.\",\"Low. Gordon Gulch\",\"Boulder Creek trib.\",\"Boulder Crk. trib.\",\"Boulder Crk. trib.\",\"Boulder Crk. trib.\",\"Forsythe Crk.\",\"Tungsten Gulch\",\"Up. Gordon Gulch\",\"Wutach\",\"Santa Clara Riv.\",\"Wutach\",\"Santa Clara Riv.\",\"Wutach\",\"Wutach\",\"Wutach\",\"Danube\",\"Danube\",\"Danube\",\"Wutach\",\"Wutach\",\"Danube\",\"Skeerpoort Riv.\",\"Grootvleispruit Riv.\",null,\"Skeerpoort Riv.\",\"Grootvleispruit Riv.\",\"Grootvleispruit Riv.\",\"Feather Riv.\",null,null,null,null,null,null,null,null,null,null,null,null,null,null,null,null,null,null,null,null,null,null,null,null,null,null,\"Hiso Riv.\",\"Nogami Riv.\",\"Takase Riv.\",\"Kido Riv.\",\"Hiso Riv.\",\"Heve\",\"Mohne\",\"Mohne\",\"Mohne\",\"Chagres\",\"Mohne\",\"Aabach\",\"Aabach\",\"Mohne\",\"Chagres\",\"Mohne\",\"Mohne\",\"Chagres\",\"Chagres\",\"Chagres\",\"Chagres\",\"Chagres\",\"Chagres\",\"Pescadero Crk.\",\"Chagres\",\"Chagres\",\"Chagres\",\"Chagres\",\"Chagres\",\"Chagres\",\"Chagres\",\"Chagres\",\"Chagres\",\"Scott Crk.\",\"Rio Mae Catira\",\"Ashima Riv.\",\"Takase Riv.\",\"Rio do Corvo\",\"Rio Taquari\",\"Takase Riv.\",\"Takase Riv.\",\"Rio Taquari\",\"Rio Capivari Mirim\",\"Ashima Riv.\",\"Rio Sao Joao\",\"Takase Riv.\",\"Takase Riv.\",\"Ashima Riv.\",\"Ashima Riv.\",\"Ashima Riv.\",null,\"Ashima Riv.\",\"Ashima Riv.\",\"Ashima Riv.\",\"Ashima Riv.\",\"Ashima Riv.\",\"Aiuruoca Riv.\",\"Khudi Riv.\",\"Khudi Riv.\",\"Khudi Riv.\",\"Khudi Riv.\",\"Khudi Riv.\",\"Para\\u00edba do Sul\",\"Khudi Riv.\",\"Khudi Riv.\",\"Grande Riv.\",\"Khudi Riv.\",\"Khudi Riv.\",\"Khudi Riv.\",\"Aiuruoca Riv.\",\"Khudi Riv.\",\"Khudi Riv.\",\"Khudi Riv.\",\"Para\\u00edba do Sul\",\"Khudi Riv.\",\"Khudi Riv.\",\"Khudi Riv.\",\"Khudi Riv.\",\"Khudi Riv.\",\"Khudi Riv.\",\"Khudi Riv.\",\"Khudi Riv.\",\"Khudi Riv.\",\"Khudi Riv.\",\"Khudi Riv.\",\"Khudi Riv.\",\"Khudi Riv.\",\"Khudi Riv.\",\"Khudi Riv.\",\"Grande Riv.\",\"Para\\u00edba do Sul\",\"Aiuruoca Riv.\",\"Para\\u00edba do Sul\",\"Dreisam Riv.\",\"Dreisam Riv.\",\"Dreisam Riv.\",\"Dreisam Riv.\",\"Dreisam Riv.\",\"Upper Rhone\",\"Dreisam Riv.\",\"Dreisam Riv.\",\"Dreisam Riv.\",\"Dreisam Riv.\",\"Fontanne\",\"Dreisam Riv.\",\"Dreisam Riv.\",\"Dreisam Riv.\",\"Dreisam Riv.\",\"Dreisam Riv.\",\"Yuma Wash\",\"Dreisam Riv.\",\"Upper Rhone\",\"Upper Rhone\",\"Upper Rhone\",\"Yuma Wash\",\"Upper Rhone\",\"Upper Rhone\",\"Upper Rhone\",\"Upper Rhone\",\"Upper Rhone\",null,\"Upper Rhone\",\"Upper Rhone\",\"Upper Rhone\",\"Upper Rhone\",\"Trub\",\"Upper Rhone\",\"Upper Rhone\",\"Upper Rhone\",\"Upper Rhone\",\"Fontanne\",\"Trub\",\"Fontanne\",\"Trub\",\"Fontanne\",\"Sierra de las Estancias Mts.\",\"Fontanne\",\"Fontanne\",\"Fontanne\",\"Fontanne\",\"Fontanne\",\"Trub\",\"Trub\",\"Trub\",\"Diamantina Plateau: overloaded alluvial sediments\",\"Sierra de los Filabres Mts.\",\"Diamantina Plateau: overloaded alluvial sediments\",\"Diamantina Plateau: overloaded alluvial sediments\",\"Diamantina Plateau: overloaded alluvial sediments\",\"Sierra de los Filabres Mts.\",\"Diamantina Plateau: overloaded alluvial sediments\",\"Diamantina Plateau: overloaded alluvial sediments\",\"Diamantina Plateau: overloaded alluvial sediments\",null,\"Diamantina Plateau: overloaded alluvial sediments\",\"Diamantina Plateau: overloaded alluvial sediments\",\"Diamantina Plateau: overloaded alluvial sediments\",\"Diamantina Plateau: overloaded alluvial sediments\",\"Kander Riv., Frutigen\",\"Kander Riv., Frutigen\",\"Kander Riv., Frutigen\",\"Simme Riv., Diemtigen\",\"Kander Riv., Frutigen\",\"Simme Riv., Diemtigen\",\"Simme Riv., Diemtigen\",\"Yuma Wash\",\"Yuma Wash\",\"Yuma Wash\",\"Yuma Wash\",\"Yuma Wash\",\"Yuma Wash\",\"Yuma Wash\",\"Yuma Wash\",\"Yuma Wash\",\"Yuma Wash\",\"Yuma Wash\",\"Yuma Wash\",\"Yuma Wash\",\"Yuma Wash\",\"Yuma Wash\",\"Yuma Wash\",\"Yuma Wash\",\"Yuma Wash\",\"Yuma Wash\",\"Yuma Wash\",\"Yuma Wash\",\"Yuma Wash\",\"Yuma Wash\",\"Yuma Wash\",\"Yuma Wash\",\"Yuma Wash\",\"Yuma Wash\",null,\"Yuma Wash\",\"Yuma Wash\",\"Yuma Wash\",\"Yuma Wash\",\"Yuma Wash\",\"Yuma Wash\",\"Drift Crk.\",\"Drift Crk.\",\"Drift Crk.\",\"Drift Crk.\",\"Drift Crk.\",\"Drift Crk.\",\"Zielbach catchment\",\"Drift Crk.\",\"Drift Crk.\",\"Drift Crk.\",\"Drift Crk.\",\"Zielbach catchment\",\"Drift Crk.\",\"Drift Crk.\",\"Drift Crk.\",\"Zielbach catchment\",\"Zielbach catchment\",\"Zielbach catchment\",\"Zielbach catchment\",\"Zielbach catchment\",\"Zielbach catchment\",\"Zielbach catchment\",\"Zielbach catchment\",\"Zielbach catchment\",\"Zielbach catchment\",null,null,null,null,null,null,null,null,null,null,null,null,null,null,null,null,\"Feather Riv.\",\"Feather Riv.\",\"Feather Riv.\",\"Feather Riv.\",null,\"Feather Riv.\",\"Feather Riv.\",\"Feather Riv.\",\"Feather Riv.\",\"Feather Riv.\",\"Feather Riv.\",\"Takase Riv.\",\"Takase Riv.\",\"Tangra Yum Co Graben\",\"Tangra Yum Co Graben\",\"Tangra Yum Co Graben\",\"Tangra Yum Co Graben\",\"Tangra Yum Co Graben\",\"Tangra Yum Co Graben\",\"Tangra Yum Co Graben\",null,\"Gr. Entlen\",\"Gr. Entlen\",\"Del Medio Riv.\",\"Gr. Entlen\",\"Gr. Entlen\",\"Kl. Entlen\",null,\"Kl. Entlen\",\"Gr. Entlen\",\"Rotbach\",\"Aelleggbach\",\"Gretenbach\",\"Gretenbach\",\"Clearwater\",\"Clearwater\",\"Clearwater\",\"Del Medio Riv.\",\"Clearwater\",\"Clearwater\",\"Clearwater\",\"Clearwater\",null,\"Del Medio Riv.\",\"Del Medio Riv.\",\"Del Medio Riv.\",\"Del Medio Riv.\",null,\"Del Medio Riv.\",\"Del Medio Riv.\",\"Del Medio Riv.\",\"Del Medio Riv.\",\"Fedoz Riv.\",\"Fedoz Riv.\",\"Fedoz Riv.\",\"Fedoz Riv.\",\"Etages\",\"Fedoz Riv.\",\"Fedoz Riv.\",\"Fedoz Riv.\",\"Etages\",\"Fedoz Riv.\",\"Fedoz Riv.\",\"Fedoz Riv.\",\"Fedoz Riv.\",\"Fedoz Riv.\",\"Fedoz Riv.\",\"Fedoz Riv.\",\"Fedoz Riv.\",\"Cascade Canyon\",\"Garnet Canyon\",\"Garnet Canyon\",\"Torrente\",\"Torrente\",\"Torrente\",\"Torrente\",\"Sierra Torrecilla Mts.\",\"Torrente\",\"Torrente\",\"Torrente\",\"Torrente\",\"History Grove\",\"La Jara\",\"Redondo, lower\",\"Jaramillo Crk., Redondo, upper\",\"Song Riv.\",\"Sierra Torrecilla Mts.\",\"Song Riv.\",\"Song Riv.\",\"Song Riv.\",\"Song Riv.\",\"Song Riv.\",\"Song Riv.\",null,null,null,null,null,null,null,null,null,\"Sierra de las Estancias Mts.\",null,null,null,null,null,null,\"Sierra Almagrera Mts.\",\"Sierra de los Filabres Mts.\",\"Sierra de los Filabres Mts.\",\"Sierra de los Filabres Mts.\",\"Sierra de los Filabres Mts.\",null,\"Sierra de los Filabres Mts.\",\"Sierra de los Filabres Mts.\",\"Sierra Cabrera Mts.\",\"Sierra Cabrera Mts.\",\"Sierra Cabrera Mts.\",null,\"Sierra Alhamilla Mts.\",\"Little Lake\",\"Little Lake\",\"Rokko Riv.\",\"Rokko Riv.\",null,\"Rokko Riv.\",\"Rokko Riv.\",\"Rokko Riv.\",\"Rokko Riv.\",\"Rokko Riv.\",null,null,\"Abukuma Riv.\",null,null,null,null,null,null,null,null,\"Abukuma Riv.\",null,\"Abukuma Riv.\",null,null,\"Abukuma Riv.\",null,null,\"Abukuma Riv.\",null,\"Abukuma Riv.\",null,null,\"Abukuma Riv.\",null,null,null,\"Abukuma Riv.\",\"Abukuma Riv.\",\"Maracuja\",null,\"Maracuja\",\"Maracuja\",\"Maracuja\",null,null,\"Cayaguas\",\"Cayaguas\",\"Cayaguas\",\"Cayaguas\",\"Cayaguas\",\"Cayaguas\",\"Cayaguas\",null,null,null,null,null,null,null,null,null,null,null,\"Icacos\",\"Sabana\",null,null,\"Tin Camp Crk.\",\"Suttor Riv., lower\",null,\"Marrangaroo Crk.\",\"Marra Crk.\",\"Burdekin Riv., upper\",null,null,null,\"Tin Camp Crk.\",\"Nunnock Riv.\",\"North Wilkatana\",\"Yudnamutana Crk.\",\"Tin Camp Crk.\",\"Bredbo Riv.\",\"Depot Crk.\",\"South Wilkatana\",\"South Wilkatana\",\"South Wilkatana\",\"Tin Camp Crk.\",\"Tin Camp Crk.\",\"Burdekin Riv., upper\",\"Tin Camp Crk.\",\"Tin Camp Crk.\",\"Tin Camp Crk.\",\"Tin Camp Crk.\",null,null,null,\"Belyando Riv.\",null,null,null,\"Barron Riv.\",\"Barron Riv.\",\"Barron Riv.\",\"Barron Riv.\",\"Barron Riv.\",\"Burdekin Riv., upper\",\"Barron Riv.\",\"Barron Riv.\",\"Barron Riv.\",\"Barron Riv.\",\"Barron Riv.\",\"Burdekin Riv., lower\",\"Barron Riv.\",\"Barron Riv.\",\"Barron Riv.\",\"Barron Riv.\",\"Barron Riv.\",\"Cape Riv.\",\"Suttor Riv., upper\",\"Burdekin Riv., upper\",\"Burdekin Riv., upper\",\"Burdekin Riv., upper\",\"Burdekin Riv., upper\",\"Burdekin Riv., upper\",\"Burdekin Riv., upper\",\"Burdekin Riv., upper\",\"Burdekin Riv., upper\",\"Burdekin Riv., upper\",\"Burdekin Riv., upper\",\"Burdekin Riv., upper\",\"Burdekin Riv., upper\",\"Burdekin Riv., upper\",\"Burdekin Riv., upper\"],\"lat\":[-13.9821079,-15.49666355,-16.26235615,-15.30687926,-16.55033711,-16.55033711,-15.50814438,-15.29711159,-15.38758452,-15.50662363,-15.5025534,-15.76743643,-16.31949366,-16.55316909,-17.05928935,-16.40494132,-15.31112021,-16.06110635,-16.32282507,-16.40159379,-15.40146018,-15.45842455,-16.79985567,-16.79985567,-16.79985567,-16.00134735,-16.41881079,-16.15718735,-16.10627068,-15.37822533,-16.87986617,-16.3568758,-16.04067711,-15.79280025,-16.42865467,47.41908755,47.41908755,-16.31335187,-15.34175381,-16.31074989,-16.77831366,-15.78281829,-16.77831366,47.86982119,-16.80801621,-16.77831366,47.00070454,51.49992999,-16.2802745,-16.77831366,51.49992999,-16.08117096,-15.71302003,-15.66895529,-15.40509522,-15.98132157,-16.3568758,51.28415197,-16.3568758,-16.75177693,51.03319219,-16.75177693,-15.76454019,-15.3467672,51.03319219,51.03319219,46.96082849,50.47198046,46.95001483,46.95001483,49.39654505,46.65141167,46.65141167,49.45008188,49.45008188,49.45008188,46.43554275,46.48677219,49.31006013,49.31006013,50.32174904,49.89632288,46.07474615,45.99790214,45.92295142,49.00396419,45.7449866,45.46204439,49.53530415,48.70372138,48.70372138,49.12142935,46.36444909,49.18061458,46.4961427,45.11677874,45.11677874,46.83669292,45.94363624,49.01461913,49.18690255,-0.879446,-2.370938,49.18690255,-0.734839,-0.635329,49.18690255,47.49156064,25.853247,49.14573812,26.479606,27.229564,27.229564,48.40143813,27.580374,48.39632267,45.66616159,28.017708,25.423591,30.099819,46.51666667,47.03561667,49.01461808,27.354833,48.1791962,-2.479478,-2.393634,-1.778722,-1.024079,44.86669694,44.73165551,49.24280386,49.1712215,-0.978906,46.77114021,49.04826199,48.85373824,49.01073434,47.1380269,49.04826199,49.04826199,46.00583586,45.14568114,-3.500174,-2.904036,-0.449934,-0.481386,27.567922,-0.454251,28.100534,29.606046,-0.463421,30.849429,31.149945,31.149945,-0.345685,26.908662,28.143173,29.584219,31.403771,31.403771,31.149545,31.149545,30.795421,29.545525,29.72974,30.195118,30.067514,29.754672,30.597639,31.584918,31.641653,31.406824,31.685399,31.750994,31.679448,30.039441,28.55613,31.401142,29.772294,31.320586,29.548984,29.856751,29.703799,29.659764,31.687915,29.680638,30.074297,27.235972,-18.91033294,-18.72184261,40.96223309,-18.67026902,-18.60944374,-18.6210644,-18.34941026,-18.52381396,-17.98948975,-18.35618332,-17.7052328,-18.12858814,-17.48697084,-19.09780736,-19.62361882,-18.33273729,-17.9152348,-18.64030711,-19.39862674,-18.69265516,-18.35022612,-18.8444,-18.63936051,-17.81861929,-18.9503777,-17.82776528,-18.63698855,-19.01536979,-17.57278227,-19.61360338,-19.39605818,-18.64192688,-17.82766924,-19.09357367,-18.09529549,-17.5669322,-18.68604982,-18.21957579,-18.60114079,-19.40044584,-17.58273792,-18.10027973,-18.10104835,-18.17100415,-18.52362361,-18.852222,-18.93613371,44.95452128,44.95452128,44.97785266,44.91124308,-18.89693246,45.10538083,45.10292417,-19.08528034,45.10292417,45.05876059,45.05876059,45.04551453,-19.053417,44.96707069,45.26526667,45.58712924,45.26501403,45.52042552,-19.15356674,46.14042793,46.20297081,45.99041672,45.85291547,44.69543325,-17.93525055,44.46781337,45.09545271,46.23874208,44.53292812,-19.67024728,-17.42360523,-18.11440922,45.63039592,44.90548147,46.12382707,40.47849339,-18.64442807,-19.66271346,-18.8105,44.95452128,46.25617405,45.40208509,44.72556431,44.62125773,44.58794019,44.75287763,45.95627589,44.64703758,-16.71961403,-17.02957927,-8.959537509,46.05787643,45.84040445,45.76208579,-16.58541039,-16.42206168,-13.12538472,-14.64705748,-14.34539962,-15.62848103,-10.72032379,-7.827042766,-11.07126431,-15.67297082,-17.90624828,-7.323742642,-6.787093551,-13.46536406,42.00295578,-11.60622511,-10.65290138,-12.66624696,-17.82458297,-8.140399749,-10.07876562,-9.485465874,-17.28670939,-6.979590983,-11.79124709,-8.422885786,-18.11955686,-12.25048604,-6.457955728,-9.261248529,-18.57875335,-16.22554195,-15.84623081,-11.91791879,-10.84121766,-9.479598811,-12.50288422,-9.935400313,-19.41208572,-13.32207332,42.02869041,43.93161202,43.66170262,45.01829074,44.1392233,43.48330933,43.93417607,46.17504019,42.73743531,42.74583597,44.82496283,42.6091876,45.59085202,45.84250367,44.28680115,29.327531,29.603951,29.707226,30.098649,30.097205,29.94931,29.945988,30.102215,37.90092862,38.45535041,37.21956218,36.73034264,37.93791389,30.066,29.908414,36.9261732,29.946889,30.044567,29.953055,38.295341,37.16543331,37.48955742,38.16123795,37.2103712,4.399147233,4.403323187,3.576646646,3.576646646,3.581652946,3.581652946,3.419027778,3.510858015,3.898356763,3.371665274,3.32414969,3.179972222,11.20635375,3.298472222,3.163944444,10.75133832,3.179972222,10.95799109,11.97386311,11.97386311,12.28137064,12.29129205,10.83879803,12.289167,14.59960711,12.87712033,14.890833,11.95381297,12.121389,11.29301205,11.86383613,12.83801984,12.44965753,10.70212183,14.4171662,12.709778,12.75636564,12.9471783,11.34725,32.91465795,11.40714221,36.91661845,33.12826617,13.46133356,11.57962699,36.64300151,34.04634036,11.29129435,11.76513889,12.96379017,12.44714566,12.93041847,10.96461811,33.47713763,11.07970566,13.50708677,33.01755528,12.28135801,11.63303921,11.28261,12.32378564,12.486778,11.50967446,13.36295939,13.21215809,13.47466186,12.03217469,10.99134129,11.3362517,12.8838639,11.3921822,12.8838639,13.21046203,12.47963721,13.79795514,34.35468815,37.10553978,12.48041667,10.94798448,11.15050109,11.61811,11.33883515,10.92380945,11.41132844,11.8679792,11.9046109,13.04802778,11.82467551,12.58547558,42.12402799,42.28822442,11.63555033,11.86463294,12.0887335,13.24293669,11.69045613,12.3837387,12.451583,13.21634461,45.9495479,42.50327013,11.69800818,13.3546571,10.97048932,11.70466667,12.12635103,42.54237477,11.72131373,50.42079537,37.79710513,50.31496456,50.2291506,37.87969086,37.95634834,38.03055755,50.32831765,46.06705692,45.91877013,46.00625798,30.27396469,29.67472474,29.61748065,29.73055742,35.08644128,33.65588094,34.33220574,35.64714877,33.72213525,36.20081625,34.39158,34.93891026,37.23416849,36.78877594,34.73638201,40.21668342,40.08169999,35.83305604,34.75382353,34.52718672,40.95670838,41.7653512,36.22798399,40.25743314,39.94648711,41.55551176,40.40300465,40.90147831,41.90924953,41.4136652,40.94341174,39.94482312,40.22450836,40.32314059,40.07149756,39.90594208,40.89064113,40.01031765,40.02588016,40.53027305,40.3709812,41.7906092,27.32641119,41.81512151,39.82880543,39.83689553,41.20888277,40.14460038,41.09768748,41.45884445,39.80580464,39.7757482,41.20361985,41.2446098,41.07413798,40.68603975,41.59217588,41.06917073,26.92638738,41.39580594,41.27433201,41.07541802,40.98217583,41.27561762,41.45142301,40.33232587,39.90079334,39.86502879,41.28574881,40.62496969,39.81208702,39.74956772,41.35832277,39.81625281,40.85167777,40.53104017,41.70419093,39.81718708,41.38590614,26.93021565,41.4273588,39.93580855,41.20458367,40.83203244,40.36880146,27.69401257,40.81645901,40.98549688,41.44827669,41.45853231,41.07472923,40.40722471,41.59811863,40.73784887,40.94034521,40.32646818,41.20314675,39.81510495,41.01484613,40.69627836,40.52225285,41.37584358,40.44262403,41.20553486,41.08520827,41.45251435,41.16360709,26.51938092,26.9229011,27.31084665,27.5131307,27.5654461,27.56615401,27.78229817,27.21462599,27.54192122,27.41741522,27.56545934,27.32412799,-34.990657,27.59399687,-31.611062,-31.668962,-33.578569,27.15073745,-27.200289,-31.6897,-28.93686,27.12427399,-29.847354,-29.847354,-28.799216,27.55623959,-35.730488,-34.204837,-32.835454,27.39273398,-31.657224,27.18200403,27.73860453,27.76970792,27.51483802,-35.184376,-34.6764,-31.599032,27.38698301,27.36641578,27.48300534,27.66037835,27.64134903,27.59846516,27.55362014,27.47616755,27.468327,-28.598687,-28.70154,-30.309717,-13.1249665,-13.73581334,-16.16584277,-16.18747689,-17.85004759,-19.17916625,-12.96084534,-14.51746656,-12.96084534,-14.51746656,-15.89084271,-15.9316846,-12.7766,-12.83080225,-25.278216,-25.878242,-26.615831,-24.027744,-23.718996,-24.725312,-23.765522,-26.219955,-24.503309,-24.937621,-23.908093,-25.43363,-25.451879,-24.836688,-23.373405,-22.973765,-24.688721,-27.428235,-24.525414,-25.164424,-25.156736,-25.432529,-25.016327,-26.576772,-25.79005,-27.321027,-24.725961,-24.612741,-25.522399,31.71517905,30.04980698,-24.725874,-22.92709,-24.553733,-24.712748,32.960447,-22.809074,-27.02506,-24.804733,29.7238318,-27.098161,30.14228598,-26.580109,-23.943745,36.000651,-25.828932,-23.653939,32.0182353,45.05463297,29.91458587,44.34608962,35.893573,29.40960035,34.587089,32.19789089,45.99224399,30.04191447,30.06005265,32.43240171,44.35573624,29.34294501,45.98991612,29.65431348,45.99388419,28.93392739,30.30895704,31.02791341,46.08581805,46.15058624,45.88739453,30.31976819,45.99153516,29.97985827,45.04288596,31.02615978,45.04703756,29.76780837,45.05450417,33.302168,29.76780837,45.05289838,-22.084568,30.73121897,32.26926976,28.61798995,44.33719127,-22.038483,29.93008348,45.05280604,45.9935284,32.5298865,31.75218839,32.5298865,28.39896444,-21.848372,31.45002487,32.34040048,30.04016363,28.77407014,32.41908723,32.57763513,31.89020951,30.67947856,32.22021237,30.10471692,32.61838565,31.77379242,30.26962752,29.68657216,30.37506282,30.95404224,29.42985015,31.55651495,28.60968082,29.54007675,31.29379303,29.88949146,30.227021,32.21055885,30.54151934,29.50943823,29.3747096,31.7503958,30.33000924,31.30011069,45.99463914,30.07869635,31.4198298,45.0526888,32.12977895,31.78762165,29.59724207,29.49863708,31.01968025,31.77276649,45.75021509,45.82295579,32.315903,45.7099868,45.99478719,44.36788564,45.70934437,44.37212535,35.747635,45.67149315,45.99149248,45.98880634,45.99108879,44.35014819,45.99352785,36.413087,35.929207,35.874756,33.865793,35.891379,35.307506,33.145322,34.885804,35.630052,-22.681671,-22.389052,-22.35228,-22.263422,-21.454825,-21.342461,-21.348415,-22.008418,-21.409986,-21.304086,-22.518622,-23.727507,-27.06083757,-22.038239,-23.586724,-23.476549,-22.153931,-23.684178,-23.804064,-23.944194,-21.166475,-21.173154,-22.237601,-22.25659,-23.972339,-21.840031,-23.949025,-23.928326,47.821362,-21.305865,-21.289307,-23.951656,-23.819984,-23.9371,-23.93657,-23.956629,-23.672533,-23.971665,-26.87585022,-21.51323607,-21.25499687,-27.08169537,-27.33005711,-21.33,-22.49246869,-21.91501155,-22.49246869,-22.51997026,-22.51997026,-21.38157996,-26.77916005,-23.30325303,-26.7866851,-26.80914339,-22.46839386,-22.46839386,-53.641889,-21.16630136,-53.143944,-51.625167,-51.411222,-51.019556,-50.2685,-49.808639,-51.068611,-21.7955428,-22.08571897,-23.2475443,-23.31790682,6.902466562,6.623318973,6.823338886,4.17998541,6.539137821,4.2916,5.087466562,5.920043081,4.208313901,5.224156857,4.449111897,5.321623795,27.81743,27.863124,28.160399,28.049219,28.186059,4.500738009,5.287519286,-33.4404,-33.4535,5.613413713,-33.9767,-33.9734,28.23514,4.400883281,27.626498,27.753889,27.941,27.861521,5.109994427,27.53983,28.1875,27.975932,4.899970319,31.059227,31.284169,31.494326,4.483312899,31.70438,31.487991,31.057257,31.057257,8.145048417,4.620007201,31.317512,31.06581,4.775018535,30.120183,30.121849,30.229469,30.145829,30.524045,4.960023481,-33.5212,5.466614277,-13.0275,-16.34757145,-33.6736,-33.7469,-33.930704,27.853269,27.81198,27.807226,27.859319,27.594573,-16.573,27.617326,-16.6437,-17.2297,-17.0328,-17.4515,-16.5741,27.928956,-17.3662,-17.2831,46.80053217,28.107335,-16.6659,9.367511165,8.198784379,28.180278,38.670951,38.670951,38.794411,39.643017,39.338969,39.161982,28.225854,39.679925,39.716422,46.00413464,28.225854,28.100822,31.059227,30.760824,31.236703,31.515926,31.459914,30.655866,-17.4781,-17.3847,-17.3304,8.20835339,-16.7777,-15.38404695,-17.2678,40.04903,47.543213,-17.106,-15.50513499,-17.2941,47.0504002,-17.384,-19.52121427,-17.1233,39.037306,-16.9152,-16.6832,39.400749,39.649299,35.34782489,38.856166,39.824733,40.054405,39.074959,46.15905932,46.28324863,39.250671,47.0862534,39.027315,39.403125,46.13749816,46.28075553,46.51472338,47.842526,47.14883435,40.01299,47.25281118,46.80053217,47.15123214,46.81960041,46.64895061,47.27782215,46.59811311,46.67058303,46.16577889,46.06827229,46.90214145,46.33317441,46.0782982,47.27361878,47.21373421,46.12903811,46.81550138,47.46016835,47.27361878,47.27861716,40.0077,46.16245848,46.21992585,40.009,35.03891113,46.15988338,46.08661202,46.27432912,46.81960041,46.81960041,38.222,38.208,38.84868466,37.99454252,9.361671642,38.26553575,8.258347404,38.45362837,38.54392386,38.52539086,38.355,8.219964508,40.0036,8.988270325,35.06081448,8.327525033,8.951673051,9.44247676,8.205056929,8.911681569,9.445823055,9.074358982,42.67184,8.274239127,9.195874067,8.570838713,9.394168806,9.366670129,9.020008647,9.5258416,8.85139267,35.57092641,9.525850137,9.394168806,9.42223985,9.364968192,35.59328068,8.400014796,8.984518769,35.62675348,8.824216797,8.287513065,41.21334,9.572590481,9.360903215,8.246639774,9.568328285,8.431661726,9.514999304,8.724997533,9.269158355,9.361706514,8.693351043,39.9997,42.66913,42.39568,42.39902,40.43305,41.74376,41.71896,41.48188,41.35929,41.25387,41.08733,40.90659,40.87697,40.86123,35.65468073,40.8002,40.68586,40.61154,40.61221,40.48241,40.41144,40.33905,40.31797,40.31125,40.15982,40.28524,40.22957,40.20262,40.2013,35.64218201,40.18687,40.15697,40.10648,40.06334,40.05085,40.03905,40.03033,40.0332,40.0316,40.02302,34.96244575,39.99371,39.99087,39.975,39.97639,39.95982,35.59864819,39.96708,39.95574,39.85627,35.81007648,39.76333,39.7427,40.16443,40.04869,40.01743,39.97955,39.9397,0.65535216,0.612095178,1.792920851,-1.44462943,1.813741765,2.125399749,-1.808809643,35.35008308,2.148735253,0.632961929,-1.876261741,0.63210407,2.005409267,1.77458948,1.907916719,0.396261114,0.582985097,0.657976205,-20.09581913,-15.38404695,0.443784596,0.60954665,0.512928616,-20.01295244,-19.61162184,-19.61162184,-19.16966269,-19.10132638,-19.7883022,-19.7883022,-19.80016692,-19.92984905,-15.1614306,-19.53689568,35.35517512,35.65667884,-19.19975061,-19.53689568,35.92469002,-15.67939619,-15.67939619,-19.78714009,-19.7899253,34.41013674,34.54489168,34.58386387,34.86933078,34.88734069,34.89198087,35.03376655,35.57998448,35.81992031,34.57540445,35.58832757,35.33582962,35.95610997,35.43371697,35.09311506,35.33574714,35.82443847,35.34013505,35.5772231,35.33752773,35.34202209,35.94978111,32.09820589,32.33354552,32.37760864,32.12349305,32.60355491,32.92351465,32.61051476,32.10349505,46.17418174,32.6842845,33.03098153,32.25836354,32.33969067,32.32,32.85318973,32.72411171,32.18140388,32.21765623,32.06942893,32.2944432,32.37925761,46.8222713,32.34568646,33.04326973,32.0632551,32.58157044,32.91768003,32.67742806,32.8875908,32.18736356,32.93129443,31.86088516,32.27094227,32.97355016,34.391517,46.50419424,32.10596919,34.504874,-5.035561182,34.22048,33.364091,33.353643,34.250132,34.561105,-4.977419783,34.222202,34.237416,33.890084,33.513902,34.441868,33.730021,33.901739,-5.161892802,-4.936886657,-5.113840891,33.993964,34.051652,33.159951,-5.211379302,-5.103796458,-5.084541424,-5.018422556,34.205556,-5.138515393,46.39950428,34.202989,46.34250192,33.242843,34.302203,33.216208,46.1386888,34.198412,-4.917906596,34.299669,-4.988294508,46.40297695,33.372668,-5.04101167,-5.034762065,34.433781,34.118285,-5.045665393,34.0413,-5.028925504,34.047098,27.33044102,33.704813,-5.015069386,27.44376475,34.224922,33.584302,-5.101693329,27.5904,34.120883,-5.11342246,-4.944807955,27.58543768,27.67793016,-5.05991448,-4.929697208,27.71124695,27.88627687,-5.998341835,-5.11509063,-5.059915927,-4.924677364,27.88128231,27.51710253,27.71546403,27.33461973,27.61129657,27.47122971,27.52545279,27.67047767,-23.39499,27.49546319,27.58459757,27.49627976,27.26790339,27.76797408,27.52134299,27.2287882,27.36710537,27.50714948,27.45710938,27.72382861,27.56049159,27.35791,27.62463065,27.42379913,27.26462386,27.41070755,27.66545988,27.47878407,27.61894642,27.4345982,27.34473,27.55880042,27.66458073,46.18115282,27.38627954,27.49877989,27.28880214,27.49043815,27.432607,27.29963712,46.18115282,46.02288899,27.40046,27.47467044,27.51042717,27.29459778,27.55464072,27.43884733,27.54132924,27.61959348,46.25111111,46.25111111,27.68886307,47.03260838,46.83946274,46.83946274,45.81075711,46.24097037,46.29706857,47.04697319,47.04697319,46.1765471,46.1765471,46.51931983,46.51931983,46.29926584,-23.402534,-24.095859,46.40984427,27.98877967,46.87519016,23.78650219,23.78650219,46.38966119,47.0222774,46.58677128,46.25133469,46.84730625,47.0222774,27.03462952,27.08132887,46.22470833,46.44849036,27.16879338,27.26206842,27.35543467,46.84457974,46.44898723,46.3722636,27.03462952,27.24712855,23.98904346,27.18292471,24.15900063,27.9754239,27.86711952,27.30883807,27.2271,23.13821233,27.08046612,27.85626286,23.13821233,27.99960698,27.66879666,27.68118472,27.50795658,23.21065435,28.0613,27.85043184,27.24794759,27.52378694,27.50713093,27.29796939,28.06219832,27.99794701,27.26796881,27.68215334,27.80786896,27.17047365,27.33962178,-28.89208518,-28.7970685,27.2237,27.45627935,27.47378842,27.98087207,27.26379404,27.9771223,27.84798309,27.78544368,46.82172884,46.66338071,47.564,47.48750564,-28.89208518,47.48253538,-28.7970685,47.818622,47.47749969,47.46408629,47.44500889,47.35914277,47.28330933,-37.584432,-37.673605,47.28502974,47.35670249,44.3926938,47.54838,47.335,47.35420597,44.3842953,47.769356,47.38207138,47.27422668,47.736794,47.803143,47.15085723,47.00334264,44.11595711,46.93745811,23.14071384,46.90338197,46.83823846,31.0700833,46.58585661,46.56,39.47192041,47.22083882,47.22083882,31.4897778,46.61254314,46.5290119,-23.535933,46.61254314,46.5290119,-23.589136,-23.785608,39.30689037,-24.119957,-24.089215,23.78483181,23.8223494,23.78650219,24.3264665,24.04822968,22.89981916,31.4822222,22.89981916,31.4897778,24.17985695,28.459954,22.86650219,39.0236521,24.29150057,28.521305,24.29150057,28.530318,23.96813776,39.45194515,23.96813776,39.38691378,24.07906011,27.08087364,27.51581929,24.02572141,28.27546,23.13085097,27.75582937,27.75581515,23.13898873,28.31098,23.13898873,23.96643081,24.18068976,24.04822968,24.18235539,24.16232586,24.31818209,24.31818209,27.60744953,23.10649063,23.98482467,28.23416782,28.25402493,27.92232468,28.06691,28.0291,27.87158765,0.45879,28.01293,27.99000845,0.122772,28.55275,27.98276,27.97581,23.72875884,27.88234403,27.86650712,27.80668616,21.95290892,23.85777492,23.98042428,27.77829,27.80535,27.80158879,23.56457379,27.80493071,27.75328923,27.64407051,28.558295,27.81162743,27.8031,-28.70205229,27.7469,27.67660568,-28.59791559,-28.59791559,-28.70205229,44.38183266,28.552185,44.27350025,44.10924289,39.24785091,37.94778579,44.11937339,27.893223,44.17013312,37.94778579,44.16344984,39.46695686,44.21263967,39.43609476,44.21263967,39.43609476,39.50198084,39.46779036,39.0219191,38.00276857,38.00621841,44.06433363,39.02695204,39.02290438,39.45020804,38.9903092,27.893223,44.10432116,39.02200225,39.50449981,39.22443788,37.96702091,37.94272379,28.619687,44.08513557,43.97840683,39.1136335,39.14194033,26.88840971,27.5233391,27.47916675,27.17496105,27.17344151,0.10006,0.901282,0.643377,0.365157,0.260972,0.040476,0.213842,28.527703,28.167539,0.641526,28.05789,0.265928,28.319597,0.082089,27.954761,37.452305,0.661074,0.655465,-18.337278,37.353598,0.590935,0.712312,22.04954326,0.835114,0.806769,23.5462815,23.56961068,23.69206988,23.69957432,23.72043131,21.9412542,23.72624802,23.84450905,24.12627235,23.84626063,23.6954335,23.84785656,24.12958782,27.1178709,21.83126624,24.13035958,37.313624,21.79793704,24.12955359,21.83537479,23.8454173,27.06036422,24.13372147,27.12287118,21.79380893,21.85207123,21.88456798,27.13208452,24.12952027,23.85126389,27.07463253,27.06958089,21.86959299,27.13210687,27.12959255,23.6980031,38.820545,27.06455869,21.84787882,27.1546084,21.95871278,34.777559,21.8721368,22.07292913,21.87287004,27.07464169,27.06456876,38.177686,24.06039617,27.05539161,35.09665,34.897891,34.798453,51.47872,34.753054,34.527334,33.693815,34.479243,34.59924,33.765413,33.724055,34.557174,34.689056,31.52,31.95,32.09,31.48,32.12,38.17749,32.17,31.78,31.4,38.697296,31.8,32.1,31.068955,38.758905,31.37,32.25,38.640808,32.25,30.76037728,30.92177,30.954612,30.72550984,30.81961434,31.082113,31.22631983,-18.94712111,30.84877386,38.252435,31.252447,30.820332,-19.00394846,30.79965903,30.77459863,30.64127357,30.93298918,31.15385515,30.72116226,47.836623,47.663184,31.137256,30.57212089,30.72139633,31.2195,30.87212888,31.019621,30.88719793,30.990885,47.655747,31.56,47.687696,31.5254167,-18.94501523,47.713601,31.0451944,31.0459167,31.0632222,31.0700833,31.3,27.903202,27.913205,27.987028,28.063775,28.104275,28.26161,28.291241,28.309187,28.322972,28.38767,28.28183,28.517091,28.1121,-18.287574,-18.166734,-19.346241,-19.269485,44.681002,-19.326859,-19.409221,-18.495405,-19.418158,38.676196,-19.346757,44.718839,-18.180784,44.778227,-18.665343,38.340308,-19.338421,38.311243,-19.227918,-18.314407,-19.504267,-18.288776,-19.371328,-18.148819,51.491598,-19.174438,-2.939119217,-18.864396,-3.039952411,-19.265422,-19.227699,-18.895562,-19.401495,-18.163956,-19.419076,-2.734955881,38.310125,-2.886609327,-2.778351927,38.544437,-2.886609327,-2.605866624,-2.891613901,-3.01079762,-2.607516055,-2.9399729,-3.142513964,-2.650820662,45.07075649,-2.891613901,-3.01079762,-2.984145647,-2.891613901,-3.01079762,-2.995043205,-2.522523481,38.109716,-2.666597745,-2.651699562,-2.70248829,-2.725858264,-2.768382467,-2.935814402,-2.922501314,-2.955845209,-2.960853474,-2.967458984,-2.986666757,-3.006667502,-3.039219537,-3.158380714,38.15974,-3.136619286,-3.219086098,38.099436,-2.935814402,-2.960853474,-2.935814402,38.531411,38.199079,38.571334,38.571334,51.487683,38.571334,38.571334,37.325958,38.147983,38.653842,38.199079,38.809462,38.868771,38.6572,38.837972,38.256404,38.614236,38.542752,38.199079,38.199079,38.645894,38.647031,38.525865,38.470814,36.972233,38.926428,38.581581,38.36172,38.289722,38.36172,38.36172,38.36172,38.179143,38.779505,38.160826,38.521291,38.098903,38.634107,38.796486,38.523572,38.16565,38.237605,38.663869,38.663637,38.663637,38.663637,38.35727,38.663637,38.221484,38.613359,38.293101,38.362567,38.173341,-17.62848502,-17.5503448,-17.56612671,-17.54869368,45.452354,27.8944,45.454078,27.88957226,45.374807,45.495212,45.528658,45.390781,45.527057,45.549588,45.383602,45.414778,45.587473,-18.399787,-18.399787,-18.399865,-18.336699,-18.336699,-18.336699,-17.995552,-17.994721,37.112763,27.88630257,27.85120131,27.84265034,27.7212,27.68287927,27.65950182,27.63880063,27.58957934,27.57621421,27.63314339,27.54386719,26.84371158,27.5041,27.53043795,27.4814,-25.323482,27.49714458,27.44537589,27.4223,27.3945,27.4232,27.31959518,27.23362868,27.23379549,27.187867,27.05909749,-43.01497964,27.0208,26.9504784,26.94201384,26.87796043,26.83041472,-43.39664339,-43.38000821,-43.47916853,36.47466669,-42.98832403,-43.2933228,-43.57664396,-23.60188291,-33.360599,-33.398385,-34.021483,-25.02448604,-33.434303,-33.463145,-33.981517,-33.984923,7.269045659,7.188477002,-33.983784,-33.99321,-33.99558,7.210545093,7.239065316,7.260614672,-25.257577,7.198472025,7.133057761,7.144473531,7.312347879,7.193494176,-25.343494,6.907770163,7.09272416,7.37419427,36.65881659,6.930427274,7.147798366,7.129532221,7.153453114,7.133333441,36.47466669,-23.59359643,-23.59359643,35.33221747,-23.59521941,-23.59609061,-23.59521941,-25.380909,-23.59609061,-23.4543779,47.8590653,-23.4543779,-23.81111929,-23.81447376,-23.81447376,36.47466669,-23.81111929,-23.81111929,36.44724678,-23.65938541,-23.60188291,-23.65938541,36.7273263,-23.65938541,-23.38028046,-23.38028046,-23.38028046,45.054517,44.793878,45.013714,44.890781,45.038462,44.783874,44.880868,44.871068,44.941459,30.76636712,44.891281,30.52567467,44.881765,44.985941,36.46781,30.75364357,30.74431096,30.73893993,30.29416679,30.73612995,30.68759572,30.61371088,35.585747,30.67377996,35.28640132,30.48642867,30.37968673,30.28982211,36.46884252,35.2889,36.46884252,36.46884252,36.77222054,36.46884252,35.58545316,36.66549048,35.62550701,35.34379919,35.32132874,35.622347,35.54387495,35.56986625,36.75298829,35.63629512,36.65881659,36.78629718,35.54810708,36.71738084,35.54562373,35.54562373,36.727205,35.52559568,36.47470495,36.61554915,36.61651497,35.341715,35.31295498,35.62380701,36.44724678,36.44724678,39.37259363,36.44724678,36.62042868,36.62042868,36.62042868,36.62042868,36.53884361,36.53884361,36.53884361,36.53884361,35.28640132,36.47466669,36.56393156,36.56393156,36.56393156,36.56393156,35.3580665,36.617493,36.46781,36.46781,36.46781,35.543854,35.570493,36.752134,45.06417871,35.637737,-25.19376205,36.787249,35.358562,38.825783,36.665989,36.54121,36.719059,-24.82373538,35.549373,36.447743,36.77564,36.557773,45.05753594,36.660847,36.557773,35.332077,36.557773,46.71906,36.47546,36.47399,35.58720678,35.526455,36.47399,47.90512134,36.554099,36.47399,35.62895817,35.622927,36.47399,-24.85371415,35.312982,35.294198,36.447743,36.447743,36.447743,36.619426,36.619426,36.619426,36.619426,36.557773,-25.09712379,36.54121,36.54121,36.54121,-23.9369665,46.722455,-23.93373056,-24.46039775,-24.72043087,-24.72788071,35.6230928,-24.86123325,-25.01457852,-25.14375016,-25.11869518,-25.30700714,-25.33459292,-24.46039775,-25.09712379,38.679926,38.767746,38.767306,38.813601,35.59929724,38.80172,38.76855,38.725196,38.828304,38.806344,-41.16085786,35.59929724,1.627093,-41.61424208,35.59929724,-41.26750031,-41.32504283,-41.34919036,-41.28167702,35.62234736,-41.39003807,35.49941535,-41.63332361,44.11845932,44.17018893,44.22116692,44.22116692,35.60152584,38.00251018,35.59831669,47.87382455,44.06473419,35.59831669,38.00432849,35.59831669,-23.04382868,44.10918767,43.98144926,37.94345817,37.94808691,37.96745099,35.50519697,35.50519697,35.50519697,35.50519697,35.50519697,37.94808691,44.11520818,35.50519697,35.50519697,35.51698612,35.60152584,35.61074685,-25.21202974,35.66123485,35.60152584,35.66850137,35.59831669,47.86056039,35.51637532,35.52050565,35.65933999,35.6532394,-25.01960025,35.7376219,35.56722688,-25.933295,35.47573995,35.59929724,35.62868959,35.46422226,35.45807878,35.66381985,35.5605578,35.66381985,35.46707915,35.66381985,35.61015113,35.66381985,35.61869648,-25.933295,35.74933178,35.46969131,35.73566779,35.48669574,35.68764038,35.5583831,35.58031926,35.58436025,46.724008,35.6181122,35.75378334,35.61606981,35.61297991,35.60769643,-22.86930088,-22.83342814,-22.95678604,-22.26594771,-22.21763557,-22.2684479,-22.31855053,-22.25097652,-22.22014997,-22.24853588,-22.66929881,-22.66924646,-22.30428643,-23.04017297,46.730441,-23.0393933,-22.68929067,-22.68849492,-22.91844778,-23.04625761,-22.96264245,-22.27846412,-22.24679813,-22.31428585,-22.26695521,-22.64348616,-22.30666829,-23.04517323,-22.72097884,-22.72678342,-22.23425736,-22.2375958,34.578738,34.31012,34.510987,34.480738,33.940812,34.294901,45.23663795,34.254123,34.284724,-23.04627565,34.30384,44.856,34.18806,41.11797208,34.158623,41.08864973,34.279753,41.3283275,37.588,34.041164,34.339617,41.28834348,39.36035469,39.3450607,39.36574946,39.36645303,39.37334603,45.2168,44.95664245,44.99279405,45.2875,45.04334984,45.20907132,45.08432445,45.23495022,45.0111,45.0733,45.4133,45.23920676,45.1424,45.3014,45.38579962,45.07917505,45.1414,45.14,45.17500645,45.34668654,45.2541612,44.90078535,45.10662747,45.0192,45.235775,-28.1881559,-28.06399325,-28.07643918,-25.21833333,-27.98141481,42.51832718,42.4750273,-28.07897204,-28.22387126,42.44575667,42.4348923,38.37642212,42.61409455,42.23087564,42.48249718,42.413,42.43832718,42.11586675,42.51328554,42.50913563,42.43658535,42.31909518,-23.03701904,-25.02958121,42.30576143,42.29002317,-23.12375254,-25.03492479,-25.23542893,-25.222,-23.043,30.85395833,31.07226035,30.86394427,30.963068,30.93971146,31.03228584,30.92143732,30.81225059,31.14061346,30.82891214,30.84638785,30.86641892,30.60720482,30.90478491,30.61731334,38.42147399,30.86143663,31.06479749,31.0411,30.6383,30.6381,31.34723168,31.34895147,30.61974408,30.60720482,30.59894897,30.6258,17.71438,39.055365,39.117305,39.194789,38.957468,39.221758,39.161864,39.199361,39.119904,38.945689,38.945689,39.184564,39.053448,39.195221,39.15965,39.204618,39.148988,39.027395,39.047699,39.047699,39.097369,39.120452,39.209821,39.209821,39.018983,39.045771,39.045771,38.975844,7.260614672,7.147798366,7.147798366,7.147798366,7.147798366,45.08697524,7.260614672,7.260614672,7.260614672,7.147798366,38.32069525,45.05626408,38.32504587,38.34438846,45.0514183,38.33307823,38.5166711,38.22609913,38.40202229,38.38859802,45.1085796,45.09315417,38.58089892,38.3574113,45.06814997,38.66207023,38.5161361,45.07588095,30.6234145,30.59509341,30.40760404,30.61180747,30.38426862,30.49094457,30.25827778,30.23844444,-20.827489,-20.735016,31.038478,-20.747546,-20.756207,-20.806576,-20.735057,33.12427,-20.819422,-20.718249,-20.879671,33.22702,-20.925288,-20.860975,-20.91108,-20.854313,-20.902435,-20.931067,-20.953027,33.09564,-20.928716,-20.89512,-20.866107,31.063589,30.881319,31.104935,31.488877,31.105619,31.348017,31.452667,32.96459,31.332693,31.316945,31.061946,31.401461,34.30585184,31.321156,31.353995,32.93547,34.24186626,34.3116172,-23.357052,-23.365757,-23.38714,-23.478488,34.30628656,-23.482986,34.16457381,-23.477074,34.3215434,-23.480911,34.29659644,34.36022667,34.30600125,34.28207688,34.27298426,34.33036875,34.25361582,34.32832365,37.576,34.29736503,34.29736503,34.16457381,34.30601248,34.3050456,34.27219067,34.33138945,34.30254075,34.30269779,34.3665753,34.30946552,34.36181429,34.24445567,34.24158421,34.27892336,34.27893123,34.38187044,34.30812915,34.23231637,34.32040301,34.33756496,34.29891255,34.35363468,34.20902663,34.21992867,37.552,34.36500786,34.21915708,34.34068458,34.32351053,34.36186531,34.36029785,34.34192016,34.37829672,34.36581822,34.27975824,34.28439059,-2.875637901,-2.767948087,-2.958215057,-2.875637901,-2.935872795,33.07620409,-2.936543723,-3.044116879,44.4278,-2.96178495,-2.920149424,-2.981351691,-2.958215057,-2.99179462,-2.942590294,-2.942590294,-2.942590294,-2.952503811,-3.044066961,28.30414692,40.62047129,28.25333205,28.27659897,28.27909,28.28699,28.2941356,40.5704493,28.2941356,40.57567448,28.30830415,40.54132919,28.31586585,28.32631949,6.775440066,28.30830415,40.54132919,28.32750855,38.47107865,28.33834855,-31.05953601,29.58417,28.3367281,28.35503252,-31.0696288,28.35830283,28.205654,28.35830283,40.88107803,28.40387717,28.37670865,28.37358289,28.138041,28.37493113,28.099665,28.38606,28.080593,40.57950337,28.38606,28.06151,48.239915,28.40387717,38.60295711,38.99542862,38.88875373,38.59955723,38.85875272,38.8687722,38.79127664,38.7412,38.75292956,38.59960902,29.58417,38.70285886,34.225216,-31.36960977,-31.5795717,24.608103,24.557118,24.532491,24.487918,24.485123,29.582496,24.426177,27.948325,29.582496,24.485988,24.426949,29.582496,27.928088,27.881449,41.10729693,40.91697353,41.05727926,40.93973587,41.01540843,40.97578816,41.06533609,40.52131598,48.150359,34.18808,48.584761,48.569325,48.568768,48.132081,48.207246,48.106374,48.131914,48.564235,29.582496,48.214709,48.578201,48.186311,48.234256,48.117648,48.597116,34.238473,48.551791,48.568775,48.209645,48.589276,34.183753,34.186755,34.170787,34.036357,34.034702,6.771254,34.032568,34.011085,33.991189,33.964801,47.407042,47.374024,47.392914,47.376243,47.346208,37.553618,47.41039,47.341207,47.284477,47.330418,47.346224,47.300446,47.342098,47.310398,47.31127,47.347964,47.335412,47.387101,30.661849,30.48743,6.78296369,30.591668,37.558417,30.599978,39.65166982,43.985,43.96414991,43.67085661,43.47080902,43.46830933,37.466446,39.991738,37.434574,37.396525,-23.342974,37.362445,37.321622,37.313206,-23.484712,37.303172,37.253532,37.216187,-13.51248421,37.196253,37.159563,37.860699,37.127932,-13.56580519,37.0819,37.059827,-13.52165997,37.039656,-23.325474,-23.469645,37.863201,-13.61573877,40.203524,-13.57582167,40.157621,39.6284,-13.54162113,-13.51833025,40.038626,40.03379,40.012537,40.010651,40.004024,40.004012,39.98125,39.960038,39.965423,40.014935,47.86468789,-33.2886794,47.8669104,-33.27870557,47.93909095,47.87950593,47.84823159,47.98298612,47.94826398,47.96125928,47.84251929,47.8690385,47.96666667,-25.838347,-25.894637,-32.344,-25.875149,-25.875079,-25.896028,39.6475005,-32.37079,-32.49826,-32.553348,-32.578554,34.082687,-32.645187,34.393989,34.396673,34.276754,34.049663,37.860699,34.284158,34.402745,34.053039,34.086738,34.375776,34.279446,34.084046,34.096178,34.186471,34.183102,34.185789,34.212077,34.170293,34.196563,34.193864,37.656005,37.41319,37.462863,37.288956,37.663521,51.456907,51.485462,51.477896,51.468904,9.359510266,51.457261,51.49134,51.474517,51.431221,9.270825837,51.483578,51.487829,9.359500563,9.243797909,9.295804835,9.357160262,9.266866283,9.292551346,37.264445,9.269348815,9.294182243,9.365270434,9.370643558,9.363369899,9.36911138,9.368299363,9.331197353,9.354614577,37.066233,-25.365279,36.405,36.4934,-25.330437,-25.310849,36.5192,36.4868,-25.345912,-25.346706,36.4066,-25.382028,36.4775,36.4784,36.4092,36.4075,36.4074,40.09411,36.405,36.406,36.4026,36.4033,36.4041,-22.2689,28.33497991,28.33497991,28.37082773,28.33497991,28.33497991,-22.25107765,28.33497991,28.33497991,-22.23442868,28.37164978,28.37164978,28.37164978,-22.24687364,28.37164978,28.37164978,28.37164978,-22.27856406,28.37583271,28.37583271,28.37415941,28.37082773,28.37583271,28.37415941,28.37082773,28.37583271,28.37415941,28.37082773,28.37583271,28.37415941,28.37583271,28.37415941,28.37082773,-22.21690031,-22.30607652,-22.26704801,-22.31437151,47.9434,47.92577138,47.92918528,47.92411446,47.91154327,46.44785155,47.90836462,47.91837395,47.91243745,47.90415686,47.0370528,47.90750025,47.88326462,47.8982,47.90342899,47.88670495,33.04011793,47.88245016,46.49046815,46.46582829,46.49863573,33.04011793,46.44192816,46.52205836,46.45371221,46.51134842,46.50209963,40.09719,46.43714301,46.43207172,46.44779441,46.41951181,46.96709093,46.45704937,46.52542859,46.52542859,46.46206578,46.97204818,46.9887173,47.03038082,46.94784537,46.9828301,37.506,47.03045928,46.97031998,46.98705101,46.98705101,46.98705101,46.99537314,46.99038085,47.00137987,-18.00450175,37.337,-18.08868087,-18.00450175,-18.08868087,37.328,-18.01948528,-18.01948528,-18.08868087,40.09411,-18.00450175,-18.00450175,-18.08868087,-18.01948528,46.62041509,46.61136512,46.60795679,46.63294709,46.5954283,46.60875128,46.58955016,33.04011793,33.04011793,33.04011793,33.04011793,33.08852509,33.1168722,33.15466962,33.08236095,33.15466962,33.08236095,33.15466962,33.08236095,33.15466962,33.16973105,33.08850379,33.09846027,33.08850379,33.206904,33.1768494,33.14574115,33.16897031,33.10745468,33.07715684,33.16337438,33.08613491,33.08613491,33.08613491,40.09719,33.07715684,33.07715684,33.07645802,33.07645802,33.07620409,33.07620409,44.465265,44.465265,44.506775,44.523661,44.507523,44.508666,46.71032,44.513888,44.518983,44.51557,44.53699,46.714144,44.496178,44.496178,44.496178,46.670554,46.67796,46.693171,46.695129,46.703597,46.704564,46.697017,46.696786,46.704322,46.701262,6.731933181,6.756175974,6.74445638,6.721040968,6.790496979,6.789659097,6.79803403,6.783800106,6.803893882,6.724377227,6.798022455,6.757862963,6.801374118,6.813095185,6.744471065,6.769581173,39.61252386,39.67086212,39.62255711,39.62502298,40.09719,39.67165698,39.63161879,39.67821678,39.71875723,39.64664264,39.7184,37.45,37.43033375,31.37880595,31.37552029,31.35472138,31.34228964,31.31964853,31.3158,31.30889036,40.09411,46.992217,46.971246,-23.94545661,46.957082,46.932104,46.966372,35.698518,46.951276,46.928767,46.927917,46.949579,46.970411,46.966328,47.658132,47.658132,47.730232,-23.943798,47.730232,47.687377,47.739905,47.739905,40.09719,-23.943798,-23.9431,-23.9431,-23.94296525,35.692378,-23.95212824,-23.94296525,-23.94545661,-23.95212824,46.41461064,46.41461064,46.41461064,46.41461064,44.93436769,46.41461064,46.41461064,46.41461064,44.91589054,46.41461064,46.40251428,46.40251428,46.40251428,46.40251428,46.40251428,46.40251428,46.40251428,43.76500927,43.7166717,43.7258355,36.99001724,36.98847935,36.98021285,36.99153481,37.652,36.98782806,37.00223333,37.00463807,36.999183,35.87504339,35.86996688,35.86572893,35.89252405,37.71826566,37.643,37.74333688,37.76002795,37.75995897,37.75580547,37.74748717,37.72511723,34.094143,34.160188,34.1128726,34.11454367,34.11369646,34.11952263,34.12368497,34.13037468,34.13037468,37.592,34.13037468,34.13037468,34.12621629,34.12621629,34.12536844,34.13204646,37.325,37.308,37.317,37.23,37.259,35.669035,37.178,37.172,37.095,37.065,37.053,29.588352,37.028,44.16491641,44.16319205,34.772083,34.754389,29.588352,34.743111,34.72925,34.7175,34.71275,34.696528,35.689379,35.687083,37.292583,35.686845,35.698295,35.68963,35.717184,35.64378,35.708471,35.691417,35.644635,37.272444,35.64191,37.300528,35.645201,35.650104,37.258444,29.588352,35.65449,37.272444,35.659996,37.286556,29.588352,35.664265,37.319444,35.674334,35.678967,35.68244,37.267778,37.298083,-20.367184,29.587502,-20.396581,-20.371277,-20.396601,35.703721,29.58417,18.155531,18.155531,18.155531,18.155531,18.155531,18.155531,18.155531,35.703721,35.703721,38.421205,38.418452,38.428567,38.28946,38.457672,38.308042,38.300926,38.278078,38.29912,18.275987,18.268833,-23.5176481,-31.54510853,-12.466649,-21.2362069,-23.52418473,-33.414925,-33.41667,-20.26540591,-23.56659436,-31.57366418,-31.55705824,-12.476628,-36.614926,-32.11719634,-30.192016,-12.45504,-35.977251,-32.22998767,-32.1503193,-32.1503193,-32.15106082,-12.458477,-12.469143,-19.99718759,-12.453331,-12.465792,-12.453331,-12.463339,-23.590633,-23.699221,-23.699221,-21.533764,-23.660723,-23.591524,-23.589891,-16.85147568,-16.80162378,-16.96333631,-16.8233617,-16.87306201,-19.9853847,-16.8233617,-16.82243794,-16.94745428,-16.90157855,-16.903067,-19.89284258,-16.82243794,-16.79251795,-16.82662723,-16.83255385,-16.81582258,-20.99954568,-21.52954497,-20.5303045,-19.97960029,-19.92298927,-19.90300843,-19.73288709,-19.92296168,-19.63538369,-19.72044729,-19.90140338,-19.64958344,-19.91787954,-19.91364753,-19.88910017,-19.8929779],\"legendgroup\":\"Fluvial\",\"lon\":[-67.50621031,-67.87226459,-67.24832857,-68.21341853,-67.39829488,-67.39829488,-67.84133097,-68.27599811,-68.52083039,-67.86878041,-67.88595294,-67.67330461,-67.43203769,-67.33535518,-67.65846665,-67.64581122,-68.23739334,-68.01532084,-67.43287202,-67.64238921,-68.15391938,-68.59783909,-67.21327072,-67.21327072,-67.21327072,-67.58753617,-67.48550605,-68.12066729,-68.07444563,-68.16686929,-67.97059171,-67.80889404,-67.62680598,-68.63841123,-67.46734137,0.9261229189,0.9261229189,-67.90902905,-68.47980034,-67.88838044,-67.2212376,-68.6367113,-67.2212376,1.894354099,-67.19593531,-67.2212376,3.058650747,6.163601551,-67.65183432,-67.2212376,6.163601551,-68.03930191,-68.67203474,-68.67897186,-68.54307844,-67.576504,-67.80889404,6.04813168,-67.80889404,-67.22838596,5.763225908,-67.22838596,-68.64704869,-68.49007183,5.763225908,5.763225908,3.132972095,5.005929037,3.065727991,3.065727991,8.794877147,3.234836738,3.234836738,8.935985013,8.935985013,8.935985013,3.327719716,3.898547098,9.144929572,9.144929572,4.87837181,4.705065545,3.454769502,4.044567674,3.360483932,9.158036715,4.212215256,3.28492565,5.100368437,9.419309342,9.419309342,12.12085752,3.314287554,12.39988949,3.985746835,3.491788322,3.491788322,3.500640956,3.448667181,13.25472681,12.73618545,-75.456604,-74.081987,12.73618545,-75.58244,-75.775587,12.73618545,1.285123047,98.85166,12.83799013,98.900478,98.892232,98.892232,5.679748814,98.797211,8.648274519,3.648027147,98.635232,99.29682,97.215653,3.683333333,3.206819459,13.25469541,99.087163,8.61711341,-73.682966,-74.055675,-74.702058,-75.119697,3.925837602,3.861658726,12.73825798,12.84445734,-75.183453,3.450358129,13.23256733,8.617167613,13.21526495,3.20619841,13.23256733,13.23256733,3.458760066,3.42990015,-73.094102,-73.489453,-76.123845,-76.300926,99.034491,-76.699643,98.919857,98.351244,-76.987743,97.344423,97.178388,97.178388,-77.006015,100.019868,99.392794,99.034985,98.86114,98.86114,97.162205,97.162205,97.335083,97.919742,97.77254,97.320735,97.156226,99.004158,97.070158,98.389885,98.368088,98.158655,98.595415,98.559951,98.349078,97.157845,98.808707,97.880624,96.708721,97.974504,98.212229,97.702951,96.797681,98.367603,98.652892,97.837037,97.279427,98.892005,-63.400717,-64.31585391,-76.87855948,-64.49850167,-65.16218744,-65.19507761,-65.67424397,-64.29760711,-65.83090286,-65.69178054,-66.24016677,-64.89096986,-66.33671637,-63.66507887,-64.09675025,-66.34094932,-65.26214641,-65.17885327,-63.67593329,-64.50597215,-65.69844371,-63.574367,-66.28678388,-65.29345244,-65.1363217,-66.38508142,-66.32923616,-63.69801513,-66.35094134,-64.09424164,-63.66934479,-66.34175579,-66.38176488,-63.54093591,-64.58634178,-65.98593125,-66.1542066,-66.45547975,-65.14926336,-63.67680047,-65.94842745,-64.43429029,-66.41938732,-64.86682154,-64.28096384,-64.983722,-65.11415479,12.31624333,12.31624333,11.89660789,10.52412379,-65.11226797,9.89290452,9.372119098,-64.72348072,9.372119098,8.893764978,8.893764978,8.632885285,-64.775139,8.723706763,8.98586003,8.702885911,7.975780275,7.837915101,-64.30180562,9.510392778,9.017846439,8.396258673,10.14210407,10.09203287,-65.86430143,7.658660335,7.398855201,9.0287067,10.7578995,-63.82013316,-66.37366203,-64.76518227,8.380472265,9.584574051,8.300396662,-77.12878309,-66.33679098,-64.03841669,-64.320283,12.31624333,7.879529792,7.641190668,8.86129906,10.40869975,7.517105675,8.337872744,8.527037946,7.432875516,-72.41875235,-71.69041215,-78.62118554,8.680516607,8.42378015,8.320435817,-72.7320918,-73.11290626,-76.39655579,-75.24246187,-75.68552874,-74.63544371,-77.76949524,-79.17538885,-77.58622367,-74.52290019,-70.95875554,-79.48124252,-79.60458554,-76.12961384,-76.63439276,-77.23950664,-77.8320439,-76.65125254,-70.50622755,-79.00793312,-78.1529377,-78.27371666,-70.98963563,-79.63121572,-76.99454089,-78.78376412,-70.32788541,-76.89202373,-79.85041259,-78.43208522,-69.95541597,-73.61791897,-74.26123538,-76.62041396,-77.6954005,-78.29540182,-76.73875867,-78.21876418,-69.62036594,-76.24213406,-77.1316792,4.749133614,5.56240456,4.939158977,4.680827678,3.444159239,4.562387847,6.24085025,2.980850251,2.966626477,4.794154136,3.01503496,5.633287259,5.971668773,4.600037629,95.311052,94.935436,94.327133,95.067287,95.068863,94.800326,94.803999,95.112136,70.17835629,70.78502981,71.46008566,71.59587151,71.60420682,95.1796,95.514425,72.21006888,95.410029,95.25938,95.384095,71.3776288,72.74588015,71.52680013,73.96424809,71.84675128,11.28325231,11.27748212,10.11672703,10.11672703,10.69580846,10.69580846,11.30486111,11.50228569,12.537461,11.45186244,11.47339369,11.84502778,75.86395634,11.79233333,11.83375,76.43492791,11.84502778,78.35323826,77.67822082,77.67822082,77.43654628,77.16994332,76.02496259,77.43325,74.38406329,75.0416612,74.787417,77.64986081,77.782472,76.89327304,76.14325964,75.26657095,75.97000773,76.4348976,74.64733312,75.4707558,75.43993071,75.79409066,76.29579807,-85.19132944,76.24996588,-78.74002822,-83.20377827,74.83158689,76.57748758,-79.09037981,-81.18967232,76.30744611,75.74997222,75.36575933,75.41915285,75.40653696,76.55487805,-84.90294464,76.57394455,75.01988209,-83.72666614,75.36741434,76.0177261,76.655111,75.29991258,75.794528,76.69739421,75.20659461,75.25741918,75.03653943,75.93570168,76.44409097,76.86830923,75.41739927,76.01240513,75.41739927,75.10656921,75.75745686,74.80491573,-82.81718098,-79.292967,75.57941667,76.76990063,76.35908333,76.59079,76.88240824,76.57324667,76.0116122,75.88987497,75.74242499,75.21405556,75.86164975,75.50316061,-5.586885408,-5.537734625,75.80738594,76.07330933,75.75162621,75.09741614,75.79822542,75.53317454,75.712111,75.18405943,3.442921104,-5.42691008,75.80826525,75.01249426,76.65660586,75.68466667,75.78656564,-5.439319226,75.80996803,14.389165,-5.104957232,14.40328979,14.34409449,-4.739573075,-4.547979461,-4.002105823,14.47665279,3.447854669,3.357919789,3.299857232,-94.79829296,-96.0250056,-96.41995949,-96.53908566,-79.998077,-82.19970464,-80.69967493,-78.40713977,-83.29382063,-81.00531241,-82.2238,-82.52471415,-80.19192459,-80.00874621,-83.76724597,-78.26489346,-76.72009712,-81.71302774,-83.40133062,-83.9413211,-76.62297322,-76.44089528,-78.88880897,-76.88307341,-76.3680825,-75.8972897,-76.57703049,-78.67556366,-77.13127261,-78.19624457,-77.77849324,-76.75311258,-76.89802273,-77.1685304,-78.49251794,-76.32829497,-77.79429662,-76.27721712,-76.34592846,-77.60977401,-77.40221341,-77.01469995,87.20318379,-76.96518264,-76.18838027,-76.33904171,-77.92143075,-75.98905931,-77.24607319,-78.42986666,-76.62021751,-76.49340124,-78.03875181,-78.27810029,-76.61772903,-76.8976571,-78.18656185,-77.30783041,87.14764055,-78.35692508,-77.7677603,-76.52207333,-77.49031481,-78.23338138,-77.9521889,-78.11131797,-76.51987369,-76.34022048,-77.78943499,-76.95644661,-76.3300441,-76.43532546,-77.96893493,-76.64981106,-76.71642087,-77.60912492,-78.03751009,-76.33864354,-77.94918422,87.31773184,-78.35921319,-76.47346736,-78.03393671,-77.47625622,-77.65565679,87.36401885,-77.41789735,-77.48540243,-78.35930793,-78.15289492,-77.11885916,-77.7660852,-78.10373526,-77.79014241,-77.22275342,-78.04844296,-77.79756531,-76.34625603,-77.70650202,-77.80290265,-76.74634057,-78.15355554,-78.30260607,-77.34037058,-77.2745919,-77.97603522,-77.90483323,87.02670058,87.15466691,87.18961825,87.19367361,87.27294067,87.27387775,87.45012184,87.24041531,87.23070198,87.12387559,87.25392697,87.18221556,-70.859782,87.28455318,-71.395437,-71.294191,-70.439862,87.27572227,-69.919532,-71.268378,-70.262285,87.25168826,-70.491698,-70.491698,-70.457919,87.31426328,-71.019078,-70.5286,-70.539414,87.13433424,-71.221923,87.26397817,87.34566547,87.37292967,87.19108826,-71.118345,-70.87038,-71.110641,87.15305328,87.18004332,87.16112305,87.35659669,87.34917649,87.34756954,87.30041244,87.15079214,87.14395274,-70.727567,-70.552399,-70.73058,-76.36087614,-75.93080006,-73.63080019,-73.15504352,-70.12088134,-70.15330175,-76.14333569,-75.21006237,-76.14333569,-75.21006237,-73.11664177,-73.11842668,-75.9242,-75.92085949,-65.248118,-65.912325,-66.043587,-65.432174,-65.457399,-65.76087,-64.849375,-65.258064,-65.86343,-66.139263,-64.809517,-66.30472,-66.318625,-65.732227,-65.362828,-65.354315,-65.392237,-65.991327,-65.872616,-65.647583,-65.701488,-65.516049,-66.094622,-65.964452,-65.965828,-65.913445,-65.757355,-65.383826,-64.882015,100.9306482,101.306677,-65.60453,-65.301278,-65.865716,-65.425396,88.892552,-65.220421,-65.414742,-65.61118,101.5187839,-65.547589,101.5096748,-66.004758,-65.486632,94.828614,-65.961089,-65.786169,103.2733964,-115.6713766,102.1933828,-115.7887616,94.433168,101.2262574,92.743945,101.0198925,-115.3728231,100.983463,101.3594659,101.0500243,-115.784854,102.2501735,-115.3926409,102.1102151,-115.3513396,101.5373813,101.4210572,101.8685616,-115.5138897,-115.587212,-116.0307105,101.3793009,-115.3858863,101.5804172,-115.678045,101.0759982,-115.6676348,101.094988,-115.6723782,88.58672,101.094988,-115.6825355,16.880649,102.0037774,102.4949825,101.8958612,-115.8061403,16.922342,101.3889318,-115.6834944,-115.3418057,100.6703521,102.7405463,100.6703521,101.8770101,17.294708,100.7199485,101.2211785,101.2199679,102.2507467,100.8109715,101.0803768,100.7501219,101.7433022,100.3879439,102.059572,101.1869213,101.3657593,101.5299795,102.200659,102.1278667,101.7201348,101.2373498,103.4813692,101.6800525,102.1399299,102.04927,101.5404924,102.1799517,101.6185687,101.6189238,101.4340649,102.2429432,101.9975353,101.5214146,103.5273164,-115.3581952,102.0731837,102.0499782,-115.6841713,102.8944051,101.1057321,102.0187366,102.1793988,102.2791186,100.9869111,-116.3233881,-115.8893182,91.726253,-115.3428266,-115.3462332,-115.7708099,-115.3441779,-115.7673536,94.322975,-115.3270622,-115.3371081,-115.3337499,-115.4097234,-115.7757995,-115.3656955,94.820473,94.833442,94.56112,92.365183,94.353665,93.30297,91.865288,92.93541,94.206436,14.530558,15.835413,16.1435,16.429594,15.074826,15.20161,15.406151,15.588223,15.639146,16.216699,15.8578,16.096654,-49.53003807,16.921489,16.045633,16.053337,16.576578,16.182616,16.605801,16.301737,16.34845,16.402475,17.023232,16.436642,16.276566,17.261616,16.20174,16.162506,-120.422331,16.215903,15.236896,16.227546,16.575898,16.1765,16.211656,16.157528,16.697639,16.089065,-49.09917909,-42.20500639,-41.78171321,-49.49827489,-49.62078046,-41.88,-43.0008923,15.57145718,-43.0008923,-43.00086255,-43.00086255,-41.91998096,-48.99333125,15.77343476,-48.99585942,-48.90914339,-42.99916719,-42.99916719,-70.958194,13.66738039,-70.985,-69.61575,-70.194056,-70.794889,-71.890194,-72.052944,-73.001722,15.63813278,14.26854912,16.30013018,16.44944929,-73.18840645,-73.26666205,-73.00666594,-73.71168566,-73.12584289,-73.84579981,-73.37080645,-73.59331897,-73.81497151,-73.3966665,-73.90415755,-73.38915272,84.77914,85.111247,85.336755,84.819235,85.346,-73.9041856,-73.40168071,23.0969,23.1447,-73.62410964,23.3973,23.4001,84.381414,-73.91084471,86.082052,85.828277,85.947039,85.135804,-73.7049995,84.810585,85.300265,85.190228,-73.87912718,103.488175,103.466585,103.619811,-74.12088741,103.853166,103.579893,103.485067,103.485067,-80.68533643,-73.89247865,103.995846,103.493266,-73.9583556,78.311268,78.312965,78.772803,78.599332,79.50335,-74.07841384,23.6856,-73.44669981,-76.1925052,-73.13584195,24.6241,24.6076,24.261334,84.563074,84.771647,84.970392,85.102369,85.673753,-68.3661,86.086059,-68.324,-68.0686,-68.0941,-67.6328,-68.3656,85.133805,-67.5615,-67.309,11.58278132,85.311765,-68.2869,-82.53169608,-81.25168559,85.297322,100.036356,100.036356,99.555216,97.660294,98.814851,99.169515,85.368586,97.512626,97.227276,10.67813722,85.368586,84.831261,103.488175,103.469089,103.792395,104.113199,104.000725,79.831977,-68.3923,-67.6353,-67.3922,-81.58505046,-68.1906,-67.11524618,-67.8591,-105.59228,-120.716633,-67.9911,-67.1688729,-67.8099,12.13009278,-67.6443,-63.25028725,-67.9637,100.951566,-68.1612,-68.2745,97.628325,100.072834,-107.0434305,99.529001,99.456148,-105.628674,99.246332,10.34916049,11.50539507,99.053012,12.52747711,99.286703,97.695278,11.11461912,11.45045713,11.354447,-120.664841,10.74058163,-105.45851,11.26460281,11.58278132,11.8317835,11.53607142,10.97801067,12.37670222,10.82564011,11.06132453,9.634395232,11.25543814,11.47358787,10.24920966,10.35134028,12.41998448,12.17171616,9.569365462,12.08170026,11.99022608,12.41998448,11.59699824,-105.3665,9.912470193,9.459539145,-105.3106,-107.338672,9.980053881,11.19962058,11.45208423,11.53607142,11.53607142,100.044,100.193,98.88047113,100.7830143,-79.32263899,100.7803914,-82.87170225,100.4947091,100.2506104,100.3589619,100.624,-81.38498035,-105.4172,-80.17249177,-107.3442093,-80.5191411,-82.18915395,-79.43850887,-81.55999562,-79.74422107,-79.18838559,-79.28415757,-108.2231,-81.86578449,-78.4767125,-79.88469432,-79.48847567,-79.53248051,-82.30740234,-79.28351103,-82.59834112,-107.1677519,-79.28335233,-79.48847567,-78.97515595,-79.5666948,-107.1917919,-80.25583395,-82.23250932,-107.2404908,-79.85590253,-82.85002333,-105.34445,-79.48663666,-79.32352243,-82.87590133,-79.48680274,-80.06585771,-79.24835476,-79.88659661,-79.37673279,-79.27848647,-79.86911882,-105.3368,-106.77041,-105.04536,-106.40581,-106.84828,-103.04742,-103.67826,-102.97078,-106.32185,-106.94451,-104.09514,-103.6895,-105.86538,-109.53062,-107.391951,-106.98873,-105.34734,-106.23566,-106.18622,-106.25915,-105.40022,-106.79401,-105.53976,-105.54225,-105.94245,-105.38116,-106.05971,-105.32089,-105.82614,-107.240858,-106.90431,-105.47106,-106.87395,-105.58776,-105.59585,-105.42081,-106.0986,-105.3611,-105.4218,-105.53422,-107.2209103,-106.16801,-105.38275,-105.4472,-105.91326,-105.40362,-107.1795838,-105.4786,-105.5303,-105.34761,-107.2547763,-105.42487,-105.33135,-105.48731,-105.63416,-105.47519,-105.64016,-105.63527,34.83875254,34.96123857,36.79871446,36.97128554,36.71453363,36.58788579,36.04543782,-108.0099787,36.5937216,34.99874302,36.77882154,35.56875254,36.88954314,36.79456155,36.8378804,35.63950031,35.56960025,35.88288103,-63.88983982,-67.11524618,35.62789292,35.57870257,35.58628554,-63.53976187,-64.0799951,-64.0799951,-63.6625533,-65.30622463,-63.22866035,-63.22866035,-63.9393199,-63.68154691,-67.03980778,-64.154311,-108.0113807,-107.3918201,-63.65037551,-64.154311,-106.9857947,-67.42700249,-67.42700249,-64.03180702,-63.26216605,-106.8534638,-106.8841631,-106.8853769,-107.0217291,-107.0326574,-107.0281065,-106.9424111,-107.5214652,-107.2706539,-106.8904381,-107.4858063,-107.7961995,-106.993653,-108.0423568,-107.3229139,-107.034834,-107.2583808,-107.7932301,-107.5207826,-107.7947968,-108.2136805,-107.007425,102.7509565,103.7225945,103.4653422,103.7385247,103.611085,103.395842,102.327245,102.752696,8.69655664,102.3511514,102.6044912,103.7534129,103.5459787,103.29,103.5614769,103.2369733,103.1967815,103.7672041,103.115974,103.2767227,103.5168814,7.320947183,103.6343659,102.9010484,103.2586865,103.6166569,103.3968591,103.5983793,103.4592862,102.6507329,103.2807995,103.2871669,102.4969733,102.6293528,76.773669,8.301650858,102.8617727,76.631073,-79.80562167,77.165123,78.353697,78.323033,77.081733,76.587959,-80.01317482,77.388663,77.117521,77.781123,78.155401,76.683296,77.961847,77.731055,-80.61547679,-80.34399013,-80.17213731,77.632079,77.756481,78.607863,-80.01531823,-80.15881665,-80.1313422,-80.05394063,77.344501,-79.91042955,8.652433213,77.341567,8.607107023,78.575629,76.986488,78.658429,8.574420094,77.50876,-79.89330221,77.160571,-80.02149025,7.785528845,78.265451,-80.07390586,-79.82561919,76.707158,77.700287,-79.84892892,77.526932,-79.83229498,77.53059,89.48353956,77.961695,-80.04644659,89.90521181,77.451046,78.079407,-79.8763275,89.8704,77.414578,-79.89463947,-79.9965611,89.85856111,89.94692622,-79.87473344,-79.95076436,89.76520474,89.73603934,-80.56819002,-79.89297002,-79.87556665,-79.94660689,89.72519388,91.17148127,91.15081622,90.59462371,90.67322711,89.90023445,89.86940082,89.76842623,-69.474163,90.67023245,91.49046925,90.66686168,90.02358231,89.72523426,89.83272005,90.64284,90.53601499,91.18415971,89.90171532,91.14685323,90.44359688,91.67186149,90.8793144,90.10523886,90.04601959,89.98183895,90.9018501,91.18527022,90.88936028,89.68354447,91.62352996,91.2078197,91.43765307,8.715736278,91.20360853,90.66189497,91.2319593,90.52258758,89.681853,89.96861235,8.715736278,8.262312206,91.548596,90.35021556,90.65938741,90.01270091,91.52102993,90.96438598,90.44346688,91.48548261,8.843657744,8.843657744,91.17178609,7.636110663,8.640961409,8.640961409,8.259461538,8.713289859,8.622410929,8.220106996,8.220106996,8.325026563,8.325026563,8.559282621,8.559282621,8.546785321,-69.460806,-70.280699,8.638787352,89.99438316,7.289018177,120.9983344,120.9983344,8.667499842,7.818542276,8.49204881,8.706109011,7.412396931,7.818542276,90.07437234,90.07520676,8.735457066,8.526237365,90.0693479,90.03854855,89.91355537,7.429769478,8.667139021,8.099770612,90.07437234,90.08931866,120.7999714,90.07268467,120.8500238,90.006034,89.88687902,90.12522818,90.17019487,121.1258205,90.0768824,89.86605588,121.1258205,89.9901963,89.77439379,89.95186632,89.79188075,120.8041641,89.7105,89.87688982,90.20934728,89.87021878,89.9635294,90.10190068,89.71189609,89.99271809,90.03605806,89.91187053,89.83602025,90.06106909,89.91519704,-70.27788823,-70.45789656,90.18519487,89.90105621,90.16773101,89.53026128,90.04603417,90.00105544,89.85191029,89.80694974,15.18417885,14.94671321,15.50084358,15.73161334,-70.27788823,15.24497026,-70.45789656,-121.555049,14.34664308,15.50577157,14.51636168,15.37076268,14.87078585,-72.149267,-72.009893,14.67919693,13.698,11.25766049,-120.610745,14.03835216,13.66413036,11.24265723,-120.8021,13.93740513,14.65708923,-120.368696,-121.293338,14.77664371,15.7492005,11.54100038,14.8216015,121.1217846,15.59176205,15.17234423,103.4668889,15.32752411,15.425,16.49241221,14.87197145,14.87197145,103.5803889,15.13837182,15.43414277,-69.030839,15.13837182,15.43414277,-69.275045,-68.109296,16.73913808,-68.593472,-70.063356,120.6299001,120.8266584,120.9299643,121.7191434,120.859981,121.079981,103.6021667,121.079981,103.5803889,121.497533,84.372141,121.0408185,16.63500933,121.2617227,84.357605,121.2617227,84.351475,121.4900476,16.57999242,121.4900476,16.61827846,120.9808685,88.43223826,88.53140964,120.8483162,83.7355,121.1183519,88.54477044,88.54320338,121.1107138,83.7725,121.1107138,121.4599524,121.494166,120.863336,121.4949869,121.6125099,121.2908503,121.2908503,88.65217295,120.697474,121.0133015,83.717032,83.61291446,85.13530507,84.0604,84.2637,84.63286725,30.380468,84.0781,84.23961384,29.949949,84.263944,85.1756,85.1907,100.8245574,85.91537132,85.15371929,84.96792461,100.4287736,100.813735,100.7945775,85.8961,84.8893,84.75029593,100.701964,84.69560839,85.8603841,85.61807332,84.260409,84.95137332,84.8336,-70.55127896,85.0659,85.73450964,-70.72870081,-70.72870081,-70.55127896,11.24760442,84.255529,11.19601421,11.5376283,16.83993106,15.96240852,11.88509036,84.542626,11.68677364,15.96240852,10.97597752,16.68661904,11.62019984,16.77160903,11.62019984,16.77160903,16.73833287,16.67153319,16.61909011,15.40661766,16.08410131,11.5984712,16.56411421,16.6433144,16.57991597,16.77743231,84.542626,10.99932411,16.73077846,16.51912216,16.85331697,15.38160939,15.7591087,84.144518,11.04509249,11.68355304,16.50501453,16.61330964,88.47561465,88.53061403,88.52645679,88.29456631,88.53253194,30.46216,30.349532,30.393396,30.215683,30.121196,29.720613,30.005693,84.358683,84.448101,29.977255,84.483977,30.10908,84.405327,29.748913,84.420329,140.805954,30.048323,30.165492,-43.783765,140.916765,30.146123,30.080625,100.1728561,30.226743,30.233986,100.7204342,100.7170615,100.8145638,100.8171094,100.8237227,100.3436929,100.8295769,100.9261952,100.8004012,100.9253639,100.8229199,100.9028786,100.7995562,99.35538869,100.4454202,100.7811957,140.95162,100.4245663,100.7979546,100.4720491,100.9028906,99.3479078,100.778741,99.36207291,100.3661816,100.5470672,100.2228963,99.40620511,100.7787325,100.6363126,99.35207296,99.35039791,100.5445681,99.40876217,99.40959013,100.6329701,-78.209418,99.3512179,100.5578884,99.41374454,100.1804162,100.812963,100.5420281,100.1837838,100.5437587,99.35047461,99.35871552,-78.806055,100.8078064,99.36042672,100.761107,100.885428,100.811778,8.190185,99.694502,100.394119,101.388174,99.778491,101.339956,101.227241,101.272004,99.480741,100.622383,78.06,78.6,78.19,78.18,78.19,-78.805722,78.08,78.44,77.74,-78.322486,78.41,78.18,78.098216,-78.299724,78.38,78.05,-78.245238,78.05,77.70394925,77.83921,77.853222,78.07895324,78.22887823,78.253563,77.85309303,47.52897114,77.74386343,-78.745005,77.960439,78.207377,47.12582887,78.11141334,77.68560264,78.0065137,78.40149407,77.73736145,78.08734804,-121.659268,-120.250634,78.252748,78.007267,78.08815321,77.829305,78.30315448,78.035421,78.30476734,78.019605,-121.292781,103.49,-120.739076,103.5197222,46.82330526,-121.168272,103.4745,103.4746667,103.4830556,103.4668889,103.53,84.534687,84.524077,84.429831,84.475911,84.444272,84.365876,84.368724,84.397645,84.400846,84.402896,84.355473,84.360604,84.427107,-43.442952,-43.970694,-43.633326,-43.390299,6.696714,-43.351212,-43.576642,-43.497392,-43.572675,-78.38344,-43.590905,6.762267,-43.620919,6.860068,-43.598335,-78.456666,-43.562358,-78.726145,-43.576474,-43.650547,-43.460906,-43.702574,-43.415891,-43.693277,8.308613,-43.399789,-78.9141459,-43.680356,-78.94745335,-43.589877,-43.445983,-43.609216,-43.400153,-43.768239,-43.573972,-78.40250097,-78.726397,-78.89001227,-78.45664623,-78.270648,-78.89001227,-78.5667464,-78.77169956,-78.57331785,-78.4633151,-78.93421493,-78.80996193,-78.46252937,-112.3467157,-78.77169956,-78.57331785,-78.68922361,-78.77169956,-78.57331785,-78.8125216,-78.56085661,-78.830833,-78.9034556,-78.61252974,-78.92348504,-78.39332728,-78.9275191,-78.79669956,-78.87664346,-78.92587439,-78.89335629,-78.89846212,-78.92165773,-78.60830169,-78.95079825,-78.81496431,-78.785544,-78.81092386,-78.73760614,-78.803653,-78.79669956,-78.89335629,-78.79669956,-78.600542,-78.793761,-78.287288,-78.287288,8.460753,-78.287288,-78.287288,-122.386714,-78.748704,-78.244986,-78.793761,-78.234472,-78.177837,-78.282182,-78.105874,-78.76905,-78.256347,-78.351143,-78.793761,-78.793761,-78.368855,-78.208541,-78.279023,-78.49662,-122.023873,-78.176853,-78.414395,-78.653669,-78.723673,-78.653669,-78.653669,-78.653669,-78.7892,-78.365801,-78.803352,-78.290465,-78.804286,-78.393017,-78.239188,-78.264454,-78.745015,-78.691978,-78.355555,-78.355027,-78.355027,-78.355027,-78.662214,-78.355027,-78.781203,-78.421681,-78.62078,-78.573897,-78.810283,48.20389678,48.20770047,48.26556389,48.20859293,6.697705,89.7424,6.702274,89.73070933,7.057221,6.321594,6.785677,6.256599,6.78801,6.466577,6.097032,6.144857,6.459156,-70.301598,-70.301598,-70.016377,-69.863009,-69.863009,-69.863009,-69.629671,-69.629668,-122.270017,89.73824665,89.72744114,89.71217821,89.758,89.91162323,89.87327928,89.81906656,89.85073575,89.63485761,89.80170902,89.65899743,89.58158522,89.6331,89.79831929,89.8846,-48.752185,89.43738384,89.4431,89.3622,89.6169,89.6468,89.56492411,89.48405667,89.52904083,89.56404771,89.58194452,171.0117025,89.5632,89.59491616,89.5949288,89.59657652,89.58818071,170.401671,170.1308246,169.9966467,-80.85812085,170.9958316,170.4132802,169.8082627,-65.56592154,22.180246,22.356838,21.351937,31.49539975,21.407692,21.214118,20.376457,20.423264,80.70294157,80.63134087,20.846127,20.70578,20.664803,80.98067227,80.78660792,80.59510417,-48.912913,80.94316916,80.59347111,80.8356006,80.74828423,80.76470723,-48.773032,80.90811215,80.79810795,80.74657226,-80.17972398,80.85167039,80.63815463,80.75494631,80.66277896,80.71327301,-80.85812085,-65.38176594,-65.38176594,-82.39134772,-65.37004358,-65.37091021,-65.37004358,-48.864334,-65.37091021,-65.33437301,8.276096834,-65.33437301,-65.53185761,-65.5201402,-65.5201402,-80.85812085,-65.53185761,-65.53185761,-80.8473278,-65.54090326,-65.56592154,-65.54090326,-80.22566168,-65.54090326,-65.35096612,-65.35096612,-65.35096612,5.846541,5.973164,6.062101,5.897468,6.207552,6.063577,5.989066,6.485743,5.861961,78.59113525,6.445973,79.50866758,6.443325,6.482774,-80.833877,78.47393177,78.35951173,78.40761295,79.30162525,78.34840737,78.35823834,78.31520032,-82.164212,78.35483999,-82.24468106,79.48586148,79.32258667,79.28019268,-80.8306047,-82.2911,-80.8306047,-80.8306047,-80.46319285,-80.8306047,-82.16131741,-80.33718106,-82.17651165,-82.18230207,-82.32480676,-82.178689,-82.3831474,-82.21519493,-80.3730881,-82.21888979,-80.17972398,-80.29810946,-82.31144515,-80.4308717,-82.40477652,-82.40477652,-80.225741,-82.16718106,-80.85651947,-80.45067132,-80.79087157,-82.181916,-82.21890714,-82.33060388,-80.8473278,-80.8473278,-123.7189963,-80.8473278,-80.77801439,-80.77801439,-80.77801439,-80.77801439,-80.85884772,-80.85884772,-80.85884772,-80.85884772,-82.24468106,-80.85812085,-80.80145116,-80.80145116,-80.80145116,-80.80145116,-82.40551439,-80.450891,-80.833877,-80.833877,-80.833877,-82.380813,-82.217136,-80.371638,4.780871133,-82.218542,31.71039593,-80.297953,-82.400928,99.312752,-80.339933,-80.860143,-80.432667,31.83541641,-82.404869,-80.848014,-80.462798,-80.799088,4.724131935,-80.179747,-80.799088,-82.391152,-80.799088,11.022788,-80.858642,-80.858135,-83.35952253,-82.167358,-80.858135,8.218095132,-80.79103,-80.858135,-83.19400598,-82.32992,-80.858135,31.75534984,-82.220746,-82.233495,-80.848014,-80.848014,-80.848014,-80.778116,-80.778116,-80.778116,-80.778116,-80.799088,31.26208654,-80.860143,-80.860143,-80.860143,31.23537032,11.022614,31.49213795,31.49784759,31.83618297,31.6687479,-83.19879698,31.62706149,31.91456462,31.32462799,31.21543275,31.4287139,31.39289261,31.49784759,31.26208654,99.261395,99.449828,99.409898,99.317913,-83.51410895,99.092922,99.163326,99.286471,99.273352,99.306456,172.918288,-83.51410895,36.457885,172.7942415,-83.51410895,172.8324991,172.8250565,172.7525533,172.7658096,-83.21173263,172.8058458,-83.93368933,172.7882386,11.88430341,11.68664793,11.62147797,11.62147797,-83.41281672,15.40599972,-83.5153755,8.259427005,11.5977978,-83.5153755,16.08380554,-83.5153755,31.23635629,11.53713326,11.68943752,15.7597315,15.96238274,15.38071518,-83.30118425,-83.30118425,-83.30118425,-83.30118425,-83.30118425,15.96238274,11.54187938,-83.30118425,-83.30118425,-83.29485462,-83.41281672,-83.93569179,31.28206544,-83.70702837,-83.41281672,-83.07072733,-83.5153755,8.253496434,-83.30552668,-83.30800866,-83.70919428,-83.58206644,31.4929226,-83.4150395,-83.33607007,27.9046,-83.72434681,-83.51410895,-83.1933761,-83.43402172,-83.52760376,-83.59849455,-83.24654508,-83.59849455,-83.87813417,-83.59849455,-83.25489243,-83.59849455,-83.5395063,27.9046,-83.11513179,-83.56599246,-83.13030513,-83.77402101,-83.53549958,-83.31192068,-83.26371035,-83.23793438,11.020303,-83.20807654,-83.20549625,-83.52921848,-83.2133325,-83.22432713,-44.85082392,-44.84831107,-44.55418641,-44.49594759,-44.53920733,-44.63667808,-44.58919969,-44.49587182,-44.55167858,-44.63501283,-44.53418566,-44.58667727,-44.50998196,-44.69330324,11.019366,-44.69250038,-44.46923795,-44.68001393,-44.80753788,31.22879061,-44.55330946,-44.53922599,-44.63262623,-44.60414984,-44.64255545,-44.64835266,-44.59589067,-44.68335288,-44.62247257,-44.63251228,-44.58511478,-44.59567377,77.457621,77.837495,77.415415,77.434368,77.767514,77.842948,4.411709643,77.288626,77.827649,31.23046558,77.3226,4.8008,77.855728,-123.9115488,77.66366,-123.908234,77.762422,-124.0244604,-2.182,77.819255,77.35306,-124.0646891,-123.7354812,-123.7548582,-123.7218576,-123.7306594,-123.7199813,4.2108,4.665799937,4.529986349,4.5497,4.501667877,4.380814151,-112.3460271,4.639121603,4.755852536,4.6627,4.7272,4.408323481,4.803478773,4.5558,4.740142893,-112.3590011,4.2942,4.5961,4.500793237,4.681584033,4.77583276,4.805728554,4.304127904,4.3922,4.760760344,-65.77677513,-65.81428857,-65.90672,31.27416667,-65.93982703,9.44091077,9.219199875,-65.90671132,-65.88170843,9.470885786,9.224237946,-118.5863529,9.440000626,9.43835216,9.185057733,9.254,9.207524108,9.486724609,9.174235567,9.161771572,8.991714465,8.970942893,31.28039975,31.50293275,9.145904822,9.130904822,31.28879061,31.50332812,31.2670119,31.272,31.243,-115.2363311,-115.3745991,-115.306328,-115.2488813,-115.2546242,-115.297106,-115.2538205,-115.2096257,-115.4204786,-115.2213249,-115.2729525,-115.3062807,-115.1704566,-115.2513264,-115.2004272,-118.6201218,-115.2921163,-115.3612214,-115.3728,-115.1731,-115.174,-115.2637867,-115.2663378,-115.2154554,-115.1704566,-115.2246333,-115.1541,106.4466,100.709206,99.925607,99.75655,100.805481,99.621305,100.404466,99.743146,99.879568,100.841564,100.841564,100.381861,100.634367,100.365735,99.863737,99.610583,99.889533,100.036587,100.02346,100.02346,100.538473,100.488106,99.616395,99.616395,100.05755,100.648572,100.648572,100.113423,80.59510417,80.63815463,80.63815463,80.63815463,80.63815463,-112.3632158,80.59510417,80.59510417,80.59510417,80.63815463,-118.6120985,-112.3040856,-118.6266391,-118.5991387,-112.2908869,-118.6489689,-118.7004588,-118.6503969,-118.600408,-118.6386637,-112.4060585,-112.3835138,-118.7174342,-118.5897914,-112.3255052,-118.7677435,-118.6849985,-112.3357564,78.9969963,79.02258117,79.05247699,79.01252365,79.01657965,79.08581112,78.93519444,78.86172222,-43.777764,-43.780298,90.750018,-43.726602,-43.671457,-43.701843,-43.652047,77.87433,-43.734506,-43.716665,-42.684131,77.98815,-42.721349,-42.775295,-42.775369,-42.874595,-42.836436,-42.662627,-42.892934,78.27039,-42.924988,-42.65354,-42.636808,90.74372,91.184782,90.652259,89.931327,90.645554,90.039016,89.897579,78.25183,90.153899,90.175153,90.745661,90.00429,-118.1566679,90.052201,89.85162,78.26654,-117.7613205,-118.1238479,16.433583,16.459222,16.434851,16.089481,-118.1096781,16.245457,-117.6367593,16.278043,-117.9660441,16.09039,-117.7401975,-117.9053527,-117.7327604,-118.195807,-117.8893833,-118.1203371,-117.9746605,-118.2509915,-2.114,-117.742084,-117.742084,-117.6367593,-117.7308806,-117.9808938,-117.8912541,-117.7893951,-118.2553083,-117.762809,-117.991957,-118.1031402,-117.9016076,-117.9491952,-117.8054619,-118.0275715,-118.026632,-118.0288276,-118.163278,-117.7912867,-117.7996334,-118.0104209,-118.1481143,-118.0472915,-118.083053,-118.0850704,-1.793,-117.9928792,-118.0841216,-118.0104584,-117.8015431,-117.9956637,-117.9965857,-118.0490265,-117.989273,-117.9891263,-118.0210043,-118.0266984,-78.88185098,-78.92282285,-78.89358243,-78.88185098,-78.91173878,-114.5715456,-78.93212067,-78.95092045,-124.008634,-78.89731605,-78.87265452,-78.92080483,-78.89358243,-78.80833793,-78.80035691,-78.80035691,-78.80035691,-78.92308354,-78.94972694,83.91835205,-111.7410481,83.96748462,83.95332708,83.9497,83.93670221,83.9341995,-111.7366351,83.9341995,-111.7251089,83.94917107,-111.7990278,83.90497056,83.89251292,80.802494,83.94917107,-111.7990278,83.95918302,-123.1528504,83.95913314,-67.8699881,34.940038,83.88665154,83.8808236,-67.85001428,83.95997132,84.874577,83.95997132,-111.8399487,83.98501113,83.88334594,83.96921912,84.854033,83.96914006,84.834333,83.97565,84.81931,-111.7010166,83.97565,84.864106,8.214064,83.98501113,-123.2862241,-123.655421,-123.6729334,-123.2888287,-123.5596235,-123.6521408,-123.5029244,-123.4532,-123.4679093,-123.2862718,34.940038,-123.4122113,77.490094,-68.15997145,-67.86997621,121.530088,121.467692,121.449215,121.424025,121.420582,34.937616,121.38042,84.73059,34.937616,121.42501,121.377701,34.937616,84.729139,84.74357,-111.901207,-111.8627183,-111.897607,-111.8698084,-111.8873216,-111.8712529,-111.9025786,-111.8190448,8.239716,77.46816,8.126739,8.140844,8.161078,8.253707,8.297008,8.212937,8.228379,8.219695,34.937616,8.248278,8.196057,8.227562,8.213093,8.208545,8.17339,77.61545,8.158167,8.162143,8.230383,8.163934,77.459588,77.622467,77.603611,77.76004,77.760008,80.797473,77.80201,77.725902,77.802619,77.785121,9.063772,9.082083,9.072123,9.039319,9.077054,-122.507688,8.862132,8.943761,8.917071,9.027931,8.930401,9.080523,8.94501,8.968758,8.960424,8.999598,8.96793,8.942096,35.105961,34.93813,80.78491135,34.942795,-122.480075,34.93824,-121.3016383,-123.824,-123.8108715,-123.9050571,-124.1049524,-124.1041904,-122.427775,-105.380995,-122.374153,-122.391683,16.419892,-122.389955,-122.336444,-122.288789,16.231486,-122.380255,-122.217255,-122.34955,-75.65332168,-122.14585,-122.12604,-122.548644,-122.120305,-75.70660365,-122.050001,-122.033005,-75.67499704,-121.940177,16.344922,16.313166,-122.546621,-75.72083446,-105.325069,-75.70669582,-105.471833,-121.3277,-75.67745481,-75.64835446,-105.420284,-105.421291,-105.460209,-105.309372,-105.365831,-105.33574,-105.44625,-105.402718,-105.476749,-105.473939,8.222776372,-69.47964308,8.281163166,-69.54869606,8.200660086,8.162650413,8.453689021,8.242053742,8.366817141,8.253108647,8.320909485,8.262044485,8.366666667,27.785345,27.800709,-69.02572,27.777237,27.789819,27.80964,-121.3041901,-68.98174,-68.961622,-69.136988,-69.144719,-116.938472,-69.100682,-117.05448,-117.075616,-117.032489,-116.927972,-122.548644,-117.056033,-117.062615,-116.940113,-116.955477,-117.090225,-117.043854,-116.966816,-116.983821,-116.980561,-116.979751,-116.951371,-117.015431,-117.043797,-116.935146,-116.928661,140.895419,140.923319,140.92022,140.839143,140.785577,8.152845,8.418717,8.38754,8.343457,-79.32487438,8.435243,8.745479,8.750964,8.348306,-79.50652195,8.446782,8.356128,-79.32071846,-79.53106263,-79.41132393,-79.31605005,-79.50646939,-79.41139419,-122.405629,-79.50526901,-79.41625072,-79.32250229,-79.26104791,-79.27235961,-79.26307604,-79.2717427,-79.35241771,-79.33019604,-122.22998,-48.87523,137.8199,137.74,-48.913234,-48.93504,137.7817,137.7042,-48.931306,-48.984021,137.8076,-48.865616,137.6842,137.6766,137.7758,137.7925,137.775,-120.060223,137.7725,137.7866,137.8134,137.8091,137.7725,-44.6359,84.3321032,84.3321032,84.29209788,84.3321032,84.3321032,-44.49700564,84.3321032,84.3321032,-44.58530989,84.29627406,84.29627406,84.29627406,-44.63285949,84.29627406,84.29627406,84.29627406,-44.53865016,84.28794092,84.28794092,84.287101,84.29209788,84.28794092,84.287101,84.29209788,84.28794092,84.287101,84.29209788,84.28794092,84.287101,84.28794092,84.287101,84.29209788,-44.54034233,-44.59612862,-44.64202721,-44.6036335,8.0045,7.939921227,8.099204696,7.93747201,8.001655854,8.216287288,7.931642768,7.989114778,7.996695429,8.014014277,8.032105733,8.004999749,7.984091358,7.9233,8.013271446,7.970828679,-114.5224955,7.983435379,8.262189269,8.235452272,8.283070584,-114.5224955,8.197988842,8.324613913,8.228852695,8.307186151,8.293027499,-120.065491,8.203014183,8.189667843,8.206290767,8.173021396,7.892102767,8.170429199,8.270394912,8.270394912,8.185431731,7.986290505,7.915450062,8.061989306,7.888159501,8.001204657,-2.216,7.981158223,7.966169941,7.97082835,7.97082835,7.97082835,7.892955633,7.884605196,7.918744242,-43.73173468,-2.622,-43.83920849,-43.73173468,-43.83920849,-2.358,-43.73672357,-43.73672357,-43.83920849,-120.060223,-43.73173468,-43.73173468,-43.83920849,-43.73672357,7.680346526,7.663714403,7.652842768,7.564537194,7.637885598,7.560270757,7.553821854,-114.5224955,-114.5224955,-114.5224955,-114.5224955,-114.5238522,-114.5051846,-114.5156186,-114.5347495,-114.5156186,-114.5347495,-114.5156186,-114.5347495,-114.5156186,-114.5203567,-114.5311782,-114.5338849,-114.5311782,-114.519309,-114.517154,-114.4988507,-114.5140206,-114.523975,-114.5696652,-114.5217462,-114.5582696,-114.5582696,-114.5582696,-120.065491,-114.5696652,-114.5696652,-114.5721654,-114.5721654,-114.5715456,-114.5715456,-123.967373,-123.967373,-123.8592,-123.867247,-123.853923,-123.8592,11.029984,-123.82137,-123.818105,-123.817809,-123.852264,11.03103,-123.922432,-123.922432,-123.922432,11.073403,11.065985,11.050922,11.046091,11.039059,11.036322,11.051251,11.0531,11.036797,11.037781,80.81841534,80.76232216,80.75312027,80.78410168,80.78993083,80.78741979,80.8041591,80.78407386,80.81001684,80.7606636,80.77737033,80.7916191,80.78741464,80.80164147,80.78409132,80.79914799,-121.3299569,-121.3108048,-121.3283571,-121.3266909,-120.065491,-121.3108334,-121.3291718,-121.3158426,-121.2408621,-121.3058335,-121.2475142,140.807,140.7543807,86.72698867,86.72948303,86.75036756,86.76447083,86.78115116,86.7855,86.79038334,-120.060223,8.060471,8.072089,-65.53058948,8.125408,8.124617,8.093754,-107.102046,8.087892,8.11955,8.121238,8.133728,8.069572,8.068776,-124.243214,-124.243214,-124.037933,-65.48904984,-124.037933,-124.241848,-124.045691,-124.045691,-120.065491,-65.48904984,-65.5231,-65.5231,-65.53058979,-107.100686,-65.5056144,-65.53058979,-65.53058948,-65.5056144,9.741170757,9.741170757,9.741170757,9.741170757,6.257509205,9.741170757,9.741170757,9.741170757,6.257519349,9.741170757,9.749556982,9.749556982,9.749556982,9.749556982,9.749556982,9.749556982,9.749556982,-110.7508761,-110.7617215,-110.7883502,-3.507711887,-3.512431252,-3.493459505,-3.507721974,-1.795,-3.486887319,-3.48981743,-3.45766481,-3.493582,-106.5119718,-106.5269193,-106.5978,-106.5753436,128.7216698,-1.793,128.7066667,128.6949804,128.6925979,128.6933187,128.7075116,128.7258426,-116.940084,-116.962734,-116.9896618,-116.9871476,-116.9855002,-116.9771775,-116.9904984,-116.962182,-116.962182,-2.054,-116.962182,-116.962182,-116.9913465,-116.9913465,-116.9921454,-116.9613358,-1.754,-2.649,-2.599,-2.106,-2.449,-107.090693,-2.034,-2.04,-1.835,-1.895,-1.939,34.944113,-2.176,-123.6056302,-123.6056995,135.281528,135.258,34.944113,135.247944,135.219167,135.208778,135.196583,135.172361,137.764922,137.761311,140.760139,137.760274,137.751314,137.757176,137.75779,137.714965,137.756883,137.741403,137.711615,140.721833,137.717394,140.834333,137.708257,137.706078,140.659389,34.944113,137.702963,140.654111,137.704328,140.653722,34.944113,137.705846,140.790194,137.700345,137.702469,137.709791,140.832167,140.662944,-43.66222,34.943442,-43.665428,-43.663915,-43.668024,-107.106698,34.940038,-65.957672,-65.957672,-65.957672,-65.957672,-65.957672,-65.957672,-65.957672,-107.106698,-107.106698,28.20746,28.239366,28.16119,28.163045,28.044034,28.168524,28.170473,28.070265,28.082918,-65.785621,-65.795735,134.3981442,138.5901158,133.300882,146.9295903,134.3920638,150.162387,150.161654,146.8628855,134.4331066,138.5522439,138.575576,133.295775,149.483757,137.9546587,139.414076,133.288191,149.407731,137.9324425,137.9483445,137.9483445,137.9502142,133.289146,133.297338,146.4370529,133.269901,133.299982,133.269901,133.30492,132.535501,132.35485,132.35485,146.8603599,132.363925,132.569954,132.560747,145.6488184,145.6124143,145.6774795,145.5128681,145.6712454,146.4287099,145.5128681,145.6350014,145.6891808,145.551675,145.5578449,147.2279115,145.6350014,145.6441883,145.6541858,145.68082,145.6814397,146.4221923,147.0495349,147.5578844,146.4495806,146.4803724,146.4854261,146.4286869,146.484668,146.4545799,146.4287049,146.4903247,146.4953144,146.497963,146.495309,146.5234409,146.5228599],\"marker\":{\"color\":\"#1F77B4\",\"symbol\":\"circle\"},\"mode\":\"markers\",\"name\":\"Fluvial\",\"showlegend\":true,\"type\":\"scattergeo\"},{\"customdata\":[[\"Andvord Bay\",\"Antarctica\"],[\"Annapurna III, Himalaya\",\"Himalaya\"],[\"Antarctic Peninsula\",\"Antarctica\"],[\"Antarctic Peninsula\",\"Antarctica\"],[\"Antarctic Peninsula\",\"Antarctica\"],[\"Antarctic Peninsula\",\"Antarctica\"],[\"Antarctic Peninsula\",\"Antarctica\"],[\"Antarctic Peninsula\",\"Antarctica\"],[\"Antarctic Peninsula\",\"Antarctica\"],[\"Antarctic Peninsula\",\"Antarctica\"],[\"Antarctic Peninsula\",\"Antarctica\"],[\"Antarctic Peninsula\",\"Antarctica\"],[\"Antarctic Peninsula\",\"Antarctica\"],[\"Argentina\",\"Patagonia\"],[\"Baffin Island, Canada\",\"North American Cordillera\"],[\"Baffin Island, Canada\",\"Laurentide\"],[\"Baffin Island, Canada\",\"Laurentide\"],[\"Barents Sea-Svalbard continental margin\",\"Fennoscandia\"],[\"Bj\\u00f8rn\\u00f8ya Fan\",\"Fennoscandia\"],[\"British Columbia, Canada\",\"North American Cordillera\"],[\"Cairngorm Mountains, Scotland\",\"British Isles\"],[\"Cairngorm Mountains, Scotland\",\"British Isles\"],[\"Carpathian Mountains, Romania\",\"Alps\"],[\"Carpathian Mountains, Romania\",\"Romania \"],[\"Central Alps, Austria\",\"Alps\"],[\"Central Alps, Switzerland\",\"Alps\"],[\"Chugach Mountains, Alaska\",\"North American Cordillera\"],[\"Chugach\\u2013St. Elias Range, Alaska\",\"North American Cordillera\"],[\"Coast Mountains, British Columbia\",\"North American Cordillera\"],[\"Dorrel Rock intrusive complex, Marie Byrd Land\",\"Antarctica\"],[\"Dorrel Rock intrusive complex, Marie Byrd Land\",\"Antarctica\"],[\"Dronning Maud Land Mountains\",\"Antarctica\"],[\"Dry Valleys, East Antarctica\",\"Antarctica\"],[\"Dry Valleys, East Antarctica\",\"Antarctica\"],[\"Dry Valleys, East Antarctica\",\"Antarctica\"],[\"Dry Valleys, East Antarctica\",\"Antarctica\"],[\"Dry Valleys, East Antarctica\",\"Antarctica\"],[\"Dry Valleys, East Antarctica\",\"Antarctica\"],[\"Dudh Catchment, Himalaya\",\"Himalaya\"],[\"East Antarctica\",\"Antarctica\"],[\"East Greenland\",\"Greenland\"],[\"Eastern Pyrenees, France\",\"France\"],[\"Eastern Sweden\",\"Fennoscandia\"],[\"Ellsworth Mountains\",\"Antarctica\"],[\"Eqaluit tassersuat, Infinity Lake, and Ted Lake, Greenland\",\"Greenland\"],[\"Fann Mountains, Sughd, Tajikistan\",\"Central Asia\"],[\"Fiordland, New Zealand\",\"Oceania\"],[\"Forsmark/Uppland, Sweden\",\"Fennoscandia\"],[\"Front Range, Colorado\",\"North American Cordillera\"],[\"Glacier Bay, Alaska\",\"North American Cordillera\"],[\"Glacier Bay, Alaska\",\"North American Cordillera\"],[\"Glacier Bay, Alaska\",\"North American Cordillera\"],[\"Glacier Bay, Alaska\",\"North American Cordillera\"],[\"Glacier Bay, Alaska\",\"North American Cordillera\"],[\"Glacier Bay, Alaska\",\"North American Cordillera\"],[\"Glacier Bay, Alaska\",\"North American Cordillera\"],[\"Glacier Bay, Alaska\",\"North American Cordillera\"],[\"Greenland\",\"Greenland\"],[\"Gulf of Alaska/St. Elias Mts\",\"North American Cordillera\"],[\"Herbert Sound\",\"Antarctica\"],[\"Hidden Valley, Mukut Himal, Nepal Himalaya\",\"Himalaya\"],[\"Hilda, Rocky Mts, Canada\",\"North American Cordillera\"],[\"Himalaya\",\"Himalaya\"],[\"Himalaya\",\"Himalaya\"],[\"Himalaya\",\"Himalaya\"],[\"Himalaya\",\"Himalaya\"],[\"Himalaya\",\"Himalaya\"],[\"Himalaya\",\"Himalaya\"],[\"Himalaya\",\"Himalaya\"],[\"Hunza basin, Karakoram, Pakistan Himalaya\",\"Himalaya\"],[\"Iceland\",\"Iceland\"],[\"Iceland\",\"Iceland\"],[\"Iceland\",\"Iceland\"],[\"Iceland\",\"Iceland\"],[\"Iceland\",\"Iceland\"],[\"Iceland\",\"Iceland\"],[\"Iceland\",\"Iceland\"],[\"Iceland\",\"Iceland\"],[\"Iceland\",\"Iceland\"],[\"Icy Bay, Alaska\",\"North American Cordillera\"],[\"Icy Bay, Alaska\",\"North American Cordillera\"],[\"Ilulissat region\",\"Greenland\"],[\"Ilulissat region\",\"Greenland\"],[\"Issyk Kul region, Kyrgyzstan\",\"Central Asia\"],[\"J\\u00f8kulsk\\u00e1, Iceland\",\"Iceland\"],[\"Kangerlussuaq Fjord\",\"Greenland\"],[\"Kebnekaise, Sweden\",\"Fennoscandia\"],[\"Keewatin Peninsula Ontario\",\"Laurentide\"],[\"Khansar Catchment, Himalaya\",\"Himalaya\"],[\"Klinaklini Valley, Coast Mountains, British Columbia\",\"North American Cordillera\"],[\"Kr\\u00e5kenes, Norway\",\"Norway\"],[\"Lambert basin\",\"Antarctica\"],[\"Lambert trough, East Antarctica\",\"Antarctica\"],[\"Lapeyr\\u00e8re Bay\",\"Antarctica\"],[\"Lapis de Tsanfleuron, Switzerland\",\"Alps\"],[\"Laurentia\",\"Laurentide\"],[\"Little Lake, Coast Range, Oregon\",\"North American Cordillera\"],[\"Lituya Bay, Alaska\",\"North American Cordillera\"],[\"Lituya Bay, Alaska\",\"North American Cordillera\"],[\"Magallanes Region, Chile\",\"Patagonia\"],[\"Maxwell Bay\",\"Antarctica\"],[\"Mid-Norwegian Margin\",\"Fennoscandia\"],[\"Mikis Fjord\",\"Greenland\"],[\"Mont Blanc massif\",\"Alps\"],[\"Mt Murphy, Marie Byrd Land\",\"Antarctica\"],[\"Mt. Erie, Puget Lowland, Washington\",\"North American Cordillera\"],[\"Mt. Mansfield, Vermont\",\"Laurentide\"],[\"Nansen Fjord\",\"Greenland\"],[\"Nar Catchment, Himalaya\",\"Himalaya\"],[\"NE Canada\",\"Laurentide\"],[\"NE Canada\",\"Laurentide\"],[\"NE Svalbard margin\",\"Fennoscandia\"],[\"New Hampshire\",\"Laurentide\"],[\"New Zealand\",\"Oceania\"],[\"New Zealand \",\"Oceania\"],[\"Northern Patagonia\",\"Patagonia\"],[\"Norway\",\"Fennoscandia\"],[\"Norway\",\"Fennoscandia\"],[\"Norway\",\"Fennoscandia\"],[\"Norway\",\"Fennoscandia\"],[\"Norway\",\"Fennoscandia\"],[\"Norway\",\"Fennoscandia\"],[\"Norway\",\"Fennoscandia\"],[\"Norway\",\"Fennoscandia\"],[\"Norway\",\"Fennoscandia\"],[\"Norway\",\"Fennoscandia\"],[\"Norway\",\"Fennoscandia\"],[\"Norway\",\"Fennoscandia\"],[\"Norway\",\"Fennoscandia\"],[\"Norway\",\"Fennoscandia\"],[\"Norway\",\"Fennoscandia\"],[\"Norway\",\"Fennoscandia\"],[\"Norway\",\"Fennoscandia\"],[\"Norway\",\"Fennoscandia\"],[\"Norway/Sweden\",\"Fennoscandia\"],[\"Norwegian margin\",\"Fennoscandia\"],[\"NW Barents / Storfjorden Fan\",\"Fennoscandia\"],[\"Pamir mountains, Gorno-Badakhshan, Tajikistan\",\"Central Asia\"],[\"Patagonia\",\"Patagonia\"],[\"Patagonia\",\"Patagonia\"],[\"Patagonia\",\"Patagonia\"],[\"Patagonia\",\"Patagonia\"],[\"Patagonian Andes\",\"Patagonia\"],[\"Petermann catchment\",\"Greenland\"],[\"Pine Island Glacier\",\"Antarctica\"],[\"Prydz Bay, East Antarctica\",\"Antarctica\"],[\"Qeqqata\",\"Greenland\"],[\"Raikgt, Pakistan Himalaya\",\"Central Asia\"],[\"Rwenzori Mountains\",\"East Africa\"],[\"Sermeq Kujalleq forefield, Greenland\",\"Greenland\"],[\"Shackleton Range\",\"Antarctica\"],[\"Sognefjord drainage basin, Norway\",\"Fennoscandia\"],[\"Sognefjord drainage basin, Norway\",\"Fennoscandia\"],[\"South Shetland Islands\",\"Antarctica\"],[\"South-Central Chilean Andes\",\"Chile\"],[\"Southern Coast Mountains, British Columbia\",\"North American Cordillera\"],[\"Southern French Alps\",\"Alps\"],[\"St. Elias Mountains, Alaska\",\"North American Cordillera\"],[\"St. Elias Mountains, Alaska\",\"North American Cordillera\"],[\"St. Elias Mountains, Alaska\",\"North American Cordillera\"],[\"St. Elias Mountains, Alaska\",\"North American Cordillera\"],[\"St. Elias Mountains, Alaska\",\"North American Cordillera\"],[\"St. Elias Mountains, Alaska\",\"North American Cordillera\"],[\"St. Elias Mountains, Alaska\",\"North American Cordillera\"],[\"St. Elias Mountains, Alaska\",\"North American Cordillera\"],[\"St. Elias Mountains, Alaska\",\"North American Cordillera\"],[\"St. Elias Mountains, Alaska\",\"North American Cordillera\"],[\"St. Elias Mountains, Alaska\",\"North American Cordillera\"],[\"St. Elias Mountains, Alaska\",\"North American Cordillera\"],[\"St. Elias Mountains, Alaska\",\"North American Cordillera\"],[\"St. Elias Mountains, Alaska\",\"North American Cordillera\"],[\"St. Elias Mountains, Alaska\",\"North American Cordillera\"],[\"St. Elias Mountains, Alaska\",\"North American Cordillera\"],[\"St. Elias Mountains, Alaska\",\"North American Cordillera\"],[\"St. Elias Mountains, Alaska\",\"North American Cordillera\"],[\"St. Elias Mountains, Alaska\",\"North American Cordillera\"],[\"St. Elias Mountains, Alaska\",\"North American Cordillera\"],[\"St. Elias Mountains, Alaska\",\"North American Cordillera\"],[\"St. Elias Mountains, Alaska\",\"North American Cordillera\"],[\"St. Elias Mountains, Alaska\",\"North American Cordillera\"],[\"St. Elias Mountains, Alaska\",\"North American Cordillera\"],[\"St. Elias Mountains, Alaska\",\"North American Cordillera\"],[\"St. Elias Mountains, Alaska\",\"North American Cordillera\"],[\"St. Elias Mountains, Alaska\",\"North American Cordillera\"],[\"St. Elias Mountains, Alaska\",\"North American Cordillera\"],[\"St. Elias Mountains, Alaska\",\"North American Cordillera\"],[\"St. Elias Mountains, Alaska\",\"North American Cordillera\"],[\"St. Elias Mountains, Alaska\",\"North American Cordillera\"],[\"St. Elias Mountains, Alaska\",\"North American Cordillera\"],[\"St. Elias Mountains, Alaska\",\"North American Cordillera\"],[\"St. Elias Mountains, Alaska\",\"North American Cordillera\"],[\"St. Elias Range, Alaska\",\"North American Cordillera\"],[\"Storfjorden Fan\",\"Fennoscandia\"],[\"Svalbard\",\"Fennoscandia\"],[\"Svalbard\",\"Fennoscandia\"],[\"Svalbard\",\"Fennoscandia\"],[\"Svalbard\",\"Fennoscandia\"],[\"Svalbard\",\"Fennoscandia\"],[\"Svalbard\",\"Fennoscandia\"],[\"Svalbard\",\"Fennoscandia\"],[\"Svalbard\",\"Fennoscandia\"],[\"Svalbard\",\"Fennoscandia\"],[\"Svalbard\",\"Fennoscandia\"],[\"Svalbard margin\",\"Fennoscandia\"],[\"SW Barents /  Bj\\u00f8rn\\u00f8ya Fan\",\"Fennoscandia\"],[\"Swiss Alps\",\"Alps\"],[\"Swiss Alps\",\"Alps\"],[\"Swiss Alps\",\"Alps\"],[\"Switzerland\",\"Alps\"],[\"Switzerland\",\"Alps\"],[\"Switzerland\",\"Alps\"],[\"Switzerland\",\"Alps\"],[\"Switzerland\",\"Alps\"],[\"Switzerland\",\"Alps\"],[\"Switzerland\",\"Alps\"],[\"Switzerland\",\"Alps\"],[\"Tierra del Fuego\",\"Patagonia\"],[\"Tin\\u00e9e Valley, France\",\"Alps\"],[\"Torngat Mountains, Labrador, Canada\",\"Laurentide\"],[\"Transantarctic Mountains\",\"Antarctica\"],[\"Troms margin\",\"Fennoscandia\"],[\"UK/Britain\",\"British Isles\"],[\"UK/Scotland\",\"British Isles\"],[\"Valais, Switzerland\",\"Alps\"],[\"Vanj River basin, Gorno-Badakhshan, Tajikistan\",\"Central Asia\"],[\"Var River catchment, Southern Alps\",\"Alps\"],[\"Vestfjorden, Norway\",\"Norway\"],[\"W. Greenland\",\"Greenland\"],[\"Walensee Valley, Switzerland\",\"Switzerland\"],[\"Watson River, Greenland\",\"Greenland\"],[\"Wisconsin, USA\",\"Laurentide\"],[\"Wrangell Mountains, Alaska\",\"North American Cordillera\"],[\"Wrangell Mountains, Alaska\",\"North American Cordillera\"],[\"Yosemite, California\",\"North American Cordillera\"],[\"Yosemite, California\",\"North American Cordillera\"],[\"Zaravshanskiy\",\"Central Asia\"],[\"\\u041b\\u0435\\u0434\\u043d\\u0438\\u043a \\u0410\\u044e\\u0442\\u043e\\u0440\",\"Central Asia\"],[null,null],[\"Earth\",null],[\"Mars\",null],[null,null],[\"Snowball\",null],[\"Earth\",\"global\"],[\"Nanhua basin\",\"China\"],[\"Adelaidean Inlier/Arkaroola\",\"Australia\"],[\"Utah\",\"USA\"],[\"Duurwater trough\",\"Namibia\"],[\"Seacliff Sandstone, Adelaide Geosyncline\",\"Australia\"],[\"South Australia\",\"Australia\"],[\"Ellery Creek\",\"Australia\"],[\"Oman\",\"Morocco\"],[\"Chuos Formation, N. Namibia\",\"Namibia\"],[\"Congo craton\",\"Namibia\"]],\"geo\":\"geo\",\"hovertemplate\":\"<b>%{hovertext}</b><br><br>type=Glacial<br>lat=%{lat}<br>long=%{lon}<br>locality=%{customdata[0]}<br>region=%{customdata[1]}<extra></extra>\",\"hovertext\":[\"Andvord Bay\",\"Milarepa's Glacier\",\"Andvord Bay\",\"Bagshawe\",\"Bolton\",\"Cadman\",\"Cayley\",\"Fourcade\",\"Funk\",\"Lever\",\"Renard/Krebs\",\"Rutford Ice Stream\",\"Western Antarctic Peninsula average\",\"Lago Buenos Aires\",\"Oliver Glacier\",\"Pangnirmng Fjord\",\"Tumbling Glacier\",\"unnamed\",\"Fennoscandian Ice Sheet\",\"Klinaklini Valley\",\"Scottish Ice Sheet\",\"unnamed\",\"Mu\\u0219eteica-Buda area\",\"Retezat Mts\",\"Venter Ache at Vent (Oetztal)\",\"Herens Glacier\",\"Bench\",\"unnamed\",\"unnamed\",\"Antarctic Ice Sheet\",\"West Antarctic Ice Sheet\",\"unnamed\",\"Antarctic Ice Sheet\",\"Beardmore glacier\",\"Mackay Glacier\",\"Meserve\",\"Side lobe of the Taylor Glacier in Arena Valley\",\"Unknown glacier in Arena Valley\",\"unnamed\",\"Gamburtsev Mountains\",\"Greenland Ice Sheet\",\"unnamed\",\"Fennoscandian Ice Sheet\",\"Antarctic Ice Sheet\",\"S of Jakobshavn Isb\\u00e6, Greenland\",\"Imat\",\"Neale Burn\",\"Fennoscandian Ice Sheet\",\"Arapaho Glacier\",\"Caroll\",\"Grand Pacific\",\"Grand Pacific/Margerie\",\"Johns Hopkins\",\"Margerie\",\"McBride\",\"Muir\",\"Riggs\",\"Greenland Ice Sheet\",\"unnamed\",\"Herbert Sound\",\"G2 Glacier\",\"Hilda\",\"Bara Shigri Glacier\",\"Hamtah Glacier\",\"Imja-Lhotse-Shar Glacier\",\"Khumbu Glacier\",\"Milerapa Glacier\",\"Ngzompa Glacier\",\"Satopanth Glacier\",\"Batura Glacier\",\"Brei\\u00f0amerkurj\\u00f6kull\",\"Eastern Icelandic Ice Sheet\",\"Hofsj\\u00f6kull\",\"Iceland shelf average\",\"Langj\\u00f6kull\",\"M\\u00fdrdalsj\\u00f6kull\",\"NW Iceland average\",\"Southern Icelandic Ice Sheet\",\"Vatnaj\\u00f6kull\",\"Icy Bay\",\"Tyndall\",\"Jakobshavn Isbr\\u00e6\",\"palaeo-Jakobshavn Isbr\\u00e6\",\"Karabatkak\",\"J\\u00f8kulsk\\u00e1\",\"Kangerlussuaq\",\"Storglaci\\u00e4ren\",\"Laurentide Ice Sheet\",\"unnamed\",\"unnamed\",\"Younger Dryas cirque glacier at Kr\\u00e5kenes\",\"Antarctic Ice Sheet\",\"East Antarctic Ice Sheet\",\"Lapeyr\\u00e8re Bay\",\"Tsanfleuron\",\"Laurentide Ice Sheet\",\"unnamed\",\"Crillon\",\"Lituya/N. Crillon\",\"Europa glacier\",\"Maxwell Bay\",\"Fennoscandian Ice Sheet\",\"Mikis Fjord\",\"Bossons Glacier\",\"West Antarctic Ice Sheet\",\"Cordilleran Ice Sheet\",\"Laurentide Ice Sheet\",\"Nansen Fjord\",\"unnamed\",\"Cambridge Fjord\",\"Coronation Fjord\",\"Fennoscandian Ice Sheet\",\"Laurentide Ice Sheet\",\"Ivory Glacier\",\"Franz Josef\",\"Gualas Glacier\",\"Austre Memurubreen\",\"average\",\"B\\u00f8dalsbreen\",\"Bondhusbreen\",\"Engabreen\",\"Engabreen (2)\",\"Erdalsbreen\",\"Hogbreen\",\"H\\u00f8gtuvbreen\",\"Nigardsbreen\",\"Sandskardfonna\",\"Sk\\u00e5tlbreen\",\"Steinhusflatebreen\",\"Tindefjellsbreen\",\"Trollbergdalsbreen\",\"Tverrelvskardet\",\"Vesledalsbreen\",\"Visa\",\"Fennoscandian Ice Sheet\",\"unnamed\",\"Fennoscandian Ice Sheet\",\"Fedchenko\",\"Jorge Montt\",\"San Rafael\",\"San Rafael glacier\",\"Tyndall\",\"unnamed\",\"Petermann\",\"West Antarctic Ice Sheet\",\"East Antarctic Ice Sheet\",\"Leverett Glacier\",\"Raikgt\",\"unnamed\",\"Greenland Ice Sheet\",\"Antarctic Ice Sheet\",\"unnamed (1)\",\"unnamed (2)\",\"Maxwell Bay\",\"unnamed\",\"unnamed\",\"unnamed\",\"Agassiz\",\"Bering\",\"Fan\",\"Guyot\",\"Hayden\",\"Hubbard\",\"Khitrov\",\"Leeper\",\"Libbey\",\"Malaspina\",\"Martin River\",\"Martin River East\",\"Martin River West\",\"Marvine\",\"Marvine West\",\"Miles\",\"Mt. Foresta\",\"Mt. Steller A\",\"Mt. Steller B\",\"Mt. Steller C\",\"Mt. Steller D\",\"Mt. Steller E\",\"Mt. Steller F\",\"Mt. Tom White\",\"Seward\",\"Steller\",\"Turner\",\"Tyndall\",\"Valerie\",\"Variegated\",\"White River\",\"Yaga\",\"Yahtse\",\"Yakataga\",\"average\",\"Fennoscandian Ice Sheet\",\"Austre Br\\u00f8ggerbreen\",\"Bayelva catchment\",\"Br\\u00f8ggerbreen\",\"Endalselva catchment\",\"Erikbreen\",\"Finsterwalderbreen\",\"Hannabreen\",\"Kongsvegen\",\"Van Keulenfjorden\",\"Werenskioldbreen\",\"Fennoscandian Ice Sheet\",\"Fennoscandian Ice Sheet\",\"Rhone\",\"Trift\",\"Vorab\",\"Bertol Inferieur\",\"Dixence\",\"Drance\",\"Ferpecle\",\"Gomer\",\"Massa\",\"Stafel\",\"Tsidjore\",\"Marinelli Glacier\",\"unnamed\",\"unnamed\",\"Antarctic Ice Sheet\",\"Fennoscandian Ice Sheet\",\"unnamed\",\"unnamed\",\"Haut Glacier d'Arolla\",\"RGO\",\"unnamed\",\"Fennoscandian Ice Sheet\",\"Greenland Ice Sheet\",\"unnamed\",\"Greenland Ice Sheet\",\"Laurentide Ice Sheet\",\"Copper River\",\"Kennicott Glacier\",\"Tenaya canyon\",\"Tuolumne meadows\",\"Zaravshanskiy\",\"Ajutor-3\",null,\"global average\",\"unnamed Martian glaciers\",null,null,\"Sturtian+Marinoan icesheets\",\"Sturtian Ice Sheet\",\"Sturtian Ice Sheet\",\"Sturtian Ice Sheet\",\"Marinoan Ice Sheet\",\"Marinoan Ice Sheet\",\"Marinoan Ice Sheet\",\"Sturtian Ice Sheet\",\"Sturtian Ice Sheet\",\"Sturtian Ice Sheet\",\"Marinoan Ice Sheet\"],\"lat\":[64.83333,28.58436,-64.81136,-64.9333,-65.0167,-65.6167,-64.3333,-62.2167,-65.5667,-65.5,-64.6667,-79.0,-65.0,-46.51339,72.11807,66.44895,70.9489,67.18026,72.4,51.75,57.0614,57.1601,45.5742,45.3707,46.8646,46.02,61.02561,61.16691,51.33574,-75.0,-74.7039,-84.99878,-78.24163,-77.54999,-76.98366,-77.49563,-77.85,-77.9,28.69644,-80.5,70.0,42.77139,63.74989,-78.71212,69.2167,39.15356,-44.79836,60.4266,40.024,59.03702,58.7439,59.04806,58.8045,58.8673,58.7633,58.9269,58.372,72.5,60.26449,-67.65,35.7576,51.73558,32.16617,32.25,27.91433,27.97887,28.6291,27.98969,30.75031,36.56961,64.15332,65.0,64.81667,64.84,64.75,63.66666,65.77,64.5,65.7763,59.0894,60.1755,69.2167,69.2167,42.14763,65.25,67.011,67.88396,49.75957,28.69644,51.40887,62.02685,-73.0,-71.0,-64.87,46.31966,54.0,44.16757,58.62174,58.66551,-50.25,-64.95,63.11533,66.7422,45.86605,-74.8386,49.03568,44.54366,80.0167,28.69644,71.5,56.2771,63.11533,43.89452,-43.12281,-43.4607,-47.6358,61.5828,62.28011,60.9824,60.006,67.8556,66.66613,61.641,78.1947,66.46491,61.5792,61.5652,78.0956,78.0587,61.5136,61.4456,61.2871,60.69,61.775,67.18026,62.28011,63.11533,38.78915,-48.1348,-46.7631,-46.6071,-50.9961,-47.48506,80.50038,-75.2536,-82.41741,79.7067,35.34966,0.3854,72.5,-80.50029,61.12586,61.11503,-62.25072,-34.0,50.79185,45.42881,60.16679,60.30222,60.76893,60.17583,59.99967,60.07272,60.46026,60.25917,60.16713,60.04325,60.56842,60.53297,60.52562,60.0782,60.08454,60.62139,60.20417,60.51861,60.51861,60.51861,60.51861,60.51861,60.51861,60.6518,60.19394,60.47803,60.0429,60.17926,60.11705,60.00564,61.64881,60.175,60.30556,60.14583,60.49829,76.0,78.9099,78.9325,78.1775,78.18546,78.1746,78.2934,78.1993,78.2562,77.56008,77.07824,63.11533,63.11533,46.6216,46.6646,46.90655,46.00489,46.1167,46.108,46.0517,46.6463,46.6067,45.9767,46.0054,-54.53373,44.1168,59.56226,-83.74999,63.11533,53.3443,53.3443,45.99144,38.69479,44.04642,67.83612,67.24603,47.12264,72.5,43.7844,60.67736,61.59991,37.74215,37.87077,39.32454,42.05364,null,null,null,null,null,null,null,null,null,null,null,null,null,null,null,null],\"legendgroup\":\"Glacial\",\"lon\":[62.65,83.98884,-62.63329,-62.5833,-62.9667,-63.7833,-60.9667,-58.6667,-63.7667,-63.6667,-61.6333,-80.0,-70.0,-72.03758,-76.80117,-65.64205,-71.1574,25.40585,20.0,-125.0975,-3.60606,-3.82319,24.63862,22.9043,10.9789,7.5768,-145.67664,-145.33329,-125.26976,-111.0,-110.5393,-160.00245,162.5167,160.0897,161.52648,162.35247,160.92,160.92,84.16647,76.0,-30.0,0.13895,18.1544,-85.1601,-49.9857,68.34603,167.95005,18.186,-105.6479,-136.5477,-137.0567,-137.04277,-137.15675,-137.1467,-136.5567,-133.9081,-133.9612,-38.45,-139.10915,-62.7167,76.6169,-119.45687,77.68744,77.36,86.95458,86.83426,84.03506,86.69017,79.36068,74.61982,-16.40858,-14.0,-18.81667,-18.38,-19.98333,-19.1,-22.37,-16.0,-22.39488,-141.7181,-141.1577,-49.9857,-49.9857,78.2716,-14.0,-50.72,18.56302,-94.55158,84.16647,-125.80937,4.98675,68.0,70.0,-63.065,7.22648,-89.0,-123.58236,-137.41356,-137.49458,-74.2,-62.6167,19.0529,-53.5639,6.8593,-113.4006,-122.71367,-72.83489,-21.0,84.16647,-74.5,-134.26297,19.0529,-71.60311,170.91657,170.1861,-72.8425,8.32275,8.68988,7.2265,6.551,15.5942,13.89531,7.7698,15.62,13.62579,7.3147,6.3602,15.7331,15.7446,7.2647,7.1814,7.9121,6.6792,6.92,25.40585,8.68988,19.0529,72.23871,-73.4278,-73.8184,-74.0377,-73.6558,-73.41106,-59.51339,-100.8701,59.15345,21.6183,74.62258,29.87004,-38.45,-25.00024,6.52565,6.49212,-58.85275,-70.2,-124.00293,6.807,-140.84473,-143.41972,-143.6901,-141.65222,-140.02178,-139.31007,-143.50376,-142.29944,-140.95253,-140.55359,-143.84022,-143.80898,-144.12595,-140.1907,-140.23327,-144.11889,-139.46972,-143.09972,-143.09972,-143.09972,-143.09972,-143.09972,-143.09972,-143.69723,-140.38914,-143.56213,-139.68086,-141.1625,-139.49238,-139.27454,-141.86646,-142.01472,-141.72694,-142.15167,-139.50556,20.0,11.8083,11.835,15.6536,15.76243,15.5514,16.4094,16.1172,15.5117,15.48453,15.30863,19.0529,19.0529,8.40399,8.37038,9.1572,7.53182,7.3819,7.0921,7.5153,8.2547,8.3311,7.5625,7.7457,-69.57207,7.11299,-64.38593,170.92619,19.0529,-1.87818,-1.87818,7.49477,72.09867,7.00557,15.03983,-49.81962,9.20298,-38.45,-88.7879,-144.69218,-143.06951,-119.57548,-119.37766,69.39521,-70.40718,null,null,null,null,null,null,null,null,null,null,null,null,null,null,null,null],\"marker\":{\"color\":\"#FF7F0E\",\"symbol\":\"circle\"},\"mode\":\"markers\",\"name\":\"Glacial\",\"showlegend\":true,\"type\":\"scattergeo\"}],                        {\"template\":{\"data\":{\"bar\":[{\"error_x\":{\"color\":\"#2a3f5f\"},\"error_y\":{\"color\":\"#2a3f5f\"},\"marker\":{\"line\":{\"color\":\"#E5ECF6\",\"width\":0.5},\"pattern\":{\"fillmode\":\"overlay\",\"size\":10,\"solidity\":0.2}},\"type\":\"bar\"}],\"barpolar\":[{\"marker\":{\"line\":{\"color\":\"#E5ECF6\",\"width\":0.5},\"pattern\":{\"fillmode\":\"overlay\",\"size\":10,\"solidity\":0.2}},\"type\":\"barpolar\"}],\"carpet\":[{\"aaxis\":{\"endlinecolor\":\"#2a3f5f\",\"gridcolor\":\"white\",\"linecolor\":\"white\",\"minorgridcolor\":\"white\",\"startlinecolor\":\"#2a3f5f\"},\"baxis\":{\"endlinecolor\":\"#2a3f5f\",\"gridcolor\":\"white\",\"linecolor\":\"white\",\"minorgridcolor\":\"white\",\"startlinecolor\":\"#2a3f5f\"},\"type\":\"carpet\"}],\"choropleth\":[{\"colorbar\":{\"outlinewidth\":0,\"ticks\":\"\"},\"type\":\"choropleth\"}],\"contour\":[{\"colorbar\":{\"outlinewidth\":0,\"ticks\":\"\"},\"colorscale\":[[0.0,\"#0d0887\"],[0.1111111111111111,\"#46039f\"],[0.2222222222222222,\"#7201a8\"],[0.3333333333333333,\"#9c179e\"],[0.4444444444444444,\"#bd3786\"],[0.5555555555555556,\"#d8576b\"],[0.6666666666666666,\"#ed7953\"],[0.7777777777777778,\"#fb9f3a\"],[0.8888888888888888,\"#fdca26\"],[1.0,\"#f0f921\"]],\"type\":\"contour\"}],\"contourcarpet\":[{\"colorbar\":{\"outlinewidth\":0,\"ticks\":\"\"},\"type\":\"contourcarpet\"}],\"heatmap\":[{\"colorbar\":{\"outlinewidth\":0,\"ticks\":\"\"},\"colorscale\":[[0.0,\"#0d0887\"],[0.1111111111111111,\"#46039f\"],[0.2222222222222222,\"#7201a8\"],[0.3333333333333333,\"#9c179e\"],[0.4444444444444444,\"#bd3786\"],[0.5555555555555556,\"#d8576b\"],[0.6666666666666666,\"#ed7953\"],[0.7777777777777778,\"#fb9f3a\"],[0.8888888888888888,\"#fdca26\"],[1.0,\"#f0f921\"]],\"type\":\"heatmap\"}],\"heatmapgl\":[{\"colorbar\":{\"outlinewidth\":0,\"ticks\":\"\"},\"colorscale\":[[0.0,\"#0d0887\"],[0.1111111111111111,\"#46039f\"],[0.2222222222222222,\"#7201a8\"],[0.3333333333333333,\"#9c179e\"],[0.4444444444444444,\"#bd3786\"],[0.5555555555555556,\"#d8576b\"],[0.6666666666666666,\"#ed7953\"],[0.7777777777777778,\"#fb9f3a\"],[0.8888888888888888,\"#fdca26\"],[1.0,\"#f0f921\"]],\"type\":\"heatmapgl\"}],\"histogram\":[{\"marker\":{\"pattern\":{\"fillmode\":\"overlay\",\"size\":10,\"solidity\":0.2}},\"type\":\"histogram\"}],\"histogram2d\":[{\"colorbar\":{\"outlinewidth\":0,\"ticks\":\"\"},\"colorscale\":[[0.0,\"#0d0887\"],[0.1111111111111111,\"#46039f\"],[0.2222222222222222,\"#7201a8\"],[0.3333333333333333,\"#9c179e\"],[0.4444444444444444,\"#bd3786\"],[0.5555555555555556,\"#d8576b\"],[0.6666666666666666,\"#ed7953\"],[0.7777777777777778,\"#fb9f3a\"],[0.8888888888888888,\"#fdca26\"],[1.0,\"#f0f921\"]],\"type\":\"histogram2d\"}],\"histogram2dcontour\":[{\"colorbar\":{\"outlinewidth\":0,\"ticks\":\"\"},\"colorscale\":[[0.0,\"#0d0887\"],[0.1111111111111111,\"#46039f\"],[0.2222222222222222,\"#7201a8\"],[0.3333333333333333,\"#9c179e\"],[0.4444444444444444,\"#bd3786\"],[0.5555555555555556,\"#d8576b\"],[0.6666666666666666,\"#ed7953\"],[0.7777777777777778,\"#fb9f3a\"],[0.8888888888888888,\"#fdca26\"],[1.0,\"#f0f921\"]],\"type\":\"histogram2dcontour\"}],\"mesh3d\":[{\"colorbar\":{\"outlinewidth\":0,\"ticks\":\"\"},\"type\":\"mesh3d\"}],\"parcoords\":[{\"line\":{\"colorbar\":{\"outlinewidth\":0,\"ticks\":\"\"}},\"type\":\"parcoords\"}],\"pie\":[{\"automargin\":true,\"type\":\"pie\"}],\"scatter\":[{\"marker\":{\"colorbar\":{\"outlinewidth\":0,\"ticks\":\"\"}},\"type\":\"scatter\"}],\"scatter3d\":[{\"line\":{\"colorbar\":{\"outlinewidth\":0,\"ticks\":\"\"}},\"marker\":{\"colorbar\":{\"outlinewidth\":0,\"ticks\":\"\"}},\"type\":\"scatter3d\"}],\"scattercarpet\":[{\"marker\":{\"colorbar\":{\"outlinewidth\":0,\"ticks\":\"\"}},\"type\":\"scattercarpet\"}],\"scattergeo\":[{\"marker\":{\"colorbar\":{\"outlinewidth\":0,\"ticks\":\"\"}},\"type\":\"scattergeo\"}],\"scattergl\":[{\"marker\":{\"colorbar\":{\"outlinewidth\":0,\"ticks\":\"\"}},\"type\":\"scattergl\"}],\"scattermapbox\":[{\"marker\":{\"colorbar\":{\"outlinewidth\":0,\"ticks\":\"\"}},\"type\":\"scattermapbox\"}],\"scatterpolar\":[{\"marker\":{\"colorbar\":{\"outlinewidth\":0,\"ticks\":\"\"}},\"type\":\"scatterpolar\"}],\"scatterpolargl\":[{\"marker\":{\"colorbar\":{\"outlinewidth\":0,\"ticks\":\"\"}},\"type\":\"scatterpolargl\"}],\"scatterternary\":[{\"marker\":{\"colorbar\":{\"outlinewidth\":0,\"ticks\":\"\"}},\"type\":\"scatterternary\"}],\"surface\":[{\"colorbar\":{\"outlinewidth\":0,\"ticks\":\"\"},\"colorscale\":[[0.0,\"#0d0887\"],[0.1111111111111111,\"#46039f\"],[0.2222222222222222,\"#7201a8\"],[0.3333333333333333,\"#9c179e\"],[0.4444444444444444,\"#bd3786\"],[0.5555555555555556,\"#d8576b\"],[0.6666666666666666,\"#ed7953\"],[0.7777777777777778,\"#fb9f3a\"],[0.8888888888888888,\"#fdca26\"],[1.0,\"#f0f921\"]],\"type\":\"surface\"}],\"table\":[{\"cells\":{\"fill\":{\"color\":\"#EBF0F8\"},\"line\":{\"color\":\"white\"}},\"header\":{\"fill\":{\"color\":\"#C8D4E3\"},\"line\":{\"color\":\"white\"}},\"type\":\"table\"}]},\"layout\":{\"annotationdefaults\":{\"arrowcolor\":\"#2a3f5f\",\"arrowhead\":0,\"arrowwidth\":1},\"autotypenumbers\":\"strict\",\"coloraxis\":{\"colorbar\":{\"outlinewidth\":0,\"ticks\":\"\"}},\"colorscale\":{\"diverging\":[[0,\"#8e0152\"],[0.1,\"#c51b7d\"],[0.2,\"#de77ae\"],[0.3,\"#f1b6da\"],[0.4,\"#fde0ef\"],[0.5,\"#f7f7f7\"],[0.6,\"#e6f5d0\"],[0.7,\"#b8e186\"],[0.8,\"#7fbc41\"],[0.9,\"#4d9221\"],[1,\"#276419\"]],\"sequential\":[[0.0,\"#0d0887\"],[0.1111111111111111,\"#46039f\"],[0.2222222222222222,\"#7201a8\"],[0.3333333333333333,\"#9c179e\"],[0.4444444444444444,\"#bd3786\"],[0.5555555555555556,\"#d8576b\"],[0.6666666666666666,\"#ed7953\"],[0.7777777777777778,\"#fb9f3a\"],[0.8888888888888888,\"#fdca26\"],[1.0,\"#f0f921\"]],\"sequentialminus\":[[0.0,\"#0d0887\"],[0.1111111111111111,\"#46039f\"],[0.2222222222222222,\"#7201a8\"],[0.3333333333333333,\"#9c179e\"],[0.4444444444444444,\"#bd3786\"],[0.5555555555555556,\"#d8576b\"],[0.6666666666666666,\"#ed7953\"],[0.7777777777777778,\"#fb9f3a\"],[0.8888888888888888,\"#fdca26\"],[1.0,\"#f0f921\"]]},\"colorway\":[\"#636efa\",\"#EF553B\",\"#00cc96\",\"#ab63fa\",\"#FFA15A\",\"#19d3f3\",\"#FF6692\",\"#B6E880\",\"#FF97FF\",\"#FECB52\"],\"font\":{\"color\":\"#2a3f5f\"},\"geo\":{\"bgcolor\":\"white\",\"lakecolor\":\"white\",\"landcolor\":\"#E5ECF6\",\"showlakes\":true,\"showland\":true,\"subunitcolor\":\"white\"},\"hoverlabel\":{\"align\":\"left\"},\"hovermode\":\"closest\",\"mapbox\":{\"style\":\"light\"},\"paper_bgcolor\":\"white\",\"plot_bgcolor\":\"#E5ECF6\",\"polar\":{\"angularaxis\":{\"gridcolor\":\"white\",\"linecolor\":\"white\",\"ticks\":\"\"},\"bgcolor\":\"#E5ECF6\",\"radialaxis\":{\"gridcolor\":\"white\",\"linecolor\":\"white\",\"ticks\":\"\"}},\"scene\":{\"xaxis\":{\"backgroundcolor\":\"#E5ECF6\",\"gridcolor\":\"white\",\"gridwidth\":2,\"linecolor\":\"white\",\"showbackground\":true,\"ticks\":\"\",\"zerolinecolor\":\"white\"},\"yaxis\":{\"backgroundcolor\":\"#E5ECF6\",\"gridcolor\":\"white\",\"gridwidth\":2,\"linecolor\":\"white\",\"showbackground\":true,\"ticks\":\"\",\"zerolinecolor\":\"white\"},\"zaxis\":{\"backgroundcolor\":\"#E5ECF6\",\"gridcolor\":\"white\",\"gridwidth\":2,\"linecolor\":\"white\",\"showbackground\":true,\"ticks\":\"\",\"zerolinecolor\":\"white\"}},\"shapedefaults\":{\"line\":{\"color\":\"#2a3f5f\"}},\"ternary\":{\"aaxis\":{\"gridcolor\":\"white\",\"linecolor\":\"white\",\"ticks\":\"\"},\"baxis\":{\"gridcolor\":\"white\",\"linecolor\":\"white\",\"ticks\":\"\"},\"bgcolor\":\"#E5ECF6\",\"caxis\":{\"gridcolor\":\"white\",\"linecolor\":\"white\",\"ticks\":\"\"}},\"title\":{\"x\":0.05},\"xaxis\":{\"automargin\":true,\"gridcolor\":\"white\",\"linecolor\":\"white\",\"ticks\":\"\",\"title\":{\"standoff\":15},\"zerolinecolor\":\"white\",\"zerolinewidth\":2},\"yaxis\":{\"automargin\":true,\"gridcolor\":\"white\",\"linecolor\":\"white\",\"ticks\":\"\",\"title\":{\"standoff\":15},\"zerolinecolor\":\"white\",\"zerolinewidth\":2}}},\"geo\":{\"domain\":{\"x\":[0.0,1.0],\"y\":[0.0,1.0]},\"projection\":{\"type\":\"equirectangular\"},\"center\":{},\"scope\":\"world\"},\"legend\":{\"title\":{\"text\":\"type\"},\"tracegroupgap\":0,\"yanchor\":\"bottom\",\"y\":0.5,\"xanchor\":\"left\",\"x\":0.01},\"margin\":{\"t\":30,\"r\":0,\"l\":0,\"b\":10},\"title\":{\"x\":0.85,\"y\":0.97}},                        {\"responsive\": true}                    ).then(function(){\n",
       "                            \n",
       "var gd = document.getElementById('f3a79be8-4e75-4e5a-b0e7-17974777f5f4');\n",
       "var x = new MutationObserver(function (mutations, observer) {{\n",
       "        var display = window.getComputedStyle(gd).display;\n",
       "        if (!display || display === 'none') {{\n",
       "            console.log([gd, 'removed!']);\n",
       "            Plotly.purge(gd);\n",
       "            observer.disconnect();\n",
       "        }}\n",
       "}});\n",
       "\n",
       "// Listen for the removal of the full notebook cells\n",
       "var notebookContainer = gd.closest('#notebook-container');\n",
       "if (notebookContainer) {{\n",
       "    x.observe(notebookContainer, {childList: true});\n",
       "}}\n",
       "\n",
       "// Listen for the clearing of the current output cell\n",
       "var outputEl = gd.closest('.output');\n",
       "if (outputEl) {{\n",
       "    x.observe(outputEl, {childList: true});\n",
       "}}\n",
       "\n",
       "                        })                };                });            </script>        </div>"
      ]
     },
     "metadata": {},
     "output_type": "display_data"
    }
   ],
   "source": [
    "proj = 'equirectangular'\n",
    "# proj = 'orthographic'\n",
    "# proj = 'robinson'\n",
    "# proj = 'mollweide'\n",
    "# proj = 'winkel tripel'\n",
    "# proj = 'sinusoidal'\n",
    "\n",
    "fig = generate_map(world_df, projection=proj, scope='world') \n",
    "fig.show()"
   ]
  },
  {
   "cell_type": "code",
   "execution_count": null,
   "id": "cda5a2f9",
   "metadata": {},
   "outputs": [],
   "source": []
  }
 ],
 "metadata": {
  "kernelspec": {
   "display_name": "Python [conda env:root] *",
   "language": "python",
   "name": "conda-root-py"
  },
  "language_info": {
   "codemirror_mode": {
    "name": "ipython",
    "version": 3
   },
   "file_extension": ".py",
   "mimetype": "text/x-python",
   "name": "python",
   "nbconvert_exporter": "python",
   "pygments_lexer": "ipython3",
   "version": "3.9.12"
  }
 },
 "nbformat": 4,
 "nbformat_minor": 5
}
