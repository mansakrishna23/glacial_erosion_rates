{
 "cells": [
  {
   "cell_type": "code",
   "execution_count": 31,
   "id": "1b5b5699",
   "metadata": {},
   "outputs": [],
   "source": [
    "import numpy as np\n",
    "import matplotlib.pyplot as plt\n",
    "import plotly.express as px\n",
    "import pandas as pd"
   ]
  },
  {
   "cell_type": "markdown",
   "id": "58a446ac",
   "metadata": {},
   "source": [
    "### Reading in the Data"
   ]
  },
  {
   "cell_type": "code",
   "execution_count": 32,
   "id": "896edcbf",
   "metadata": {},
   "outputs": [
    {
     "data": {
      "text/html": [
       "<div>\n",
       "<style scoped>\n",
       "    .dataframe tbody tr th:only-of-type {\n",
       "        vertical-align: middle;\n",
       "    }\n",
       "\n",
       "    .dataframe tbody tr th {\n",
       "        vertical-align: top;\n",
       "    }\n",
       "\n",
       "    .dataframe thead th {\n",
       "        text-align: right;\n",
       "    }\n",
       "</style>\n",
       "<table border=\"1\" class=\"dataframe\">\n",
       "  <thead>\n",
       "    <tr style=\"text-align: right;\">\n",
       "      <th></th>\n",
       "      <th>Locality</th>\n",
       "      <th>Glacier</th>\n",
       "      <th>Region</th>\n",
       "      <th>Unnamed: 3</th>\n",
       "      <th>Country</th>\n",
       "      <th>Lat</th>\n",
       "      <th>Long</th>\n",
       "      <th>Type</th>\n",
       "      <th>Unnamed: 8</th>\n",
       "      <th>color coding:</th>\n",
       "    </tr>\n",
       "  </thead>\n",
       "  <tbody>\n",
       "    <tr>\n",
       "      <th>0</th>\n",
       "      <td>Ajutor-3 (Ледник Аютор)</td>\n",
       "      <td>Ледник Аютор</td>\n",
       "      <td>Central Asia</td>\n",
       "      <td>NaN</td>\n",
       "      <td>NaN</td>\n",
       "      <td>42.053637</td>\n",
       "      <td>-70.407176</td>\n",
       "      <td>alpine</td>\n",
       "      <td>NaN</td>\n",
       "      <td>alpine</td>\n",
       "    </tr>\n",
       "    <tr>\n",
       "      <th>1</th>\n",
       "      <td>Andvord Bay</td>\n",
       "      <td>Andvord Bay</td>\n",
       "      <td>Antarctica</td>\n",
       "      <td>NaN</td>\n",
       "      <td>Antarctica</td>\n",
       "      <td>64.833333</td>\n",
       "      <td>62.650000</td>\n",
       "      <td>continental</td>\n",
       "      <td>NaN</td>\n",
       "      <td>continental</td>\n",
       "    </tr>\n",
       "    <tr>\n",
       "      <th>2</th>\n",
       "      <td>Antarctic peninusla</td>\n",
       "      <td>Faraday</td>\n",
       "      <td>Antarctica</td>\n",
       "      <td>NaN</td>\n",
       "      <td>Antarctica</td>\n",
       "      <td>65.400000</td>\n",
       "      <td>64.400000</td>\n",
       "      <td>continental</td>\n",
       "      <td>NaN</td>\n",
       "      <td>High-Latitude</td>\n",
       "    </tr>\n",
       "    <tr>\n",
       "      <th>3</th>\n",
       "      <td>Antarctic peninusla</td>\n",
       "      <td>Bellingshausen</td>\n",
       "      <td>Antarctica</td>\n",
       "      <td>NaN</td>\n",
       "      <td>Antarctica</td>\n",
       "      <td>62.200000</td>\n",
       "      <td>58.900000</td>\n",
       "      <td>continental</td>\n",
       "      <td>NaN</td>\n",
       "      <td>ice stream</td>\n",
       "    </tr>\n",
       "    <tr>\n",
       "      <th>4</th>\n",
       "      <td>Antarctic peninusla</td>\n",
       "      <td>Ohiggins</td>\n",
       "      <td>Antarctica</td>\n",
       "      <td>NaN</td>\n",
       "      <td>Antarctica</td>\n",
       "      <td>63.300000</td>\n",
       "      <td>57.900000</td>\n",
       "      <td>continental</td>\n",
       "      <td>NaN</td>\n",
       "      <td>outlet/tidewater</td>\n",
       "    </tr>\n",
       "    <tr>\n",
       "      <th>...</th>\n",
       "      <td>...</td>\n",
       "      <td>...</td>\n",
       "      <td>...</td>\n",
       "      <td>...</td>\n",
       "      <td>...</td>\n",
       "      <td>...</td>\n",
       "      <td>...</td>\n",
       "      <td>...</td>\n",
       "      <td>...</td>\n",
       "      <td>...</td>\n",
       "    </tr>\n",
       "    <tr>\n",
       "      <th>231</th>\n",
       "      <td>Seacliff Sandstone, Adelaide Geosyncline</td>\n",
       "      <td>Marinoan ice sheet</td>\n",
       "      <td>Australia</td>\n",
       "      <td>NaN</td>\n",
       "      <td>NaN</td>\n",
       "      <td>NaN</td>\n",
       "      <td>NaN</td>\n",
       "      <td>NaN</td>\n",
       "      <td>NaN</td>\n",
       "      <td>NaN</td>\n",
       "    </tr>\n",
       "    <tr>\n",
       "      <th>232</th>\n",
       "      <td>South Australia</td>\n",
       "      <td>Marinoan ice sheet</td>\n",
       "      <td>Australia</td>\n",
       "      <td>NaN</td>\n",
       "      <td>NaN</td>\n",
       "      <td>NaN</td>\n",
       "      <td>NaN</td>\n",
       "      <td>NaN</td>\n",
       "      <td>NaN</td>\n",
       "      <td>NaN</td>\n",
       "    </tr>\n",
       "    <tr>\n",
       "      <th>233</th>\n",
       "      <td>Ellery Creek</td>\n",
       "      <td>Sturtian ice sheet</td>\n",
       "      <td>Australia</td>\n",
       "      <td>NaN</td>\n",
       "      <td>NaN</td>\n",
       "      <td>NaN</td>\n",
       "      <td>NaN</td>\n",
       "      <td>NaN</td>\n",
       "      <td>NaN</td>\n",
       "      <td>NaN</td>\n",
       "    </tr>\n",
       "    <tr>\n",
       "      <th>234</th>\n",
       "      <td>Oman</td>\n",
       "      <td>Sturtian ice sheet</td>\n",
       "      <td>Morocco</td>\n",
       "      <td>NaN</td>\n",
       "      <td>NaN</td>\n",
       "      <td>NaN</td>\n",
       "      <td>NaN</td>\n",
       "      <td>NaN</td>\n",
       "      <td>NaN</td>\n",
       "      <td>NaN</td>\n",
       "    </tr>\n",
       "    <tr>\n",
       "      <th>235</th>\n",
       "      <td>Chuos Formation, N. Namibia</td>\n",
       "      <td>Sturtian ice sheet</td>\n",
       "      <td>Namibia</td>\n",
       "      <td>NaN</td>\n",
       "      <td>NaN</td>\n",
       "      <td>NaN</td>\n",
       "      <td>NaN</td>\n",
       "      <td>NaN</td>\n",
       "      <td>NaN</td>\n",
       "      <td>NaN</td>\n",
       "    </tr>\n",
       "  </tbody>\n",
       "</table>\n",
       "<p>236 rows × 10 columns</p>\n",
       "</div>"
      ],
      "text/plain": [
       "                                     Locality             Glacier  \\\n",
       "0                     Ajutor-3 (Ледник Аютор)        Ледник Аютор   \n",
       "1                                 Andvord Bay         Andvord Bay   \n",
       "2                         Antarctic peninusla             Faraday   \n",
       "3                         Antarctic peninusla      Bellingshausen   \n",
       "4                         Antarctic peninusla            Ohiggins   \n",
       "..                                        ...                 ...   \n",
       "231  Seacliff Sandstone, Adelaide Geosyncline  Marinoan ice sheet   \n",
       "232                           South Australia  Marinoan ice sheet   \n",
       "233                              Ellery Creek  Sturtian ice sheet   \n",
       "234                                      Oman  Sturtian ice sheet   \n",
       "235               Chuos Formation, N. Namibia  Sturtian ice sheet   \n",
       "\n",
       "           Region  Unnamed: 3     Country        Lat       Long          Type  \\\n",
       "0    Central Asia         NaN         NaN  42.053637 -70.407176        alpine   \n",
       "1      Antarctica         NaN  Antarctica  64.833333  62.650000  continental    \n",
       "2      Antarctica         NaN  Antarctica  65.400000  64.400000  continental    \n",
       "3      Antarctica         NaN  Antarctica  62.200000  58.900000  continental    \n",
       "4      Antarctica         NaN  Antarctica  63.300000  57.900000  continental    \n",
       "..            ...         ...         ...        ...        ...           ...   \n",
       "231     Australia         NaN         NaN        NaN        NaN           NaN   \n",
       "232     Australia         NaN         NaN        NaN        NaN           NaN   \n",
       "233     Australia         NaN         NaN        NaN        NaN           NaN   \n",
       "234       Morocco         NaN         NaN        NaN        NaN           NaN   \n",
       "235       Namibia         NaN         NaN        NaN        NaN           NaN   \n",
       "\n",
       "    Unnamed: 8     color coding:  \n",
       "0          NaN            alpine  \n",
       "1          NaN       continental  \n",
       "2          NaN    High-Latitude   \n",
       "3          NaN        ice stream  \n",
       "4          NaN  outlet/tidewater  \n",
       "..         ...               ...  \n",
       "231        NaN               NaN  \n",
       "232        NaN               NaN  \n",
       "233        NaN               NaN  \n",
       "234        NaN               NaN  \n",
       "235        NaN               NaN  \n",
       "\n",
       "[236 rows x 10 columns]"
      ]
     },
     "execution_count": 32,
     "metadata": {},
     "output_type": "execute_result"
    }
   ],
   "source": [
    "world = pd.read_csv('glacial_erosion_locations.csv')\n",
    "world"
   ]
  },
  {
   "cell_type": "code",
   "execution_count": 33,
   "id": "ee8c817a",
   "metadata": {},
   "outputs": [
    {
     "data": {
      "text/html": [
       "<div>\n",
       "<style scoped>\n",
       "    .dataframe tbody tr th:only-of-type {\n",
       "        vertical-align: middle;\n",
       "    }\n",
       "\n",
       "    .dataframe tbody tr th {\n",
       "        vertical-align: top;\n",
       "    }\n",
       "\n",
       "    .dataframe thead th {\n",
       "        text-align: right;\n",
       "    }\n",
       "</style>\n",
       "<table border=\"1\" class=\"dataframe\">\n",
       "  <thead>\n",
       "    <tr style=\"text-align: right;\">\n",
       "      <th></th>\n",
       "      <th>Locality</th>\n",
       "      <th>Glacier</th>\n",
       "      <th>Region</th>\n",
       "      <th>Country</th>\n",
       "      <th>Lat</th>\n",
       "      <th>Long</th>\n",
       "      <th>Type</th>\n",
       "      <th>color coding:</th>\n",
       "    </tr>\n",
       "  </thead>\n",
       "  <tbody>\n",
       "    <tr>\n",
       "      <th>0</th>\n",
       "      <td>Ajutor-3 (Ледник Аютор)</td>\n",
       "      <td>Ледник Аютор</td>\n",
       "      <td>Central Asia</td>\n",
       "      <td>NaN</td>\n",
       "      <td>42.053637</td>\n",
       "      <td>-70.407176</td>\n",
       "      <td>alpine</td>\n",
       "      <td>alpine</td>\n",
       "    </tr>\n",
       "    <tr>\n",
       "      <th>1</th>\n",
       "      <td>Andvord Bay</td>\n",
       "      <td>Andvord Bay</td>\n",
       "      <td>Antarctica</td>\n",
       "      <td>Antarctica</td>\n",
       "      <td>64.833333</td>\n",
       "      <td>62.650000</td>\n",
       "      <td>continental</td>\n",
       "      <td>continental</td>\n",
       "    </tr>\n",
       "    <tr>\n",
       "      <th>2</th>\n",
       "      <td>Antarctic peninusla</td>\n",
       "      <td>Faraday</td>\n",
       "      <td>Antarctica</td>\n",
       "      <td>Antarctica</td>\n",
       "      <td>65.400000</td>\n",
       "      <td>64.400000</td>\n",
       "      <td>continental</td>\n",
       "      <td>High-Latitude</td>\n",
       "    </tr>\n",
       "    <tr>\n",
       "      <th>3</th>\n",
       "      <td>Antarctic peninusla</td>\n",
       "      <td>Bellingshausen</td>\n",
       "      <td>Antarctica</td>\n",
       "      <td>Antarctica</td>\n",
       "      <td>62.200000</td>\n",
       "      <td>58.900000</td>\n",
       "      <td>continental</td>\n",
       "      <td>ice stream</td>\n",
       "    </tr>\n",
       "    <tr>\n",
       "      <th>4</th>\n",
       "      <td>Antarctic peninusla</td>\n",
       "      <td>Ohiggins</td>\n",
       "      <td>Antarctica</td>\n",
       "      <td>Antarctica</td>\n",
       "      <td>63.300000</td>\n",
       "      <td>57.900000</td>\n",
       "      <td>continental</td>\n",
       "      <td>outlet/tidewater</td>\n",
       "    </tr>\n",
       "  </tbody>\n",
       "</table>\n",
       "</div>"
      ],
      "text/plain": [
       "                  Locality         Glacier        Region     Country  \\\n",
       "0  Ajutor-3 (Ледник Аютор)    Ледник Аютор  Central Asia         NaN   \n",
       "1              Andvord Bay     Andvord Bay    Antarctica  Antarctica   \n",
       "2      Antarctic peninusla         Faraday    Antarctica  Antarctica   \n",
       "3      Antarctic peninusla  Bellingshausen    Antarctica  Antarctica   \n",
       "4      Antarctic peninusla        Ohiggins    Antarctica  Antarctica   \n",
       "\n",
       "         Lat       Long          Type     color coding:  \n",
       "0  42.053637 -70.407176        alpine            alpine  \n",
       "1  64.833333  62.650000  continental        continental  \n",
       "2  65.400000  64.400000  continental     High-Latitude   \n",
       "3  62.200000  58.900000  continental         ice stream  \n",
       "4  63.300000  57.900000  continental   outlet/tidewater  "
      ]
     },
     "execution_count": 33,
     "metadata": {},
     "output_type": "execute_result"
    }
   ],
   "source": [
    "# drop the unnamed columns\n",
    "world = world.drop(['Unnamed: 3', 'Unnamed: 8'], axis=1)\n",
    "\n",
    "world.head()"
   ]
  },
  {
   "cell_type": "code",
   "execution_count": 34,
   "id": "6204dd95",
   "metadata": {},
   "outputs": [],
   "source": [
    "# if Type is not known, replace with IDK? \n",
    "problem_solving = []\n",
    "for i in range(len(world)):\n",
    "    gtype = world['Type'][i]\n",
    "    if type(gtype)!=str:\n",
    "        problem_solving.append('idk')\n",
    "    else:\n",
    "        problem_solving.append(gtype)"
   ]
  },
  {
   "cell_type": "code",
   "execution_count": 35,
   "id": "8a27da10",
   "metadata": {},
   "outputs": [],
   "source": [
    "world['glacier-type'] = problem_solving"
   ]
  },
  {
   "cell_type": "markdown",
   "id": "732b72de",
   "metadata": {},
   "source": [
    "### Data Pre-processing"
   ]
  },
  {
   "cell_type": "code",
   "execution_count": 75,
   "id": "c73f443e",
   "metadata": {},
   "outputs": [],
   "source": [
    "def best_map_ever(df, **kwargs):\n",
    "    \n",
    "    world = pd.DataFrame()\n",
    "    \n",
    "    world['country'] = df['Country']\n",
    "    world['latitude'] = df['Lat']\n",
    "    world['longitude'] = df['Long']\n",
    "    world['glacier type'] = df['glacier-type']\n",
    "#     world['area'] = df['area']\n",
    "    \n",
    "    fig = px.scatter_geo(world, \n",
    "                            lat='latitude',\n",
    "                            lon='longitude',\n",
    "#                             size='area'\n",
    "                            hover_name='country',\n",
    "                            color='glacier type',\n",
    "                            **kwargs\n",
    "                           )\n",
    "    fig.update(layout={\"title\": {\"x\": 0.85, \"y\": 0.97}})\n",
    "    fig.update_layout(margin={\"r\":0,\"t\":30,\"l\":0,\"b\":10})\n",
    "    \n",
    "    return fig"
   ]
  },
  {
   "cell_type": "code",
   "execution_count": 76,
   "id": "e613fb2b",
   "metadata": {},
   "outputs": [
    {
     "data": {
      "application/vnd.plotly.v1+json": {
       "config": {
        "plotlyServerURL": "https://plot.ly"
       },
       "data": [
        {
         "geo": "geo",
         "hovertemplate": "<b>%{hovertext}</b><br><br>glacier type=alpine<br>latitude=%{lat}<br>longitude=%{lon}<extra></extra>",
         "hovertext": [
          null,
          "Alaska",
          "Switzerland ",
          "Switzerland",
          "Switzerland",
          "Tajikistan",
          "Switzerland",
          "Switzerland",
          "Canada",
          null,
          "New Zealand",
          "Kyrgzstan",
          "Switzerland",
          null,
          null,
          "Switzerland",
          "Switzerland",
          null,
          "France",
          "Chile",
          "Chile",
          "Chile",
          "Chile",
          "Sweden",
          "Norway",
          "Oceania",
          "Romania ",
          "Canada",
          "Switzerland",
          "Austria",
          "USA",
          "Nepal",
          "Nepal",
          "Nepal",
          "Nepal",
          "Pakistan / China",
          "India",
          "India",
          "India"
         ],
         "lat": [
          42.053637,
          61.025612,
          46.00489182,
          46.1167,
          46.108,
          38.2717,
          46.0517,
          46.6463,
          51.73558,
          null,
          -77.7257,
          41.999721,
          46.6067,
          35.349657,
          null,
          45.9767,
          46.0054,
          39.324543,
          42.77138606,
          -46.7631,
          -48.1348,
          -49.2847,
          -50.9961,
          67.883963,
          62.02684916,
          -43.4607,
          45.3707,
          51.75,
          46.02,
          46.8646,
          40.024,
          27.91432857,
          27.97887017,
          27.98969485,
          28.62910331,
          35.75759598,
          30.75030775,
          32.16616503,
          32.25
         ],
         "legendgroup": "alpine",
         "lon": [
          -70.407176,
          145.676638,
          7.53182399,
          7.3819,
          7.0921,
          72.0036,
          7.5153,
          8.2547,
          -119.45687,
          null,
          166.5667,
          77.485747,
          8.3311,
          74.622584,
          null,
          7.5625,
          7.7457,
          69.395205,
          0.1389479731,
          -73.8184,
          -73.4278,
          -74.8149,
          -73.6558,
          18.563019,
          4.986754408,
          170.1861,
          22.9043,
          -125.0975,
          7.5768,
          10.9789,
          -105.6479,
          86.95457935,
          86.83426258,
          86.69017139,
          84.0350565,
          76.61689772,
          79.36068427,
          77.68743651,
          77.36
         ],
         "marker": {
          "color": "#636efa",
          "symbol": "circle"
         },
         "mode": "markers",
         "name": "alpine",
         "showlegend": true,
         "type": "scattergeo"
        },
        {
         "geo": "geo",
         "hovertemplate": "<b>%{hovertext}</b><br><br>glacier type=continental <br>latitude=%{lat}<br>longitude=%{lon}<extra></extra>",
         "hovertext": [
          "Antarctica",
          "Antarctica",
          "Antarctica",
          "Antarctica",
          "Antarctica",
          "Antarctica",
          "Antarctica",
          "Antarctica",
          "Antarctica",
          "Antarctica",
          "Antarctica",
          "Antarctica",
          "Antarctica",
          "Antarctica",
          "Antarctica",
          "Norway",
          "Norway",
          "Norway",
          "Norway",
          "Norway",
          "Norway",
          "Greenland",
          "Greenland",
          "Greenland",
          "Antarctica",
          "Greenland",
          "Greenland",
          "Antarctica",
          "Greenland",
          "Antarctica",
          "Greenland",
          "Greenland",
          "Greenland",
          "Greenland",
          "Antarctica",
          "Antarctica",
          "Greenland",
          "Greenland",
          "Iceland",
          "Antarctica",
          "Antarctica",
          "Antarctica",
          "Antarctica",
          "Antarctica",
          "Antarctica",
          "Antarctica",
          "Antarctica",
          "Antarctica",
          "Antarctica",
          "USA",
          "Antarctica"
         ],
         "lat": [
          64.833333,
          65.4,
          62.2,
          63.3,
          64.2,
          62.5,
          63.4,
          62.2,
          62.1,
          62.2,
          62.2,
          62.2,
          67.5,
          -82.417412,
          -82.417412,
          63.115325,
          63.115325,
          63.115325,
          63.115325,
          63.115325,
          63.115325,
          72.5,
          72.5,
          72.5,
          -67.65,
          69.2167,
          67.011,
          -64.87,
          79.7067,
          -64.95,
          66.7422,
          80.0167,
          69.2167,
          80.500379,
          -74.8386,
          -74.7039,
          69.2167,
          69.2167,
          64.153316,
          -65.0167,
          -65.3333,
          -65.6167,
          -65.5667,
          -65.5,
          -64.9333,
          -64.6667,
          -64.3333,
          -64.167133,
          -80.5,
          43.7844,
          -78.241632
         ],
         "legendgroup": "continental ",
         "lon": [
          62.65,
          64.4,
          58.9,
          57.9,
          56.7,
          59.7,
          57,
          58.9,
          58.4,
          58.7,
          58.6,
          59,
          68.1,
          59.153452,
          59.153452,
          19.052897,
          19.052897,
          19.052897,
          19.052897,
          19.052897,
          19.052897,
          -38.45,
          -38.45,
          -38.45,
          -62.7167,
          -49.9857,
          -50.72,
          -63.065,
          21.6183,
          -62.6167,
          -53.5639,
          -21,
          -49.9857,
          -59.513389,
          -113.4006,
          -110.5393,
          -49.9857,
          -49.9857,
          -16.408583,
          -62.9667,
          -63.9667,
          -63.7833,
          -63.7667,
          -63.6667,
          -62.5833,
          -61.6333,
          -60.9667,
          -60.799957,
          76,
          -88.7879,
          162.5167
         ],
         "marker": {
          "color": "#EF553B",
          "symbol": "circle"
         },
         "mode": "markers",
         "name": "continental ",
         "showlegend": true,
         "type": "scattergeo"
        },
        {
         "geo": "geo",
         "hovertemplate": "<b>%{hovertext}</b><br><br>glacier type=high-latitude<br>latitude=%{lat}<br>longitude=%{lon}<extra></extra>",
         "hovertext": [
          "Norway",
          "Norway",
          "Norway",
          "Norway",
          "Norway",
          "Canada",
          "USA",
          "USA",
          "Canada",
          "USA",
          "Norway",
          "Norway",
          "Norway",
          "Chile",
          "Norway",
          "USA",
          "USA",
          "Chile",
          "Norway",
          "Norway",
          "USA",
          "USA",
          "USA",
          "Iceland",
          "Norway",
          "USA",
          "USA",
          "USA",
          "USA",
          "USA",
          "Norway",
          "Canada",
          "USA",
          "Chile",
          "Norway",
          "Norway",
          "Norway",
          "Norway",
          "Norway",
          "Canada",
          "Norway",
          "USA",
          "Norway",
          "Norway",
          "Iceland",
          "Antarctica",
          "Canada"
         ],
         "lat": [
          78.909899,
          61.58279662,
          60.9824,
          60.006,
          78.1775,
          71.5,
          58.88484749,
          60.677363,
          56.27709688,
          58.664284,
          67.8556,
          61.641,
          78.1746,
          -50.8503,
          78.2934,
          58.7439,
          58.7439,
          -47.6358,
          78.1993,
          78.1947,
          58.7961,
          59.0894,
          59.8667,
          65.25,
          78.2562,
          58.9182,
          60.1617,
          58.8673,
          58.7633,
          58.9269,
          61.5792,
          66.448953,
          58.372,
          -46.6071,
          61.5652,
          78.0956,
          78.0587,
          61.5136,
          61.4456,
          70.9489,
          61.2871,
          59.7683,
          60.69,
          61.775,
          65.776303,
          -62.2167,
          69.996888
         ],
         "legendgroup": "high-latitude",
         "lon": [
          11.808299,
          8.322754909,
          7.2265,
          6.551,
          15.6536,
          -74.5,
          -136.7033826,
          -144.692183,
          -134.2629679,
          -137.165228,
          15.5942,
          7.7698,
          15.5514,
          -73.9472,
          16.4094,
          -137.0567,
          -137.0567,
          -72.8425,
          16.1172,
          15.62,
          -139.2629,
          -141.7181,
          -139.7273,
          -14,
          15.5117,
          -137.5269,
          -140.2225,
          -137.1467,
          -136.5567,
          -133.9081,
          7.3147,
          -65.642054,
          -133.9612,
          -74.0377,
          6.3602,
          15.7331,
          15.7446,
          7.2647,
          7.1814,
          -71.1574,
          7.9121,
          -138.0064,
          6.6792,
          6.92,
          -22.394883,
          -58.6667,
          -73.515814
         ],
         "marker": {
          "color": "#00cc96",
          "symbol": "circle"
         },
         "mode": "markers",
         "name": "high-latitude",
         "showlegend": true,
         "type": "scattergeo"
        },
        {
         "geo": "geo",
         "hovertemplate": "<b>%{hovertext}</b><br><br>glacier type=outlet/tidewater<br>latitude=%{lat}<br>longitude=%{lon}<extra></extra>",
         "hovertext": [
          "Antarctica"
         ],
         "lat": [
          -75.2536
         ],
         "legendgroup": "outlet/tidewater",
         "lon": [
          -100.8701
         ],
         "marker": {
          "color": "#ab63fa",
          "symbol": "circle"
         },
         "mode": "markers",
         "name": "outlet/tidewater",
         "showlegend": true,
         "type": "scattergeo"
        },
        {
         "geo": "geo",
         "hovertemplate": "<b>%{hovertext}</b><br><br>glacier type=idk<br>latitude=%{lat}<br>longitude=%{lon}<extra></extra>",
         "hovertext": [
          "United Kingdom",
          "USA",
          "USA",
          "USA",
          "USA",
          "Norway",
          "USA",
          "USA",
          "United Kingdom",
          "Switzerland",
          "Switzerland",
          "Norway",
          "Norway",
          "Switzerland",
          "USA",
          "Switzerland",
          "Canada",
          "Antarctica",
          "Switzerland",
          "USA",
          "Canada",
          "United Kingdom",
          "United Kingdom",
          null,
          "Norway",
          "Antarctica",
          null,
          "Chile",
          null,
          null,
          null,
          null,
          null,
          null,
          null,
          null,
          null,
          null,
          null,
          null,
          null,
          null,
          null,
          null,
          null,
          null,
          null,
          null,
          null,
          null,
          null,
          null,
          null,
          null,
          null,
          null,
          null,
          null,
          null,
          null,
          null,
          null,
          null,
          null,
          null,
          null,
          null,
          null,
          null,
          null,
          null,
          null,
          null,
          null,
          "USA",
          "USA",
          "USA",
          "France ",
          "Romania ",
          "France",
          "France",
          null,
          null,
          null,
          null,
          null,
          null,
          null,
          null,
          null,
          null,
          null,
          null,
          null,
          null,
          null,
          null,
          null
         ],
         "lat": [
          57.06139676,
          60.264489,
          60.79846825,
          49.03568012,
          60.264489,
          62.280108,
          61.16691422,
          60.73546071,
          57.16010155,
          46.9065511,
          46.621603,
          62.280108,
          77.560083,
          47.12263975,
          61.599909,
          45.991436,
          51.408872,
          -77.49563435,
          46.66459966,
          60.79846825,
          51.33574375,
          53.344304,
          53.344304,
          67.18026,
          62.280108,
          -84.998777,
          0.385404,
          -54.53373,
          60.498286,
          55,
          55,
          -76.983656,
          -76.983656,
          59.56226,
          -62.250719,
          -63.395005,
          -64.450573,
          -64.569369,
          -64.811363,
          -65.033333,
          -65.5,
          44.116796,
          67.18026,
          61.125862,
          55,
          55,
          58.871742,
          55,
          55,
          -80.50029,
          -75,
          -78.712118,
          -73,
          37.870767,
          -47.485063,
          61.115029,
          72.118069,
          66.666128,
          67.836118,
          67.836118,
          -79,
          28.584358,
          -46.513391,
          28.696444,
          28.696444,
          28.696444,
          67.246026,
          50.791846,
          46.319664,
          44.04642,
          44.04642,
          63.749893,
          60.4266,
          36.564906,
          60.1755,
          44.167573,
          43.894524,
          45.866053,
          null,
          45.42881,
          44.73733035,
          null,
          null,
          null,
          null,
          null,
          null,
          null,
          null,
          null,
          null,
          null,
          null,
          null,
          null,
          null,
          null,
          null
         ],
         "legendgroup": "idk",
         "lon": [
          -3.606056445,
          -139.109146,
          -141.0979521,
          -122.7136664,
          -139.109146,
          8.689881,
          -145.3332904,
          -139.2350794,
          -3.823192313,
          9.157197405,
          8.403988,
          8.689881,
          15.484531,
          9.20298192,
          -143.069508,
          7.494765,
          -125.809366,
          162.3524686,
          8.370379538,
          -141.0979521,
          -125.2697642,
          -1.878177,
          -1.878177,
          25.405849,
          8.689881,
          -160.002447,
          29.870036,
          -69.572074,
          -139.505558,
          -85,
          -85,
          161.526477,
          161.526477,
          -64.385925,
          -58.852747,
          -57.063033,
          -63.450171,
          -61.68087,
          -62.633288,
          -63.333333,
          -64,
          7.112985,
          25.405849,
          6.52565,
          -85,
          -85,
          -136.119771,
          -85,
          -85,
          -25.000236,
          -111,
          -85.160098,
          68,
          -119.377658,
          -73.411058,
          6.492124,
          -76.801167,
          13.895307,
          15.039829,
          15.039829,
          -80,
          83.988838,
          -72.037582,
          84.166468,
          84.166468,
          84.166468,
          -49.819624,
          -124.002932,
          7.226476,
          7.005572,
          7.005572,
          18.154398,
          18.186,
          74.614401,
          -141.157701,
          -123.582359,
          -71.603108,
          6.859297,
          null,
          6.807004,
          6.816441724,
          null,
          null,
          null,
          null,
          null,
          null,
          null,
          null,
          null,
          null,
          null,
          null,
          null,
          null,
          null,
          null,
          null
         ],
         "marker": {
          "color": "#FFA15A",
          "symbol": "circle"
         },
         "mode": "markers",
         "name": "idk",
         "showlegend": true,
         "type": "scattergeo"
        }
       ],
       "layout": {
        "geo": {
         "center": {},
         "domain": {
          "x": [
           0,
           1
          ],
          "y": [
           0,
           1
          ]
         },
         "projection": {
          "type": "equirectangular"
         },
         "scope": "world"
        },
        "legend": {
         "title": {
          "text": "glacier type"
         },
         "tracegroupgap": 0
        },
        "margin": {
         "b": 10,
         "l": 0,
         "r": 0,
         "t": 30
        },
        "template": {
         "data": {
          "bar": [
           {
            "error_x": {
             "color": "#2a3f5f"
            },
            "error_y": {
             "color": "#2a3f5f"
            },
            "marker": {
             "line": {
              "color": "#E5ECF6",
              "width": 0.5
             },
             "pattern": {
              "fillmode": "overlay",
              "size": 10,
              "solidity": 0.2
             }
            },
            "type": "bar"
           }
          ],
          "barpolar": [
           {
            "marker": {
             "line": {
              "color": "#E5ECF6",
              "width": 0.5
             },
             "pattern": {
              "fillmode": "overlay",
              "size": 10,
              "solidity": 0.2
             }
            },
            "type": "barpolar"
           }
          ],
          "carpet": [
           {
            "aaxis": {
             "endlinecolor": "#2a3f5f",
             "gridcolor": "white",
             "linecolor": "white",
             "minorgridcolor": "white",
             "startlinecolor": "#2a3f5f"
            },
            "baxis": {
             "endlinecolor": "#2a3f5f",
             "gridcolor": "white",
             "linecolor": "white",
             "minorgridcolor": "white",
             "startlinecolor": "#2a3f5f"
            },
            "type": "carpet"
           }
          ],
          "choropleth": [
           {
            "colorbar": {
             "outlinewidth": 0,
             "ticks": ""
            },
            "type": "choropleth"
           }
          ],
          "contour": [
           {
            "colorbar": {
             "outlinewidth": 0,
             "ticks": ""
            },
            "colorscale": [
             [
              0,
              "#0d0887"
             ],
             [
              0.1111111111111111,
              "#46039f"
             ],
             [
              0.2222222222222222,
              "#7201a8"
             ],
             [
              0.3333333333333333,
              "#9c179e"
             ],
             [
              0.4444444444444444,
              "#bd3786"
             ],
             [
              0.5555555555555556,
              "#d8576b"
             ],
             [
              0.6666666666666666,
              "#ed7953"
             ],
             [
              0.7777777777777778,
              "#fb9f3a"
             ],
             [
              0.8888888888888888,
              "#fdca26"
             ],
             [
              1,
              "#f0f921"
             ]
            ],
            "type": "contour"
           }
          ],
          "contourcarpet": [
           {
            "colorbar": {
             "outlinewidth": 0,
             "ticks": ""
            },
            "type": "contourcarpet"
           }
          ],
          "heatmap": [
           {
            "colorbar": {
             "outlinewidth": 0,
             "ticks": ""
            },
            "colorscale": [
             [
              0,
              "#0d0887"
             ],
             [
              0.1111111111111111,
              "#46039f"
             ],
             [
              0.2222222222222222,
              "#7201a8"
             ],
             [
              0.3333333333333333,
              "#9c179e"
             ],
             [
              0.4444444444444444,
              "#bd3786"
             ],
             [
              0.5555555555555556,
              "#d8576b"
             ],
             [
              0.6666666666666666,
              "#ed7953"
             ],
             [
              0.7777777777777778,
              "#fb9f3a"
             ],
             [
              0.8888888888888888,
              "#fdca26"
             ],
             [
              1,
              "#f0f921"
             ]
            ],
            "type": "heatmap"
           }
          ],
          "heatmapgl": [
           {
            "colorbar": {
             "outlinewidth": 0,
             "ticks": ""
            },
            "colorscale": [
             [
              0,
              "#0d0887"
             ],
             [
              0.1111111111111111,
              "#46039f"
             ],
             [
              0.2222222222222222,
              "#7201a8"
             ],
             [
              0.3333333333333333,
              "#9c179e"
             ],
             [
              0.4444444444444444,
              "#bd3786"
             ],
             [
              0.5555555555555556,
              "#d8576b"
             ],
             [
              0.6666666666666666,
              "#ed7953"
             ],
             [
              0.7777777777777778,
              "#fb9f3a"
             ],
             [
              0.8888888888888888,
              "#fdca26"
             ],
             [
              1,
              "#f0f921"
             ]
            ],
            "type": "heatmapgl"
           }
          ],
          "histogram": [
           {
            "marker": {
             "pattern": {
              "fillmode": "overlay",
              "size": 10,
              "solidity": 0.2
             }
            },
            "type": "histogram"
           }
          ],
          "histogram2d": [
           {
            "colorbar": {
             "outlinewidth": 0,
             "ticks": ""
            },
            "colorscale": [
             [
              0,
              "#0d0887"
             ],
             [
              0.1111111111111111,
              "#46039f"
             ],
             [
              0.2222222222222222,
              "#7201a8"
             ],
             [
              0.3333333333333333,
              "#9c179e"
             ],
             [
              0.4444444444444444,
              "#bd3786"
             ],
             [
              0.5555555555555556,
              "#d8576b"
             ],
             [
              0.6666666666666666,
              "#ed7953"
             ],
             [
              0.7777777777777778,
              "#fb9f3a"
             ],
             [
              0.8888888888888888,
              "#fdca26"
             ],
             [
              1,
              "#f0f921"
             ]
            ],
            "type": "histogram2d"
           }
          ],
          "histogram2dcontour": [
           {
            "colorbar": {
             "outlinewidth": 0,
             "ticks": ""
            },
            "colorscale": [
             [
              0,
              "#0d0887"
             ],
             [
              0.1111111111111111,
              "#46039f"
             ],
             [
              0.2222222222222222,
              "#7201a8"
             ],
             [
              0.3333333333333333,
              "#9c179e"
             ],
             [
              0.4444444444444444,
              "#bd3786"
             ],
             [
              0.5555555555555556,
              "#d8576b"
             ],
             [
              0.6666666666666666,
              "#ed7953"
             ],
             [
              0.7777777777777778,
              "#fb9f3a"
             ],
             [
              0.8888888888888888,
              "#fdca26"
             ],
             [
              1,
              "#f0f921"
             ]
            ],
            "type": "histogram2dcontour"
           }
          ],
          "mesh3d": [
           {
            "colorbar": {
             "outlinewidth": 0,
             "ticks": ""
            },
            "type": "mesh3d"
           }
          ],
          "parcoords": [
           {
            "line": {
             "colorbar": {
              "outlinewidth": 0,
              "ticks": ""
             }
            },
            "type": "parcoords"
           }
          ],
          "pie": [
           {
            "automargin": true,
            "type": "pie"
           }
          ],
          "scatter": [
           {
            "marker": {
             "colorbar": {
              "outlinewidth": 0,
              "ticks": ""
             }
            },
            "type": "scatter"
           }
          ],
          "scatter3d": [
           {
            "line": {
             "colorbar": {
              "outlinewidth": 0,
              "ticks": ""
             }
            },
            "marker": {
             "colorbar": {
              "outlinewidth": 0,
              "ticks": ""
             }
            },
            "type": "scatter3d"
           }
          ],
          "scattercarpet": [
           {
            "marker": {
             "colorbar": {
              "outlinewidth": 0,
              "ticks": ""
             }
            },
            "type": "scattercarpet"
           }
          ],
          "scattergeo": [
           {
            "marker": {
             "colorbar": {
              "outlinewidth": 0,
              "ticks": ""
             }
            },
            "type": "scattergeo"
           }
          ],
          "scattergl": [
           {
            "marker": {
             "colorbar": {
              "outlinewidth": 0,
              "ticks": ""
             }
            },
            "type": "scattergl"
           }
          ],
          "scattermapbox": [
           {
            "marker": {
             "colorbar": {
              "outlinewidth": 0,
              "ticks": ""
             }
            },
            "type": "scattermapbox"
           }
          ],
          "scatterpolar": [
           {
            "marker": {
             "colorbar": {
              "outlinewidth": 0,
              "ticks": ""
             }
            },
            "type": "scatterpolar"
           }
          ],
          "scatterpolargl": [
           {
            "marker": {
             "colorbar": {
              "outlinewidth": 0,
              "ticks": ""
             }
            },
            "type": "scatterpolargl"
           }
          ],
          "scatterternary": [
           {
            "marker": {
             "colorbar": {
              "outlinewidth": 0,
              "ticks": ""
             }
            },
            "type": "scatterternary"
           }
          ],
          "surface": [
           {
            "colorbar": {
             "outlinewidth": 0,
             "ticks": ""
            },
            "colorscale": [
             [
              0,
              "#0d0887"
             ],
             [
              0.1111111111111111,
              "#46039f"
             ],
             [
              0.2222222222222222,
              "#7201a8"
             ],
             [
              0.3333333333333333,
              "#9c179e"
             ],
             [
              0.4444444444444444,
              "#bd3786"
             ],
             [
              0.5555555555555556,
              "#d8576b"
             ],
             [
              0.6666666666666666,
              "#ed7953"
             ],
             [
              0.7777777777777778,
              "#fb9f3a"
             ],
             [
              0.8888888888888888,
              "#fdca26"
             ],
             [
              1,
              "#f0f921"
             ]
            ],
            "type": "surface"
           }
          ],
          "table": [
           {
            "cells": {
             "fill": {
              "color": "#EBF0F8"
             },
             "line": {
              "color": "white"
             }
            },
            "header": {
             "fill": {
              "color": "#C8D4E3"
             },
             "line": {
              "color": "white"
             }
            },
            "type": "table"
           }
          ]
         },
         "layout": {
          "annotationdefaults": {
           "arrowcolor": "#2a3f5f",
           "arrowhead": 0,
           "arrowwidth": 1
          },
          "autotypenumbers": "strict",
          "coloraxis": {
           "colorbar": {
            "outlinewidth": 0,
            "ticks": ""
           }
          },
          "colorscale": {
           "diverging": [
            [
             0,
             "#8e0152"
            ],
            [
             0.1,
             "#c51b7d"
            ],
            [
             0.2,
             "#de77ae"
            ],
            [
             0.3,
             "#f1b6da"
            ],
            [
             0.4,
             "#fde0ef"
            ],
            [
             0.5,
             "#f7f7f7"
            ],
            [
             0.6,
             "#e6f5d0"
            ],
            [
             0.7,
             "#b8e186"
            ],
            [
             0.8,
             "#7fbc41"
            ],
            [
             0.9,
             "#4d9221"
            ],
            [
             1,
             "#276419"
            ]
           ],
           "sequential": [
            [
             0,
             "#0d0887"
            ],
            [
             0.1111111111111111,
             "#46039f"
            ],
            [
             0.2222222222222222,
             "#7201a8"
            ],
            [
             0.3333333333333333,
             "#9c179e"
            ],
            [
             0.4444444444444444,
             "#bd3786"
            ],
            [
             0.5555555555555556,
             "#d8576b"
            ],
            [
             0.6666666666666666,
             "#ed7953"
            ],
            [
             0.7777777777777778,
             "#fb9f3a"
            ],
            [
             0.8888888888888888,
             "#fdca26"
            ],
            [
             1,
             "#f0f921"
            ]
           ],
           "sequentialminus": [
            [
             0,
             "#0d0887"
            ],
            [
             0.1111111111111111,
             "#46039f"
            ],
            [
             0.2222222222222222,
             "#7201a8"
            ],
            [
             0.3333333333333333,
             "#9c179e"
            ],
            [
             0.4444444444444444,
             "#bd3786"
            ],
            [
             0.5555555555555556,
             "#d8576b"
            ],
            [
             0.6666666666666666,
             "#ed7953"
            ],
            [
             0.7777777777777778,
             "#fb9f3a"
            ],
            [
             0.8888888888888888,
             "#fdca26"
            ],
            [
             1,
             "#f0f921"
            ]
           ]
          },
          "colorway": [
           "#636efa",
           "#EF553B",
           "#00cc96",
           "#ab63fa",
           "#FFA15A",
           "#19d3f3",
           "#FF6692",
           "#B6E880",
           "#FF97FF",
           "#FECB52"
          ],
          "font": {
           "color": "#2a3f5f"
          },
          "geo": {
           "bgcolor": "white",
           "lakecolor": "white",
           "landcolor": "#E5ECF6",
           "showlakes": true,
           "showland": true,
           "subunitcolor": "white"
          },
          "hoverlabel": {
           "align": "left"
          },
          "hovermode": "closest",
          "mapbox": {
           "style": "light"
          },
          "paper_bgcolor": "white",
          "plot_bgcolor": "#E5ECF6",
          "polar": {
           "angularaxis": {
            "gridcolor": "white",
            "linecolor": "white",
            "ticks": ""
           },
           "bgcolor": "#E5ECF6",
           "radialaxis": {
            "gridcolor": "white",
            "linecolor": "white",
            "ticks": ""
           }
          },
          "scene": {
           "xaxis": {
            "backgroundcolor": "#E5ECF6",
            "gridcolor": "white",
            "gridwidth": 2,
            "linecolor": "white",
            "showbackground": true,
            "ticks": "",
            "zerolinecolor": "white"
           },
           "yaxis": {
            "backgroundcolor": "#E5ECF6",
            "gridcolor": "white",
            "gridwidth": 2,
            "linecolor": "white",
            "showbackground": true,
            "ticks": "",
            "zerolinecolor": "white"
           },
           "zaxis": {
            "backgroundcolor": "#E5ECF6",
            "gridcolor": "white",
            "gridwidth": 2,
            "linecolor": "white",
            "showbackground": true,
            "ticks": "",
            "zerolinecolor": "white"
           }
          },
          "shapedefaults": {
           "line": {
            "color": "#2a3f5f"
           }
          },
          "ternary": {
           "aaxis": {
            "gridcolor": "white",
            "linecolor": "white",
            "ticks": ""
           },
           "baxis": {
            "gridcolor": "white",
            "linecolor": "white",
            "ticks": ""
           },
           "bgcolor": "#E5ECF6",
           "caxis": {
            "gridcolor": "white",
            "linecolor": "white",
            "ticks": ""
           }
          },
          "title": {
           "x": 0.05
          },
          "xaxis": {
           "automargin": true,
           "gridcolor": "white",
           "linecolor": "white",
           "ticks": "",
           "title": {
            "standoff": 15
           },
           "zerolinecolor": "white",
           "zerolinewidth": 2
          },
          "yaxis": {
           "automargin": true,
           "gridcolor": "white",
           "linecolor": "white",
           "ticks": "",
           "title": {
            "standoff": 15
           },
           "zerolinecolor": "white",
           "zerolinewidth": 2
          }
         }
        },
        "title": {
         "x": 0.85,
         "y": 0.97
        }
       }
      },
      "text/html": [
       "<div>                            <div id=\"5bf0c389-a2d9-47d7-b8c7-d722ab2a96c5\" class=\"plotly-graph-div\" style=\"height:525px; width:100%;\"></div>            <script type=\"text/javascript\">                require([\"plotly\"], function(Plotly) {                    window.PLOTLYENV=window.PLOTLYENV || {};                                    if (document.getElementById(\"5bf0c389-a2d9-47d7-b8c7-d722ab2a96c5\")) {                    Plotly.newPlot(                        \"5bf0c389-a2d9-47d7-b8c7-d722ab2a96c5\",                        [{\"geo\":\"geo\",\"hovertemplate\":\"<b>%{hovertext}</b><br><br>glacier type=alpine<br>latitude=%{lat}<br>longitude=%{lon}<extra></extra>\",\"hovertext\":[null,\"Alaska\",\"Switzerland \",\"Switzerland\",\"Switzerland\",\"Tajikistan\",\"Switzerland\",\"Switzerland\",\"Canada\",null,\"New Zealand\",\"Kyrgzstan\",\"Switzerland\",null,null,\"Switzerland\",\"Switzerland\",null,\"France\",\"Chile\",\"Chile\",\"Chile\",\"Chile\",\"Sweden\",\"Norway\",\"Oceania\",\"Romania \",\"Canada\",\"Switzerland\",\"Austria\",\"USA\",\"Nepal\",\"Nepal\",\"Nepal\",\"Nepal\",\"Pakistan / China\",\"India\",\"India\",\"India\"],\"lat\":[42.053637,61.025612,46.00489182,46.1167,46.108,38.2717,46.0517,46.6463,51.73558,null,-77.7257,41.999721,46.6067,35.349657,null,45.9767,46.0054,39.324543,42.77138606,-46.7631,-48.1348,-49.2847,-50.9961,67.883963,62.02684916,-43.4607,45.3707,51.75,46.02,46.8646,40.024,27.91432857,27.97887017,27.98969485,28.62910331,35.75759598,30.75030775,32.16616503,32.25],\"legendgroup\":\"alpine\",\"lon\":[-70.407176,145.676638,7.53182399,7.3819,7.0921,72.0036,7.5153,8.2547,-119.45687,null,166.5667,77.485747,8.3311,74.622584,null,7.5625,7.7457,69.395205,0.1389479731,-73.8184,-73.4278,-74.8149,-73.6558,18.563019,4.986754408,170.1861,22.9043,-125.0975,7.5768,10.9789,-105.6479,86.95457935,86.83426258,86.69017139,84.0350565,76.61689772,79.36068427,77.68743651,77.36],\"marker\":{\"color\":\"#636efa\",\"symbol\":\"circle\"},\"mode\":\"markers\",\"name\":\"alpine\",\"showlegend\":true,\"type\":\"scattergeo\"},{\"geo\":\"geo\",\"hovertemplate\":\"<b>%{hovertext}</b><br><br>glacier type=continental <br>latitude=%{lat}<br>longitude=%{lon}<extra></extra>\",\"hovertext\":[\"Antarctica\",\"Antarctica\",\"Antarctica\",\"Antarctica\",\"Antarctica\",\"Antarctica\",\"Antarctica\",\"Antarctica\",\"Antarctica\",\"Antarctica\",\"Antarctica\",\"Antarctica\",\"Antarctica\",\"Antarctica\",\"Antarctica\",\"Norway\",\"Norway\",\"Norway\",\"Norway\",\"Norway\",\"Norway\",\"Greenland\",\"Greenland\",\"Greenland\",\"Antarctica\",\"Greenland\",\"Greenland\",\"Antarctica\",\"Greenland\",\"Antarctica\",\"Greenland\",\"Greenland\",\"Greenland\",\"Greenland\",\"Antarctica\",\"Antarctica\",\"Greenland\",\"Greenland\",\"Iceland\",\"Antarctica\",\"Antarctica\",\"Antarctica\",\"Antarctica\",\"Antarctica\",\"Antarctica\",\"Antarctica\",\"Antarctica\",\"Antarctica\",\"Antarctica\",\"USA\",\"Antarctica\"],\"lat\":[64.833333,65.4,62.2,63.3,64.2,62.5,63.4,62.2,62.1,62.2,62.2,62.2,67.5,-82.417412,-82.417412,63.115325,63.115325,63.115325,63.115325,63.115325,63.115325,72.5,72.5,72.5,-67.65,69.2167,67.011,-64.87,79.7067,-64.95,66.7422,80.0167,69.2167,80.500379,-74.8386,-74.7039,69.2167,69.2167,64.153316,-65.0167,-65.3333,-65.6167,-65.5667,-65.5,-64.9333,-64.6667,-64.3333,-64.167133,-80.5,43.7844,-78.241632],\"legendgroup\":\"continental \",\"lon\":[62.65,64.4,58.9,57.9,56.7,59.7,57.0,58.9,58.4,58.7,58.6,59.0,68.1,59.153452,59.153452,19.052897,19.052897,19.052897,19.052897,19.052897,19.052897,-38.45,-38.45,-38.45,-62.7167,-49.9857,-50.72,-63.065,21.6183,-62.6167,-53.5639,-21.0,-49.9857,-59.513389,-113.4006,-110.5393,-49.9857,-49.9857,-16.408583,-62.9667,-63.9667,-63.7833,-63.7667,-63.6667,-62.5833,-61.6333,-60.9667,-60.799957,76.0,-88.7879,162.5167],\"marker\":{\"color\":\"#EF553B\",\"symbol\":\"circle\"},\"mode\":\"markers\",\"name\":\"continental \",\"showlegend\":true,\"type\":\"scattergeo\"},{\"geo\":\"geo\",\"hovertemplate\":\"<b>%{hovertext}</b><br><br>glacier type=high-latitude<br>latitude=%{lat}<br>longitude=%{lon}<extra></extra>\",\"hovertext\":[\"Norway\",\"Norway\",\"Norway\",\"Norway\",\"Norway\",\"Canada\",\"USA\",\"USA\",\"Canada\",\"USA\",\"Norway\",\"Norway\",\"Norway\",\"Chile\",\"Norway\",\"USA\",\"USA\",\"Chile\",\"Norway\",\"Norway\",\"USA\",\"USA\",\"USA\",\"Iceland\",\"Norway\",\"USA\",\"USA\",\"USA\",\"USA\",\"USA\",\"Norway\",\"Canada\",\"USA\",\"Chile\",\"Norway\",\"Norway\",\"Norway\",\"Norway\",\"Norway\",\"Canada\",\"Norway\",\"USA\",\"Norway\",\"Norway\",\"Iceland\",\"Antarctica\",\"Canada\"],\"lat\":[78.909899,61.58279662,60.9824,60.006,78.1775,71.5,58.88484749,60.677363,56.27709688,58.664284,67.8556,61.641,78.1746,-50.8503,78.2934,58.7439,58.7439,-47.6358,78.1993,78.1947,58.7961,59.0894,59.8667,65.25,78.2562,58.9182,60.1617,58.8673,58.7633,58.9269,61.5792,66.448953,58.372,-46.6071,61.5652,78.0956,78.0587,61.5136,61.4456,70.9489,61.2871,59.7683,60.69,61.775,65.776303,-62.2167,69.996888],\"legendgroup\":\"high-latitude\",\"lon\":[11.808299,8.322754909,7.2265,6.551,15.6536,-74.5,-136.7033826,-144.692183,-134.2629679,-137.165228,15.5942,7.7698,15.5514,-73.9472,16.4094,-137.0567,-137.0567,-72.8425,16.1172,15.62,-139.2629,-141.7181,-139.7273,-14.0,15.5117,-137.5269,-140.2225,-137.1467,-136.5567,-133.9081,7.3147,-65.642054,-133.9612,-74.0377,6.3602,15.7331,15.7446,7.2647,7.1814,-71.1574,7.9121,-138.0064,6.6792,6.92,-22.394883,-58.6667,-73.515814],\"marker\":{\"color\":\"#00cc96\",\"symbol\":\"circle\"},\"mode\":\"markers\",\"name\":\"high-latitude\",\"showlegend\":true,\"type\":\"scattergeo\"},{\"geo\":\"geo\",\"hovertemplate\":\"<b>%{hovertext}</b><br><br>glacier type=outlet/tidewater<br>latitude=%{lat}<br>longitude=%{lon}<extra></extra>\",\"hovertext\":[\"Antarctica\"],\"lat\":[-75.2536],\"legendgroup\":\"outlet/tidewater\",\"lon\":[-100.8701],\"marker\":{\"color\":\"#ab63fa\",\"symbol\":\"circle\"},\"mode\":\"markers\",\"name\":\"outlet/tidewater\",\"showlegend\":true,\"type\":\"scattergeo\"},{\"geo\":\"geo\",\"hovertemplate\":\"<b>%{hovertext}</b><br><br>glacier type=idk<br>latitude=%{lat}<br>longitude=%{lon}<extra></extra>\",\"hovertext\":[\"United Kingdom\",\"USA\",\"USA\",\"USA\",\"USA\",\"Norway\",\"USA\",\"USA\",\"United Kingdom\",\"Switzerland\",\"Switzerland\",\"Norway\",\"Norway\",\"Switzerland\",\"USA\",\"Switzerland\",\"Canada\",\"Antarctica\",\"Switzerland\",\"USA\",\"Canada\",\"United Kingdom\",\"United Kingdom\",null,\"Norway\",\"Antarctica\",null,\"Chile\",null,null,null,null,null,null,null,null,null,null,null,null,null,null,null,null,null,null,null,null,null,null,null,null,null,null,null,null,null,null,null,null,null,null,null,null,null,null,null,null,null,null,null,null,null,null,\"USA\",\"USA\",\"USA\",\"France \",\"Romania \",\"France\",\"France\",null,null,null,null,null,null,null,null,null,null,null,null,null,null,null,null,null],\"lat\":[57.06139676,60.264489,60.79846825,49.03568012,60.264489,62.280108,61.16691422,60.73546071,57.16010155,46.9065511,46.621603,62.280108,77.560083,47.12263975,61.599909,45.991436,51.408872,-77.49563435,46.66459966,60.79846825,51.33574375,53.344304,53.344304,67.18026,62.280108,-84.998777,0.385404,-54.53373,60.498286,55.0,55.0,-76.983656,-76.983656,59.56226,-62.250719,-63.395005,-64.450573,-64.569369,-64.811363,-65.033333,-65.5,44.116796,67.18026,61.125862,55.0,55.0,58.871742,55.0,55.0,-80.50029,-75.0,-78.712118,-73.0,37.870767,-47.485063,61.115029,72.118069,66.666128,67.836118,67.836118,-79.0,28.584358,-46.513391,28.696444,28.696444,28.696444,67.246026,50.791846,46.319664,44.04642,44.04642,63.749893,60.4266,36.564906,60.1755,44.167573,43.894524,45.866053,null,45.42881,44.73733035,null,null,null,null,null,null,null,null,null,null,null,null,null,null,null,null,null],\"legendgroup\":\"idk\",\"lon\":[-3.606056445,-139.109146,-141.0979521,-122.7136664,-139.109146,8.689881,-145.3332904,-139.2350794,-3.823192313,9.157197405,8.403988,8.689881,15.484531,9.20298192,-143.069508,7.494765,-125.809366,162.3524686,8.370379538,-141.0979521,-125.2697642,-1.878177,-1.878177,25.405849,8.689881,-160.002447,29.870036,-69.572074,-139.505558,-85.0,-85.0,161.526477,161.526477,-64.385925,-58.852747,-57.063033,-63.450171,-61.68087,-62.633288,-63.333333,-64.0,7.112985,25.405849,6.52565,-85.0,-85.0,-136.119771,-85.0,-85.0,-25.000236,-111.0,-85.160098,68.0,-119.377658,-73.411058,6.492124,-76.801167,13.895307,15.039829,15.039829,-80.0,83.988838,-72.037582,84.166468,84.166468,84.166468,-49.819624,-124.002932,7.226476,7.005572,7.005572,18.154398,18.186,74.614401,-141.157701,-123.582359,-71.603108,6.859297,null,6.807004,6.816441724,null,null,null,null,null,null,null,null,null,null,null,null,null,null,null,null,null],\"marker\":{\"color\":\"#FFA15A\",\"symbol\":\"circle\"},\"mode\":\"markers\",\"name\":\"idk\",\"showlegend\":true,\"type\":\"scattergeo\"}],                        {\"template\":{\"data\":{\"bar\":[{\"error_x\":{\"color\":\"#2a3f5f\"},\"error_y\":{\"color\":\"#2a3f5f\"},\"marker\":{\"line\":{\"color\":\"#E5ECF6\",\"width\":0.5},\"pattern\":{\"fillmode\":\"overlay\",\"size\":10,\"solidity\":0.2}},\"type\":\"bar\"}],\"barpolar\":[{\"marker\":{\"line\":{\"color\":\"#E5ECF6\",\"width\":0.5},\"pattern\":{\"fillmode\":\"overlay\",\"size\":10,\"solidity\":0.2}},\"type\":\"barpolar\"}],\"carpet\":[{\"aaxis\":{\"endlinecolor\":\"#2a3f5f\",\"gridcolor\":\"white\",\"linecolor\":\"white\",\"minorgridcolor\":\"white\",\"startlinecolor\":\"#2a3f5f\"},\"baxis\":{\"endlinecolor\":\"#2a3f5f\",\"gridcolor\":\"white\",\"linecolor\":\"white\",\"minorgridcolor\":\"white\",\"startlinecolor\":\"#2a3f5f\"},\"type\":\"carpet\"}],\"choropleth\":[{\"colorbar\":{\"outlinewidth\":0,\"ticks\":\"\"},\"type\":\"choropleth\"}],\"contour\":[{\"colorbar\":{\"outlinewidth\":0,\"ticks\":\"\"},\"colorscale\":[[0.0,\"#0d0887\"],[0.1111111111111111,\"#46039f\"],[0.2222222222222222,\"#7201a8\"],[0.3333333333333333,\"#9c179e\"],[0.4444444444444444,\"#bd3786\"],[0.5555555555555556,\"#d8576b\"],[0.6666666666666666,\"#ed7953\"],[0.7777777777777778,\"#fb9f3a\"],[0.8888888888888888,\"#fdca26\"],[1.0,\"#f0f921\"]],\"type\":\"contour\"}],\"contourcarpet\":[{\"colorbar\":{\"outlinewidth\":0,\"ticks\":\"\"},\"type\":\"contourcarpet\"}],\"heatmap\":[{\"colorbar\":{\"outlinewidth\":0,\"ticks\":\"\"},\"colorscale\":[[0.0,\"#0d0887\"],[0.1111111111111111,\"#46039f\"],[0.2222222222222222,\"#7201a8\"],[0.3333333333333333,\"#9c179e\"],[0.4444444444444444,\"#bd3786\"],[0.5555555555555556,\"#d8576b\"],[0.6666666666666666,\"#ed7953\"],[0.7777777777777778,\"#fb9f3a\"],[0.8888888888888888,\"#fdca26\"],[1.0,\"#f0f921\"]],\"type\":\"heatmap\"}],\"heatmapgl\":[{\"colorbar\":{\"outlinewidth\":0,\"ticks\":\"\"},\"colorscale\":[[0.0,\"#0d0887\"],[0.1111111111111111,\"#46039f\"],[0.2222222222222222,\"#7201a8\"],[0.3333333333333333,\"#9c179e\"],[0.4444444444444444,\"#bd3786\"],[0.5555555555555556,\"#d8576b\"],[0.6666666666666666,\"#ed7953\"],[0.7777777777777778,\"#fb9f3a\"],[0.8888888888888888,\"#fdca26\"],[1.0,\"#f0f921\"]],\"type\":\"heatmapgl\"}],\"histogram\":[{\"marker\":{\"pattern\":{\"fillmode\":\"overlay\",\"size\":10,\"solidity\":0.2}},\"type\":\"histogram\"}],\"histogram2d\":[{\"colorbar\":{\"outlinewidth\":0,\"ticks\":\"\"},\"colorscale\":[[0.0,\"#0d0887\"],[0.1111111111111111,\"#46039f\"],[0.2222222222222222,\"#7201a8\"],[0.3333333333333333,\"#9c179e\"],[0.4444444444444444,\"#bd3786\"],[0.5555555555555556,\"#d8576b\"],[0.6666666666666666,\"#ed7953\"],[0.7777777777777778,\"#fb9f3a\"],[0.8888888888888888,\"#fdca26\"],[1.0,\"#f0f921\"]],\"type\":\"histogram2d\"}],\"histogram2dcontour\":[{\"colorbar\":{\"outlinewidth\":0,\"ticks\":\"\"},\"colorscale\":[[0.0,\"#0d0887\"],[0.1111111111111111,\"#46039f\"],[0.2222222222222222,\"#7201a8\"],[0.3333333333333333,\"#9c179e\"],[0.4444444444444444,\"#bd3786\"],[0.5555555555555556,\"#d8576b\"],[0.6666666666666666,\"#ed7953\"],[0.7777777777777778,\"#fb9f3a\"],[0.8888888888888888,\"#fdca26\"],[1.0,\"#f0f921\"]],\"type\":\"histogram2dcontour\"}],\"mesh3d\":[{\"colorbar\":{\"outlinewidth\":0,\"ticks\":\"\"},\"type\":\"mesh3d\"}],\"parcoords\":[{\"line\":{\"colorbar\":{\"outlinewidth\":0,\"ticks\":\"\"}},\"type\":\"parcoords\"}],\"pie\":[{\"automargin\":true,\"type\":\"pie\"}],\"scatter\":[{\"marker\":{\"colorbar\":{\"outlinewidth\":0,\"ticks\":\"\"}},\"type\":\"scatter\"}],\"scatter3d\":[{\"line\":{\"colorbar\":{\"outlinewidth\":0,\"ticks\":\"\"}},\"marker\":{\"colorbar\":{\"outlinewidth\":0,\"ticks\":\"\"}},\"type\":\"scatter3d\"}],\"scattercarpet\":[{\"marker\":{\"colorbar\":{\"outlinewidth\":0,\"ticks\":\"\"}},\"type\":\"scattercarpet\"}],\"scattergeo\":[{\"marker\":{\"colorbar\":{\"outlinewidth\":0,\"ticks\":\"\"}},\"type\":\"scattergeo\"}],\"scattergl\":[{\"marker\":{\"colorbar\":{\"outlinewidth\":0,\"ticks\":\"\"}},\"type\":\"scattergl\"}],\"scattermapbox\":[{\"marker\":{\"colorbar\":{\"outlinewidth\":0,\"ticks\":\"\"}},\"type\":\"scattermapbox\"}],\"scatterpolar\":[{\"marker\":{\"colorbar\":{\"outlinewidth\":0,\"ticks\":\"\"}},\"type\":\"scatterpolar\"}],\"scatterpolargl\":[{\"marker\":{\"colorbar\":{\"outlinewidth\":0,\"ticks\":\"\"}},\"type\":\"scatterpolargl\"}],\"scatterternary\":[{\"marker\":{\"colorbar\":{\"outlinewidth\":0,\"ticks\":\"\"}},\"type\":\"scatterternary\"}],\"surface\":[{\"colorbar\":{\"outlinewidth\":0,\"ticks\":\"\"},\"colorscale\":[[0.0,\"#0d0887\"],[0.1111111111111111,\"#46039f\"],[0.2222222222222222,\"#7201a8\"],[0.3333333333333333,\"#9c179e\"],[0.4444444444444444,\"#bd3786\"],[0.5555555555555556,\"#d8576b\"],[0.6666666666666666,\"#ed7953\"],[0.7777777777777778,\"#fb9f3a\"],[0.8888888888888888,\"#fdca26\"],[1.0,\"#f0f921\"]],\"type\":\"surface\"}],\"table\":[{\"cells\":{\"fill\":{\"color\":\"#EBF0F8\"},\"line\":{\"color\":\"white\"}},\"header\":{\"fill\":{\"color\":\"#C8D4E3\"},\"line\":{\"color\":\"white\"}},\"type\":\"table\"}]},\"layout\":{\"annotationdefaults\":{\"arrowcolor\":\"#2a3f5f\",\"arrowhead\":0,\"arrowwidth\":1},\"autotypenumbers\":\"strict\",\"coloraxis\":{\"colorbar\":{\"outlinewidth\":0,\"ticks\":\"\"}},\"colorscale\":{\"diverging\":[[0,\"#8e0152\"],[0.1,\"#c51b7d\"],[0.2,\"#de77ae\"],[0.3,\"#f1b6da\"],[0.4,\"#fde0ef\"],[0.5,\"#f7f7f7\"],[0.6,\"#e6f5d0\"],[0.7,\"#b8e186\"],[0.8,\"#7fbc41\"],[0.9,\"#4d9221\"],[1,\"#276419\"]],\"sequential\":[[0.0,\"#0d0887\"],[0.1111111111111111,\"#46039f\"],[0.2222222222222222,\"#7201a8\"],[0.3333333333333333,\"#9c179e\"],[0.4444444444444444,\"#bd3786\"],[0.5555555555555556,\"#d8576b\"],[0.6666666666666666,\"#ed7953\"],[0.7777777777777778,\"#fb9f3a\"],[0.8888888888888888,\"#fdca26\"],[1.0,\"#f0f921\"]],\"sequentialminus\":[[0.0,\"#0d0887\"],[0.1111111111111111,\"#46039f\"],[0.2222222222222222,\"#7201a8\"],[0.3333333333333333,\"#9c179e\"],[0.4444444444444444,\"#bd3786\"],[0.5555555555555556,\"#d8576b\"],[0.6666666666666666,\"#ed7953\"],[0.7777777777777778,\"#fb9f3a\"],[0.8888888888888888,\"#fdca26\"],[1.0,\"#f0f921\"]]},\"colorway\":[\"#636efa\",\"#EF553B\",\"#00cc96\",\"#ab63fa\",\"#FFA15A\",\"#19d3f3\",\"#FF6692\",\"#B6E880\",\"#FF97FF\",\"#FECB52\"],\"font\":{\"color\":\"#2a3f5f\"},\"geo\":{\"bgcolor\":\"white\",\"lakecolor\":\"white\",\"landcolor\":\"#E5ECF6\",\"showlakes\":true,\"showland\":true,\"subunitcolor\":\"white\"},\"hoverlabel\":{\"align\":\"left\"},\"hovermode\":\"closest\",\"mapbox\":{\"style\":\"light\"},\"paper_bgcolor\":\"white\",\"plot_bgcolor\":\"#E5ECF6\",\"polar\":{\"angularaxis\":{\"gridcolor\":\"white\",\"linecolor\":\"white\",\"ticks\":\"\"},\"bgcolor\":\"#E5ECF6\",\"radialaxis\":{\"gridcolor\":\"white\",\"linecolor\":\"white\",\"ticks\":\"\"}},\"scene\":{\"xaxis\":{\"backgroundcolor\":\"#E5ECF6\",\"gridcolor\":\"white\",\"gridwidth\":2,\"linecolor\":\"white\",\"showbackground\":true,\"ticks\":\"\",\"zerolinecolor\":\"white\"},\"yaxis\":{\"backgroundcolor\":\"#E5ECF6\",\"gridcolor\":\"white\",\"gridwidth\":2,\"linecolor\":\"white\",\"showbackground\":true,\"ticks\":\"\",\"zerolinecolor\":\"white\"},\"zaxis\":{\"backgroundcolor\":\"#E5ECF6\",\"gridcolor\":\"white\",\"gridwidth\":2,\"linecolor\":\"white\",\"showbackground\":true,\"ticks\":\"\",\"zerolinecolor\":\"white\"}},\"shapedefaults\":{\"line\":{\"color\":\"#2a3f5f\"}},\"ternary\":{\"aaxis\":{\"gridcolor\":\"white\",\"linecolor\":\"white\",\"ticks\":\"\"},\"baxis\":{\"gridcolor\":\"white\",\"linecolor\":\"white\",\"ticks\":\"\"},\"bgcolor\":\"#E5ECF6\",\"caxis\":{\"gridcolor\":\"white\",\"linecolor\":\"white\",\"ticks\":\"\"}},\"title\":{\"x\":0.05},\"xaxis\":{\"automargin\":true,\"gridcolor\":\"white\",\"linecolor\":\"white\",\"ticks\":\"\",\"title\":{\"standoff\":15},\"zerolinecolor\":\"white\",\"zerolinewidth\":2},\"yaxis\":{\"automargin\":true,\"gridcolor\":\"white\",\"linecolor\":\"white\",\"ticks\":\"\",\"title\":{\"standoff\":15},\"zerolinecolor\":\"white\",\"zerolinewidth\":2}}},\"geo\":{\"domain\":{\"x\":[0.0,1.0],\"y\":[0.0,1.0]},\"projection\":{\"type\":\"equirectangular\"},\"center\":{},\"scope\":\"world\"},\"legend\":{\"title\":{\"text\":\"glacier type\"},\"tracegroupgap\":0},\"margin\":{\"t\":30,\"r\":0,\"l\":0,\"b\":10},\"title\":{\"x\":0.85,\"y\":0.97}},                        {\"responsive\": true}                    ).then(function(){\n",
       "                            \n",
       "var gd = document.getElementById('5bf0c389-a2d9-47d7-b8c7-d722ab2a96c5');\n",
       "var x = new MutationObserver(function (mutations, observer) {{\n",
       "        var display = window.getComputedStyle(gd).display;\n",
       "        if (!display || display === 'none') {{\n",
       "            console.log([gd, 'removed!']);\n",
       "            Plotly.purge(gd);\n",
       "            observer.disconnect();\n",
       "        }}\n",
       "}});\n",
       "\n",
       "// Listen for the removal of the full notebook cells\n",
       "var notebookContainer = gd.closest('#notebook-container');\n",
       "if (notebookContainer) {{\n",
       "    x.observe(notebookContainer, {childList: true});\n",
       "}}\n",
       "\n",
       "// Listen for the clearing of the current output cell\n",
       "var outputEl = gd.closest('.output');\n",
       "if (outputEl) {{\n",
       "    x.observe(outputEl, {childList: true});\n",
       "}}\n",
       "\n",
       "                        })                };                });            </script>        </div>"
      ]
     },
     "metadata": {},
     "output_type": "display_data"
    }
   ],
   "source": [
    "proj = 'equirectangular'\n",
    "# proj = 'orthographic'\n",
    "# proj = 'robinson'\n",
    "# proj = 'mollweide'\n",
    "# proj = 'winkel tripel'\n",
    "# proj = 'sinusoidal'\n",
    "\n",
    "fig = best_map_ever(world, projection=proj, scope='world') \n",
    "fig.show()"
   ]
  },
  {
   "cell_type": "code",
   "execution_count": null,
   "id": "cda5a2f9",
   "metadata": {},
   "outputs": [],
   "source": []
  }
 ],
 "metadata": {
  "kernelspec": {
   "display_name": "Python [conda env:root] *",
   "language": "python",
   "name": "conda-root-py"
  },
  "language_info": {
   "codemirror_mode": {
    "name": "ipython",
    "version": 3
   },
   "file_extension": ".py",
   "mimetype": "text/x-python",
   "name": "python",
   "nbconvert_exporter": "python",
   "pygments_lexer": "ipython3",
   "version": "3.9.12"
  }
 },
 "nbformat": 4,
 "nbformat_minor": 5
}
